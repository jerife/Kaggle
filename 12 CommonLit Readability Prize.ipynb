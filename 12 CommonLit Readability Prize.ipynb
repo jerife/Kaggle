{
 "cells": [
  {
   "cell_type": "markdown",
   "id": "54d6d851",
   "metadata": {
    "papermill": {
     "duration": 0.017633,
     "end_time": "2021-08-05T13:36:17.138469",
     "exception": false,
     "start_time": "2021-08-05T13:36:17.120836",
     "status": "completed"
    },
    "tags": []
   },
   "source": [
    "# CommonLit Readability Prize"
   ]
  },
  {
   "cell_type": "markdown",
   "id": "9ec7eaa2",
   "metadata": {
    "papermill": {
     "duration": 0.016746,
     "end_time": "2021-08-05T13:36:17.171985",
     "exception": false,
     "start_time": "2021-08-05T13:36:17.155239",
     "status": "completed"
    },
    "tags": []
   },
   "source": [
    "***\n",
    "## My Workflow\n",
    "\n",
    "#### 1. Import & Install libray\n",
    "#### 2. Check out my data\n",
    "#### 3. Preproccessing data\n",
    "#### 4. Feature Engineering\n",
    "#### 5. Define Model\n",
    "#### 6. Evaluate\n",
    "#### 7. Submission"
   ]
  },
  {
   "cell_type": "markdown",
   "id": "fdf2f088",
   "metadata": {
    "papermill": {
     "duration": 0.016757,
     "end_time": "2021-08-05T13:36:17.205185",
     "exception": false,
     "start_time": "2021-08-05T13:36:17.188428",
     "status": "completed"
    },
    "tags": []
   },
   "source": [
    "# 1. Import & Install libray"
   ]
  },
  {
   "cell_type": "code",
   "execution_count": 1,
   "id": "66d97f3f",
   "metadata": {
    "execution": {
     "iopub.execute_input": "2021-08-05T13:36:17.250985Z",
     "iopub.status.busy": "2021-08-05T13:36:17.250380Z",
     "iopub.status.idle": "2021-08-05T13:36:23.573256Z",
     "shell.execute_reply": "2021-08-05T13:36:23.572575Z",
     "shell.execute_reply.started": "2021-08-05T13:34:20.153715Z"
    },
    "papermill": {
     "duration": 6.351019,
     "end_time": "2021-08-05T13:36:23.573407",
     "exception": false,
     "start_time": "2021-08-05T13:36:17.222388",
     "status": "completed"
    },
    "tags": []
   },
   "outputs": [],
   "source": [
    "import numpy as np\n",
    "import pandas as pd\n",
    "import math\n",
    "import time\n",
    "import gc\n",
    "\n",
    "import torch\n",
    "import torch.nn as nn\n",
    "import torch.optim as optim\n",
    "\n",
    "from torch.utils.data import Dataset\n",
    "from torch.utils.data import DataLoader\n",
    "\n",
    "from transformers import AutoTokenizer\n",
    "from transformers import AutoModel\n",
    "from transformers import AutoConfig"
   ]
  },
  {
   "cell_type": "markdown",
   "id": "60f044bc",
   "metadata": {
    "papermill": {
     "duration": 0.019486,
     "end_time": "2021-08-05T13:36:23.612695",
     "exception": false,
     "start_time": "2021-08-05T13:36:23.593209",
     "status": "completed"
    },
    "tags": []
   },
   "source": [
    "# 2. Check out my data"
   ]
  },
  {
   "cell_type": "code",
   "execution_count": 2,
   "id": "b4c1be6c",
   "metadata": {
    "execution": {
     "iopub.execute_input": "2021-08-05T13:36:23.652521Z",
     "iopub.status.busy": "2021-08-05T13:36:23.651975Z",
     "iopub.status.idle": "2021-08-05T13:36:23.687954Z",
     "shell.execute_reply": "2021-08-05T13:36:23.688419Z",
     "shell.execute_reply.started": "2021-08-05T13:34:26.732525Z"
    },
    "papermill": {
     "duration": 0.058335,
     "end_time": "2021-08-05T13:36:23.688558",
     "exception": false,
     "start_time": "2021-08-05T13:36:23.630223",
     "status": "completed"
    },
    "tags": []
   },
   "outputs": [
    {
     "data": {
      "text/html": [
       "<div>\n",
       "<style scoped>\n",
       "    .dataframe tbody tr th:only-of-type {\n",
       "        vertical-align: middle;\n",
       "    }\n",
       "\n",
       "    .dataframe tbody tr th {\n",
       "        vertical-align: top;\n",
       "    }\n",
       "\n",
       "    .dataframe thead th {\n",
       "        text-align: right;\n",
       "    }\n",
       "</style>\n",
       "<table border=\"1\" class=\"dataframe\">\n",
       "  <thead>\n",
       "    <tr style=\"text-align: right;\">\n",
       "      <th></th>\n",
       "      <th>id</th>\n",
       "      <th>url_legal</th>\n",
       "      <th>license</th>\n",
       "      <th>excerpt</th>\n",
       "    </tr>\n",
       "  </thead>\n",
       "  <tbody>\n",
       "    <tr>\n",
       "      <th>0</th>\n",
       "      <td>c0f722661</td>\n",
       "      <td>NaN</td>\n",
       "      <td>NaN</td>\n",
       "      <td>My hope lay in Jack's promise that he would ke...</td>\n",
       "    </tr>\n",
       "    <tr>\n",
       "      <th>1</th>\n",
       "      <td>f0953f0a5</td>\n",
       "      <td>NaN</td>\n",
       "      <td>NaN</td>\n",
       "      <td>Dotty continued to go to Mrs. Gray's every nig...</td>\n",
       "    </tr>\n",
       "    <tr>\n",
       "      <th>2</th>\n",
       "      <td>0df072751</td>\n",
       "      <td>NaN</td>\n",
       "      <td>NaN</td>\n",
       "      <td>It was a bright and cheerful scene that greete...</td>\n",
       "    </tr>\n",
       "    <tr>\n",
       "      <th>3</th>\n",
       "      <td>04caf4e0c</td>\n",
       "      <td>https://en.wikipedia.org/wiki/Cell_division</td>\n",
       "      <td>CC BY-SA 3.0</td>\n",
       "      <td>Cell division is the process by which a parent...</td>\n",
       "    </tr>\n",
       "    <tr>\n",
       "      <th>4</th>\n",
       "      <td>0e63f8bea</td>\n",
       "      <td>https://en.wikipedia.org/wiki/Debugging</td>\n",
       "      <td>CC BY-SA 3.0</td>\n",
       "      <td>Debugging is the process of finding and resolv...</td>\n",
       "    </tr>\n",
       "  </tbody>\n",
       "</table>\n",
       "</div>"
      ],
      "text/plain": [
       "          id                                    url_legal       license  \\\n",
       "0  c0f722661                                          NaN           NaN   \n",
       "1  f0953f0a5                                          NaN           NaN   \n",
       "2  0df072751                                          NaN           NaN   \n",
       "3  04caf4e0c  https://en.wikipedia.org/wiki/Cell_division  CC BY-SA 3.0   \n",
       "4  0e63f8bea      https://en.wikipedia.org/wiki/Debugging  CC BY-SA 3.0   \n",
       "\n",
       "                                             excerpt  \n",
       "0  My hope lay in Jack's promise that he would ke...  \n",
       "1  Dotty continued to go to Mrs. Gray's every nig...  \n",
       "2  It was a bright and cheerful scene that greete...  \n",
       "3  Cell division is the process by which a parent...  \n",
       "4  Debugging is the process of finding and resolv...  "
      ]
     },
     "execution_count": 2,
     "metadata": {},
     "output_type": "execute_result"
    }
   ],
   "source": [
    "submission_df = pd.read_csv('../input/commonlitreadabilityprize/sample_submission.csv')\n",
    "test_df = pd.read_csv('../input/commonlitreadabilityprize/test.csv')\n",
    "test_df.head()"
   ]
  },
  {
   "cell_type": "code",
   "execution_count": 3,
   "id": "b6af4688",
   "metadata": {
    "execution": {
     "iopub.execute_input": "2021-08-05T13:36:23.774778Z",
     "iopub.status.busy": "2021-08-05T13:36:23.774014Z",
     "iopub.status.idle": "2021-08-05T13:36:23.778494Z",
     "shell.execute_reply": "2021-08-05T13:36:23.779072Z",
     "shell.execute_reply.started": "2021-08-05T13:34:26.787660Z"
    },
    "papermill": {
     "duration": 0.070175,
     "end_time": "2021-08-05T13:36:23.779294",
     "exception": false,
     "start_time": "2021-08-05T13:36:23.709119",
     "status": "completed"
    },
    "tags": []
   },
   "outputs": [
    {
     "name": "stdout",
     "output_type": "stream",
     "text": [
      "Device : cuda\n"
     ]
    }
   ],
   "source": [
    "device = torch.device(\"cuda\" if torch.cuda.is_available() else \"cpu\")\n",
    "print(\"Device :\", device)"
   ]
  },
  {
   "cell_type": "markdown",
   "id": "f86e614a",
   "metadata": {
    "papermill": {
     "duration": 0.020206,
     "end_time": "2021-08-05T13:36:23.820901",
     "exception": false,
     "start_time": "2021-08-05T13:36:23.800695",
     "status": "completed"
    },
    "tags": []
   },
   "source": [
    "# 3. Preproccessing data"
   ]
  },
  {
   "cell_type": "code",
   "execution_count": 4,
   "id": "a1078dc4",
   "metadata": {
    "execution": {
     "iopub.execute_input": "2021-08-05T13:36:23.863681Z",
     "iopub.status.busy": "2021-08-05T13:36:23.862738Z",
     "iopub.status.idle": "2021-08-05T13:36:23.865652Z",
     "shell.execute_reply": "2021-08-05T13:36:23.865247Z",
     "shell.execute_reply.started": "2021-08-05T13:34:26.847503Z"
    },
    "papermill": {
     "duration": 0.025914,
     "end_time": "2021-08-05T13:36:23.865761",
     "exception": false,
     "start_time": "2021-08-05T13:36:23.839847",
     "status": "completed"
    },
    "tags": []
   },
   "outputs": [],
   "source": [
    "def cleaning_data(df):\n",
    "    df['cleaning'] = df.excerpt.apply(lambda x: x.replace(\"'s\", ''))\n",
    "    df['cleaning'] = df['cleaning'].apply(lambda x: x.replace('’s', ''))\n",
    "    df['cleaning'] = df['cleaning'].apply(lambda x: x.replace(\"\\'s\", ''))\n",
    "    df['cleaning'] = df['cleaning'].apply(lambda x: x.replace(\"\\’s\", ''))\n",
    "    \n",
    "    return df"
   ]
  },
  {
   "cell_type": "code",
   "execution_count": 5,
   "id": "de4d9a76",
   "metadata": {
    "execution": {
     "iopub.execute_input": "2021-08-05T13:36:23.918147Z",
     "iopub.status.busy": "2021-08-05T13:36:23.917309Z",
     "iopub.status.idle": "2021-08-05T13:36:23.922727Z",
     "shell.execute_reply": "2021-08-05T13:36:23.922241Z",
     "shell.execute_reply.started": "2021-08-05T13:34:26.856366Z"
    },
    "papermill": {
     "duration": 0.039816,
     "end_time": "2021-08-05T13:36:23.922854",
     "exception": false,
     "start_time": "2021-08-05T13:36:23.883038",
     "status": "completed"
    },
    "tags": []
   },
   "outputs": [
    {
     "data": {
      "text/html": [
       "<div>\n",
       "<style scoped>\n",
       "    .dataframe tbody tr th:only-of-type {\n",
       "        vertical-align: middle;\n",
       "    }\n",
       "\n",
       "    .dataframe tbody tr th {\n",
       "        vertical-align: top;\n",
       "    }\n",
       "\n",
       "    .dataframe thead th {\n",
       "        text-align: right;\n",
       "    }\n",
       "</style>\n",
       "<table border=\"1\" class=\"dataframe\">\n",
       "  <thead>\n",
       "    <tr style=\"text-align: right;\">\n",
       "      <th></th>\n",
       "      <th>id</th>\n",
       "      <th>url_legal</th>\n",
       "      <th>license</th>\n",
       "      <th>excerpt</th>\n",
       "      <th>cleaning</th>\n",
       "    </tr>\n",
       "  </thead>\n",
       "  <tbody>\n",
       "    <tr>\n",
       "      <th>0</th>\n",
       "      <td>c0f722661</td>\n",
       "      <td>NaN</td>\n",
       "      <td>NaN</td>\n",
       "      <td>My hope lay in Jack's promise that he would ke...</td>\n",
       "      <td>My hope lay in Jack promise that he would keep...</td>\n",
       "    </tr>\n",
       "    <tr>\n",
       "      <th>1</th>\n",
       "      <td>f0953f0a5</td>\n",
       "      <td>NaN</td>\n",
       "      <td>NaN</td>\n",
       "      <td>Dotty continued to go to Mrs. Gray's every nig...</td>\n",
       "      <td>Dotty continued to go to Mrs. Gray every night...</td>\n",
       "    </tr>\n",
       "    <tr>\n",
       "      <th>2</th>\n",
       "      <td>0df072751</td>\n",
       "      <td>NaN</td>\n",
       "      <td>NaN</td>\n",
       "      <td>It was a bright and cheerful scene that greete...</td>\n",
       "      <td>It was a bright and cheerful scene that greete...</td>\n",
       "    </tr>\n",
       "    <tr>\n",
       "      <th>3</th>\n",
       "      <td>04caf4e0c</td>\n",
       "      <td>https://en.wikipedia.org/wiki/Cell_division</td>\n",
       "      <td>CC BY-SA 3.0</td>\n",
       "      <td>Cell division is the process by which a parent...</td>\n",
       "      <td>Cell division is the process by which a parent...</td>\n",
       "    </tr>\n",
       "    <tr>\n",
       "      <th>4</th>\n",
       "      <td>0e63f8bea</td>\n",
       "      <td>https://en.wikipedia.org/wiki/Debugging</td>\n",
       "      <td>CC BY-SA 3.0</td>\n",
       "      <td>Debugging is the process of finding and resolv...</td>\n",
       "      <td>Debugging is the process of finding and resolv...</td>\n",
       "    </tr>\n",
       "  </tbody>\n",
       "</table>\n",
       "</div>"
      ],
      "text/plain": [
       "          id                                    url_legal       license  \\\n",
       "0  c0f722661                                          NaN           NaN   \n",
       "1  f0953f0a5                                          NaN           NaN   \n",
       "2  0df072751                                          NaN           NaN   \n",
       "3  04caf4e0c  https://en.wikipedia.org/wiki/Cell_division  CC BY-SA 3.0   \n",
       "4  0e63f8bea      https://en.wikipedia.org/wiki/Debugging  CC BY-SA 3.0   \n",
       "\n",
       "                                             excerpt  \\\n",
       "0  My hope lay in Jack's promise that he would ke...   \n",
       "1  Dotty continued to go to Mrs. Gray's every nig...   \n",
       "2  It was a bright and cheerful scene that greete...   \n",
       "3  Cell division is the process by which a parent...   \n",
       "4  Debugging is the process of finding and resolv...   \n",
       "\n",
       "                                            cleaning  \n",
       "0  My hope lay in Jack promise that he would keep...  \n",
       "1  Dotty continued to go to Mrs. Gray every night...  \n",
       "2  It was a bright and cheerful scene that greete...  \n",
       "3  Cell division is the process by which a parent...  \n",
       "4  Debugging is the process of finding and resolv...  "
      ]
     },
     "execution_count": 5,
     "metadata": {},
     "output_type": "execute_result"
    }
   ],
   "source": [
    "test_df = cleaning_data(test_df)\n",
    "test_df.shape\n",
    "test_df.head()"
   ]
  },
  {
   "cell_type": "markdown",
   "id": "09a25326",
   "metadata": {
    "papermill": {
     "duration": 0.017854,
     "end_time": "2021-08-05T13:36:23.962308",
     "exception": false,
     "start_time": "2021-08-05T13:36:23.944454",
     "status": "completed"
    },
    "tags": []
   },
   "source": [
    "# 4. Feature Engineering"
   ]
  },
  {
   "cell_type": "code",
   "execution_count": 6,
   "id": "917f782e",
   "metadata": {
    "execution": {
     "iopub.execute_input": "2021-08-05T13:36:24.002459Z",
     "iopub.status.busy": "2021-08-05T13:36:24.001800Z",
     "iopub.status.idle": "2021-08-05T13:36:24.004085Z",
     "shell.execute_reply": "2021-08-05T13:36:24.004704Z",
     "shell.execute_reply.started": "2021-08-05T13:34:26.884374Z"
    },
    "papermill": {
     "duration": 0.024115,
     "end_time": "2021-08-05T13:36:24.004836",
     "exception": false,
     "start_time": "2021-08-05T13:36:23.980721",
     "status": "completed"
    },
    "tags": []
   },
   "outputs": [],
   "source": [
    "BATCH_SIZE = 16\n",
    "MAX_LEN = 248\n",
    "ROBERTA_PATH = \"../input/roberta-transformers-pytorch/roberta-base\"\n",
    "TOKENIZER_PATH = \"../input/roberta-transformers-pytorch/roberta-base\"\n",
    "model_path = '../input/commonlit-roberta-model-weight/roberta5.pth'"
   ]
  },
  {
   "cell_type": "markdown",
   "id": "9d013f38",
   "metadata": {
    "papermill": {
     "duration": 0.020692,
     "end_time": "2021-08-05T13:36:24.044885",
     "exception": false,
     "start_time": "2021-08-05T13:36:24.024193",
     "status": "completed"
    },
    "tags": []
   },
   "source": [
    "### 4-1) Define Dataset"
   ]
  },
  {
   "cell_type": "code",
   "execution_count": 7,
   "id": "3cf04fa8",
   "metadata": {
    "execution": {
     "iopub.execute_input": "2021-08-05T13:36:24.086875Z",
     "iopub.status.busy": "2021-08-05T13:36:24.086139Z",
     "iopub.status.idle": "2021-08-05T13:36:24.313015Z",
     "shell.execute_reply": "2021-08-05T13:36:24.312453Z",
     "shell.execute_reply.started": "2021-08-05T13:34:26.897199Z"
    },
    "papermill": {
     "duration": 0.24775,
     "end_time": "2021-08-05T13:36:24.313154",
     "exception": false,
     "start_time": "2021-08-05T13:36:24.065404",
     "status": "completed"
    },
    "tags": []
   },
   "outputs": [],
   "source": [
    "tokenizer = AutoTokenizer.from_pretrained(TOKENIZER_PATH)"
   ]
  },
  {
   "cell_type": "code",
   "execution_count": 8,
   "id": "801477d0",
   "metadata": {
    "execution": {
     "iopub.execute_input": "2021-08-05T13:36:24.359215Z",
     "iopub.status.busy": "2021-08-05T13:36:24.358294Z",
     "iopub.status.idle": "2021-08-05T13:36:24.360755Z",
     "shell.execute_reply": "2021-08-05T13:36:24.361314Z",
     "shell.execute_reply.started": "2021-08-05T13:34:27.161300Z"
    },
    "papermill": {
     "duration": 0.030388,
     "end_time": "2021-08-05T13:36:24.361449",
     "exception": false,
     "start_time": "2021-08-05T13:36:24.331061",
     "status": "completed"
    },
    "tags": []
   },
   "outputs": [],
   "source": [
    "class RobertaDataset(Dataset):\n",
    "    def __init__(self, df, Is_target=False):\n",
    "        super().__init__()\n",
    "\n",
    "        self.df = df        \n",
    "        self.Is_target = Is_target\n",
    "        self.text = df['cleaning'].apply(lambda x: str(x)).tolist()\n",
    "        \n",
    "        if self.Is_target:\n",
    "            self.target = torch.tensor(df.target.values, dtype=torch.float32)      \n",
    "\n",
    "        self.encoded = tokenizer.batch_encode_plus(\n",
    "            self.text,\n",
    "            padding = 'max_length',            \n",
    "            max_length = MAX_LEN + 2,#[s] and [/s]\n",
    "            truncation = True,\n",
    "            return_attention_mask=True,\n",
    "        )  \n",
    "    def __len__(self):\n",
    "        return len(self.df)\n",
    "    \n",
    "    def __getitem__(self, index):\n",
    "        data = {}\n",
    "        \n",
    "        data['input_ids'] = torch.tensor(self.encoded['input_ids'][index])\n",
    "        data['attention_mask'] = torch.tensor(self.encoded['attention_mask'][index])\n",
    "        \n",
    "        if self.Is_target:\n",
    "            data['target'] = self.target[index]\n",
    "            \n",
    "        return data"
   ]
  },
  {
   "cell_type": "code",
   "execution_count": 9,
   "id": "b39a964b",
   "metadata": {
    "execution": {
     "iopub.execute_input": "2021-08-05T13:36:24.404416Z",
     "iopub.status.busy": "2021-08-05T13:36:24.403847Z",
     "iopub.status.idle": "2021-08-05T13:36:24.415966Z",
     "shell.execute_reply": "2021-08-05T13:36:24.416392Z",
     "shell.execute_reply.started": "2021-08-05T13:34:27.173638Z"
    },
    "papermill": {
     "duration": 0.034256,
     "end_time": "2021-08-05T13:36:24.416525",
     "exception": false,
     "start_time": "2021-08-05T13:36:24.382269",
     "status": "completed"
    },
    "tags": []
   },
   "outputs": [],
   "source": [
    "test_dataset = RobertaDataset(test_df, Is_target=False)"
   ]
  },
  {
   "cell_type": "code",
   "execution_count": 10,
   "id": "88c74a9a",
   "metadata": {
    "execution": {
     "iopub.execute_input": "2021-08-05T13:36:24.461693Z",
     "iopub.status.busy": "2021-08-05T13:36:24.461005Z",
     "iopub.status.idle": "2021-08-05T13:36:24.488701Z",
     "shell.execute_reply": "2021-08-05T13:36:24.489217Z",
     "shell.execute_reply.started": "2021-08-05T13:34:27.194921Z"
    },
    "papermill": {
     "duration": 0.053708,
     "end_time": "2021-08-05T13:36:24.489346",
     "exception": false,
     "start_time": "2021-08-05T13:36:24.435638",
     "status": "completed"
    },
    "tags": []
   },
   "outputs": [
    {
     "name": "stdout",
     "output_type": "stream",
     "text": [
      "[[ input_ids ]]\n",
      "tensor([    0,  2387,  1034,  4477,    11,  2722,  4198,    14,    37,    74,\n",
      "          489,    10,  4520,  1109,  6574,    11,     5,  2853,   527,     7,\n",
      "         4704,   162,    15,   127,   768,     4,   374,    10,   699,   363,\n",
      "           42,  1109,    21,  7097,    31,     5,  3375,     6,    53,  7421,\n",
      "           50,    97,    38,  1447,     7,   185,    88,  1316,     5,   194,\n",
      "            9,     5,  1650,     4,    20,   935,    21,   455,     9,  4803,\n",
      "          417,  4048, 37517,     6,    61,    74, 19930,     5,   471,  6991,\n",
      "            9,    10, 29964,  9719, 20731,    10,  6317,  1314, 13258,     4,\n",
      "        18680,    14,    42,   505,   754,   393,  2756,     7,   162,   454,\n",
      "           38,    21,  1950,    10,   887,     9,    10,  7245,    31,     5,\n",
      "         3375,     4,  1892,     6,    71,   546,    11, 25876,    13,     5,\n",
      "        30943,  1109,     6,     5,  4854,     9,   127,  1068,  2322,   162,\n",
      "            6,     8,    38, 12856,     4, 50118,   113,   100,   524,  1402,\n",
      "            7,   213,  1593,    60,    38,    26,     7,  2185,     4, 50118,\n",
      "          113,   243,    16,    66,     9,   127,   476,     7,  1407,    10,\n",
      "         2228,   768,   396,   402,     7,  1807,    25,    10, 35310,     4,\n",
      "           38,    40,   213,   124,     7,     5,  3375,     8,  2067,  6612,\n",
      "          662,    72,     2,     1,     1,     1,     1,     1,     1,     1,\n",
      "            1,     1,     1,     1,     1,     1,     1,     1,     1,     1,\n",
      "            1,     1,     1,     1,     1,     1,     1,     1,     1,     1,\n",
      "            1,     1,     1,     1,     1,     1,     1,     1,     1,     1,\n",
      "            1,     1,     1,     1,     1,     1,     1,     1,     1,     1,\n",
      "            1,     1,     1,     1,     1,     1,     1,     1,     1,     1,\n",
      "            1,     1,     1,     1,     1,     1,     1,     1,     1,     1,\n",
      "            1,     1,     1,     1,     1,     1,     1,     1,     1,     1]) \n",
      "\n",
      "\n",
      "[[ Decode ]]\n",
      "<s>My hope lay in Jack promise that he would keep a bright light burning in the upper story to guide me on my course. On a clear night this light was visible from the village, but somehow or other I failed to take into account the state of the weather. The air was full of eddying flakes, which would render the headlight of a locomotive invisible a hundred yards distant. Strange that this important fact never occurred to me until I was fully a fourth of a mile from the village. Then, after looking in vain for the beacon light, the danger of my situation struck me, and I halted.\n",
      "\"I am certain to go wrong,\" I said to myself.\n",
      "\"It is out of my power to follow a direct course without something to serve as a compass. I will go back to the village and wait till morning.\"</s><pad><pad><pad><pad><pad><pad><pad><pad><pad><pad><pad><pad><pad><pad><pad><pad><pad><pad><pad><pad><pad><pad><pad><pad><pad><pad><pad><pad><pad><pad><pad><pad><pad><pad><pad><pad><pad><pad><pad><pad><pad><pad><pad><pad><pad><pad><pad><pad><pad><pad><pad><pad><pad><pad><pad><pad><pad><pad><pad><pad><pad><pad><pad><pad><pad><pad><pad><pad><pad><pad><pad><pad><pad><pad><pad><pad><pad> \n",
      "\n",
      "\n",
      "[[ Attention Mask ]]\n",
      "tensor([1, 1, 1, 1, 1, 1, 1, 1, 1, 1, 1, 1, 1, 1, 1, 1, 1, 1, 1, 1, 1, 1, 1, 1,\n",
      "        1, 1, 1, 1, 1, 1, 1, 1, 1, 1, 1, 1, 1, 1, 1, 1, 1, 1, 1, 1, 1, 1, 1, 1,\n",
      "        1, 1, 1, 1, 1, 1, 1, 1, 1, 1, 1, 1, 1, 1, 1, 1, 1, 1, 1, 1, 1, 1, 1, 1,\n",
      "        1, 1, 1, 1, 1, 1, 1, 1, 1, 1, 1, 1, 1, 1, 1, 1, 1, 1, 1, 1, 1, 1, 1, 1,\n",
      "        1, 1, 1, 1, 1, 1, 1, 1, 1, 1, 1, 1, 1, 1, 1, 1, 1, 1, 1, 1, 1, 1, 1, 1,\n",
      "        1, 1, 1, 1, 1, 1, 1, 1, 1, 1, 1, 1, 1, 1, 1, 1, 1, 1, 1, 1, 1, 1, 1, 1,\n",
      "        1, 1, 1, 1, 1, 1, 1, 1, 1, 1, 1, 1, 1, 1, 1, 1, 1, 1, 1, 1, 1, 1, 1, 1,\n",
      "        1, 1, 1, 1, 1, 0, 0, 0, 0, 0, 0, 0, 0, 0, 0, 0, 0, 0, 0, 0, 0, 0, 0, 0,\n",
      "        0, 0, 0, 0, 0, 0, 0, 0, 0, 0, 0, 0, 0, 0, 0, 0, 0, 0, 0, 0, 0, 0, 0, 0,\n",
      "        0, 0, 0, 0, 0, 0, 0, 0, 0, 0, 0, 0, 0, 0, 0, 0, 0, 0, 0, 0, 0, 0, 0, 0,\n",
      "        0, 0, 0, 0, 0, 0, 0, 0, 0, 0]) \n",
      "\n",
      "\n"
     ]
    }
   ],
   "source": [
    "print(\"[[ input_ids ]]\")\n",
    "print(test_dataset[0]['input_ids'],'\\n\\n')\n",
    "\n",
    "print(\"[[ Decode ]]\")\n",
    "print(tokenizer.decode(test_dataset[0]['input_ids']), '\\n\\n')\n",
    "\n",
    "print(\"[[ Attention Mask ]]\")\n",
    "print(test_dataset[0]['attention_mask'],'\\n\\n')"
   ]
  },
  {
   "cell_type": "markdown",
   "id": "1e6a953a",
   "metadata": {
    "papermill": {
     "duration": 0.019808,
     "end_time": "2021-08-05T13:36:24.528081",
     "exception": false,
     "start_time": "2021-08-05T13:36:24.508273",
     "status": "completed"
    },
    "tags": []
   },
   "source": [
    "### 4-2) Define Dataset"
   ]
  },
  {
   "cell_type": "code",
   "execution_count": 11,
   "id": "c496ce8e",
   "metadata": {
    "execution": {
     "iopub.execute_input": "2021-08-05T13:36:24.573368Z",
     "iopub.status.busy": "2021-08-05T13:36:24.571932Z",
     "iopub.status.idle": "2021-08-05T13:36:24.574730Z",
     "shell.execute_reply": "2021-08-05T13:36:24.575199Z",
     "shell.execute_reply.started": "2021-08-05T13:34:27.235992Z"
    },
    "papermill": {
     "duration": 0.029141,
     "end_time": "2021-08-05T13:36:24.575326",
     "exception": false,
     "start_time": "2021-08-05T13:36:24.546185",
     "status": "completed"
    },
    "tags": []
   },
   "outputs": [],
   "source": [
    "def get_train_val_loaders(train_dataset, val_dataset):\n",
    "    \n",
    "    train_loader = torch.utils.data.DataLoader(\n",
    "        train_dataset,\n",
    "        batch_size=BATCH_SIZE, \n",
    "        shuffle=True, \n",
    "        num_workers=0,\n",
    "        drop_last=True)\n",
    "    \n",
    "    32,154,768 \n",
    "    \n",
    "    val_loader = torch.utils.data.DataLoader(\n",
    "        val_dataset,\n",
    "        batch_size=BATCH_SIZE, \n",
    "        shuffle=True, \n",
    "        num_workers=0,\n",
    "        drop_last=True)\n",
    "    \n",
    "    dataloaders_dict = {\"train\": train_loader, \"val\": val_loader}\n",
    "    return dataloaders_dict\n",
    "\n",
    "\n",
    "def get_test_loader(dataset):\n",
    "    \n",
    "    loader = torch.utils.data.DataLoader(\n",
    "        dataset,\n",
    "        batch_size=BATCH_SIZE, \n",
    "        shuffle=False,\n",
    "        num_workers=0)  \n",
    "    \n",
    "    return loader"
   ]
  },
  {
   "cell_type": "code",
   "execution_count": 12,
   "id": "d101f94d",
   "metadata": {
    "execution": {
     "iopub.execute_input": "2021-08-05T13:36:24.618344Z",
     "iopub.status.busy": "2021-08-05T13:36:24.617848Z",
     "iopub.status.idle": "2021-08-05T13:36:24.621270Z",
     "shell.execute_reply": "2021-08-05T13:36:24.621679Z",
     "shell.execute_reply.started": "2021-08-05T13:34:27.247066Z"
    },
    "papermill": {
     "duration": 0.025321,
     "end_time": "2021-08-05T13:36:24.621795",
     "exception": false,
     "start_time": "2021-08-05T13:36:24.596474",
     "status": "completed"
    },
    "tags": []
   },
   "outputs": [],
   "source": [
    "test_loader = get_test_loader(test_dataset)"
   ]
  },
  {
   "cell_type": "markdown",
   "id": "f6e0c67c",
   "metadata": {
    "papermill": {
     "duration": 0.018285,
     "end_time": "2021-08-05T13:36:24.659281",
     "exception": false,
     "start_time": "2021-08-05T13:36:24.640996",
     "status": "completed"
    },
    "tags": []
   },
   "source": [
    "# 5. Define Model"
   ]
  },
  {
   "cell_type": "code",
   "execution_count": 13,
   "id": "740200b1",
   "metadata": {
    "execution": {
     "iopub.execute_input": "2021-08-05T13:36:24.709259Z",
     "iopub.status.busy": "2021-08-05T13:36:24.708584Z",
     "iopub.status.idle": "2021-08-05T13:36:24.712010Z",
     "shell.execute_reply": "2021-08-05T13:36:24.711611Z",
     "shell.execute_reply.started": "2021-08-05T13:35:32.784979Z"
    },
    "papermill": {
     "duration": 0.032679,
     "end_time": "2021-08-05T13:36:24.712117",
     "exception": false,
     "start_time": "2021-08-05T13:36:24.679438",
     "status": "completed"
    },
    "tags": []
   },
   "outputs": [],
   "source": [
    "class MainModel(nn.Module):\n",
    "    def __init__(self):\n",
    "        super().__init__()\n",
    "\n",
    "        config = AutoConfig.from_pretrained(ROBERTA_PATH)\n",
    "        config.update({\"output_hidden_states\":True, \n",
    "                       \"hidden_dropout_prob\": 0.0,\n",
    "                       \"layer_norm_eps\": 1e-7})                       \n",
    "        \n",
    "        self.roberta = AutoModel.from_pretrained(ROBERTA_PATH, config=config)\n",
    "        self.attention = nn.Sequential(            \n",
    "            nn.Dropout(0.2),\n",
    "            nn.Linear(768, 512),     \n",
    "            nn.Tanh(),                       \n",
    "            nn.Linear(512, 1),\n",
    "            nn.Softmax(dim=1)\n",
    "        )\n",
    "\n",
    "        self.regressor = nn.Sequential(                        \n",
    "            nn.Linear(768, 1)                        \n",
    "        )\n",
    "        \n",
    "\n",
    "    def forward(self, input_ids, attention_mask):\n",
    "        roberta_output = self.roberta(input_ids=input_ids,\n",
    "                                      attention_mask=attention_mask) \n",
    "        # roberta's hidden_size = 768\n",
    "        last_layer_hidden_states = roberta_output.hidden_states[-1]\n",
    "        #print(last_layer_hidden_states)\n",
    "        \n",
    "        weights = self.attention(last_layer_hidden_states)        \n",
    "        #print(weights)\n",
    "        \n",
    "        context_vector = torch.sum(weights * last_layer_hidden_states, dim=1)        \n",
    "        #print(context_vector)\n",
    "        \n",
    "        # Now we reduce the context vector to the prediction score.\n",
    "        context_vector = self.regressor(context_vector).view(-1,)\n",
    "        \n",
    "        return context_vector"
   ]
  },
  {
   "cell_type": "code",
   "execution_count": 14,
   "id": "6b6c19ec",
   "metadata": {
    "execution": {
     "iopub.execute_input": "2021-08-05T13:36:24.957651Z",
     "iopub.status.busy": "2021-08-05T13:36:24.956704Z",
     "iopub.status.idle": "2021-08-05T13:36:43.400898Z",
     "shell.execute_reply": "2021-08-05T13:36:43.402143Z",
     "shell.execute_reply.started": "2021-08-05T13:35:34.138496Z"
    },
    "papermill": {
     "duration": 18.672099,
     "end_time": "2021-08-05T13:36:43.402371",
     "exception": false,
     "start_time": "2021-08-05T13:36:24.730272",
     "status": "completed"
    },
    "tags": []
   },
   "outputs": [
    {
     "data": {
      "text/plain": [
       "<All keys matched successfully>"
      ]
     },
     "execution_count": 14,
     "metadata": {},
     "output_type": "execute_result"
    }
   ],
   "source": [
    "gc.collect()\n",
    "\n",
    "model = MainModel() \n",
    "model.load_state_dict(torch.load(model_path, map_location=device))    "
   ]
  },
  {
   "cell_type": "markdown",
   "id": "6c43cd63",
   "metadata": {
    "papermill": {
     "duration": 0.032309,
     "end_time": "2021-08-05T13:36:43.470801",
     "exception": false,
     "start_time": "2021-08-05T13:36:43.438492",
     "status": "completed"
    },
    "tags": []
   },
   "source": [
    "# 6. Evaluate"
   ]
  },
  {
   "cell_type": "code",
   "execution_count": 15,
   "id": "a771f4ee",
   "metadata": {
    "execution": {
     "iopub.execute_input": "2021-08-05T13:36:43.539329Z",
     "iopub.status.busy": "2021-08-05T13:36:43.537941Z",
     "iopub.status.idle": "2021-08-05T13:36:43.540215Z",
     "shell.execute_reply": "2021-08-05T13:36:43.540683Z",
     "shell.execute_reply.started": "2021-08-05T13:35:42.074983Z"
    },
    "papermill": {
     "duration": 0.03644,
     "end_time": "2021-08-05T13:36:43.540808",
     "exception": false,
     "start_time": "2021-08-05T13:36:43.504368",
     "status": "completed"
    },
    "tags": []
   },
   "outputs": [],
   "source": [
    "def evaluate(model, loader):\n",
    "    '''\n",
    "    model = RobertaModel()\n",
    "    model.load_state_dict(torch.load(f'roberta.pth'))\n",
    "    model.to(device)\n",
    "    '''\n",
    "    predictions = []\n",
    "    \n",
    "    model.to(device)\n",
    "    model.eval()\n",
    "    \n",
    "    for data in loader:\n",
    "        ids = data['input_ids'].to(device, dtype=torch.int64)\n",
    "        masks = data['attention_mask'].to(device, dtype=torch.int64)\n",
    "        \n",
    "        with torch.no_grad():\n",
    "            preds = model(ids, masks)\n",
    "            for pred in preds:\n",
    "                predictions.append(pred.item()) \n",
    "            \n",
    "                  \n",
    "    return predictions"
   ]
  },
  {
   "cell_type": "markdown",
   "id": "6486c792",
   "metadata": {
    "papermill": {
     "duration": 0.019298,
     "end_time": "2021-08-05T13:36:43.578542",
     "exception": false,
     "start_time": "2021-08-05T13:36:43.559244",
     "status": "completed"
    },
    "tags": []
   },
   "source": [
    "# 7. Submission"
   ]
  },
  {
   "cell_type": "code",
   "execution_count": 16,
   "id": "28e3da42",
   "metadata": {
    "execution": {
     "iopub.execute_input": "2021-08-05T13:36:43.624520Z",
     "iopub.status.busy": "2021-08-05T13:36:43.623275Z",
     "iopub.status.idle": "2021-08-05T13:36:44.540906Z",
     "shell.execute_reply": "2021-08-05T13:36:44.541309Z",
     "shell.execute_reply.started": "2021-08-05T13:35:42.779664Z"
    },
    "papermill": {
     "duration": 0.944247,
     "end_time": "2021-08-05T13:36:44.541451",
     "exception": false,
     "start_time": "2021-08-05T13:36:43.597204",
     "status": "completed"
    },
    "tags": []
   },
   "outputs": [
    {
     "data": {
      "text/html": [
       "<div>\n",
       "<style scoped>\n",
       "    .dataframe tbody tr th:only-of-type {\n",
       "        vertical-align: middle;\n",
       "    }\n",
       "\n",
       "    .dataframe tbody tr th {\n",
       "        vertical-align: top;\n",
       "    }\n",
       "\n",
       "    .dataframe thead th {\n",
       "        text-align: right;\n",
       "    }\n",
       "</style>\n",
       "<table border=\"1\" class=\"dataframe\">\n",
       "  <thead>\n",
       "    <tr style=\"text-align: right;\">\n",
       "      <th></th>\n",
       "      <th>id</th>\n",
       "      <th>target</th>\n",
       "    </tr>\n",
       "  </thead>\n",
       "  <tbody>\n",
       "    <tr>\n",
       "      <th>0</th>\n",
       "      <td>c0f722661</td>\n",
       "      <td>-0.628001</td>\n",
       "    </tr>\n",
       "    <tr>\n",
       "      <th>1</th>\n",
       "      <td>f0953f0a5</td>\n",
       "      <td>-0.680984</td>\n",
       "    </tr>\n",
       "    <tr>\n",
       "      <th>2</th>\n",
       "      <td>0df072751</td>\n",
       "      <td>-0.792474</td>\n",
       "    </tr>\n",
       "    <tr>\n",
       "      <th>3</th>\n",
       "      <td>04caf4e0c</td>\n",
       "      <td>-2.373531</td>\n",
       "    </tr>\n",
       "    <tr>\n",
       "      <th>4</th>\n",
       "      <td>0e63f8bea</td>\n",
       "      <td>-2.570577</td>\n",
       "    </tr>\n",
       "  </tbody>\n",
       "</table>\n",
       "</div>"
      ],
      "text/plain": [
       "          id    target\n",
       "0  c0f722661 -0.628001\n",
       "1  f0953f0a5 -0.680984\n",
       "2  0df072751 -0.792474\n",
       "3  04caf4e0c -2.373531\n",
       "4  0e63f8bea -2.570577"
      ]
     },
     "execution_count": 16,
     "metadata": {},
     "output_type": "execute_result"
    }
   ],
   "source": [
    "predictions = evaluate(model, test_loader)\n",
    "\n",
    "submission_df['target'] = predictions\n",
    "submission_df.head()"
   ]
  },
  {
   "cell_type": "code",
   "execution_count": 17,
   "id": "8ab4762a",
   "metadata": {
    "execution": {
     "iopub.execute_input": "2021-08-05T13:36:44.731532Z",
     "iopub.status.busy": "2021-08-05T13:36:44.730639Z",
     "iopub.status.idle": "2021-08-05T13:36:44.736144Z",
     "shell.execute_reply": "2021-08-05T13:36:44.735725Z",
     "shell.execute_reply.started": "2021-08-05T13:35:49.742001Z"
    },
    "papermill": {
     "duration": 0.175645,
     "end_time": "2021-08-05T13:36:44.736264",
     "exception": false,
     "start_time": "2021-08-05T13:36:44.560619",
     "status": "completed"
    },
    "tags": []
   },
   "outputs": [],
   "source": [
    "del model\n",
    "gc.collect()\n",
    "\n",
    "submission_df.to_csv('submission.csv', index=False)"
   ]
  },
  {
   "cell_type": "code",
   "execution_count": null,
   "id": "8a0eecda",
   "metadata": {
    "papermill": {
     "duration": 0.01844,
     "end_time": "2021-08-05T13:36:44.773542",
     "exception": false,
     "start_time": "2021-08-05T13:36:44.755102",
     "status": "completed"
    },
    "tags": []
   },
   "outputs": [],
   "source": []
  }
 ],
 "metadata": {
  "kernelspec": {
   "display_name": "Python 3",
   "language": "python",
   "name": "python3"
  },
  "language_info": {
   "codemirror_mode": {
    "name": "ipython",
    "version": 3
   },
   "file_extension": ".py",
   "mimetype": "text/x-python",
   "name": "python",
   "nbconvert_exporter": "python",
   "pygments_lexer": "ipython3",
   "version": "3.7.10"
  },
  "papermill": {
   "default_parameters": {},
   "duration": 36.641053,
   "end_time": "2021-08-05T13:36:47.212992",
   "environment_variables": {},
   "exception": null,
   "input_path": "__notebook__.ipynb",
   "output_path": "__notebook__.ipynb",
   "parameters": {},
   "start_time": "2021-08-05T13:36:10.571939",
   "version": "2.3.3"
  }
 },
 "nbformat": 4,
 "nbformat_minor": 5
}

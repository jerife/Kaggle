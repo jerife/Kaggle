{
 "cells": [
  {
   "cell_type": "markdown",
   "id": "eb3ef9ce",
   "metadata": {
    "papermill": {
     "duration": 0.015441,
     "end_time": "2021-07-29T10:30:23.497035",
     "exception": false,
     "start_time": "2021-07-29T10:30:23.481594",
     "status": "completed"
    },
    "tags": []
   },
   "source": [
    "# Import Libray"
   ]
  },
  {
   "cell_type": "code",
   "execution_count": 1,
   "id": "eb2adb45",
   "metadata": {
    "execution": {
     "iopub.execute_input": "2021-07-29T10:30:23.538485Z",
     "iopub.status.busy": "2021-07-29T10:30:23.537958Z",
     "iopub.status.idle": "2021-07-29T10:30:30.656019Z",
     "shell.execute_reply": "2021-07-29T10:30:30.654889Z",
     "shell.execute_reply.started": "2021-07-29T10:21:58.725279Z"
    },
    "papermill": {
     "duration": 7.144271,
     "end_time": "2021-07-29T10:30:30.656209",
     "exception": false,
     "start_time": "2021-07-29T10:30:23.511938",
     "status": "completed"
    },
    "tags": []
   },
   "outputs": [],
   "source": [
    "import numpy as np\n",
    "import pandas as pd\n",
    "import math\n",
    "import time\n",
    "\n",
    "import torch\n",
    "import torch.nn as nn\n",
    "import torch.optim as optim\n",
    "\n",
    "from torch.utils.data import Dataset\n",
    "from torch.utils.data import DataLoader\n",
    "\n",
    "from transformers import AutoTokenizer\n",
    "from transformers import AutoModel\n",
    "from transformers import AutoConfig\n",
    "\n",
    "\n",
    "from sklearn.model_selection import train_test_split"
   ]
  },
  {
   "cell_type": "code",
   "execution_count": 2,
   "id": "41949e09",
   "metadata": {
    "execution": {
     "iopub.execute_input": "2021-07-29T10:30:30.695468Z",
     "iopub.status.busy": "2021-07-29T10:30:30.694861Z",
     "iopub.status.idle": "2021-07-29T10:30:30.738884Z",
     "shell.execute_reply": "2021-07-29T10:30:30.738401Z",
     "shell.execute_reply.started": "2021-07-29T10:27:31.547966Z"
    },
    "papermill": {
     "duration": 0.065308,
     "end_time": "2021-07-29T10:30:30.739013",
     "exception": false,
     "start_time": "2021-07-29T10:30:30.673705",
     "status": "completed"
    },
    "tags": []
   },
   "outputs": [
    {
     "data": {
      "text/html": [
       "<div>\n",
       "<style scoped>\n",
       "    .dataframe tbody tr th:only-of-type {\n",
       "        vertical-align: middle;\n",
       "    }\n",
       "\n",
       "    .dataframe tbody tr th {\n",
       "        vertical-align: top;\n",
       "    }\n",
       "\n",
       "    .dataframe thead th {\n",
       "        text-align: right;\n",
       "    }\n",
       "</style>\n",
       "<table border=\"1\" class=\"dataframe\">\n",
       "  <thead>\n",
       "    <tr style=\"text-align: right;\">\n",
       "      <th></th>\n",
       "      <th>Unnamed: 0</th>\n",
       "      <th>id</th>\n",
       "      <th>url_legal</th>\n",
       "      <th>license</th>\n",
       "      <th>excerpt</th>\n",
       "      <th>cleaning</th>\n",
       "      <th>bert_sum</th>\n",
       "    </tr>\n",
       "  </thead>\n",
       "  <tbody>\n",
       "    <tr>\n",
       "      <th>0</th>\n",
       "      <td>0</td>\n",
       "      <td>c0f722661</td>\n",
       "      <td>NaN</td>\n",
       "      <td>NaN</td>\n",
       "      <td>My hope lay in Jack's promise that he would ke...</td>\n",
       "      <td>my hope lay in jack promise that he would keep...</td>\n",
       "      <td>NaN</td>\n",
       "    </tr>\n",
       "    <tr>\n",
       "      <th>1</th>\n",
       "      <td>1</td>\n",
       "      <td>f0953f0a5</td>\n",
       "      <td>NaN</td>\n",
       "      <td>NaN</td>\n",
       "      <td>Dotty continued to go to Mrs. Gray's every nig...</td>\n",
       "      <td>dotty continued to go to mrs. gray every night...</td>\n",
       "      <td>gray never said anything about the milk; she m...</td>\n",
       "    </tr>\n",
       "    <tr>\n",
       "      <th>2</th>\n",
       "      <td>2</td>\n",
       "      <td>0df072751</td>\n",
       "      <td>NaN</td>\n",
       "      <td>NaN</td>\n",
       "      <td>It was a bright and cheerful scene that greete...</td>\n",
       "      <td>it was a bright and cheerful scene that greete...</td>\n",
       "      <td>dinsmore was there with his wife, his daughter...</td>\n",
       "    </tr>\n",
       "    <tr>\n",
       "      <th>3</th>\n",
       "      <td>3</td>\n",
       "      <td>04caf4e0c</td>\n",
       "      <td>https://en.wikipedia.org/wiki/Cell_division</td>\n",
       "      <td>CC BY-SA 3.0</td>\n",
       "      <td>Cell division is the process by which a parent...</td>\n",
       "      <td>cell division is the process by which a parent...</td>\n",
       "      <td>in eukaryotes, there are two distinct types of...</td>\n",
       "    </tr>\n",
       "    <tr>\n",
       "      <th>4</th>\n",
       "      <td>4</td>\n",
       "      <td>0e63f8bea</td>\n",
       "      <td>https://en.wikipedia.org/wiki/Debugging</td>\n",
       "      <td>CC BY-SA 3.0</td>\n",
       "      <td>Debugging is the process of finding and resolv...</td>\n",
       "      <td>debugging is the process of finding and resolv...</td>\n",
       "      <td>numerous books have been written about debuggi...</td>\n",
       "    </tr>\n",
       "  </tbody>\n",
       "</table>\n",
       "</div>"
      ],
      "text/plain": [
       "   Unnamed: 0         id                                    url_legal  \\\n",
       "0           0  c0f722661                                          NaN   \n",
       "1           1  f0953f0a5                                          NaN   \n",
       "2           2  0df072751                                          NaN   \n",
       "3           3  04caf4e0c  https://en.wikipedia.org/wiki/Cell_division   \n",
       "4           4  0e63f8bea      https://en.wikipedia.org/wiki/Debugging   \n",
       "\n",
       "        license                                            excerpt  \\\n",
       "0           NaN  My hope lay in Jack's promise that he would ke...   \n",
       "1           NaN  Dotty continued to go to Mrs. Gray's every nig...   \n",
       "2           NaN  It was a bright and cheerful scene that greete...   \n",
       "3  CC BY-SA 3.0  Cell division is the process by which a parent...   \n",
       "4  CC BY-SA 3.0  Debugging is the process of finding and resolv...   \n",
       "\n",
       "                                            cleaning  \\\n",
       "0  my hope lay in jack promise that he would keep...   \n",
       "1  dotty continued to go to mrs. gray every night...   \n",
       "2  it was a bright and cheerful scene that greete...   \n",
       "3  cell division is the process by which a parent...   \n",
       "4  debugging is the process of finding and resolv...   \n",
       "\n",
       "                                            bert_sum  \n",
       "0                                                NaN  \n",
       "1  gray never said anything about the milk; she m...  \n",
       "2  dinsmore was there with his wife, his daughter...  \n",
       "3  in eukaryotes, there are two distinct types of...  \n",
       "4  numerous books have been written about debuggi...  "
      ]
     },
     "execution_count": 2,
     "metadata": {},
     "output_type": "execute_result"
    }
   ],
   "source": [
    "submission_df = pd.read_csv('../input/commonlitreadabilityprize/sample_submission.csv')\n",
    "test_df = pd.read_csv('../input/test-bert-sum/test_bert_sum.csv')\n",
    "test_df.head()"
   ]
  },
  {
   "cell_type": "markdown",
   "id": "c5aa705e",
   "metadata": {
    "papermill": {
     "duration": 0.017564,
     "end_time": "2021-07-29T10:30:30.774771",
     "exception": false,
     "start_time": "2021-07-29T10:30:30.757207",
     "status": "completed"
    },
    "tags": []
   },
   "source": [
    "# Inference"
   ]
  },
  {
   "cell_type": "code",
   "execution_count": 3,
   "id": "f9a03e5e",
   "metadata": {
    "execution": {
     "iopub.execute_input": "2021-07-29T10:30:30.856495Z",
     "iopub.status.busy": "2021-07-29T10:30:30.855788Z",
     "iopub.status.idle": "2021-07-29T10:30:30.862074Z",
     "shell.execute_reply": "2021-07-29T10:30:30.861538Z",
     "shell.execute_reply.started": "2021-07-29T10:29:36.527211Z"
    },
    "papermill": {
     "duration": 0.069191,
     "end_time": "2021-07-29T10:30:30.862249",
     "exception": false,
     "start_time": "2021-07-29T10:30:30.793058",
     "status": "completed"
    },
    "tags": []
   },
   "outputs": [
    {
     "name": "stdout",
     "output_type": "stream",
     "text": [
      "Device : cuda\n"
     ]
    }
   ],
   "source": [
    "device = torch.device(\"cuda\" if torch.cuda.is_available() else \"cpu\")\n",
    "print(\"Device :\", device)"
   ]
  },
  {
   "cell_type": "code",
   "execution_count": 4,
   "id": "b9e79277",
   "metadata": {
    "execution": {
     "iopub.execute_input": "2021-07-29T10:30:30.903555Z",
     "iopub.status.busy": "2021-07-29T10:30:30.902603Z",
     "iopub.status.idle": "2021-07-29T10:30:30.905504Z",
     "shell.execute_reply": "2021-07-29T10:30:30.904950Z",
     "shell.execute_reply.started": "2021-07-29T10:29:37.086730Z"
    },
    "papermill": {
     "duration": 0.025209,
     "end_time": "2021-07-29T10:30:30.905610",
     "exception": false,
     "start_time": "2021-07-29T10:30:30.880401",
     "status": "completed"
    },
    "tags": []
   },
   "outputs": [],
   "source": [
    "BATCH_SIZE = 16\n",
    "MAX_LEN = 248\n",
    "ROBERTA_PATH = \"../input/roberta-transformers-pytorch/roberta-base\"\n",
    "TOKENIZER_PATH = \"../input/roberta-transformers-pytorch/roberta-base\"\n",
    "model_path = '../input/commonlit-roberta-model-weight/roberta5.pth'"
   ]
  },
  {
   "cell_type": "markdown",
   "id": "bbb8373e",
   "metadata": {
    "papermill": {
     "duration": 0.015822,
     "end_time": "2021-07-29T10:30:30.937163",
     "exception": false,
     "start_time": "2021-07-29T10:30:30.921341",
     "status": "completed"
    },
    "tags": []
   },
   "source": [
    "### 1) Define Dataset"
   ]
  },
  {
   "cell_type": "code",
   "execution_count": 5,
   "id": "de7bf8c7",
   "metadata": {
    "execution": {
     "iopub.execute_input": "2021-07-29T10:30:30.972407Z",
     "iopub.status.busy": "2021-07-29T10:30:30.971881Z",
     "iopub.status.idle": "2021-07-29T10:30:31.230047Z",
     "shell.execute_reply": "2021-07-29T10:30:31.229592Z",
     "shell.execute_reply.started": "2021-07-29T10:29:38.201972Z"
    },
    "papermill": {
     "duration": 0.277376,
     "end_time": "2021-07-29T10:30:31.230206",
     "exception": false,
     "start_time": "2021-07-29T10:30:30.952830",
     "status": "completed"
    },
    "tags": []
   },
   "outputs": [],
   "source": [
    "tokenizer = AutoTokenizer.from_pretrained(TOKENIZER_PATH)"
   ]
  },
  {
   "cell_type": "code",
   "execution_count": 6,
   "id": "8d836692",
   "metadata": {
    "execution": {
     "iopub.execute_input": "2021-07-29T10:30:31.271171Z",
     "iopub.status.busy": "2021-07-29T10:30:31.270612Z",
     "iopub.status.idle": "2021-07-29T10:30:31.273823Z",
     "shell.execute_reply": "2021-07-29T10:30:31.274208Z",
     "shell.execute_reply.started": "2021-07-29T10:29:38.577513Z"
    },
    "papermill": {
     "duration": 0.026816,
     "end_time": "2021-07-29T10:30:31.274337",
     "exception": false,
     "start_time": "2021-07-29T10:30:31.247521",
     "status": "completed"
    },
    "tags": []
   },
   "outputs": [],
   "source": [
    "class RobertaDataset(Dataset):\n",
    "    def __init__(self, df, Is_target=False):\n",
    "        super().__init__()\n",
    "\n",
    "        self.df = df        \n",
    "        self.Is_target = Is_target\n",
    "        self.text = df['cleaning'].apply(lambda x: str(x)).tolist()\n",
    "        \n",
    "        if self.Is_target:\n",
    "            self.target = torch.tensor(df.target.values, dtype=torch.float32)      \n",
    "\n",
    "        self.encoded = tokenizer.batch_encode_plus(\n",
    "            self.text,\n",
    "            padding = 'max_length',            \n",
    "            max_length = MAX_LEN + 2,#[s] and [/s]\n",
    "            truncation = True,\n",
    "            return_attention_mask=True,\n",
    "        )  \n",
    "    def __len__(self):\n",
    "        return len(self.df)\n",
    "    \n",
    "    def __getitem__(self, index):\n",
    "        data = {}\n",
    "        \n",
    "        data['input_ids'] = torch.tensor(self.encoded['input_ids'][index])\n",
    "        data['attention_mask'] = torch.tensor(self.encoded['attention_mask'][index])\n",
    "        \n",
    "        if self.Is_target:\n",
    "            data['target'] = self.target[index]\n",
    "            \n",
    "        return data"
   ]
  },
  {
   "cell_type": "code",
   "execution_count": 7,
   "id": "3dc1e767",
   "metadata": {
    "execution": {
     "iopub.execute_input": "2021-07-29T10:30:31.314612Z",
     "iopub.status.busy": "2021-07-29T10:30:31.313926Z",
     "iopub.status.idle": "2021-07-29T10:30:31.327054Z",
     "shell.execute_reply": "2021-07-29T10:30:31.327442Z",
     "shell.execute_reply.started": "2021-07-29T10:29:39.554033Z"
    },
    "papermill": {
     "duration": 0.037286,
     "end_time": "2021-07-29T10:30:31.327576",
     "exception": false,
     "start_time": "2021-07-29T10:30:31.290290",
     "status": "completed"
    },
    "tags": []
   },
   "outputs": [],
   "source": [
    "test_dataset = RobertaDataset(test_df, Is_target=False)"
   ]
  },
  {
   "cell_type": "code",
   "execution_count": 8,
   "id": "3c7d6021",
   "metadata": {
    "execution": {
     "iopub.execute_input": "2021-07-29T10:30:31.367562Z",
     "iopub.status.busy": "2021-07-29T10:30:31.366948Z",
     "iopub.status.idle": "2021-07-29T10:30:31.393005Z",
     "shell.execute_reply": "2021-07-29T10:30:31.393411Z",
     "shell.execute_reply.started": "2021-07-29T10:29:40.297452Z"
    },
    "papermill": {
     "duration": 0.050094,
     "end_time": "2021-07-29T10:30:31.393609",
     "exception": false,
     "start_time": "2021-07-29T10:30:31.343515",
     "status": "completed"
    },
    "tags": []
   },
   "outputs": [
    {
     "name": "stdout",
     "output_type": "stream",
     "text": [
      "[[ input_ids ]]\n",
      "tensor([    0,  4783,  1034,  4477,    11, 10267,  4198,    14,    37,    74,\n",
      "          489,    10,  4520,  1109,  6574,    11,     5,  2853,   527,     7,\n",
      "         4704,   162,    15,   127,   768,     4,    15,    10,   699,   363,\n",
      "           42,  1109,    21,  7097,    31,     5,  3375,     6,    53,  7421,\n",
      "           50,    97,   939,  1447,     7,   185,    88,  1316,     5,   194,\n",
      "            9,     5,  1650,     4,     5,   935,    21,   455,     9,  4803,\n",
      "          417,  4048, 37517,     6,    61,    74, 19930,     5,   471,  6991,\n",
      "            9,    10, 29964,  9719, 20731,    10,  6317,  1314, 13258,     4,\n",
      "         7782,    14,    42,   505,   754,   393,  2756,     7,   162,   454,\n",
      "          939,    21,  1950,    10,   887,     9,    10,  7245,    31,     5,\n",
      "         3375,     4,   172,     6,    71,   546,    11, 25876,    13,     5,\n",
      "        30943,  1109,     6,     5,  4854,     9,   127,  1068,  2322,   162,\n",
      "            6,     8,   939, 12856,     4,    22,   118,   524,  1402,     7,\n",
      "          213,  1593,    60,   939,    26,     7,  2185,     4,    22,   405,\n",
      "           16,    66,     9,   127,   476,     7,  1407,    10,  2228,   768,\n",
      "          396,   402,     7,  1807,    25,    10, 35310,     4,   939,    40,\n",
      "          213,   124,     7,     5,  3375,     8,  2067,  6612,   662,    72,\n",
      "            2,     1,     1,     1,     1,     1,     1,     1,     1,     1,\n",
      "            1,     1,     1,     1,     1,     1,     1,     1,     1,     1,\n",
      "            1,     1,     1,     1,     1,     1,     1,     1,     1,     1,\n",
      "            1,     1,     1,     1,     1,     1,     1,     1,     1,     1,\n",
      "            1,     1,     1,     1,     1,     1,     1,     1,     1,     1,\n",
      "            1,     1,     1,     1,     1,     1,     1,     1,     1,     1,\n",
      "            1,     1,     1,     1,     1,     1,     1,     1,     1,     1,\n",
      "            1,     1,     1,     1,     1,     1,     1,     1,     1,     1]) \n",
      "\n",
      "\n",
      "[[ Decode ]]\n",
      "<s>my hope lay in jack promise that he would keep a bright light burning in the upper story to guide me on my course. on a clear night this light was visible from the village, but somehow or other i failed to take into account the state of the weather. the air was full of eddying flakes, which would render the headlight of a locomotive invisible a hundred yards distant. strange that this important fact never occurred to me until i was fully a fourth of a mile from the village. then, after looking in vain for the beacon light, the danger of my situation struck me, and i halted. \"i am certain to go wrong,\" i said to myself. \"it is out of my power to follow a direct course without something to serve as a compass. i will go back to the village and wait till morning.\"</s><pad><pad><pad><pad><pad><pad><pad><pad><pad><pad><pad><pad><pad><pad><pad><pad><pad><pad><pad><pad><pad><pad><pad><pad><pad><pad><pad><pad><pad><pad><pad><pad><pad><pad><pad><pad><pad><pad><pad><pad><pad><pad><pad><pad><pad><pad><pad><pad><pad><pad><pad><pad><pad><pad><pad><pad><pad><pad><pad><pad><pad><pad><pad><pad><pad><pad><pad><pad><pad><pad><pad><pad><pad><pad><pad><pad><pad><pad><pad> \n",
      "\n",
      "\n",
      "[[ Attention Mask ]]\n",
      "tensor([1, 1, 1, 1, 1, 1, 1, 1, 1, 1, 1, 1, 1, 1, 1, 1, 1, 1, 1, 1, 1, 1, 1, 1,\n",
      "        1, 1, 1, 1, 1, 1, 1, 1, 1, 1, 1, 1, 1, 1, 1, 1, 1, 1, 1, 1, 1, 1, 1, 1,\n",
      "        1, 1, 1, 1, 1, 1, 1, 1, 1, 1, 1, 1, 1, 1, 1, 1, 1, 1, 1, 1, 1, 1, 1, 1,\n",
      "        1, 1, 1, 1, 1, 1, 1, 1, 1, 1, 1, 1, 1, 1, 1, 1, 1, 1, 1, 1, 1, 1, 1, 1,\n",
      "        1, 1, 1, 1, 1, 1, 1, 1, 1, 1, 1, 1, 1, 1, 1, 1, 1, 1, 1, 1, 1, 1, 1, 1,\n",
      "        1, 1, 1, 1, 1, 1, 1, 1, 1, 1, 1, 1, 1, 1, 1, 1, 1, 1, 1, 1, 1, 1, 1, 1,\n",
      "        1, 1, 1, 1, 1, 1, 1, 1, 1, 1, 1, 1, 1, 1, 1, 1, 1, 1, 1, 1, 1, 1, 1, 1,\n",
      "        1, 1, 1, 0, 0, 0, 0, 0, 0, 0, 0, 0, 0, 0, 0, 0, 0, 0, 0, 0, 0, 0, 0, 0,\n",
      "        0, 0, 0, 0, 0, 0, 0, 0, 0, 0, 0, 0, 0, 0, 0, 0, 0, 0, 0, 0, 0, 0, 0, 0,\n",
      "        0, 0, 0, 0, 0, 0, 0, 0, 0, 0, 0, 0, 0, 0, 0, 0, 0, 0, 0, 0, 0, 0, 0, 0,\n",
      "        0, 0, 0, 0, 0, 0, 0, 0, 0, 0]) \n",
      "\n",
      "\n"
     ]
    }
   ],
   "source": [
    "print(\"[[ input_ids ]]\")\n",
    "print(test_dataset[0]['input_ids'],'\\n\\n')\n",
    "\n",
    "print(\"[[ Decode ]]\")\n",
    "print(tokenizer.decode(test_dataset[0]['input_ids']), '\\n\\n')\n",
    "\n",
    "print(\"[[ Attention Mask ]]\")\n",
    "print(test_dataset[0]['attention_mask'],'\\n\\n')"
   ]
  },
  {
   "cell_type": "markdown",
   "id": "4ee63a72",
   "metadata": {
    "papermill": {
     "duration": 0.018224,
     "end_time": "2021-07-29T10:30:31.430665",
     "exception": false,
     "start_time": "2021-07-29T10:30:31.412441",
     "status": "completed"
    },
    "tags": []
   },
   "source": [
    "### 3) Define DataLoader"
   ]
  },
  {
   "cell_type": "code",
   "execution_count": 9,
   "id": "5bddfabb",
   "metadata": {
    "execution": {
     "iopub.execute_input": "2021-07-29T10:30:31.470354Z",
     "iopub.status.busy": "2021-07-29T10:30:31.469005Z",
     "iopub.status.idle": "2021-07-29T10:30:31.471374Z",
     "shell.execute_reply": "2021-07-29T10:30:31.471773Z",
     "shell.execute_reply.started": "2021-07-29T10:29:41.894200Z"
    },
    "papermill": {
     "duration": 0.024388,
     "end_time": "2021-07-29T10:30:31.471910",
     "exception": false,
     "start_time": "2021-07-29T10:30:31.447522",
     "status": "completed"
    },
    "tags": []
   },
   "outputs": [],
   "source": [
    "def get_train_val_loaders(train_dataset, val_dataset):\n",
    "    \n",
    "    train_loader = torch.utils.data.DataLoader(\n",
    "        train_dataset,\n",
    "        batch_size=BATCH_SIZE, \n",
    "        shuffle=True, \n",
    "        num_workers=0,\n",
    "        drop_last=True)\n",
    "    \n",
    "    32,154,768 \n",
    "    \n",
    "    val_loader = torch.utils.data.DataLoader(\n",
    "        val_dataset,\n",
    "        batch_size=BATCH_SIZE, \n",
    "        shuffle=True, \n",
    "        num_workers=0,\n",
    "        drop_last=True)\n",
    "    \n",
    "    dataloaders_dict = {\"train\": train_loader, \"val\": val_loader}\n",
    "    return dataloaders_dict\n",
    "\n",
    "\n",
    "def get_test_loader(dataset):\n",
    "    \n",
    "    loader = torch.utils.data.DataLoader(\n",
    "        dataset,\n",
    "        batch_size=BATCH_SIZE, \n",
    "        shuffle=False,\n",
    "        num_workers=0)  \n",
    "    \n",
    "    return loader"
   ]
  },
  {
   "cell_type": "code",
   "execution_count": 10,
   "id": "c4f209cb",
   "metadata": {
    "execution": {
     "iopub.execute_input": "2021-07-29T10:30:31.507455Z",
     "iopub.status.busy": "2021-07-29T10:30:31.506871Z",
     "iopub.status.idle": "2021-07-29T10:30:31.511055Z",
     "shell.execute_reply": "2021-07-29T10:30:31.510603Z",
     "shell.execute_reply.started": "2021-07-29T10:29:42.803581Z"
    },
    "papermill": {
     "duration": 0.023397,
     "end_time": "2021-07-29T10:30:31.511201",
     "exception": false,
     "start_time": "2021-07-29T10:30:31.487804",
     "status": "completed"
    },
    "tags": []
   },
   "outputs": [],
   "source": [
    "test_loader = get_test_loader(test_dataset)"
   ]
  },
  {
   "cell_type": "markdown",
   "id": "04063b8f",
   "metadata": {
    "papermill": {
     "duration": 0.017742,
     "end_time": "2021-07-29T10:30:31.547200",
     "exception": false,
     "start_time": "2021-07-29T10:30:31.529458",
     "status": "completed"
    },
    "tags": []
   },
   "source": [
    "### 4) Define Model"
   ]
  },
  {
   "cell_type": "code",
   "execution_count": 11,
   "id": "c7bfdb5f",
   "metadata": {
    "execution": {
     "iopub.execute_input": "2021-07-29T10:30:31.586856Z",
     "iopub.status.busy": "2021-07-29T10:30:31.586134Z",
     "iopub.status.idle": "2021-07-29T10:30:31.588362Z",
     "shell.execute_reply": "2021-07-29T10:30:31.588792Z",
     "shell.execute_reply.started": "2021-07-29T10:29:43.730852Z"
    },
    "papermill": {
     "duration": 0.026219,
     "end_time": "2021-07-29T10:30:31.588905",
     "exception": false,
     "start_time": "2021-07-29T10:30:31.562686",
     "status": "completed"
    },
    "tags": []
   },
   "outputs": [],
   "source": [
    "class MainModel(nn.Module):\n",
    "    def __init__(self):\n",
    "        super().__init__()\n",
    "\n",
    "        config = AutoConfig.from_pretrained(ROBERTA_PATH)\n",
    "        config.update({\"output_hidden_states\":True, \n",
    "                       \"hidden_dropout_prob\": 0.0,\n",
    "                       \"layer_norm_eps\": 1e-7})                       \n",
    "        \n",
    "        self.roberta = AutoModel.from_pretrained(ROBERTA_PATH, config=config)\n",
    "        self.attention = nn.Sequential(            \n",
    "            nn.Linear(768, 512),            \n",
    "            nn.Tanh(),                       \n",
    "            nn.Linear(512, 1),\n",
    "            nn.Softmax(dim=1)\n",
    "        )        \n",
    "\n",
    "        self.regressor = nn.Sequential(                        \n",
    "            nn.Linear(768, 1)                        \n",
    "        )\n",
    "        \n",
    "\n",
    "    def forward(self, input_ids, attention_mask):\n",
    "        roberta_output = self.roberta(input_ids=input_ids,\n",
    "                                      attention_mask=attention_mask) \n",
    "        # roberta's hidden_size = 768\n",
    "        last_layer_hidden_states = roberta_output.hidden_states[-1]\n",
    "        #print(last_layer_hidden_states)\n",
    "        \n",
    "        weights = self.attention(last_layer_hidden_states)        \n",
    "        #print(weights)\n",
    "        \n",
    "        context_vector = torch.sum(weights * last_layer_hidden_states, dim=1)        \n",
    "        #print(context_vector)\n",
    "        \n",
    "        # Now we reduce the context vector to the prediction score.\n",
    "        context_vector = self.regressor(context_vector).view(-1,)\n",
    "        \n",
    "        return context_vector"
   ]
  },
  {
   "cell_type": "code",
   "execution_count": 12,
   "id": "363f4f88",
   "metadata": {
    "execution": {
     "iopub.execute_input": "2021-07-29T10:30:31.786453Z",
     "iopub.status.busy": "2021-07-29T10:30:31.785541Z",
     "iopub.status.idle": "2021-07-29T10:30:31.789017Z",
     "shell.execute_reply": "2021-07-29T10:30:31.789690Z",
     "shell.execute_reply.started": "2021-07-29T10:29:45.217379Z"
    },
    "papermill": {
     "duration": 0.18518,
     "end_time": "2021-07-29T10:30:31.789915",
     "exception": false,
     "start_time": "2021-07-29T10:30:31.604735",
     "status": "completed"
    },
    "tags": []
   },
   "outputs": [],
   "source": [
    "import gc\n",
    "gc.collect()\n",
    "torch.cuda.empty_cache()"
   ]
  },
  {
   "cell_type": "code",
   "execution_count": 13,
   "id": "03fc86d6",
   "metadata": {
    "execution": {
     "iopub.execute_input": "2021-07-29T10:30:31.826368Z",
     "iopub.status.busy": "2021-07-29T10:30:31.825733Z",
     "iopub.status.idle": "2021-07-29T10:30:51.013536Z",
     "shell.execute_reply": "2021-07-29T10:30:51.012785Z",
     "shell.execute_reply.started": "2021-07-29T10:29:46.294082Z"
    },
    "papermill": {
     "duration": 19.207552,
     "end_time": "2021-07-29T10:30:51.013666",
     "exception": false,
     "start_time": "2021-07-29T10:30:31.806114",
     "status": "completed"
    },
    "tags": []
   },
   "outputs": [
    {
     "data": {
      "text/plain": [
       "<All keys matched successfully>"
      ]
     },
     "execution_count": 13,
     "metadata": {},
     "output_type": "execute_result"
    }
   ],
   "source": [
    "model = MainModel() \n",
    "model.load_state_dict(torch.load(model_path, map_location=device))    "
   ]
  },
  {
   "cell_type": "markdown",
   "id": "c213e777",
   "metadata": {
    "papermill": {
     "duration": 0.016003,
     "end_time": "2021-07-29T10:30:51.046029",
     "exception": false,
     "start_time": "2021-07-29T10:30:51.030026",
     "status": "completed"
    },
    "tags": []
   },
   "source": [
    "### 6) Evaluate"
   ]
  },
  {
   "cell_type": "code",
   "execution_count": 14,
   "id": "0772cdb1",
   "metadata": {
    "execution": {
     "iopub.execute_input": "2021-07-29T10:30:51.085105Z",
     "iopub.status.busy": "2021-07-29T10:30:51.083886Z",
     "iopub.status.idle": "2021-07-29T10:30:51.086613Z",
     "shell.execute_reply": "2021-07-29T10:30:51.086212Z",
     "shell.execute_reply.started": "2021-07-29T10:29:49.502202Z"
    },
    "papermill": {
     "duration": 0.02466,
     "end_time": "2021-07-29T10:30:51.086719",
     "exception": false,
     "start_time": "2021-07-29T10:30:51.062059",
     "status": "completed"
    },
    "tags": []
   },
   "outputs": [],
   "source": [
    "def evaluate(model, loader):\n",
    "    '''\n",
    "    model = RobertaModel()\n",
    "    model.load_state_dict(torch.load(f'roberta.pth'))\n",
    "    model.to(device)\n",
    "    '''\n",
    "    predictions = []\n",
    "    \n",
    "    model.to(device)\n",
    "    model.eval()\n",
    "    \n",
    "    for data in loader:\n",
    "        ids = data['input_ids'].to(device, dtype=torch.int64)\n",
    "        masks = data['attention_mask'].to(device, dtype=torch.int64)\n",
    "        \n",
    "        with torch.no_grad():\n",
    "            preds = model(ids, masks)\n",
    "            for pred in preds:\n",
    "                predictions.append(pred.item()) \n",
    "            \n",
    "                  \n",
    "    return predictions"
   ]
  },
  {
   "cell_type": "markdown",
   "id": "d1231406",
   "metadata": {
    "papermill": {
     "duration": 0.017778,
     "end_time": "2021-07-29T10:30:51.120882",
     "exception": false,
     "start_time": "2021-07-29T10:30:51.103104",
     "status": "completed"
    },
    "tags": []
   },
   "source": [
    "### Submission"
   ]
  },
  {
   "cell_type": "code",
   "execution_count": 15,
   "id": "0ad2fb9b",
   "metadata": {
    "execution": {
     "iopub.execute_input": "2021-07-29T10:30:51.165361Z",
     "iopub.status.busy": "2021-07-29T10:30:51.163966Z",
     "iopub.status.idle": "2021-07-29T10:30:52.150015Z",
     "shell.execute_reply": "2021-07-29T10:30:52.149235Z",
     "shell.execute_reply.started": "2021-07-29T10:29:50.577950Z"
    },
    "papermill": {
     "duration": 1.010315,
     "end_time": "2021-07-29T10:30:52.150166",
     "exception": false,
     "start_time": "2021-07-29T10:30:51.139851",
     "status": "completed"
    },
    "tags": []
   },
   "outputs": [
    {
     "data": {
      "text/html": [
       "<div>\n",
       "<style scoped>\n",
       "    .dataframe tbody tr th:only-of-type {\n",
       "        vertical-align: middle;\n",
       "    }\n",
       "\n",
       "    .dataframe tbody tr th {\n",
       "        vertical-align: top;\n",
       "    }\n",
       "\n",
       "    .dataframe thead th {\n",
       "        text-align: right;\n",
       "    }\n",
       "</style>\n",
       "<table border=\"1\" class=\"dataframe\">\n",
       "  <thead>\n",
       "    <tr style=\"text-align: right;\">\n",
       "      <th></th>\n",
       "      <th>id</th>\n",
       "      <th>target</th>\n",
       "    </tr>\n",
       "  </thead>\n",
       "  <tbody>\n",
       "    <tr>\n",
       "      <th>0</th>\n",
       "      <td>c0f722661</td>\n",
       "      <td>-0.502142</td>\n",
       "    </tr>\n",
       "    <tr>\n",
       "      <th>1</th>\n",
       "      <td>f0953f0a5</td>\n",
       "      <td>-0.249424</td>\n",
       "    </tr>\n",
       "    <tr>\n",
       "      <th>2</th>\n",
       "      <td>0df072751</td>\n",
       "      <td>-0.547630</td>\n",
       "    </tr>\n",
       "    <tr>\n",
       "      <th>3</th>\n",
       "      <td>04caf4e0c</td>\n",
       "      <td>-1.911358</td>\n",
       "    </tr>\n",
       "    <tr>\n",
       "      <th>4</th>\n",
       "      <td>0e63f8bea</td>\n",
       "      <td>-1.521187</td>\n",
       "    </tr>\n",
       "  </tbody>\n",
       "</table>\n",
       "</div>"
      ],
      "text/plain": [
       "          id    target\n",
       "0  c0f722661 -0.502142\n",
       "1  f0953f0a5 -0.249424\n",
       "2  0df072751 -0.547630\n",
       "3  04caf4e0c -1.911358\n",
       "4  0e63f8bea -1.521187"
      ]
     },
     "execution_count": 15,
     "metadata": {},
     "output_type": "execute_result"
    }
   ],
   "source": [
    "predictions = evaluate(model, test_loader)\n",
    "\n",
    "submission_df['target'] = predictions\n",
    "submission_df.head()"
   ]
  },
  {
   "cell_type": "code",
   "execution_count": 16,
   "id": "31082c8f",
   "metadata": {
    "execution": {
     "iopub.execute_input": "2021-07-29T10:30:52.187148Z",
     "iopub.status.busy": "2021-07-29T10:30:52.186459Z",
     "iopub.status.idle": "2021-07-29T10:30:52.191618Z",
     "shell.execute_reply": "2021-07-29T10:30:52.191216Z",
     "shell.execute_reply.started": "2021-07-29T10:29:50.801194Z"
    },
    "papermill": {
     "duration": 0.024797,
     "end_time": "2021-07-29T10:30:52.191733",
     "exception": false,
     "start_time": "2021-07-29T10:30:52.166936",
     "status": "completed"
    },
    "tags": []
   },
   "outputs": [],
   "source": [
    "submission_df.to_csv('submission.csv', index=False)"
   ]
  },
  {
   "cell_type": "code",
   "execution_count": null,
   "id": "9d81888a",
   "metadata": {
    "papermill": {
     "duration": 0.015968,
     "end_time": "2021-07-29T10:30:52.223930",
     "exception": false,
     "start_time": "2021-07-29T10:30:52.207962",
     "status": "completed"
    },
    "tags": []
   },
   "outputs": [],
   "source": []
  }
 ],
 "metadata": {
  "kernelspec": {
   "display_name": "Python 3",
   "language": "python",
   "name": "python3"
  },
  "language_info": {
   "codemirror_mode": {
    "name": "ipython",
    "version": 3
   },
   "file_extension": ".py",
   "mimetype": "text/x-python",
   "name": "python",
   "nbconvert_exporter": "python",
   "pygments_lexer": "ipython3",
   "version": "3.7.10"
  },
  "papermill": {
   "default_parameters": {},
   "duration": 37.718698,
   "end_time": "2021-07-29T10:30:54.796476",
   "environment_variables": {},
   "exception": null,
   "input_path": "__notebook__.ipynb",
   "output_path": "__notebook__.ipynb",
   "parameters": {},
   "start_time": "2021-07-29T10:30:17.077778",
   "version": "2.3.3"
  }
 },
 "nbformat": 4,
 "nbformat_minor": 5
}

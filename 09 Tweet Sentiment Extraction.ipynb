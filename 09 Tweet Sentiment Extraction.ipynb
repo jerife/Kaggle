{
 "cells": [
  {
   "attachments": {
    "113a7a6d-1cba-4e25-b3ad-3b77fb2d5136.png": {
     "image/png": "[encoded data removed]"
    }
   },
   "cell_type": "markdown",
   "id": "adverse-establishment",
   "metadata": {
    "papermill": {
     "duration": 0.047989,
     "end_time": "2021-05-19T14:48:42.841244",
     "exception": false,
     "start_time": "2021-05-19T14:48:42.793255",
     "status": "completed"
    },
    "tags": []
   },
   "source": [
    "\n",
    "# Tweet Sentiment Extraction\n",
    "\n",
    "![tweets_resize.png](attachment:113a7a6d-1cba-4e25-b3ad-3b77fb2d5136.png)\n",
    "\n",
    "\n",
    "## Overview\n",
    "\n",
    "This Notebook will be completed in two main ways.<br/>\n",
    "First, find and visualize useful data or meaningful relationships within the data.<br/>\n",
    "Second, select a model based on the visualization of the previous process. Transform or refine the data into the appropriate form for the model to be used.<br/><br/>\n",
    "\n",
    "This competition does not categorize the positive or negative of a sentence, unlike a general emotional analysis competition.<br/>\n",
    "In the sentence, it was interesting in that it was a contest to extract the sentence that influenced the emotion of the sentence the most. \n",
    "##### \"We should keep in mind that we should extract sentences, not categorize sentiment.\"<br/>\n",
    "\n",
    "\n",
    "#### My opinion :\n",
    "Let me explain how to use the data when modelig :)\n"
   ]
  },
  {
   "cell_type": "markdown",
   "id": "premium-pacific",
   "metadata": {
    "papermill": {
     "duration": 0.046254,
     "end_time": "2021-05-19T14:48:42.934576",
     "exception": false,
     "start_time": "2021-05-19T14:48:42.888322",
     "status": "completed"
    },
    "tags": []
   },
   "source": [
    "***\n",
    "\n",
    "## My workflow\n",
    "#### 1. Import & Install libray\n",
    "* Import basic libray\n",
    "* Import Enginnering libray\n",
    "* Install stopwords list\n",
    "\n",
    "#### 2. Check out my data\n",
    "* Check Shape / Info\n",
    "\n",
    "#### 3. Exploratory Data Analysis(EDA) with Visualization [Before Preprocessing]\n",
    "* Plot the null values\n",
    "* Plot the \"sentiment\" columns count\n",
    "* Number of alphabets by sentence / Number of words by sentence\n",
    "* Bi-gram by sentiment per texts in Tweets\n",
    "\n",
    "#### 4. Prepocessing Data\n",
    "* Drop null rows & useless columns\n",
    "* Cleansing \"text\" / \"selected_text\" data\n",
    "\n",
    "#### 5. Visualization [After Preprocessing]\n",
    "* Wordcloude by sentiment per selected text in Tweets\n",
    "\n",
    "#### 7. Modeling\n",
    "* Not yet"
   ]
  },
  {
   "cell_type": "markdown",
   "id": "brave-continent",
   "metadata": {
    "papermill": {
     "duration": 0.045911,
     "end_time": "2021-05-19T14:48:43.027812",
     "exception": false,
     "start_time": "2021-05-19T14:48:42.981901",
     "status": "completed"
    },
    "tags": []
   },
   "source": [
    "# 1. Import & Install libray\n",
    "* Import basic libray\n",
    "* Import Enginnering libray\n",
    "* Install stopwords list"
   ]
  },
  {
   "cell_type": "code",
   "execution_count": 1,
   "id": "above-isolation",
   "metadata": {
    "execution": {
     "iopub.execute_input": "2021-05-19T14:48:43.126271Z",
     "iopub.status.busy": "2021-05-19T14:48:43.124992Z",
     "iopub.status.idle": "2021-05-19T14:48:45.571325Z",
     "shell.execute_reply": "2021-05-19T14:48:45.570496Z"
    },
    "papermill": {
     "duration": 2.497319,
     "end_time": "2021-05-19T14:48:45.571544",
     "exception": false,
     "start_time": "2021-05-19T14:48:43.074225",
     "status": "completed"
    },
    "tags": []
   },
   "outputs": [],
   "source": [
    "import re\n",
    "import os\n",
    "import random\n",
    "\n",
    "import numpy as np\n",
    "import pandas as pd\n",
    "\n",
    "import matplotlib.pyplot as plt\n",
    "import seaborn as sns\n",
    "import missingno as msno\n",
    "import plotly.express as px\n",
    "\n",
    "import warnings\n",
    "warnings.filterwarnings('ignore')\n",
    "plt.style.use('seaborn')\n",
    "\n",
    "%matplotlib inline"
   ]
  },
  {
   "cell_type": "code",
   "execution_count": 2,
   "id": "composite-zambia",
   "metadata": {
    "execution": {
     "iopub.execute_input": "2021-05-19T14:48:45.672278Z",
     "iopub.status.busy": "2021-05-19T14:48:45.671523Z",
     "iopub.status.idle": "2021-05-19T14:48:48.330518Z",
     "shell.execute_reply": "2021-05-19T14:48:48.329889Z"
    },
    "papermill": {
     "duration": 2.712343,
     "end_time": "2021-05-19T14:48:48.330662",
     "exception": false,
     "start_time": "2021-05-19T14:48:45.618319",
     "status": "completed"
    },
    "tags": []
   },
   "outputs": [],
   "source": [
    "import torch\n",
    "import torchtext\n",
    "from torchtext import data, datasets\n",
    "import torch.nn as nn\n",
    "import torch.nn.functional as F\n",
    "import torch.utils.data\n",
    "from torch.utils.data import TensorDataset, DataLoader\n",
    "import torch.optim as optim\n",
    "\n",
    "from transformers import BertTokenizer, BertModel\n",
    "\n",
    "import tokenizers\n",
    "\n",
    "import nltk\n",
    "from nltk.stem import SnowballStemmer\n",
    "from nltk.stem import WordNetLemmatizer\n",
    "from wordcloud import WordCloud\n",
    "from PIL import Image\n",
    "\n",
    "from sklearn.feature_extraction.text import CountVectorizer, TfidfVectorizer\n",
    "from sklearn.model_selection import train_test_split"
   ]
  },
  {
   "cell_type": "code",
   "execution_count": 3,
   "id": "iraqi-booth",
   "metadata": {
    "execution": {
     "iopub.execute_input": "2021-05-19T14:48:48.438586Z",
     "iopub.status.busy": "2021-05-19T14:48:48.431498Z",
     "iopub.status.idle": "2021-05-19T14:48:48.588953Z",
     "shell.execute_reply": "2021-05-19T14:48:48.588403Z"
    },
    "papermill": {
     "duration": 0.210715,
     "end_time": "2021-05-19T14:48:48.589107",
     "exception": false,
     "start_time": "2021-05-19T14:48:48.378392",
     "status": "completed"
    },
    "tags": []
   },
   "outputs": [
    {
     "name": "stdout",
     "output_type": "stream",
     "text": [
      "[nltk_data] Downloading package stopwords to /usr/share/nltk_data...\n",
      "[nltk_data]   Package stopwords is already up-to-date!\n"
     ]
    }
   ],
   "source": [
    "nltk.download('stopwords')\n",
    "from nltk.corpus import stopwords\n",
    "stop_words = stopwords.words('english')"
   ]
  },
  {
   "cell_type": "code",
   "execution_count": 4,
   "id": "collaborative-magnet",
   "metadata": {
    "execution": {
     "iopub.execute_input": "2021-05-19T14:48:48.689044Z",
     "iopub.status.busy": "2021-05-19T14:48:48.688187Z",
     "iopub.status.idle": "2021-05-19T14:48:48.883449Z",
     "shell.execute_reply": "2021-05-19T14:48:48.882934Z"
    },
    "papermill": {
     "duration": 0.246934,
     "end_time": "2021-05-19T14:48:48.883592",
     "exception": false,
     "start_time": "2021-05-19T14:48:48.636658",
     "status": "completed"
    },
    "tags": []
   },
   "outputs": [
    {
     "data": {
      "text/html": [
       "<div>\n",
       "<style scoped>\n",
       "    .dataframe tbody tr th:only-of-type {\n",
       "        vertical-align: middle;\n",
       "    }\n",
       "\n",
       "    .dataframe tbody tr th {\n",
       "        vertical-align: top;\n",
       "    }\n",
       "\n",
       "    .dataframe thead th {\n",
       "        text-align: right;\n",
       "    }\n",
       "</style>\n",
       "<table border=\"1\" class=\"dataframe\">\n",
       "  <thead>\n",
       "    <tr style=\"text-align: right;\">\n",
       "      <th></th>\n",
       "      <th>textID</th>\n",
       "      <th>text</th>\n",
       "      <th>selected_text</th>\n",
       "      <th>sentiment</th>\n",
       "    </tr>\n",
       "  </thead>\n",
       "  <tbody>\n",
       "    <tr>\n",
       "      <th>0</th>\n",
       "      <td>cb774db0d1</td>\n",
       "      <td>I`d have responded, if I were going</td>\n",
       "      <td>I`d have responded, if I were going</td>\n",
       "      <td>neutral</td>\n",
       "    </tr>\n",
       "    <tr>\n",
       "      <th>1</th>\n",
       "      <td>549e992a42</td>\n",
       "      <td>Sooo SAD I will miss you here in San Diego!!!</td>\n",
       "      <td>Sooo SAD</td>\n",
       "      <td>negative</td>\n",
       "    </tr>\n",
       "    <tr>\n",
       "      <th>2</th>\n",
       "      <td>088c60f138</td>\n",
       "      <td>my boss is bullying me...</td>\n",
       "      <td>bullying me</td>\n",
       "      <td>negative</td>\n",
       "    </tr>\n",
       "    <tr>\n",
       "      <th>3</th>\n",
       "      <td>9642c003ef</td>\n",
       "      <td>what interview! leave me alone</td>\n",
       "      <td>leave me alone</td>\n",
       "      <td>negative</td>\n",
       "    </tr>\n",
       "    <tr>\n",
       "      <th>4</th>\n",
       "      <td>358bd9e861</td>\n",
       "      <td>Sons of ****, why couldn`t they put them on t...</td>\n",
       "      <td>Sons of ****,</td>\n",
       "      <td>negative</td>\n",
       "    </tr>\n",
       "  </tbody>\n",
       "</table>\n",
       "</div>"
      ],
      "text/plain": [
       "       textID                                               text  \\\n",
       "0  cb774db0d1                I`d have responded, if I were going   \n",
       "1  549e992a42      Sooo SAD I will miss you here in San Diego!!!   \n",
       "2  088c60f138                          my boss is bullying me...   \n",
       "3  9642c003ef                     what interview! leave me alone   \n",
       "4  358bd9e861   Sons of ****, why couldn`t they put them on t...   \n",
       "\n",
       "                         selected_text sentiment  \n",
       "0  I`d have responded, if I were going   neutral  \n",
       "1                             Sooo SAD  negative  \n",
       "2                          bullying me  negative  \n",
       "3                       leave me alone  negative  \n",
       "4                        Sons of ****,  negative  "
      ]
     },
     "execution_count": 4,
     "metadata": {},
     "output_type": "execute_result"
    }
   ],
   "source": [
    "train_df = pd.read_csv('/kaggle/input/tweet-sentiment-extraction/train.csv')\n",
    "test_df = pd.read_csv('/kaggle/input/tweet-sentiment-extraction/test.csv')\n",
    "train_df.head()"
   ]
  },
  {
   "cell_type": "markdown",
   "id": "fiscal-express",
   "metadata": {
    "papermill": {
     "duration": 0.049407,
     "end_time": "2021-05-19T14:48:48.981529",
     "exception": false,
     "start_time": "2021-05-19T14:48:48.932122",
     "status": "completed"
    },
    "tags": []
   },
   "source": [
    "# 2. Check out my data\n",
    "* Check Shape / Info\n",
    "* Set color palette"
   ]
  },
  {
   "cell_type": "code",
   "execution_count": 5,
   "id": "controversial-cincinnati",
   "metadata": {
    "execution": {
     "iopub.execute_input": "2021-05-19T14:48:49.083191Z",
     "iopub.status.busy": "2021-05-19T14:48:49.082529Z",
     "iopub.status.idle": "2021-05-19T14:48:49.089518Z",
     "shell.execute_reply": "2021-05-19T14:48:49.088955Z"
    },
    "papermill": {
     "duration": 0.058331,
     "end_time": "2021-05-19T14:48:49.089654",
     "exception": false,
     "start_time": "2021-05-19T14:48:49.031323",
     "status": "completed"
    },
    "tags": []
   },
   "outputs": [
    {
     "name": "stdout",
     "output_type": "stream",
     "text": [
      "Train data size : (27481, 4)\n",
      "Test data size : (3534, 3)\n"
     ]
    }
   ],
   "source": [
    "print(\"Train data size : {}\".format(train_df.shape))\n",
    "print(\"Test data size : {}\".format(test_df.shape))"
   ]
  },
  {
   "cell_type": "code",
   "execution_count": 6,
   "id": "alien-elder",
   "metadata": {
    "execution": {
     "iopub.execute_input": "2021-05-19T14:48:49.202440Z",
     "iopub.status.busy": "2021-05-19T14:48:49.201647Z",
     "iopub.status.idle": "2021-05-19T14:48:49.221629Z",
     "shell.execute_reply": "2021-05-19T14:48:49.220871Z"
    },
    "papermill": {
     "duration": 0.083549,
     "end_time": "2021-05-19T14:48:49.221802",
     "exception": false,
     "start_time": "2021-05-19T14:48:49.138253",
     "status": "completed"
    },
    "tags": []
   },
   "outputs": [
    {
     "name": "stdout",
     "output_type": "stream",
     "text": [
      "<class 'pandas.core.frame.DataFrame'>\n",
      "RangeIndex: 27481 entries, 0 to 27480\n",
      "Data columns (total 4 columns):\n",
      " #   Column         Non-Null Count  Dtype \n",
      "---  ------         --------------  ----- \n",
      " 0   textID         27481 non-null  object\n",
      " 1   text           27480 non-null  object\n",
      " 2   selected_text  27480 non-null  object\n",
      " 3   sentiment      27481 non-null  object\n",
      "dtypes: object(4)\n",
      "memory usage: 858.9+ KB\n"
     ]
    }
   ],
   "source": [
    "train_df.info()"
   ]
  },
  {
   "cell_type": "code",
   "execution_count": 7,
   "id": "broke-cabin",
   "metadata": {
    "execution": {
     "iopub.execute_input": "2021-05-19T14:48:49.327343Z",
     "iopub.status.busy": "2021-05-19T14:48:49.326132Z",
     "iopub.status.idle": "2021-05-19T14:48:49.507826Z",
     "shell.execute_reply": "2021-05-19T14:48:49.507217Z"
    },
    "papermill": {
     "duration": 0.236937,
     "end_time": "2021-05-19T14:48:49.507985",
     "exception": false,
     "start_time": "2021-05-19T14:48:49.271048",
     "status": "completed"
    },
    "tags": []
   },
   "outputs": [
    {
     "data": {
      "image/png": "[encoded data removed]",
      "text/plain": [
       "<Figure size 720x72 with 1 Axes>"
      ]
     },
     "metadata": {
      "needs_background": "light"
     },
     "output_type": "display_data"
    },
    {
     "data": {
      "image/png": "[encoded data removed]",
      "text/plain": [
       "<Figure size 720x72 with 1 Axes>"
      ]
     },
     "metadata": {
      "needs_background": "light"
     },
     "output_type": "display_data"
    }
   ],
   "source": [
    "PuBu_palette = sns.color_palette(\"PuBu\", 10)\n",
    "YlGnBu_palette = sns.color_palette(\"YlGnBu\", 10)\n",
    "sns.palplot(PuBu_palette)\n",
    "sns.palplot(YlGnBu_palette)"
   ]
  },
  {
   "cell_type": "markdown",
   "id": "acoustic-graphic",
   "metadata": {
    "papermill": {
     "duration": 0.050719,
     "end_time": "2021-05-19T14:48:49.609668",
     "exception": false,
     "start_time": "2021-05-19T14:48:49.558949",
     "status": "completed"
    },
    "tags": []
   },
   "source": [
    "#### ✔️ This notebook will use this palettes."
   ]
  },
  {
   "cell_type": "markdown",
   "id": "convertible-snowboard",
   "metadata": {
    "papermill": {
     "duration": 0.049857,
     "end_time": "2021-05-19T14:48:49.709809",
     "exception": false,
     "start_time": "2021-05-19T14:48:49.659952",
     "status": "completed"
    },
    "tags": []
   },
   "source": [
    "# 3. Exploratory Data Analysis(EDA) with Visualization [Before Preprocessing]\n",
    "* Plot the null values\n",
    "* Plot the \"sentiment\" columns count\n",
    "* Number of alphabets by sentence / Number of words by sentence\n",
    "* Bi-gram by sentiment per texts in Tweets"
   ]
  },
  {
   "cell_type": "markdown",
   "id": "passive-nicholas",
   "metadata": {
    "papermill": {
     "duration": 0.049431,
     "end_time": "2021-05-19T14:48:49.809291",
     "exception": false,
     "start_time": "2021-05-19T14:48:49.759860",
     "status": "completed"
    },
    "tags": []
   },
   "source": [
    "### 3-1)  Plot the Null Values"
   ]
  },
  {
   "cell_type": "code",
   "execution_count": 8,
   "id": "rapid-stamp",
   "metadata": {
    "execution": {
     "iopub.execute_input": "2021-05-19T14:48:49.929104Z",
     "iopub.status.busy": "2021-05-19T14:48:49.924153Z",
     "iopub.status.idle": "2021-05-19T14:48:49.935185Z",
     "shell.execute_reply": "2021-05-19T14:48:49.934511Z"
    },
    "papermill": {
     "duration": 0.076116,
     "end_time": "2021-05-19T14:48:49.935329",
     "exception": false,
     "start_time": "2021-05-19T14:48:49.859213",
     "status": "completed"
    },
    "tags": []
   },
   "outputs": [
    {
     "data": {
      "text/html": [
       "<div>\n",
       "<style scoped>\n",
       "    .dataframe tbody tr th:only-of-type {\n",
       "        vertical-align: middle;\n",
       "    }\n",
       "\n",
       "    .dataframe tbody tr th {\n",
       "        vertical-align: top;\n",
       "    }\n",
       "\n",
       "    .dataframe thead th {\n",
       "        text-align: right;\n",
       "    }\n",
       "</style>\n",
       "<table border=\"1\" class=\"dataframe\">\n",
       "  <thead>\n",
       "    <tr style=\"text-align: right;\">\n",
       "      <th></th>\n",
       "      <th>Train Null Count</th>\n",
       "    </tr>\n",
       "  </thead>\n",
       "  <tbody>\n",
       "    <tr>\n",
       "      <th>textID</th>\n",
       "      <td>0</td>\n",
       "    </tr>\n",
       "    <tr>\n",
       "      <th>text</th>\n",
       "      <td>1</td>\n",
       "    </tr>\n",
       "    <tr>\n",
       "      <th>selected_text</th>\n",
       "      <td>1</td>\n",
       "    </tr>\n",
       "    <tr>\n",
       "      <th>sentiment</th>\n",
       "      <td>0</td>\n",
       "    </tr>\n",
       "  </tbody>\n",
       "</table>\n",
       "</div>"
      ],
      "text/plain": [
       "               Train Null Count\n",
       "textID                        0\n",
       "text                          1\n",
       "selected_text                 1\n",
       "sentiment                     0"
      ]
     },
     "execution_count": 8,
     "metadata": {},
     "output_type": "execute_result"
    }
   ],
   "source": [
    "pd.DataFrame(train_df.isnull().sum(), columns=[\"Train Null Count\"])"
   ]
  },
  {
   "cell_type": "code",
   "execution_count": 9,
   "id": "educated-department",
   "metadata": {
    "execution": {
     "iopub.execute_input": "2021-05-19T14:48:50.050601Z",
     "iopub.status.busy": "2021-05-19T14:48:50.049789Z",
     "iopub.status.idle": "2021-05-19T14:48:50.053631Z",
     "shell.execute_reply": "2021-05-19T14:48:50.052944Z"
    },
    "papermill": {
     "duration": 0.06644,
     "end_time": "2021-05-19T14:48:50.053789",
     "exception": false,
     "start_time": "2021-05-19T14:48:49.987349",
     "status": "completed"
    },
    "tags": []
   },
   "outputs": [
    {
     "data": {
      "text/html": [
       "<div>\n",
       "<style scoped>\n",
       "    .dataframe tbody tr th:only-of-type {\n",
       "        vertical-align: middle;\n",
       "    }\n",
       "\n",
       "    .dataframe tbody tr th {\n",
       "        vertical-align: top;\n",
       "    }\n",
       "\n",
       "    .dataframe thead th {\n",
       "        text-align: right;\n",
       "    }\n",
       "</style>\n",
       "<table border=\"1\" class=\"dataframe\">\n",
       "  <thead>\n",
       "    <tr style=\"text-align: right;\">\n",
       "      <th></th>\n",
       "      <th>Test Null Count</th>\n",
       "    </tr>\n",
       "  </thead>\n",
       "  <tbody>\n",
       "    <tr>\n",
       "      <th>textID</th>\n",
       "      <td>0</td>\n",
       "    </tr>\n",
       "    <tr>\n",
       "      <th>text</th>\n",
       "      <td>0</td>\n",
       "    </tr>\n",
       "    <tr>\n",
       "      <th>sentiment</th>\n",
       "      <td>0</td>\n",
       "    </tr>\n",
       "  </tbody>\n",
       "</table>\n",
       "</div>"
      ],
      "text/plain": [
       "           Test Null Count\n",
       "textID                   0\n",
       "text                     0\n",
       "sentiment                0"
      ]
     },
     "execution_count": 9,
     "metadata": {},
     "output_type": "execute_result"
    }
   ],
   "source": [
    "pd.DataFrame(test_df.isnull().sum(), columns=[\"Test Null Count\"])"
   ]
  },
  {
   "cell_type": "code",
   "execution_count": 10,
   "id": "encouraging-assault",
   "metadata": {
    "execution": {
     "iopub.execute_input": "2021-05-19T14:48:50.174416Z",
     "iopub.status.busy": "2021-05-19T14:48:50.173690Z",
     "iopub.status.idle": "2021-05-19T14:48:50.421922Z",
     "shell.execute_reply": "2021-05-19T14:48:50.421346Z"
    },
    "papermill": {
     "duration": 0.316218,
     "end_time": "2021-05-19T14:48:50.422103",
     "exception": false,
     "start_time": "2021-05-19T14:48:50.105885",
     "status": "completed"
    },
    "tags": []
   },
   "outputs": [
    {
     "data": {
      "text/plain": [
       "<AxesSubplot:>"
      ]
     },
     "execution_count": 10,
     "metadata": {},
     "output_type": "execute_result"
    },
    {
     "data": {
      "image/png": "[encoded data removed]",
      "text/plain": [
       "<Figure size 360x360 with 2 Axes>"
      ]
     },
     "metadata": {
      "needs_background": "light"
     },
     "output_type": "display_data"
    }
   ],
   "source": [
    "msno.matrix(df=train_df.iloc[:,:],figsize=(5,5),color=YlGnBu_palette[8])"
   ]
  },
  {
   "cell_type": "markdown",
   "id": "decent-obligation",
   "metadata": {
    "papermill": {
     "duration": 0.052838,
     "end_time": "2021-05-19T14:48:50.528984",
     "exception": false,
     "start_time": "2021-05-19T14:48:50.476146",
     "status": "completed"
    },
    "tags": []
   },
   "source": [
    "### 3-2)  Plot the \"sentiment\" columns count"
   ]
  },
  {
   "cell_type": "code",
   "execution_count": 11,
   "id": "nuclear-characterization",
   "metadata": {
    "execution": {
     "iopub.execute_input": "2021-05-19T14:48:50.657175Z",
     "iopub.status.busy": "2021-05-19T14:48:50.647185Z",
     "iopub.status.idle": "2021-05-19T14:48:50.838741Z",
     "shell.execute_reply": "2021-05-19T14:48:50.839274Z"
    },
    "papermill": {
     "duration": 0.25785,
     "end_time": "2021-05-19T14:48:50.839470",
     "exception": false,
     "start_time": "2021-05-19T14:48:50.581620",
     "status": "completed"
    },
    "tags": []
   },
   "outputs": [
    {
     "data": {
      "image/png": "[encoded data removed]",
      "text/plain": [
       "<Figure size 504x360 with 1 Axes>"
      ]
     },
     "metadata": {
      "needs_background": "light"
     },
     "output_type": "display_data"
    }
   ],
   "source": [
    "fig, ax = plt.subplots(1,1,figsize=(7, 5))\n",
    "ax = sns.countplot(train_df[\"sentiment\"].sort_values(ascending=False),\n",
    "              order = train_df['sentiment'].value_counts().index,\n",
    "              palette=PuBu_palette[-5:])\n",
    "ax.patch.set_alpha(0)\n",
    "fig.text(0.1,0.92,\"distribution by Sentiment in Tweets\", fontweight=\"bold\", fontfamily='serif', fontsize=17)\n",
    "plt.show()"
   ]
  },
  {
   "cell_type": "markdown",
   "id": "mysterious-occasions",
   "metadata": {
    "papermill": {
     "duration": 0.053376,
     "end_time": "2021-05-19T14:48:50.946593",
     "exception": false,
     "start_time": "2021-05-19T14:48:50.893217",
     "status": "completed"
    },
    "tags": []
   },
   "source": [
    "### 3-3) Number of alphabets by sentence / Number of words by sentence"
   ]
  },
  {
   "cell_type": "code",
   "execution_count": 12,
   "id": "demanding-facial",
   "metadata": {
    "execution": {
     "iopub.execute_input": "2021-05-19T14:48:51.059172Z",
     "iopub.status.busy": "2021-05-19T14:48:51.058381Z",
     "iopub.status.idle": "2021-05-19T14:48:51.062490Z",
     "shell.execute_reply": "2021-05-19T14:48:51.063059Z"
    },
    "papermill": {
     "duration": 0.06191,
     "end_time": "2021-05-19T14:48:51.063321",
     "exception": false,
     "start_time": "2021-05-19T14:48:51.001411",
     "status": "completed"
    },
    "tags": []
   },
   "outputs": [],
   "source": [
    "def get_length_alphabets(text):\n",
    "    text = str(text)\n",
    "    return len(text)"
   ]
  },
  {
   "cell_type": "code",
   "execution_count": 13,
   "id": "computational-acting",
   "metadata": {
    "execution": {
     "iopub.execute_input": "2021-05-19T14:48:51.175089Z",
     "iopub.status.busy": "2021-05-19T14:48:51.174360Z",
     "iopub.status.idle": "2021-05-19T14:48:51.178400Z",
     "shell.execute_reply": "2021-05-19T14:48:51.178941Z"
    },
    "papermill": {
     "duration": 0.062055,
     "end_time": "2021-05-19T14:48:51.179166",
     "exception": false,
     "start_time": "2021-05-19T14:48:51.117111",
     "status": "completed"
    },
    "tags": []
   },
   "outputs": [],
   "source": [
    "def get_length_words(text):\n",
    "    text = str(text)\n",
    "    return len(text.split(' '))"
   ]
  },
  {
   "cell_type": "code",
   "execution_count": 14,
   "id": "secret-poland",
   "metadata": {
    "execution": {
     "iopub.execute_input": "2021-05-19T14:48:51.291286Z",
     "iopub.status.busy": "2021-05-19T14:48:51.290510Z",
     "iopub.status.idle": "2021-05-19T14:48:51.370147Z",
     "shell.execute_reply": "2021-05-19T14:48:51.370684Z"
    },
    "papermill": {
     "duration": 0.137067,
     "end_time": "2021-05-19T14:48:51.370876",
     "exception": false,
     "start_time": "2021-05-19T14:48:51.233809",
     "status": "completed"
    },
    "tags": []
   },
   "outputs": [
    {
     "data": {
      "text/html": [
       "<div>\n",
       "<style scoped>\n",
       "    .dataframe tbody tr th:only-of-type {\n",
       "        vertical-align: middle;\n",
       "    }\n",
       "\n",
       "    .dataframe tbody tr th {\n",
       "        vertical-align: top;\n",
       "    }\n",
       "\n",
       "    .dataframe thead th {\n",
       "        text-align: right;\n",
       "    }\n",
       "</style>\n",
       "<table border=\"1\" class=\"dataframe\">\n",
       "  <thead>\n",
       "    <tr style=\"text-align: right;\">\n",
       "      <th></th>\n",
       "      <th>textID</th>\n",
       "      <th>text</th>\n",
       "      <th>selected_text</th>\n",
       "      <th>sentiment</th>\n",
       "      <th>length_alphabets</th>\n",
       "      <th>length_words</th>\n",
       "    </tr>\n",
       "  </thead>\n",
       "  <tbody>\n",
       "    <tr>\n",
       "      <th>0</th>\n",
       "      <td>cb774db0d1</td>\n",
       "      <td>I`d have responded, if I were going</td>\n",
       "      <td>I`d have responded, if I were going</td>\n",
       "      <td>neutral</td>\n",
       "      <td>36</td>\n",
       "      <td>8</td>\n",
       "    </tr>\n",
       "    <tr>\n",
       "      <th>1</th>\n",
       "      <td>549e992a42</td>\n",
       "      <td>Sooo SAD I will miss you here in San Diego!!!</td>\n",
       "      <td>Sooo SAD</td>\n",
       "      <td>negative</td>\n",
       "      <td>46</td>\n",
       "      <td>11</td>\n",
       "    </tr>\n",
       "    <tr>\n",
       "      <th>2</th>\n",
       "      <td>088c60f138</td>\n",
       "      <td>my boss is bullying me...</td>\n",
       "      <td>bullying me</td>\n",
       "      <td>negative</td>\n",
       "      <td>25</td>\n",
       "      <td>5</td>\n",
       "    </tr>\n",
       "    <tr>\n",
       "      <th>3</th>\n",
       "      <td>9642c003ef</td>\n",
       "      <td>what interview! leave me alone</td>\n",
       "      <td>leave me alone</td>\n",
       "      <td>negative</td>\n",
       "      <td>31</td>\n",
       "      <td>6</td>\n",
       "    </tr>\n",
       "    <tr>\n",
       "      <th>4</th>\n",
       "      <td>358bd9e861</td>\n",
       "      <td>Sons of ****, why couldn`t they put them on t...</td>\n",
       "      <td>Sons of ****,</td>\n",
       "      <td>negative</td>\n",
       "      <td>75</td>\n",
       "      <td>15</td>\n",
       "    </tr>\n",
       "  </tbody>\n",
       "</table>\n",
       "</div>"
      ],
      "text/plain": [
       "       textID                                               text  \\\n",
       "0  cb774db0d1                I`d have responded, if I were going   \n",
       "1  549e992a42      Sooo SAD I will miss you here in San Diego!!!   \n",
       "2  088c60f138                          my boss is bullying me...   \n",
       "3  9642c003ef                     what interview! leave me alone   \n",
       "4  358bd9e861   Sons of ****, why couldn`t they put them on t...   \n",
       "\n",
       "                         selected_text sentiment  length_alphabets  \\\n",
       "0  I`d have responded, if I were going   neutral                36   \n",
       "1                             Sooo SAD  negative                46   \n",
       "2                          bullying me  negative                25   \n",
       "3                       leave me alone  negative                31   \n",
       "4                        Sons of ****,  negative                75   \n",
       "\n",
       "   length_words  \n",
       "0             8  \n",
       "1            11  \n",
       "2             5  \n",
       "3             6  \n",
       "4            15  "
      ]
     },
     "execution_count": 14,
     "metadata": {},
     "output_type": "execute_result"
    }
   ],
   "source": [
    "train_df['length_alphabets'] = train_df['text'].apply(lambda x: get_length_alphabets(x))\n",
    "train_df['length_words'] = train_df['text'].apply(lambda x: get_length_words(x))\n",
    "train_df.head()"
   ]
  },
  {
   "cell_type": "markdown",
   "id": "acting-bruce",
   "metadata": {
    "papermill": {
     "duration": 0.055013,
     "end_time": "2021-05-19T14:48:51.480945",
     "exception": false,
     "start_time": "2021-05-19T14:48:51.425932",
     "status": "completed"
    },
    "tags": []
   },
   "source": [
    "#### 💡 We can check dataframes describe ([length_alphabets] / [length_words] )"
   ]
  },
  {
   "cell_type": "code",
   "execution_count": 15,
   "id": "straight-sequence",
   "metadata": {
    "execution": {
     "iopub.execute_input": "2021-05-19T14:48:51.594970Z",
     "iopub.status.busy": "2021-05-19T14:48:51.594317Z",
     "iopub.status.idle": "2021-05-19T14:48:51.616695Z",
     "shell.execute_reply": "2021-05-19T14:48:51.616182Z"
    },
    "papermill": {
     "duration": 0.080312,
     "end_time": "2021-05-19T14:48:51.616841",
     "exception": false,
     "start_time": "2021-05-19T14:48:51.536529",
     "status": "completed"
    },
    "tags": []
   },
   "outputs": [
    {
     "data": {
      "text/html": [
       "<div>\n",
       "<style scoped>\n",
       "    .dataframe tbody tr th:only-of-type {\n",
       "        vertical-align: middle;\n",
       "    }\n",
       "\n",
       "    .dataframe tbody tr th {\n",
       "        vertical-align: top;\n",
       "    }\n",
       "\n",
       "    .dataframe thead th {\n",
       "        text-align: right;\n",
       "    }\n",
       "</style>\n",
       "<table border=\"1\" class=\"dataframe\">\n",
       "  <thead>\n",
       "    <tr style=\"text-align: right;\">\n",
       "      <th></th>\n",
       "      <th>length_alphabets</th>\n",
       "      <th>length_words</th>\n",
       "    </tr>\n",
       "  </thead>\n",
       "  <tbody>\n",
       "    <tr>\n",
       "      <th>count</th>\n",
       "      <td>27481.000000</td>\n",
       "      <td>27481.000000</td>\n",
       "    </tr>\n",
       "    <tr>\n",
       "      <th>mean</th>\n",
       "      <td>68.327645</td>\n",
       "      <td>13.779448</td>\n",
       "    </tr>\n",
       "    <tr>\n",
       "      <th>std</th>\n",
       "      <td>35.605403</td>\n",
       "      <td>7.169974</td>\n",
       "    </tr>\n",
       "    <tr>\n",
       "      <th>min</th>\n",
       "      <td>3.000000</td>\n",
       "      <td>1.000000</td>\n",
       "    </tr>\n",
       "    <tr>\n",
       "      <th>25%</th>\n",
       "      <td>39.000000</td>\n",
       "      <td>8.000000</td>\n",
       "    </tr>\n",
       "    <tr>\n",
       "      <th>50%</th>\n",
       "      <td>64.000000</td>\n",
       "      <td>13.000000</td>\n",
       "    </tr>\n",
       "    <tr>\n",
       "      <th>75%</th>\n",
       "      <td>97.000000</td>\n",
       "      <td>19.000000</td>\n",
       "    </tr>\n",
       "    <tr>\n",
       "      <th>max</th>\n",
       "      <td>141.000000</td>\n",
       "      <td>101.000000</td>\n",
       "    </tr>\n",
       "  </tbody>\n",
       "</table>\n",
       "</div>"
      ],
      "text/plain": [
       "       length_alphabets  length_words\n",
       "count      27481.000000  27481.000000\n",
       "mean          68.327645     13.779448\n",
       "std           35.605403      7.169974\n",
       "min            3.000000      1.000000\n",
       "25%           39.000000      8.000000\n",
       "50%           64.000000     13.000000\n",
       "75%           97.000000     19.000000\n",
       "max          141.000000    101.000000"
      ]
     },
     "execution_count": 15,
     "metadata": {},
     "output_type": "execute_result"
    }
   ],
   "source": [
    "train_df.describe()"
   ]
  },
  {
   "cell_type": "code",
   "execution_count": 16,
   "id": "thrown-palestine",
   "metadata": {
    "execution": {
     "iopub.execute_input": "2021-05-19T14:48:51.733726Z",
     "iopub.status.busy": "2021-05-19T14:48:51.732743Z",
     "iopub.status.idle": "2021-05-19T14:48:51.737587Z",
     "shell.execute_reply": "2021-05-19T14:48:51.737064Z"
    },
    "papermill": {
     "duration": 0.066383,
     "end_time": "2021-05-19T14:48:51.737736",
     "exception": false,
     "start_time": "2021-05-19T14:48:51.671353",
     "status": "completed"
    },
    "tags": []
   },
   "outputs": [
    {
     "data": {
      "text/html": [
       "<svg  width=\"550\" height=\"55\"><rect x=\"0\" y=\"0\" width=\"55\" height=\"55\" style=\"fill:#f1ebf5;stroke-width:2;stroke:rgb(255,255,255)\"/><rect x=\"55\" y=\"0\" width=\"55\" height=\"55\" style=\"fill:#e0dded;stroke-width:2;stroke:rgb(255,255,255)\"/><rect x=\"110\" y=\"0\" width=\"55\" height=\"55\" style=\"fill:#c9cee4;stroke-width:2;stroke:rgb(255,255,255)\"/><rect x=\"165\" y=\"0\" width=\"55\" height=\"55\" style=\"fill:#a9bfdc;stroke-width:2;stroke:rgb(255,255,255)\"/><rect x=\"220\" y=\"0\" width=\"55\" height=\"55\" style=\"fill:#86b0d3;stroke-width:2;stroke:rgb(255,255,255)\"/><rect x=\"275\" y=\"0\" width=\"55\" height=\"55\" style=\"fill:#5ea0ca;stroke-width:2;stroke:rgb(255,255,255)\"/><rect x=\"330\" y=\"0\" width=\"55\" height=\"55\" style=\"fill:#328dbf;stroke-width:2;stroke:rgb(255,255,255)\"/><rect x=\"385\" y=\"0\" width=\"55\" height=\"55\" style=\"fill:#0d75b3;stroke-width:2;stroke:rgb(255,255,255)\"/><rect x=\"440\" y=\"0\" width=\"55\" height=\"55\" style=\"fill:#04649d;stroke-width:2;stroke:rgb(255,255,255)\"/><rect x=\"495\" y=\"0\" width=\"55\" height=\"55\" style=\"fill:#03517e;stroke-width:2;stroke:rgb(255,255,255)\"/></svg>"
      ],
      "text/plain": [
       "[(0.946236063052672, 0.9233525567089581, 0.9588465974625143),\n",
       " (0.8768319876970396, 0.8676509034986544, 0.928166089965398),\n",
       " (0.788558246828143, 0.8066897347174163, 0.8948558246828143),\n",
       " (0.6645444059976933, 0.7476355247981545, 0.8623760092272202),\n",
       " (0.5256439830834294, 0.691041906958862, 0.8287427912341407),\n",
       " (0.36718185313341023, 0.6273740868896578, 0.7905420991926182),\n",
       " (0.19594002306805075, 0.5543713956170704, 0.7477739331026528),\n",
       " (0.05125720876585929, 0.4598846597462514, 0.7005305651672433),\n",
       " (0.017424067666282197, 0.39117262591311036, 0.613763936947328),\n",
       " (0.013502499038831219, 0.3158169934640523, 0.4950711264898116)]"
      ]
     },
     "execution_count": 16,
     "metadata": {},
     "output_type": "execute_result"
    }
   ],
   "source": [
    "PuBu_palette"
   ]
  },
  {
   "cell_type": "code",
   "execution_count": 17,
   "id": "friendly-elder",
   "metadata": {
    "execution": {
     "iopub.execute_input": "2021-05-19T14:48:51.855365Z",
     "iopub.status.busy": "2021-05-19T14:48:51.854633Z",
     "iopub.status.idle": "2021-05-19T14:48:51.857298Z",
     "shell.execute_reply": "2021-05-19T14:48:51.857786Z"
    },
    "papermill": {
     "duration": 0.064862,
     "end_time": "2021-05-19T14:48:51.857959",
     "exception": false,
     "start_time": "2021-05-19T14:48:51.793097",
     "status": "completed"
    },
    "tags": []
   },
   "outputs": [
    {
     "data": {
      "text/plain": [
       "[(0.788558246828143, 0.8066897347174163, 0.8948558246828143),\n",
       " (0.19594002306805075, 0.5543713956170704, 0.7477739331026528),\n",
       " (0.5256439830834294, 0.691041906958862, 0.8287427912341407)]"
      ]
     },
     "execution_count": 17,
     "metadata": {},
     "output_type": "execute_result"
    }
   ],
   "source": [
    "three_PuBu_palette = list()\n",
    "three_PuBu_palette.append(PuBu_palette[2])\n",
    "three_PuBu_palette.append(PuBu_palette[6])\n",
    "three_PuBu_palette.append(PuBu_palette[4])\n",
    "three_PuBu_palette"
   ]
  },
  {
   "cell_type": "code",
   "execution_count": 18,
   "id": "adaptive-yahoo",
   "metadata": {
    "execution": {
     "iopub.execute_input": "2021-05-19T14:48:51.974630Z",
     "iopub.status.busy": "2021-05-19T14:48:51.973821Z",
     "iopub.status.idle": "2021-05-19T14:48:52.769890Z",
     "shell.execute_reply": "2021-05-19T14:48:52.769154Z"
    },
    "papermill": {
     "duration": 0.85534,
     "end_time": "2021-05-19T14:48:52.770065",
     "exception": false,
     "start_time": "2021-05-19T14:48:51.914725",
     "status": "completed"
    },
    "tags": []
   },
   "outputs": [
    {
     "data": {
      "image/png": "[encoded data removed]",
      "text/plain": [
       "<Figure size 864x576 with 2 Axes>"
      ]
     },
     "metadata": {
      "needs_background": "light"
     },
     "output_type": "display_data"
    }
   ],
   "source": [
    "fig = plt.figure(figsize=(12, 8))\n",
    "gs = fig.add_gridspec(2,1)\n",
    "\n",
    "axes = list()\n",
    "\n",
    "for index, data in zip(range(2), train_df):\n",
    "    axes.append(fig.add_subplot(gs[index, 0]))\n",
    "    \n",
    "    \n",
    "    if index==0:\n",
    "        sns.kdeplot(x='length_alphabets', data=train_df, \n",
    "                        fill=True, ax=axes[index], cut=0, bw_method=0.20, \n",
    "                        lw=1.4 , hue='sentiment', palette=three_PuBu_palette,\n",
    "                         alpha=0.3)\n",
    "    else:\n",
    "        sns.kdeplot(x='length_words', data=train_df, \n",
    "                    fill=True, ax=axes[index], cut=0, bw_method=0.20, \n",
    "                    lw=1.4 , hue='sentiment',palette=three_PuBu_palette,\n",
    "                     alpha=0.3) \n",
    "\n",
    "    axes[index].set_yticks([])\n",
    "    if index != 1 : axes[index].set_xticks([])\n",
    "    axes[index].set_ylabel('')\n",
    "    axes[index].set_xlabel('')\n",
    "    axes[index].spines[[\"top\",\"right\",\"left\",\"bottom\"]].set_visible(False)\n",
    "    \n",
    "    \n",
    "    if index == 0:\n",
    "        axes[index].text(-0.2,0,\"length_alphabets\",fontweight=\"light\", fontfamily='serif', fontsize=13,ha=\"right\")\n",
    "    else:\n",
    "        axes[index].text(-0.2,0,\"length_words\",fontweight=\"light\", fontfamily='serif', fontsize=13,ha=\"right\")\n",
    "        \n",
    "        \n",
    "    axes[index].patch.set_alpha(0)\n",
    "    if index != 0 : axes[index].get_legend().remove()\n",
    "        \n",
    "fig.text(0.05,0.91,\"Count distribution by length in Tweets\", fontweight=\"bold\", fontfamily='serif', fontsize=20)\n",
    "plt.show()"
   ]
  },
  {
   "cell_type": "markdown",
   "id": "romantic-indie",
   "metadata": {
    "papermill": {
     "duration": 0.058417,
     "end_time": "2021-05-19T14:48:52.888372",
     "exception": false,
     "start_time": "2021-05-19T14:48:52.829955",
     "status": "completed"
    },
    "tags": []
   },
   "source": [
    "### 3-4) Bi-gram by sentiment per texts in Tweets"
   ]
  },
  {
   "cell_type": "code",
   "execution_count": 19,
   "id": "capable-brain",
   "metadata": {
    "execution": {
     "iopub.execute_input": "2021-05-19T14:48:53.010952Z",
     "iopub.status.busy": "2021-05-19T14:48:53.010294Z",
     "iopub.status.idle": "2021-05-19T14:48:53.016250Z",
     "shell.execute_reply": "2021-05-19T14:48:53.016796Z"
    },
    "papermill": {
     "duration": 0.069341,
     "end_time": "2021-05-19T14:48:53.016976",
     "exception": false,
     "start_time": "2021-05-19T14:48:52.947635",
     "status": "completed"
    },
    "tags": []
   },
   "outputs": [],
   "source": [
    "def get_top_tweet_bigrams(corpus, n=None):\n",
    "    vec = CountVectorizer(ngram_range=(2, 2)).fit(corpus)\n",
    "    bag_of_words = vec.transform(corpus)\n",
    "    sum_words = bag_of_words.sum(axis=0) \n",
    "    words_freq = [(word, sum_words[0, idx]) for word, idx in vec.vocabulary_.items()]\n",
    "    words_freq =sorted(words_freq, key = lambda x: x[1], reverse=True)\n",
    "    return words_freq[:n]"
   ]
  },
  {
   "cell_type": "code",
   "execution_count": 20,
   "id": "limited-charity",
   "metadata": {
    "execution": {
     "iopub.execute_input": "2021-05-19T14:48:53.136928Z",
     "iopub.status.busy": "2021-05-19T14:48:53.136273Z",
     "iopub.status.idle": "2021-05-19T14:48:56.325280Z",
     "shell.execute_reply": "2021-05-19T14:48:56.324766Z"
    },
    "papermill": {
     "duration": 3.250283,
     "end_time": "2021-05-19T14:48:56.325478",
     "exception": false,
     "start_time": "2021-05-19T14:48:53.075195",
     "status": "completed"
    },
    "tags": []
   },
   "outputs": [
    {
     "data": {
      "image/png": "[encoded data removed]",
      "text/plain": [
       "<Figure size 864x720 with 3 Axes>"
      ]
     },
     "metadata": {
      "needs_background": "light"
     },
     "output_type": "display_data"
    }
   ],
   "source": [
    "fig, axes = plt.subplots(1,3, figsize=(12, 10), constrained_layout=True)\n",
    "\n",
    "sentiment_list = list(np.unique(train_df['sentiment']))\n",
    "\n",
    "for i, sentiment in zip(range(3), sentiment_list):\n",
    "    top_tweet_bigrams = get_top_tweet_bigrams(train_df[train_df['sentiment']==sentiment]['text'].fillna(\" \"))[:10]\n",
    "    x,y = map(list,zip(*top_tweet_bigrams))\n",
    "    sns.barplot(x=y, y=x, ax=axes[i], palette=PuBu_palette[::-1])\n",
    "    axes[i].text(0,-0.7, sentiment, fontweight=\"bold\", fontfamily='serif', fontsize=13,ha=\"right\")\n",
    "    axes[i].patch.set_alpha(0)\n",
    "\n",
    "fig.text(0,1.01,\"Bi-gram by {}texts in Tweets\".format(sentiment), fontweight=\"bold\", fontfamily='serif', fontsize=18)\n",
    "plt.show()"
   ]
  },
  {
   "cell_type": "markdown",
   "id": "intellectual-metropolitan",
   "metadata": {
    "papermill": {
     "duration": 0.058941,
     "end_time": "2021-05-19T14:48:56.444219",
     "exception": false,
     "start_time": "2021-05-19T14:48:56.385278",
     "status": "completed"
    },
    "tags": []
   },
   "source": [
    "# 4. Prepocessing Data\n",
    "* Drop null rows & useless columns\n",
    "* Cleansing \"text\" / \"selected_text\" data"
   ]
  },
  {
   "cell_type": "markdown",
   "id": "frequent-honolulu",
   "metadata": {
    "papermill": {
     "duration": 0.061425,
     "end_time": "2021-05-19T14:48:56.565503",
     "exception": false,
     "start_time": "2021-05-19T14:48:56.504078",
     "status": "completed"
    },
    "tags": []
   },
   "source": [
    "### 4-1) Drop null rows & useless columns"
   ]
  },
  {
   "cell_type": "code",
   "execution_count": 21,
   "id": "public-portland",
   "metadata": {
    "execution": {
     "iopub.execute_input": "2021-05-19T14:48:56.692977Z",
     "iopub.status.busy": "2021-05-19T14:48:56.692358Z",
     "iopub.status.idle": "2021-05-19T14:48:56.695690Z",
     "shell.execute_reply": "2021-05-19T14:48:56.695027Z"
    },
    "papermill": {
     "duration": 0.0693,
     "end_time": "2021-05-19T14:48:56.695846",
     "exception": false,
     "start_time": "2021-05-19T14:48:56.626546",
     "status": "completed"
    },
    "tags": []
   },
   "outputs": [],
   "source": [
    "train_df_before_drop_shape = train_df.shape\n",
    "test_df_before_drop_shape = test_df.shape"
   ]
  },
  {
   "cell_type": "code",
   "execution_count": 22,
   "id": "floating-manchester",
   "metadata": {
    "execution": {
     "iopub.execute_input": "2021-05-19T14:48:56.836752Z",
     "iopub.status.busy": "2021-05-19T14:48:56.835730Z",
     "iopub.status.idle": "2021-05-19T14:48:56.846065Z",
     "shell.execute_reply": "2021-05-19T14:48:56.846587Z"
    },
    "papermill": {
     "duration": 0.089125,
     "end_time": "2021-05-19T14:48:56.846778",
     "exception": false,
     "start_time": "2021-05-19T14:48:56.757653",
     "status": "completed"
    },
    "tags": []
   },
   "outputs": [],
   "source": [
    "train_df.dropna(inplace=True)\n",
    "test_df.dropna(inplace=True)"
   ]
  },
  {
   "cell_type": "code",
   "execution_count": 23,
   "id": "bored-offset",
   "metadata": {
    "execution": {
     "iopub.execute_input": "2021-05-19T14:48:56.988328Z",
     "iopub.status.busy": "2021-05-19T14:48:56.987598Z",
     "iopub.status.idle": "2021-05-19T14:48:56.995407Z",
     "shell.execute_reply": "2021-05-19T14:48:56.994816Z"
    },
    "papermill": {
     "duration": 0.080178,
     "end_time": "2021-05-19T14:48:56.995592",
     "exception": false,
     "start_time": "2021-05-19T14:48:56.915414",
     "status": "completed"
    },
    "tags": []
   },
   "outputs": [],
   "source": [
    "train_df.drop(['length_alphabets','length_words'], axis=1, inplace=True)"
   ]
  },
  {
   "cell_type": "code",
   "execution_count": 24,
   "id": "sophisticated-integrity",
   "metadata": {
    "execution": {
     "iopub.execute_input": "2021-05-19T14:48:57.126251Z",
     "iopub.status.busy": "2021-05-19T14:48:57.125238Z",
     "iopub.status.idle": "2021-05-19T14:48:57.128796Z",
     "shell.execute_reply": "2021-05-19T14:48:57.129504Z"
    },
    "papermill": {
     "duration": 0.071199,
     "end_time": "2021-05-19T14:48:57.129728",
     "exception": false,
     "start_time": "2021-05-19T14:48:57.058529",
     "status": "completed"
    },
    "tags": []
   },
   "outputs": [
    {
     "name": "stdout",
     "output_type": "stream",
     "text": [
      "Train dataset Shape : (27481, 6) => (27480, 4)\n",
      "Test dataset Shape : (3534, 3) => (3534, 3)\n"
     ]
    }
   ],
   "source": [
    "train_df_drop_shape = train_df.shape\n",
    "test_df_drop_shape = test_df.shape\n",
    "\n",
    "print(\"Train dataset Shape : {} => {}\".format(train_df_before_drop_shape, train_df_drop_shape))\n",
    "print(\"Test dataset Shape : {} => {}\".format(test_df_before_drop_shape, test_df_drop_shape))"
   ]
  },
  {
   "cell_type": "markdown",
   "id": "extended-rugby",
   "metadata": {
    "papermill": {
     "duration": 0.059809,
     "end_time": "2021-05-19T14:48:57.251694",
     "exception": false,
     "start_time": "2021-05-19T14:48:57.191885",
     "status": "completed"
    },
    "tags": []
   },
   "source": [
    "### 4-2) Cleansing \"text\" / \"selected_text\" data"
   ]
  },
  {
   "cell_type": "code",
   "execution_count": 25,
   "id": "improved-collector",
   "metadata": {
    "execution": {
     "iopub.execute_input": "2021-05-19T14:48:57.384389Z",
     "iopub.status.busy": "2021-05-19T14:48:57.383247Z",
     "iopub.status.idle": "2021-05-19T14:48:57.386049Z",
     "shell.execute_reply": "2021-05-19T14:48:57.385437Z"
    },
    "papermill": {
     "duration": 0.073421,
     "end_time": "2021-05-19T14:48:57.386219",
     "exception": false,
     "start_time": "2021-05-19T14:48:57.312798",
     "status": "completed"
    },
    "tags": []
   },
   "outputs": [],
   "source": [
    "def preprocess_fn(text):\n",
    "    text = str(text)\n",
    "    text = text.lower()  # lowercase\n",
    "\n",
    "    text = re.sub(r'[!]+', '!', text)\n",
    "    text = re.sub(r'[?]+', '?', text)\n",
    "    text = re.sub(r'[.]+', '.', text)\n",
    "    text = re.sub(r\"'\", \"\", text)\n",
    "    text = re.sub('\\s+', ' ', text).strip()  # Remove and double spaces\n",
    "    text = re.sub(r'&amp;?', r'and', text)  # replace & -> and\n",
    "    # remove some puncts (except . ! # ? *)\n",
    "    text = re.sub(r'[:\"$%&\\+,-/:;<=>@\\\\^_{|}~`]+', '', text)\n",
    "    emoji_pattern = re.compile(\"[\"\n",
    "                               u\"\\U0001F600-\\U0001F64F\"  # emoticons\n",
    "                               u\"\\U0001F300-\\U0001F5FF\"  # symbols & pictographs\n",
    "                               u\"\\U0001F680-\\U0001F6FF\"  # transport & map symbols\n",
    "                               u\"\\U0001F1E0-\\U0001F1FF\"  # flags (iOS)\n",
    "                               u\"\\U00002702-\\U000027B0\"\n",
    "                               u\"\\U000024C2-\\U0001F251\"\n",
    "                               \"]+\", flags=re.UNICODE)\n",
    "    text = emoji_pattern.sub(r'EMOJI', text)\n",
    "    \n",
    "    return text"
   ]
  },
  {
   "cell_type": "code",
   "execution_count": 26,
   "id": "usual-supplier",
   "metadata": {
    "execution": {
     "iopub.execute_input": "2021-05-19T14:48:57.518046Z",
     "iopub.status.busy": "2021-05-19T14:48:57.512916Z",
     "iopub.status.idle": "2021-05-19T14:48:58.980809Z",
     "shell.execute_reply": "2021-05-19T14:48:58.980191Z"
    },
    "papermill": {
     "duration": 1.534233,
     "end_time": "2021-05-19T14:48:58.980975",
     "exception": false,
     "start_time": "2021-05-19T14:48:57.446742",
     "status": "completed"
    },
    "tags": []
   },
   "outputs": [],
   "source": [
    "train_df['text'] = train_df['text'].apply(lambda x: preprocess_fn(x))\n",
    "train_df['selected_text'] = train_df['selected_text'].apply(lambda x: preprocess_fn(x))\n",
    "\n",
    "test_df['text'] = test_df['text'].apply(lambda x: preprocess_fn(x))"
   ]
  },
  {
   "cell_type": "code",
   "execution_count": 27,
   "id": "certified-violence",
   "metadata": {
    "execution": {
     "iopub.execute_input": "2021-05-19T14:48:59.119541Z",
     "iopub.status.busy": "2021-05-19T14:48:59.118735Z",
     "iopub.status.idle": "2021-05-19T14:48:59.122448Z",
     "shell.execute_reply": "2021-05-19T14:48:59.121844Z"
    },
    "papermill": {
     "duration": 0.07764,
     "end_time": "2021-05-19T14:48:59.122589",
     "exception": false,
     "start_time": "2021-05-19T14:48:59.044949",
     "status": "completed"
    },
    "tags": []
   },
   "outputs": [
    {
     "data": {
      "text/html": [
       "<div>\n",
       "<style scoped>\n",
       "    .dataframe tbody tr th:only-of-type {\n",
       "        vertical-align: middle;\n",
       "    }\n",
       "\n",
       "    .dataframe tbody tr th {\n",
       "        vertical-align: top;\n",
       "    }\n",
       "\n",
       "    .dataframe thead th {\n",
       "        text-align: right;\n",
       "    }\n",
       "</style>\n",
       "<table border=\"1\" class=\"dataframe\">\n",
       "  <thead>\n",
       "    <tr style=\"text-align: right;\">\n",
       "      <th></th>\n",
       "      <th>textID</th>\n",
       "      <th>text</th>\n",
       "      <th>selected_text</th>\n",
       "      <th>sentiment</th>\n",
       "    </tr>\n",
       "  </thead>\n",
       "  <tbody>\n",
       "    <tr>\n",
       "      <th>0</th>\n",
       "      <td>cb774db0d1</td>\n",
       "      <td>id have responded if i were going</td>\n",
       "      <td>id have responded if i were going</td>\n",
       "      <td>neutral</td>\n",
       "    </tr>\n",
       "    <tr>\n",
       "      <th>1</th>\n",
       "      <td>549e992a42</td>\n",
       "      <td>sooo sad i will miss you here in san diego!</td>\n",
       "      <td>sooo sad</td>\n",
       "      <td>negative</td>\n",
       "    </tr>\n",
       "    <tr>\n",
       "      <th>2</th>\n",
       "      <td>088c60f138</td>\n",
       "      <td>my boss is bullying me</td>\n",
       "      <td>bullying me</td>\n",
       "      <td>negative</td>\n",
       "    </tr>\n",
       "    <tr>\n",
       "      <th>3</th>\n",
       "      <td>9642c003ef</td>\n",
       "      <td>what interview! leave me alone</td>\n",
       "      <td>leave me alone</td>\n",
       "      <td>negative</td>\n",
       "    </tr>\n",
       "    <tr>\n",
       "      <th>4</th>\n",
       "      <td>358bd9e861</td>\n",
       "      <td>sons of **** why couldnt they put them on the ...</td>\n",
       "      <td>sons of ****</td>\n",
       "      <td>negative</td>\n",
       "    </tr>\n",
       "  </tbody>\n",
       "</table>\n",
       "</div>"
      ],
      "text/plain": [
       "       textID                                               text  \\\n",
       "0  cb774db0d1                  id have responded if i were going   \n",
       "1  549e992a42        sooo sad i will miss you here in san diego!   \n",
       "2  088c60f138                             my boss is bullying me   \n",
       "3  9642c003ef                     what interview! leave me alone   \n",
       "4  358bd9e861  sons of **** why couldnt they put them on the ...   \n",
       "\n",
       "                       selected_text sentiment  \n",
       "0  id have responded if i were going   neutral  \n",
       "1                           sooo sad  negative  \n",
       "2                        bullying me  negative  \n",
       "3                     leave me alone  negative  \n",
       "4                       sons of ****  negative  "
      ]
     },
     "execution_count": 27,
     "metadata": {},
     "output_type": "execute_result"
    }
   ],
   "source": [
    "train_df.head()"
   ]
  },
  {
   "cell_type": "markdown",
   "id": "higher-comfort",
   "metadata": {
    "papermill": {
     "duration": 0.063933,
     "end_time": "2021-05-19T14:48:59.253208",
     "exception": false,
     "start_time": "2021-05-19T14:48:59.189275",
     "status": "completed"
    },
    "tags": []
   },
   "source": [
    "# 5. Visualization [After Preprocessing]\n",
    "* Wordcloude by sentiment per selected text in Tweets"
   ]
  },
  {
   "cell_type": "markdown",
   "id": "bigger-taylor",
   "metadata": {
    "papermill": {
     "duration": 0.062856,
     "end_time": "2021-05-19T14:48:59.379550",
     "exception": false,
     "start_time": "2021-05-19T14:48:59.316694",
     "status": "completed"
    },
    "tags": []
   },
   "source": [
    "### 5-1) Wordcloud by sentiment per selected text in Tweets"
   ]
  },
  {
   "cell_type": "code",
   "execution_count": 28,
   "id": "theoretical-filing",
   "metadata": {
    "execution": {
     "iopub.execute_input": "2021-05-19T14:48:59.509121Z",
     "iopub.status.busy": "2021-05-19T14:48:59.508399Z",
     "iopub.status.idle": "2021-05-19T14:48:59.530254Z",
     "shell.execute_reply": "2021-05-19T14:48:59.529681Z"
    },
    "papermill": {
     "duration": 0.087513,
     "end_time": "2021-05-19T14:48:59.530421",
     "exception": false,
     "start_time": "2021-05-19T14:48:59.442908",
     "status": "completed"
    },
    "tags": []
   },
   "outputs": [],
   "source": [
    "mask_dir = np.array(Image.open('../input/masksforwordclouds/twitter_mask3.jpg'))"
   ]
  },
  {
   "cell_type": "code",
   "execution_count": 29,
   "id": "recreational-frame",
   "metadata": {
    "execution": {
     "iopub.execute_input": "2021-05-19T14:48:59.657033Z",
     "iopub.status.busy": "2021-05-19T14:48:59.656367Z",
     "iopub.status.idle": "2021-05-19T14:49:05.076947Z",
     "shell.execute_reply": "2021-05-19T14:49:05.077546Z"
    },
    "papermill": {
     "duration": 5.485929,
     "end_time": "2021-05-19T14:49:05.077738",
     "exception": false,
     "start_time": "2021-05-19T14:48:59.591809",
     "status": "completed"
    },
    "tags": []
   },
   "outputs": [
    {
     "data": {
      "image/png": "[encoded data removed]",
      "text/plain": [
       "<Figure size 1728x864 with 3 Axes>"
      ]
     },
     "metadata": {
      "needs_background": "light"
     },
     "output_type": "display_data"
    }
   ],
   "source": [
    "fig, axes = plt.subplots(1,3, figsize=(24,12))\n",
    "sentiment_list = np.unique(train_df['sentiment'])\n",
    "\n",
    "for i, sentiment in zip(range(3), sentiment_list):\n",
    "    wc = WordCloud(background_color=\"white\", max_words = 2000, width = 1600, height = 800, mask=mask_dir, colormap=\"Blues\").generate(\" \".join(train_df[train_df['sentiment']==sentiment]['selected_text']))\n",
    "    \n",
    "    axes[i].text(0.5,1, \"{} text\".format(sentiment), fontweight=\"bold\", fontfamily='serif', fontsize=17)\n",
    "    axes[i].patch.set_alpha(0)\n",
    "    axes[i].axis('off')\n",
    "    axes[i].imshow(wc)\n",
    "\n",
    "fig.text(0.1,0.8,\"WordCloud by sentiment per selected text in Tweets\", fontweight=\"bold\", fontfamily='serif', fontsize=20)\n",
    "plt.show()"
   ]
  },
  {
   "cell_type": "markdown",
   "id": "japanese-practitioner",
   "metadata": {
    "papermill": {
     "duration": 0.075899,
     "end_time": "2021-05-19T14:49:05.229861",
     "exception": false,
     "start_time": "2021-05-19T14:49:05.153962",
     "status": "completed"
    },
    "tags": []
   },
   "source": [
    "# 6. Feature Enginnering \n",
    "* How to use Bert tokenization\n",
    "* Convert to data suitable for Bert model (Dataset / Dataloader)"
   ]
  },
  {
   "cell_type": "markdown",
   "id": "grateful-consortium",
   "metadata": {
    "papermill": {
     "duration": 0.074922,
     "end_time": "2021-05-19T14:49:05.380508",
     "exception": false,
     "start_time": "2021-05-19T14:49:05.305586",
     "status": "completed"
    },
    "tags": []
   },
   "source": [
    "### 6-1) How to use Bert tokenization"
   ]
  },
  {
   "cell_type": "code",
   "execution_count": 30,
   "id": "alert-belgium",
   "metadata": {
    "execution": {
     "iopub.execute_input": "2021-05-19T14:49:05.534467Z",
     "iopub.status.busy": "2021-05-19T14:49:05.533701Z",
     "iopub.status.idle": "2021-05-19T14:49:08.392090Z",
     "shell.execute_reply": "2021-05-19T14:49:08.391332Z"
    },
    "papermill": {
     "duration": 2.936434,
     "end_time": "2021-05-19T14:49:08.392289",
     "exception": false,
     "start_time": "2021-05-19T14:49:05.455855",
     "status": "completed"
    },
    "tags": []
   },
   "outputs": [
    {
     "data": {
      "application/vnd.jupyter.widget-view+json": {
       "model_id": "76d163c44a6d426984cea79ec17bb333",
       "version_major": 2,
       "version_minor": 0
      },
      "text/plain": [
       "Downloading:   0%|          | 0.00/232k [00:00<?, ?B/s]"
      ]
     },
     "metadata": {},
     "output_type": "display_data"
    },
    {
     "data": {
      "application/vnd.jupyter.widget-view+json": {
       "model_id": "889d4b92cd384ffb8805b6cb0dd37b67",
       "version_major": 2,
       "version_minor": 0
      },
      "text/plain": [
       "Downloading:   0%|          | 0.00/28.0 [00:00<?, ?B/s]"
      ]
     },
     "metadata": {},
     "output_type": "display_data"
    },
    {
     "data": {
      "application/vnd.jupyter.widget-view+json": {
       "model_id": "fc92f33f8f3040dfaa9107c12d9550dd",
       "version_major": 2,
       "version_minor": 0
      },
      "text/plain": [
       "Downloading:   0%|          | 0.00/466k [00:00<?, ?B/s]"
      ]
     },
     "metadata": {},
     "output_type": "display_data"
    }
   ],
   "source": [
    "bert_tokenizer = BertTokenizer.from_pretrained('bert-base-uncased', do_lower_case=True)"
   ]
  },
  {
   "cell_type": "code",
   "execution_count": 31,
   "id": "considered-patient",
   "metadata": {
    "execution": {
     "iopub.execute_input": "2021-05-19T14:49:08.552225Z",
     "iopub.status.busy": "2021-05-19T14:49:08.551333Z",
     "iopub.status.idle": "2021-05-19T14:49:14.535774Z",
     "shell.execute_reply": "2021-05-19T14:49:14.535182Z"
    },
    "papermill": {
     "duration": 6.066715,
     "end_time": "2021-05-19T14:49:14.535925",
     "exception": false,
     "start_time": "2021-05-19T14:49:08.469210",
     "status": "completed"
    },
    "tags": []
   },
   "outputs": [
    {
     "name": "stdout",
     "output_type": "stream",
     "text": [
      "Encode: [101, 7632, 3835, 3113, 2017, 999, 102]\n",
      "Decode: [CLS] hi nice meet you! [SEP]\n",
      "[CLS]: 101\n",
      "[SEP]: 102\n"
     ]
    }
   ],
   "source": [
    "encode = bert_tokenizer.encode(\"Hi nice meet you !\")\n",
    "decode = bert_tokenizer.decode(encode)\n",
    "\n",
    "print(\"Encode:\", encode)\n",
    "print(\"Decode:\", decode)\n",
    "print(bert_tokenizer.cls_token+\":\", bert_tokenizer.cls_token_id)\n",
    "print(bert_tokenizer.sep_token+\":\", bert_tokenizer.sep_token_id)"
   ]
  },
  {
   "cell_type": "code",
   "execution_count": 32,
   "id": "tender-closer",
   "metadata": {
    "execution": {
     "iopub.execute_input": "2021-05-19T14:49:14.701261Z",
     "iopub.status.busy": "2021-05-19T14:49:14.700420Z",
     "iopub.status.idle": "2021-05-19T14:49:14.710712Z",
     "shell.execute_reply": "2021-05-19T14:49:14.709818Z"
    },
    "papermill": {
     "duration": 0.096165,
     "end_time": "2021-05-19T14:49:14.710905",
     "exception": false,
     "start_time": "2021-05-19T14:49:14.614740",
     "status": "completed"
    },
    "tags": []
   },
   "outputs": [
    {
     "name": "stdout",
     "output_type": "stream",
     "text": [
      "id have responded if i were going\n",
      "\n",
      "\n",
      "['id', 'have', 'responded', 'if', 'i', 'were', 'going']\n",
      "[8909, 2031, 5838, 2065, 1045, 2020, 2183]\n",
      "\n",
      "\n",
      "['id', 'have', 'responded', 'if', 'i', 'were', 'going']\n",
      "[8909, 2031, 5838, 2065, 1045, 2020, 2183]\n"
     ]
    }
   ],
   "source": [
    "print(train_df['text'][0]) # original sentence\n",
    "print(\"\\n\")\n",
    "\n",
    "print(bert_tokenizer.tokenize(train_df['text'][0]))\n",
    "print(bert_tokenizer.convert_tokens_to_ids(bert_tokenizer.tokenize(train_df['text'][0])))\n",
    "print(\"\\n\")\n",
    "\n",
    "print(bert_tokenizer.tokenize(train_df['selected_text'][0]))\n",
    "print(bert_tokenizer.convert_tokens_to_ids(bert_tokenizer.tokenize(train_df['selected_text'][0])))"
   ]
  },
  {
   "cell_type": "markdown",
   "id": "wicked-implement",
   "metadata": {
    "papermill": {
     "duration": 0.076903,
     "end_time": "2021-05-19T14:49:14.866371",
     "exception": false,
     "start_time": "2021-05-19T14:49:14.789468",
     "status": "completed"
    },
    "tags": []
   },
   "source": [
    "### 6-2) Convert to data suitable for Bert model (Dataset / Dataloader)"
   ]
  },
  {
   "cell_type": "code",
   "execution_count": 33,
   "id": "democratic-fetish",
   "metadata": {
    "execution": {
     "iopub.execute_input": "2021-05-19T14:49:15.044497Z",
     "iopub.status.busy": "2021-05-19T14:49:15.043415Z",
     "iopub.status.idle": "2021-05-19T14:49:15.046678Z",
     "shell.execute_reply": "2021-05-19T14:49:15.046178Z"
    },
    "papermill": {
     "duration": 0.102538,
     "end_time": "2021-05-19T14:49:15.046819",
     "exception": false,
     "start_time": "2021-05-19T14:49:14.944281",
     "status": "completed"
    },
    "tags": []
   },
   "outputs": [],
   "source": [
    "class BertDataset(torch.utils.data.Dataset):\n",
    "    def __init__(self, df, max_len=False, is_label=False):\n",
    "        self.df = df\n",
    "        \n",
    "        if max_len:\n",
    "            self.max_len = max_len\n",
    "        else:\n",
    "            self.max_len = self.get_max_len()\n",
    "            \n",
    "        if is_label:\n",
    "            self.label = self.get_label_ids()\n",
    "        else:\n",
    "            self.label = None\n",
    "\n",
    "        self.input_ids, self.attention_masks, self.token_type_ids = self.get_bert_tokenize()\n",
    "\n",
    "    \n",
    "    def __len__(self):\n",
    "        return len(self.df)\n",
    "    \n",
    "    \n",
    "    def __getitem__(self, index):\n",
    "        data = {}\n",
    "        row = self.df.iloc[index]\n",
    "        \n",
    "        data['input_ids'] = self.input_ids\n",
    "        data['attention_masks'] = self.attention_masks\n",
    "        data['token_type_ids'] = self.token_type_ids\n",
    "        \n",
    "        if self.label != None:\n",
    "            data['label'] = self.label\n",
    "        \n",
    "        return data\n",
    "    \n",
    "    \n",
    "    def get_max_len(self):\n",
    "        max_len = 0\n",
    "        for text in self.df['text']:\n",
    "\n",
    "            # Tokenize the text and add special tokens i.e `[CLS]` and `[SEP]`\n",
    "            input_ids = bert_tokenizer.encode(text, add_special_tokens=True)\n",
    "            # Update the maximum sentence length.\n",
    "            max_len = max(max_len, len(input_ids))\n",
    "\n",
    "        return max_len\n",
    "    \n",
    "    \n",
    "    def get_label_ids(self):\n",
    "        label_ids = []\n",
    "\n",
    "        for text in self.df['selected_text'].values:\n",
    "            text_id = bert_tokenizer.encode(\n",
    "                text,\n",
    "                max_length=self.max_len,\n",
    "                pad_to_max_length=True,\n",
    "                add_special_tokens=True\n",
    "            )\n",
    "            label_ids.append(text_id)\n",
    "\n",
    "        label_ids = torch.tensor(label_ids)\n",
    "        return label_ids\n",
    "    \n",
    "    \n",
    "    def get_bert_tokenize(self):\n",
    "        \n",
    "        text = self.df['text'].values\n",
    "        sentiment = self.df['sentiment'].values\n",
    "        \n",
    "        input_ids = []\n",
    "        attention_masks = []\n",
    "        token_type_ids = []\n",
    "\n",
    "        for i in range(len(text)):\n",
    "            encoded = bert_tokenizer.encode_plus(\n",
    "              sentiment[i],\n",
    "              text[i],\n",
    "              add_special_tokens=True,\n",
    "              max_length=self.max_len,\n",
    "              pad_to_max_length=True,\n",
    "              return_token_type_ids=True,\n",
    "              return_attention_mask=True,\n",
    "              return_tensors='pt'\n",
    "            )\n",
    "\n",
    "            input_ids.append(encoded['input_ids'])\n",
    "            attention_masks.append(encoded['attention_mask'])\n",
    "            token_type_ids.append(encoded['token_type_ids'])\n",
    "\n",
    "        input_ids = torch.cat(input_ids, dim=0)\n",
    "        attention_masks = torch.cat(attention_masks, dim=0)\n",
    "        token_type_ids = torch.cat(token_type_ids, dim=0)\n",
    "\n",
    "        return input_ids, attention_masks, token_type_ids  "
   ]
  },
  {
   "cell_type": "code",
   "execution_count": 34,
   "id": "generic-implement",
   "metadata": {
    "execution": {
     "iopub.execute_input": "2021-05-19T14:49:15.221539Z",
     "iopub.status.busy": "2021-05-19T14:49:15.220447Z",
     "iopub.status.idle": "2021-05-19T14:49:15.223602Z",
     "shell.execute_reply": "2021-05-19T14:49:15.222963Z"
    },
    "papermill": {
     "duration": 0.100138,
     "end_time": "2021-05-19T14:49:15.223739",
     "exception": false,
     "start_time": "2021-05-19T14:49:15.123601",
     "status": "completed"
    },
    "tags": []
   },
   "outputs": [],
   "source": [
    "class BertDataset(torch.utils.data.Dataset):\n",
    "    def __init__(self, df, max_len=False, is_label=False):\n",
    "        self.df = df\n",
    "        \n",
    "        if max_len:\n",
    "            self.max_len = max_len\n",
    "        else:\n",
    "            self.max_len = self.get_max_len()\n",
    "            \n",
    "        self.input_ids, self.attention_masks, self.token_type_ids = self.get_bert_tokenize()\n",
    "        \n",
    "        if is_label:\n",
    "            self.label = self.get_label_ids()\n",
    "        else:\n",
    "            self.label = None\n",
    "\n",
    "        \n",
    "\n",
    "    \n",
    "    def __len__(self):\n",
    "        return len(self.df)\n",
    "    \n",
    "    \n",
    "    def __getitem__(self, index):\n",
    "        data = {}\n",
    "        row = self.df.iloc[index]\n",
    "        \n",
    "        data['input_ids'] = self.input_ids\n",
    "        data['attention_masks'] = self.attention_masks\n",
    "        data['token_type_ids'] = self.token_type_ids\n",
    "        \n",
    "        if self.label != None:\n",
    "            data['start_index'], data['end_index'] = self.label\n",
    "        \n",
    "        return data\n",
    "    \n",
    "    \n",
    "    def get_max_len(self):\n",
    "        max_len = 0\n",
    "        for text in self.df['text']:\n",
    "\n",
    "            # Tokenize the text and add special tokens i.e `[CLS]` and `[SEP]`\n",
    "            input_ids = bert_tokenizer.encode(text, add_special_tokens=True)\n",
    "            # Update the maximum sentence length.\n",
    "            max_len = max(max_len, len(input_ids))\n",
    "\n",
    "        return max_len\n",
    "    \n",
    "    \n",
    "    def get_label_ids(self):\n",
    "        # get lavel ides\n",
    "        start_index = []\n",
    "        end_index = []\n",
    "        \n",
    "        for text in self.df['selected_text'].values:\n",
    "            text_id = bert_tokenizer.encode(\n",
    "                text,\n",
    "                max_length=self.max_len,\n",
    "                pad_to_max_length=True,\n",
    "                add_special_tokens=True\n",
    "            )\n",
    "        \n",
    "            # get start index / end index\n",
    "            label_list = []\n",
    "            for label in text_id:\n",
    "                if label != 0 and label != 101 and label != 102:\n",
    "                    label_list.append(int(label))\n",
    "            label_len = len(label_list)\n",
    "            print(label_list,'\\n')\n",
    "            print(label_len,'\\n')\n",
    "            print('\\n\\n')\n",
    "            print(self.input_ids[0])\n",
    "            #### how to tensor list to int..,.\n",
    "            print(len(self.input_ids[0]))\n",
    "            for i in range(self.max_len):\n",
    "                if self.input_ids[i] == label_list[0]:\n",
    "                    if self.input_ids[i+label_len-1] == label_list[-1]:\n",
    "                        start_index.append(i)\n",
    "                        end_index.append(i+label_len)\n",
    "                        break\n",
    "                    \n",
    "        return start_index, end_index\n",
    "    \n",
    "    \n",
    "    def get_bert_tokenize(self):\n",
    "        \n",
    "        text = self.df['text'].values\n",
    "        sentiment = self.df['sentiment'].values\n",
    "        \n",
    "        input_ids = []\n",
    "        attention_masks = []\n",
    "        token_type_ids = []\n",
    "\n",
    "        for i in range(len(text)):\n",
    "            encoded = bert_tokenizer.encode_plus(\n",
    "              sentiment[i],\n",
    "              text[i],\n",
    "              add_special_tokens=True,\n",
    "              max_length=self.max_len,\n",
    "              pad_to_max_length=True,\n",
    "              return_token_type_ids=True,\n",
    "              return_attention_mask=True,\n",
    "              return_tensors='pt'\n",
    "            )\n",
    "\n",
    "            input_ids.append(encoded['input_ids'])\n",
    "            attention_masks.append(encoded['attention_mask'])\n",
    "            token_type_ids.append(encoded['token_type_ids'])\n",
    "\n",
    "        input_ids = torch.cat(input_ids, dim=0)\n",
    "        attention_masks = torch.cat(attention_masks, dim=0)\n",
    "        token_type_ids = torch.cat(token_type_ids, dim=0)\n",
    "\n",
    "        return input_ids, attention_masks, token_type_ids  "
   ]
  },
  {
   "cell_type": "code",
   "execution_count": 35,
   "id": "lined-socket",
   "metadata": {
    "execution": {
     "iopub.execute_input": "2021-05-19T14:49:15.383215Z",
     "iopub.status.busy": "2021-05-19T14:49:15.382301Z",
     "iopub.status.idle": "2021-05-19T14:49:15.386529Z",
     "shell.execute_reply": "2021-05-19T14:49:15.385901Z"
    },
    "papermill": {
     "duration": 0.085774,
     "end_time": "2021-05-19T14:49:15.386675",
     "exception": false,
     "start_time": "2021-05-19T14:49:15.300901",
     "status": "completed"
    },
    "tags": []
   },
   "outputs": [
    {
     "data": {
      "text/plain": [
       "'id have responded if i were going'"
      ]
     },
     "execution_count": 35,
     "metadata": {},
     "output_type": "execute_result"
    }
   ],
   "source": [
    "train_df['selected_text'][0]"
   ]
  },
  {
   "cell_type": "code",
   "execution_count": 36,
   "id": "molecular-threshold",
   "metadata": {
    "execution": {
     "iopub.execute_input": "2021-05-19T14:49:15.548893Z",
     "iopub.status.busy": "2021-05-19T14:49:15.548230Z",
     "iopub.status.idle": "2021-05-19T14:49:15.551584Z",
     "shell.execute_reply": "2021-05-19T14:49:15.550957Z"
    },
    "papermill": {
     "duration": 0.08706,
     "end_time": "2021-05-19T14:49:15.551732",
     "exception": false,
     "start_time": "2021-05-19T14:49:15.464672",
     "status": "completed"
    },
    "tags": []
   },
   "outputs": [
    {
     "data": {
      "text/plain": [
       "[18917, 2033]"
      ]
     },
     "execution_count": 36,
     "metadata": {},
     "output_type": "execute_result"
    }
   ],
   "source": [
    "bert_tokenizer.convert_tokens_to_ids(bert_tokenizer.tokenize(train_df['selected_text'][2]))"
   ]
  },
  {
   "cell_type": "code",
   "execution_count": 37,
   "id": "identical-binding",
   "metadata": {
    "execution": {
     "iopub.execute_input": "2021-05-19T14:49:15.733596Z",
     "iopub.status.busy": "2021-05-19T14:49:15.732554Z",
     "iopub.status.idle": "2021-05-19T14:49:16.294665Z",
     "shell.execute_reply": "2021-05-19T14:49:16.293729Z"
    },
    "papermill": {
     "duration": 0.664952,
     "end_time": "2021-05-19T14:49:16.294825",
     "exception": false,
     "start_time": "2021-05-19T14:49:15.629873",
     "status": "completed"
    },
    "tags": []
   },
   "outputs": [
    {
     "name": "stderr",
     "output_type": "stream",
     "text": [
      "Truncation was not explicitly activated but `max_length` is provided a specific value, please use `truncation=True` to explicitly truncate examples to max length. Defaulting to 'longest_first' truncation strategy. If you encode pairs of sequences (GLUE-style) with the tokenizer you can select this strategy more precisely by providing a specific strategy to `truncation`.\n"
     ]
    },
    {
     "name": "stdout",
     "output_type": "stream",
     "text": [
      "[8909, 2031, 5838, 2065, 1045, 2020, 2183] \n",
      "\n",
      "7 \n",
      "\n",
      "\n",
      "\n",
      "\n",
      "tensor([ 101, 8699,  102, 8909, 2031, 5838, 2065, 1045, 2020, 2183,  102,    0,\n",
      "           0,    0,    0,    0,    0,    0,    0,    0,    0,    0,    0,    0,\n",
      "           0])\n",
      "25\n"
     ]
    },
    {
     "ename": "RuntimeError",
     "evalue": "Boolean value of Tensor with more than one value is ambiguous",
     "output_type": "error",
     "traceback": [
      "\u001b[0;31m---------------------------------------------------------------------------\u001b[0m",
      "\u001b[0;31mRuntimeError\u001b[0m                              Traceback (most recent call last)",
      "\u001b[0;32m<ipython-input-37-37e67cfbfcd8>\u001b[0m in \u001b[0;36m<module>\u001b[0;34m\u001b[0m\n\u001b[0;32m----> 1\u001b[0;31m \u001b[0mtrain_dataset\u001b[0m \u001b[0;34m=\u001b[0m \u001b[0mBertDataset\u001b[0m\u001b[0;34m(\u001b[0m\u001b[0mtrain_df\u001b[0m\u001b[0;34m[\u001b[0m\u001b[0;34m:\u001b[0m\u001b[0;36m10\u001b[0m\u001b[0;34m]\u001b[0m\u001b[0;34m,\u001b[0m \u001b[0mis_label\u001b[0m\u001b[0;34m=\u001b[0m\u001b[0;32mTrue\u001b[0m\u001b[0;34m)\u001b[0m\u001b[0;34m\u001b[0m\u001b[0;34m\u001b[0m\u001b[0m\n\u001b[0m",
      "\u001b[0;32m<ipython-input-34-86d3fefb4164>\u001b[0m in \u001b[0;36m__init__\u001b[0;34m(self, df, max_len, is_label)\u001b[0m\n\u001b[1;32m     11\u001b[0m \u001b[0;34m\u001b[0m\u001b[0m\n\u001b[1;32m     12\u001b[0m         \u001b[0;32mif\u001b[0m \u001b[0mis_label\u001b[0m\u001b[0;34m:\u001b[0m\u001b[0;34m\u001b[0m\u001b[0;34m\u001b[0m\u001b[0m\n\u001b[0;32m---> 13\u001b[0;31m             \u001b[0mself\u001b[0m\u001b[0;34m.\u001b[0m\u001b[0mlabel\u001b[0m \u001b[0;34m=\u001b[0m \u001b[0mself\u001b[0m\u001b[0;34m.\u001b[0m\u001b[0mget_label_ids\u001b[0m\u001b[0;34m(\u001b[0m\u001b[0;34m)\u001b[0m\u001b[0;34m\u001b[0m\u001b[0;34m\u001b[0m\u001b[0m\n\u001b[0m\u001b[1;32m     14\u001b[0m         \u001b[0;32melse\u001b[0m\u001b[0;34m:\u001b[0m\u001b[0;34m\u001b[0m\u001b[0;34m\u001b[0m\u001b[0m\n\u001b[1;32m     15\u001b[0m             \u001b[0mself\u001b[0m\u001b[0;34m.\u001b[0m\u001b[0mlabel\u001b[0m \u001b[0;34m=\u001b[0m \u001b[0;32mNone\u001b[0m\u001b[0;34m\u001b[0m\u001b[0;34m\u001b[0m\u001b[0m\n",
      "\u001b[0;32m<ipython-input-34-86d3fefb4164>\u001b[0m in \u001b[0;36mget_label_ids\u001b[0;34m(self)\u001b[0m\n\u001b[1;32m     74\u001b[0m             \u001b[0mprint\u001b[0m\u001b[0;34m(\u001b[0m\u001b[0mlen\u001b[0m\u001b[0;34m(\u001b[0m\u001b[0mself\u001b[0m\u001b[0;34m.\u001b[0m\u001b[0minput_ids\u001b[0m\u001b[0;34m[\u001b[0m\u001b[0;36m0\u001b[0m\u001b[0;34m]\u001b[0m\u001b[0;34m)\u001b[0m\u001b[0;34m)\u001b[0m\u001b[0;34m\u001b[0m\u001b[0;34m\u001b[0m\u001b[0m\n\u001b[1;32m     75\u001b[0m             \u001b[0;32mfor\u001b[0m \u001b[0mi\u001b[0m \u001b[0;32min\u001b[0m \u001b[0mrange\u001b[0m\u001b[0;34m(\u001b[0m\u001b[0mself\u001b[0m\u001b[0;34m.\u001b[0m\u001b[0mmax_len\u001b[0m\u001b[0;34m)\u001b[0m\u001b[0;34m:\u001b[0m\u001b[0;34m\u001b[0m\u001b[0;34m\u001b[0m\u001b[0m\n\u001b[0;32m---> 76\u001b[0;31m                 \u001b[0;32mif\u001b[0m \u001b[0mself\u001b[0m\u001b[0;34m.\u001b[0m\u001b[0minput_ids\u001b[0m\u001b[0;34m[\u001b[0m\u001b[0mi\u001b[0m\u001b[0;34m]\u001b[0m \u001b[0;34m==\u001b[0m \u001b[0mlabel_list\u001b[0m\u001b[0;34m[\u001b[0m\u001b[0;36m0\u001b[0m\u001b[0;34m]\u001b[0m\u001b[0;34m:\u001b[0m\u001b[0;34m\u001b[0m\u001b[0;34m\u001b[0m\u001b[0m\n\u001b[0m\u001b[1;32m     77\u001b[0m                     \u001b[0;32mif\u001b[0m \u001b[0mself\u001b[0m\u001b[0;34m.\u001b[0m\u001b[0minput_ids\u001b[0m\u001b[0;34m[\u001b[0m\u001b[0mi\u001b[0m\u001b[0;34m+\u001b[0m\u001b[0mlabel_len\u001b[0m\u001b[0;34m-\u001b[0m\u001b[0;36m1\u001b[0m\u001b[0;34m]\u001b[0m \u001b[0;34m==\u001b[0m \u001b[0mlabel_list\u001b[0m\u001b[0;34m[\u001b[0m\u001b[0;34m-\u001b[0m\u001b[0;36m1\u001b[0m\u001b[0;34m]\u001b[0m\u001b[0;34m:\u001b[0m\u001b[0;34m\u001b[0m\u001b[0;34m\u001b[0m\u001b[0m\n\u001b[1;32m     78\u001b[0m                         \u001b[0mstart_index\u001b[0m\u001b[0;34m.\u001b[0m\u001b[0mappend\u001b[0m\u001b[0;34m(\u001b[0m\u001b[0mi\u001b[0m\u001b[0;34m)\u001b[0m\u001b[0;34m\u001b[0m\u001b[0;34m\u001b[0m\u001b[0m\n",
      "\u001b[0;31mRuntimeError\u001b[0m: Boolean value of Tensor with more than one value is ambiguous"
     ]
    }
   ],
   "source": [
    "train_dataset = BertDataset(train_df[:10], is_label=True)"
   ]
  },
  {
   "cell_type": "code",
   "execution_count": 38,
   "id": "sustained-equation",
   "metadata": {
    "execution": {
     "iopub.execute_input": "2021-05-19T14:49:16.483374Z",
     "iopub.status.busy": "2021-05-19T14:49:16.482258Z",
     "iopub.status.idle": "2021-05-19T14:49:16.488314Z",
     "shell.execute_reply": "2021-05-19T14:49:16.488874Z"
    },
    "papermill": {
     "duration": 0.114438,
     "end_time": "2021-05-19T14:49:16.489063",
     "exception": false,
     "start_time": "2021-05-19T14:49:16.374625",
     "status": "completed"
    },
    "tags": []
   },
   "outputs": [
    {
     "ename": "NameError",
     "evalue": "name 'train_dataset' is not defined",
     "output_type": "error",
     "traceback": [
      "\u001b[0;31m---------------------------------------------------------------------------\u001b[0m",
      "\u001b[0;31mNameError\u001b[0m                                 Traceback (most recent call last)",
      "\u001b[0;32m<ipython-input-38-a0be1c17c5b0>\u001b[0m in \u001b[0;36m<module>\u001b[0;34m\u001b[0m\n\u001b[0;32m----> 1\u001b[0;31m \u001b[0mtrain_dataset\u001b[0m\u001b[0;34m[\u001b[0m\u001b[0;36m0\u001b[0m\u001b[0;34m]\u001b[0m\u001b[0;34m\u001b[0m\u001b[0;34m\u001b[0m\u001b[0m\n\u001b[0m",
      "\u001b[0;31mNameError\u001b[0m: name 'train_dataset' is not defined"
     ]
    }
   ],
   "source": [
    "train_dataset[0]"
   ]
  },
  {
   "cell_type": "code",
   "execution_count": 39,
   "id": "liked-tampa",
   "metadata": {
    "execution": {
     "iopub.execute_input": "2021-05-19T14:49:16.653366Z",
     "iopub.status.busy": "2021-05-19T14:49:16.652394Z",
     "iopub.status.idle": "2021-05-19T14:49:16.682273Z",
     "shell.execute_reply": "2021-05-19T14:49:16.682842Z"
    },
    "papermill": {
     "duration": 0.114177,
     "end_time": "2021-05-19T14:49:16.683031",
     "exception": false,
     "start_time": "2021-05-19T14:49:16.568854",
     "status": "completed"
    },
    "tags": []
   },
   "outputs": [
    {
     "ename": "NameError",
     "evalue": "name 'train_dataset' is not defined",
     "output_type": "error",
     "traceback": [
      "\u001b[0;31m---------------------------------------------------------------------------\u001b[0m",
      "\u001b[0;31mNameError\u001b[0m                                 Traceback (most recent call last)",
      "\u001b[0;32m<ipython-input-39-94b63c3f1f5d>\u001b[0m in \u001b[0;36m<module>\u001b[0;34m\u001b[0m\n\u001b[0;32m----> 1\u001b[0;31m \u001b[0mtrain_dataset\u001b[0m\u001b[0;34m[\u001b[0m\u001b[0;36m0\u001b[0m\u001b[0;34m]\u001b[0m\u001b[0;34m[\u001b[0m\u001b[0;34m'input_ids'\u001b[0m\u001b[0;34m]\u001b[0m \u001b[0;34m,\u001b[0m\u001b[0mtrain_dataset\u001b[0m\u001b[0;34m[\u001b[0m\u001b[0;36m0\u001b[0m\u001b[0;34m]\u001b[0m\u001b[0;34m[\u001b[0m\u001b[0;34m'start_index'\u001b[0m\u001b[0;34m]\u001b[0m\u001b[0;34m\u001b[0m\u001b[0;34m\u001b[0m\u001b[0m\n\u001b[0m",
      "\u001b[0;31mNameError\u001b[0m: name 'train_dataset' is not defined"
     ]
    }
   ],
   "source": [
    "train_dataset[0]['input_ids'] ,train_dataset[0]['start_index']\n"
   ]
  },
  {
   "cell_type": "code",
   "execution_count": 40,
   "id": "latin-picnic",
   "metadata": {
    "execution": {
     "iopub.execute_input": "2021-05-19T14:49:16.848899Z",
     "iopub.status.busy": "2021-05-19T14:49:16.847921Z",
     "iopub.status.idle": "2021-05-19T14:49:16.877904Z",
     "shell.execute_reply": "2021-05-19T14:49:16.878524Z"
    },
    "papermill": {
     "duration": 0.114844,
     "end_time": "2021-05-19T14:49:16.878701",
     "exception": false,
     "start_time": "2021-05-19T14:49:16.763857",
     "status": "completed"
    },
    "tags": []
   },
   "outputs": [
    {
     "ename": "NameError",
     "evalue": "name 'train_dataset' is not defined",
     "output_type": "error",
     "traceback": [
      "\u001b[0;31m---------------------------------------------------------------------------\u001b[0m",
      "\u001b[0;31mNameError\u001b[0m                                 Traceback (most recent call last)",
      "\u001b[0;32m<ipython-input-40-b3689f5f3ae5>\u001b[0m in \u001b[0;36m<module>\u001b[0;34m\u001b[0m\n\u001b[0;32m----> 1\u001b[0;31m \u001b[0mprint\u001b[0m\u001b[0;34m(\u001b[0m\u001b[0mtrain_dataset\u001b[0m\u001b[0;34m[\u001b[0m\u001b[0;36m0\u001b[0m\u001b[0;34m]\u001b[0m\u001b[0;34m[\u001b[0m\u001b[0;34m'label'\u001b[0m\u001b[0;34m]\u001b[0m\u001b[0;34m)\u001b[0m\u001b[0;34m\u001b[0m\u001b[0;34m\u001b[0m\u001b[0m\n\u001b[0m",
      "\u001b[0;31mNameError\u001b[0m: name 'train_dataset' is not defined"
     ]
    }
   ],
   "source": [
    "print(train_dataset[0]['label'])"
   ]
  },
  {
   "cell_type": "code",
   "execution_count": 41,
   "id": "asian-grace",
   "metadata": {
    "execution": {
     "iopub.execute_input": "2021-05-19T14:49:17.046798Z",
     "iopub.status.busy": "2021-05-19T14:49:17.045821Z",
     "iopub.status.idle": "2021-05-19T14:49:17.082501Z",
     "shell.execute_reply": "2021-05-19T14:49:17.081872Z"
    },
    "papermill": {
     "duration": 0.123098,
     "end_time": "2021-05-19T14:49:17.082654",
     "exception": false,
     "start_time": "2021-05-19T14:49:16.959556",
     "status": "completed"
    },
    "tags": []
   },
   "outputs": [
    {
     "name": "stdout",
     "output_type": "stream",
     "text": [
      "Original text:  id have responded if i were going\n"
     ]
    },
    {
     "ename": "NameError",
     "evalue": "name 'train_dataset' is not defined",
     "output_type": "error",
     "traceback": [
      "\u001b[0;31m---------------------------------------------------------------------------\u001b[0m",
      "\u001b[0;31mNameError\u001b[0m                                 Traceback (most recent call last)",
      "\u001b[0;32m<ipython-input-41-13a3b5f3f4a3>\u001b[0m in \u001b[0;36m<module>\u001b[0;34m\u001b[0m\n\u001b[1;32m      1\u001b[0m \u001b[0mprint\u001b[0m\u001b[0;34m(\u001b[0m\u001b[0;34m'Original text: '\u001b[0m\u001b[0;34m,\u001b[0m\u001b[0mtrain_df\u001b[0m\u001b[0;34m[\u001b[0m\u001b[0;34m'text'\u001b[0m\u001b[0;34m]\u001b[0m\u001b[0;34m[\u001b[0m\u001b[0;36m0\u001b[0m\u001b[0;34m]\u001b[0m\u001b[0;34m)\u001b[0m\u001b[0;34m\u001b[0m\u001b[0;34m\u001b[0m\u001b[0m\n\u001b[0;32m----> 2\u001b[0;31m \u001b[0mprint\u001b[0m\u001b[0;34m(\u001b[0m\u001b[0;34m'Original text length: '\u001b[0m\u001b[0;34m,\u001b[0m\u001b[0mlen\u001b[0m\u001b[0;34m(\u001b[0m\u001b[0mtrain_dataset\u001b[0m\u001b[0;34m[\u001b[0m\u001b[0;36m0\u001b[0m\u001b[0;34m]\u001b[0m\u001b[0;34m[\u001b[0m\u001b[0;34m'input_ids'\u001b[0m\u001b[0;34m]\u001b[0m\u001b[0;34m[\u001b[0m\u001b[0;36m0\u001b[0m\u001b[0;34m]\u001b[0m\u001b[0;34m)\u001b[0m\u001b[0;34m)\u001b[0m\u001b[0;34m\u001b[0m\u001b[0;34m\u001b[0m\u001b[0m\n\u001b[0m\u001b[1;32m      3\u001b[0m \u001b[0mprint\u001b[0m\u001b[0;34m(\u001b[0m\u001b[0mtrain_dataset\u001b[0m\u001b[0;34m[\u001b[0m\u001b[0;36m0\u001b[0m\u001b[0;34m]\u001b[0m\u001b[0;34m[\u001b[0m\u001b[0;34m'input_ids'\u001b[0m\u001b[0;34m]\u001b[0m\u001b[0;34m[\u001b[0m\u001b[0;36m0\u001b[0m\u001b[0;34m]\u001b[0m\u001b[0;34m)\u001b[0m\u001b[0;34m\u001b[0m\u001b[0;34m\u001b[0m\u001b[0m\n\u001b[1;32m      4\u001b[0m \u001b[0mprint\u001b[0m\u001b[0;34m(\u001b[0m\u001b[0mtrain_dataset\u001b[0m\u001b[0;34m[\u001b[0m\u001b[0;36m0\u001b[0m\u001b[0;34m]\u001b[0m\u001b[0;34m[\u001b[0m\u001b[0;34m'attention_masks'\u001b[0m\u001b[0;34m]\u001b[0m\u001b[0;34m[\u001b[0m\u001b[0;36m0\u001b[0m\u001b[0;34m]\u001b[0m\u001b[0;34m)\u001b[0m\u001b[0;34m\u001b[0m\u001b[0;34m\u001b[0m\u001b[0m\n\u001b[1;32m      5\u001b[0m \u001b[0mprint\u001b[0m\u001b[0;34m(\u001b[0m\u001b[0mtrain_dataset\u001b[0m\u001b[0;34m[\u001b[0m\u001b[0;36m0\u001b[0m\u001b[0;34m]\u001b[0m\u001b[0;34m[\u001b[0m\u001b[0;34m'token_type_ids'\u001b[0m\u001b[0;34m]\u001b[0m\u001b[0;34m[\u001b[0m\u001b[0;36m0\u001b[0m\u001b[0;34m]\u001b[0m\u001b[0;34m)\u001b[0m\u001b[0;34m\u001b[0m\u001b[0;34m\u001b[0m\u001b[0m\n",
      "\u001b[0;31mNameError\u001b[0m: name 'train_dataset' is not defined"
     ]
    }
   ],
   "source": [
    "print('Original text: ',train_df['text'][0])\n",
    "print('Original text length: ',len(train_dataset[0]['input_ids'][0]))\n",
    "print(train_dataset[0]['input_ids'][0])\n",
    "print(train_dataset[0]['attention_masks'][0])\n",
    "print(train_dataset[0]['token_type_ids'][0])\n",
    "print(\"\\n\\n\")\n",
    "\n",
    "print('Selected text: ',train_df['selected_text'][0])\n"
   ]
  },
  {
   "cell_type": "markdown",
   "id": "latest-pharmacology",
   "metadata": {
    "papermill": {
     "duration": 0.081311,
     "end_time": "2021-05-19T14:49:17.246092",
     "exception": false,
     "start_time": "2021-05-19T14:49:17.164781",
     "status": "completed"
    },
    "tags": []
   },
   "source": [
    "- 1. input_ids: Token value to be passed to the model.\n",
    "- 2. attention_masks: Token value for the model to recognize the sequence.\n",
    "- 3. token_type_ids: Token value for the model to distinguish between two sequences. The first is 'sentiment', and the second is a token value for the 'text' value."
   ]
  },
  {
   "cell_type": "code",
   "execution_count": 42,
   "id": "choice-westminster",
   "metadata": {
    "execution": {
     "iopub.execute_input": "2021-05-19T14:49:17.417524Z",
     "iopub.status.busy": "2021-05-19T14:49:17.416820Z",
     "iopub.status.idle": "2021-05-19T14:49:17.418809Z",
     "shell.execute_reply": "2021-05-19T14:49:17.419468Z"
    },
    "papermill": {
     "duration": 0.092121,
     "end_time": "2021-05-19T14:49:17.419646",
     "exception": false,
     "start_time": "2021-05-19T14:49:17.327525",
     "status": "completed"
    },
    "tags": []
   },
   "outputs": [],
   "source": [
    "def get_train_val_loaders(dataset, val_size=0.2, batch_size=8):\n",
    "    \n",
    "    train_split, val_split = train_test_split(dataset, test_size=val_size)\n",
    "    \n",
    "    train_loader = torch.utils.data.DataLoader(\n",
    "        train_split,\n",
    "        batch_size=batch_size, \n",
    "        shuffle=True, \n",
    "        num_workers=2,\n",
    "        drop_last=True)\n",
    "    \n",
    "    val_loader = torch.utils.data.DataLoader(\n",
    "        val_split,\n",
    "        batch_size=batch_size, \n",
    "        shuffle=False, \n",
    "        num_workers=2)\n",
    "    \n",
    "    dataloaders_dict = {\"train\": train_loader, \"val\": val_loader}\n",
    "    \n",
    "    return dataloaders_dict\n",
    "\n",
    "\n",
    "def get_test_loader(dataset, batch_size=32):\n",
    "    \n",
    "    loader = torch.utils.data.DataLoader(\n",
    "        dataset,\n",
    "        batch_size=batch_size, \n",
    "        shuffle=False, \n",
    "        num_workers=2)  \n",
    "    \n",
    "    return loader"
   ]
  },
  {
   "cell_type": "code",
   "execution_count": 43,
   "id": "entire-portfolio",
   "metadata": {
    "execution": {
     "iopub.execute_input": "2021-05-19T14:49:17.586338Z",
     "iopub.status.busy": "2021-05-19T14:49:17.585681Z",
     "iopub.status.idle": "2021-05-19T14:49:17.616048Z",
     "shell.execute_reply": "2021-05-19T14:49:17.616615Z"
    },
    "papermill": {
     "duration": 0.115383,
     "end_time": "2021-05-19T14:49:17.616800",
     "exception": false,
     "start_time": "2021-05-19T14:49:17.501417",
     "status": "completed"
    },
    "tags": []
   },
   "outputs": [
    {
     "ename": "NameError",
     "evalue": "name 'train_dataset' is not defined",
     "output_type": "error",
     "traceback": [
      "\u001b[0;31m---------------------------------------------------------------------------\u001b[0m",
      "\u001b[0;31mNameError\u001b[0m                                 Traceback (most recent call last)",
      "\u001b[0;32m<ipython-input-43-16b2cb6cfebc>\u001b[0m in \u001b[0;36m<module>\u001b[0;34m\u001b[0m\n\u001b[0;32m----> 1\u001b[0;31m \u001b[0mdict_loader\u001b[0m \u001b[0;34m=\u001b[0m \u001b[0mget_train_val_loaders\u001b[0m\u001b[0;34m(\u001b[0m\u001b[0mtrain_dataset\u001b[0m\u001b[0;34m)\u001b[0m\u001b[0;34m\u001b[0m\u001b[0;34m\u001b[0m\u001b[0m\n\u001b[0m\u001b[1;32m      2\u001b[0m \u001b[0mtest_loader\u001b[0m \u001b[0;34m=\u001b[0m \u001b[0mget_test_loader\u001b[0m\u001b[0;34m(\u001b[0m\u001b[0mtest_dataset\u001b[0m\u001b[0;34m)\u001b[0m\u001b[0;34m\u001b[0m\u001b[0;34m\u001b[0m\u001b[0m\n",
      "\u001b[0;31mNameError\u001b[0m: name 'train_dataset' is not defined"
     ]
    }
   ],
   "source": [
    "dict_loader = get_train_val_loaders(train_dataset)\n",
    "test_loader = get_test_loader(test_dataset)"
   ]
  },
  {
   "cell_type": "code",
   "execution_count": 44,
   "id": "acknowledged-jungle",
   "metadata": {
    "execution": {
     "iopub.execute_input": "2021-05-19T14:49:17.785976Z",
     "iopub.status.busy": "2021-05-19T14:49:17.785314Z",
     "iopub.status.idle": "2021-05-19T14:49:17.814955Z",
     "shell.execute_reply": "2021-05-19T14:49:17.815496Z"
    },
    "papermill": {
     "duration": 0.115892,
     "end_time": "2021-05-19T14:49:17.815693",
     "exception": false,
     "start_time": "2021-05-19T14:49:17.699801",
     "status": "completed"
    },
    "tags": []
   },
   "outputs": [
    {
     "ename": "NameError",
     "evalue": "name 'dict_loader' is not defined",
     "output_type": "error",
     "traceback": [
      "\u001b[0;31m---------------------------------------------------------------------------\u001b[0m",
      "\u001b[0;31mNameError\u001b[0m                                 Traceback (most recent call last)",
      "\u001b[0;32m<ipython-input-44-efd4e3a58033>\u001b[0m in \u001b[0;36m<module>\u001b[0;34m\u001b[0m\n\u001b[0;32m----> 1\u001b[0;31m \u001b[0mdict_loader\u001b[0m\u001b[0;34m\u001b[0m\u001b[0;34m\u001b[0m\u001b[0m\n\u001b[0m",
      "\u001b[0;31mNameError\u001b[0m: name 'dict_loader' is not defined"
     ]
    }
   ],
   "source": [
    "dict_loader"
   ]
  },
  {
   "cell_type": "markdown",
   "id": "together-morrison",
   "metadata": {
    "papermill": {
     "duration": 0.083403,
     "end_time": "2021-05-19T14:49:17.981916",
     "exception": false,
     "start_time": "2021-05-19T14:49:17.898513",
     "status": "completed"
    },
    "tags": []
   },
   "source": [
    "----------"
   ]
  },
  {
   "cell_type": "code",
   "execution_count": 45,
   "id": "colonial-aerospace",
   "metadata": {
    "execution": {
     "iopub.execute_input": "2021-05-19T14:49:18.155794Z",
     "iopub.status.busy": "2021-05-19T14:49:18.154767Z",
     "iopub.status.idle": "2021-05-19T14:49:18.159371Z",
     "shell.execute_reply": "2021-05-19T14:49:18.158790Z"
    },
    "papermill": {
     "duration": 0.093857,
     "end_time": "2021-05-19T14:49:18.159537",
     "exception": false,
     "start_time": "2021-05-19T14:49:18.065680",
     "status": "completed"
    },
    "tags": []
   },
   "outputs": [
    {
     "ename": "SyntaxError",
     "evalue": "invalid syntax (<ipython-input-45-9bc7eb66f253>, line 1)",
     "output_type": "error",
     "traceback": [
      "\u001b[0;36m  File \u001b[0;32m\"<ipython-input-45-9bc7eb66f253>\"\u001b[0;36m, line \u001b[0;32m1\u001b[0m\n\u001b[0;31m    stop to \"run all\"=\u001b[0m\n\u001b[0m          ^\u001b[0m\n\u001b[0;31mSyntaxError\u001b[0m\u001b[0;31m:\u001b[0m invalid syntax\n"
     ]
    }
   ],
   "source": [
    "stop to \"run all\"="
   ]
  },
  {
   "cell_type": "code",
   "execution_count": 46,
   "id": "brilliant-tuning",
   "metadata": {
    "execution": {
     "iopub.execute_input": "2021-05-19T14:49:18.358990Z",
     "iopub.status.busy": "2021-05-19T14:49:18.345149Z",
     "iopub.status.idle": "2021-05-19T14:49:18.364507Z",
     "shell.execute_reply": "2021-05-19T14:49:18.365074Z"
    },
    "papermill": {
     "duration": 0.121435,
     "end_time": "2021-05-19T14:49:18.365259",
     "exception": false,
     "start_time": "2021-05-19T14:49:18.243824",
     "status": "completed"
    },
    "tags": []
   },
   "outputs": [
    {
     "ename": "NameError",
     "evalue": "name 'train_dataset' is not defined",
     "output_type": "error",
     "traceback": [
      "\u001b[0;31m---------------------------------------------------------------------------\u001b[0m",
      "\u001b[0;31mNameError\u001b[0m                                 Traceback (most recent call last)",
      "\u001b[0;32m<ipython-input-46-5425a5f8edbd>\u001b[0m in \u001b[0;36m<module>\u001b[0;34m\u001b[0m\n\u001b[0;32m----> 1\u001b[0;31m \u001b[0mdataset_input\u001b[0m \u001b[0;34m=\u001b[0m \u001b[0mtrain_dataset\u001b[0m\u001b[0;34m[\u001b[0m\u001b[0;36m0\u001b[0m\u001b[0;34m]\u001b[0m\u001b[0;34m[\u001b[0m\u001b[0;34m'input_ids'\u001b[0m\u001b[0;34m]\u001b[0m\u001b[0;34m[\u001b[0m\u001b[0;36m6\u001b[0m\u001b[0;34m]\u001b[0m\u001b[0;34m\u001b[0m\u001b[0;34m\u001b[0m\u001b[0m\n\u001b[0m\u001b[1;32m      2\u001b[0m \u001b[0mdataset_label\u001b[0m \u001b[0;34m=\u001b[0m \u001b[0mtrain_dataset\u001b[0m\u001b[0;34m[\u001b[0m\u001b[0;36m0\u001b[0m\u001b[0;34m]\u001b[0m\u001b[0;34m[\u001b[0m\u001b[0;34m'label'\u001b[0m\u001b[0;34m]\u001b[0m\u001b[0;34m[\u001b[0m\u001b[0;36m6\u001b[0m\u001b[0;34m]\u001b[0m\u001b[0;34m\u001b[0m\u001b[0;34m\u001b[0m\u001b[0m\n\u001b[1;32m      3\u001b[0m \u001b[0;34m\u001b[0m\u001b[0m\n\u001b[1;32m      4\u001b[0m \u001b[0mlabel_list\u001b[0m \u001b[0;34m=\u001b[0m \u001b[0;34m[\u001b[0m\u001b[0;34m]\u001b[0m\u001b[0;34m\u001b[0m\u001b[0;34m\u001b[0m\u001b[0m\n\u001b[1;32m      5\u001b[0m \u001b[0;32mfor\u001b[0m \u001b[0mlabel\u001b[0m \u001b[0;32min\u001b[0m \u001b[0mdataset_label\u001b[0m\u001b[0;34m:\u001b[0m\u001b[0;34m\u001b[0m\u001b[0;34m\u001b[0m\u001b[0m\n",
      "\u001b[0;31mNameError\u001b[0m: name 'train_dataset' is not defined"
     ]
    }
   ],
   "source": [
    "dataset_input = train_dataset[0]['input_ids'][6]\n",
    "dataset_label = train_dataset[0]['label'][6]\n",
    "\n",
    "label_list = []\n",
    "for label in dataset_label:\n",
    "    if label != 0 and label != 101 and label != 102:\n",
    "        label_list.append(label)\n",
    "label_len = len(label_list)\n",
    "print(label_list)\n",
    "print(label_len)\n",
    "\n",
    "\n",
    "for i in range(len(dataset_input)):\n",
    "    if dataset_input[i] == label_list[0]:\n",
    "        if dataset_input[i+label_len-1] == label_list[-1]:\n",
    "            start_index = i\n",
    "            end_index = i+label_len\n",
    "            break\n"
   ]
  },
  {
   "cell_type": "code",
   "execution_count": 47,
   "id": "fallen-child",
   "metadata": {
    "execution": {
     "iopub.execute_input": "2021-05-19T14:49:18.536876Z",
     "iopub.status.busy": "2021-05-19T14:49:18.536213Z",
     "iopub.status.idle": "2021-05-19T14:49:18.566079Z",
     "shell.execute_reply": "2021-05-19T14:49:18.566681Z"
    },
    "papermill": {
     "duration": 0.116894,
     "end_time": "2021-05-19T14:49:18.566870",
     "exception": false,
     "start_time": "2021-05-19T14:49:18.449976",
     "status": "completed"
    },
    "tags": []
   },
   "outputs": [
    {
     "ename": "NameError",
     "evalue": "name 'train_dataset' is not defined",
     "output_type": "error",
     "traceback": [
      "\u001b[0;31m---------------------------------------------------------------------------\u001b[0m",
      "\u001b[0;31mNameError\u001b[0m                                 Traceback (most recent call last)",
      "\u001b[0;32m<ipython-input-47-dffe74435952>\u001b[0m in \u001b[0;36m<module>\u001b[0;34m\u001b[0m\n\u001b[0;32m----> 1\u001b[0;31m \u001b[0mdataset_label\u001b[0m \u001b[0;34m=\u001b[0m \u001b[0mtrain_dataset\u001b[0m\u001b[0;34m[\u001b[0m\u001b[0;36m0\u001b[0m\u001b[0;34m]\u001b[0m\u001b[0;34m[\u001b[0m\u001b[0;34m'label'\u001b[0m\u001b[0;34m]\u001b[0m\u001b[0;34m[\u001b[0m\u001b[0;36m6\u001b[0m\u001b[0;34m]\u001b[0m\u001b[0;34m\u001b[0m\u001b[0;34m\u001b[0m\u001b[0m\n\u001b[0m\u001b[1;32m      2\u001b[0m \u001b[0mdataset_label\u001b[0m\u001b[0;34m\u001b[0m\u001b[0;34m\u001b[0m\u001b[0m\n",
      "\u001b[0;31mNameError\u001b[0m: name 'train_dataset' is not defined"
     ]
    }
   ],
   "source": [
    "dataset_label = train_dataset[0]['label'][6]\n",
    "dataset_label"
   ]
  },
  {
   "cell_type": "code",
   "execution_count": 48,
   "id": "generous-thanks",
   "metadata": {
    "execution": {
     "iopub.execute_input": "2021-05-19T14:49:18.741710Z",
     "iopub.status.busy": "2021-05-19T14:49:18.740976Z",
     "iopub.status.idle": "2021-05-19T14:49:18.770847Z",
     "shell.execute_reply": "2021-05-19T14:49:18.771417Z"
    },
    "papermill": {
     "duration": 0.120175,
     "end_time": "2021-05-19T14:49:18.771601",
     "exception": false,
     "start_time": "2021-05-19T14:49:18.651426",
     "status": "completed"
    },
    "tags": []
   },
   "outputs": [
    {
     "ename": "NameError",
     "evalue": "name 'start_index' is not defined",
     "output_type": "error",
     "traceback": [
      "\u001b[0;31m---------------------------------------------------------------------------\u001b[0m",
      "\u001b[0;31mNameError\u001b[0m                                 Traceback (most recent call last)",
      "\u001b[0;32m<ipython-input-48-f78420ded4d7>\u001b[0m in \u001b[0;36m<module>\u001b[0;34m\u001b[0m\n\u001b[0;32m----> 1\u001b[0;31m \u001b[0mstart_index\u001b[0m\u001b[0;34m,\u001b[0m \u001b[0mend_index\u001b[0m\u001b[0;34m\u001b[0m\u001b[0;34m\u001b[0m\u001b[0m\n\u001b[0m",
      "\u001b[0;31mNameError\u001b[0m: name 'start_index' is not defined"
     ]
    }
   ],
   "source": [
    "start_index, end_index"
   ]
  },
  {
   "cell_type": "code",
   "execution_count": 49,
   "id": "subjective-berlin",
   "metadata": {
    "execution": {
     "iopub.execute_input": "2021-05-19T14:49:18.947808Z",
     "iopub.status.busy": "2021-05-19T14:49:18.947095Z",
     "iopub.status.idle": "2021-05-19T14:49:18.977245Z",
     "shell.execute_reply": "2021-05-19T14:49:18.977815Z"
    },
    "papermill": {
     "duration": 0.119713,
     "end_time": "2021-05-19T14:49:18.978025",
     "exception": false,
     "start_time": "2021-05-19T14:49:18.858312",
     "status": "completed"
    },
    "tags": []
   },
   "outputs": [
    {
     "ename": "NameError",
     "evalue": "name 'dataset_input' is not defined",
     "output_type": "error",
     "traceback": [
      "\u001b[0;31m---------------------------------------------------------------------------\u001b[0m",
      "\u001b[0;31mNameError\u001b[0m                                 Traceback (most recent call last)",
      "\u001b[0;32m<ipython-input-49-252c8ce64604>\u001b[0m in \u001b[0;36m<module>\u001b[0;34m\u001b[0m\n\u001b[0;32m----> 1\u001b[0;31m \u001b[0mdataset_input\u001b[0m\u001b[0;34m\u001b[0m\u001b[0;34m\u001b[0m\u001b[0m\n\u001b[0m",
      "\u001b[0;31mNameError\u001b[0m: name 'dataset_input' is not defined"
     ]
    }
   ],
   "source": [
    "dataset_input"
   ]
  },
  {
   "cell_type": "code",
   "execution_count": 50,
   "id": "industrial-negative",
   "metadata": {
    "execution": {
     "iopub.execute_input": "2021-05-19T14:49:19.159688Z",
     "iopub.status.busy": "2021-05-19T14:49:19.158861Z",
     "iopub.status.idle": "2021-05-19T14:49:19.189817Z",
     "shell.execute_reply": "2021-05-19T14:49:19.190444Z"
    },
    "papermill": {
     "duration": 0.123344,
     "end_time": "2021-05-19T14:49:19.190634",
     "exception": false,
     "start_time": "2021-05-19T14:49:19.067290",
     "status": "completed"
    },
    "tags": []
   },
   "outputs": [
    {
     "ename": "NameError",
     "evalue": "name 'dataset_input' is not defined",
     "output_type": "error",
     "traceback": [
      "\u001b[0;31m---------------------------------------------------------------------------\u001b[0m",
      "\u001b[0;31mNameError\u001b[0m                                 Traceback (most recent call last)",
      "\u001b[0;32m<ipython-input-50-b153d38236ec>\u001b[0m in \u001b[0;36m<module>\u001b[0;34m\u001b[0m\n\u001b[0;32m----> 1\u001b[0;31m \u001b[0mdataset_input\u001b[0m\u001b[0;34m[\u001b[0m\u001b[0;36m13\u001b[0m\u001b[0;34m]\u001b[0m\u001b[0;34m\u001b[0m\u001b[0;34m\u001b[0m\u001b[0m\n\u001b[0m",
      "\u001b[0;31mNameError\u001b[0m: name 'dataset_input' is not defined"
     ]
    }
   ],
   "source": [
    "dataset_input[13]"
   ]
  },
  {
   "cell_type": "code",
   "execution_count": 51,
   "id": "received-timber",
   "metadata": {
    "execution": {
     "iopub.execute_input": "2021-05-19T14:49:19.369417Z",
     "iopub.status.busy": "2021-05-19T14:49:19.368692Z",
     "iopub.status.idle": "2021-05-19T14:49:19.398443Z",
     "shell.execute_reply": "2021-05-19T14:49:19.399080Z"
    },
    "papermill": {
     "duration": 0.121171,
     "end_time": "2021-05-19T14:49:19.399277",
     "exception": false,
     "start_time": "2021-05-19T14:49:19.278106",
     "status": "completed"
    },
    "tags": []
   },
   "outputs": [
    {
     "ename": "NameError",
     "evalue": "name 'label_list' is not defined",
     "output_type": "error",
     "traceback": [
      "\u001b[0;31m---------------------------------------------------------------------------\u001b[0m",
      "\u001b[0;31mNameError\u001b[0m                                 Traceback (most recent call last)",
      "\u001b[0;32m<ipython-input-51-702a45135405>\u001b[0m in \u001b[0;36m<module>\u001b[0;34m\u001b[0m\n\u001b[0;32m----> 1\u001b[0;31m \u001b[0mtorch\u001b[0m\u001b[0;34m.\u001b[0m\u001b[0mtensor\u001b[0m\u001b[0;34m(\u001b[0m\u001b[0mlabel_list\u001b[0m\u001b[0;34m)\u001b[0m\u001b[0;34m\u001b[0m\u001b[0;34m\u001b[0m\u001b[0m\n\u001b[0m",
      "\u001b[0;31mNameError\u001b[0m: name 'label_list' is not defined"
     ]
    }
   ],
   "source": [
    "torch.tensor(label_list)"
   ]
  },
  {
   "cell_type": "code",
   "execution_count": null,
   "id": "oriental-exclusive",
   "metadata": {
    "papermill": {
     "duration": 0.087478,
     "end_time": "2021-05-19T14:49:19.574533",
     "exception": false,
     "start_time": "2021-05-19T14:49:19.487055",
     "status": "completed"
    },
    "tags": []
   },
   "outputs": [],
   "source": []
  },
  {
   "cell_type": "markdown",
   "id": "dressed-reliance",
   "metadata": {
    "papermill": {
     "duration": 0.111204,
     "end_time": "2021-05-19T14:49:19.773538",
     "exception": false,
     "start_time": "2021-05-19T14:49:19.662334",
     "status": "completed"
    },
    "tags": []
   },
   "source": [
    "# 7.Modeling\n",
    "* Bert model (Not yet)"
   ]
  },
  {
   "cell_type": "code",
   "execution_count": 52,
   "id": "later-irish",
   "metadata": {
    "execution": {
     "iopub.execute_input": "2021-05-19T14:49:19.953258Z",
     "iopub.status.busy": "2021-05-19T14:49:19.952228Z",
     "iopub.status.idle": "2021-05-19T14:49:19.962703Z",
     "shell.execute_reply": "2021-05-19T14:49:19.962138Z"
    },
    "papermill": {
     "duration": 0.101146,
     "end_time": "2021-05-19T14:49:19.962867",
     "exception": false,
     "start_time": "2021-05-19T14:49:19.861721",
     "status": "completed"
    },
    "tags": []
   },
   "outputs": [],
   "source": [
    "class BertModel(nn.Module):\n",
    "    def __init__(self,):\n",
    "        super().__init__()\n",
    "        self.bert = BertModel.from_pretrained('bert-base-uncased')\n",
    "        self.hidden_size = self.bert.config.hidden_size\n",
    "        self.layer = nn.Sequential(\n",
    "            nn.Linear(self.hidden_size, 32),\n",
    "            nn.Dropout(0.2),\n",
    "        )\n",
    "        self.FC = nn.Linear(32,2)\n",
    "        \n",
    "    def forward(self,inputs):\n",
    "        \n",
    "        encoded_layers, pooled_output = self.bert(input_ids=inputs[0],attention_mask=inputs[1])\n",
    "        encoded_layers = encoded_layers.permute(1, 0, 2)\n",
    "        enc_hiddens, (last_hidden, last_cell) = self.LSTM(pack_padded_sequence(encoded_layers, inputs[2]))\n",
    "        output_hidden = torch.cat((last_hidden[0], last_hidden[1]), dim=1)\n",
    "        output_hidden = F.dropout(output_hidden,0.2)\n",
    "        output = self.clf(output_hidden)\n",
    "        \n",
    "        return F.sigmoid(output)"
   ]
  },
  {
   "cell_type": "code",
   "execution_count": 53,
   "id": "latin-terrain",
   "metadata": {
    "execution": {
     "iopub.execute_input": "2021-05-19T14:49:20.149861Z",
     "iopub.status.busy": "2021-05-19T14:49:20.148808Z",
     "iopub.status.idle": "2021-05-19T14:49:20.152376Z",
     "shell.execute_reply": "2021-05-19T14:49:20.151827Z"
    },
    "papermill": {
     "duration": 0.100816,
     "end_time": "2021-05-19T14:49:20.152533",
     "exception": false,
     "start_time": "2021-05-19T14:49:20.051717",
     "status": "completed"
    },
    "tags": []
   },
   "outputs": [],
   "source": [
    "class BertModel(nn.Module):\n",
    "    def __init__(self):\n",
    "        super(TweetModel, self).__init__()\n",
    "        \n",
    "        config = RobertaConfig.from_pretrained(\n",
    "            '../input/roberta-base/config.json', output_hidden_states=True)    \n",
    "        self.roberta = RobertaModel.from_pretrained(\n",
    "            '../input/roberta-base/pytorch_model.bin', config=config)\n",
    "        self.dropout = nn.Dropout(0.5)\n",
    "        self.fc = nn.Linear(config.hidden_size, 2)\n",
    "        nn.init.normal_(self.fc.weight, std=0.02)\n",
    "        nn.init.normal_(self.fc.bias, 0)\n",
    "\n",
    "    def forward(self, input_ids, attention_mask):\n",
    "        _, _, hs = self.roberta(input_ids, attention_mask)\n",
    "         \n",
    "        x = torch.stack([hs[-1], hs[-2], hs[-3], hs[-4]])\n",
    "        x = torch.mean(x, 0)\n",
    "        x = self.dropout(x)\n",
    "        x = self.fc(x)\n",
    "        start_logits, end_logits = x.split(1, dim=-1)\n",
    "        start_logits = start_logits.squeeze(-1)\n",
    "        end_logits = end_logits.squeeze(-1)\n",
    "                \n",
    "        return start_logits, end_logits"
   ]
  },
  {
   "cell_type": "code",
   "execution_count": 54,
   "id": "mighty-jacob",
   "metadata": {
    "execution": {
     "iopub.execute_input": "2021-05-19T14:49:20.355689Z",
     "iopub.status.busy": "2021-05-19T14:49:20.342656Z",
     "iopub.status.idle": "2021-05-19T14:49:20.370477Z",
     "shell.execute_reply": "2021-05-19T14:49:20.369759Z"
    },
    "papermill": {
     "duration": 0.128491,
     "end_time": "2021-05-19T14:49:20.370630",
     "exception": false,
     "start_time": "2021-05-19T14:49:20.242139",
     "status": "completed"
    },
    "tags": []
   },
   "outputs": [
    {
     "ename": "NameError",
     "evalue": "name 'tf' is not defined",
     "output_type": "error",
     "traceback": [
      "\u001b[0;31m---------------------------------------------------------------------------\u001b[0m",
      "\u001b[0;31mNameError\u001b[0m                                 Traceback (most recent call last)",
      "\u001b[0;32m<ipython-input-54-24f15fc092d4>\u001b[0m in \u001b[0;36m<module>\u001b[0;34m\u001b[0m\n\u001b[0;32m----> 1\u001b[0;31m \u001b[0minput_ids\u001b[0m \u001b[0;34m=\u001b[0m \u001b[0mtf\u001b[0m\u001b[0;34m.\u001b[0m\u001b[0mkeras\u001b[0m\u001b[0;34m.\u001b[0m\u001b[0mInput\u001b[0m\u001b[0;34m(\u001b[0m\u001b[0mshape\u001b[0m\u001b[0;34m=\u001b[0m\u001b[0;34m(\u001b[0m\u001b[0;36m60\u001b[0m\u001b[0;34m,\u001b[0m\u001b[0;34m)\u001b[0m\u001b[0;34m,\u001b[0m\u001b[0mdtype\u001b[0m\u001b[0;34m=\u001b[0m\u001b[0;34m'int32'\u001b[0m\u001b[0;34m,\u001b[0m\u001b[0mname\u001b[0m\u001b[0;34m=\u001b[0m\u001b[0;34m'input_ids'\u001b[0m\u001b[0;34m)\u001b[0m\u001b[0;34m\u001b[0m\u001b[0;34m\u001b[0m\u001b[0m\n\u001b[0m\u001b[1;32m      2\u001b[0m \u001b[0mattention_masks\u001b[0m \u001b[0;34m=\u001b[0m \u001b[0mtf\u001b[0m\u001b[0;34m.\u001b[0m\u001b[0mkeras\u001b[0m\u001b[0;34m.\u001b[0m\u001b[0mInput\u001b[0m\u001b[0;34m(\u001b[0m\u001b[0mshape\u001b[0m\u001b[0;34m=\u001b[0m\u001b[0;34m(\u001b[0m\u001b[0;36m60\u001b[0m\u001b[0;34m,\u001b[0m\u001b[0;34m)\u001b[0m\u001b[0;34m,\u001b[0m\u001b[0mdtype\u001b[0m\u001b[0;34m=\u001b[0m\u001b[0;34m'int32'\u001b[0m\u001b[0;34m,\u001b[0m\u001b[0mname\u001b[0m\u001b[0;34m=\u001b[0m\u001b[0;34m'attention_masks'\u001b[0m\u001b[0;34m)\u001b[0m\u001b[0;34m\u001b[0m\u001b[0;34m\u001b[0m\u001b[0m\n\u001b[1;32m      3\u001b[0m \u001b[0;34m\u001b[0m\u001b[0m\n\u001b[1;32m      4\u001b[0m \u001b[0moutput\u001b[0m \u001b[0;34m=\u001b[0m \u001b[0mbert_layers\u001b[0m\u001b[0;34m(\u001b[0m\u001b[0;34m[\u001b[0m\u001b[0minput_ids\u001b[0m\u001b[0;34m,\u001b[0m\u001b[0mattention_masks\u001b[0m\u001b[0;34m]\u001b[0m\u001b[0;34m)\u001b[0m\u001b[0;34m\u001b[0m\u001b[0;34m\u001b[0m\u001b[0m\n\u001b[1;32m      5\u001b[0m \u001b[0moutput\u001b[0m \u001b[0;34m=\u001b[0m \u001b[0moutput\u001b[0m\u001b[0;34m[\u001b[0m\u001b[0;36m1\u001b[0m\u001b[0;34m]\u001b[0m\u001b[0;34m\u001b[0m\u001b[0;34m\u001b[0m\u001b[0m\n",
      "\u001b[0;31mNameError\u001b[0m: name 'tf' is not defined"
     ]
    }
   ],
   "source": [
    "input_ids = tf.keras.Input(shape=(60,),dtype='int32',name='input_ids')\n",
    "attention_masks = tf.keras.Input(shape=(60,),dtype='int32',name='attention_masks')\n",
    "\n",
    "output = bert_layers([input_ids,attention_masks])\n",
    "output = output[1]\n",
    "net = tf.keras.layers.Dense(32,activation='relu')(output)\n",
    "net = tf.keras.layers.Dropout(0.2)(net)\n",
    "net = tf.keras.layers.Dense(1,activation='sigmoid')(net)\n",
    "outputs = net\n",
    "\n",
    "model = tf.keras.models.Model(inputs = [input_ids,attention_masks],outputs = outputs)"
   ]
  },
  {
   "cell_type": "markdown",
   "id": "artistic-twins",
   "metadata": {
    "papermill": {
     "duration": 0.087241,
     "end_time": "2021-05-19T14:49:20.546046",
     "exception": false,
     "start_time": "2021-05-19T14:49:20.458805",
     "status": "completed"
    },
    "tags": []
   },
   "source": [
    "##### reference \n",
    "* https://www.kaggle.com/subinium/tps-apr-highlighting-the-data : EDA part (Visualiztion)\n",
    "* https://www.kaggle.com/shoheiazuma/tweet-sentiment-roberta-pytorch : Feature Enginnering\n",
    "* https://www.kaggle.com/abhishek/bert-base-uncased-using-pytorch : Modeling(Bert)\n",
    "* https://www.kaggle.com/parulpandey/eda-and-preprocessing-for-bert : Modeling(Bert)\n",
    "###  If this notebook is useful for your kaggling, \"UPVOTE\" for it 👀\n",
    "#### THX to Reading My Notebook🌈"
   ]
  },
  {
   "cell_type": "code",
   "execution_count": null,
   "id": "hungarian-royalty",
   "metadata": {
    "papermill": {
     "duration": 0.091466,
     "end_time": "2021-05-19T14:49:20.725305",
     "exception": false,
     "start_time": "2021-05-19T14:49:20.633839",
     "status": "completed"
    },
    "tags": []
   },
   "outputs": [],
   "source": []
  }
 ],
 "metadata": {
  "kernelspec": {
   "display_name": "Python 3",
   "language": "python",
   "name": "python3"
  },
  "language_info": {
   "codemirror_mode": {
    "name": "ipython",
    "version": 3
   },
   "file_extension": ".py",
   "mimetype": "text/x-python",
   "name": "python",
   "nbconvert_exporter": "python",
   "pygments_lexer": "ipython3",
   "version": "3.7.10"
  },
  "papermill": {
   "default_parameters": {},
   "duration": 48.966238,
   "end_time": "2021-05-19T14:49:23.050987",
   "environment_variables": {},
   "exception": null,
   "input_path": "__notebook__.ipynb",
   "output_path": "__notebook__.ipynb",
   "parameters": {},
   "start_time": "2021-05-19T14:48:34.084749",
   "version": "2.3.3"
  },
  "widgets": {
   "application/vnd.jupyter.widget-state+json": {
    "state": {
     "0f5d2664431847edb1763a042cf8b969": {
      "model_module": "@jupyter-widgets/base",
      "model_module_version": "1.2.0",
      "model_name": "LayoutModel",
      "state": {
       "_model_module": "@jupyter-widgets/base",
       "_model_module_version": "1.2.0",
       "_model_name": "LayoutModel",
       "_view_count": null,
       "_view_module": "@jupyter-widgets/base",
       "_view_module_version": "1.2.0",
       "_view_name": "LayoutView",
       "align_content": null,
       "align_items": null,
       "align_self": null,
       "border": null,
       "bottom": null,
       "display": null,
       "flex": null,
       "flex_flow": null,
       "grid_area": null,
       "grid_auto_columns": null,
       "grid_auto_flow": null,
       "grid_auto_rows": null,
       "grid_column": null,
       "grid_gap": null,
       "grid_row": null,
       "grid_template_areas": null,
       "grid_template_columns": null,
       "grid_template_rows": null,
       "height": null,
       "justify_content": null,
       "justify_items": null,
       "left": null,
       "margin": null,
       "max_height": null,
       "max_width": null,
       "min_height": null,
       "min_width": null,
       "object_fit": null,
       "object_position": null,
       "order": null,
       "overflow": null,
       "overflow_x": null,
       "overflow_y": null,
       "padding": null,
       "right": null,
       "top": null,
       "visibility": null,
       "width": null
      }
     },
     "0f7fd44d2edc4d48af57b6ef0c996f86": {
      "model_module": "@jupyter-widgets/base",
      "model_module_version": "1.2.0",
      "model_name": "LayoutModel",
      "state": {
       "_model_module": "@jupyter-widgets/base",
       "_model_module_version": "1.2.0",
       "_model_name": "LayoutModel",
       "_view_count": null,
       "_view_module": "@jupyter-widgets/base",
       "_view_module_version": "1.2.0",
       "_view_name": "LayoutView",
       "align_content": null,
       "align_items": null,
       "align_self": null,
       "border": null,
       "bottom": null,
       "display": null,
       "flex": null,
       "flex_flow": null,
       "grid_area": null,
       "grid_auto_columns": null,
       "grid_auto_flow": null,
       "grid_auto_rows": null,
       "grid_column": null,
       "grid_gap": null,
       "grid_row": null,
       "grid_template_areas": null,
       "grid_template_columns": null,
       "grid_template_rows": null,
       "height": null,
       "justify_content": null,
       "justify_items": null,
       "left": null,
       "margin": null,
       "max_height": null,
       "max_width": null,
       "min_height": null,
       "min_width": null,
       "object_fit": null,
       "object_position": null,
       "order": null,
       "overflow": null,
       "overflow_x": null,
       "overflow_y": null,
       "padding": null,
       "right": null,
       "top": null,
       "visibility": null,
       "width": null
      }
     },
     "1055c185ab2047ecab268313c96cd973": {
      "model_module": "@jupyter-widgets/controls",
      "model_module_version": "1.5.0",
      "model_name": "HTMLModel",
      "state": {
       "_dom_classes": [],
       "_model_module": "@jupyter-widgets/controls",
       "_model_module_version": "1.5.0",
       "_model_name": "HTMLModel",
       "_view_count": null,
       "_view_module": "@jupyter-widgets/controls",
       "_view_module_version": "1.5.0",
       "_view_name": "HTMLView",
       "description": "",
       "description_tooltip": null,
       "layout": "IPY_MODEL_4c082b864c3e49e19baa8a30cbf91c9a",
       "placeholder": "​",
       "style": "IPY_MODEL_61229c8fc69d4de6adf100576ecdedc1",
       "value": "Downloading: 100%"
      }
     },
     "1ad71bb0347e45dbb4c46bba5c885a63": {
      "model_module": "@jupyter-widgets/base",
      "model_module_version": "1.2.0",
      "model_name": "LayoutModel",
      "state": {
       "_model_module": "@jupyter-widgets/base",
       "_model_module_version": "1.2.0",
       "_model_name": "LayoutModel",
       "_view_count": null,
       "_view_module": "@jupyter-widgets/base",
       "_view_module_version": "1.2.0",
       "_view_name": "LayoutView",
       "align_content": null,
       "align_items": null,
       "align_self": null,
       "border": null,
       "bottom": null,
       "display": null,
       "flex": null,
       "flex_flow": null,
       "grid_area": null,
       "grid_auto_columns": null,
       "grid_auto_flow": null,
       "grid_auto_rows": null,
       "grid_column": null,
       "grid_gap": null,
       "grid_row": null,
       "grid_template_areas": null,
       "grid_template_columns": null,
       "grid_template_rows": null,
       "height": null,
       "justify_content": null,
       "justify_items": null,
       "left": null,
       "margin": null,
       "max_height": null,
       "max_width": null,
       "min_height": null,
       "min_width": null,
       "object_fit": null,
       "object_position": null,
       "order": null,
       "overflow": null,
       "overflow_x": null,
       "overflow_y": null,
       "padding": null,
       "right": null,
       "top": null,
       "visibility": null,
       "width": null
      }
     },
     "4809a81526c04eed85fe5a5f9775f5ba": {
      "model_module": "@jupyter-widgets/controls",
      "model_module_version": "1.5.0",
      "model_name": "FloatProgressModel",
      "state": {
       "_dom_classes": [],
       "_model_module": "@jupyter-widgets/controls",
       "_model_module_version": "1.5.0",
       "_model_name": "FloatProgressModel",
       "_view_count": null,
       "_view_module": "@jupyter-widgets/controls",
       "_view_module_version": "1.5.0",
       "_view_name": "ProgressView",
       "bar_style": "success",
       "description": "",
       "description_tooltip": null,
       "layout": "IPY_MODEL_0f5d2664431847edb1763a042cf8b969",
       "max": 231508.0,
       "min": 0.0,
       "orientation": "horizontal",
       "style": "IPY_MODEL_69c341cde3a541278fac9501064d8868",
       "value": 231508.0
      }
     },
     "48d233d6171e4b4d858b0d511e9d2a24": {
      "model_module": "@jupyter-widgets/controls",
      "model_module_version": "1.5.0",
      "model_name": "DescriptionStyleModel",
      "state": {
       "_model_module": "@jupyter-widgets/controls",
       "_model_module_version": "1.5.0",
       "_model_name": "DescriptionStyleModel",
       "_view_count": null,
       "_view_module": "@jupyter-widgets/base",
       "_view_module_version": "1.2.0",
       "_view_name": "StyleView",
       "description_width": ""
      }
     },
     "4c082b864c3e49e19baa8a30cbf91c9a": {
      "model_module": "@jupyter-widgets/base",
      "model_module_version": "1.2.0",
      "model_name": "LayoutModel",
      "state": {
       "_model_module": "@jupyter-widgets/base",
       "_model_module_version": "1.2.0",
       "_model_name": "LayoutModel",
       "_view_count": null,
       "_view_module": "@jupyter-widgets/base",
       "_view_module_version": "1.2.0",
       "_view_name": "LayoutView",
       "align_content": null,
       "align_items": null,
       "align_self": null,
       "border": null,
       "bottom": null,
       "display": null,
       "flex": null,
       "flex_flow": null,
       "grid_area": null,
       "grid_auto_columns": null,
       "grid_auto_flow": null,
       "grid_auto_rows": null,
       "grid_column": null,
       "grid_gap": null,
       "grid_row": null,
       "grid_template_areas": null,
       "grid_template_columns": null,
       "grid_template_rows": null,
       "height": null,
       "justify_content": null,
       "justify_items": null,
       "left": null,
       "margin": null,
       "max_height": null,
       "max_width": null,
       "min_height": null,
       "min_width": null,
       "object_fit": null,
       "object_position": null,
       "order": null,
       "overflow": null,
       "overflow_x": null,
       "overflow_y": null,
       "padding": null,
       "right": null,
       "top": null,
       "visibility": null,
       "width": null
      }
     },
     "4f0972de4387474cb62f454263a95c96": {
      "model_module": "@jupyter-widgets/base",
      "model_module_version": "1.2.0",
      "model_name": "LayoutModel",
      "state": {
       "_model_module": "@jupyter-widgets/base",
       "_model_module_version": "1.2.0",
       "_model_name": "LayoutModel",
       "_view_count": null,
       "_view_module": "@jupyter-widgets/base",
       "_view_module_version": "1.2.0",
       "_view_name": "LayoutView",
       "align_content": null,
       "align_items": null,
       "align_self": null,
       "border": null,
       "bottom": null,
       "display": null,
       "flex": null,
       "flex_flow": null,
       "grid_area": null,
       "grid_auto_columns": null,
       "grid_auto_flow": null,
       "grid_auto_rows": null,
       "grid_column": null,
       "grid_gap": null,
       "grid_row": null,
       "grid_template_areas": null,
       "grid_template_columns": null,
       "grid_template_rows": null,
       "height": null,
       "justify_content": null,
       "justify_items": null,
       "left": null,
       "margin": null,
       "max_height": null,
       "max_width": null,
       "min_height": null,
       "min_width": null,
       "object_fit": null,
       "object_position": null,
       "order": null,
       "overflow": null,
       "overflow_x": null,
       "overflow_y": null,
       "padding": null,
       "right": null,
       "top": null,
       "visibility": null,
       "width": null
      }
     },
     "6107854475854425b580faba92651b5e": {
      "model_module": "@jupyter-widgets/base",
      "model_module_version": "1.2.0",
      "model_name": "LayoutModel",
      "state": {
       "_model_module": "@jupyter-widgets/base",
       "_model_module_version": "1.2.0",
       "_model_name": "LayoutModel",
       "_view_count": null,
       "_view_module": "@jupyter-widgets/base",
       "_view_module_version": "1.2.0",
       "_view_name": "LayoutView",
       "align_content": null,
       "align_items": null,
       "align_self": null,
       "border": null,
       "bottom": null,
       "display": null,
       "flex": null,
       "flex_flow": null,
       "grid_area": null,
       "grid_auto_columns": null,
       "grid_auto_flow": null,
       "grid_auto_rows": null,
       "grid_column": null,
       "grid_gap": null,
       "grid_row": null,
       "grid_template_areas": null,
       "grid_template_columns": null,
       "grid_template_rows": null,
       "height": null,
       "justify_content": null,
       "justify_items": null,
       "left": null,
       "margin": null,
       "max_height": null,
       "max_width": null,
       "min_height": null,
       "min_width": null,
       "object_fit": null,
       "object_position": null,
       "order": null,
       "overflow": null,
       "overflow_x": null,
       "overflow_y": null,
       "padding": null,
       "right": null,
       "top": null,
       "visibility": null,
       "width": null
      }
     },
     "61229c8fc69d4de6adf100576ecdedc1": {
      "model_module": "@jupyter-widgets/controls",
      "model_module_version": "1.5.0",
      "model_name": "DescriptionStyleModel",
      "state": {
       "_model_module": "@jupyter-widgets/controls",
       "_model_module_version": "1.5.0",
       "_model_name": "DescriptionStyleModel",
       "_view_count": null,
       "_view_module": "@jupyter-widgets/base",
       "_view_module_version": "1.2.0",
       "_view_name": "StyleView",
       "description_width": ""
      }
     },
     "66224550b1824a99a9ab0645fbb1582e": {
      "model_module": "@jupyter-widgets/base",
      "model_module_version": "1.2.0",
      "model_name": "LayoutModel",
      "state": {
       "_model_module": "@jupyter-widgets/base",
       "_model_module_version": "1.2.0",
       "_model_name": "LayoutModel",
       "_view_count": null,
       "_view_module": "@jupyter-widgets/base",
       "_view_module_version": "1.2.0",
       "_view_name": "LayoutView",
       "align_content": null,
       "align_items": null,
       "align_self": null,
       "border": null,
       "bottom": null,
       "display": null,
       "flex": null,
       "flex_flow": null,
       "grid_area": null,
       "grid_auto_columns": null,
       "grid_auto_flow": null,
       "grid_auto_rows": null,
       "grid_column": null,
       "grid_gap": null,
       "grid_row": null,
       "grid_template_areas": null,
       "grid_template_columns": null,
       "grid_template_rows": null,
       "height": null,
       "justify_content": null,
       "justify_items": null,
       "left": null,
       "margin": null,
       "max_height": null,
       "max_width": null,
       "min_height": null,
       "min_width": null,
       "object_fit": null,
       "object_position": null,
       "order": null,
       "overflow": null,
       "overflow_x": null,
       "overflow_y": null,
       "padding": null,
       "right": null,
       "top": null,
       "visibility": null,
       "width": null
      }
     },
     "69c341cde3a541278fac9501064d8868": {
      "model_module": "@jupyter-widgets/controls",
      "model_module_version": "1.5.0",
      "model_name": "ProgressStyleModel",
      "state": {
       "_model_module": "@jupyter-widgets/controls",
       "_model_module_version": "1.5.0",
       "_model_name": "ProgressStyleModel",
       "_view_count": null,
       "_view_module": "@jupyter-widgets/base",
       "_view_module_version": "1.2.0",
       "_view_name": "StyleView",
       "bar_color": null,
       "description_width": ""
      }
     },
     "6d1f2b30eead4ec8a4ae8c6bde198a8b": {
      "model_module": "@jupyter-widgets/controls",
      "model_module_version": "1.5.0",
      "model_name": "DescriptionStyleModel",
      "state": {
       "_model_module": "@jupyter-widgets/controls",
       "_model_module_version": "1.5.0",
       "_model_name": "DescriptionStyleModel",
       "_view_count": null,
       "_view_module": "@jupyter-widgets/base",
       "_view_module_version": "1.2.0",
       "_view_name": "StyleView",
       "description_width": ""
      }
     },
     "76d028725f45419f9f28f5c1158ca60a": {
      "model_module": "@jupyter-widgets/base",
      "model_module_version": "1.2.0",
      "model_name": "LayoutModel",
      "state": {
       "_model_module": "@jupyter-widgets/base",
       "_model_module_version": "1.2.0",
       "_model_name": "LayoutModel",
       "_view_count": null,
       "_view_module": "@jupyter-widgets/base",
       "_view_module_version": "1.2.0",
       "_view_name": "LayoutView",
       "align_content": null,
       "align_items": null,
       "align_self": null,
       "border": null,
       "bottom": null,
       "display": null,
       "flex": null,
       "flex_flow": null,
       "grid_area": null,
       "grid_auto_columns": null,
       "grid_auto_flow": null,
       "grid_auto_rows": null,
       "grid_column": null,
       "grid_gap": null,
       "grid_row": null,
       "grid_template_areas": null,
       "grid_template_columns": null,
       "grid_template_rows": null,
       "height": null,
       "justify_content": null,
       "justify_items": null,
       "left": null,
       "margin": null,
       "max_height": null,
       "max_width": null,
       "min_height": null,
       "min_width": null,
       "object_fit": null,
       "object_position": null,
       "order": null,
       "overflow": null,
       "overflow_x": null,
       "overflow_y": null,
       "padding": null,
       "right": null,
       "top": null,
       "visibility": null,
       "width": null
      }
     },
     "76d163c44a6d426984cea79ec17bb333": {
      "model_module": "@jupyter-widgets/controls",
      "model_module_version": "1.5.0",
      "model_name": "HBoxModel",
      "state": {
       "_dom_classes": [],
       "_model_module": "@jupyter-widgets/controls",
       "_model_module_version": "1.5.0",
       "_model_name": "HBoxModel",
       "_view_count": null,
       "_view_module": "@jupyter-widgets/controls",
       "_view_module_version": "1.5.0",
       "_view_name": "HBoxView",
       "box_style": "",
       "children": [
        "IPY_MODEL_bd4dd5e0d31449d8a673033c89af0d29",
        "IPY_MODEL_4809a81526c04eed85fe5a5f9775f5ba",
        "IPY_MODEL_b039d405b75940dfa794198b23c1c392"
       ],
       "layout": "IPY_MODEL_76d028725f45419f9f28f5c1158ca60a"
      }
     },
     "889d4b92cd384ffb8805b6cb0dd37b67": {
      "model_module": "@jupyter-widgets/controls",
      "model_module_version": "1.5.0",
      "model_name": "HBoxModel",
      "state": {
       "_dom_classes": [],
       "_model_module": "@jupyter-widgets/controls",
       "_model_module_version": "1.5.0",
       "_model_name": "HBoxModel",
       "_view_count": null,
       "_view_module": "@jupyter-widgets/controls",
       "_view_module_version": "1.5.0",
       "_view_name": "HBoxView",
       "box_style": "",
       "children": [
        "IPY_MODEL_1055c185ab2047ecab268313c96cd973",
        "IPY_MODEL_8984e3f8ed174e5990dab5b47ad83034",
        "IPY_MODEL_f1ee5476b8774f20824f72ce45132eb6"
       ],
       "layout": "IPY_MODEL_4f0972de4387474cb62f454263a95c96"
      }
     },
     "8984e3f8ed174e5990dab5b47ad83034": {
      "model_module": "@jupyter-widgets/controls",
      "model_module_version": "1.5.0",
      "model_name": "FloatProgressModel",
      "state": {
       "_dom_classes": [],
       "_model_module": "@jupyter-widgets/controls",
       "_model_module_version": "1.5.0",
       "_model_name": "FloatProgressModel",
       "_view_count": null,
       "_view_module": "@jupyter-widgets/controls",
       "_view_module_version": "1.5.0",
       "_view_name": "ProgressView",
       "bar_style": "success",
       "description": "",
       "description_tooltip": null,
       "layout": "IPY_MODEL_0f7fd44d2edc4d48af57b6ef0c996f86",
       "max": 28.0,
       "min": 0.0,
       "orientation": "horizontal",
       "style": "IPY_MODEL_d805f9f170ac459fa00bf354e9184340",
       "value": 28.0
      }
     },
     "89c9d28e2fe04b64bf094f12d0a56830": {
      "model_module": "@jupyter-widgets/controls",
      "model_module_version": "1.5.0",
      "model_name": "FloatProgressModel",
      "state": {
       "_dom_classes": [],
       "_model_module": "@jupyter-widgets/controls",
       "_model_module_version": "1.5.0",
       "_model_name": "FloatProgressModel",
       "_view_count": null,
       "_view_module": "@jupyter-widgets/controls",
       "_view_module_version": "1.5.0",
       "_view_name": "ProgressView",
       "bar_style": "success",
       "description": "",
       "description_tooltip": null,
       "layout": "IPY_MODEL_6107854475854425b580faba92651b5e",
       "max": 466062.0,
       "min": 0.0,
       "orientation": "horizontal",
       "style": "IPY_MODEL_d70758779e1d4c13979a20c7f5124898",
       "value": 466062.0
      }
     },
     "9365d13bc6e14899afe1e11aa0cd7797": {
      "model_module": "@jupyter-widgets/controls",
      "model_module_version": "1.5.0",
      "model_name": "HTMLModel",
      "state": {
       "_dom_classes": [],
       "_model_module": "@jupyter-widgets/controls",
       "_model_module_version": "1.5.0",
       "_model_name": "HTMLModel",
       "_view_count": null,
       "_view_module": "@jupyter-widgets/controls",
       "_view_module_version": "1.5.0",
       "_view_name": "HTMLView",
       "description": "",
       "description_tooltip": null,
       "layout": "IPY_MODEL_9c2f33e699cb44dbb5336ec70afea7d6",
       "placeholder": "​",
       "style": "IPY_MODEL_6d1f2b30eead4ec8a4ae8c6bde198a8b",
       "value": " 466k/466k [00:00&lt;00:00, 867kB/s]"
      }
     },
     "9c2f33e699cb44dbb5336ec70afea7d6": {
      "model_module": "@jupyter-widgets/base",
      "model_module_version": "1.2.0",
      "model_name": "LayoutModel",
      "state": {
       "_model_module": "@jupyter-widgets/base",
       "_model_module_version": "1.2.0",
       "_model_name": "LayoutModel",
       "_view_count": null,
       "_view_module": "@jupyter-widgets/base",
       "_view_module_version": "1.2.0",
       "_view_name": "LayoutView",
       "align_content": null,
       "align_items": null,
       "align_self": null,
       "border": null,
       "bottom": null,
       "display": null,
       "flex": null,
       "flex_flow": null,
       "grid_area": null,
       "grid_auto_columns": null,
       "grid_auto_flow": null,
       "grid_auto_rows": null,
       "grid_column": null,
       "grid_gap": null,
       "grid_row": null,
       "grid_template_areas": null,
       "grid_template_columns": null,
       "grid_template_rows": null,
       "height": null,
       "justify_content": null,
       "justify_items": null,
       "left": null,
       "margin": null,
       "max_height": null,
       "max_width": null,
       "min_height": null,
       "min_width": null,
       "object_fit": null,
       "object_position": null,
       "order": null,
       "overflow": null,
       "overflow_x": null,
       "overflow_y": null,
       "padding": null,
       "right": null,
       "top": null,
       "visibility": null,
       "width": null
      }
     },
     "a8db7083dc1e4816bb9bd96d34795ef5": {
      "model_module": "@jupyter-widgets/controls",
      "model_module_version": "1.5.0",
      "model_name": "DescriptionStyleModel",
      "state": {
       "_model_module": "@jupyter-widgets/controls",
       "_model_module_version": "1.5.0",
       "_model_name": "DescriptionStyleModel",
       "_view_count": null,
       "_view_module": "@jupyter-widgets/base",
       "_view_module_version": "1.2.0",
       "_view_name": "StyleView",
       "description_width": ""
      }
     },
     "b039d405b75940dfa794198b23c1c392": {
      "model_module": "@jupyter-widgets/controls",
      "model_module_version": "1.5.0",
      "model_name": "HTMLModel",
      "state": {
       "_dom_classes": [],
       "_model_module": "@jupyter-widgets/controls",
       "_model_module_version": "1.5.0",
       "_model_name": "HTMLModel",
       "_view_count": null,
       "_view_module": "@jupyter-widgets/controls",
       "_view_module_version": "1.5.0",
       "_view_name": "HTMLView",
       "description": "",
       "description_tooltip": null,
       "layout": "IPY_MODEL_cb1192e9329041768fa0a503d4c03567",
       "placeholder": "​",
       "style": "IPY_MODEL_f41d91de04d649429208d8c213bd37fb",
       "value": " 232k/232k [00:00&lt;00:00, 869kB/s]"
      }
     },
     "b48d5cb918d5404daf6d0bd14e1df113": {
      "model_module": "@jupyter-widgets/base",
      "model_module_version": "1.2.0",
      "model_name": "LayoutModel",
      "state": {
       "_model_module": "@jupyter-widgets/base",
       "_model_module_version": "1.2.0",
       "_model_name": "LayoutModel",
       "_view_count": null,
       "_view_module": "@jupyter-widgets/base",
       "_view_module_version": "1.2.0",
       "_view_name": "LayoutView",
       "align_content": null,
       "align_items": null,
       "align_self": null,
       "border": null,
       "bottom": null,
       "display": null,
       "flex": null,
       "flex_flow": null,
       "grid_area": null,
       "grid_auto_columns": null,
       "grid_auto_flow": null,
       "grid_auto_rows": null,
       "grid_column": null,
       "grid_gap": null,
       "grid_row": null,
       "grid_template_areas": null,
       "grid_template_columns": null,
       "grid_template_rows": null,
       "height": null,
       "justify_content": null,
       "justify_items": null,
       "left": null,
       "margin": null,
       "max_height": null,
       "max_width": null,
       "min_height": null,
       "min_width": null,
       "object_fit": null,
       "object_position": null,
       "order": null,
       "overflow": null,
       "overflow_x": null,
       "overflow_y": null,
       "padding": null,
       "right": null,
       "top": null,
       "visibility": null,
       "width": null
      }
     },
     "bd4dd5e0d31449d8a673033c89af0d29": {
      "model_module": "@jupyter-widgets/controls",
      "model_module_version": "1.5.0",
      "model_name": "HTMLModel",
      "state": {
       "_dom_classes": [],
       "_model_module": "@jupyter-widgets/controls",
       "_model_module_version": "1.5.0",
       "_model_name": "HTMLModel",
       "_view_count": null,
       "_view_module": "@jupyter-widgets/controls",
       "_view_module_version": "1.5.0",
       "_view_name": "HTMLView",
       "description": "",
       "description_tooltip": null,
       "layout": "IPY_MODEL_66224550b1824a99a9ab0645fbb1582e",
       "placeholder": "​",
       "style": "IPY_MODEL_a8db7083dc1e4816bb9bd96d34795ef5",
       "value": "Downloading: 100%"
      }
     },
     "c9b4d8d82c5943a38fb0fb296b2293d7": {
      "model_module": "@jupyter-widgets/controls",
      "model_module_version": "1.5.0",
      "model_name": "HTMLModel",
      "state": {
       "_dom_classes": [],
       "_model_module": "@jupyter-widgets/controls",
       "_model_module_version": "1.5.0",
       "_model_name": "HTMLModel",
       "_view_count": null,
       "_view_module": "@jupyter-widgets/controls",
       "_view_module_version": "1.5.0",
       "_view_name": "HTMLView",
       "description": "",
       "description_tooltip": null,
       "layout": "IPY_MODEL_1ad71bb0347e45dbb4c46bba5c885a63",
       "placeholder": "​",
       "style": "IPY_MODEL_48d233d6171e4b4d858b0d511e9d2a24",
       "value": "Downloading: 100%"
      }
     },
     "caadbca4aeae408f9c8422c71f6f71b3": {
      "model_module": "@jupyter-widgets/base",
      "model_module_version": "1.2.0",
      "model_name": "LayoutModel",
      "state": {
       "_model_module": "@jupyter-widgets/base",
       "_model_module_version": "1.2.0",
       "_model_name": "LayoutModel",
       "_view_count": null,
       "_view_module": "@jupyter-widgets/base",
       "_view_module_version": "1.2.0",
       "_view_name": "LayoutView",
       "align_content": null,
       "align_items": null,
       "align_self": null,
       "border": null,
       "bottom": null,
       "display": null,
       "flex": null,
       "flex_flow": null,
       "grid_area": null,
       "grid_auto_columns": null,
       "grid_auto_flow": null,
       "grid_auto_rows": null,
       "grid_column": null,
       "grid_gap": null,
       "grid_row": null,
       "grid_template_areas": null,
       "grid_template_columns": null,
       "grid_template_rows": null,
       "height": null,
       "justify_content": null,
       "justify_items": null,
       "left": null,
       "margin": null,
       "max_height": null,
       "max_width": null,
       "min_height": null,
       "min_width": null,
       "object_fit": null,
       "object_position": null,
       "order": null,
       "overflow": null,
       "overflow_x": null,
       "overflow_y": null,
       "padding": null,
       "right": null,
       "top": null,
       "visibility": null,
       "width": null
      }
     },
     "cb1192e9329041768fa0a503d4c03567": {
      "model_module": "@jupyter-widgets/base",
      "model_module_version": "1.2.0",
      "model_name": "LayoutModel",
      "state": {
       "_model_module": "@jupyter-widgets/base",
       "_model_module_version": "1.2.0",
       "_model_name": "LayoutModel",
       "_view_count": null,
       "_view_module": "@jupyter-widgets/base",
       "_view_module_version": "1.2.0",
       "_view_name": "LayoutView",
       "align_content": null,
       "align_items": null,
       "align_self": null,
       "border": null,
       "bottom": null,
       "display": null,
       "flex": null,
       "flex_flow": null,
       "grid_area": null,
       "grid_auto_columns": null,
       "grid_auto_flow": null,
       "grid_auto_rows": null,
       "grid_column": null,
       "grid_gap": null,
       "grid_row": null,
       "grid_template_areas": null,
       "grid_template_columns": null,
       "grid_template_rows": null,
       "height": null,
       "justify_content": null,
       "justify_items": null,
       "left": null,
       "margin": null,
       "max_height": null,
       "max_width": null,
       "min_height": null,
       "min_width": null,
       "object_fit": null,
       "object_position": null,
       "order": null,
       "overflow": null,
       "overflow_x": null,
       "overflow_y": null,
       "padding": null,
       "right": null,
       "top": null,
       "visibility": null,
       "width": null
      }
     },
     "d6ad51d50a49419a9b43da5b46cb890d": {
      "model_module": "@jupyter-widgets/controls",
      "model_module_version": "1.5.0",
      "model_name": "DescriptionStyleModel",
      "state": {
       "_model_module": "@jupyter-widgets/controls",
       "_model_module_version": "1.5.0",
       "_model_name": "DescriptionStyleModel",
       "_view_count": null,
       "_view_module": "@jupyter-widgets/base",
       "_view_module_version": "1.2.0",
       "_view_name": "StyleView",
       "description_width": ""
      }
     },
     "d70758779e1d4c13979a20c7f5124898": {
      "model_module": "@jupyter-widgets/controls",
      "model_module_version": "1.5.0",
      "model_name": "ProgressStyleModel",
      "state": {
       "_model_module": "@jupyter-widgets/controls",
       "_model_module_version": "1.5.0",
       "_model_name": "ProgressStyleModel",
       "_view_count": null,
       "_view_module": "@jupyter-widgets/base",
       "_view_module_version": "1.2.0",
       "_view_name": "StyleView",
       "bar_color": null,
       "description_width": ""
      }
     },
     "d805f9f170ac459fa00bf354e9184340": {
      "model_module": "@jupyter-widgets/controls",
      "model_module_version": "1.5.0",
      "model_name": "ProgressStyleModel",
      "state": {
       "_model_module": "@jupyter-widgets/controls",
       "_model_module_version": "1.5.0",
       "_model_name": "ProgressStyleModel",
       "_view_count": null,
       "_view_module": "@jupyter-widgets/base",
       "_view_module_version": "1.2.0",
       "_view_name": "StyleView",
       "bar_color": null,
       "description_width": ""
      }
     },
     "f1ee5476b8774f20824f72ce45132eb6": {
      "model_module": "@jupyter-widgets/controls",
      "model_module_version": "1.5.0",
      "model_name": "HTMLModel",
      "state": {
       "_dom_classes": [],
       "_model_module": "@jupyter-widgets/controls",
       "_model_module_version": "1.5.0",
       "_model_name": "HTMLModel",
       "_view_count": null,
       "_view_module": "@jupyter-widgets/controls",
       "_view_module_version": "1.5.0",
       "_view_name": "HTMLView",
       "description": "",
       "description_tooltip": null,
       "layout": "IPY_MODEL_caadbca4aeae408f9c8422c71f6f71b3",
       "placeholder": "​",
       "style": "IPY_MODEL_d6ad51d50a49419a9b43da5b46cb890d",
       "value": " 28.0/28.0 [00:00&lt;00:00, 897B/s]"
      }
     },
     "f41d91de04d649429208d8c213bd37fb": {
      "model_module": "@jupyter-widgets/controls",
      "model_module_version": "1.5.0",
      "model_name": "DescriptionStyleModel",
      "state": {
       "_model_module": "@jupyter-widgets/controls",
       "_model_module_version": "1.5.0",
       "_model_name": "DescriptionStyleModel",
       "_view_count": null,
       "_view_module": "@jupyter-widgets/base",
       "_view_module_version": "1.2.0",
       "_view_name": "StyleView",
       "description_width": ""
      }
     },
     "fc92f33f8f3040dfaa9107c12d9550dd": {
      "model_module": "@jupyter-widgets/controls",
      "model_module_version": "1.5.0",
      "model_name": "HBoxModel",
      "state": {
       "_dom_classes": [],
       "_model_module": "@jupyter-widgets/controls",
       "_model_module_version": "1.5.0",
       "_model_name": "HBoxModel",
       "_view_count": null,
       "_view_module": "@jupyter-widgets/controls",
       "_view_module_version": "1.5.0",
       "_view_name": "HBoxView",
       "box_style": "",
       "children": [
        "IPY_MODEL_c9b4d8d82c5943a38fb0fb296b2293d7",
        "IPY_MODEL_89c9d28e2fe04b64bf094f12d0a56830",
        "IPY_MODEL_9365d13bc6e14899afe1e11aa0cd7797"
       ],
       "layout": "IPY_MODEL_b48d5cb918d5404daf6d0bd14e1df113"
      }
     }
    },
    "version_major": 2,
    "version_minor": 0
   }
  }
 },
 "nbformat": 4,
 "nbformat_minor": 5
}

{
 "cells": [
  {
   "cell_type": "markdown",
   "metadata": {
    "papermill": {
     "duration": 0.032086,
     "end_time": "2021-03-29T03:34:32.210059",
     "exception": false,
     "start_time": "2021-03-29T03:34:32.177973",
     "status": "completed"
    },
    "tags": []
   },
   "source": [
    "### Reference\n",
    "* https://kaggle-kr.tistory.com/32\n",
    "* https://www.kaggle.com/brendan45774/titanic-top-solution\n",
    "* "
   ]
  },
  {
   "cell_type": "code",
   "execution_count": 1,
   "metadata": {
    "_cell_guid": "b1076dfc-b9ad-4769-8c92-a6c4dae69d19",
    "_uuid": "8f2839f25d086af736a60e9eeb907d3b93b6e0e5",
    "execution": {
     "iopub.execute_input": "2021-03-29T03:34:32.274260Z",
     "iopub.status.busy": "2021-03-29T03:34:32.273435Z",
     "iopub.status.idle": "2021-03-29T03:34:32.278667Z",
     "shell.execute_reply": "2021-03-29T03:34:32.279206Z"
    },
    "papermill": {
     "duration": 0.040098,
     "end_time": "2021-03-29T03:34:32.279528",
     "exception": false,
     "start_time": "2021-03-29T03:34:32.239430",
     "status": "completed"
    },
    "tags": []
   },
   "outputs": [
    {
     "name": "stdout",
     "output_type": "stream",
     "text": [
      "/kaggle/input/titanic/train.csv\n",
      "/kaggle/input/titanic/test.csv\n",
      "/kaggle/input/titanic/gender_submission.csv\n"
     ]
    }
   ],
   "source": [
    "# This Python 3 environment comes with many helpful analytics libraries installed\n",
    "# It is defined by the kaggle/python Docker image: https://github.com/kaggle/docker-python\n",
    "# For example, here's several helpful packages to load\n",
    "\n",
    "import numpy as np # linear algebra\n",
    "import pandas as pd # data processing, CSV file I/O (e.g. pd.read_csv)\n",
    "\n",
    "# Input data files are available in the read-only \"../input/\" directory\n",
    "# For example, running this (by clicking run or pressing Shift+Enter) will list all files under the input directory\n",
    "\n",
    "import os\n",
    "for dirname, _, filenames in os.walk('/kaggle/input'):\n",
    "    for filename in filenames:\n",
    "        print(os.path.join(dirname, filename))\n",
    "\n",
    "# You can write up to 20GB to the current directory (/kaggle/working/) that gets preserved as output when you create a version using \"Save & Run All\" \n",
    "# You can also write temporary files to /kaggle/temp/, but they won't be saved outside of the current session"
   ]
  },
  {
   "cell_type": "code",
   "execution_count": 2,
   "metadata": {
    "execution": {
     "iopub.execute_input": "2021-03-29T03:34:32.347456Z",
     "iopub.status.busy": "2021-03-29T03:34:32.346860Z",
     "iopub.status.idle": "2021-03-29T03:34:35.646650Z",
     "shell.execute_reply": "2021-03-29T03:34:35.645693Z"
    },
    "papermill": {
     "duration": 3.336232,
     "end_time": "2021-03-29T03:34:35.646790",
     "exception": false,
     "start_time": "2021-03-29T03:34:32.310558",
     "status": "completed"
    },
    "tags": []
   },
   "outputs": [],
   "source": [
    "import numpy as np\n",
    "import pandas as pd\n",
    "import matplotlib.pyplot as plt\n",
    "import seaborn as sns\n",
    "import missingno as msno\n",
    "import plotly.express as px\n",
    "\n",
    "\n",
    "from sklearn.metrics import accuracy_score\n",
    "from sklearn.linear_model import LogisticRegression\n",
    "from sklearn.tree import DecisionTreeClassifier\n",
    "from sklearn.model_selection import train_test_split\n",
    "from sklearn.model_selection import GridSearchCV, cross_val_score\n",
    "from sklearn.ensemble import RandomForestClassifier\n",
    "plt.style.use('seaborn')\n",
    "\n",
    "import warnings\n",
    "warnings.filterwarnings('ignore')\n",
    "\n",
    "%matplotlib inline"
   ]
  },
  {
   "cell_type": "code",
   "execution_count": 3,
   "metadata": {
    "execution": {
     "iopub.execute_input": "2021-03-29T03:34:35.711461Z",
     "iopub.status.busy": "2021-03-29T03:34:35.710951Z",
     "iopub.status.idle": "2021-03-29T03:34:35.743968Z",
     "shell.execute_reply": "2021-03-29T03:34:35.743561Z"
    },
    "papermill": {
     "duration": 0.067066,
     "end_time": "2021-03-29T03:34:35.744074",
     "exception": false,
     "start_time": "2021-03-29T03:34:35.677008",
     "status": "completed"
    },
    "tags": []
   },
   "outputs": [
    {
     "data": {
      "text/html": [
       "<div>\n",
       "<style scoped>\n",
       "    .dataframe tbody tr th:only-of-type {\n",
       "        vertical-align: middle;\n",
       "    }\n",
       "\n",
       "    .dataframe tbody tr th {\n",
       "        vertical-align: top;\n",
       "    }\n",
       "\n",
       "    .dataframe thead th {\n",
       "        text-align: right;\n",
       "    }\n",
       "</style>\n",
       "<table border=\"1\" class=\"dataframe\">\n",
       "  <thead>\n",
       "    <tr style=\"text-align: right;\">\n",
       "      <th></th>\n",
       "      <th>PassengerId</th>\n",
       "      <th>Survived</th>\n",
       "      <th>Pclass</th>\n",
       "      <th>Name</th>\n",
       "      <th>Sex</th>\n",
       "      <th>Age</th>\n",
       "      <th>SibSp</th>\n",
       "      <th>Parch</th>\n",
       "      <th>Ticket</th>\n",
       "      <th>Fare</th>\n",
       "      <th>Cabin</th>\n",
       "      <th>Embarked</th>\n",
       "    </tr>\n",
       "  </thead>\n",
       "  <tbody>\n",
       "    <tr>\n",
       "      <th>0</th>\n",
       "      <td>1</td>\n",
       "      <td>0</td>\n",
       "      <td>3</td>\n",
       "      <td>Braund, Mr. Owen Harris</td>\n",
       "      <td>male</td>\n",
       "      <td>22.0</td>\n",
       "      <td>1</td>\n",
       "      <td>0</td>\n",
       "      <td>A/5 21171</td>\n",
       "      <td>7.2500</td>\n",
       "      <td>NaN</td>\n",
       "      <td>S</td>\n",
       "    </tr>\n",
       "    <tr>\n",
       "      <th>1</th>\n",
       "      <td>2</td>\n",
       "      <td>1</td>\n",
       "      <td>1</td>\n",
       "      <td>Cumings, Mrs. John Bradley (Florence Briggs Th...</td>\n",
       "      <td>female</td>\n",
       "      <td>38.0</td>\n",
       "      <td>1</td>\n",
       "      <td>0</td>\n",
       "      <td>PC 17599</td>\n",
       "      <td>71.2833</td>\n",
       "      <td>C85</td>\n",
       "      <td>C</td>\n",
       "    </tr>\n",
       "    <tr>\n",
       "      <th>2</th>\n",
       "      <td>3</td>\n",
       "      <td>1</td>\n",
       "      <td>3</td>\n",
       "      <td>Heikkinen, Miss. Laina</td>\n",
       "      <td>female</td>\n",
       "      <td>26.0</td>\n",
       "      <td>0</td>\n",
       "      <td>0</td>\n",
       "      <td>STON/O2. 3101282</td>\n",
       "      <td>7.9250</td>\n",
       "      <td>NaN</td>\n",
       "      <td>S</td>\n",
       "    </tr>\n",
       "    <tr>\n",
       "      <th>3</th>\n",
       "      <td>4</td>\n",
       "      <td>1</td>\n",
       "      <td>1</td>\n",
       "      <td>Futrelle, Mrs. Jacques Heath (Lily May Peel)</td>\n",
       "      <td>female</td>\n",
       "      <td>35.0</td>\n",
       "      <td>1</td>\n",
       "      <td>0</td>\n",
       "      <td>113803</td>\n",
       "      <td>53.1000</td>\n",
       "      <td>C123</td>\n",
       "      <td>S</td>\n",
       "    </tr>\n",
       "    <tr>\n",
       "      <th>4</th>\n",
       "      <td>5</td>\n",
       "      <td>0</td>\n",
       "      <td>3</td>\n",
       "      <td>Allen, Mr. William Henry</td>\n",
       "      <td>male</td>\n",
       "      <td>35.0</td>\n",
       "      <td>0</td>\n",
       "      <td>0</td>\n",
       "      <td>373450</td>\n",
       "      <td>8.0500</td>\n",
       "      <td>NaN</td>\n",
       "      <td>S</td>\n",
       "    </tr>\n",
       "  </tbody>\n",
       "</table>\n",
       "</div>"
      ],
      "text/plain": [
       "   PassengerId  Survived  Pclass  \\\n",
       "0            1         0       3   \n",
       "1            2         1       1   \n",
       "2            3         1       3   \n",
       "3            4         1       1   \n",
       "4            5         0       3   \n",
       "\n",
       "                                                Name     Sex   Age  SibSp  \\\n",
       "0                            Braund, Mr. Owen Harris    male  22.0      1   \n",
       "1  Cumings, Mrs. John Bradley (Florence Briggs Th...  female  38.0      1   \n",
       "2                             Heikkinen, Miss. Laina  female  26.0      0   \n",
       "3       Futrelle, Mrs. Jacques Heath (Lily May Peel)  female  35.0      1   \n",
       "4                           Allen, Mr. William Henry    male  35.0      0   \n",
       "\n",
       "   Parch            Ticket     Fare Cabin Embarked  \n",
       "0      0         A/5 21171   7.2500   NaN        S  \n",
       "1      0          PC 17599  71.2833   C85        C  \n",
       "2      0  STON/O2. 3101282   7.9250   NaN        S  \n",
       "3      0            113803  53.1000  C123        S  \n",
       "4      0            373450   8.0500   NaN        S  "
      ]
     },
     "execution_count": 3,
     "metadata": {},
     "output_type": "execute_result"
    }
   ],
   "source": [
    "titanic = pd.read_csv(\"/kaggle/input/titanic/train.csv\")\n",
    "titanic.head(5)"
   ]
  },
  {
   "cell_type": "code",
   "execution_count": 4,
   "metadata": {
    "execution": {
     "iopub.execute_input": "2021-03-29T03:34:35.810159Z",
     "iopub.status.busy": "2021-03-29T03:34:35.809607Z",
     "iopub.status.idle": "2021-03-29T03:34:35.812941Z",
     "shell.execute_reply": "2021-03-29T03:34:35.813630Z"
    },
    "papermill": {
     "duration": 0.038762,
     "end_time": "2021-03-29T03:34:35.813790",
     "exception": false,
     "start_time": "2021-03-29T03:34:35.775028",
     "status": "completed"
    },
    "tags": []
   },
   "outputs": [
    {
     "name": "stdout",
     "output_type": "stream",
     "text": [
      "Titanic Dateset Shape :  (891, 12)\n"
     ]
    }
   ],
   "source": [
    "print(\"Titanic Dateset Shape : \", titanic.shape)"
   ]
  },
  {
   "cell_type": "code",
   "execution_count": 5,
   "metadata": {
    "execution": {
     "iopub.execute_input": "2021-03-29T03:34:35.889207Z",
     "iopub.status.busy": "2021-03-29T03:34:35.888555Z",
     "iopub.status.idle": "2021-03-29T03:34:35.892058Z",
     "shell.execute_reply": "2021-03-29T03:34:35.892518Z"
    },
    "papermill": {
     "duration": 0.046728,
     "end_time": "2021-03-29T03:34:35.892635",
     "exception": false,
     "start_time": "2021-03-29T03:34:35.845907",
     "status": "completed"
    },
    "tags": []
   },
   "outputs": [
    {
     "name": "stdout",
     "output_type": "stream",
     "text": [
      "<class 'pandas.core.frame.DataFrame'>\n",
      "RangeIndex: 891 entries, 0 to 890\n",
      "Data columns (total 12 columns):\n",
      " #   Column       Non-Null Count  Dtype  \n",
      "---  ------       --------------  -----  \n",
      " 0   PassengerId  891 non-null    int64  \n",
      " 1   Survived     891 non-null    int64  \n",
      " 2   Pclass       891 non-null    int64  \n",
      " 3   Name         891 non-null    object \n",
      " 4   Sex          891 non-null    object \n",
      " 5   Age          714 non-null    float64\n",
      " 6   SibSp        891 non-null    int64  \n",
      " 7   Parch        891 non-null    int64  \n",
      " 8   Ticket       891 non-null    object \n",
      " 9   Fare         891 non-null    float64\n",
      " 10  Cabin        204 non-null    object \n",
      " 11  Embarked     889 non-null    object \n",
      "dtypes: float64(2), int64(5), object(5)\n",
      "memory usage: 83.7+ KB\n"
     ]
    }
   ],
   "source": [
    "titanic.info()"
   ]
  },
  {
   "cell_type": "code",
   "execution_count": 6,
   "metadata": {
    "execution": {
     "iopub.execute_input": "2021-03-29T03:34:35.961850Z",
     "iopub.status.busy": "2021-03-29T03:34:35.961094Z",
     "iopub.status.idle": "2021-03-29T03:34:35.983718Z",
     "shell.execute_reply": "2021-03-29T03:34:35.983264Z"
    },
    "papermill": {
     "duration": 0.059744,
     "end_time": "2021-03-29T03:34:35.983831",
     "exception": false,
     "start_time": "2021-03-29T03:34:35.924087",
     "status": "completed"
    },
    "tags": []
   },
   "outputs": [
    {
     "data": {
      "text/html": [
       "<div>\n",
       "<style scoped>\n",
       "    .dataframe tbody tr th:only-of-type {\n",
       "        vertical-align: middle;\n",
       "    }\n",
       "\n",
       "    .dataframe tbody tr th {\n",
       "        vertical-align: top;\n",
       "    }\n",
       "\n",
       "    .dataframe thead th {\n",
       "        text-align: right;\n",
       "    }\n",
       "</style>\n",
       "<table border=\"1\" class=\"dataframe\">\n",
       "  <thead>\n",
       "    <tr style=\"text-align: right;\">\n",
       "      <th></th>\n",
       "      <th>PassengerId</th>\n",
       "      <th>Survived</th>\n",
       "      <th>Pclass</th>\n",
       "      <th>Age</th>\n",
       "      <th>SibSp</th>\n",
       "      <th>Parch</th>\n",
       "      <th>Fare</th>\n",
       "    </tr>\n",
       "  </thead>\n",
       "  <tbody>\n",
       "    <tr>\n",
       "      <th>count</th>\n",
       "      <td>891.000000</td>\n",
       "      <td>891.000000</td>\n",
       "      <td>891.000000</td>\n",
       "      <td>714.000000</td>\n",
       "      <td>891.000000</td>\n",
       "      <td>891.000000</td>\n",
       "      <td>891.000000</td>\n",
       "    </tr>\n",
       "    <tr>\n",
       "      <th>mean</th>\n",
       "      <td>446.000000</td>\n",
       "      <td>0.383838</td>\n",
       "      <td>2.308642</td>\n",
       "      <td>29.699118</td>\n",
       "      <td>0.523008</td>\n",
       "      <td>0.381594</td>\n",
       "      <td>32.204208</td>\n",
       "    </tr>\n",
       "    <tr>\n",
       "      <th>std</th>\n",
       "      <td>257.353842</td>\n",
       "      <td>0.486592</td>\n",
       "      <td>0.836071</td>\n",
       "      <td>14.526497</td>\n",
       "      <td>1.102743</td>\n",
       "      <td>0.806057</td>\n",
       "      <td>49.693429</td>\n",
       "    </tr>\n",
       "    <tr>\n",
       "      <th>min</th>\n",
       "      <td>1.000000</td>\n",
       "      <td>0.000000</td>\n",
       "      <td>1.000000</td>\n",
       "      <td>0.420000</td>\n",
       "      <td>0.000000</td>\n",
       "      <td>0.000000</td>\n",
       "      <td>0.000000</td>\n",
       "    </tr>\n",
       "    <tr>\n",
       "      <th>25%</th>\n",
       "      <td>223.500000</td>\n",
       "      <td>0.000000</td>\n",
       "      <td>2.000000</td>\n",
       "      <td>20.125000</td>\n",
       "      <td>0.000000</td>\n",
       "      <td>0.000000</td>\n",
       "      <td>7.910400</td>\n",
       "    </tr>\n",
       "    <tr>\n",
       "      <th>50%</th>\n",
       "      <td>446.000000</td>\n",
       "      <td>0.000000</td>\n",
       "      <td>3.000000</td>\n",
       "      <td>28.000000</td>\n",
       "      <td>0.000000</td>\n",
       "      <td>0.000000</td>\n",
       "      <td>14.454200</td>\n",
       "    </tr>\n",
       "    <tr>\n",
       "      <th>75%</th>\n",
       "      <td>668.500000</td>\n",
       "      <td>1.000000</td>\n",
       "      <td>3.000000</td>\n",
       "      <td>38.000000</td>\n",
       "      <td>1.000000</td>\n",
       "      <td>0.000000</td>\n",
       "      <td>31.000000</td>\n",
       "    </tr>\n",
       "    <tr>\n",
       "      <th>max</th>\n",
       "      <td>891.000000</td>\n",
       "      <td>1.000000</td>\n",
       "      <td>3.000000</td>\n",
       "      <td>80.000000</td>\n",
       "      <td>8.000000</td>\n",
       "      <td>6.000000</td>\n",
       "      <td>512.329200</td>\n",
       "    </tr>\n",
       "  </tbody>\n",
       "</table>\n",
       "</div>"
      ],
      "text/plain": [
       "       PassengerId    Survived      Pclass         Age       SibSp  \\\n",
       "count   891.000000  891.000000  891.000000  714.000000  891.000000   \n",
       "mean    446.000000    0.383838    2.308642   29.699118    0.523008   \n",
       "std     257.353842    0.486592    0.836071   14.526497    1.102743   \n",
       "min       1.000000    0.000000    1.000000    0.420000    0.000000   \n",
       "25%     223.500000    0.000000    2.000000   20.125000    0.000000   \n",
       "50%     446.000000    0.000000    3.000000   28.000000    0.000000   \n",
       "75%     668.500000    1.000000    3.000000   38.000000    1.000000   \n",
       "max     891.000000    1.000000    3.000000   80.000000    8.000000   \n",
       "\n",
       "            Parch        Fare  \n",
       "count  891.000000  891.000000  \n",
       "mean     0.381594   32.204208  \n",
       "std      0.806057   49.693429  \n",
       "min      0.000000    0.000000  \n",
       "25%      0.000000    7.910400  \n",
       "50%      0.000000   14.454200  \n",
       "75%      0.000000   31.000000  \n",
       "max      6.000000  512.329200  "
      ]
     },
     "execution_count": 6,
     "metadata": {},
     "output_type": "execute_result"
    }
   ],
   "source": [
    "titanic.describe()"
   ]
  },
  {
   "cell_type": "markdown",
   "metadata": {
    "papermill": {
     "duration": 0.031572,
     "end_time": "2021-03-29T03:34:36.047972",
     "exception": false,
     "start_time": "2021-03-29T03:34:36.016400",
     "status": "completed"
    },
    "tags": []
   },
   "source": [
    "# EDA\n",
    "* Survived Percent\n",
    "* Check NULL Values\n",
    "* Pclass per Survived Count / Survived per Pclass Count\n",
    "* Age per Survived Count / Survived per Age Count\n",
    "* Check Skewness"
   ]
  },
  {
   "cell_type": "code",
   "execution_count": 7,
   "metadata": {
    "execution": {
     "iopub.execute_input": "2021-03-29T03:34:36.130924Z",
     "iopub.status.busy": "2021-03-29T03:34:36.130132Z",
     "iopub.status.idle": "2021-03-29T03:34:36.340175Z",
     "shell.execute_reply": "2021-03-29T03:34:36.339258Z"
    },
    "papermill": {
     "duration": 0.260301,
     "end_time": "2021-03-29T03:34:36.340303",
     "exception": false,
     "start_time": "2021-03-29T03:34:36.080002",
     "status": "completed"
    },
    "tags": []
   },
   "outputs": [
    {
     "data": {
      "image/png": "[encoded data removed]",
      "text/plain": [
       "<Figure size 720x288 with 2 Axes>"
      ]
     },
     "metadata": {
      "needs_background": "light"
     },
     "output_type": "display_data"
    }
   ],
   "source": [
    "f,ax=plt.subplots(1,2,figsize=(10,4))\n",
    "\n",
    "titanic['Survived'].value_counts().plot.pie(\n",
    "    explode=[0,0.1],autopct='%1.1f%%',ax=ax[0],shadow=True\n",
    ")\n",
    "sns.countplot('Survived',data=titanic,ax=ax[1])\n",
    "\n",
    "plt.show()"
   ]
  },
  {
   "cell_type": "code",
   "execution_count": 8,
   "metadata": {
    "execution": {
     "iopub.execute_input": "2021-03-29T03:34:36.427414Z",
     "iopub.status.busy": "2021-03-29T03:34:36.414492Z",
     "iopub.status.idle": "2021-03-29T03:34:36.638986Z",
     "shell.execute_reply": "2021-03-29T03:34:36.639386Z"
    },
    "papermill": {
     "duration": 0.262615,
     "end_time": "2021-03-29T03:34:36.639542",
     "exception": false,
     "start_time": "2021-03-29T03:34:36.376927",
     "status": "completed"
    },
    "tags": []
   },
   "outputs": [
    {
     "data": {
      "text/plain": [
       "<AxesSubplot:>"
      ]
     },
     "execution_count": 8,
     "metadata": {},
     "output_type": "execute_result"
    },
    {
     "data": {
      "image/png": "[encoded data removed]",
      "text/plain": [
       "<Figure size 576x576 with 2 Axes>"
      ]
     },
     "metadata": {
      "needs_background": "light"
     },
     "output_type": "display_data"
    }
   ],
   "source": [
    "msno.matrix(df=titanic.iloc[:,:],figsize=(8,8),color=(0.8,0.5,0.2))"
   ]
  },
  {
   "cell_type": "code",
   "execution_count": 9,
   "metadata": {
    "execution": {
     "iopub.execute_input": "2021-03-29T03:34:36.727545Z",
     "iopub.status.busy": "2021-03-29T03:34:36.726752Z",
     "iopub.status.idle": "2021-03-29T03:34:37.274789Z",
     "shell.execute_reply": "2021-03-29T03:34:37.274172Z"
    },
    "papermill": {
     "duration": 0.600955,
     "end_time": "2021-03-29T03:34:37.274950",
     "exception": false,
     "start_time": "2021-03-29T03:34:36.673995",
     "status": "completed"
    },
    "tags": []
   },
   "outputs": [
    {
     "data": {
      "text/plain": [
       "<AxesSubplot:>"
      ]
     },
     "execution_count": 9,
     "metadata": {},
     "output_type": "execute_result"
    },
    {
     "data": {
      "image/png": "[encoded data removed]",
      "text/plain": [
       "<Figure size 576x576 with 3 Axes>"
      ]
     },
     "metadata": {
      "needs_background": "light"
     },
     "output_type": "display_data"
    }
   ],
   "source": [
    "msno.bar(df=titanic.iloc[:,:],figsize=(8,8),color=(0.8,0.5,0.2))"
   ]
  },
  {
   "cell_type": "code",
   "execution_count": 10,
   "metadata": {
    "execution": {
     "iopub.execute_input": "2021-03-29T03:34:37.361060Z",
     "iopub.status.busy": "2021-03-29T03:34:37.360202Z",
     "iopub.status.idle": "2021-03-29T03:34:38.618757Z",
     "shell.execute_reply": "2021-03-29T03:34:38.618303Z"
    },
    "papermill": {
     "duration": 1.302511,
     "end_time": "2021-03-29T03:34:38.618885",
     "exception": false,
     "start_time": "2021-03-29T03:34:37.316374",
     "status": "completed"
    },
    "tags": []
   },
   "outputs": [
    {
     "data": {
      "text/html": [
       "        <script type=\"text/javascript\">\n",
       "        window.PlotlyConfig = {MathJaxConfig: 'local'};\n",
       "        if (window.MathJax) {MathJax.Hub.Config({SVG: {font: \"STIX-Web\"}});}\n",
       "        if (typeof require !== 'undefined') {\n",
       "        require.undef(\"plotly\");\n",
       "        requirejs.config({\n",
       "            paths: {\n",
       "                'plotly': ['https://cdn.plot.ly/plotly-latest.min']\n",
       "            }\n",
       "        });\n",
       "        require(['plotly'], function(Plotly) {\n",
       "            window._Plotly = Plotly;\n",
       "        });\n",
       "        }\n",
       "        </script>\n",
       "        "
      ]
     },
     "metadata": {},
     "output_type": "display_data"
    },
    {
     "data": {
      "text/html": [
       "<div>                            <div id=\"92e4df33-8a61-4dfd-b590-535017a1f358\" class=\"plotly-graph-div\" style=\"height:525px; width:100%;\"></div>            <script type=\"text/javascript\">                require([\"plotly\"], function(Plotly) {                    window.PLOTLYENV=window.PLOTLYENV || {};                                    if (document.getElementById(\"92e4df33-8a61-4dfd-b590-535017a1f358\")) {                    Plotly.newPlot(                        \"92e4df33-8a61-4dfd-b590-535017a1f358\",                        [{\"hovertemplate\": \"Name=%{x}<br>Sex=%{y}<br>Age=%{marker.color}<extra></extra>\", \"legendgroup\": \"\", \"marker\": {\"color\": [22.0, 38.0, 26.0, 35.0, 35.0, null, 54.0, 2.0, 27.0, 14.0, 4.0, 58.0, 20.0, 39.0, 14.0, 55.0, 2.0, null, 31.0, null, 35.0, 34.0, 15.0, 28.0, 8.0, 38.0, null, 19.0, null, null, 40.0, null, null, 66.0, 28.0, 42.0, null, 21.0, 18.0, 14.0, 40.0, 27.0, null, 3.0, 19.0, null, null, null, null, 18.0, 7.0, 21.0, 49.0, 29.0, 65.0, null, 21.0, 28.5, 5.0, 11.0, 22.0, 38.0, 45.0, 4.0, null, null, 29.0, 19.0, 17.0, 26.0, 32.0, 16.0, 21.0, 26.0, 32.0, 25.0, null, null, 0.83, 30.0, 22.0, 29.0, null, 28.0, 17.0, 33.0, 16.0, null, 23.0, 24.0, 29.0, 20.0, 46.0, 26.0, 59.0, null, 71.0, 23.0, 34.0, 34.0, 28.0, null, 21.0, 33.0, 37.0, 28.0, 21.0, null, 38.0, null, 47.0, 14.5, 22.0, 20.0, 17.0, 21.0, 70.5, 29.0, 24.0, 2.0, 21.0, null, 32.5, 32.5, 54.0, 12.0, null, 24.0, null, 45.0, 33.0, 20.0, 47.0, 29.0, 25.0, 23.0, 19.0, 37.0, 16.0, 24.0, null, 22.0, 24.0, 19.0, 18.0, 19.0, 27.0, 9.0, 36.5, 42.0, 51.0, 22.0, 55.5, 40.5, null, 51.0, 16.0, 30.0, null, null, 44.0, 40.0, 26.0, 17.0, 1.0, 9.0, null, 45.0, null, 28.0, 61.0, 4.0, 1.0, 21.0, 56.0, 18.0, null, 50.0, 30.0, 36.0, null, null, 9.0, 1.0, 4.0, null, null, 45.0, 40.0, 36.0, 32.0, 19.0, 19.0, 3.0, 44.0, 58.0, null, 42.0, null, 24.0, 28.0, null, 34.0, 45.5, 18.0, 2.0, 32.0, 26.0, 16.0, 40.0, 24.0, 35.0, 22.0, 30.0, null, 31.0, 27.0, 42.0, 32.0, 30.0, 16.0, 27.0, 51.0, null, 38.0, 22.0, 19.0, 20.5, 18.0, null, 35.0, 29.0, 59.0, 5.0, 24.0, null, 44.0, 8.0, 19.0, 33.0, null, null, 29.0, 22.0, 30.0, 44.0, 25.0, 24.0, 37.0, 54.0, null, 29.0, 62.0, 30.0, 41.0, 29.0, null, 30.0, 35.0, 50.0, null, 3.0, 52.0, 40.0, null, 36.0, 16.0, 25.0, 58.0, 35.0, null, 25.0, 41.0, 37.0, null, 63.0, 45.0, null, 7.0, 35.0, 65.0, 28.0, 16.0, 19.0, null, 33.0, 30.0, 22.0, 42.0, 22.0, 26.0, 19.0, 36.0, 24.0, 24.0, null, 23.5, 2.0, null, 50.0, null, null, 19.0, null, null, 0.92, null, 17.0, 30.0, 30.0, 24.0, 18.0, 26.0, 28.0, 43.0, 26.0, 24.0, 54.0, 31.0, 40.0, 22.0, 27.0, 30.0, 22.0, null, 36.0, 61.0, 36.0, 31.0, 16.0, null, 45.5, 38.0, 16.0, null, null, 29.0, 41.0, 45.0, 45.0, 2.0, 24.0, 28.0, 25.0, 36.0, 24.0, 40.0, null, 3.0, 42.0, 23.0, null, 15.0, 25.0, null, 28.0, 22.0, 38.0, null, null, 40.0, 29.0, 45.0, 35.0, null, 30.0, 60.0, null, null, 24.0, 25.0, 18.0, 19.0, 22.0, 3.0, null, 22.0, 27.0, 20.0, 19.0, 42.0, 1.0, 32.0, 35.0, null, 18.0, 1.0, 36.0, null, 17.0, 36.0, 21.0, 28.0, 23.0, 24.0, 22.0, 31.0, 46.0, 23.0, 28.0, 39.0, 26.0, 21.0, 28.0, 20.0, 34.0, 51.0, 3.0, 21.0, null, null, null, 33.0, null, 44.0, null, 34.0, 18.0, 30.0, 10.0, null, 21.0, 29.0, 28.0, 18.0, null, 28.0, 19.0, null, 32.0, 28.0, null, 42.0, 17.0, 50.0, 14.0, 21.0, 24.0, 64.0, 31.0, 45.0, 20.0, 25.0, 28.0, null, 4.0, 13.0, 34.0, 5.0, 52.0, 36.0, null, 30.0, 49.0, null, 29.0, 65.0, null, 50.0, null, 48.0, 34.0, 47.0, 48.0, null, 38.0, null, 56.0, null, 0.75, null, 38.0, 33.0, 23.0, 22.0, null, 34.0, 29.0, 22.0, 2.0, 9.0, null, 50.0, 63.0, 25.0, null, 35.0, 58.0, 30.0, 9.0, null, 21.0, 55.0, 71.0, 21.0, null, 54.0, null, 25.0, 24.0, 17.0, 21.0, null, 37.0, 16.0, 18.0, 33.0, null, 28.0, 26.0, 29.0, null, 36.0, 54.0, 24.0, 47.0, 34.0, null, 36.0, 32.0, 30.0, 22.0, null, 44.0, null, 40.5, 50.0, null, 39.0, 23.0, 2.0, null, 17.0, null, 30.0, 7.0, 45.0, 30.0, null, 22.0, 36.0, 9.0, 11.0, 32.0, 50.0, 64.0, 19.0, null, 33.0, 8.0, 17.0, 27.0, null, 22.0, 22.0, 62.0, 48.0, null, 39.0, 36.0, null, 40.0, 28.0, null, null, 24.0, 19.0, 29.0, null, 32.0, 62.0, 53.0, 36.0, null, 16.0, 19.0, 34.0, 39.0, null, 32.0, 25.0, 39.0, 54.0, 36.0, null, 18.0, 47.0, 60.0, 22.0, null, 35.0, 52.0, 47.0, null, 37.0, 36.0, null, 49.0, null, 49.0, 24.0, null, null, 44.0, 35.0, 36.0, 30.0, 27.0, 22.0, 40.0, 39.0, null, null, null, 35.0, 24.0, 34.0, 26.0, 4.0, 26.0, 27.0, 42.0, 20.0, 21.0, 21.0, 61.0, 57.0, 21.0, 26.0, null, 80.0, 51.0, 32.0, null, 9.0, 28.0, 32.0, 31.0, 41.0, null, 20.0, 24.0, 2.0, null, 0.75, 48.0, 19.0, 56.0, null, 23.0, null, 18.0, 21.0, null, 18.0, 24.0, null, 32.0, 23.0, 58.0, 50.0, 40.0, 47.0, 36.0, 20.0, 32.0, 25.0, null, 43.0, null, 40.0, 31.0, 70.0, 31.0, null, 18.0, 24.5, 18.0, 43.0, 36.0, null, 27.0, 20.0, 14.0, 60.0, 25.0, 14.0, 19.0, 18.0, 15.0, 31.0, 4.0, null, 25.0, 60.0, 52.0, 44.0, null, 49.0, 42.0, 18.0, 35.0, 18.0, 25.0, 26.0, 39.0, 45.0, 42.0, 22.0, null, 24.0, null, 48.0, 29.0, 52.0, 19.0, 38.0, 27.0, null, 33.0, 6.0, 17.0, 34.0, 50.0, 27.0, 20.0, 30.0, null, 25.0, 25.0, 29.0, 11.0, null, 23.0, 23.0, 28.5, 48.0, 35.0, null, null, null, 36.0, 21.0, 24.0, 31.0, 70.0, 16.0, 30.0, 19.0, 31.0, 4.0, 6.0, 33.0, 23.0, 48.0, 0.67, 28.0, 18.0, 34.0, 33.0, null, 41.0, 20.0, 36.0, 16.0, 51.0, null, 30.5, null, 32.0, 24.0, 48.0, 57.0, null, 54.0, 18.0, null, 5.0, null, 43.0, 13.0, 17.0, 29.0, null, 25.0, 25.0, 18.0, 8.0, 1.0, 46.0, null, 16.0, null, null, 25.0, 39.0, 49.0, 31.0, 30.0, 30.0, 34.0, 31.0, 11.0, 0.42, 27.0, 31.0, 39.0, 18.0, 39.0, 33.0, 26.0, 39.0, 35.0, 6.0, 30.5, null, 23.0, 31.0, 43.0, 10.0, 52.0, 27.0, 38.0, 27.0, 2.0, null, null, 1.0, null, 62.0, 15.0, 0.83, null, 23.0, 18.0, 39.0, 21.0, null, 32.0, null, 20.0, 16.0, 30.0, 34.5, 17.0, 42.0, null, 35.0, 28.0, null, 4.0, 74.0, 9.0, 16.0, 44.0, 18.0, 45.0, 51.0, 24.0, null, 41.0, 21.0, 48.0, null, 24.0, 42.0, 27.0, 31.0, null, 4.0, 26.0, 47.0, 33.0, 47.0, 28.0, 15.0, 20.0, 19.0, null, 56.0, 25.0, 33.0, 22.0, 28.0, 25.0, 39.0, 27.0, 19.0, null, 26.0, 32.0], \"coloraxis\": \"coloraxis\", \"symbol\": \"circle\"}, \"mode\": \"markers\", \"name\": \"\", \"scene\": \"scene\", \"showlegend\": false, \"type\": \"scatter3d\", \"x\": [\"Braund, Mr. Owen Harris\", \"Cumings, Mrs. John Bradley (Florence Briggs Thayer)\", \"Heikkinen, Miss. Laina\", \"Futrelle, Mrs. Jacques Heath (Lily May Peel)\", \"Allen, Mr. William Henry\", \"Moran, Mr. James\", \"McCarthy, Mr. Timothy J\", \"Palsson, Master. Gosta Leonard\", \"Johnson, Mrs. Oscar W (Elisabeth Vilhelmina Berg)\", \"Nasser, Mrs. Nicholas (Adele Achem)\", \"Sandstrom, Miss. Marguerite Rut\", \"Bonnell, Miss. Elizabeth\", \"Saundercock, Mr. William Henry\", \"Andersson, Mr. Anders Johan\", \"Vestrom, Miss. Hulda Amanda Adolfina\", \"Hewlett, Mrs. (Mary D Kingcome) \", \"Rice, Master. Eugene\", \"Williams, Mr. Charles Eugene\", \"Vander Planke, Mrs. Julius (Emelia Maria Vandemoortele)\", \"Masselmani, Mrs. Fatima\", \"Fynney, Mr. Joseph J\", \"Beesley, Mr. Lawrence\", \"McGowan, Miss. Anna \\\"Annie\\\"\", \"Sloper, Mr. William Thompson\", \"Palsson, Miss. Torborg Danira\", \"Asplund, Mrs. Carl Oscar (Selma Augusta Emilia Johansson)\", \"Emir, Mr. Farred Chehab\", \"Fortune, Mr. Charles Alexander\", \"O'Dwyer, Miss. Ellen \\\"Nellie\\\"\", \"Todoroff, Mr. Lalio\", \"Uruchurtu, Don. Manuel E\", \"Spencer, Mrs. William Augustus (Marie Eugenie)\", \"Glynn, Miss. Mary Agatha\", \"Wheadon, Mr. Edward H\", \"Meyer, Mr. Edgar Joseph\", \"Holverson, Mr. Alexander Oskar\", \"Mamee, Mr. Hanna\", \"Cann, Mr. Ernest Charles\", \"Vander Planke, Miss. Augusta Maria\", \"Nicola-Yarred, Miss. Jamila\", \"Ahlin, Mrs. Johan (Johanna Persdotter Larsson)\", \"Turpin, Mrs. William John Robert (Dorothy Ann Wonnacott)\", \"Kraeff, Mr. Theodor\", \"Laroche, Miss. Simonne Marie Anne Andree\", \"Devaney, Miss. Margaret Delia\", \"Rogers, Mr. William John\", \"Lennon, Mr. Denis\", \"O'Driscoll, Miss. Bridget\", \"Samaan, Mr. Youssef\", \"Arnold-Franchi, Mrs. Josef (Josefine Franchi)\", \"Panula, Master. Juha Niilo\", \"Nosworthy, Mr. Richard Cater\", \"Harper, Mrs. Henry Sleeper (Myna Haxtun)\", \"Faunthorpe, Mrs. Lizzie (Elizabeth Anne Wilkinson)\", \"Ostby, Mr. Engelhart Cornelius\", \"Woolner, Mr. Hugh\", \"Rugg, Miss. Emily\", \"Novel, Mr. Mansouer\", \"West, Miss. Constance Mirium\", \"Goodwin, Master. William Frederick\", \"Sirayanian, Mr. Orsen\", \"Icard, Miss. Amelie\", \"Harris, Mr. Henry Birkhardt\", \"Skoog, Master. Harald\", \"Stewart, Mr. Albert A\", \"Moubarek, Master. Gerios\", \"Nye, Mrs. (Elizabeth Ramell)\", \"Crease, Mr. Ernest James\", \"Andersson, Miss. Erna Alexandra\", \"Kink, Mr. Vincenz\", \"Jenkin, Mr. Stephen Curnow\", \"Goodwin, Miss. Lillian Amy\", \"Hood, Mr. Ambrose Jr\", \"Chronopoulos, Mr. Apostolos\", \"Bing, Mr. Lee\", \"Moen, Mr. Sigurd Hansen\", \"Staneff, Mr. Ivan\", \"Moutal, Mr. Rahamin Haim\", \"Caldwell, Master. Alden Gates\", \"Dowdell, Miss. Elizabeth\", \"Waelens, Mr. Achille\", \"Sheerlinck, Mr. Jan Baptist\", \"McDermott, Miss. Brigdet Delia\", \"Carrau, Mr. Francisco M\", \"Ilett, Miss. Bertha\", \"Backstrom, Mrs. Karl Alfred (Maria Mathilda Gustafsson)\", \"Ford, Mr. William Neal\", \"Slocovski, Mr. Selman Francis\", \"Fortune, Miss. Mabel Helen\", \"Celotti, Mr. Francesco\", \"Christmann, Mr. Emil\", \"Andreasson, Mr. Paul Edvin\", \"Chaffee, Mr. Herbert Fuller\", \"Dean, Mr. Bertram Frank\", \"Coxon, Mr. Daniel\", \"Shorney, Mr. Charles Joseph\", \"Goldschmidt, Mr. George B\", \"Greenfield, Mr. William Bertram\", \"Doling, Mrs. John T (Ada Julia Bone)\", \"Kantor, Mr. Sinai\", \"Petranec, Miss. Matilda\", \"Petroff, Mr. Pastcho (\\\"Pentcho\\\")\", \"White, Mr. Richard Frasar\", \"Johansson, Mr. Gustaf Joel\", \"Gustafsson, Mr. Anders Vilhelm\", \"Mionoff, Mr. Stoytcho\", \"Salkjelsvik, Miss. Anna Kristine\", \"Moss, Mr. Albert Johan\", \"Rekic, Mr. Tido\", \"Moran, Miss. Bertha\", \"Porter, Mr. Walter Chamberlain\", \"Zabour, Miss. Hileni\", \"Barton, Mr. David John\", \"Jussila, Miss. Katriina\", \"Attalah, Miss. Malake\", \"Pekoniemi, Mr. Edvard\", \"Connors, Mr. Patrick\", \"Turpin, Mr. William John Robert\", \"Baxter, Mr. Quigg Edmond\", \"Andersson, Miss. Ellis Anna Maria\", \"Hickman, Mr. Stanley George\", \"Moore, Mr. Leonard Charles\", \"Nasser, Mr. Nicholas\", \"Webber, Miss. Susan\", \"White, Mr. Percival Wayland\", \"Nicola-Yarred, Master. Elias\", \"McMahon, Mr. Martin\", \"Madsen, Mr. Fridtjof Arne\", \"Peter, Miss. Anna\", \"Ekstrom, Mr. Johan\", \"Drazenoic, Mr. Jozef\", \"Coelho, Mr. Domingos Fernandeo\", \"Robins, Mrs. Alexander A (Grace Charity Laury)\", \"Weisz, Mrs. Leopold (Mathilde Francoise Pede)\", \"Sobey, Mr. Samuel James Hayden\", \"Richard, Mr. Emile\", \"Newsom, Miss. Helen Monypeny\", \"Futrelle, Mr. Jacques Heath\", \"Osen, Mr. Olaf Elon\", \"Giglio, Mr. Victor\", \"Boulos, Mrs. Joseph (Sultana)\", \"Nysten, Miss. Anna Sofia\", \"Hakkarainen, Mrs. Pekka Pietari (Elin Matilda Dolck)\", \"Burke, Mr. Jeremiah\", \"Andrew, Mr. Edgardo Samuel\", \"Nicholls, Mr. Joseph Charles\", \"Andersson, Mr. August Edvard (\\\"Wennerstrom\\\")\", \"Ford, Miss. Robina Maggie \\\"Ruby\\\"\", \"Navratil, Mr. Michel (\\\"Louis M Hoffman\\\")\", \"Byles, Rev. Thomas Roussel Davids\", \"Bateman, Rev. Robert James\", \"Pears, Mrs. Thomas (Edith Wearne)\", \"Meo, Mr. Alfonzo\", \"van Billiard, Mr. Austin Blyler\", \"Olsen, Mr. Ole Martin\", \"Williams, Mr. Charles Duane\", \"Gilnagh, Miss. Katherine \\\"Katie\\\"\", \"Corn, Mr. Harry\", \"Smiljanic, Mr. Mile\", \"Sage, Master. Thomas Henry\", \"Cribb, Mr. John Hatfield\", \"Watt, Mrs. James (Elizabeth \\\"Bessie\\\" Inglis Milne)\", \"Bengtsson, Mr. John Viktor\", \"Calic, Mr. Jovo\", \"Panula, Master. Eino Viljami\", \"Goldsmith, Master. Frank John William \\\"Frankie\\\"\", \"Chibnall, Mrs. (Edith Martha Bowerman)\", \"Skoog, Mrs. William (Anna Bernhardina Karlsson)\", \"Baumann, Mr. John D\", \"Ling, Mr. Lee\", \"Van der hoef, Mr. Wyckoff\", \"Rice, Master. Arthur\", \"Johnson, Miss. Eleanor Ileen\", \"Sivola, Mr. Antti Wilhelm\", \"Smith, Mr. James Clinch\", \"Klasen, Mr. Klas Albin\", \"Lefebre, Master. Henry Forbes\", \"Isham, Miss. Ann Elizabeth\", \"Hale, Mr. Reginald\", \"Leonard, Mr. Lionel\", \"Sage, Miss. Constance Gladys\", \"Pernot, Mr. Rene\", \"Asplund, Master. Clarence Gustaf Hugo\", \"Becker, Master. Richard F\", \"Kink-Heilmann, Miss. Luise Gretchen\", \"Rood, Mr. Hugh Roscoe\", \"O'Brien, Mrs. Thomas (Johanna \\\"Hannah\\\" Godfrey)\", \"Romaine, Mr. Charles Hallace (\\\"Mr C Rolmane\\\")\", \"Bourke, Mr. John\", \"Turcin, Mr. Stjepan\", \"Pinsky, Mrs. (Rosa)\", \"Carbines, Mr. William\", \"Andersen-Jensen, Miss. Carla Christine Nielsine\", \"Navratil, Master. Michel M\", \"Brown, Mrs. James Joseph (Margaret Tobin)\", \"Lurette, Miss. Elise\", \"Mernagh, Mr. Robert\", \"Olsen, Mr. Karl Siegwart Andreas\", \"Madigan, Miss. Margaret \\\"Maggie\\\"\", \"Yrois, Miss. Henriette (\\\"Mrs Harbeck\\\")\", \"Vande Walle, Mr. Nestor Cyriel\", \"Sage, Mr. Frederick\", \"Johanson, Mr. Jakob Alfred\", \"Youseff, Mr. Gerious\", \"Cohen, Mr. Gurshon \\\"Gus\\\"\", \"Strom, Miss. Telma Matilda\", \"Backstrom, Mr. Karl Alfred\", \"Albimona, Mr. Nassef Cassem\", \"Carr, Miss. Helen \\\"Ellen\\\"\", \"Blank, Mr. Henry\", \"Ali, Mr. Ahmed\", \"Cameron, Miss. Clear Annie\", \"Perkin, Mr. John Henry\", \"Givard, Mr. Hans Kristensen\", \"Kiernan, Mr. Philip\", \"Newell, Miss. Madeleine\", \"Honkanen, Miss. Eliina\", \"Jacobsohn, Mr. Sidney Samuel\", \"Bazzani, Miss. Albina\", \"Harris, Mr. Walter\", \"Sunderland, Mr. Victor Francis\", \"Bracken, Mr. James H\", \"Green, Mr. George Henry\", \"Nenkoff, Mr. Christo\", \"Hoyt, Mr. Frederick Maxfield\", \"Berglund, Mr. Karl Ivar Sven\", \"Mellors, Mr. William John\", \"Lovell, Mr. John Hall (\\\"Henry\\\")\", \"Fahlstrom, Mr. Arne Jonas\", \"Lefebre, Miss. Mathilde\", \"Harris, Mrs. Henry Birkhardt (Irene Wallach)\", \"Larsson, Mr. Bengt Edvin\", \"Sjostedt, Mr. Ernst Adolf\", \"Asplund, Miss. Lillian Gertrud\", \"Leyson, Mr. Robert William Norman\", \"Harknett, Miss. Alice Phoebe\", \"Hold, Mr. Stephen\", \"Collyer, Miss. Marjorie \\\"Lottie\\\"\", \"Pengelly, Mr. Frederick William\", \"Hunt, Mr. George Henry\", \"Zabour, Miss. Thamine\", \"Murphy, Miss. Katherine \\\"Kate\\\"\", \"Coleridge, Mr. Reginald Charles\", \"Maenpaa, Mr. Matti Alexanteri\", \"Attalah, Mr. Sleiman\", \"Minahan, Dr. William Edward\", \"Lindahl, Miss. Agda Thorilda Viktoria\", \"Hamalainen, Mrs. William (Anna)\", \"Beckwith, Mr. Richard Leonard\", \"Carter, Rev. Ernest Courtenay\", \"Reed, Mr. James George\", \"Strom, Mrs. Wilhelm (Elna Matilda Persson)\", \"Stead, Mr. William Thomas\", \"Lobb, Mr. William Arthur\", \"Rosblom, Mrs. Viktor (Helena Wilhelmina)\", \"Touma, Mrs. Darwis (Hanne Youssef Razi)\", \"Thorne, Mrs. Gertrude Maybelle\", \"Cherry, Miss. Gladys\", \"Ward, Miss. Anna\", \"Parrish, Mrs. (Lutie Davis)\", \"Smith, Mr. Thomas\", \"Asplund, Master. Edvin Rojj Felix\", \"Taussig, Mr. Emil\", \"Harrison, Mr. William\", \"Henry, Miss. Delia\", \"Reeves, Mr. David\", \"Panula, Mr. Ernesti Arvid\", \"Persson, Mr. Ernst Ulrik\", \"Graham, Mrs. William Thompson (Edith Junkins)\", \"Bissette, Miss. Amelia\", \"Cairns, Mr. Alexander\", \"Tornquist, Mr. William Henry\", \"Mellinger, Mrs. (Elizabeth Anne Maidment)\", \"Natsch, Mr. Charles H\", \"Healy, Miss. Hanora \\\"Nora\\\"\", \"Andrews, Miss. Kornelia Theodosia\", \"Lindblom, Miss. Augusta Charlotta\", \"Parkes, Mr. Francis \\\"Frank\\\"\", \"Rice, Master. Eric\", \"Abbott, Mrs. Stanton (Rosa Hunt)\", \"Duane, Mr. Frank\", \"Olsson, Mr. Nils Johan Goransson\", \"de Pelsmaeker, Mr. Alfons\", \"Dorking, Mr. Edward Arthur\", \"Smith, Mr. Richard William\", \"Stankovic, Mr. Ivan\", \"de Mulder, Mr. Theodore\", \"Naidenoff, Mr. Penko\", \"Hosono, Mr. Masabumi\", \"Connolly, Miss. Kate\", \"Barber, Miss. Ellen \\\"Nellie\\\"\", \"Bishop, Mrs. Dickinson H (Helen Walton)\", \"Levy, Mr. Rene Jacques\", \"Haas, Miss. Aloisia\", \"Mineff, Mr. Ivan\", \"Lewy, Mr. Ervin G\", \"Hanna, Mr. Mansour\", \"Allison, Miss. Helen Loraine\", \"Saalfeld, Mr. Adolphe\", \"Baxter, Mrs. James (Helene DeLaudeniere Chaput)\", \"Kelly, Miss. Anna Katherine \\\"Annie Kate\\\"\", \"McCoy, Mr. Bernard\", \"Johnson, Mr. William Cahoone Jr\", \"Keane, Miss. Nora A\", \"Williams, Mr. Howard Hugh \\\"Harry\\\"\", \"Allison, Master. Hudson Trevor\", \"Fleming, Miss. Margaret\", \"Penasco y Castellana, Mrs. Victor de Satode (Maria Josefa Perez de Soto y Vallejo)\", \"Abelson, Mr. Samuel\", \"Francatelli, Miss. Laura Mabel\", \"Hays, Miss. Margaret Bechstein\", \"Ryerson, Miss. Emily Borie\", \"Lahtinen, Mrs. William (Anna Sylfven)\", \"Hendekovic, Mr. Ignjac\", \"Hart, Mr. Benjamin\", \"Nilsson, Miss. Helmina Josefina\", \"Kantor, Mrs. Sinai (Miriam Sternin)\", \"Moraweck, Dr. Ernest\", \"Wick, Miss. Mary Natalie\", \"Spedden, Mrs. Frederic Oakley (Margaretta Corning Stone)\", \"Dennis, Mr. Samuel\", \"Danoff, Mr. Yoto\", \"Slayter, Miss. Hilda Mary\", \"Caldwell, Mrs. Albert Francis (Sylvia Mae Harbaugh)\", \"Sage, Mr. George John Jr\", \"Young, Miss. Marie Grice\", \"Nysveen, Mr. Johan Hansen\", \"Ball, Mrs. (Ada E Hall)\", \"Goldsmith, Mrs. Frank John (Emily Alice Brown)\", \"Hippach, Miss. Jean Gertrude\", \"McCoy, Miss. Agnes\", \"Partner, Mr. Austen\", \"Graham, Mr. George Edward\", \"Vander Planke, Mr. Leo Edmondus\", \"Frauenthal, Mrs. Henry William (Clara Heinsheimer)\", \"Denkoff, Mr. Mitto\", \"Pears, Mr. Thomas Clinton\", \"Burns, Miss. Elizabeth Margaret\", \"Dahl, Mr. Karl Edwart\", \"Blackwell, Mr. Stephen Weart\", \"Navratil, Master. Edmond Roger\", \"Fortune, Miss. Alice Elizabeth\", \"Collander, Mr. Erik Gustaf\", \"Sedgwick, Mr. Charles Frederick Waddington\", \"Fox, Mr. Stanley Hubert\", \"Brown, Miss. Amelia \\\"Mildred\\\"\", \"Smith, Miss. Marion Elsie\", \"Davison, Mrs. Thomas Henry (Mary E Finck)\", \"Coutts, Master. William Loch \\\"William\\\"\", \"Dimic, Mr. Jovan\", \"Odahl, Mr. Nils Martin\", \"Williams-Lambert, Mr. Fletcher Fellows\", \"Elias, Mr. Tannous\", \"Arnold-Franchi, Mr. Josef\", \"Yousif, Mr. Wazli\", \"Vanden Steen, Mr. Leo Peter\", \"Bowerman, Miss. Elsie Edith\", \"Funk, Miss. Annie Clemmer\", \"McGovern, Miss. Mary\", \"Mockler, Miss. Helen Mary \\\"Ellie\\\"\", \"Skoog, Mr. Wilhelm\", \"del Carlo, Mr. Sebastiano\", \"Barbara, Mrs. (Catherine David)\", \"Asim, Mr. Adola\", \"O'Brien, Mr. Thomas\", \"Adahl, Mr. Mauritz Nils Martin\", \"Warren, Mrs. Frank Manley (Anna Sophia Atkinson)\", \"Moussa, Mrs. (Mantoura Boulos)\", \"Jermyn, Miss. Annie\", \"Aubart, Mme. Leontine Pauline\", \"Harder, Mr. George Achilles\", \"Wiklund, Mr. Jakob Alfred\", \"Beavan, Mr. William Thomas\", \"Ringhini, Mr. Sante\", \"Palsson, Miss. Stina Viola\", \"Meyer, Mrs. Edgar Joseph (Leila Saks)\", \"Landergren, Miss. Aurora Adelia\", \"Widener, Mr. Harry Elkins\", \"Betros, Mr. Tannous\", \"Gustafsson, Mr. Karl Gideon\", \"Bidois, Miss. Rosalie\", \"Nakid, Miss. Maria (\\\"Mary\\\")\", \"Tikkanen, Mr. Juho\", \"Holverson, Mrs. Alexander Oskar (Mary Aline Towner)\", \"Plotcharsky, Mr. Vasil\", \"Davies, Mr. Charles Henry\", \"Goodwin, Master. Sidney Leonard\", \"Buss, Miss. Kate\", \"Sadlier, Mr. Matthew\", \"Lehmann, Miss. Bertha\", \"Carter, Mr. William Ernest\", \"Jansson, Mr. Carl Olof\", \"Gustafsson, Mr. Johan Birger\", \"Newell, Miss. Marjorie\", \"Sandstrom, Mrs. Hjalmar (Agnes Charlotta Bengtsson)\", \"Johansson, Mr. Erik\", \"Olsson, Miss. Elina\", \"McKane, Mr. Peter David\", \"Pain, Dr. Alfred\", \"Trout, Mrs. William H (Jessie L)\", \"Niskanen, Mr. Juha\", \"Adams, Mr. John\", \"Jussila, Miss. Mari Aina\", \"Hakkarainen, Mr. Pekka Pietari\", \"Oreskovic, Miss. Marija\", \"Gale, Mr. Shadrach\", \"Widegren, Mr. Carl/Charles Peter\", \"Richards, Master. William Rowe\", \"Birkeland, Mr. Hans Martin Monsen\", \"Lefebre, Miss. Ida\", \"Sdycoff, Mr. Todor\", \"Hart, Mr. Henry\", \"Minahan, Miss. Daisy E\", \"Cunningham, Mr. Alfred Fleming\", \"Sundman, Mr. Johan Julian\", \"Meek, Mrs. Thomas (Annie Louise Rowley)\", \"Drew, Mrs. James Vivian (Lulu Thorne Christian)\", \"Silven, Miss. Lyyli Karoliina\", \"Matthews, Mr. William John\", \"Van Impe, Miss. Catharina\", \"Gheorgheff, Mr. Stanio\", \"Charters, Mr. David\", \"Zimmerman, Mr. Leo\", \"Danbom, Mrs. Ernst Gilbert (Anna Sigrid Maria Brogren)\", \"Rosblom, Mr. Viktor Richard\", \"Wiseman, Mr. Phillippe\", \"Clarke, Mrs. Charles V (Ada Maria Winfield)\", \"Phillips, Miss. Kate Florence (\\\"Mrs Kate Louise Phillips Marshall\\\")\", \"Flynn, Mr. James\", \"Pickard, Mr. Berk (Berk Trembisky)\", \"Bjornstrom-Steffansson, Mr. Mauritz Hakan\", \"Thorneycroft, Mrs. Percival (Florence Kate White)\", \"Louch, Mrs. Charles Alexander (Alice Adelaide Slow)\", \"Kallio, Mr. Nikolai Erland\", \"Silvey, Mr. William Baird\", \"Carter, Miss. Lucile Polk\", \"Ford, Miss. Doolina Margaret \\\"Daisy\\\"\", \"Richards, Mrs. Sidney (Emily Hocking)\", \"Fortune, Mr. Mark\", \"Kvillner, Mr. Johan Henrik Johannesson\", \"Hart, Mrs. Benjamin (Esther Ada Bloomfield)\", \"Hampe, Mr. Leon\", \"Petterson, Mr. Johan Emil\", \"Reynaldo, Ms. Encarnacion\", \"Johannesen-Bratthammer, Mr. Bernt\", \"Dodge, Master. Washington\", \"Mellinger, Miss. Madeleine Violet\", \"Seward, Mr. Frederic Kimber\", \"Baclini, Miss. Marie Catherine\", \"Peuchen, Major. Arthur Godfrey\", \"West, Mr. Edwy Arthur\", \"Hagland, Mr. Ingvald Olai Olsen\", \"Foreman, Mr. Benjamin Laventall\", \"Goldenberg, Mr. Samuel L\", \"Peduzzi, Mr. Joseph\", \"Jalsevac, Mr. Ivan\", \"Millet, Mr. Francis Davis\", \"Kenyon, Mrs. Frederick R (Marion)\", \"Toomey, Miss. Ellen\", \"O'Connor, Mr. Maurice\", \"Anderson, Mr. Harry\", \"Morley, Mr. William\", \"Gee, Mr. Arthur H\", \"Milling, Mr. Jacob Christian\", \"Maisner, Mr. Simon\", \"Goncalves, Mr. Manuel Estanslas\", \"Campbell, Mr. William\", \"Smart, Mr. John Montgomery\", \"Scanlan, Mr. James\", \"Baclini, Miss. Helene Barbara\", \"Keefe, Mr. Arthur\", \"Cacic, Mr. Luka\", \"West, Mrs. Edwy Arthur (Ada Mary Worth)\", \"Jerwan, Mrs. Amin S (Marie Marthe Thuillard)\", \"Strandberg, Miss. Ida Sofia\", \"Clifford, Mr. George Quincy\", \"Renouf, Mr. Peter Henry\", \"Braund, Mr. Lewis Richard\", \"Karlsson, Mr. Nils August\", \"Hirvonen, Miss. Hildur E\", \"Goodwin, Master. Harold Victor\", \"Frost, Mr. Anthony Wood \\\"Archie\\\"\", \"Rouse, Mr. Richard Henry\", \"Turkula, Mrs. (Hedwig)\", \"Bishop, Mr. Dickinson H\", \"Lefebre, Miss. Jeannie\", \"Hoyt, Mrs. Frederick Maxfield (Jane Anne Forby)\", \"Kent, Mr. Edward Austin\", \"Somerton, Mr. Francis William\", \"Coutts, Master. Eden Leslie \\\"Neville\\\"\", \"Hagland, Mr. Konrad Mathias Reiersen\", \"Windelov, Mr. Einar\", \"Molson, Mr. Harry Markland\", \"Artagaveytia, Mr. Ramon\", \"Stanley, Mr. Edward Roland\", \"Yousseff, Mr. Gerious\", \"Eustis, Miss. Elizabeth Mussey\", \"Shellard, Mr. Frederick William\", \"Allison, Mrs. Hudson J C (Bessie Waldo Daniels)\", \"Svensson, Mr. Olof\", \"Calic, Mr. Petar\", \"Canavan, Miss. Mary\", \"O'Sullivan, Miss. Bridget Mary\", \"Laitinen, Miss. Kristina Sofia\", \"Maioni, Miss. Roberta\", \"Penasco y Castellana, Mr. Victor de Satode\", \"Quick, Mrs. Frederick Charles (Jane Richards)\", \"Bradley, Mr. George (\\\"George Arthur Brayton\\\")\", \"Olsen, Mr. Henry Margido\", \"Lang, Mr. Fang\", \"Daly, Mr. Eugene Patrick\", \"Webber, Mr. James\", \"McGough, Mr. James Robert\", \"Rothschild, Mrs. Martin (Elizabeth L. Barrett)\", \"Coleff, Mr. Satio\", \"Walker, Mr. William Anderson\", \"Lemore, Mrs. (Amelia Milley)\", \"Ryan, Mr. Patrick\", \"Angle, Mrs. William A (Florence \\\"Mary\\\" Agnes Hughes)\", \"Pavlovic, Mr. Stefo\", \"Perreault, Miss. Anne\", \"Vovk, Mr. Janko\", \"Lahoud, Mr. Sarkis\", \"Hippach, Mrs. Louis Albert (Ida Sophia Fischer)\", \"Kassem, Mr. Fared\", \"Farrell, Mr. James\", \"Ridsdale, Miss. Lucy\", \"Farthing, Mr. John\", \"Salonen, Mr. Johan Werner\", \"Hocking, Mr. Richard George\", \"Quick, Miss. Phyllis May\", \"Toufik, Mr. Nakli\", \"Elias, Mr. Joseph Jr\", \"Peter, Mrs. Catherine (Catherine Rizk)\", \"Cacic, Miss. Marija\", \"Hart, Miss. Eva Miriam\", \"Butt, Major. Archibald Willingham\", \"LeRoy, Miss. Bertha\", \"Risien, Mr. Samuel Beard\", \"Frolicher, Miss. Hedwig Margaritha\", \"Crosby, Miss. Harriet R\", \"Andersson, Miss. Ingeborg Constanzia\", \"Andersson, Miss. Sigrid Elisabeth\", \"Beane, Mr. Edward\", \"Douglas, Mr. Walter Donald\", \"Nicholson, Mr. Arthur Ernest\", \"Beane, Mrs. Edward (Ethel Clarke)\", \"Padro y Manent, Mr. Julian\", \"Goldsmith, Mr. Frank John\", \"Davies, Master. John Morgan Jr\", \"Thayer, Mr. John Borland Jr\", \"Sharp, Mr. Percival James R\", \"O'Brien, Mr. Timothy\", \"Leeni, Mr. Fahim (\\\"Philip Zenni\\\")\", \"Ohman, Miss. Velin\", \"Wright, Mr. George\", \"Duff Gordon, Lady. (Lucille Christiana Sutherland) (\\\"Mrs Morgan\\\")\", \"Robbins, Mr. Victor\", \"Taussig, Mrs. Emil (Tillie Mandelbaum)\", \"de Messemaeker, Mrs. Guillaume Joseph (Emma)\", \"Morrow, Mr. Thomas Rowan\", \"Sivic, Mr. Husein\", \"Norman, Mr. Robert Douglas\", \"Simmons, Mr. John\", \"Meanwell, Miss. (Marion Ogden)\", \"Davies, Mr. Alfred J\", \"Stoytcheff, Mr. Ilia\", \"Palsson, Mrs. Nils (Alma Cornelia Berglund)\", \"Doharr, Mr. Tannous\", \"Jonsson, Mr. Carl\", \"Harris, Mr. George\", \"Appleton, Mrs. Edward Dale (Charlotte Lamson)\", \"Flynn, Mr. John Irwin (\\\"Irving\\\")\", \"Kelly, Miss. Mary\", \"Rush, Mr. Alfred George John\", \"Patchett, Mr. George\", \"Garside, Miss. Ethel\", \"Silvey, Mrs. William Baird (Alice Munger)\", \"Caram, Mrs. Joseph (Maria Elias)\", \"Jussila, Mr. Eiriik\", \"Christy, Miss. Julie Rachel\", \"Thayer, Mrs. John Borland (Marian Longstreth Morris)\", \"Downton, Mr. William James\", \"Ross, Mr. John Hugo\", \"Paulner, Mr. Uscher\", \"Taussig, Miss. Ruth\", \"Jarvis, Mr. John Denzil\", \"Frolicher-Stehli, Mr. Maxmillian\", \"Gilinski, Mr. Eliezer\", \"Murdlin, Mr. Joseph\", \"Rintamaki, Mr. Matti\", \"Stephenson, Mrs. Walter Bertram (Martha Eustis)\", \"Elsbury, Mr. William James\", \"Bourke, Miss. Mary\", \"Chapman, Mr. John Henry\", \"Van Impe, Mr. Jean Baptiste\", \"Leitch, Miss. Jessie Wills\", \"Johnson, Mr. Alfred\", \"Boulos, Mr. Hanna\", \"Duff Gordon, Sir. Cosmo Edmund (\\\"Mr Morgan\\\")\", \"Jacobsohn, Mrs. Sidney Samuel (Amy Frances Christy)\", \"Slabenoff, Mr. Petco\", \"Harrington, Mr. Charles H\", \"Torber, Mr. Ernst William\", \"Homer, Mr. Harry (\\\"Mr E Haven\\\")\", \"Lindell, Mr. Edvard Bengtsson\", \"Karaic, Mr. Milan\", \"Daniel, Mr. Robert Williams\", \"Laroche, Mrs. Joseph (Juliette Marie Louise Lafargue)\", \"Shutes, Miss. Elizabeth W\", \"Andersson, Mrs. Anders Johan (Alfrida Konstantia Brogren)\", \"Jardin, Mr. Jose Neto\", \"Murphy, Miss. Margaret Jane\", \"Horgan, Mr. John\", \"Brocklebank, Mr. William Alfred\", \"Herman, Miss. Alice\", \"Danbom, Mr. Ernst Gilbert\", \"Lobb, Mrs. William Arthur (Cordelia K Stanlick)\", \"Becker, Miss. Marion Louise\", \"Gavey, Mr. Lawrence\", \"Yasbeck, Mr. Antoni\", \"Kimball, Mr. Edwin Nelson Jr\", \"Nakid, Mr. Sahid\", \"Hansen, Mr. Henry Damsgaard\", \"Bowen, Mr. David John \\\"Dai\\\"\", \"Sutton, Mr. Frederick\", \"Kirkland, Rev. Charles Leonard\", \"Longley, Miss. Gretchen Fiske\", \"Bostandyeff, Mr. Guentcho\", \"O'Connell, Mr. Patrick D\", \"Barkworth, Mr. Algernon Henry Wilson\", \"Lundahl, Mr. Johan Svensson\", \"Stahelin-Maeglin, Dr. Max\", \"Parr, Mr. William Henry Marsh\", \"Skoog, Miss. Mabel\", \"Davis, Miss. Mary\", \"Leinonen, Mr. Antti Gustaf\", \"Collyer, Mr. Harvey\", \"Panula, Mrs. Juha (Maria Emilia Ojala)\", \"Thorneycroft, Mr. Percival\", \"Jensen, Mr. Hans Peder\", \"Sagesser, Mlle. Emma\", \"Skoog, Miss. Margit Elizabeth\", \"Foo, Mr. Choong\", \"Baclini, Miss. Eugenie\", \"Harper, Mr. Henry Sleeper\", \"Cor, Mr. Liudevit\", \"Simonius-Blumer, Col. Oberst Alfons\", \"Willey, Mr. Edward\", \"Stanley, Miss. Amy Zillah Elsie\", \"Mitkoff, Mr. Mito\", \"Doling, Miss. Elsie\", \"Kalvik, Mr. Johannes Halvorsen\", \"O'Leary, Miss. Hanora \\\"Norah\\\"\", \"Hegarty, Miss. Hanora \\\"Nora\\\"\", \"Hickman, Mr. Leonard Mark\", \"Radeff, Mr. Alexander\", \"Bourke, Mrs. John (Catherine)\", \"Eitemiller, Mr. George Floyd\", \"Newell, Mr. Arthur Webster\", \"Frauenthal, Dr. Henry William\", \"Badt, Mr. Mohamed\", \"Colley, Mr. Edward Pomeroy\", \"Coleff, Mr. Peju\", \"Lindqvist, Mr. Eino William\", \"Hickman, Mr. Lewis\", \"Butler, Mr. Reginald Fenton\", \"Rommetvedt, Mr. Knud Paust\", \"Cook, Mr. Jacob\", \"Taylor, Mrs. Elmer Zebley (Juliet Cummins Wright)\", \"Brown, Mrs. Thomas William Solomon (Elizabeth Catherine Ford)\", \"Davidson, Mr. Thornton\", \"Mitchell, Mr. Henry Michael\", \"Wilhelms, Mr. Charles\", \"Watson, Mr. Ennis Hastings\", \"Edvardsson, Mr. Gustaf Hjalmar\", \"Sawyer, Mr. Frederick Charles\", \"Turja, Miss. Anna Sofia\", \"Goodwin, Mrs. Frederick (Augusta Tyler)\", \"Cardeza, Mr. Thomas Drake Martinez\", \"Peters, Miss. Katie\", \"Hassab, Mr. Hammad\", \"Olsvigen, Mr. Thor Anderson\", \"Goodwin, Mr. Charles Edward\", \"Brown, Mr. Thomas William Solomon\", \"Laroche, Mr. Joseph Philippe Lemercier\", \"Panula, Mr. Jaako Arnold\", \"Dakic, Mr. Branko\", \"Fischer, Mr. Eberhard Thelander\", \"Madill, Miss. Georgette Alexandra\", \"Dick, Mr. Albert Adrian\", \"Karun, Miss. Manca\", \"Lam, Mr. Ali\", \"Saad, Mr. Khalil\", \"Weir, Col. John\", \"Chapman, Mr. Charles Henry\", \"Kelly, Mr. James\", \"Mullens, Miss. Katherine \\\"Katie\\\"\", \"Thayer, Mr. John Borland\", \"Humblen, Mr. Adolf Mathias Nicolai Olsen\", \"Astor, Mrs. John Jacob (Madeleine Talmadge Force)\", \"Silverthorne, Mr. Spencer Victor\", \"Barbara, Miss. Saiide\", \"Gallagher, Mr. Martin\", \"Hansen, Mr. Henrik Juul\", \"Morley, Mr. Henry Samuel (\\\"Mr Henry Marshall\\\")\", \"Kelly, Mrs. Florence \\\"Fannie\\\"\", \"Calderhead, Mr. Edward Pennington\", \"Cleaver, Miss. Alice\", \"Moubarek, Master. Halim Gonios (\\\"William George\\\")\", \"Mayne, Mlle. Berthe Antonine (\\\"Mrs de Villiers\\\")\", \"Klaber, Mr. Herman\", \"Taylor, Mr. Elmer Zebley\", \"Larsson, Mr. August Viktor\", \"Greenberg, Mr. Samuel\", \"Soholt, Mr. Peter Andreas Lauritz Andersen\", \"Endres, Miss. Caroline Louise\", \"Troutt, Miss. Edwina Celia \\\"Winnie\\\"\", \"McEvoy, Mr. Michael\", \"Johnson, Mr. Malkolm Joackim\", \"Harper, Miss. Annie Jessie \\\"Nina\\\"\", \"Jensen, Mr. Svend Lauritz\", \"Gillespie, Mr. William Henry\", \"Hodges, Mr. Henry Price\", \"Chambers, Mr. Norman Campbell\", \"Oreskovic, Mr. Luka\", \"Renouf, Mrs. Peter Henry (Lillian Jefferys)\", \"Mannion, Miss. Margareth\", \"Bryhl, Mr. Kurt Arnold Gottfrid\", \"Ilmakangas, Miss. Pieta Sofia\", \"Allen, Miss. Elisabeth Walton\", \"Hassan, Mr. Houssein G N\", \"Knight, Mr. Robert J\", \"Berriman, Mr. William John\", \"Troupiansky, Mr. Moses Aaron\", \"Williams, Mr. Leslie\", \"Ford, Mrs. Edward (Margaret Ann Watson)\", \"Lesurer, Mr. Gustave J\", \"Ivanoff, Mr. Kanio\", \"Nankoff, Mr. Minko\", \"Hawksford, Mr. Walter James\", \"Cavendish, Mr. Tyrell William\", \"Ryerson, Miss. Susan Parker \\\"Suzette\\\"\", \"McNamee, Mr. Neal\", \"Stranden, Mr. Juho\", \"Crosby, Capt. Edward Gifford\", \"Abbott, Mr. Rossmore Edward\", \"Sinkkonen, Miss. Anna\", \"Marvin, Mr. Daniel Warner\", \"Connaghton, Mr. Michael\", \"Wells, Miss. Joan\", \"Moor, Master. Meier\", \"Vande Velde, Mr. Johannes Joseph\", \"Jonkoff, Mr. Lalio\", \"Herman, Mrs. Samuel (Jane Laver)\", \"Hamalainen, Master. Viljo\", \"Carlsson, Mr. August Sigfrid\", \"Bailey, Mr. Percy Andrew\", \"Theobald, Mr. Thomas Leonard\", \"Rothes, the Countess. of (Lucy Noel Martha Dyer-Edwards)\", \"Garfirth, Mr. John\", \"Nirva, Mr. Iisakki Antino Aijo\", \"Barah, Mr. Hanna Assi\", \"Carter, Mrs. William Ernest (Lucile Polk)\", \"Eklund, Mr. Hans Linus\", \"Hogeboom, Mrs. John C (Anna Andrews)\", \"Brewe, Dr. Arthur Jackson\", \"Mangan, Miss. Mary\", \"Moran, Mr. Daniel J\", \"Gronnestad, Mr. Daniel Danielsen\", \"Lievens, Mr. Rene Aime\", \"Jensen, Mr. Niels Peder\", \"Mack, Mrs. (Mary)\", \"Elias, Mr. Dibo\", \"Hocking, Mrs. Elizabeth (Eliza Needs)\", \"Myhrman, Mr. Pehr Fabian Oliver Malkolm\", \"Tobin, Mr. Roger\", \"Emanuel, Miss. Virginia Ethel\", \"Kilgannon, Mr. Thomas J\", \"Robert, Mrs. Edward Scott (Elisabeth Walton McMillan)\", \"Ayoub, Miss. Banoura\", \"Dick, Mrs. Albert Adrian (Vera Gillespie)\", \"Long, Mr. Milton Clyde\", \"Johnston, Mr. Andrew G\", \"Ali, Mr. William\", \"Harmer, Mr. Abraham (David Lishin)\", \"Sjoblom, Miss. Anna Sofia\", \"Rice, Master. George Hugh\", \"Dean, Master. Bertram Vere\", \"Guggenheim, Mr. Benjamin\", \"Keane, Mr. Andrew \\\"Andy\\\"\", \"Gaskell, Mr. Alfred\", \"Sage, Miss. Stella Anna\", \"Hoyt, Mr. William Fisher\", \"Dantcheff, Mr. Ristiu\", \"Otter, Mr. Richard\", \"Leader, Dr. Alice (Farnham)\", \"Osman, Mrs. Mara\", \"Ibrahim Shawah, Mr. Yousseff\", \"Van Impe, Mrs. Jean Baptiste (Rosalie Paula Govaert)\", \"Ponesell, Mr. Martin\", \"Collyer, Mrs. Harvey (Charlotte Annie Tate)\", \"Carter, Master. William Thornton II\", \"Thomas, Master. Assad Alexander\", \"Hedman, Mr. Oskar Arvid\", \"Johansson, Mr. Karl Johan\", \"Andrews, Mr. Thomas Jr\", \"Pettersson, Miss. Ellen Natalia\", \"Meyer, Mr. August\", \"Chambers, Mrs. Norman Campbell (Bertha Griggs)\", \"Alexander, Mr. William\", \"Lester, Mr. James\", \"Slemen, Mr. Richard James\", \"Andersson, Miss. Ebba Iris Alfrida\", \"Tomlin, Mr. Ernest Portage\", \"Fry, Mr. Richard\", \"Heininen, Miss. Wendla Maria\", \"Mallet, Mr. Albert\", \"Holm, Mr. John Fredrik Alexander\", \"Skoog, Master. Karl Thorsten\", \"Hays, Mrs. Charles Melville (Clara Jennings Gregg)\", \"Lulic, Mr. Nikola\", \"Reuchlin, Jonkheer. John George\", \"Moor, Mrs. (Beila)\", \"Panula, Master. Urho Abraham\", \"Flynn, Mr. John\", \"Lam, Mr. Len\", \"Mallet, Master. Andre\", \"McCormack, Mr. Thomas Joseph\", \"Stone, Mrs. George Nelson (Martha Evelyn)\", \"Yasbeck, Mrs. Antoni (Selini Alexander)\", \"Richards, Master. George Sibley\", \"Saad, Mr. Amin\", \"Augustsson, Mr. Albert\", \"Allum, Mr. Owen George\", \"Compton, Miss. Sara Rebecca\", \"Pasic, Mr. Jakob\", \"Sirota, Mr. Maurice\", \"Chip, Mr. Chang\", \"Marechal, Mr. Pierre\", \"Alhomaki, Mr. Ilmari Rudolf\", \"Mudd, Mr. Thomas Charles\", \"Serepeca, Miss. Augusta\", \"Lemberopolous, Mr. Peter L\", \"Culumovic, Mr. Jeso\", \"Abbing, Mr. Anthony\", \"Sage, Mr. Douglas Bullen\", \"Markoff, Mr. Marin\", \"Harper, Rev. John\", \"Goldenberg, Mrs. Samuel L (Edwiga Grabowska)\", \"Andersson, Master. Sigvard Harald Elias\", \"Svensson, Mr. Johan\", \"Boulos, Miss. Nourelain\", \"Lines, Miss. Mary Conover\", \"Carter, Mrs. Ernest Courtenay (Lilian Hughes)\", \"Aks, Mrs. Sam (Leah Rosen)\", \"Wick, Mrs. George Dennick (Mary Hitchcock)\", \"Daly, Mr. Peter Denis \", \"Baclini, Mrs. Solomon (Latifa Qurban)\", \"Razi, Mr. Raihed\", \"Hansen, Mr. Claus Peter\", \"Giles, Mr. Frederick Edward\", \"Swift, Mrs. Frederick Joel (Margaret Welles Barron)\", \"Sage, Miss. Dorothy Edith \\\"Dolly\\\"\", \"Gill, Mr. John William\", \"Bystrom, Mrs. (Karolina)\", \"Duran y More, Miss. Asuncion\", \"Roebling, Mr. Washington Augustus II\", \"van Melkebeke, Mr. Philemon\", \"Johnson, Master. Harold Theodor\", \"Balkic, Mr. Cerin\", \"Beckwith, Mrs. Richard Leonard (Sallie Monypeny)\", \"Carlsson, Mr. Frans Olof\", \"Vander Cruyssen, Mr. Victor\", \"Abelson, Mrs. Samuel (Hannah Wizosky)\", \"Najib, Miss. Adele Kiamie \\\"Jane\\\"\", \"Gustafsson, Mr. Alfred Ossian\", \"Petroff, Mr. Nedelio\", \"Laleff, Mr. Kristo\", \"Potter, Mrs. Thomas Jr (Lily Alexenia Wilson)\", \"Shelley, Mrs. William (Imanita Parrish Hall)\", \"Markun, Mr. Johann\", \"Dahlberg, Miss. Gerda Ulrika\", \"Banfield, Mr. Frederick James\", \"Sutehall, Mr. Henry Jr\", \"Rice, Mrs. William (Margaret Norton)\", \"Montvila, Rev. Juozas\", \"Graham, Miss. Margaret Edith\", \"Johnston, Miss. Catherine Helen \\\"Carrie\\\"\", \"Behr, Mr. Karl Howell\", \"Dooley, Mr. Patrick\"], \"y\": [\"male\", \"female\", \"female\", \"female\", \"male\", \"male\", \"male\", \"male\", \"female\", \"female\", \"female\", \"female\", \"male\", \"male\", \"female\", \"female\", \"male\", \"male\", \"female\", \"female\", \"male\", \"male\", \"female\", \"male\", \"female\", \"female\", \"male\", \"male\", \"female\", \"male\", \"male\", \"female\", \"female\", \"male\", \"male\", \"male\", \"male\", \"male\", \"female\", \"female\", \"female\", \"female\", \"male\", \"female\", \"female\", \"male\", \"male\", \"female\", \"male\", \"female\", \"male\", \"male\", \"female\", \"female\", \"male\", \"male\", \"female\", \"male\", \"female\", \"male\", \"male\", \"female\", \"male\", \"male\", \"male\", \"male\", \"female\", \"male\", \"female\", \"male\", \"male\", \"female\", \"male\", \"male\", \"male\", \"male\", \"male\", \"male\", \"male\", \"female\", \"male\", \"male\", \"female\", \"male\", \"female\", \"female\", \"male\", \"male\", \"female\", \"male\", \"male\", \"male\", \"male\", \"male\", \"male\", \"male\", \"male\", \"male\", \"female\", \"male\", \"female\", \"male\", \"male\", \"male\", \"male\", \"male\", \"female\", \"male\", \"male\", \"female\", \"male\", \"female\", \"male\", \"female\", \"female\", \"male\", \"male\", \"male\", \"male\", \"female\", \"male\", \"male\", \"male\", \"female\", \"male\", \"male\", \"male\", \"male\", \"female\", \"male\", \"male\", \"male\", \"female\", \"female\", \"male\", \"male\", \"female\", \"male\", \"male\", \"male\", \"female\", \"female\", \"female\", \"male\", \"male\", \"male\", \"male\", \"female\", \"male\", \"male\", \"male\", \"female\", \"male\", \"male\", \"male\", \"male\", \"female\", \"male\", \"male\", \"male\", \"male\", \"female\", \"male\", \"male\", \"male\", \"male\", \"female\", \"female\", \"male\", \"male\", \"male\", \"male\", \"female\", \"male\", \"male\", \"male\", \"male\", \"female\", \"male\", \"male\", \"female\", \"male\", \"male\", \"male\", \"female\", \"male\", \"female\", \"male\", \"male\", \"male\", \"female\", \"male\", \"female\", \"male\", \"female\", \"female\", \"male\", \"male\", \"female\", \"female\", \"male\", \"male\", \"male\", \"male\", \"male\", \"female\", \"male\", \"male\", \"female\", \"male\", \"male\", \"female\", \"male\", \"male\", \"male\", \"female\", \"female\", \"male\", \"female\", \"male\", \"male\", \"male\", \"male\", \"male\", \"male\", \"male\", \"male\", \"male\", \"male\", \"female\", \"female\", \"male\", \"male\", \"female\", \"male\", \"female\", \"male\", \"female\", \"male\", \"male\", \"female\", \"female\", \"male\", \"male\", \"male\", \"male\", \"female\", \"female\", \"male\", \"male\", \"male\", \"female\", \"male\", \"male\", \"female\", \"female\", \"female\", \"female\", \"female\", \"female\", \"male\", \"male\", \"male\", \"male\", \"female\", \"male\", \"male\", \"male\", \"female\", \"female\", \"male\", \"male\", \"female\", \"male\", \"female\", \"female\", \"female\", \"male\", \"male\", \"female\", \"male\", \"male\", \"male\", \"male\", \"male\", \"male\", \"male\", \"male\", \"male\", \"female\", \"female\", \"female\", \"male\", \"female\", \"male\", \"male\", \"male\", \"female\", \"male\", \"female\", \"female\", \"male\", \"male\", \"female\", \"male\", \"male\", \"female\", \"female\", \"male\", \"female\", \"female\", \"female\", \"female\", \"male\", \"male\", \"female\", \"female\", \"male\", \"female\", \"female\", \"male\", \"male\", \"female\", \"female\", \"male\", \"female\", \"male\", \"female\", \"female\", \"female\", \"female\", \"male\", \"male\", \"male\", \"female\", \"male\", \"male\", \"female\", \"male\", \"male\", \"male\", \"female\", \"male\", \"male\", \"male\", \"female\", \"female\", \"female\", \"male\", \"male\", \"male\", \"male\", \"male\", \"male\", \"male\", \"male\", \"female\", \"female\", \"female\", \"female\", \"male\", \"male\", \"female\", \"male\", \"male\", \"male\", \"female\", \"female\", \"female\", \"female\", \"male\", \"male\", \"male\", \"male\", \"female\", \"female\", \"female\", \"male\", \"male\", \"male\", \"female\", \"female\", \"male\", \"female\", \"male\", \"male\", \"male\", \"female\", \"male\", \"female\", \"male\", \"male\", \"male\", \"female\", \"female\", \"male\", \"female\", \"male\", \"male\", \"female\", \"male\", \"male\", \"female\", \"male\", \"female\", \"male\", \"male\", \"male\", \"male\", \"female\", \"male\", \"male\", \"female\", \"male\", \"male\", \"female\", \"female\", \"female\", \"male\", \"female\", \"male\", \"male\", \"male\", \"female\", \"male\", \"male\", \"female\", \"female\", \"male\", \"male\", \"male\", \"female\", \"female\", \"male\", \"male\", \"female\", \"female\", \"female\", \"male\", \"male\", \"female\", \"male\", \"male\", \"female\", \"male\", \"male\", \"female\", \"male\", \"female\", \"male\", \"male\", \"male\", \"male\", \"male\", \"male\", \"male\", \"male\", \"female\", \"female\", \"male\", \"male\", \"male\", \"male\", \"male\", \"male\", \"male\", \"male\", \"male\", \"male\", \"female\", \"male\", \"male\", \"female\", \"female\", \"female\", \"male\", \"male\", \"male\", \"male\", \"female\", \"male\", \"male\", \"male\", \"female\", \"male\", \"female\", \"female\", \"male\", \"male\", \"male\", \"male\", \"male\", \"male\", \"male\", \"male\", \"male\", \"female\", \"male\", \"female\", \"male\", \"male\", \"female\", \"female\", \"female\", \"female\", \"male\", \"female\", \"male\", \"male\", \"male\", \"male\", \"male\", \"male\", \"female\", \"male\", \"male\", \"female\", \"male\", \"female\", \"male\", \"female\", \"male\", \"male\", \"female\", \"male\", \"male\", \"female\", \"male\", \"male\", \"male\", \"female\", \"male\", \"male\", \"female\", \"female\", \"female\", \"male\", \"female\", \"male\", \"female\", \"female\", \"female\", \"female\", \"male\", \"male\", \"male\", \"female\", \"male\", \"male\", \"male\", \"male\", \"male\", \"male\", \"male\", \"female\", \"male\", \"female\", \"male\", \"female\", \"female\", \"male\", \"male\", \"male\", \"male\", \"female\", \"male\", \"male\", \"female\", \"male\", \"male\", \"male\", \"female\", \"male\", \"female\", \"male\", \"male\", \"female\", \"female\", \"female\", \"male\", \"female\", \"female\", \"male\", \"male\", \"male\", \"female\", \"male\", \"male\", \"male\", \"male\", \"male\", \"female\", \"male\", \"female\", \"male\", \"male\", \"female\", \"male\", \"male\", \"male\", \"female\", \"male\", \"male\", \"male\", \"male\", \"male\", \"male\", \"male\", \"female\", \"female\", \"female\", \"male\", \"female\", \"male\", \"male\", \"female\", \"male\", \"female\", \"female\", \"male\", \"male\", \"male\", \"male\", \"male\", \"male\", \"male\", \"male\", \"female\", \"male\", \"male\", \"male\", \"male\", \"male\", \"male\", \"female\", \"female\", \"male\", \"male\", \"female\", \"male\", \"male\", \"female\", \"female\", \"male\", \"female\", \"male\", \"male\", \"male\", \"male\", \"female\", \"male\", \"female\", \"male\", \"female\", \"female\", \"male\", \"male\", \"female\", \"male\", \"male\", \"male\", \"male\", \"male\", \"male\", \"male\", \"male\", \"male\", \"male\", \"male\", \"female\", \"female\", \"male\", \"male\", \"male\", \"male\", \"male\", \"male\", \"female\", \"female\", \"male\", \"female\", \"male\", \"male\", \"male\", \"male\", \"male\", \"male\", \"male\", \"male\", \"female\", \"male\", \"female\", \"male\", \"male\", \"male\", \"male\", \"male\", \"female\", \"male\", \"male\", \"female\", \"male\", \"female\", \"male\", \"male\", \"male\", \"female\", \"male\", \"female\", \"male\", \"female\", \"male\", \"male\", \"male\", \"male\", \"male\", \"female\", \"female\", \"male\", \"male\", \"female\", \"male\", \"male\", \"male\", \"male\", \"male\", \"female\", \"female\", \"male\", \"female\", \"female\", \"male\", \"male\", \"male\", \"male\", \"male\", \"female\", \"male\", \"male\", \"male\", \"male\", \"male\", \"female\", \"male\", \"male\", \"male\", \"male\", \"female\", \"male\", \"male\", \"female\", \"male\", \"male\", \"male\", \"female\", \"male\", \"male\", \"male\", \"male\", \"female\", \"male\", \"male\", \"male\", \"female\", \"male\", \"female\", \"male\", \"female\", \"male\", \"male\", \"male\", \"male\", \"female\", \"male\", \"female\", \"male\", \"male\", \"female\", \"male\", \"female\", \"female\", \"female\", \"male\", \"male\", \"male\", \"male\", \"female\", \"male\", \"male\", \"male\", \"male\", \"male\", \"female\", \"male\", \"male\", \"male\", \"female\", \"female\", \"male\", \"female\", \"male\", \"female\", \"male\", \"male\", \"male\", \"male\", \"male\", \"female\", \"male\", \"female\", \"male\", \"male\", \"male\", \"female\", \"male\", \"male\", \"female\", \"male\", \"male\", \"male\", \"female\", \"male\", \"male\", \"female\", \"male\", \"male\", \"male\", \"male\", \"male\", \"female\", \"female\", \"male\", \"male\", \"male\", \"male\", \"female\", \"male\", \"male\", \"male\", \"male\", \"male\", \"male\", \"female\", \"male\", \"male\", \"male\", \"male\", \"male\", \"male\", \"female\", \"male\", \"male\", \"female\", \"female\", \"female\", \"female\", \"female\", \"male\", \"female\", \"male\", \"male\", \"male\", \"female\", \"female\", \"male\", \"female\", \"female\", \"male\", \"male\", \"male\", \"male\", \"female\", \"male\", \"male\", \"female\", \"female\", \"male\", \"male\", \"male\", \"female\", \"female\", \"male\", \"female\", \"male\", \"male\", \"female\", \"male\", \"female\", \"female\", \"male\", \"male\"], \"z\": [22.0, 38.0, 26.0, 35.0, 35.0, null, 54.0, 2.0, 27.0, 14.0, 4.0, 58.0, 20.0, 39.0, 14.0, 55.0, 2.0, null, 31.0, null, 35.0, 34.0, 15.0, 28.0, 8.0, 38.0, null, 19.0, null, null, 40.0, null, null, 66.0, 28.0, 42.0, null, 21.0, 18.0, 14.0, 40.0, 27.0, null, 3.0, 19.0, null, null, null, null, 18.0, 7.0, 21.0, 49.0, 29.0, 65.0, null, 21.0, 28.5, 5.0, 11.0, 22.0, 38.0, 45.0, 4.0, null, null, 29.0, 19.0, 17.0, 26.0, 32.0, 16.0, 21.0, 26.0, 32.0, 25.0, null, null, 0.83, 30.0, 22.0, 29.0, null, 28.0, 17.0, 33.0, 16.0, null, 23.0, 24.0, 29.0, 20.0, 46.0, 26.0, 59.0, null, 71.0, 23.0, 34.0, 34.0, 28.0, null, 21.0, 33.0, 37.0, 28.0, 21.0, null, 38.0, null, 47.0, 14.5, 22.0, 20.0, 17.0, 21.0, 70.5, 29.0, 24.0, 2.0, 21.0, null, 32.5, 32.5, 54.0, 12.0, null, 24.0, null, 45.0, 33.0, 20.0, 47.0, 29.0, 25.0, 23.0, 19.0, 37.0, 16.0, 24.0, null, 22.0, 24.0, 19.0, 18.0, 19.0, 27.0, 9.0, 36.5, 42.0, 51.0, 22.0, 55.5, 40.5, null, 51.0, 16.0, 30.0, null, null, 44.0, 40.0, 26.0, 17.0, 1.0, 9.0, null, 45.0, null, 28.0, 61.0, 4.0, 1.0, 21.0, 56.0, 18.0, null, 50.0, 30.0, 36.0, null, null, 9.0, 1.0, 4.0, null, null, 45.0, 40.0, 36.0, 32.0, 19.0, 19.0, 3.0, 44.0, 58.0, null, 42.0, null, 24.0, 28.0, null, 34.0, 45.5, 18.0, 2.0, 32.0, 26.0, 16.0, 40.0, 24.0, 35.0, 22.0, 30.0, null, 31.0, 27.0, 42.0, 32.0, 30.0, 16.0, 27.0, 51.0, null, 38.0, 22.0, 19.0, 20.5, 18.0, null, 35.0, 29.0, 59.0, 5.0, 24.0, null, 44.0, 8.0, 19.0, 33.0, null, null, 29.0, 22.0, 30.0, 44.0, 25.0, 24.0, 37.0, 54.0, null, 29.0, 62.0, 30.0, 41.0, 29.0, null, 30.0, 35.0, 50.0, null, 3.0, 52.0, 40.0, null, 36.0, 16.0, 25.0, 58.0, 35.0, null, 25.0, 41.0, 37.0, null, 63.0, 45.0, null, 7.0, 35.0, 65.0, 28.0, 16.0, 19.0, null, 33.0, 30.0, 22.0, 42.0, 22.0, 26.0, 19.0, 36.0, 24.0, 24.0, null, 23.5, 2.0, null, 50.0, null, null, 19.0, null, null, 0.92, null, 17.0, 30.0, 30.0, 24.0, 18.0, 26.0, 28.0, 43.0, 26.0, 24.0, 54.0, 31.0, 40.0, 22.0, 27.0, 30.0, 22.0, null, 36.0, 61.0, 36.0, 31.0, 16.0, null, 45.5, 38.0, 16.0, null, null, 29.0, 41.0, 45.0, 45.0, 2.0, 24.0, 28.0, 25.0, 36.0, 24.0, 40.0, null, 3.0, 42.0, 23.0, null, 15.0, 25.0, null, 28.0, 22.0, 38.0, null, null, 40.0, 29.0, 45.0, 35.0, null, 30.0, 60.0, null, null, 24.0, 25.0, 18.0, 19.0, 22.0, 3.0, null, 22.0, 27.0, 20.0, 19.0, 42.0, 1.0, 32.0, 35.0, null, 18.0, 1.0, 36.0, null, 17.0, 36.0, 21.0, 28.0, 23.0, 24.0, 22.0, 31.0, 46.0, 23.0, 28.0, 39.0, 26.0, 21.0, 28.0, 20.0, 34.0, 51.0, 3.0, 21.0, null, null, null, 33.0, null, 44.0, null, 34.0, 18.0, 30.0, 10.0, null, 21.0, 29.0, 28.0, 18.0, null, 28.0, 19.0, null, 32.0, 28.0, null, 42.0, 17.0, 50.0, 14.0, 21.0, 24.0, 64.0, 31.0, 45.0, 20.0, 25.0, 28.0, null, 4.0, 13.0, 34.0, 5.0, 52.0, 36.0, null, 30.0, 49.0, null, 29.0, 65.0, null, 50.0, null, 48.0, 34.0, 47.0, 48.0, null, 38.0, null, 56.0, null, 0.75, null, 38.0, 33.0, 23.0, 22.0, null, 34.0, 29.0, 22.0, 2.0, 9.0, null, 50.0, 63.0, 25.0, null, 35.0, 58.0, 30.0, 9.0, null, 21.0, 55.0, 71.0, 21.0, null, 54.0, null, 25.0, 24.0, 17.0, 21.0, null, 37.0, 16.0, 18.0, 33.0, null, 28.0, 26.0, 29.0, null, 36.0, 54.0, 24.0, 47.0, 34.0, null, 36.0, 32.0, 30.0, 22.0, null, 44.0, null, 40.5, 50.0, null, 39.0, 23.0, 2.0, null, 17.0, null, 30.0, 7.0, 45.0, 30.0, null, 22.0, 36.0, 9.0, 11.0, 32.0, 50.0, 64.0, 19.0, null, 33.0, 8.0, 17.0, 27.0, null, 22.0, 22.0, 62.0, 48.0, null, 39.0, 36.0, null, 40.0, 28.0, null, null, 24.0, 19.0, 29.0, null, 32.0, 62.0, 53.0, 36.0, null, 16.0, 19.0, 34.0, 39.0, null, 32.0, 25.0, 39.0, 54.0, 36.0, null, 18.0, 47.0, 60.0, 22.0, null, 35.0, 52.0, 47.0, null, 37.0, 36.0, null, 49.0, null, 49.0, 24.0, null, null, 44.0, 35.0, 36.0, 30.0, 27.0, 22.0, 40.0, 39.0, null, null, null, 35.0, 24.0, 34.0, 26.0, 4.0, 26.0, 27.0, 42.0, 20.0, 21.0, 21.0, 61.0, 57.0, 21.0, 26.0, null, 80.0, 51.0, 32.0, null, 9.0, 28.0, 32.0, 31.0, 41.0, null, 20.0, 24.0, 2.0, null, 0.75, 48.0, 19.0, 56.0, null, 23.0, null, 18.0, 21.0, null, 18.0, 24.0, null, 32.0, 23.0, 58.0, 50.0, 40.0, 47.0, 36.0, 20.0, 32.0, 25.0, null, 43.0, null, 40.0, 31.0, 70.0, 31.0, null, 18.0, 24.5, 18.0, 43.0, 36.0, null, 27.0, 20.0, 14.0, 60.0, 25.0, 14.0, 19.0, 18.0, 15.0, 31.0, 4.0, null, 25.0, 60.0, 52.0, 44.0, null, 49.0, 42.0, 18.0, 35.0, 18.0, 25.0, 26.0, 39.0, 45.0, 42.0, 22.0, null, 24.0, null, 48.0, 29.0, 52.0, 19.0, 38.0, 27.0, null, 33.0, 6.0, 17.0, 34.0, 50.0, 27.0, 20.0, 30.0, null, 25.0, 25.0, 29.0, 11.0, null, 23.0, 23.0, 28.5, 48.0, 35.0, null, null, null, 36.0, 21.0, 24.0, 31.0, 70.0, 16.0, 30.0, 19.0, 31.0, 4.0, 6.0, 33.0, 23.0, 48.0, 0.67, 28.0, 18.0, 34.0, 33.0, null, 41.0, 20.0, 36.0, 16.0, 51.0, null, 30.5, null, 32.0, 24.0, 48.0, 57.0, null, 54.0, 18.0, null, 5.0, null, 43.0, 13.0, 17.0, 29.0, null, 25.0, 25.0, 18.0, 8.0, 1.0, 46.0, null, 16.0, null, null, 25.0, 39.0, 49.0, 31.0, 30.0, 30.0, 34.0, 31.0, 11.0, 0.42, 27.0, 31.0, 39.0, 18.0, 39.0, 33.0, 26.0, 39.0, 35.0, 6.0, 30.5, null, 23.0, 31.0, 43.0, 10.0, 52.0, 27.0, 38.0, 27.0, 2.0, null, null, 1.0, null, 62.0, 15.0, 0.83, null, 23.0, 18.0, 39.0, 21.0, null, 32.0, null, 20.0, 16.0, 30.0, 34.5, 17.0, 42.0, null, 35.0, 28.0, null, 4.0, 74.0, 9.0, 16.0, 44.0, 18.0, 45.0, 51.0, 24.0, null, 41.0, 21.0, 48.0, null, 24.0, 42.0, 27.0, 31.0, null, 4.0, 26.0, 47.0, 33.0, 47.0, 28.0, 15.0, 20.0, 19.0, null, 56.0, 25.0, 33.0, 22.0, 28.0, 25.0, 39.0, 27.0, 19.0, null, 26.0, 32.0]}],                        {\"coloraxis\": {\"colorbar\": {\"title\": {\"text\": \"Age\"}}, \"colorscale\": [[0.0, \"#0d0887\"], [0.1111111111111111, \"#46039f\"], [0.2222222222222222, \"#7201a8\"], [0.3333333333333333, \"#9c179e\"], [0.4444444444444444, \"#bd3786\"], [0.5555555555555556, \"#d8576b\"], [0.6666666666666666, \"#ed7953\"], [0.7777777777777778, \"#fb9f3a\"], [0.8888888888888888, \"#fdca26\"], [1.0, \"#f0f921\"]]}, \"legend\": {\"tracegroupgap\": 0}, \"margin\": {\"t\": 60}, \"scene\": {\"domain\": {\"x\": [0.0, 1.0], \"y\": [0.0, 1.0]}, \"xaxis\": {\"title\": {\"text\": \"Name\"}}, \"yaxis\": {\"title\": {\"text\": \"Sex\"}}, \"zaxis\": {\"title\": {\"text\": \"Age\"}}}, \"template\": {\"data\": {\"bar\": [{\"error_x\": {\"color\": \"#2a3f5f\"}, \"error_y\": {\"color\": \"#2a3f5f\"}, \"marker\": {\"line\": {\"color\": \"#E5ECF6\", \"width\": 0.5}}, \"type\": \"bar\"}], \"barpolar\": [{\"marker\": {\"line\": {\"color\": \"#E5ECF6\", \"width\": 0.5}}, \"type\": \"barpolar\"}], \"carpet\": [{\"aaxis\": {\"endlinecolor\": \"#2a3f5f\", \"gridcolor\": \"white\", \"linecolor\": \"white\", \"minorgridcolor\": \"white\", \"startlinecolor\": \"#2a3f5f\"}, \"baxis\": {\"endlinecolor\": \"#2a3f5f\", \"gridcolor\": \"white\", \"linecolor\": \"white\", \"minorgridcolor\": \"white\", \"startlinecolor\": \"#2a3f5f\"}, \"type\": \"carpet\"}], \"choropleth\": [{\"colorbar\": {\"outlinewidth\": 0, \"ticks\": \"\"}, \"type\": \"choropleth\"}], \"contour\": [{\"colorbar\": {\"outlinewidth\": 0, \"ticks\": \"\"}, \"colorscale\": [[0.0, \"#0d0887\"], [0.1111111111111111, \"#46039f\"], [0.2222222222222222, \"#7201a8\"], [0.3333333333333333, \"#9c179e\"], [0.4444444444444444, \"#bd3786\"], [0.5555555555555556, \"#d8576b\"], [0.6666666666666666, \"#ed7953\"], [0.7777777777777778, \"#fb9f3a\"], [0.8888888888888888, \"#fdca26\"], [1.0, \"#f0f921\"]], \"type\": \"contour\"}], \"contourcarpet\": [{\"colorbar\": {\"outlinewidth\": 0, \"ticks\": \"\"}, \"type\": \"contourcarpet\"}], \"heatmap\": [{\"colorbar\": {\"outlinewidth\": 0, \"ticks\": \"\"}, \"colorscale\": [[0.0, \"#0d0887\"], [0.1111111111111111, \"#46039f\"], [0.2222222222222222, \"#7201a8\"], [0.3333333333333333, \"#9c179e\"], [0.4444444444444444, \"#bd3786\"], [0.5555555555555556, \"#d8576b\"], [0.6666666666666666, \"#ed7953\"], [0.7777777777777778, \"#fb9f3a\"], [0.8888888888888888, \"#fdca26\"], [1.0, \"#f0f921\"]], \"type\": \"heatmap\"}], \"heatmapgl\": [{\"colorbar\": {\"outlinewidth\": 0, \"ticks\": \"\"}, \"colorscale\": [[0.0, \"#0d0887\"], [0.1111111111111111, \"#46039f\"], [0.2222222222222222, \"#7201a8\"], [0.3333333333333333, \"#9c179e\"], [0.4444444444444444, \"#bd3786\"], [0.5555555555555556, \"#d8576b\"], [0.6666666666666666, \"#ed7953\"], [0.7777777777777778, \"#fb9f3a\"], [0.8888888888888888, \"#fdca26\"], [1.0, \"#f0f921\"]], \"type\": \"heatmapgl\"}], \"histogram\": [{\"marker\": {\"colorbar\": {\"outlinewidth\": 0, \"ticks\": \"\"}}, \"type\": \"histogram\"}], \"histogram2d\": [{\"colorbar\": {\"outlinewidth\": 0, \"ticks\": \"\"}, \"colorscale\": [[0.0, \"#0d0887\"], [0.1111111111111111, \"#46039f\"], [0.2222222222222222, \"#7201a8\"], [0.3333333333333333, \"#9c179e\"], [0.4444444444444444, \"#bd3786\"], [0.5555555555555556, \"#d8576b\"], [0.6666666666666666, \"#ed7953\"], [0.7777777777777778, \"#fb9f3a\"], [0.8888888888888888, \"#fdca26\"], [1.0, \"#f0f921\"]], \"type\": \"histogram2d\"}], \"histogram2dcontour\": [{\"colorbar\": {\"outlinewidth\": 0, \"ticks\": \"\"}, \"colorscale\": [[0.0, \"#0d0887\"], [0.1111111111111111, \"#46039f\"], [0.2222222222222222, \"#7201a8\"], [0.3333333333333333, \"#9c179e\"], [0.4444444444444444, \"#bd3786\"], [0.5555555555555556, \"#d8576b\"], [0.6666666666666666, \"#ed7953\"], [0.7777777777777778, \"#fb9f3a\"], [0.8888888888888888, \"#fdca26\"], [1.0, \"#f0f921\"]], \"type\": \"histogram2dcontour\"}], \"mesh3d\": [{\"colorbar\": {\"outlinewidth\": 0, \"ticks\": \"\"}, \"type\": \"mesh3d\"}], \"parcoords\": [{\"line\": {\"colorbar\": {\"outlinewidth\": 0, \"ticks\": \"\"}}, \"type\": \"parcoords\"}], \"pie\": [{\"automargin\": true, \"type\": \"pie\"}], \"scatter\": [{\"marker\": {\"colorbar\": {\"outlinewidth\": 0, \"ticks\": \"\"}}, \"type\": \"scatter\"}], \"scatter3d\": [{\"line\": {\"colorbar\": {\"outlinewidth\": 0, \"ticks\": \"\"}}, \"marker\": {\"colorbar\": {\"outlinewidth\": 0, \"ticks\": \"\"}}, \"type\": \"scatter3d\"}], \"scattercarpet\": [{\"marker\": {\"colorbar\": {\"outlinewidth\": 0, \"ticks\": \"\"}}, \"type\": \"scattercarpet\"}], \"scattergeo\": [{\"marker\": {\"colorbar\": {\"outlinewidth\": 0, \"ticks\": \"\"}}, \"type\": \"scattergeo\"}], \"scattergl\": [{\"marker\": {\"colorbar\": {\"outlinewidth\": 0, \"ticks\": \"\"}}, \"type\": \"scattergl\"}], \"scattermapbox\": [{\"marker\": {\"colorbar\": {\"outlinewidth\": 0, \"ticks\": \"\"}}, \"type\": \"scattermapbox\"}], \"scatterpolar\": [{\"marker\": {\"colorbar\": {\"outlinewidth\": 0, \"ticks\": \"\"}}, \"type\": \"scatterpolar\"}], \"scatterpolargl\": [{\"marker\": {\"colorbar\": {\"outlinewidth\": 0, \"ticks\": \"\"}}, \"type\": \"scatterpolargl\"}], \"scatterternary\": [{\"marker\": {\"colorbar\": {\"outlinewidth\": 0, \"ticks\": \"\"}}, \"type\": \"scatterternary\"}], \"surface\": [{\"colorbar\": {\"outlinewidth\": 0, \"ticks\": \"\"}, \"colorscale\": [[0.0, \"#0d0887\"], [0.1111111111111111, \"#46039f\"], [0.2222222222222222, \"#7201a8\"], [0.3333333333333333, \"#9c179e\"], [0.4444444444444444, \"#bd3786\"], [0.5555555555555556, \"#d8576b\"], [0.6666666666666666, \"#ed7953\"], [0.7777777777777778, \"#fb9f3a\"], [0.8888888888888888, \"#fdca26\"], [1.0, \"#f0f921\"]], \"type\": \"surface\"}], \"table\": [{\"cells\": {\"fill\": {\"color\": \"#EBF0F8\"}, \"line\": {\"color\": \"white\"}}, \"header\": {\"fill\": {\"color\": \"#C8D4E3\"}, \"line\": {\"color\": \"white\"}}, \"type\": \"table\"}]}, \"layout\": {\"annotationdefaults\": {\"arrowcolor\": \"#2a3f5f\", \"arrowhead\": 0, \"arrowwidth\": 1}, \"autotypenumbers\": \"strict\", \"coloraxis\": {\"colorbar\": {\"outlinewidth\": 0, \"ticks\": \"\"}}, \"colorscale\": {\"diverging\": [[0, \"#8e0152\"], [0.1, \"#c51b7d\"], [0.2, \"#de77ae\"], [0.3, \"#f1b6da\"], [0.4, \"#fde0ef\"], [0.5, \"#f7f7f7\"], [0.6, \"#e6f5d0\"], [0.7, \"#b8e186\"], [0.8, \"#7fbc41\"], [0.9, \"#4d9221\"], [1, \"#276419\"]], \"sequential\": [[0.0, \"#0d0887\"], [0.1111111111111111, \"#46039f\"], [0.2222222222222222, \"#7201a8\"], [0.3333333333333333, \"#9c179e\"], [0.4444444444444444, \"#bd3786\"], [0.5555555555555556, \"#d8576b\"], [0.6666666666666666, \"#ed7953\"], [0.7777777777777778, \"#fb9f3a\"], [0.8888888888888888, \"#fdca26\"], [1.0, \"#f0f921\"]], \"sequentialminus\": [[0.0, \"#0d0887\"], [0.1111111111111111, \"#46039f\"], [0.2222222222222222, \"#7201a8\"], [0.3333333333333333, \"#9c179e\"], [0.4444444444444444, \"#bd3786\"], [0.5555555555555556, \"#d8576b\"], [0.6666666666666666, \"#ed7953\"], [0.7777777777777778, \"#fb9f3a\"], [0.8888888888888888, \"#fdca26\"], [1.0, \"#f0f921\"]]}, \"colorway\": [\"#636efa\", \"#EF553B\", \"#00cc96\", \"#ab63fa\", \"#FFA15A\", \"#19d3f3\", \"#FF6692\", \"#B6E880\", \"#FF97FF\", \"#FECB52\"], \"font\": {\"color\": \"#2a3f5f\"}, \"geo\": {\"bgcolor\": \"white\", \"lakecolor\": \"white\", \"landcolor\": \"#E5ECF6\", \"showlakes\": true, \"showland\": true, \"subunitcolor\": \"white\"}, \"hoverlabel\": {\"align\": \"left\"}, \"hovermode\": \"closest\", \"mapbox\": {\"style\": \"light\"}, \"paper_bgcolor\": \"white\", \"plot_bgcolor\": \"#E5ECF6\", \"polar\": {\"angularaxis\": {\"gridcolor\": \"white\", \"linecolor\": \"white\", \"ticks\": \"\"}, \"bgcolor\": \"#E5ECF6\", \"radialaxis\": {\"gridcolor\": \"white\", \"linecolor\": \"white\", \"ticks\": \"\"}}, \"scene\": {\"xaxis\": {\"backgroundcolor\": \"#E5ECF6\", \"gridcolor\": \"white\", \"gridwidth\": 2, \"linecolor\": \"white\", \"showbackground\": true, \"ticks\": \"\", \"zerolinecolor\": \"white\"}, \"yaxis\": {\"backgroundcolor\": \"#E5ECF6\", \"gridcolor\": \"white\", \"gridwidth\": 2, \"linecolor\": \"white\", \"showbackground\": true, \"ticks\": \"\", \"zerolinecolor\": \"white\"}, \"zaxis\": {\"backgroundcolor\": \"#E5ECF6\", \"gridcolor\": \"white\", \"gridwidth\": 2, \"linecolor\": \"white\", \"showbackground\": true, \"ticks\": \"\", \"zerolinecolor\": \"white\"}}, \"shapedefaults\": {\"line\": {\"color\": \"#2a3f5f\"}}, \"ternary\": {\"aaxis\": {\"gridcolor\": \"white\", \"linecolor\": \"white\", \"ticks\": \"\"}, \"baxis\": {\"gridcolor\": \"white\", \"linecolor\": \"white\", \"ticks\": \"\"}, \"bgcolor\": \"#E5ECF6\", \"caxis\": {\"gridcolor\": \"white\", \"linecolor\": \"white\", \"ticks\": \"\"}}, \"title\": {\"x\": 0.05}, \"xaxis\": {\"automargin\": true, \"gridcolor\": \"white\", \"linecolor\": \"white\", \"ticks\": \"\", \"title\": {\"standoff\": 15}, \"zerolinecolor\": \"white\", \"zerolinewidth\": 2}, \"yaxis\": {\"automargin\": true, \"gridcolor\": \"white\", \"linecolor\": \"white\", \"ticks\": \"\", \"title\": {\"standoff\": 15}, \"zerolinecolor\": \"white\", \"zerolinewidth\": 2}}}},                        {\"responsive\": true}                    ).then(function(){\n",
       "                            \n",
       "var gd = document.getElementById('92e4df33-8a61-4dfd-b590-535017a1f358');\n",
       "var x = new MutationObserver(function (mutations, observer) {{\n",
       "        var display = window.getComputedStyle(gd).display;\n",
       "        if (!display || display === 'none') {{\n",
       "            console.log([gd, 'removed!']);\n",
       "            Plotly.purge(gd);\n",
       "            observer.disconnect();\n",
       "        }}\n",
       "}});\n",
       "\n",
       "// Listen for the removal of the full notebook cells\n",
       "var notebookContainer = gd.closest('#notebook-container');\n",
       "if (notebookContainer) {{\n",
       "    x.observe(notebookContainer, {childList: true});\n",
       "}}\n",
       "\n",
       "// Listen for the clearing of the current output cell\n",
       "var outputEl = gd.closest('.output');\n",
       "if (outputEl) {{\n",
       "    x.observe(outputEl, {childList: true});\n",
       "}}\n",
       "\n",
       "                        })                };                });            </script>        </div>"
      ]
     },
     "metadata": {},
     "output_type": "display_data"
    }
   ],
   "source": [
    "df = pd.read_csv('/kaggle/input/titanic/train.csv')\n",
    "fig = px.scatter_3d(df, x='Name', y='Sex', z='Age',\n",
    "                    color='Age')\n",
    "fig.show()"
   ]
  },
  {
   "cell_type": "code",
   "execution_count": 11,
   "metadata": {
    "execution": {
     "iopub.execute_input": "2021-03-29T03:34:38.705350Z",
     "iopub.status.busy": "2021-03-29T03:34:38.700049Z",
     "iopub.status.idle": "2021-03-29T03:34:38.708663Z",
     "shell.execute_reply": "2021-03-29T03:34:38.708210Z"
    },
    "papermill": {
     "duration": 0.051754,
     "end_time": "2021-03-29T03:34:38.708768",
     "exception": false,
     "start_time": "2021-03-29T03:34:38.657014",
     "status": "completed"
    },
    "tags": []
   },
   "outputs": [
    {
     "data": {
      "text/html": [
       "<div>\n",
       "<style scoped>\n",
       "    .dataframe tbody tr th:only-of-type {\n",
       "        vertical-align: middle;\n",
       "    }\n",
       "\n",
       "    .dataframe tbody tr th {\n",
       "        vertical-align: top;\n",
       "    }\n",
       "\n",
       "    .dataframe thead th {\n",
       "        text-align: right;\n",
       "    }\n",
       "</style>\n",
       "<table border=\"1\" class=\"dataframe\">\n",
       "  <thead>\n",
       "    <tr style=\"text-align: right;\">\n",
       "      <th></th>\n",
       "      <th>Pclass</th>\n",
       "    </tr>\n",
       "    <tr>\n",
       "      <th>Survived</th>\n",
       "      <th></th>\n",
       "    </tr>\n",
       "  </thead>\n",
       "  <tbody>\n",
       "    <tr>\n",
       "      <th>0</th>\n",
       "      <td>549</td>\n",
       "    </tr>\n",
       "    <tr>\n",
       "      <th>1</th>\n",
       "      <td>342</td>\n",
       "    </tr>\n",
       "  </tbody>\n",
       "</table>\n",
       "</div>"
      ],
      "text/plain": [
       "          Pclass\n",
       "Survived        \n",
       "0            549\n",
       "1            342"
      ]
     },
     "execution_count": 11,
     "metadata": {},
     "output_type": "execute_result"
    }
   ],
   "source": [
    "titanic[['Pclass','Survived']].groupby(['Survived'],as_index=True).count()"
   ]
  },
  {
   "cell_type": "code",
   "execution_count": 12,
   "metadata": {
    "execution": {
     "iopub.execute_input": "2021-03-29T03:34:38.792598Z",
     "iopub.status.busy": "2021-03-29T03:34:38.792073Z",
     "iopub.status.idle": "2021-03-29T03:34:38.797783Z",
     "shell.execute_reply": "2021-03-29T03:34:38.797340Z"
    },
    "papermill": {
     "duration": 0.051049,
     "end_time": "2021-03-29T03:34:38.797883",
     "exception": false,
     "start_time": "2021-03-29T03:34:38.746834",
     "status": "completed"
    },
    "tags": []
   },
   "outputs": [
    {
     "data": {
      "text/html": [
       "<div>\n",
       "<style scoped>\n",
       "    .dataframe tbody tr th:only-of-type {\n",
       "        vertical-align: middle;\n",
       "    }\n",
       "\n",
       "    .dataframe tbody tr th {\n",
       "        vertical-align: top;\n",
       "    }\n",
       "\n",
       "    .dataframe thead th {\n",
       "        text-align: right;\n",
       "    }\n",
       "</style>\n",
       "<table border=\"1\" class=\"dataframe\">\n",
       "  <thead>\n",
       "    <tr style=\"text-align: right;\">\n",
       "      <th></th>\n",
       "      <th>Pclass</th>\n",
       "    </tr>\n",
       "    <tr>\n",
       "      <th>Survived</th>\n",
       "      <th></th>\n",
       "    </tr>\n",
       "  </thead>\n",
       "  <tbody>\n",
       "    <tr>\n",
       "      <th>0</th>\n",
       "      <td>549</td>\n",
       "    </tr>\n",
       "    <tr>\n",
       "      <th>1</th>\n",
       "      <td>342</td>\n",
       "    </tr>\n",
       "  </tbody>\n",
       "</table>\n",
       "</div>"
      ],
      "text/plain": [
       "          Pclass\n",
       "Survived        \n",
       "0            549\n",
       "1            342"
      ]
     },
     "execution_count": 12,
     "metadata": {},
     "output_type": "execute_result"
    }
   ],
   "source": [
    "titanic[['Pclass','Survived']].groupby(['Survived'],as_index=True).count()"
   ]
  },
  {
   "cell_type": "code",
   "execution_count": 13,
   "metadata": {
    "execution": {
     "iopub.execute_input": "2021-03-29T03:34:38.882063Z",
     "iopub.status.busy": "2021-03-29T03:34:38.881254Z",
     "iopub.status.idle": "2021-03-29T03:34:39.050430Z",
     "shell.execute_reply": "2021-03-29T03:34:39.050012Z"
    },
    "papermill": {
     "duration": 0.213771,
     "end_time": "2021-03-29T03:34:39.050561",
     "exception": false,
     "start_time": "2021-03-29T03:34:38.836790",
     "status": "completed"
    },
    "tags": []
   },
   "outputs": [
    {
     "data": {
      "text/html": [
       "<style  type=\"text/css\" >\n",
       "#T_b0ea2186_903f_11eb_88d4_0242ac130202row0_col0,#T_b0ea2186_903f_11eb_88d4_0242ac130202row1_col1,#T_b0ea2186_903f_11eb_88d4_0242ac130202row1_col2{\n",
       "            background-color:  #ffff66;\n",
       "            color:  #000000;\n",
       "        }#T_b0ea2186_903f_11eb_88d4_0242ac130202row0_col1{\n",
       "            background-color:  #cee666;\n",
       "            color:  #000000;\n",
       "        }#T_b0ea2186_903f_11eb_88d4_0242ac130202row0_col2{\n",
       "            background-color:  #f4fa66;\n",
       "            color:  #000000;\n",
       "        }#T_b0ea2186_903f_11eb_88d4_0242ac130202row1_col0{\n",
       "            background-color:  #f6fa66;\n",
       "            color:  #000000;\n",
       "        }#T_b0ea2186_903f_11eb_88d4_0242ac130202row2_col0{\n",
       "            background-color:  #60b066;\n",
       "            color:  #000000;\n",
       "        }#T_b0ea2186_903f_11eb_88d4_0242ac130202row2_col1{\n",
       "            background-color:  #dfef66;\n",
       "            color:  #000000;\n",
       "        }#T_b0ea2186_903f_11eb_88d4_0242ac130202row2_col2{\n",
       "            background-color:  #90c866;\n",
       "            color:  #000000;\n",
       "        }#T_b0ea2186_903f_11eb_88d4_0242ac130202row3_col0,#T_b0ea2186_903f_11eb_88d4_0242ac130202row3_col1,#T_b0ea2186_903f_11eb_88d4_0242ac130202row3_col2{\n",
       "            background-color:  #008066;\n",
       "            color:  #f1f1f1;\n",
       "        }</style><table id=\"T_b0ea2186_903f_11eb_88d4_0242ac130202\" ><thead>    <tr>        <th class=\"index_name level0\" >Survived</th>        <th class=\"col_heading level0 col0\" >0</th>        <th class=\"col_heading level0 col1\" >1</th>        <th class=\"col_heading level0 col2\" >All</th>    </tr>    <tr>        <th class=\"index_name level0\" >Pclass</th>        <th class=\"blank\" ></th>        <th class=\"blank\" ></th>        <th class=\"blank\" ></th>    </tr></thead><tbody>\n",
       "                <tr>\n",
       "                        <th id=\"T_b0ea2186_903f_11eb_88d4_0242ac130202level0_row0\" class=\"row_heading level0 row0\" >1</th>\n",
       "                        <td id=\"T_b0ea2186_903f_11eb_88d4_0242ac130202row0_col0\" class=\"data row0 col0\" >80</td>\n",
       "                        <td id=\"T_b0ea2186_903f_11eb_88d4_0242ac130202row0_col1\" class=\"data row0 col1\" >136</td>\n",
       "                        <td id=\"T_b0ea2186_903f_11eb_88d4_0242ac130202row0_col2\" class=\"data row0 col2\" >216</td>\n",
       "            </tr>\n",
       "            <tr>\n",
       "                        <th id=\"T_b0ea2186_903f_11eb_88d4_0242ac130202level0_row1\" class=\"row_heading level0 row1\" >2</th>\n",
       "                        <td id=\"T_b0ea2186_903f_11eb_88d4_0242ac130202row1_col0\" class=\"data row1 col0\" >97</td>\n",
       "                        <td id=\"T_b0ea2186_903f_11eb_88d4_0242ac130202row1_col1\" class=\"data row1 col1\" >87</td>\n",
       "                        <td id=\"T_b0ea2186_903f_11eb_88d4_0242ac130202row1_col2\" class=\"data row1 col2\" >184</td>\n",
       "            </tr>\n",
       "            <tr>\n",
       "                        <th id=\"T_b0ea2186_903f_11eb_88d4_0242ac130202level0_row2\" class=\"row_heading level0 row2\" >3</th>\n",
       "                        <td id=\"T_b0ea2186_903f_11eb_88d4_0242ac130202row2_col0\" class=\"data row2 col0\" >372</td>\n",
       "                        <td id=\"T_b0ea2186_903f_11eb_88d4_0242ac130202row2_col1\" class=\"data row2 col1\" >119</td>\n",
       "                        <td id=\"T_b0ea2186_903f_11eb_88d4_0242ac130202row2_col2\" class=\"data row2 col2\" >491</td>\n",
       "            </tr>\n",
       "            <tr>\n",
       "                        <th id=\"T_b0ea2186_903f_11eb_88d4_0242ac130202level0_row3\" class=\"row_heading level0 row3\" >All</th>\n",
       "                        <td id=\"T_b0ea2186_903f_11eb_88d4_0242ac130202row3_col0\" class=\"data row3 col0\" >549</td>\n",
       "                        <td id=\"T_b0ea2186_903f_11eb_88d4_0242ac130202row3_col1\" class=\"data row3 col1\" >342</td>\n",
       "                        <td id=\"T_b0ea2186_903f_11eb_88d4_0242ac130202row3_col2\" class=\"data row3 col2\" >891</td>\n",
       "            </tr>\n",
       "    </tbody></table>"
      ],
      "text/plain": [
       "<pandas.io.formats.style.Styler at 0x7fe7e3c87550>"
      ]
     },
     "execution_count": 13,
     "metadata": {},
     "output_type": "execute_result"
    }
   ],
   "source": [
    "pd.crosstab(titanic['Pclass'],titanic['Survived'],margins=True).style.background_gradient(cmap='summer_r')"
   ]
  },
  {
   "cell_type": "code",
   "execution_count": 14,
   "metadata": {
    "execution": {
     "iopub.execute_input": "2021-03-29T03:34:39.159218Z",
     "iopub.status.busy": "2021-03-29T03:34:39.156372Z",
     "iopub.status.idle": "2021-03-29T03:34:39.266195Z",
     "shell.execute_reply": "2021-03-29T03:34:39.266600Z"
    },
    "papermill": {
     "duration": 0.176155,
     "end_time": "2021-03-29T03:34:39.266739",
     "exception": false,
     "start_time": "2021-03-29T03:34:39.090584",
     "status": "completed"
    },
    "tags": []
   },
   "outputs": [
    {
     "data": {
      "text/plain": [
       "<AxesSubplot:xlabel='Pclass'>"
      ]
     },
     "execution_count": 14,
     "metadata": {},
     "output_type": "execute_result"
    },
    {
     "data": {
      "image/png": "[encoded data removed]",
      "text/plain": [
       "<Figure size 432x288 with 1 Axes>"
      ]
     },
     "metadata": {
      "needs_background": "light"
     },
     "output_type": "display_data"
    }
   ],
   "source": [
    "titanic[['Pclass','Survived']].groupby(['Pclass'],as_index=True).mean().sort_values(by='Survived',ascending=False).plot.bar()"
   ]
  },
  {
   "cell_type": "code",
   "execution_count": 15,
   "metadata": {
    "execution": {
     "iopub.execute_input": "2021-03-29T03:34:39.367735Z",
     "iopub.status.busy": "2021-03-29T03:34:39.366943Z",
     "iopub.status.idle": "2021-03-29T03:34:39.580516Z",
     "shell.execute_reply": "2021-03-29T03:34:39.580928Z"
    },
    "papermill": {
     "duration": 0.273369,
     "end_time": "2021-03-29T03:34:39.581065",
     "exception": false,
     "start_time": "2021-03-29T03:34:39.307696",
     "status": "completed"
    },
    "tags": []
   },
   "outputs": [
    {
     "data": {
      "image/png": "[encoded data removed]",
      "text/plain": [
       "<Figure size 720x432 with 2 Axes>"
      ]
     },
     "metadata": {
      "needs_background": "light"
     },
     "output_type": "display_data"
    }
   ],
   "source": [
    "y_position = 1.02\n",
    "f, ax = plt.subplots(1, 2, figsize=(10, 6))\n",
    "titanic['Pclass'].value_counts().plot.bar(color=['#CD7F32','#FFDF00','#D3D3D3'], ax=ax[0])\n",
    "ax[0].set_title('Number of Passengers By Pclass', y=y_position)\n",
    "ax[0].set_ylabel('Count')\n",
    "sns.countplot('Pclass', hue='Survived', data=titanic, ax=ax[1])\n",
    "ax[1].set_title('Pclass: Survived vs Dead', y=y_position)\n",
    "plt.show()"
   ]
  },
  {
   "cell_type": "code",
   "execution_count": 16,
   "metadata": {
    "execution": {
     "iopub.execute_input": "2021-03-29T03:34:39.681928Z",
     "iopub.status.busy": "2021-03-29T03:34:39.680942Z",
     "iopub.status.idle": "2021-03-29T03:34:39.847110Z",
     "shell.execute_reply": "2021-03-29T03:34:39.847524Z"
    },
    "papermill": {
     "duration": 0.225467,
     "end_time": "2021-03-29T03:34:39.847657",
     "exception": false,
     "start_time": "2021-03-29T03:34:39.622190",
     "status": "completed"
    },
    "tags": []
   },
   "outputs": [
    {
     "data": {
      "image/png": "[encoded data removed]",
      "text/plain": [
       "<Figure size 720x360 with 1 Axes>"
      ]
     },
     "metadata": {
      "needs_background": "light"
     },
     "output_type": "display_data"
    }
   ],
   "source": [
    "fig,ax = plt.subplots(1,1,figsize=(10,5))\n",
    "sns.kdeplot(titanic[titanic['Survived']==1]['Age'],ax=ax)\n",
    "sns.kdeplot(titanic[titanic['Survived']==0]['Age'],ax=ax)\n",
    "plt.legend(['Survived = 1','Survived = 0'])\n",
    "plt.show()\n"
   ]
  },
  {
   "cell_type": "code",
   "execution_count": 17,
   "metadata": {
    "execution": {
     "iopub.execute_input": "2021-03-29T03:34:39.938212Z",
     "iopub.status.busy": "2021-03-29T03:34:39.937430Z",
     "iopub.status.idle": "2021-03-29T03:34:40.306182Z",
     "shell.execute_reply": "2021-03-29T03:34:40.306673Z"
    },
    "papermill": {
     "duration": 0.417254,
     "end_time": "2021-03-29T03:34:40.306825",
     "exception": false,
     "start_time": "2021-03-29T03:34:39.889571",
     "status": "completed"
    },
    "tags": []
   },
   "outputs": [
    {
     "data": {
      "image/png": "[encoded data removed]",
      "text/plain": [
       "<Figure size 1080x720 with 2 Axes>"
      ]
     },
     "metadata": {
      "needs_background": "light"
     },
     "output_type": "display_data"
    }
   ],
   "source": [
    "f,ax=plt.subplots(1,2,figsize=[15,10])\n",
    "\n",
    "sns.violinplot(\"Pclass\",\"Age\",hue=\"Survived\",data=titanic,scale=\"count\",split=True,ax=ax[0])\n",
    "ax[0].set_title(\"Pclass and Age vs Survivied\")\n",
    "ax[0].set_yticks(range(0,110,10))\n",
    "\n",
    "sns.violinplot(\"Sex\",\"Age\",hue=\"Survived\",data=titanic,scale=\"count\",split=True,ax=ax[1])\n",
    "ax[1].set_title(\"Sex and Age vs Survivied\")\n",
    "ax[1].set_yticks(range(0,110,10))\n",
    "\n",
    "plt.show()"
   ]
  },
  {
   "cell_type": "code",
   "execution_count": 18,
   "metadata": {
    "execution": {
     "iopub.execute_input": "2021-03-29T03:34:40.413563Z",
     "iopub.status.busy": "2021-03-29T03:34:40.412746Z",
     "iopub.status.idle": "2021-03-29T03:34:40.647846Z",
     "shell.execute_reply": "2021-03-29T03:34:40.647348Z"
    },
    "papermill": {
     "duration": 0.296641,
     "end_time": "2021-03-29T03:34:40.647964",
     "exception": false,
     "start_time": "2021-03-29T03:34:40.351323",
     "status": "completed"
    },
    "tags": []
   },
   "outputs": [
    {
     "data": {
      "text/plain": [
       "<matplotlib.legend.Legend at 0x7fe7e2ced050>"
      ]
     },
     "execution_count": 18,
     "metadata": {},
     "output_type": "execute_result"
    },
    {
     "data": {
      "image/png": "[encoded data removed]",
      "text/plain": [
       "<Figure size 576x576 with 1 Axes>"
      ]
     },
     "metadata": {
      "needs_background": "light"
     },
     "output_type": "display_data"
    }
   ],
   "source": [
    "f, ax = plt.subplots(1, 1, figsize=(8, 8))\n",
    "sns.distplot(titanic['Fare'], color='b', label='Skewness : {:.2f}'.format(titanic['Fare'].skew()), ax=ax)\n",
    "plt.legend(loc='best')"
   ]
  },
  {
   "cell_type": "markdown",
   "metadata": {
    "papermill": {
     "duration": 0.044901,
     "end_time": "2021-03-29T03:34:40.740738",
     "exception": false,
     "start_time": "2021-03-29T03:34:40.695837",
     "status": "completed"
    },
    "tags": []
   },
   "source": [
    "# Preprocessing\n",
    "* NULL Value Preprocessing\n",
    "* Drop Columns\n",
    "* Skeweness Value(Outlier) Preprocessing"
   ]
  },
  {
   "cell_type": "code",
   "execution_count": 19,
   "metadata": {
    "execution": {
     "iopub.execute_input": "2021-03-29T03:34:40.838379Z",
     "iopub.status.busy": "2021-03-29T03:34:40.837690Z",
     "iopub.status.idle": "2021-03-29T03:34:40.840335Z",
     "shell.execute_reply": "2021-03-29T03:34:40.839950Z"
    },
    "papermill": {
     "duration": 0.054384,
     "end_time": "2021-03-29T03:34:40.840449",
     "exception": false,
     "start_time": "2021-03-29T03:34:40.786065",
     "status": "completed"
    },
    "tags": []
   },
   "outputs": [],
   "source": [
    "titanic['Age'] = titanic['Age'].fillna(titanic['Age'].median())\n",
    "titanic['Cabin'] = titanic['Cabin'].fillna(\"N\")\n",
    "titanic['Embarked'] = titanic['Embarked'].fillna(\"N\")"
   ]
  },
  {
   "cell_type": "code",
   "execution_count": 20,
   "metadata": {
    "execution": {
     "iopub.execute_input": "2021-03-29T03:34:40.944789Z",
     "iopub.status.busy": "2021-03-29T03:34:40.943946Z",
     "iopub.status.idle": "2021-03-29T03:34:40.947961Z",
     "shell.execute_reply": "2021-03-29T03:34:40.947563Z"
    },
    "papermill": {
     "duration": 0.062262,
     "end_time": "2021-03-29T03:34:40.948063",
     "exception": false,
     "start_time": "2021-03-29T03:34:40.885801",
     "status": "completed"
    },
    "tags": []
   },
   "outputs": [
    {
     "data": {
      "text/html": [
       "<div>\n",
       "<style scoped>\n",
       "    .dataframe tbody tr th:only-of-type {\n",
       "        vertical-align: middle;\n",
       "    }\n",
       "\n",
       "    .dataframe tbody tr th {\n",
       "        vertical-align: top;\n",
       "    }\n",
       "\n",
       "    .dataframe thead th {\n",
       "        text-align: right;\n",
       "    }\n",
       "</style>\n",
       "<table border=\"1\" class=\"dataframe\">\n",
       "  <thead>\n",
       "    <tr style=\"text-align: right;\">\n",
       "      <th></th>\n",
       "      <th>PassengerId</th>\n",
       "      <th>Survived</th>\n",
       "      <th>Pclass</th>\n",
       "      <th>Name</th>\n",
       "      <th>Sex</th>\n",
       "      <th>Age</th>\n",
       "      <th>SibSp</th>\n",
       "      <th>Parch</th>\n",
       "      <th>Ticket</th>\n",
       "      <th>Fare</th>\n",
       "      <th>Cabin</th>\n",
       "      <th>Embarked</th>\n",
       "    </tr>\n",
       "  </thead>\n",
       "  <tbody>\n",
       "    <tr>\n",
       "      <th>0</th>\n",
       "      <td>1</td>\n",
       "      <td>0</td>\n",
       "      <td>3</td>\n",
       "      <td>Braund, Mr. Owen Harris</td>\n",
       "      <td>male</td>\n",
       "      <td>22.0</td>\n",
       "      <td>1</td>\n",
       "      <td>0</td>\n",
       "      <td>A/5 21171</td>\n",
       "      <td>7.2500</td>\n",
       "      <td>N</td>\n",
       "      <td>S</td>\n",
       "    </tr>\n",
       "    <tr>\n",
       "      <th>1</th>\n",
       "      <td>2</td>\n",
       "      <td>1</td>\n",
       "      <td>1</td>\n",
       "      <td>Cumings, Mrs. John Bradley (Florence Briggs Th...</td>\n",
       "      <td>female</td>\n",
       "      <td>38.0</td>\n",
       "      <td>1</td>\n",
       "      <td>0</td>\n",
       "      <td>PC 17599</td>\n",
       "      <td>71.2833</td>\n",
       "      <td>C85</td>\n",
       "      <td>C</td>\n",
       "    </tr>\n",
       "    <tr>\n",
       "      <th>2</th>\n",
       "      <td>3</td>\n",
       "      <td>1</td>\n",
       "      <td>3</td>\n",
       "      <td>Heikkinen, Miss. Laina</td>\n",
       "      <td>female</td>\n",
       "      <td>26.0</td>\n",
       "      <td>0</td>\n",
       "      <td>0</td>\n",
       "      <td>STON/O2. 3101282</td>\n",
       "      <td>7.9250</td>\n",
       "      <td>N</td>\n",
       "      <td>S</td>\n",
       "    </tr>\n",
       "    <tr>\n",
       "      <th>3</th>\n",
       "      <td>4</td>\n",
       "      <td>1</td>\n",
       "      <td>1</td>\n",
       "      <td>Futrelle, Mrs. Jacques Heath (Lily May Peel)</td>\n",
       "      <td>female</td>\n",
       "      <td>35.0</td>\n",
       "      <td>1</td>\n",
       "      <td>0</td>\n",
       "      <td>113803</td>\n",
       "      <td>53.1000</td>\n",
       "      <td>C123</td>\n",
       "      <td>S</td>\n",
       "    </tr>\n",
       "    <tr>\n",
       "      <th>4</th>\n",
       "      <td>5</td>\n",
       "      <td>0</td>\n",
       "      <td>3</td>\n",
       "      <td>Allen, Mr. William Henry</td>\n",
       "      <td>male</td>\n",
       "      <td>35.0</td>\n",
       "      <td>0</td>\n",
       "      <td>0</td>\n",
       "      <td>373450</td>\n",
       "      <td>8.0500</td>\n",
       "      <td>N</td>\n",
       "      <td>S</td>\n",
       "    </tr>\n",
       "  </tbody>\n",
       "</table>\n",
       "</div>"
      ],
      "text/plain": [
       "   PassengerId  Survived  Pclass  \\\n",
       "0            1         0       3   \n",
       "1            2         1       1   \n",
       "2            3         1       3   \n",
       "3            4         1       1   \n",
       "4            5         0       3   \n",
       "\n",
       "                                                Name     Sex   Age  SibSp  \\\n",
       "0                            Braund, Mr. Owen Harris    male  22.0      1   \n",
       "1  Cumings, Mrs. John Bradley (Florence Briggs Th...  female  38.0      1   \n",
       "2                             Heikkinen, Miss. Laina  female  26.0      0   \n",
       "3       Futrelle, Mrs. Jacques Heath (Lily May Peel)  female  35.0      1   \n",
       "4                           Allen, Mr. William Henry    male  35.0      0   \n",
       "\n",
       "   Parch            Ticket     Fare Cabin Embarked  \n",
       "0      0         A/5 21171   7.2500     N        S  \n",
       "1      0          PC 17599  71.2833   C85        C  \n",
       "2      0  STON/O2. 3101282   7.9250     N        S  \n",
       "3      0            113803  53.1000  C123        S  \n",
       "4      0            373450   8.0500     N        S  "
      ]
     },
     "execution_count": 20,
     "metadata": {},
     "output_type": "execute_result"
    }
   ],
   "source": [
    "titanic.head()"
   ]
  },
  {
   "cell_type": "code",
   "execution_count": 21,
   "metadata": {
    "execution": {
     "iopub.execute_input": "2021-03-29T03:34:41.049424Z",
     "iopub.status.busy": "2021-03-29T03:34:41.048656Z",
     "iopub.status.idle": "2021-03-29T03:34:41.050954Z",
     "shell.execute_reply": "2021-03-29T03:34:41.051329Z"
    },
    "papermill": {
     "duration": 0.056634,
     "end_time": "2021-03-29T03:34:41.051450",
     "exception": false,
     "start_time": "2021-03-29T03:34:40.994816",
     "status": "completed"
    },
    "tags": []
   },
   "outputs": [],
   "source": [
    "titanic.loc[titanic[\"Fare\"].isnull(),\"Fare\"] = titanic[\"Fare\"].mean()\n",
    "titanic[\"Fare\"] = titanic[\"Fare\"].map(lambda i : np.log(i) if i > 0 else 0)"
   ]
  },
  {
   "cell_type": "code",
   "execution_count": 22,
   "metadata": {
    "execution": {
     "iopub.execute_input": "2021-03-29T03:34:41.162872Z",
     "iopub.status.busy": "2021-03-29T03:34:41.162087Z",
     "iopub.status.idle": "2021-03-29T03:34:41.351548Z",
     "shell.execute_reply": "2021-03-29T03:34:41.351958Z"
    },
    "papermill": {
     "duration": 0.254312,
     "end_time": "2021-03-29T03:34:41.352090",
     "exception": false,
     "start_time": "2021-03-29T03:34:41.097778",
     "status": "completed"
    },
    "tags": []
   },
   "outputs": [
    {
     "data": {
      "text/plain": [
       "<matplotlib.legend.Legend at 0x7fe7e1b93490>"
      ]
     },
     "execution_count": 22,
     "metadata": {},
     "output_type": "execute_result"
    },
    {
     "data": {
      "image/png": "[encoded data removed]",
      "text/plain": [
       "<Figure size 576x576 with 1 Axes>"
      ]
     },
     "metadata": {
      "needs_background": "light"
     },
     "output_type": "display_data"
    }
   ],
   "source": [
    "f, ax = plt.subplots(1, 1, figsize=(8, 8))\n",
    "sns.distplot(titanic['Fare'], color='b', label='Skewness : {:.2f}'.format(titanic['Fare'].skew()), ax=ax)\n",
    "plt.legend(loc='best')"
   ]
  },
  {
   "cell_type": "code",
   "execution_count": 23,
   "metadata": {
    "execution": {
     "iopub.execute_input": "2021-03-29T03:34:41.463913Z",
     "iopub.status.busy": "2021-03-29T03:34:41.463133Z",
     "iopub.status.idle": "2021-03-29T03:34:41.543619Z",
     "shell.execute_reply": "2021-03-29T03:34:41.544026Z"
    },
    "papermill": {
     "duration": 0.144457,
     "end_time": "2021-03-29T03:34:41.544155",
     "exception": false,
     "start_time": "2021-03-29T03:34:41.399698",
     "status": "completed"
    },
    "tags": []
   },
   "outputs": [
    {
     "data": {
      "text/plain": [
       "{'whiskers': [<matplotlib.lines.Line2D at 0x7fe7e1af7f50>,\n",
       "  <matplotlib.lines.Line2D at 0x7fe7e1afe3d0>],\n",
       " 'caps': [<matplotlib.lines.Line2D at 0x7fe7e1afe810>,\n",
       "  <matplotlib.lines.Line2D at 0x7fe7e1afec50>],\n",
       " 'boxes': [<matplotlib.lines.Line2D at 0x7fe7e1af7b50>],\n",
       " 'medians': [<matplotlib.lines.Line2D at 0x7fe7e1a88110>],\n",
       " 'fliers': [<matplotlib.lines.Line2D at 0x7fe7e1a88550>],\n",
       " 'means': []}"
      ]
     },
     "execution_count": 23,
     "metadata": {},
     "output_type": "execute_result"
    },
    {
     "data": {
      "image/png": "[encoded data removed]",
      "text/plain": [
       "<Figure size 432x288 with 1 Axes>"
      ]
     },
     "metadata": {
      "needs_background": "light"
     },
     "output_type": "display_data"
    }
   ],
   "source": [
    "plt.boxplot(titanic['Fare'])"
   ]
  },
  {
   "cell_type": "code",
   "execution_count": 24,
   "metadata": {
    "execution": {
     "iopub.execute_input": "2021-03-29T03:34:41.655644Z",
     "iopub.status.busy": "2021-03-29T03:34:41.654769Z",
     "iopub.status.idle": "2021-03-29T03:34:41.658638Z",
     "shell.execute_reply": "2021-03-29T03:34:41.658230Z"
    },
    "papermill": {
     "duration": 0.066233,
     "end_time": "2021-03-29T03:34:41.658746",
     "exception": false,
     "start_time": "2021-03-29T03:34:41.592513",
     "status": "completed"
    },
    "tags": []
   },
   "outputs": [
    {
     "data": {
      "text/html": [
       "<div>\n",
       "<style scoped>\n",
       "    .dataframe tbody tr th:only-of-type {\n",
       "        vertical-align: middle;\n",
       "    }\n",
       "\n",
       "    .dataframe tbody tr th {\n",
       "        vertical-align: top;\n",
       "    }\n",
       "\n",
       "    .dataframe thead th {\n",
       "        text-align: right;\n",
       "    }\n",
       "</style>\n",
       "<table border=\"1\" class=\"dataframe\">\n",
       "  <thead>\n",
       "    <tr style=\"text-align: right;\">\n",
       "      <th></th>\n",
       "      <th>PassengerId</th>\n",
       "      <th>Survived</th>\n",
       "      <th>Pclass</th>\n",
       "      <th>Name</th>\n",
       "      <th>Sex</th>\n",
       "      <th>Age</th>\n",
       "      <th>SibSp</th>\n",
       "      <th>Parch</th>\n",
       "      <th>Ticket</th>\n",
       "      <th>Fare</th>\n",
       "      <th>Cabin</th>\n",
       "      <th>Embarked</th>\n",
       "    </tr>\n",
       "  </thead>\n",
       "  <tbody>\n",
       "    <tr>\n",
       "      <th>0</th>\n",
       "      <td>1</td>\n",
       "      <td>0</td>\n",
       "      <td>3</td>\n",
       "      <td>Braund, Mr. Owen Harris</td>\n",
       "      <td>male</td>\n",
       "      <td>22.0</td>\n",
       "      <td>1</td>\n",
       "      <td>0</td>\n",
       "      <td>A/5 21171</td>\n",
       "      <td>1.981001</td>\n",
       "      <td>N</td>\n",
       "      <td>S</td>\n",
       "    </tr>\n",
       "    <tr>\n",
       "      <th>1</th>\n",
       "      <td>2</td>\n",
       "      <td>1</td>\n",
       "      <td>1</td>\n",
       "      <td>Cumings, Mrs. John Bradley (Florence Briggs Th...</td>\n",
       "      <td>female</td>\n",
       "      <td>38.0</td>\n",
       "      <td>1</td>\n",
       "      <td>0</td>\n",
       "      <td>PC 17599</td>\n",
       "      <td>4.266662</td>\n",
       "      <td>C</td>\n",
       "      <td>C</td>\n",
       "    </tr>\n",
       "    <tr>\n",
       "      <th>2</th>\n",
       "      <td>3</td>\n",
       "      <td>1</td>\n",
       "      <td>3</td>\n",
       "      <td>Heikkinen, Miss. Laina</td>\n",
       "      <td>female</td>\n",
       "      <td>26.0</td>\n",
       "      <td>0</td>\n",
       "      <td>0</td>\n",
       "      <td>STON/O2. 3101282</td>\n",
       "      <td>2.070022</td>\n",
       "      <td>N</td>\n",
       "      <td>S</td>\n",
       "    </tr>\n",
       "    <tr>\n",
       "      <th>3</th>\n",
       "      <td>4</td>\n",
       "      <td>1</td>\n",
       "      <td>1</td>\n",
       "      <td>Futrelle, Mrs. Jacques Heath (Lily May Peel)</td>\n",
       "      <td>female</td>\n",
       "      <td>35.0</td>\n",
       "      <td>1</td>\n",
       "      <td>0</td>\n",
       "      <td>113803</td>\n",
       "      <td>3.972177</td>\n",
       "      <td>C</td>\n",
       "      <td>S</td>\n",
       "    </tr>\n",
       "    <tr>\n",
       "      <th>4</th>\n",
       "      <td>5</td>\n",
       "      <td>0</td>\n",
       "      <td>3</td>\n",
       "      <td>Allen, Mr. William Henry</td>\n",
       "      <td>male</td>\n",
       "      <td>35.0</td>\n",
       "      <td>0</td>\n",
       "      <td>0</td>\n",
       "      <td>373450</td>\n",
       "      <td>2.085672</td>\n",
       "      <td>N</td>\n",
       "      <td>S</td>\n",
       "    </tr>\n",
       "  </tbody>\n",
       "</table>\n",
       "</div>"
      ],
      "text/plain": [
       "   PassengerId  Survived  Pclass  \\\n",
       "0            1         0       3   \n",
       "1            2         1       1   \n",
       "2            3         1       3   \n",
       "3            4         1       1   \n",
       "4            5         0       3   \n",
       "\n",
       "                                                Name     Sex   Age  SibSp  \\\n",
       "0                            Braund, Mr. Owen Harris    male  22.0      1   \n",
       "1  Cumings, Mrs. John Bradley (Florence Briggs Th...  female  38.0      1   \n",
       "2                             Heikkinen, Miss. Laina  female  26.0      0   \n",
       "3       Futrelle, Mrs. Jacques Heath (Lily May Peel)  female  35.0      1   \n",
       "4                           Allen, Mr. William Henry    male  35.0      0   \n",
       "\n",
       "   Parch            Ticket      Fare Cabin Embarked  \n",
       "0      0         A/5 21171  1.981001     N        S  \n",
       "1      0          PC 17599  4.266662     C        C  \n",
       "2      0  STON/O2. 3101282  2.070022     N        S  \n",
       "3      0            113803  3.972177     C        S  \n",
       "4      0            373450  2.085672     N        S  "
      ]
     },
     "execution_count": 24,
     "metadata": {},
     "output_type": "execute_result"
    }
   ],
   "source": [
    "titanic['Cabin'] = titanic['Cabin'].str[:1]\n",
    "titanic.head()"
   ]
  },
  {
   "cell_type": "code",
   "execution_count": 25,
   "metadata": {
    "execution": {
     "iopub.execute_input": "2021-03-29T03:34:41.770837Z",
     "iopub.status.busy": "2021-03-29T03:34:41.770017Z",
     "iopub.status.idle": "2021-03-29T03:34:41.773957Z",
     "shell.execute_reply": "2021-03-29T03:34:41.773405Z"
    },
    "papermill": {
     "duration": 0.064706,
     "end_time": "2021-03-29T03:34:41.774064",
     "exception": false,
     "start_time": "2021-03-29T03:34:41.709358",
     "status": "completed"
    },
    "tags": []
   },
   "outputs": [
    {
     "data": {
      "text/html": [
       "<div>\n",
       "<style scoped>\n",
       "    .dataframe tbody tr th:only-of-type {\n",
       "        vertical-align: middle;\n",
       "    }\n",
       "\n",
       "    .dataframe tbody tr th {\n",
       "        vertical-align: top;\n",
       "    }\n",
       "\n",
       "    .dataframe thead th {\n",
       "        text-align: right;\n",
       "    }\n",
       "</style>\n",
       "<table border=\"1\" class=\"dataframe\">\n",
       "  <thead>\n",
       "    <tr style=\"text-align: right;\">\n",
       "      <th></th>\n",
       "      <th>Survived</th>\n",
       "      <th>Pclass</th>\n",
       "      <th>Sex</th>\n",
       "      <th>Age</th>\n",
       "      <th>SibSp</th>\n",
       "      <th>Parch</th>\n",
       "      <th>Fare</th>\n",
       "      <th>Cabin</th>\n",
       "      <th>Embarked</th>\n",
       "    </tr>\n",
       "  </thead>\n",
       "  <tbody>\n",
       "    <tr>\n",
       "      <th>0</th>\n",
       "      <td>0</td>\n",
       "      <td>3</td>\n",
       "      <td>male</td>\n",
       "      <td>22.0</td>\n",
       "      <td>1</td>\n",
       "      <td>0</td>\n",
       "      <td>1.981001</td>\n",
       "      <td>N</td>\n",
       "      <td>S</td>\n",
       "    </tr>\n",
       "    <tr>\n",
       "      <th>1</th>\n",
       "      <td>1</td>\n",
       "      <td>1</td>\n",
       "      <td>female</td>\n",
       "      <td>38.0</td>\n",
       "      <td>1</td>\n",
       "      <td>0</td>\n",
       "      <td>4.266662</td>\n",
       "      <td>C</td>\n",
       "      <td>C</td>\n",
       "    </tr>\n",
       "    <tr>\n",
       "      <th>2</th>\n",
       "      <td>1</td>\n",
       "      <td>3</td>\n",
       "      <td>female</td>\n",
       "      <td>26.0</td>\n",
       "      <td>0</td>\n",
       "      <td>0</td>\n",
       "      <td>2.070022</td>\n",
       "      <td>N</td>\n",
       "      <td>S</td>\n",
       "    </tr>\n",
       "    <tr>\n",
       "      <th>3</th>\n",
       "      <td>1</td>\n",
       "      <td>1</td>\n",
       "      <td>female</td>\n",
       "      <td>35.0</td>\n",
       "      <td>1</td>\n",
       "      <td>0</td>\n",
       "      <td>3.972177</td>\n",
       "      <td>C</td>\n",
       "      <td>S</td>\n",
       "    </tr>\n",
       "    <tr>\n",
       "      <th>4</th>\n",
       "      <td>0</td>\n",
       "      <td>3</td>\n",
       "      <td>male</td>\n",
       "      <td>35.0</td>\n",
       "      <td>0</td>\n",
       "      <td>0</td>\n",
       "      <td>2.085672</td>\n",
       "      <td>N</td>\n",
       "      <td>S</td>\n",
       "    </tr>\n",
       "  </tbody>\n",
       "</table>\n",
       "</div>"
      ],
      "text/plain": [
       "   Survived  Pclass     Sex   Age  SibSp  Parch      Fare Cabin Embarked\n",
       "0         0       3    male  22.0      1      0  1.981001     N        S\n",
       "1         1       1  female  38.0      1      0  4.266662     C        C\n",
       "2         1       3  female  26.0      0      0  2.070022     N        S\n",
       "3         1       1  female  35.0      1      0  3.972177     C        S\n",
       "4         0       3    male  35.0      0      0  2.085672     N        S"
      ]
     },
     "execution_count": 25,
     "metadata": {},
     "output_type": "execute_result"
    }
   ],
   "source": [
    "titanic.drop(['Name','PassengerId','Ticket'],axis=1,inplace=True)\n",
    "titanic.head()"
   ]
  },
  {
   "cell_type": "code",
   "execution_count": 26,
   "metadata": {
    "execution": {
     "iopub.execute_input": "2021-03-29T03:34:41.880739Z",
     "iopub.status.busy": "2021-03-29T03:34:41.879878Z",
     "iopub.status.idle": "2021-03-29T03:34:41.883377Z",
     "shell.execute_reply": "2021-03-29T03:34:41.883880Z"
    },
    "papermill": {
     "duration": 0.059053,
     "end_time": "2021-03-29T03:34:41.884006",
     "exception": false,
     "start_time": "2021-03-29T03:34:41.824953",
     "status": "completed"
    },
    "tags": []
   },
   "outputs": [
    {
     "data": {
      "text/plain": [
       "N    687\n",
       "C     59\n",
       "B     47\n",
       "D     33\n",
       "E     32\n",
       "A     15\n",
       "F     13\n",
       "G      4\n",
       "T      1\n",
       "Name: Cabin, dtype: int64"
      ]
     },
     "execution_count": 26,
     "metadata": {},
     "output_type": "execute_result"
    }
   ],
   "source": [
    "titanic['Cabin'].value_counts()"
   ]
  },
  {
   "cell_type": "code",
   "execution_count": 27,
   "metadata": {
    "execution": {
     "iopub.execute_input": "2021-03-29T03:34:41.988747Z",
     "iopub.status.busy": "2021-03-29T03:34:41.988031Z",
     "iopub.status.idle": "2021-03-29T03:34:41.991419Z",
     "shell.execute_reply": "2021-03-29T03:34:41.990921Z"
    },
    "papermill": {
     "duration": 0.058169,
     "end_time": "2021-03-29T03:34:41.991538",
     "exception": false,
     "start_time": "2021-03-29T03:34:41.933369",
     "status": "completed"
    },
    "tags": []
   },
   "outputs": [],
   "source": [
    "Cabin_T_index = titanic[titanic['Cabin']=='T'].index\n",
    "titanic.drop(Cabin_T_index,inplace=True)"
   ]
  },
  {
   "cell_type": "code",
   "execution_count": 28,
   "metadata": {
    "execution": {
     "iopub.execute_input": "2021-03-29T03:34:42.098042Z",
     "iopub.status.busy": "2021-03-29T03:34:42.097271Z",
     "iopub.status.idle": "2021-03-29T03:34:42.100946Z",
     "shell.execute_reply": "2021-03-29T03:34:42.100524Z"
    },
    "papermill": {
     "duration": 0.059536,
     "end_time": "2021-03-29T03:34:42.101057",
     "exception": false,
     "start_time": "2021-03-29T03:34:42.041521",
     "status": "completed"
    },
    "tags": []
   },
   "outputs": [
    {
     "data": {
      "text/plain": [
       "S    643\n",
       "C    168\n",
       "Q     77\n",
       "N      2\n",
       "Name: Embarked, dtype: int64"
      ]
     },
     "execution_count": 28,
     "metadata": {},
     "output_type": "execute_result"
    }
   ],
   "source": [
    "titanic['Embarked'].value_counts()"
   ]
  },
  {
   "cell_type": "code",
   "execution_count": 29,
   "metadata": {
    "execution": {
     "iopub.execute_input": "2021-03-29T03:34:42.209687Z",
     "iopub.status.busy": "2021-03-29T03:34:42.209032Z",
     "iopub.status.idle": "2021-03-29T03:34:42.211902Z",
     "shell.execute_reply": "2021-03-29T03:34:42.211510Z"
    },
    "papermill": {
     "duration": 0.058692,
     "end_time": "2021-03-29T03:34:42.212016",
     "exception": false,
     "start_time": "2021-03-29T03:34:42.153324",
     "status": "completed"
    },
    "tags": []
   },
   "outputs": [],
   "source": [
    "Embarked_N_index = titanic[titanic['Embarked']=='N'].index\n",
    "titanic.drop(Embarked_N_index,inplace=True)"
   ]
  },
  {
   "cell_type": "markdown",
   "metadata": {
    "papermill": {
     "duration": 0.050012,
     "end_time": "2021-03-29T03:34:42.312309",
     "exception": false,
     "start_time": "2021-03-29T03:34:42.262297",
     "status": "completed"
    },
    "tags": []
   },
   "source": [
    "# Feature Engineering\n",
    "* OneHot Encoding\n",
    "* Split Train Data / Test Data\n",
    "* "
   ]
  },
  {
   "cell_type": "code",
   "execution_count": 30,
   "metadata": {
    "execution": {
     "iopub.execute_input": "2021-03-29T03:34:42.424836Z",
     "iopub.status.busy": "2021-03-29T03:34:42.424013Z",
     "iopub.status.idle": "2021-03-29T03:34:42.441474Z",
     "shell.execute_reply": "2021-03-29T03:34:42.441059Z"
    },
    "papermill": {
     "duration": 0.078613,
     "end_time": "2021-03-29T03:34:42.441615",
     "exception": false,
     "start_time": "2021-03-29T03:34:42.363002",
     "status": "completed"
    },
    "tags": []
   },
   "outputs": [
    {
     "data": {
      "text/html": [
       "<div>\n",
       "<style scoped>\n",
       "    .dataframe tbody tr th:only-of-type {\n",
       "        vertical-align: middle;\n",
       "    }\n",
       "\n",
       "    .dataframe tbody tr th {\n",
       "        vertical-align: top;\n",
       "    }\n",
       "\n",
       "    .dataframe thead th {\n",
       "        text-align: right;\n",
       "    }\n",
       "</style>\n",
       "<table border=\"1\" class=\"dataframe\">\n",
       "  <thead>\n",
       "    <tr style=\"text-align: right;\">\n",
       "      <th></th>\n",
       "      <th>Survived</th>\n",
       "      <th>Pclass</th>\n",
       "      <th>Age</th>\n",
       "      <th>SibSp</th>\n",
       "      <th>Parch</th>\n",
       "      <th>Fare</th>\n",
       "      <th>Sex_female</th>\n",
       "      <th>Sex_male</th>\n",
       "      <th>Cabin_A</th>\n",
       "      <th>Cabin_B</th>\n",
       "      <th>Cabin_C</th>\n",
       "      <th>Cabin_D</th>\n",
       "      <th>Cabin_E</th>\n",
       "      <th>Cabin_F</th>\n",
       "      <th>Cabin_G</th>\n",
       "      <th>Cabin_N</th>\n",
       "      <th>Embarked_C</th>\n",
       "      <th>Embarked_Q</th>\n",
       "      <th>Embarked_S</th>\n",
       "    </tr>\n",
       "  </thead>\n",
       "  <tbody>\n",
       "    <tr>\n",
       "      <th>0</th>\n",
       "      <td>0</td>\n",
       "      <td>3</td>\n",
       "      <td>22.0</td>\n",
       "      <td>1</td>\n",
       "      <td>0</td>\n",
       "      <td>1.981001</td>\n",
       "      <td>0</td>\n",
       "      <td>1</td>\n",
       "      <td>0</td>\n",
       "      <td>0</td>\n",
       "      <td>0</td>\n",
       "      <td>0</td>\n",
       "      <td>0</td>\n",
       "      <td>0</td>\n",
       "      <td>0</td>\n",
       "      <td>1</td>\n",
       "      <td>0</td>\n",
       "      <td>0</td>\n",
       "      <td>1</td>\n",
       "    </tr>\n",
       "    <tr>\n",
       "      <th>1</th>\n",
       "      <td>1</td>\n",
       "      <td>1</td>\n",
       "      <td>38.0</td>\n",
       "      <td>1</td>\n",
       "      <td>0</td>\n",
       "      <td>4.266662</td>\n",
       "      <td>1</td>\n",
       "      <td>0</td>\n",
       "      <td>0</td>\n",
       "      <td>0</td>\n",
       "      <td>1</td>\n",
       "      <td>0</td>\n",
       "      <td>0</td>\n",
       "      <td>0</td>\n",
       "      <td>0</td>\n",
       "      <td>0</td>\n",
       "      <td>1</td>\n",
       "      <td>0</td>\n",
       "      <td>0</td>\n",
       "    </tr>\n",
       "    <tr>\n",
       "      <th>2</th>\n",
       "      <td>1</td>\n",
       "      <td>3</td>\n",
       "      <td>26.0</td>\n",
       "      <td>0</td>\n",
       "      <td>0</td>\n",
       "      <td>2.070022</td>\n",
       "      <td>1</td>\n",
       "      <td>0</td>\n",
       "      <td>0</td>\n",
       "      <td>0</td>\n",
       "      <td>0</td>\n",
       "      <td>0</td>\n",
       "      <td>0</td>\n",
       "      <td>0</td>\n",
       "      <td>0</td>\n",
       "      <td>1</td>\n",
       "      <td>0</td>\n",
       "      <td>0</td>\n",
       "      <td>1</td>\n",
       "    </tr>\n",
       "    <tr>\n",
       "      <th>3</th>\n",
       "      <td>1</td>\n",
       "      <td>1</td>\n",
       "      <td>35.0</td>\n",
       "      <td>1</td>\n",
       "      <td>0</td>\n",
       "      <td>3.972177</td>\n",
       "      <td>1</td>\n",
       "      <td>0</td>\n",
       "      <td>0</td>\n",
       "      <td>0</td>\n",
       "      <td>1</td>\n",
       "      <td>0</td>\n",
       "      <td>0</td>\n",
       "      <td>0</td>\n",
       "      <td>0</td>\n",
       "      <td>0</td>\n",
       "      <td>0</td>\n",
       "      <td>0</td>\n",
       "      <td>1</td>\n",
       "    </tr>\n",
       "    <tr>\n",
       "      <th>4</th>\n",
       "      <td>0</td>\n",
       "      <td>3</td>\n",
       "      <td>35.0</td>\n",
       "      <td>0</td>\n",
       "      <td>0</td>\n",
       "      <td>2.085672</td>\n",
       "      <td>0</td>\n",
       "      <td>1</td>\n",
       "      <td>0</td>\n",
       "      <td>0</td>\n",
       "      <td>0</td>\n",
       "      <td>0</td>\n",
       "      <td>0</td>\n",
       "      <td>0</td>\n",
       "      <td>0</td>\n",
       "      <td>1</td>\n",
       "      <td>0</td>\n",
       "      <td>0</td>\n",
       "      <td>1</td>\n",
       "    </tr>\n",
       "  </tbody>\n",
       "</table>\n",
       "</div>"
      ],
      "text/plain": [
       "   Survived  Pclass   Age  SibSp  Parch      Fare  Sex_female  Sex_male  \\\n",
       "0         0       3  22.0      1      0  1.981001           0         1   \n",
       "1         1       1  38.0      1      0  4.266662           1         0   \n",
       "2         1       3  26.0      0      0  2.070022           1         0   \n",
       "3         1       1  35.0      1      0  3.972177           1         0   \n",
       "4         0       3  35.0      0      0  2.085672           0         1   \n",
       "\n",
       "   Cabin_A  Cabin_B  Cabin_C  Cabin_D  Cabin_E  Cabin_F  Cabin_G  Cabin_N  \\\n",
       "0        0        0        0        0        0        0        0        1   \n",
       "1        0        0        1        0        0        0        0        0   \n",
       "2        0        0        0        0        0        0        0        1   \n",
       "3        0        0        1        0        0        0        0        0   \n",
       "4        0        0        0        0        0        0        0        1   \n",
       "\n",
       "   Embarked_C  Embarked_Q  Embarked_S  \n",
       "0           0           0           1  \n",
       "1           1           0           0  \n",
       "2           0           0           1  \n",
       "3           0           0           1  \n",
       "4           0           0           1  "
      ]
     },
     "execution_count": 30,
     "metadata": {},
     "output_type": "execute_result"
    }
   ],
   "source": [
    "titanic = pd.get_dummies(titanic)\n",
    "titanic.head()"
   ]
  },
  {
   "cell_type": "code",
   "execution_count": 31,
   "metadata": {
    "execution": {
     "iopub.execute_input": "2021-03-29T03:34:42.555260Z",
     "iopub.status.busy": "2021-03-29T03:34:42.554482Z",
     "iopub.status.idle": "2021-03-29T03:34:42.558059Z",
     "shell.execute_reply": "2021-03-29T03:34:42.557668Z"
    },
    "papermill": {
     "duration": 0.062894,
     "end_time": "2021-03-29T03:34:42.558184",
     "exception": false,
     "start_time": "2021-03-29T03:34:42.495290",
     "status": "completed"
    },
    "tags": []
   },
   "outputs": [
    {
     "data": {
      "text/plain": [
       "(888, 19)"
      ]
     },
     "execution_count": 31,
     "metadata": {},
     "output_type": "execute_result"
    }
   ],
   "source": [
    "titanic.shape"
   ]
  },
  {
   "cell_type": "code",
   "execution_count": 32,
   "metadata": {
    "execution": {
     "iopub.execute_input": "2021-03-29T03:34:42.667056Z",
     "iopub.status.busy": "2021-03-29T03:34:42.666245Z",
     "iopub.status.idle": "2021-03-29T03:34:42.670459Z",
     "shell.execute_reply": "2021-03-29T03:34:42.669958Z"
    },
    "papermill": {
     "duration": 0.059104,
     "end_time": "2021-03-29T03:34:42.670577",
     "exception": false,
     "start_time": "2021-03-29T03:34:42.611473",
     "status": "completed"
    },
    "tags": []
   },
   "outputs": [],
   "source": [
    "x = titanic.drop('Survived',axis=1)\n",
    "y = titanic['Survived']"
   ]
  },
  {
   "cell_type": "code",
   "execution_count": 33,
   "metadata": {
    "execution": {
     "iopub.execute_input": "2021-03-29T03:34:42.786167Z",
     "iopub.status.busy": "2021-03-29T03:34:42.785287Z",
     "iopub.status.idle": "2021-03-29T03:34:42.789150Z",
     "shell.execute_reply": "2021-03-29T03:34:42.788752Z"
    },
    "papermill": {
     "duration": 0.067603,
     "end_time": "2021-03-29T03:34:42.789253",
     "exception": false,
     "start_time": "2021-03-29T03:34:42.721650",
     "status": "completed"
    },
    "tags": []
   },
   "outputs": [
    {
     "data": {
      "text/html": [
       "<div>\n",
       "<style scoped>\n",
       "    .dataframe tbody tr th:only-of-type {\n",
       "        vertical-align: middle;\n",
       "    }\n",
       "\n",
       "    .dataframe tbody tr th {\n",
       "        vertical-align: top;\n",
       "    }\n",
       "\n",
       "    .dataframe thead th {\n",
       "        text-align: right;\n",
       "    }\n",
       "</style>\n",
       "<table border=\"1\" class=\"dataframe\">\n",
       "  <thead>\n",
       "    <tr style=\"text-align: right;\">\n",
       "      <th></th>\n",
       "      <th>Pclass</th>\n",
       "      <th>Age</th>\n",
       "      <th>SibSp</th>\n",
       "      <th>Parch</th>\n",
       "      <th>Fare</th>\n",
       "      <th>Sex_female</th>\n",
       "      <th>Sex_male</th>\n",
       "      <th>Cabin_A</th>\n",
       "      <th>Cabin_B</th>\n",
       "      <th>Cabin_C</th>\n",
       "      <th>Cabin_D</th>\n",
       "      <th>Cabin_E</th>\n",
       "      <th>Cabin_F</th>\n",
       "      <th>Cabin_G</th>\n",
       "      <th>Cabin_N</th>\n",
       "      <th>Embarked_C</th>\n",
       "      <th>Embarked_Q</th>\n",
       "      <th>Embarked_S</th>\n",
       "    </tr>\n",
       "  </thead>\n",
       "  <tbody>\n",
       "    <tr>\n",
       "      <th>0</th>\n",
       "      <td>3</td>\n",
       "      <td>22.0</td>\n",
       "      <td>1</td>\n",
       "      <td>0</td>\n",
       "      <td>1.981001</td>\n",
       "      <td>0</td>\n",
       "      <td>1</td>\n",
       "      <td>0</td>\n",
       "      <td>0</td>\n",
       "      <td>0</td>\n",
       "      <td>0</td>\n",
       "      <td>0</td>\n",
       "      <td>0</td>\n",
       "      <td>0</td>\n",
       "      <td>1</td>\n",
       "      <td>0</td>\n",
       "      <td>0</td>\n",
       "      <td>1</td>\n",
       "    </tr>\n",
       "    <tr>\n",
       "      <th>1</th>\n",
       "      <td>1</td>\n",
       "      <td>38.0</td>\n",
       "      <td>1</td>\n",
       "      <td>0</td>\n",
       "      <td>4.266662</td>\n",
       "      <td>1</td>\n",
       "      <td>0</td>\n",
       "      <td>0</td>\n",
       "      <td>0</td>\n",
       "      <td>1</td>\n",
       "      <td>0</td>\n",
       "      <td>0</td>\n",
       "      <td>0</td>\n",
       "      <td>0</td>\n",
       "      <td>0</td>\n",
       "      <td>1</td>\n",
       "      <td>0</td>\n",
       "      <td>0</td>\n",
       "    </tr>\n",
       "    <tr>\n",
       "      <th>2</th>\n",
       "      <td>3</td>\n",
       "      <td>26.0</td>\n",
       "      <td>0</td>\n",
       "      <td>0</td>\n",
       "      <td>2.070022</td>\n",
       "      <td>1</td>\n",
       "      <td>0</td>\n",
       "      <td>0</td>\n",
       "      <td>0</td>\n",
       "      <td>0</td>\n",
       "      <td>0</td>\n",
       "      <td>0</td>\n",
       "      <td>0</td>\n",
       "      <td>0</td>\n",
       "      <td>1</td>\n",
       "      <td>0</td>\n",
       "      <td>0</td>\n",
       "      <td>1</td>\n",
       "    </tr>\n",
       "    <tr>\n",
       "      <th>3</th>\n",
       "      <td>1</td>\n",
       "      <td>35.0</td>\n",
       "      <td>1</td>\n",
       "      <td>0</td>\n",
       "      <td>3.972177</td>\n",
       "      <td>1</td>\n",
       "      <td>0</td>\n",
       "      <td>0</td>\n",
       "      <td>0</td>\n",
       "      <td>1</td>\n",
       "      <td>0</td>\n",
       "      <td>0</td>\n",
       "      <td>0</td>\n",
       "      <td>0</td>\n",
       "      <td>0</td>\n",
       "      <td>0</td>\n",
       "      <td>0</td>\n",
       "      <td>1</td>\n",
       "    </tr>\n",
       "    <tr>\n",
       "      <th>4</th>\n",
       "      <td>3</td>\n",
       "      <td>35.0</td>\n",
       "      <td>0</td>\n",
       "      <td>0</td>\n",
       "      <td>2.085672</td>\n",
       "      <td>0</td>\n",
       "      <td>1</td>\n",
       "      <td>0</td>\n",
       "      <td>0</td>\n",
       "      <td>0</td>\n",
       "      <td>0</td>\n",
       "      <td>0</td>\n",
       "      <td>0</td>\n",
       "      <td>0</td>\n",
       "      <td>1</td>\n",
       "      <td>0</td>\n",
       "      <td>0</td>\n",
       "      <td>1</td>\n",
       "    </tr>\n",
       "  </tbody>\n",
       "</table>\n",
       "</div>"
      ],
      "text/plain": [
       "   Pclass   Age  SibSp  Parch      Fare  Sex_female  Sex_male  Cabin_A  \\\n",
       "0       3  22.0      1      0  1.981001           0         1        0   \n",
       "1       1  38.0      1      0  4.266662           1         0        0   \n",
       "2       3  26.0      0      0  2.070022           1         0        0   \n",
       "3       1  35.0      1      0  3.972177           1         0        0   \n",
       "4       3  35.0      0      0  2.085672           0         1        0   \n",
       "\n",
       "   Cabin_B  Cabin_C  Cabin_D  Cabin_E  Cabin_F  Cabin_G  Cabin_N  Embarked_C  \\\n",
       "0        0        0        0        0        0        0        1           0   \n",
       "1        0        1        0        0        0        0        0           1   \n",
       "2        0        0        0        0        0        0        1           0   \n",
       "3        0        1        0        0        0        0        0           0   \n",
       "4        0        0        0        0        0        0        1           0   \n",
       "\n",
       "   Embarked_Q  Embarked_S  \n",
       "0           0           1  \n",
       "1           0           0  \n",
       "2           0           1  \n",
       "3           0           1  \n",
       "4           0           1  "
      ]
     },
     "execution_count": 33,
     "metadata": {},
     "output_type": "execute_result"
    }
   ],
   "source": [
    "x.head()"
   ]
  },
  {
   "cell_type": "code",
   "execution_count": 34,
   "metadata": {
    "execution": {
     "iopub.execute_input": "2021-03-29T03:34:42.898305Z",
     "iopub.status.busy": "2021-03-29T03:34:42.897476Z",
     "iopub.status.idle": "2021-03-29T03:34:42.901237Z",
     "shell.execute_reply": "2021-03-29T03:34:42.901626Z"
    },
    "papermill": {
     "duration": 0.060205,
     "end_time": "2021-03-29T03:34:42.901746",
     "exception": false,
     "start_time": "2021-03-29T03:34:42.841541",
     "status": "completed"
    },
    "tags": []
   },
   "outputs": [],
   "source": [
    "x_train,x_test,y_train,y_test = train_test_split(x,y)"
   ]
  },
  {
   "cell_type": "markdown",
   "metadata": {
    "papermill": {
     "duration": 0.05241,
     "end_time": "2021-03-29T03:34:43.005879",
     "exception": false,
     "start_time": "2021-03-29T03:34:42.953469",
     "status": "completed"
    },
    "tags": []
   },
   "source": [
    "# Modeling\n",
    "* LogisticRegression\n",
    "* DecisionTreeClassifier with GridSearchCV / CroosValScore\n",
    "*"
   ]
  },
  {
   "cell_type": "code",
   "execution_count": 35,
   "metadata": {
    "execution": {
     "iopub.execute_input": "2021-03-29T03:34:43.116934Z",
     "iopub.status.busy": "2021-03-29T03:34:43.116124Z",
     "iopub.status.idle": "2021-03-29T03:34:43.148839Z",
     "shell.execute_reply": "2021-03-29T03:34:43.148164Z"
    },
    "papermill": {
     "duration": 0.090949,
     "end_time": "2021-03-29T03:34:43.149000",
     "exception": false,
     "start_time": "2021-03-29T03:34:43.058051",
     "status": "completed"
    },
    "tags": []
   },
   "outputs": [
    {
     "name": "stdout",
     "output_type": "stream",
     "text": [
      "모델 정확도 측정 :  0.7387387387387387\n"
     ]
    }
   ],
   "source": [
    "log_reg = LogisticRegression()\n",
    "log_reg.fit(x_train,y_train)\n",
    "pred = log_reg.predict(x_test)\n",
    "print(\"모델 정확도 측정 : \", accuracy_score(pred,y_test))"
   ]
  },
  {
   "cell_type": "code",
   "execution_count": 36,
   "metadata": {
    "execution": {
     "iopub.execute_input": "2021-03-29T03:34:43.260768Z",
     "iopub.status.busy": "2021-03-29T03:34:43.260242Z",
     "iopub.status.idle": "2021-03-29T03:34:43.269969Z",
     "shell.execute_reply": "2021-03-29T03:34:43.269336Z"
    },
    "papermill": {
     "duration": 0.067773,
     "end_time": "2021-03-29T03:34:43.270108",
     "exception": false,
     "start_time": "2021-03-29T03:34:43.202335",
     "status": "completed"
    },
    "tags": []
   },
   "outputs": [
    {
     "name": "stdout",
     "output_type": "stream",
     "text": [
      "모델 정확도 측정 :  0.7747747747747747\n"
     ]
    }
   ],
   "source": [
    "dtree = DecisionTreeClassifier()\n",
    "dtree.fit(x_train,y_train)\n",
    "pred = dtree.predict(x_test)\n",
    "print(\"모델 정확도 측정 : \", accuracy_score(pred,y_test))"
   ]
  },
  {
   "cell_type": "code",
   "execution_count": 37,
   "metadata": {
    "execution": {
     "iopub.execute_input": "2021-03-29T03:34:43.381565Z",
     "iopub.status.busy": "2021-03-29T03:34:43.380745Z",
     "iopub.status.idle": "2021-03-29T03:34:44.312151Z",
     "shell.execute_reply": "2021-03-29T03:34:44.312570Z"
    },
    "papermill": {
     "duration": 0.989325,
     "end_time": "2021-03-29T03:34:44.312722",
     "exception": false,
     "start_time": "2021-03-29T03:34:43.323397",
     "status": "completed"
    },
    "tags": []
   },
   "outputs": [
    {
     "data": {
      "text/plain": [
       "GridSearchCV(cv=5, estimator=DecisionTreeClassifier(),\n",
       "             param_grid={'max_depth': [2, 4, 6, 8],\n",
       "                         'min_samples_leaf': [1, 3, 5],\n",
       "                         'min_samples_split': [2, 3, 5]},\n",
       "             scoring='accuracy')"
      ]
     },
     "execution_count": 37,
     "metadata": {},
     "output_type": "execute_result"
    }
   ],
   "source": [
    "param = {'max_depth':[2,4,6,8],\n",
    "         'min_samples_split':[2,3,5],\n",
    "         'min_samples_leaf':[1,3,5]\n",
    "        }\n",
    "grid = GridSearchCV(dtree,param_grid = param,scoring = 'accuracy',cv=5)\n",
    "grid.fit(x,y)"
   ]
  },
  {
   "cell_type": "code",
   "execution_count": 38,
   "metadata": {
    "execution": {
     "iopub.execute_input": "2021-03-29T03:34:44.424438Z",
     "iopub.status.busy": "2021-03-29T03:34:44.423723Z",
     "iopub.status.idle": "2021-03-29T03:34:44.426941Z",
     "shell.execute_reply": "2021-03-29T03:34:44.427333Z"
    },
    "papermill": {
     "duration": 0.060406,
     "end_time": "2021-03-29T03:34:44.427465",
     "exception": false,
     "start_time": "2021-03-29T03:34:44.367059",
     "status": "completed"
    },
    "tags": []
   },
   "outputs": [
    {
     "data": {
      "text/plain": [
       "{'max_depth': 6, 'min_samples_leaf': 1, 'min_samples_split': 5}"
      ]
     },
     "execution_count": 38,
     "metadata": {},
     "output_type": "execute_result"
    }
   ],
   "source": [
    "grid.best_params_"
   ]
  },
  {
   "cell_type": "code",
   "execution_count": 39,
   "metadata": {
    "execution": {
     "iopub.execute_input": "2021-03-29T03:34:44.539059Z",
     "iopub.status.busy": "2021-03-29T03:34:44.538250Z",
     "iopub.status.idle": "2021-03-29T03:34:44.542254Z",
     "shell.execute_reply": "2021-03-29T03:34:44.541820Z"
    },
    "papermill": {
     "duration": 0.061529,
     "end_time": "2021-03-29T03:34:44.542367",
     "exception": false,
     "start_time": "2021-03-29T03:34:44.480838",
     "status": "completed"
    },
    "tags": []
   },
   "outputs": [
    {
     "data": {
      "text/plain": [
       "0.8142004697517933"
      ]
     },
     "execution_count": 39,
     "metadata": {},
     "output_type": "execute_result"
    }
   ],
   "source": [
    "grid.best_score_"
   ]
  },
  {
   "cell_type": "code",
   "execution_count": 40,
   "metadata": {
    "execution": {
     "iopub.execute_input": "2021-03-29T03:34:44.655373Z",
     "iopub.status.busy": "2021-03-29T03:34:44.654624Z",
     "iopub.status.idle": "2021-03-29T03:34:44.689636Z",
     "shell.execute_reply": "2021-03-29T03:34:44.689114Z"
    },
    "papermill": {
     "duration": 0.093102,
     "end_time": "2021-03-29T03:34:44.689745",
     "exception": false,
     "start_time": "2021-03-29T03:34:44.596643",
     "status": "completed"
    },
    "tags": []
   },
   "outputs": [
    {
     "data": {
      "text/plain": [
       "0.7815273281279757"
      ]
     },
     "execution_count": 40,
     "metadata": {},
     "output_type": "execute_result"
    }
   ],
   "source": [
    "score = cross_val_score(dtree,x,y,scoring='accuracy',cv=5)\n",
    "score.mean()"
   ]
  },
  {
   "cell_type": "code",
   "execution_count": 41,
   "metadata": {
    "execution": {
     "iopub.execute_input": "2021-03-29T03:34:44.805576Z",
     "iopub.status.busy": "2021-03-29T03:34:44.804805Z",
     "iopub.status.idle": "2021-03-29T03:34:44.918008Z",
     "shell.execute_reply": "2021-03-29T03:34:44.917609Z"
    },
    "papermill": {
     "duration": 0.172179,
     "end_time": "2021-03-29T03:34:44.918115",
     "exception": false,
     "start_time": "2021-03-29T03:34:44.745936",
     "status": "completed"
    },
    "tags": []
   },
   "outputs": [
    {
     "data": {
      "image/png": "[encoded data removed]",
      "text/plain": [
       "<Figure size 360x360 with 1 Axes>"
      ]
     },
     "metadata": {
      "needs_background": "light"
     },
     "output_type": "display_data"
    }
   ],
   "source": [
    "f,ax=plt.subplots(1,1,figsize=(5,5))\n",
    "plt.plot(score)\n",
    "ax.set_title(\"cross_val_score per score\")\n",
    "ax.set_xticks(range(0,5,1))\n",
    "ax.set_ylabel(\"Score\")\n",
    "plt.show()"
   ]
  },
  {
   "cell_type": "code",
   "execution_count": 42,
   "metadata": {
    "execution": {
     "iopub.execute_input": "2021-03-29T03:34:45.033290Z",
     "iopub.status.busy": "2021-03-29T03:34:45.032640Z",
     "iopub.status.idle": "2021-03-29T03:34:45.035505Z",
     "shell.execute_reply": "2021-03-29T03:34:45.035040Z"
    },
    "papermill": {
     "duration": 0.061944,
     "end_time": "2021-03-29T03:34:45.035613",
     "exception": false,
     "start_time": "2021-03-29T03:34:44.973669",
     "status": "completed"
    },
    "tags": []
   },
   "outputs": [],
   "source": [
    "rfc = RandomForestClassifier()"
   ]
  },
  {
   "cell_type": "code",
   "execution_count": 43,
   "metadata": {
    "execution": {
     "iopub.execute_input": "2021-03-29T03:34:45.155860Z",
     "iopub.status.busy": "2021-03-29T03:34:45.155035Z",
     "iopub.status.idle": "2021-03-29T03:34:58.268646Z",
     "shell.execute_reply": "2021-03-29T03:34:58.267616Z"
    },
    "papermill": {
     "duration": 13.17406,
     "end_time": "2021-03-29T03:34:58.268782",
     "exception": false,
     "start_time": "2021-03-29T03:34:45.094722",
     "status": "completed"
    },
    "tags": []
   },
   "outputs": [
    {
     "data": {
      "text/plain": [
       "GridSearchCV(cv=5, estimator=RandomForestClassifier(),\n",
       "             param_grid={'max_depth': [10, 12, 14],\n",
       "                         'min_samples_leaf': [5, 7, 9],\n",
       "                         'min_samples_split': [1, 1.5, 2],\n",
       "                         'n_estimators': [100]},\n",
       "             scoring='accuracy')"
      ]
     },
     "execution_count": 43,
     "metadata": {},
     "output_type": "execute_result"
    }
   ],
   "source": [
    "param = {'n_estimators' : [100],\n",
    "         'max_depth':[10,12,14],\n",
    "         'min_samples_split':[1,1.5,2],\n",
    "         'min_samples_leaf':[5,7,9]\n",
    "        }\n",
    "grid = GridSearchCV(rfc,param_grid = param,scoring = 'accuracy',cv=5)\n",
    "grid.fit(x,y)"
   ]
  },
  {
   "cell_type": "code",
   "execution_count": 44,
   "metadata": {
    "execution": {
     "iopub.execute_input": "2021-03-29T03:34:58.395672Z",
     "iopub.status.busy": "2021-03-29T03:34:58.394819Z",
     "iopub.status.idle": "2021-03-29T03:34:58.398731Z",
     "shell.execute_reply": "2021-03-29T03:34:58.398302Z"
    },
    "papermill": {
     "duration": 0.070227,
     "end_time": "2021-03-29T03:34:58.398842",
     "exception": false,
     "start_time": "2021-03-29T03:34:58.328615",
     "status": "completed"
    },
    "tags": []
   },
   "outputs": [
    {
     "data": {
      "text/plain": [
       "{'max_depth': 12,\n",
       " 'min_samples_leaf': 5,\n",
       " 'min_samples_split': 2,\n",
       " 'n_estimators': 100}"
      ]
     },
     "execution_count": 44,
     "metadata": {},
     "output_type": "execute_result"
    }
   ],
   "source": [
    "grid.best_params_"
   ]
  },
  {
   "cell_type": "code",
   "execution_count": 45,
   "metadata": {
    "execution": {
     "iopub.execute_input": "2021-03-29T03:34:58.524757Z",
     "iopub.status.busy": "2021-03-29T03:34:58.524012Z",
     "iopub.status.idle": "2021-03-29T03:34:58.527598Z",
     "shell.execute_reply": "2021-03-29T03:34:58.527162Z"
    },
    "papermill": {
     "duration": 0.068333,
     "end_time": "2021-03-29T03:34:58.527703",
     "exception": false,
     "start_time": "2021-03-29T03:34:58.459370",
     "status": "completed"
    },
    "tags": []
   },
   "outputs": [
    {
     "data": {
      "text/plain": [
       "0.8198184472798833"
      ]
     },
     "execution_count": 45,
     "metadata": {},
     "output_type": "execute_result"
    }
   ],
   "source": [
    "grid.best_score_"
   ]
  },
  {
   "cell_type": "code",
   "execution_count": 46,
   "metadata": {
    "execution": {
     "iopub.execute_input": "2021-03-29T03:34:58.644948Z",
     "iopub.status.busy": "2021-03-29T03:34:58.644166Z",
     "iopub.status.idle": "2021-03-29T03:34:58.646854Z",
     "shell.execute_reply": "2021-03-29T03:34:58.646402Z"
    },
    "papermill": {
     "duration": 0.063078,
     "end_time": "2021-03-29T03:34:58.646962",
     "exception": false,
     "start_time": "2021-03-29T03:34:58.583884",
     "status": "completed"
    },
    "tags": []
   },
   "outputs": [],
   "source": [
    "model = RandomForestClassifier(\n",
    "    n_estimators=100,\n",
    "    max_depth=10,\n",
    "    min_samples_leaf=5,\n",
    "    min_samples_split=2)"
   ]
  },
  {
   "cell_type": "code",
   "execution_count": 47,
   "metadata": {
    "execution": {
     "iopub.execute_input": "2021-03-29T03:34:58.765749Z",
     "iopub.status.busy": "2021-03-29T03:34:58.764953Z",
     "iopub.status.idle": "2021-03-29T03:34:58.948426Z",
     "shell.execute_reply": "2021-03-29T03:34:58.947993Z"
    },
    "papermill": {
     "duration": 0.245393,
     "end_time": "2021-03-29T03:34:58.948551",
     "exception": false,
     "start_time": "2021-03-29T03:34:58.703158",
     "status": "completed"
    },
    "tags": []
   },
   "outputs": [
    {
     "name": "stdout",
     "output_type": "stream",
     "text": [
      "모델 정확도 측정 :  0.7837837837837838\n"
     ]
    }
   ],
   "source": [
    "model.fit(x_train,y_train)\n",
    "pred = model.predict(x_test)\n",
    "print(\"모델 정확도 측정 : \",accuracy_score(pred,y_test))"
   ]
  },
  {
   "cell_type": "code",
   "execution_count": 48,
   "metadata": {
    "execution": {
     "iopub.execute_input": "2021-03-29T03:34:59.076833Z",
     "iopub.status.busy": "2021-03-29T03:34:59.076015Z",
     "iopub.status.idle": "2021-03-29T03:34:59.079915Z",
     "shell.execute_reply": "2021-03-29T03:34:59.079387Z"
    },
    "papermill": {
     "duration": 0.074265,
     "end_time": "2021-03-29T03:34:59.080022",
     "exception": false,
     "start_time": "2021-03-29T03:34:59.005757",
     "status": "completed"
    },
    "tags": []
   },
   "outputs": [
    {
     "data": {
      "text/html": [
       "<div>\n",
       "<style scoped>\n",
       "    .dataframe tbody tr th:only-of-type {\n",
       "        vertical-align: middle;\n",
       "    }\n",
       "\n",
       "    .dataframe tbody tr th {\n",
       "        vertical-align: top;\n",
       "    }\n",
       "\n",
       "    .dataframe thead th {\n",
       "        text-align: right;\n",
       "    }\n",
       "</style>\n",
       "<table border=\"1\" class=\"dataframe\">\n",
       "  <thead>\n",
       "    <tr style=\"text-align: right;\">\n",
       "      <th></th>\n",
       "      <th>Pclass</th>\n",
       "      <th>Age</th>\n",
       "      <th>SibSp</th>\n",
       "      <th>Parch</th>\n",
       "      <th>Fare</th>\n",
       "      <th>Sex_female</th>\n",
       "      <th>Sex_male</th>\n",
       "      <th>Cabin_A</th>\n",
       "      <th>Cabin_B</th>\n",
       "      <th>Cabin_C</th>\n",
       "      <th>Cabin_D</th>\n",
       "      <th>Cabin_E</th>\n",
       "      <th>Cabin_F</th>\n",
       "      <th>Cabin_G</th>\n",
       "      <th>Cabin_N</th>\n",
       "      <th>Embarked_C</th>\n",
       "      <th>Embarked_Q</th>\n",
       "      <th>Embarked_S</th>\n",
       "    </tr>\n",
       "  </thead>\n",
       "  <tbody>\n",
       "    <tr>\n",
       "      <th>243</th>\n",
       "      <td>3</td>\n",
       "      <td>22.0</td>\n",
       "      <td>0</td>\n",
       "      <td>0</td>\n",
       "      <td>1.963610</td>\n",
       "      <td>0</td>\n",
       "      <td>1</td>\n",
       "      <td>0</td>\n",
       "      <td>0</td>\n",
       "      <td>0</td>\n",
       "      <td>0</td>\n",
       "      <td>0</td>\n",
       "      <td>0</td>\n",
       "      <td>0</td>\n",
       "      <td>1</td>\n",
       "      <td>0</td>\n",
       "      <td>0</td>\n",
       "      <td>1</td>\n",
       "    </tr>\n",
       "    <tr>\n",
       "      <th>385</th>\n",
       "      <td>2</td>\n",
       "      <td>18.0</td>\n",
       "      <td>0</td>\n",
       "      <td>0</td>\n",
       "      <td>4.297285</td>\n",
       "      <td>0</td>\n",
       "      <td>1</td>\n",
       "      <td>0</td>\n",
       "      <td>0</td>\n",
       "      <td>0</td>\n",
       "      <td>0</td>\n",
       "      <td>0</td>\n",
       "      <td>0</td>\n",
       "      <td>0</td>\n",
       "      <td>1</td>\n",
       "      <td>0</td>\n",
       "      <td>0</td>\n",
       "      <td>1</td>\n",
       "    </tr>\n",
       "    <tr>\n",
       "      <th>546</th>\n",
       "      <td>2</td>\n",
       "      <td>19.0</td>\n",
       "      <td>1</td>\n",
       "      <td>0</td>\n",
       "      <td>3.258097</td>\n",
       "      <td>1</td>\n",
       "      <td>0</td>\n",
       "      <td>0</td>\n",
       "      <td>0</td>\n",
       "      <td>0</td>\n",
       "      <td>0</td>\n",
       "      <td>0</td>\n",
       "      <td>0</td>\n",
       "      <td>0</td>\n",
       "      <td>1</td>\n",
       "      <td>0</td>\n",
       "      <td>0</td>\n",
       "      <td>1</td>\n",
       "    </tr>\n",
       "    <tr>\n",
       "      <th>290</th>\n",
       "      <td>1</td>\n",
       "      <td>26.0</td>\n",
       "      <td>0</td>\n",
       "      <td>0</td>\n",
       "      <td>4.367547</td>\n",
       "      <td>1</td>\n",
       "      <td>0</td>\n",
       "      <td>0</td>\n",
       "      <td>0</td>\n",
       "      <td>0</td>\n",
       "      <td>0</td>\n",
       "      <td>0</td>\n",
       "      <td>0</td>\n",
       "      <td>0</td>\n",
       "      <td>1</td>\n",
       "      <td>0</td>\n",
       "      <td>0</td>\n",
       "      <td>1</td>\n",
       "    </tr>\n",
       "    <tr>\n",
       "      <th>613</th>\n",
       "      <td>3</td>\n",
       "      <td>28.0</td>\n",
       "      <td>0</td>\n",
       "      <td>0</td>\n",
       "      <td>2.047693</td>\n",
       "      <td>0</td>\n",
       "      <td>1</td>\n",
       "      <td>0</td>\n",
       "      <td>0</td>\n",
       "      <td>0</td>\n",
       "      <td>0</td>\n",
       "      <td>0</td>\n",
       "      <td>0</td>\n",
       "      <td>0</td>\n",
       "      <td>1</td>\n",
       "      <td>0</td>\n",
       "      <td>1</td>\n",
       "      <td>0</td>\n",
       "    </tr>\n",
       "  </tbody>\n",
       "</table>\n",
       "</div>"
      ],
      "text/plain": [
       "     Pclass   Age  SibSp  Parch      Fare  Sex_female  Sex_male  Cabin_A  \\\n",
       "243       3  22.0      0      0  1.963610           0         1        0   \n",
       "385       2  18.0      0      0  4.297285           0         1        0   \n",
       "546       2  19.0      1      0  3.258097           1         0        0   \n",
       "290       1  26.0      0      0  4.367547           1         0        0   \n",
       "613       3  28.0      0      0  2.047693           0         1        0   \n",
       "\n",
       "     Cabin_B  Cabin_C  Cabin_D  Cabin_E  Cabin_F  Cabin_G  Cabin_N  \\\n",
       "243        0        0        0        0        0        0        1   \n",
       "385        0        0        0        0        0        0        1   \n",
       "546        0        0        0        0        0        0        1   \n",
       "290        0        0        0        0        0        0        1   \n",
       "613        0        0        0        0        0        0        1   \n",
       "\n",
       "     Embarked_C  Embarked_Q  Embarked_S  \n",
       "243           0           0           1  \n",
       "385           0           0           1  \n",
       "546           0           0           1  \n",
       "290           0           0           1  \n",
       "613           0           1           0  "
      ]
     },
     "execution_count": 48,
     "metadata": {},
     "output_type": "execute_result"
    }
   ],
   "source": [
    "x_test.head()"
   ]
  },
  {
   "cell_type": "markdown",
   "metadata": {
    "papermill": {
     "duration": 0.057349,
     "end_time": "2021-03-29T03:34:59.196055",
     "exception": false,
     "start_time": "2021-03-29T03:34:59.138706",
     "status": "completed"
    },
    "tags": []
   },
   "source": [
    "# Submission"
   ]
  },
  {
   "cell_type": "code",
   "execution_count": 49,
   "metadata": {
    "execution": {
     "iopub.execute_input": "2021-03-29T03:34:59.319377Z",
     "iopub.status.busy": "2021-03-29T03:34:59.318881Z",
     "iopub.status.idle": "2021-03-29T03:34:59.334954Z",
     "shell.execute_reply": "2021-03-29T03:34:59.334534Z"
    },
    "papermill": {
     "duration": 0.080803,
     "end_time": "2021-03-29T03:34:59.335062",
     "exception": false,
     "start_time": "2021-03-29T03:34:59.254259",
     "status": "completed"
    },
    "tags": []
   },
   "outputs": [],
   "source": [
    "gender = pd.read_csv('/kaggle/input/titanic/gender_submission.csv')\n",
    "test = pd.read_csv('/kaggle/input/titanic/test.csv')"
   ]
  },
  {
   "cell_type": "code",
   "execution_count": 50,
   "metadata": {
    "execution": {
     "iopub.execute_input": "2021-03-29T03:34:59.542380Z",
     "iopub.status.busy": "2021-03-29T03:34:59.540839Z",
     "iopub.status.idle": "2021-03-29T03:34:59.549594Z",
     "shell.execute_reply": "2021-03-29T03:34:59.549007Z"
    },
    "papermill": {
     "duration": 0.131087,
     "end_time": "2021-03-29T03:34:59.549740",
     "exception": false,
     "start_time": "2021-03-29T03:34:59.418653",
     "status": "completed"
    },
    "tags": []
   },
   "outputs": [
    {
     "data": {
      "text/html": [
       "<div>\n",
       "<style scoped>\n",
       "    .dataframe tbody tr th:only-of-type {\n",
       "        vertical-align: middle;\n",
       "    }\n",
       "\n",
       "    .dataframe tbody tr th {\n",
       "        vertical-align: top;\n",
       "    }\n",
       "\n",
       "    .dataframe thead th {\n",
       "        text-align: right;\n",
       "    }\n",
       "</style>\n",
       "<table border=\"1\" class=\"dataframe\">\n",
       "  <thead>\n",
       "    <tr style=\"text-align: right;\">\n",
       "      <th></th>\n",
       "      <th>PassengerId</th>\n",
       "      <th>Survived</th>\n",
       "    </tr>\n",
       "  </thead>\n",
       "  <tbody>\n",
       "    <tr>\n",
       "      <th>0</th>\n",
       "      <td>892</td>\n",
       "      <td>0</td>\n",
       "    </tr>\n",
       "    <tr>\n",
       "      <th>1</th>\n",
       "      <td>893</td>\n",
       "      <td>1</td>\n",
       "    </tr>\n",
       "    <tr>\n",
       "      <th>2</th>\n",
       "      <td>894</td>\n",
       "      <td>0</td>\n",
       "    </tr>\n",
       "    <tr>\n",
       "      <th>3</th>\n",
       "      <td>895</td>\n",
       "      <td>0</td>\n",
       "    </tr>\n",
       "    <tr>\n",
       "      <th>4</th>\n",
       "      <td>896</td>\n",
       "      <td>1</td>\n",
       "    </tr>\n",
       "  </tbody>\n",
       "</table>\n",
       "</div>"
      ],
      "text/plain": [
       "   PassengerId  Survived\n",
       "0          892         0\n",
       "1          893         1\n",
       "2          894         0\n",
       "3          895         0\n",
       "4          896         1"
      ]
     },
     "execution_count": 50,
     "metadata": {},
     "output_type": "execute_result"
    }
   ],
   "source": [
    "gender.head()"
   ]
  },
  {
   "cell_type": "code",
   "execution_count": 51,
   "metadata": {
    "execution": {
     "iopub.execute_input": "2021-03-29T03:34:59.746744Z",
     "iopub.status.busy": "2021-03-29T03:34:59.745908Z",
     "iopub.status.idle": "2021-03-29T03:34:59.763571Z",
     "shell.execute_reply": "2021-03-29T03:34:59.764482Z"
    },
    "papermill": {
     "duration": 0.119375,
     "end_time": "2021-03-29T03:34:59.764683",
     "exception": false,
     "start_time": "2021-03-29T03:34:59.645308",
     "status": "completed"
    },
    "tags": []
   },
   "outputs": [
    {
     "data": {
      "text/html": [
       "<div>\n",
       "<style scoped>\n",
       "    .dataframe tbody tr th:only-of-type {\n",
       "        vertical-align: middle;\n",
       "    }\n",
       "\n",
       "    .dataframe tbody tr th {\n",
       "        vertical-align: top;\n",
       "    }\n",
       "\n",
       "    .dataframe thead th {\n",
       "        text-align: right;\n",
       "    }\n",
       "</style>\n",
       "<table border=\"1\" class=\"dataframe\">\n",
       "  <thead>\n",
       "    <tr style=\"text-align: right;\">\n",
       "      <th></th>\n",
       "      <th>PassengerId</th>\n",
       "      <th>Pclass</th>\n",
       "      <th>Name</th>\n",
       "      <th>Sex</th>\n",
       "      <th>Age</th>\n",
       "      <th>SibSp</th>\n",
       "      <th>Parch</th>\n",
       "      <th>Ticket</th>\n",
       "      <th>Fare</th>\n",
       "      <th>Cabin</th>\n",
       "      <th>Embarked</th>\n",
       "    </tr>\n",
       "  </thead>\n",
       "  <tbody>\n",
       "    <tr>\n",
       "      <th>0</th>\n",
       "      <td>892</td>\n",
       "      <td>3</td>\n",
       "      <td>Kelly, Mr. James</td>\n",
       "      <td>male</td>\n",
       "      <td>34.5</td>\n",
       "      <td>0</td>\n",
       "      <td>0</td>\n",
       "      <td>330911</td>\n",
       "      <td>7.8292</td>\n",
       "      <td>NaN</td>\n",
       "      <td>Q</td>\n",
       "    </tr>\n",
       "    <tr>\n",
       "      <th>1</th>\n",
       "      <td>893</td>\n",
       "      <td>3</td>\n",
       "      <td>Wilkes, Mrs. James (Ellen Needs)</td>\n",
       "      <td>female</td>\n",
       "      <td>47.0</td>\n",
       "      <td>1</td>\n",
       "      <td>0</td>\n",
       "      <td>363272</td>\n",
       "      <td>7.0000</td>\n",
       "      <td>NaN</td>\n",
       "      <td>S</td>\n",
       "    </tr>\n",
       "    <tr>\n",
       "      <th>2</th>\n",
       "      <td>894</td>\n",
       "      <td>2</td>\n",
       "      <td>Myles, Mr. Thomas Francis</td>\n",
       "      <td>male</td>\n",
       "      <td>62.0</td>\n",
       "      <td>0</td>\n",
       "      <td>0</td>\n",
       "      <td>240276</td>\n",
       "      <td>9.6875</td>\n",
       "      <td>NaN</td>\n",
       "      <td>Q</td>\n",
       "    </tr>\n",
       "    <tr>\n",
       "      <th>3</th>\n",
       "      <td>895</td>\n",
       "      <td>3</td>\n",
       "      <td>Wirz, Mr. Albert</td>\n",
       "      <td>male</td>\n",
       "      <td>27.0</td>\n",
       "      <td>0</td>\n",
       "      <td>0</td>\n",
       "      <td>315154</td>\n",
       "      <td>8.6625</td>\n",
       "      <td>NaN</td>\n",
       "      <td>S</td>\n",
       "    </tr>\n",
       "    <tr>\n",
       "      <th>4</th>\n",
       "      <td>896</td>\n",
       "      <td>3</td>\n",
       "      <td>Hirvonen, Mrs. Alexander (Helga E Lindqvist)</td>\n",
       "      <td>female</td>\n",
       "      <td>22.0</td>\n",
       "      <td>1</td>\n",
       "      <td>1</td>\n",
       "      <td>3101298</td>\n",
       "      <td>12.2875</td>\n",
       "      <td>NaN</td>\n",
       "      <td>S</td>\n",
       "    </tr>\n",
       "  </tbody>\n",
       "</table>\n",
       "</div>"
      ],
      "text/plain": [
       "   PassengerId  Pclass                                          Name     Sex  \\\n",
       "0          892       3                              Kelly, Mr. James    male   \n",
       "1          893       3              Wilkes, Mrs. James (Ellen Needs)  female   \n",
       "2          894       2                     Myles, Mr. Thomas Francis    male   \n",
       "3          895       3                              Wirz, Mr. Albert    male   \n",
       "4          896       3  Hirvonen, Mrs. Alexander (Helga E Lindqvist)  female   \n",
       "\n",
       "    Age  SibSp  Parch   Ticket     Fare Cabin Embarked  \n",
       "0  34.5      0      0   330911   7.8292   NaN        Q  \n",
       "1  47.0      1      0   363272   7.0000   NaN        S  \n",
       "2  62.0      0      0   240276   9.6875   NaN        Q  \n",
       "3  27.0      0      0   315154   8.6625   NaN        S  \n",
       "4  22.0      1      1  3101298  12.2875   NaN        S  "
      ]
     },
     "execution_count": 51,
     "metadata": {},
     "output_type": "execute_result"
    }
   ],
   "source": [
    "test.head()"
   ]
  },
  {
   "cell_type": "code",
   "execution_count": 52,
   "metadata": {
    "execution": {
     "iopub.execute_input": "2021-03-29T03:34:59.980712Z",
     "iopub.status.busy": "2021-03-29T03:34:59.979920Z",
     "iopub.status.idle": "2021-03-29T03:34:59.981350Z",
     "shell.execute_reply": "2021-03-29T03:34:59.982553Z"
    },
    "papermill": {
     "duration": 0.119049,
     "end_time": "2021-03-29T03:34:59.982770",
     "exception": false,
     "start_time": "2021-03-29T03:34:59.863721",
     "status": "completed"
    },
    "tags": []
   },
   "outputs": [],
   "source": [
    "test['Age'] = test['Age'].fillna(test['Age'].median())\n",
    "test['Cabin'] = test['Cabin'].fillna(\"N\")\n",
    "test['Embarked'] = test['Embarked'].fillna(\"N\")"
   ]
  },
  {
   "cell_type": "code",
   "execution_count": 53,
   "metadata": {
    "execution": {
     "iopub.execute_input": "2021-03-29T03:35:00.186999Z",
     "iopub.status.busy": "2021-03-29T03:35:00.186339Z",
     "iopub.status.idle": "2021-03-29T03:35:00.190222Z",
     "shell.execute_reply": "2021-03-29T03:35:00.190747Z"
    },
    "papermill": {
     "duration": 0.104275,
     "end_time": "2021-03-29T03:35:00.190927",
     "exception": false,
     "start_time": "2021-03-29T03:35:00.086652",
     "status": "completed"
    },
    "tags": []
   },
   "outputs": [],
   "source": [
    "test.loc[test[\"Fare\"].isnull(),\"Fare\"] = test[\"Fare\"].mean()\n",
    "test[\"Fare\"] = test[\"Fare\"].map(lambda i : np.log(i) if i > 0 else 0)"
   ]
  },
  {
   "cell_type": "code",
   "execution_count": 54,
   "metadata": {
    "execution": {
     "iopub.execute_input": "2021-03-29T03:35:00.355188Z",
     "iopub.status.busy": "2021-03-29T03:35:00.354375Z",
     "iopub.status.idle": "2021-03-29T03:35:00.356672Z",
     "shell.execute_reply": "2021-03-29T03:35:00.355824Z"
    },
    "papermill": {
     "duration": 0.086655,
     "end_time": "2021-03-29T03:35:00.356826",
     "exception": false,
     "start_time": "2021-03-29T03:35:00.270171",
     "status": "completed"
    },
    "tags": []
   },
   "outputs": [],
   "source": [
    "test['Cabin'] = test['Cabin'].str[:1]"
   ]
  },
  {
   "cell_type": "code",
   "execution_count": 55,
   "metadata": {
    "execution": {
     "iopub.execute_input": "2021-03-29T03:35:00.549791Z",
     "iopub.status.busy": "2021-03-29T03:35:00.549099Z",
     "iopub.status.idle": "2021-03-29T03:35:00.552458Z",
     "shell.execute_reply": "2021-03-29T03:35:00.553117Z"
    },
    "papermill": {
     "duration": 0.103003,
     "end_time": "2021-03-29T03:35:00.553315",
     "exception": false,
     "start_time": "2021-03-29T03:35:00.450312",
     "status": "completed"
    },
    "tags": []
   },
   "outputs": [],
   "source": [
    "test.drop(['Name','PassengerId','Ticket'],axis=1,inplace=True)"
   ]
  },
  {
   "cell_type": "code",
   "execution_count": 56,
   "metadata": {
    "execution": {
     "iopub.execute_input": "2021-03-29T03:35:00.723214Z",
     "iopub.status.busy": "2021-03-29T03:35:00.722384Z",
     "iopub.status.idle": "2021-03-29T03:35:00.726044Z",
     "shell.execute_reply": "2021-03-29T03:35:00.726552Z"
    },
    "papermill": {
     "duration": 0.083352,
     "end_time": "2021-03-29T03:35:00.726685",
     "exception": false,
     "start_time": "2021-03-29T03:35:00.643333",
     "status": "completed"
    },
    "tags": []
   },
   "outputs": [
    {
     "data": {
      "text/html": [
       "<div>\n",
       "<style scoped>\n",
       "    .dataframe tbody tr th:only-of-type {\n",
       "        vertical-align: middle;\n",
       "    }\n",
       "\n",
       "    .dataframe tbody tr th {\n",
       "        vertical-align: top;\n",
       "    }\n",
       "\n",
       "    .dataframe thead th {\n",
       "        text-align: right;\n",
       "    }\n",
       "</style>\n",
       "<table border=\"1\" class=\"dataframe\">\n",
       "  <thead>\n",
       "    <tr style=\"text-align: right;\">\n",
       "      <th></th>\n",
       "      <th>Pclass</th>\n",
       "      <th>Age</th>\n",
       "      <th>SibSp</th>\n",
       "      <th>Parch</th>\n",
       "      <th>Fare</th>\n",
       "      <th>Sex_female</th>\n",
       "      <th>Sex_male</th>\n",
       "      <th>Cabin_A</th>\n",
       "      <th>Cabin_B</th>\n",
       "      <th>Cabin_C</th>\n",
       "      <th>Cabin_D</th>\n",
       "      <th>Cabin_E</th>\n",
       "      <th>Cabin_F</th>\n",
       "      <th>Cabin_G</th>\n",
       "      <th>Cabin_N</th>\n",
       "      <th>Embarked_C</th>\n",
       "      <th>Embarked_Q</th>\n",
       "      <th>Embarked_S</th>\n",
       "    </tr>\n",
       "  </thead>\n",
       "  <tbody>\n",
       "    <tr>\n",
       "      <th>0</th>\n",
       "      <td>3</td>\n",
       "      <td>34.5</td>\n",
       "      <td>0</td>\n",
       "      <td>0</td>\n",
       "      <td>2.057860</td>\n",
       "      <td>0</td>\n",
       "      <td>1</td>\n",
       "      <td>0</td>\n",
       "      <td>0</td>\n",
       "      <td>0</td>\n",
       "      <td>0</td>\n",
       "      <td>0</td>\n",
       "      <td>0</td>\n",
       "      <td>0</td>\n",
       "      <td>1</td>\n",
       "      <td>0</td>\n",
       "      <td>1</td>\n",
       "      <td>0</td>\n",
       "    </tr>\n",
       "    <tr>\n",
       "      <th>1</th>\n",
       "      <td>3</td>\n",
       "      <td>47.0</td>\n",
       "      <td>1</td>\n",
       "      <td>0</td>\n",
       "      <td>1.945910</td>\n",
       "      <td>1</td>\n",
       "      <td>0</td>\n",
       "      <td>0</td>\n",
       "      <td>0</td>\n",
       "      <td>0</td>\n",
       "      <td>0</td>\n",
       "      <td>0</td>\n",
       "      <td>0</td>\n",
       "      <td>0</td>\n",
       "      <td>1</td>\n",
       "      <td>0</td>\n",
       "      <td>0</td>\n",
       "      <td>1</td>\n",
       "    </tr>\n",
       "    <tr>\n",
       "      <th>2</th>\n",
       "      <td>2</td>\n",
       "      <td>62.0</td>\n",
       "      <td>0</td>\n",
       "      <td>0</td>\n",
       "      <td>2.270836</td>\n",
       "      <td>0</td>\n",
       "      <td>1</td>\n",
       "      <td>0</td>\n",
       "      <td>0</td>\n",
       "      <td>0</td>\n",
       "      <td>0</td>\n",
       "      <td>0</td>\n",
       "      <td>0</td>\n",
       "      <td>0</td>\n",
       "      <td>1</td>\n",
       "      <td>0</td>\n",
       "      <td>1</td>\n",
       "      <td>0</td>\n",
       "    </tr>\n",
       "    <tr>\n",
       "      <th>3</th>\n",
       "      <td>3</td>\n",
       "      <td>27.0</td>\n",
       "      <td>0</td>\n",
       "      <td>0</td>\n",
       "      <td>2.159003</td>\n",
       "      <td>0</td>\n",
       "      <td>1</td>\n",
       "      <td>0</td>\n",
       "      <td>0</td>\n",
       "      <td>0</td>\n",
       "      <td>0</td>\n",
       "      <td>0</td>\n",
       "      <td>0</td>\n",
       "      <td>0</td>\n",
       "      <td>1</td>\n",
       "      <td>0</td>\n",
       "      <td>0</td>\n",
       "      <td>1</td>\n",
       "    </tr>\n",
       "    <tr>\n",
       "      <th>4</th>\n",
       "      <td>3</td>\n",
       "      <td>22.0</td>\n",
       "      <td>1</td>\n",
       "      <td>1</td>\n",
       "      <td>2.508582</td>\n",
       "      <td>1</td>\n",
       "      <td>0</td>\n",
       "      <td>0</td>\n",
       "      <td>0</td>\n",
       "      <td>0</td>\n",
       "      <td>0</td>\n",
       "      <td>0</td>\n",
       "      <td>0</td>\n",
       "      <td>0</td>\n",
       "      <td>1</td>\n",
       "      <td>0</td>\n",
       "      <td>0</td>\n",
       "      <td>1</td>\n",
       "    </tr>\n",
       "  </tbody>\n",
       "</table>\n",
       "</div>"
      ],
      "text/plain": [
       "   Pclass   Age  SibSp  Parch      Fare  Sex_female  Sex_male  Cabin_A  \\\n",
       "0       3  34.5      0      0  2.057860           0         1        0   \n",
       "1       3  47.0      1      0  1.945910           1         0        0   \n",
       "2       2  62.0      0      0  2.270836           0         1        0   \n",
       "3       3  27.0      0      0  2.159003           0         1        0   \n",
       "4       3  22.0      1      1  2.508582           1         0        0   \n",
       "\n",
       "   Cabin_B  Cabin_C  Cabin_D  Cabin_E  Cabin_F  Cabin_G  Cabin_N  Embarked_C  \\\n",
       "0        0        0        0        0        0        0        1           0   \n",
       "1        0        0        0        0        0        0        1           0   \n",
       "2        0        0        0        0        0        0        1           0   \n",
       "3        0        0        0        0        0        0        1           0   \n",
       "4        0        0        0        0        0        0        1           0   \n",
       "\n",
       "   Embarked_Q  Embarked_S  \n",
       "0           1           0  \n",
       "1           0           1  \n",
       "2           1           0  \n",
       "3           0           1  \n",
       "4           0           1  "
      ]
     },
     "execution_count": 56,
     "metadata": {},
     "output_type": "execute_result"
    }
   ],
   "source": [
    "test = pd.get_dummies(test)\n",
    "test.head()"
   ]
  },
  {
   "cell_type": "code",
   "execution_count": 57,
   "metadata": {
    "execution": {
     "iopub.execute_input": "2021-03-29T03:35:00.854307Z",
     "iopub.status.busy": "2021-03-29T03:35:00.851376Z",
     "iopub.status.idle": "2021-03-29T03:35:00.869358Z",
     "shell.execute_reply": "2021-03-29T03:35:00.868968Z"
    },
    "papermill": {
     "duration": 0.081664,
     "end_time": "2021-03-29T03:35:00.869472",
     "exception": false,
     "start_time": "2021-03-29T03:35:00.787808",
     "status": "completed"
    },
    "tags": []
   },
   "outputs": [],
   "source": [
    "test_pred = model.predict(test)"
   ]
  },
  {
   "cell_type": "code",
   "execution_count": 58,
   "metadata": {
    "execution": {
     "iopub.execute_input": "2021-03-29T03:35:00.998012Z",
     "iopub.status.busy": "2021-03-29T03:35:00.997265Z",
     "iopub.status.idle": "2021-03-29T03:35:01.000904Z",
     "shell.execute_reply": "2021-03-29T03:35:01.000507Z"
    },
    "papermill": {
     "duration": 0.070891,
     "end_time": "2021-03-29T03:35:01.001008",
     "exception": false,
     "start_time": "2021-03-29T03:35:00.930117",
     "status": "completed"
    },
    "tags": []
   },
   "outputs": [
    {
     "data": {
      "text/html": [
       "<div>\n",
       "<style scoped>\n",
       "    .dataframe tbody tr th:only-of-type {\n",
       "        vertical-align: middle;\n",
       "    }\n",
       "\n",
       "    .dataframe tbody tr th {\n",
       "        vertical-align: top;\n",
       "    }\n",
       "\n",
       "    .dataframe thead th {\n",
       "        text-align: right;\n",
       "    }\n",
       "</style>\n",
       "<table border=\"1\" class=\"dataframe\">\n",
       "  <thead>\n",
       "    <tr style=\"text-align: right;\">\n",
       "      <th></th>\n",
       "      <th>PassengerId</th>\n",
       "      <th>Survived</th>\n",
       "    </tr>\n",
       "  </thead>\n",
       "  <tbody>\n",
       "    <tr>\n",
       "      <th>0</th>\n",
       "      <td>892</td>\n",
       "      <td>0</td>\n",
       "    </tr>\n",
       "    <tr>\n",
       "      <th>1</th>\n",
       "      <td>893</td>\n",
       "      <td>0</td>\n",
       "    </tr>\n",
       "    <tr>\n",
       "      <th>2</th>\n",
       "      <td>894</td>\n",
       "      <td>0</td>\n",
       "    </tr>\n",
       "    <tr>\n",
       "      <th>3</th>\n",
       "      <td>895</td>\n",
       "      <td>0</td>\n",
       "    </tr>\n",
       "    <tr>\n",
       "      <th>4</th>\n",
       "      <td>896</td>\n",
       "      <td>1</td>\n",
       "    </tr>\n",
       "  </tbody>\n",
       "</table>\n",
       "</div>"
      ],
      "text/plain": [
       "   PassengerId  Survived\n",
       "0          892         0\n",
       "1          893         0\n",
       "2          894         0\n",
       "3          895         0\n",
       "4          896         1"
      ]
     },
     "execution_count": 58,
     "metadata": {},
     "output_type": "execute_result"
    }
   ],
   "source": [
    "gender['Survived'] = test_pred\n",
    "gender.head()"
   ]
  },
  {
   "cell_type": "code",
   "execution_count": 59,
   "metadata": {
    "execution": {
     "iopub.execute_input": "2021-03-29T03:35:01.127556Z",
     "iopub.status.busy": "2021-03-29T03:35:01.126820Z",
     "iopub.status.idle": "2021-03-29T03:35:01.410858Z",
     "shell.execute_reply": "2021-03-29T03:35:01.410347Z"
    },
    "papermill": {
     "duration": 0.348254,
     "end_time": "2021-03-29T03:35:01.411001",
     "exception": false,
     "start_time": "2021-03-29T03:35:01.062747",
     "status": "completed"
    },
    "tags": []
   },
   "outputs": [],
   "source": [
    "gender.to_csv('submission.csv',index=False)"
   ]
  },
  {
   "cell_type": "markdown",
   "metadata": {
    "papermill": {
     "duration": 0.061796,
     "end_time": "2021-03-29T03:35:01.534707",
     "exception": false,
     "start_time": "2021-03-29T03:35:01.472911",
     "status": "completed"
    },
    "tags": []
   },
   "source": [
    "### THX to Reading My Notebook🌈"
   ]
  }
 ],
 "metadata": {
  "kernelspec": {
   "display_name": "Python 3",
   "language": "python",
   "name": "python3"
  },
  "language_info": {
   "codemirror_mode": {
    "name": "ipython",
    "version": 3
   },
   "file_extension": ".py",
   "mimetype": "text/x-python",
   "name": "python",
   "nbconvert_exporter": "python",
   "pygments_lexer": "ipython3",
   "version": "3.7.9"
  },
  "papermill": {
   "default_parameters": {},
   "duration": 35.229079,
   "end_time": "2021-03-29T03:35:02.407548",
   "environment_variables": {},
   "exception": null,
   "input_path": "__notebook__.ipynb",
   "output_path": "__notebook__.ipynb",
   "parameters": {},
   "start_time": "2021-03-29T03:34:27.178469",
   "version": "2.2.2"
  }
 },
 "nbformat": 4,
 "nbformat_minor": 4
}

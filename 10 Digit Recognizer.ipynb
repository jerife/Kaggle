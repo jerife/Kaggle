{
 "cells": [
  {
   "attachments": {
    "033ef31e-d3ff-4c86-9408-39d539b36845.jpg": {
     "image/jpeg": "[encoded data removed]"
    }
   },
   "cell_type": "markdown",
   "id": "reflected-holmes",
   "metadata": {
    "papermill": {
     "duration": 0.045036,
     "end_time": "2021-06-16T14:16:49.771321",
     "exception": false,
     "start_time": "2021-06-16T14:16:49.726285",
     "status": "completed"
    },
    "tags": []
   },
   "source": [
    "![68222222101258.jpg](attachment:033ef31e-d3ff-4c86-9408-39d539b36845.jpg)\n",
    "# Digit Recognizer\n",
    "\n",
    "## Overview\n",
    "This competition uses the most basic mnist data in deep learning. We need to create a model to classify the numbers in the image. <br/>\n",
    "You can use other techniques instead of deep learning. However, this notebook will be written based on deep learning. <br/>\n",
    "In addition, we will use \"Pytorch\" among the frameworks that enable deep learning.\n",
    "\n",
    "#### My opinion :\n",
    "* 1) I think it is important to use various techniques and get used to deep learning through this competition."
   ]
  },
  {
   "cell_type": "markdown",
   "id": "corrected-firewall",
   "metadata": {
    "papermill": {
     "duration": 0.044173,
     "end_time": "2021-06-16T14:16:49.860134",
     "exception": false,
     "start_time": "2021-06-16T14:16:49.815961",
     "status": "completed"
    },
    "tags": []
   },
   "source": [
    "***\n",
    "## My Workflow\n",
    "\n",
    "#### 1. Import & Install libray\n",
    "* Import Basic libray\n",
    "* Import Enginnering libray\n",
    "\n",
    "#### 2. Check out my data\n",
    "* Check Shape / Info / Describe\n",
    "\n",
    "#### 3. Exploratory Data Analysis(EDA) with Visualization [Before Preprocessing]\n",
    "* Plot the null values\n",
    "* Plot the label Percent\n",
    "* Plot the image Data\n",
    "\n",
    "#### 4. Feature Enginnering\n",
    "* Split Train set / Validation set\n",
    "* Convert to data suitable for CNN model (Dataset / Dataloader)\n",
    "\n",
    "#### 5.Modeling\n",
    "* CNN Modeling\n",
    "* Training\n",
    "* Evaluating\n",
    "\n",
    "#### 6. Submission\n",
    "* Submit the predictions.\n",
    "<br/><br/>\n",
    "***"
   ]
  },
  {
   "cell_type": "markdown",
   "id": "asian-sigma",
   "metadata": {
    "papermill": {
     "duration": 0.043977,
     "end_time": "2021-06-16T14:16:49.948819",
     "exception": false,
     "start_time": "2021-06-16T14:16:49.904842",
     "status": "completed"
    },
    "tags": []
   },
   "source": [
    "# 1. Import & Install libray\n",
    "* Import Basic libray\n",
    "* Import Enginnering libray"
   ]
  },
  {
   "cell_type": "code",
   "execution_count": 1,
   "id": "cosmetic-argentina",
   "metadata": {
    "execution": {
     "iopub.execute_input": "2021-06-16T14:16:50.052748Z",
     "iopub.status.busy": "2021-06-16T14:16:50.051933Z",
     "iopub.status.idle": "2021-06-16T14:16:51.037612Z",
     "shell.execute_reply": "2021-06-16T14:16:51.036523Z",
     "shell.execute_reply.started": "2021-06-16T13:54:21.748912Z"
    },
    "papermill": {
     "duration": 1.044584,
     "end_time": "2021-06-16T14:16:51.037809",
     "exception": false,
     "start_time": "2021-06-16T14:16:49.993225",
     "status": "completed"
    },
    "tags": []
   },
   "outputs": [],
   "source": [
    "import pandas as pd\n",
    "import numpy as np\n",
    "from collections import OrderedDict\n",
    "\n",
    "from PIL import Image\n",
    "import seaborn as sns\n",
    "import matplotlib.pyplot as plt\n",
    "import missingno as msno\n",
    "\n",
    "plt.style.use('seaborn')\n",
    "%matplotlib inline"
   ]
  },
  {
   "cell_type": "code",
   "execution_count": 2,
   "id": "violent-collins",
   "metadata": {
    "execution": {
     "iopub.execute_input": "2021-06-16T14:16:51.133382Z",
     "iopub.status.busy": "2021-06-16T14:16:51.132451Z",
     "iopub.status.idle": "2021-06-16T14:16:52.889477Z",
     "shell.execute_reply": "2021-06-16T14:16:52.888865Z",
     "shell.execute_reply.started": "2021-06-16T13:54:22.110045Z"
    },
    "papermill": {
     "duration": 1.806546,
     "end_time": "2021-06-16T14:16:52.889707",
     "exception": false,
     "start_time": "2021-06-16T14:16:51.083161",
     "status": "completed"
    },
    "tags": []
   },
   "outputs": [],
   "source": [
    "import torch\n",
    "import torch.nn as nn\n",
    "import torch.optim as optim\n",
    "from torch.utils.data import DataLoader, Dataset, TensorDataset\n",
    "\n",
    "import sklearn\n",
    "from sklearn.model_selection import train_test_split"
   ]
  },
  {
   "cell_type": "code",
   "execution_count": 3,
   "id": "severe-humanity",
   "metadata": {
    "execution": {
     "iopub.execute_input": "2021-06-16T14:16:52.988929Z",
     "iopub.status.busy": "2021-06-16T14:16:52.988277Z",
     "iopub.status.idle": "2021-06-16T14:17:00.023473Z",
     "shell.execute_reply": "2021-06-16T14:17:00.022910Z",
     "shell.execute_reply.started": "2021-06-16T13:54:22.695432Z"
    },
    "papermill": {
     "duration": 7.089678,
     "end_time": "2021-06-16T14:17:00.023620",
     "exception": false,
     "start_time": "2021-06-16T14:16:52.933942",
     "status": "completed"
    },
    "tags": []
   },
   "outputs": [
    {
     "data": {
      "text/html": [
       "<div>\n",
       "<style scoped>\n",
       "    .dataframe tbody tr th:only-of-type {\n",
       "        vertical-align: middle;\n",
       "    }\n",
       "\n",
       "    .dataframe tbody tr th {\n",
       "        vertical-align: top;\n",
       "    }\n",
       "\n",
       "    .dataframe thead th {\n",
       "        text-align: right;\n",
       "    }\n",
       "</style>\n",
       "<table border=\"1\" class=\"dataframe\">\n",
       "  <thead>\n",
       "    <tr style=\"text-align: right;\">\n",
       "      <th></th>\n",
       "      <th>label</th>\n",
       "      <th>pixel0</th>\n",
       "      <th>pixel1</th>\n",
       "      <th>pixel2</th>\n",
       "      <th>pixel3</th>\n",
       "      <th>pixel4</th>\n",
       "      <th>pixel5</th>\n",
       "      <th>pixel6</th>\n",
       "      <th>pixel7</th>\n",
       "      <th>pixel8</th>\n",
       "      <th>...</th>\n",
       "      <th>pixel774</th>\n",
       "      <th>pixel775</th>\n",
       "      <th>pixel776</th>\n",
       "      <th>pixel777</th>\n",
       "      <th>pixel778</th>\n",
       "      <th>pixel779</th>\n",
       "      <th>pixel780</th>\n",
       "      <th>pixel781</th>\n",
       "      <th>pixel782</th>\n",
       "      <th>pixel783</th>\n",
       "    </tr>\n",
       "  </thead>\n",
       "  <tbody>\n",
       "    <tr>\n",
       "      <th>0</th>\n",
       "      <td>1</td>\n",
       "      <td>0</td>\n",
       "      <td>0</td>\n",
       "      <td>0</td>\n",
       "      <td>0</td>\n",
       "      <td>0</td>\n",
       "      <td>0</td>\n",
       "      <td>0</td>\n",
       "      <td>0</td>\n",
       "      <td>0</td>\n",
       "      <td>...</td>\n",
       "      <td>0</td>\n",
       "      <td>0</td>\n",
       "      <td>0</td>\n",
       "      <td>0</td>\n",
       "      <td>0</td>\n",
       "      <td>0</td>\n",
       "      <td>0</td>\n",
       "      <td>0</td>\n",
       "      <td>0</td>\n",
       "      <td>0</td>\n",
       "    </tr>\n",
       "    <tr>\n",
       "      <th>1</th>\n",
       "      <td>0</td>\n",
       "      <td>0</td>\n",
       "      <td>0</td>\n",
       "      <td>0</td>\n",
       "      <td>0</td>\n",
       "      <td>0</td>\n",
       "      <td>0</td>\n",
       "      <td>0</td>\n",
       "      <td>0</td>\n",
       "      <td>0</td>\n",
       "      <td>...</td>\n",
       "      <td>0</td>\n",
       "      <td>0</td>\n",
       "      <td>0</td>\n",
       "      <td>0</td>\n",
       "      <td>0</td>\n",
       "      <td>0</td>\n",
       "      <td>0</td>\n",
       "      <td>0</td>\n",
       "      <td>0</td>\n",
       "      <td>0</td>\n",
       "    </tr>\n",
       "    <tr>\n",
       "      <th>2</th>\n",
       "      <td>1</td>\n",
       "      <td>0</td>\n",
       "      <td>0</td>\n",
       "      <td>0</td>\n",
       "      <td>0</td>\n",
       "      <td>0</td>\n",
       "      <td>0</td>\n",
       "      <td>0</td>\n",
       "      <td>0</td>\n",
       "      <td>0</td>\n",
       "      <td>...</td>\n",
       "      <td>0</td>\n",
       "      <td>0</td>\n",
       "      <td>0</td>\n",
       "      <td>0</td>\n",
       "      <td>0</td>\n",
       "      <td>0</td>\n",
       "      <td>0</td>\n",
       "      <td>0</td>\n",
       "      <td>0</td>\n",
       "      <td>0</td>\n",
       "    </tr>\n",
       "    <tr>\n",
       "      <th>3</th>\n",
       "      <td>4</td>\n",
       "      <td>0</td>\n",
       "      <td>0</td>\n",
       "      <td>0</td>\n",
       "      <td>0</td>\n",
       "      <td>0</td>\n",
       "      <td>0</td>\n",
       "      <td>0</td>\n",
       "      <td>0</td>\n",
       "      <td>0</td>\n",
       "      <td>...</td>\n",
       "      <td>0</td>\n",
       "      <td>0</td>\n",
       "      <td>0</td>\n",
       "      <td>0</td>\n",
       "      <td>0</td>\n",
       "      <td>0</td>\n",
       "      <td>0</td>\n",
       "      <td>0</td>\n",
       "      <td>0</td>\n",
       "      <td>0</td>\n",
       "    </tr>\n",
       "    <tr>\n",
       "      <th>4</th>\n",
       "      <td>0</td>\n",
       "      <td>0</td>\n",
       "      <td>0</td>\n",
       "      <td>0</td>\n",
       "      <td>0</td>\n",
       "      <td>0</td>\n",
       "      <td>0</td>\n",
       "      <td>0</td>\n",
       "      <td>0</td>\n",
       "      <td>0</td>\n",
       "      <td>...</td>\n",
       "      <td>0</td>\n",
       "      <td>0</td>\n",
       "      <td>0</td>\n",
       "      <td>0</td>\n",
       "      <td>0</td>\n",
       "      <td>0</td>\n",
       "      <td>0</td>\n",
       "      <td>0</td>\n",
       "      <td>0</td>\n",
       "      <td>0</td>\n",
       "    </tr>\n",
       "  </tbody>\n",
       "</table>\n",
       "<p>5 rows × 785 columns</p>\n",
       "</div>"
      ],
      "text/plain": [
       "   label  pixel0  pixel1  pixel2  pixel3  pixel4  pixel5  pixel6  pixel7  \\\n",
       "0      1       0       0       0       0       0       0       0       0   \n",
       "1      0       0       0       0       0       0       0       0       0   \n",
       "2      1       0       0       0       0       0       0       0       0   \n",
       "3      4       0       0       0       0       0       0       0       0   \n",
       "4      0       0       0       0       0       0       0       0       0   \n",
       "\n",
       "   pixel8  ...  pixel774  pixel775  pixel776  pixel777  pixel778  pixel779  \\\n",
       "0       0  ...         0         0         0         0         0         0   \n",
       "1       0  ...         0         0         0         0         0         0   \n",
       "2       0  ...         0         0         0         0         0         0   \n",
       "3       0  ...         0         0         0         0         0         0   \n",
       "4       0  ...         0         0         0         0         0         0   \n",
       "\n",
       "   pixel780  pixel781  pixel782  pixel783  \n",
       "0         0         0         0         0  \n",
       "1         0         0         0         0  \n",
       "2         0         0         0         0  \n",
       "3         0         0         0         0  \n",
       "4         0         0         0         0  \n",
       "\n",
       "[5 rows x 785 columns]"
      ]
     },
     "execution_count": 3,
     "metadata": {},
     "output_type": "execute_result"
    }
   ],
   "source": [
    "train_df = pd.read_csv('/kaggle/input/digit-recognizer/train.csv')\n",
    "test_df = pd.read_csv('/kaggle/input/digit-recognizer/test.csv')\n",
    "train_df.head()"
   ]
  },
  {
   "cell_type": "markdown",
   "id": "unknown-blackberry",
   "metadata": {
    "papermill": {
     "duration": 0.044525,
     "end_time": "2021-06-16T14:17:00.113823",
     "exception": false,
     "start_time": "2021-06-16T14:17:00.069298",
     "status": "completed"
    },
    "tags": []
   },
   "source": [
    "# 2. Check out my data\n",
    "* Check Shape / Info / Describe"
   ]
  },
  {
   "cell_type": "code",
   "execution_count": 4,
   "id": "related-democracy",
   "metadata": {
    "execution": {
     "iopub.execute_input": "2021-06-16T14:17:00.213087Z",
     "iopub.status.busy": "2021-06-16T14:17:00.211024Z",
     "iopub.status.idle": "2021-06-16T14:17:00.216046Z",
     "shell.execute_reply": "2021-06-16T14:17:00.216598Z",
     "shell.execute_reply.started": "2021-06-16T13:54:26.366618Z"
    },
    "papermill": {
     "duration": 0.057557,
     "end_time": "2021-06-16T14:17:00.216777",
     "exception": false,
     "start_time": "2021-06-16T14:17:00.159220",
     "status": "completed"
    },
    "tags": []
   },
   "outputs": [
    {
     "name": "stdout",
     "output_type": "stream",
     "text": [
      "train data shape : (42000, 785)\n",
      "test data shape : (28000, 784)\n"
     ]
    }
   ],
   "source": [
    "print(\"train data shape : {}\".format(train_df.shape))\n",
    "print(\"test data shape : {}\".format(test_df.shape))"
   ]
  },
  {
   "cell_type": "code",
   "execution_count": 5,
   "id": "latest-breathing",
   "metadata": {
    "execution": {
     "iopub.execute_input": "2021-06-16T14:17:00.323620Z",
     "iopub.status.busy": "2021-06-16T14:17:00.321785Z",
     "iopub.status.idle": "2021-06-16T14:17:03.243533Z",
     "shell.execute_reply": "2021-06-16T14:17:03.244090Z",
     "shell.execute_reply.started": "2021-06-16T13:54:26.375842Z"
    },
    "papermill": {
     "duration": 2.982646,
     "end_time": "2021-06-16T14:17:03.244328",
     "exception": false,
     "start_time": "2021-06-16T14:17:00.261682",
     "status": "completed"
    },
    "tags": []
   },
   "outputs": [
    {
     "data": {
      "text/html": [
       "<div>\n",
       "<style scoped>\n",
       "    .dataframe tbody tr th:only-of-type {\n",
       "        vertical-align: middle;\n",
       "    }\n",
       "\n",
       "    .dataframe tbody tr th {\n",
       "        vertical-align: top;\n",
       "    }\n",
       "\n",
       "    .dataframe thead th {\n",
       "        text-align: right;\n",
       "    }\n",
       "</style>\n",
       "<table border=\"1\" class=\"dataframe\">\n",
       "  <thead>\n",
       "    <tr style=\"text-align: right;\">\n",
       "      <th></th>\n",
       "      <th>label</th>\n",
       "      <th>pixel0</th>\n",
       "      <th>pixel1</th>\n",
       "      <th>pixel2</th>\n",
       "      <th>pixel3</th>\n",
       "      <th>pixel4</th>\n",
       "      <th>pixel5</th>\n",
       "      <th>pixel6</th>\n",
       "      <th>pixel7</th>\n",
       "      <th>pixel8</th>\n",
       "      <th>...</th>\n",
       "      <th>pixel774</th>\n",
       "      <th>pixel775</th>\n",
       "      <th>pixel776</th>\n",
       "      <th>pixel777</th>\n",
       "      <th>pixel778</th>\n",
       "      <th>pixel779</th>\n",
       "      <th>pixel780</th>\n",
       "      <th>pixel781</th>\n",
       "      <th>pixel782</th>\n",
       "      <th>pixel783</th>\n",
       "    </tr>\n",
       "  </thead>\n",
       "  <tbody>\n",
       "    <tr>\n",
       "      <th>count</th>\n",
       "      <td>42000.000000</td>\n",
       "      <td>42000.0</td>\n",
       "      <td>42000.0</td>\n",
       "      <td>42000.0</td>\n",
       "      <td>42000.0</td>\n",
       "      <td>42000.0</td>\n",
       "      <td>42000.0</td>\n",
       "      <td>42000.0</td>\n",
       "      <td>42000.0</td>\n",
       "      <td>42000.0</td>\n",
       "      <td>...</td>\n",
       "      <td>42000.000000</td>\n",
       "      <td>42000.000000</td>\n",
       "      <td>42000.000000</td>\n",
       "      <td>42000.00000</td>\n",
       "      <td>42000.000000</td>\n",
       "      <td>42000.000000</td>\n",
       "      <td>42000.0</td>\n",
       "      <td>42000.0</td>\n",
       "      <td>42000.0</td>\n",
       "      <td>42000.0</td>\n",
       "    </tr>\n",
       "    <tr>\n",
       "      <th>mean</th>\n",
       "      <td>4.456643</td>\n",
       "      <td>0.0</td>\n",
       "      <td>0.0</td>\n",
       "      <td>0.0</td>\n",
       "      <td>0.0</td>\n",
       "      <td>0.0</td>\n",
       "      <td>0.0</td>\n",
       "      <td>0.0</td>\n",
       "      <td>0.0</td>\n",
       "      <td>0.0</td>\n",
       "      <td>...</td>\n",
       "      <td>0.219286</td>\n",
       "      <td>0.117095</td>\n",
       "      <td>0.059024</td>\n",
       "      <td>0.02019</td>\n",
       "      <td>0.017238</td>\n",
       "      <td>0.002857</td>\n",
       "      <td>0.0</td>\n",
       "      <td>0.0</td>\n",
       "      <td>0.0</td>\n",
       "      <td>0.0</td>\n",
       "    </tr>\n",
       "    <tr>\n",
       "      <th>std</th>\n",
       "      <td>2.887730</td>\n",
       "      <td>0.0</td>\n",
       "      <td>0.0</td>\n",
       "      <td>0.0</td>\n",
       "      <td>0.0</td>\n",
       "      <td>0.0</td>\n",
       "      <td>0.0</td>\n",
       "      <td>0.0</td>\n",
       "      <td>0.0</td>\n",
       "      <td>0.0</td>\n",
       "      <td>...</td>\n",
       "      <td>6.312890</td>\n",
       "      <td>4.633819</td>\n",
       "      <td>3.274488</td>\n",
       "      <td>1.75987</td>\n",
       "      <td>1.894498</td>\n",
       "      <td>0.414264</td>\n",
       "      <td>0.0</td>\n",
       "      <td>0.0</td>\n",
       "      <td>0.0</td>\n",
       "      <td>0.0</td>\n",
       "    </tr>\n",
       "    <tr>\n",
       "      <th>min</th>\n",
       "      <td>0.000000</td>\n",
       "      <td>0.0</td>\n",
       "      <td>0.0</td>\n",
       "      <td>0.0</td>\n",
       "      <td>0.0</td>\n",
       "      <td>0.0</td>\n",
       "      <td>0.0</td>\n",
       "      <td>0.0</td>\n",
       "      <td>0.0</td>\n",
       "      <td>0.0</td>\n",
       "      <td>...</td>\n",
       "      <td>0.000000</td>\n",
       "      <td>0.000000</td>\n",
       "      <td>0.000000</td>\n",
       "      <td>0.00000</td>\n",
       "      <td>0.000000</td>\n",
       "      <td>0.000000</td>\n",
       "      <td>0.0</td>\n",
       "      <td>0.0</td>\n",
       "      <td>0.0</td>\n",
       "      <td>0.0</td>\n",
       "    </tr>\n",
       "    <tr>\n",
       "      <th>25%</th>\n",
       "      <td>2.000000</td>\n",
       "      <td>0.0</td>\n",
       "      <td>0.0</td>\n",
       "      <td>0.0</td>\n",
       "      <td>0.0</td>\n",
       "      <td>0.0</td>\n",
       "      <td>0.0</td>\n",
       "      <td>0.0</td>\n",
       "      <td>0.0</td>\n",
       "      <td>0.0</td>\n",
       "      <td>...</td>\n",
       "      <td>0.000000</td>\n",
       "      <td>0.000000</td>\n",
       "      <td>0.000000</td>\n",
       "      <td>0.00000</td>\n",
       "      <td>0.000000</td>\n",
       "      <td>0.000000</td>\n",
       "      <td>0.0</td>\n",
       "      <td>0.0</td>\n",
       "      <td>0.0</td>\n",
       "      <td>0.0</td>\n",
       "    </tr>\n",
       "    <tr>\n",
       "      <th>50%</th>\n",
       "      <td>4.000000</td>\n",
       "      <td>0.0</td>\n",
       "      <td>0.0</td>\n",
       "      <td>0.0</td>\n",
       "      <td>0.0</td>\n",
       "      <td>0.0</td>\n",
       "      <td>0.0</td>\n",
       "      <td>0.0</td>\n",
       "      <td>0.0</td>\n",
       "      <td>0.0</td>\n",
       "      <td>...</td>\n",
       "      <td>0.000000</td>\n",
       "      <td>0.000000</td>\n",
       "      <td>0.000000</td>\n",
       "      <td>0.00000</td>\n",
       "      <td>0.000000</td>\n",
       "      <td>0.000000</td>\n",
       "      <td>0.0</td>\n",
       "      <td>0.0</td>\n",
       "      <td>0.0</td>\n",
       "      <td>0.0</td>\n",
       "    </tr>\n",
       "    <tr>\n",
       "      <th>75%</th>\n",
       "      <td>7.000000</td>\n",
       "      <td>0.0</td>\n",
       "      <td>0.0</td>\n",
       "      <td>0.0</td>\n",
       "      <td>0.0</td>\n",
       "      <td>0.0</td>\n",
       "      <td>0.0</td>\n",
       "      <td>0.0</td>\n",
       "      <td>0.0</td>\n",
       "      <td>0.0</td>\n",
       "      <td>...</td>\n",
       "      <td>0.000000</td>\n",
       "      <td>0.000000</td>\n",
       "      <td>0.000000</td>\n",
       "      <td>0.00000</td>\n",
       "      <td>0.000000</td>\n",
       "      <td>0.000000</td>\n",
       "      <td>0.0</td>\n",
       "      <td>0.0</td>\n",
       "      <td>0.0</td>\n",
       "      <td>0.0</td>\n",
       "    </tr>\n",
       "    <tr>\n",
       "      <th>max</th>\n",
       "      <td>9.000000</td>\n",
       "      <td>0.0</td>\n",
       "      <td>0.0</td>\n",
       "      <td>0.0</td>\n",
       "      <td>0.0</td>\n",
       "      <td>0.0</td>\n",
       "      <td>0.0</td>\n",
       "      <td>0.0</td>\n",
       "      <td>0.0</td>\n",
       "      <td>0.0</td>\n",
       "      <td>...</td>\n",
       "      <td>254.000000</td>\n",
       "      <td>254.000000</td>\n",
       "      <td>253.000000</td>\n",
       "      <td>253.00000</td>\n",
       "      <td>254.000000</td>\n",
       "      <td>62.000000</td>\n",
       "      <td>0.0</td>\n",
       "      <td>0.0</td>\n",
       "      <td>0.0</td>\n",
       "      <td>0.0</td>\n",
       "    </tr>\n",
       "  </tbody>\n",
       "</table>\n",
       "<p>8 rows × 785 columns</p>\n",
       "</div>"
      ],
      "text/plain": [
       "              label   pixel0   pixel1   pixel2   pixel3   pixel4   pixel5  \\\n",
       "count  42000.000000  42000.0  42000.0  42000.0  42000.0  42000.0  42000.0   \n",
       "mean       4.456643      0.0      0.0      0.0      0.0      0.0      0.0   \n",
       "std        2.887730      0.0      0.0      0.0      0.0      0.0      0.0   \n",
       "min        0.000000      0.0      0.0      0.0      0.0      0.0      0.0   \n",
       "25%        2.000000      0.0      0.0      0.0      0.0      0.0      0.0   \n",
       "50%        4.000000      0.0      0.0      0.0      0.0      0.0      0.0   \n",
       "75%        7.000000      0.0      0.0      0.0      0.0      0.0      0.0   \n",
       "max        9.000000      0.0      0.0      0.0      0.0      0.0      0.0   \n",
       "\n",
       "        pixel6   pixel7   pixel8  ...      pixel774      pixel775  \\\n",
       "count  42000.0  42000.0  42000.0  ...  42000.000000  42000.000000   \n",
       "mean       0.0      0.0      0.0  ...      0.219286      0.117095   \n",
       "std        0.0      0.0      0.0  ...      6.312890      4.633819   \n",
       "min        0.0      0.0      0.0  ...      0.000000      0.000000   \n",
       "25%        0.0      0.0      0.0  ...      0.000000      0.000000   \n",
       "50%        0.0      0.0      0.0  ...      0.000000      0.000000   \n",
       "75%        0.0      0.0      0.0  ...      0.000000      0.000000   \n",
       "max        0.0      0.0      0.0  ...    254.000000    254.000000   \n",
       "\n",
       "           pixel776     pixel777      pixel778      pixel779  pixel780  \\\n",
       "count  42000.000000  42000.00000  42000.000000  42000.000000   42000.0   \n",
       "mean       0.059024      0.02019      0.017238      0.002857       0.0   \n",
       "std        3.274488      1.75987      1.894498      0.414264       0.0   \n",
       "min        0.000000      0.00000      0.000000      0.000000       0.0   \n",
       "25%        0.000000      0.00000      0.000000      0.000000       0.0   \n",
       "50%        0.000000      0.00000      0.000000      0.000000       0.0   \n",
       "75%        0.000000      0.00000      0.000000      0.000000       0.0   \n",
       "max      253.000000    253.00000    254.000000     62.000000       0.0   \n",
       "\n",
       "       pixel781  pixel782  pixel783  \n",
       "count   42000.0   42000.0   42000.0  \n",
       "mean        0.0       0.0       0.0  \n",
       "std         0.0       0.0       0.0  \n",
       "min         0.0       0.0       0.0  \n",
       "25%         0.0       0.0       0.0  \n",
       "50%         0.0       0.0       0.0  \n",
       "75%         0.0       0.0       0.0  \n",
       "max         0.0       0.0       0.0  \n",
       "\n",
       "[8 rows x 785 columns]"
      ]
     },
     "execution_count": 5,
     "metadata": {},
     "output_type": "execute_result"
    }
   ],
   "source": [
    "train_df.describe()"
   ]
  },
  {
   "cell_type": "code",
   "execution_count": 6,
   "id": "determined-marble",
   "metadata": {
    "execution": {
     "iopub.execute_input": "2021-06-16T14:17:03.347769Z",
     "iopub.status.busy": "2021-06-16T14:17:03.346432Z",
     "iopub.status.idle": "2021-06-16T14:17:04.242274Z",
     "shell.execute_reply": "2021-06-16T14:17:04.242890Z",
     "shell.execute_reply.started": "2021-06-16T13:54:28.460725Z"
    },
    "papermill": {
     "duration": 0.950862,
     "end_time": "2021-06-16T14:17:04.243069",
     "exception": false,
     "start_time": "2021-06-16T14:17:03.292207",
     "status": "completed"
    },
    "tags": []
   },
   "outputs": [
    {
     "name": "stdout",
     "output_type": "stream",
     "text": [
      "Check train data values : \n",
      "[  0   1   2   3   4   5   6   7   8   9  10  11  12  13  14  15  16  17\n",
      "  18  19  20  21  22  23  24  25  26  27  28  29  30  31  32  33  34  35\n",
      "  36  37  38  39  40  41  42  43  44  45  46  47  48  49  50  51  52  53\n",
      "  54  55  56  57  58  59  60  61  62  63  64  65  66  67  68  69  70  71\n",
      "  72  73  74  75  76  77  78  79  80  81  82  83  84  85  86  87  88  89\n",
      "  90  91  92  93  94  95  96  97  98  99 100 101 102 103 104 105 106 107\n",
      " 108 109 110 111 112 113 114 115 116 117 118 119 120 121 122 123 124 125\n",
      " 126 127 128 129 130 131 132 133 134 135 136 137 138 139 140 141 142 143\n",
      " 144 145 146 147 148 149 150 151 152 153 154 155 156 157 158 159 160 161\n",
      " 162 163 164 165 166 167 168 169 170 171 172 173 174 175 176 177 178 179\n",
      " 180 181 182 183 184 185 186 187 188 189 190 191 192 193 194 195 196 197\n",
      " 198 199 200 201 202 203 204 205 206 207 208 209 210 211 212 213 214 215\n",
      " 216 217 218 219 220 221 222 223 224 225 226 227 228 229 230 231 232 233\n",
      " 234 235 236 237 238 239 240 241 242 243 244 245 246 247 248 249 250 251\n",
      " 252 253 254 255]\n"
     ]
    }
   ],
   "source": [
    "print(\"Check train data values : \\n{}\".format(np.unique(train_df)))"
   ]
  },
  {
   "cell_type": "code",
   "execution_count": 7,
   "id": "conceptual-lunch",
   "metadata": {
    "execution": {
     "iopub.execute_input": "2021-06-16T14:17:04.344487Z",
     "iopub.status.busy": "2021-06-16T14:17:04.343654Z",
     "iopub.status.idle": "2021-06-16T14:17:04.365509Z",
     "shell.execute_reply": "2021-06-16T14:17:04.364950Z",
     "shell.execute_reply.started": "2021-06-16T13:54:29.242523Z"
    },
    "papermill": {
     "duration": 0.075702,
     "end_time": "2021-06-16T14:17:04.365651",
     "exception": false,
     "start_time": "2021-06-16T14:17:04.289949",
     "status": "completed"
    },
    "tags": []
   },
   "outputs": [
    {
     "data": {
      "image/png": "[encoded data removed]",
      "text/html": [
       "<div style=\"vertical-align: middle;\"><strong>Greys</strong> </div><div class=\"cmap\"><img alt=\"Greys colormap\" title=\"Greys\" style=\"border: 1px solid #555;\" src=\"data:image/png;base64,iVBORw0KGgoAAAANSUhEUgAAAgAAAABACAYAAABsv8+/AAAAFHRFWHRUaXRsZQBHcmV5cyBjb2xvcm1hcORtd/YAAAAadEVYdERlc2NyaXB0aW9uAEdyZXlzIGNvbG9ybWFwGjLeEAAAADB0RVh0QXV0aG9yAE1hdHBsb3RsaWIgdjMuNC4xLCBodHRwczovL21hdHBsb3RsaWIub3JnmTvVjgAAADJ0RVh0U29mdHdhcmUATWF0cGxvdGxpYiB2My40LjEsIGh0dHBzOi8vbWF0cGxvdGxpYi5vcme3nUqpAAABaklEQVR4nO3WSwrCMABAwej9z9y6UReCKPYrb2YTmjRpoJt3med5HmOM+/C09/NR3333/Gl+6fre+9Za/3Zces7R+6dpWrT+r+esvW+v87Y+91/v8es9X+e3fu8s99jq/57t/cd4HQBAjgAAgCABAABBAgAAggQAAAQJAAAIEgAAECQAACBIAABAkAAAgCABAABBAgAAggQAAAQJAAAIEgAAECQAACBIAABAkAAAgCABAABBAgAAggQAAAQJAAAIEgAAECQAACBIAABAkAAAgCABAABBAgAAggQAAAQJAAAIEgAAECQAACBIAABAkAAAgCABAABBAgAAggQAAAQJAAAIEgAAECQAACBIAABAkAAAgCABAABBAgAAggQAAAQJAAAIEgAAECQAACBIAABAkAAAgCABAABBAgAAggQAAAQJAAAIEgAAECQAACBIAABAkAAAgCABAABBAgAAggQAAAQJAAAIEgAAEHQDHfmnnRvzoAgAAAAASUVORK5CYII=\"></div><div style=\"vertical-align: middle; max-width: 514px; display: flex; justify-content: space-between;\"><div style=\"float: left;\"><div title=\"#ffffffff\" style=\"display: inline-block; width: 1em; height: 1em; margin: 0; vertical-align: middle; border: 1px solid #555; background-color: #ffffffff;\"></div> under</div><div style=\"margin: 0 auto; display: inline-block;\">bad <div title=\"#00000000\" style=\"display: inline-block; width: 1em; height: 1em; margin: 0; vertical-align: middle; border: 1px solid #555; background-color: #00000000;\"></div></div><div style=\"float: right;\">over <div title=\"#000000ff\" style=\"display: inline-block; width: 1em; height: 1em; margin: 0; vertical-align: middle; border: 1px solid #555; background-color: #000000ff;\"></div></div>"
      ],
      "text/plain": [
       "<matplotlib.colors.LinearSegmentedColormap at 0x7f7ed174ea90>"
      ]
     },
     "execution_count": 7,
     "metadata": {},
     "output_type": "execute_result"
    }
   ],
   "source": [
    "sns.color_palette(\"Greys\", as_cmap=True)"
   ]
  },
  {
   "cell_type": "code",
   "execution_count": 8,
   "id": "aggregate-bhutan",
   "metadata": {
    "execution": {
     "iopub.execute_input": "2021-06-16T14:17:04.482938Z",
     "iopub.status.busy": "2021-06-16T14:17:04.482086Z",
     "iopub.status.idle": "2021-06-16T14:17:04.566989Z",
     "shell.execute_reply": "2021-06-16T14:17:04.567552Z",
     "shell.execute_reply.started": "2021-06-16T13:54:29.264126Z"
    },
    "papermill": {
     "duration": 0.154977,
     "end_time": "2021-06-16T14:17:04.567746",
     "exception": false,
     "start_time": "2021-06-16T14:17:04.412769",
     "status": "completed"
    },
    "tags": []
   },
   "outputs": [
    {
     "data": {
      "image/png": "[encoded data removed]",
      "text/plain": [
       "<Figure size 720x72 with 1 Axes>"
      ]
     },
     "metadata": {
      "needs_background": "light"
     },
     "output_type": "display_data"
    }
   ],
   "source": [
    "Greys_palette = sns.color_palette(\"Greys\",10)\n",
    "sns.palplot(Greys_palette)"
   ]
  },
  {
   "cell_type": "markdown",
   "id": "reflected-romantic",
   "metadata": {
    "papermill": {
     "duration": 0.047466,
     "end_time": "2021-06-16T14:17:04.663131",
     "exception": false,
     "start_time": "2021-06-16T14:17:04.615665",
     "status": "completed"
    },
    "tags": []
   },
   "source": [
    "# 3. Exploratory Data Analysis(EDA) with Visualization [Before Preprocessing]\n",
    "* Plot the null values\n",
    "* Plot the label Percent\n",
    "* Plot the image Data"
   ]
  },
  {
   "cell_type": "markdown",
   "id": "separate-burton",
   "metadata": {
    "papermill": {
     "duration": 0.0469,
     "end_time": "2021-06-16T14:17:04.757837",
     "exception": false,
     "start_time": "2021-06-16T14:17:04.710937",
     "status": "completed"
    },
    "tags": []
   },
   "source": [
    "### 3-1) Plot the null values"
   ]
  },
  {
   "cell_type": "code",
   "execution_count": 9,
   "id": "atomic-offering",
   "metadata": {
    "execution": {
     "iopub.execute_input": "2021-06-16T14:17:04.859594Z",
     "iopub.status.busy": "2021-06-16T14:17:04.858104Z",
     "iopub.status.idle": "2021-06-16T14:17:05.029062Z",
     "shell.execute_reply": "2021-06-16T14:17:05.028505Z",
     "shell.execute_reply.started": "2021-06-16T13:54:29.33955Z"
    },
    "papermill": {
     "duration": 0.224323,
     "end_time": "2021-06-16T14:17:05.029286",
     "exception": false,
     "start_time": "2021-06-16T14:17:04.804963",
     "status": "completed"
    },
    "tags": []
   },
   "outputs": [
    {
     "data": {
      "text/html": [
       "<style  type=\"text/css\" >\n",
       "#T_86bdc906_cead_11eb_b2d3_0242ac130202row0_col0,#T_86bdc906_cead_11eb_b2d3_0242ac130202row1_col0,#T_86bdc906_cead_11eb_b2d3_0242ac130202row2_col0,#T_86bdc906_cead_11eb_b2d3_0242ac130202row3_col0,#T_86bdc906_cead_11eb_b2d3_0242ac130202row4_col0{\n",
       "            background-color:  #ffffff;\n",
       "            color:  #000000;\n",
       "        }</style><table id=\"T_86bdc906_cead_11eb_b2d3_0242ac130202\" ><thead>    <tr>        <th class=\"blank level0\" ></th>        <th class=\"col_heading level0 col0\" >Null Count</th>    </tr></thead><tbody>\n",
       "                <tr>\n",
       "                        <th id=\"T_86bdc906_cead_11eb_b2d3_0242ac130202level0_row0\" class=\"row_heading level0 row0\" >pixel783</th>\n",
       "                        <td id=\"T_86bdc906_cead_11eb_b2d3_0242ac130202row0_col0\" class=\"data row0 col0\" >0</td>\n",
       "            </tr>\n",
       "            <tr>\n",
       "                        <th id=\"T_86bdc906_cead_11eb_b2d3_0242ac130202level0_row1\" class=\"row_heading level0 row1\" >pixel267</th>\n",
       "                        <td id=\"T_86bdc906_cead_11eb_b2d3_0242ac130202row1_col0\" class=\"data row1 col0\" >0</td>\n",
       "            </tr>\n",
       "            <tr>\n",
       "                        <th id=\"T_86bdc906_cead_11eb_b2d3_0242ac130202level0_row2\" class=\"row_heading level0 row2\" >pixel265</th>\n",
       "                        <td id=\"T_86bdc906_cead_11eb_b2d3_0242ac130202row2_col0\" class=\"data row2 col0\" >0</td>\n",
       "            </tr>\n",
       "            <tr>\n",
       "                        <th id=\"T_86bdc906_cead_11eb_b2d3_0242ac130202level0_row3\" class=\"row_heading level0 row3\" >pixel264</th>\n",
       "                        <td id=\"T_86bdc906_cead_11eb_b2d3_0242ac130202row3_col0\" class=\"data row3 col0\" >0</td>\n",
       "            </tr>\n",
       "            <tr>\n",
       "                        <th id=\"T_86bdc906_cead_11eb_b2d3_0242ac130202level0_row4\" class=\"row_heading level0 row4\" >pixel263</th>\n",
       "                        <td id=\"T_86bdc906_cead_11eb_b2d3_0242ac130202row4_col0\" class=\"data row4 col0\" >0</td>\n",
       "            </tr>\n",
       "    </tbody></table>"
      ],
      "text/plain": [
       "<pandas.io.formats.style.Styler at 0x7f7e11531fd0>"
      ]
     },
     "execution_count": 9,
     "metadata": {},
     "output_type": "execute_result"
    }
   ],
   "source": [
    "pd.DataFrame(train_df.isnull().sum().sort_values(ascending=False), columns=[\"Null Count\"]).head().style.background_gradient(cmap='Greys')"
   ]
  },
  {
   "cell_type": "code",
   "execution_count": 10,
   "id": "designed-ranch",
   "metadata": {
    "execution": {
     "iopub.execute_input": "2021-06-16T14:17:05.135649Z",
     "iopub.status.busy": "2021-06-16T14:17:05.134458Z",
     "iopub.status.idle": "2021-06-16T14:17:13.804608Z",
     "shell.execute_reply": "2021-06-16T14:17:13.807409Z",
     "shell.execute_reply.started": "2021-06-16T13:54:29.439091Z"
    },
    "papermill": {
     "duration": 8.729393,
     "end_time": "2021-06-16T14:17:13.807669",
     "exception": false,
     "start_time": "2021-06-16T14:17:05.078276",
     "status": "completed"
    },
    "tags": []
   },
   "outputs": [
    {
     "data": {
      "text/plain": [
       "<AxesSubplot:>"
      ]
     },
     "execution_count": 10,
     "metadata": {},
     "output_type": "execute_result"
    },
    {
     "data": {
      "image/png": "[encoded data removed]",
      "text/plain": [
       "<Figure size 1440x360 with 2 Axes>"
      ]
     },
     "metadata": {
      "needs_background": "light"
     },
     "output_type": "display_data"
    }
   ],
   "source": [
    "msno.matrix(df=train_df.iloc[:,:],figsize=(20,5),color=Greys_palette[8])"
   ]
  },
  {
   "cell_type": "markdown",
   "id": "sunrise-image",
   "metadata": {
    "papermill": {
     "duration": 0.089091,
     "end_time": "2021-06-16T14:17:13.994755",
     "exception": false,
     "start_time": "2021-06-16T14:17:13.905664",
     "status": "completed"
    },
    "tags": []
   },
   "source": [
    "### 3-2) Plot the label Percent"
   ]
  },
  {
   "cell_type": "code",
   "execution_count": 11,
   "id": "arranged-chassis",
   "metadata": {
    "execution": {
     "iopub.execute_input": "2021-06-16T14:17:14.187089Z",
     "iopub.status.busy": "2021-06-16T14:17:14.185991Z",
     "iopub.status.idle": "2021-06-16T14:17:14.523954Z",
     "shell.execute_reply": "2021-06-16T14:17:14.525176Z",
     "shell.execute_reply.started": "2021-06-16T13:54:36.171649Z"
    },
    "papermill": {
     "duration": 0.436393,
     "end_time": "2021-06-16T14:17:14.525445",
     "exception": false,
     "start_time": "2021-06-16T14:17:14.089052",
     "status": "completed"
    },
    "tags": []
   },
   "outputs": [
    {
     "data": {
      "text/plain": [
       "Text(0.1, 0.92, 'distribution by Label in Mnist')"
      ]
     },
     "execution_count": 11,
     "metadata": {},
     "output_type": "execute_result"
    },
    {
     "data": {
      "image/png": "[encoded data removed]",
      "text/plain": [
       "<Figure size 720x504 with 1 Axes>"
      ]
     },
     "metadata": {
      "needs_background": "light"
     },
     "output_type": "display_data"
    }
   ],
   "source": [
    "fig, ax = plt.subplots(1,1, figsize=(10,7))\n",
    "sns.countplot(x='label', data=train_df, palette=Greys_palette[::-1], ax=ax)\n",
    "ax.patch.set_alpha(0)\n",
    "\n",
    "fig.text(0.1,0.92,\"distribution by Label in Mnist\", fontweight=\"bold\", fontfamily='serif', fontsize=17)"
   ]
  },
  {
   "cell_type": "markdown",
   "id": "synthetic-phenomenon",
   "metadata": {
    "papermill": {
     "duration": 0.082592,
     "end_time": "2021-06-16T14:17:14.691722",
     "exception": false,
     "start_time": "2021-06-16T14:17:14.609130",
     "status": "completed"
    },
    "tags": []
   },
   "source": [
    "### 3-3) * Plot the image Data"
   ]
  },
  {
   "cell_type": "code",
   "execution_count": 12,
   "id": "literary-knowing",
   "metadata": {
    "execution": {
     "iopub.execute_input": "2021-06-16T14:17:14.863329Z",
     "iopub.status.busy": "2021-06-16T14:17:14.862339Z",
     "iopub.status.idle": "2021-06-16T14:17:14.866772Z",
     "shell.execute_reply": "2021-06-16T14:17:14.867529Z",
     "shell.execute_reply.started": "2021-06-16T13:54:36.335233Z"
    },
    "papermill": {
     "duration": 0.093747,
     "end_time": "2021-06-16T14:17:14.867770",
     "exception": false,
     "start_time": "2021-06-16T14:17:14.774023",
     "status": "completed"
    },
    "tags": []
   },
   "outputs": [],
   "source": [
    "x = train_df.iloc[:,1:].values\n",
    "y = train_df.iloc[:,0].values"
   ]
  },
  {
   "cell_type": "code",
   "execution_count": 13,
   "id": "severe-binding",
   "metadata": {
    "execution": {
     "iopub.execute_input": "2021-06-16T14:17:15.028603Z",
     "iopub.status.busy": "2021-06-16T14:17:15.027653Z",
     "iopub.status.idle": "2021-06-16T14:17:15.032750Z",
     "shell.execute_reply": "2021-06-16T14:17:15.032132Z",
     "shell.execute_reply.started": "2021-06-16T13:54:36.341837Z"
    },
    "papermill": {
     "duration": 0.082983,
     "end_time": "2021-06-16T14:17:15.032877",
     "exception": false,
     "start_time": "2021-06-16T14:17:14.949894",
     "status": "completed"
    },
    "tags": []
   },
   "outputs": [
    {
     "name": "stdout",
     "output_type": "stream",
     "text": [
      "X shape : (42000, 784)\n",
      "Y shape : (42000,)\n"
     ]
    }
   ],
   "source": [
    "print(\"X shape : {}\".format(x.shape))\n",
    "print(\"Y shape : {}\".format(y.shape))"
   ]
  },
  {
   "cell_type": "code",
   "execution_count": 14,
   "id": "assured-aircraft",
   "metadata": {
    "execution": {
     "iopub.execute_input": "2021-06-16T14:17:15.185672Z",
     "iopub.status.busy": "2021-06-16T14:17:15.183905Z",
     "iopub.status.idle": "2021-06-16T14:17:16.684777Z",
     "shell.execute_reply": "2021-06-16T14:17:16.684204Z",
     "shell.execute_reply.started": "2021-06-16T13:54:36.355599Z"
    },
    "papermill": {
     "duration": 1.601497,
     "end_time": "2021-06-16T14:17:16.684925",
     "exception": false,
     "start_time": "2021-06-16T14:17:15.083428",
     "status": "completed"
    },
    "tags": []
   },
   "outputs": [
    {
     "data": {
      "image/png": "[encoded data removed]",
      "text/plain": [
       "<Figure size 1080x1080 with 25 Axes>"
      ]
     },
     "metadata": {
      "needs_background": "light"
     },
     "output_type": "display_data"
    }
   ],
   "source": [
    "fig , axes = plt.subplots(5, 5, figsize=(15,15))\n",
    "\n",
    "x_idx = 0\n",
    "y_idx = 0\n",
    "\n",
    "for i in range(5*5):\n",
    "    if x_idx == 5:\n",
    "        x_idx = 0\n",
    "        y_idx += 1\n",
    "        \n",
    "    axes[y_idx][x_idx].imshow(x[i].reshape(28,28), 'gray')\n",
    "    axes[y_idx][x_idx].axis(\"off\")\n",
    "    axes[y_idx][x_idx].set_title(\"Target : \" + str(y[i]))\n",
    "    x_idx += 1\n",
    "\n",
    "plt.show()"
   ]
  },
  {
   "cell_type": "markdown",
   "id": "indian-archive",
   "metadata": {
    "papermill": {
     "duration": 0.05168,
     "end_time": "2021-06-16T14:17:16.788480",
     "exception": false,
     "start_time": "2021-06-16T14:17:16.736800",
     "status": "completed"
    },
    "tags": []
   },
   "source": [
    "# 4. Feature Enginnering\n",
    "* Split Train set / Validation set\n",
    "* Convert to data suitable for CNN model (Dataset / Dataloader)"
   ]
  },
  {
   "cell_type": "markdown",
   "id": "molecular-tuner",
   "metadata": {
    "papermill": {
     "duration": 0.051532,
     "end_time": "2021-06-16T14:17:16.892090",
     "exception": false,
     "start_time": "2021-06-16T14:17:16.840558",
     "status": "completed"
    },
    "tags": []
   },
   "source": [
    "### 4-1) Split Train set / Validation set"
   ]
  },
  {
   "cell_type": "code",
   "execution_count": 15,
   "id": "mexican-advancement",
   "metadata": {
    "execution": {
     "iopub.execute_input": "2021-06-16T14:17:17.000796Z",
     "iopub.status.busy": "2021-06-16T14:17:16.999639Z",
     "iopub.status.idle": "2021-06-16T14:17:17.428767Z",
     "shell.execute_reply": "2021-06-16T14:17:17.428132Z",
     "shell.execute_reply.started": "2021-06-16T13:54:37.718372Z"
    },
    "papermill": {
     "duration": 0.484979,
     "end_time": "2021-06-16T14:17:17.428934",
     "exception": false,
     "start_time": "2021-06-16T14:17:16.943955",
     "status": "completed"
    },
    "tags": []
   },
   "outputs": [],
   "source": [
    "x_train, x_val, y_train, y_val = train_test_split(x, y, test_size=0.15)"
   ]
  },
  {
   "cell_type": "code",
   "execution_count": 16,
   "id": "fiscal-examination",
   "metadata": {
    "execution": {
     "iopub.execute_input": "2021-06-16T14:17:17.539805Z",
     "iopub.status.busy": "2021-06-16T14:17:17.538632Z",
     "iopub.status.idle": "2021-06-16T14:17:17.545589Z",
     "shell.execute_reply": "2021-06-16T14:17:17.544997Z",
     "shell.execute_reply.started": "2021-06-16T13:54:38.088738Z"
    },
    "papermill": {
     "duration": 0.063684,
     "end_time": "2021-06-16T14:17:17.545734",
     "exception": false,
     "start_time": "2021-06-16T14:17:17.482050",
     "status": "completed"
    },
    "tags": []
   },
   "outputs": [
    {
     "name": "stdout",
     "output_type": "stream",
     "text": [
      "x_train shape : (35700, 784)\n",
      "y_train shape : (35700,)\n",
      "x_val shape : (6300, 784)\n",
      "y_val shape : (6300,)\n"
     ]
    }
   ],
   "source": [
    "print(\"x_train shape : {}\".format(x_train.shape))\n",
    "print(\"y_train shape : {}\".format(y_train.shape))\n",
    "print(\"x_val shape : {}\".format(x_val.shape))\n",
    "print(\"y_val shape : {}\".format(y_val.shape))"
   ]
  },
  {
   "cell_type": "markdown",
   "id": "noticed-sociology",
   "metadata": {
    "papermill": {
     "duration": 0.05257,
     "end_time": "2021-06-16T14:17:17.650170",
     "exception": false,
     "start_time": "2021-06-16T14:17:17.597600",
     "status": "completed"
    },
    "tags": []
   },
   "source": [
    "### 4-2) Convert to data suitable for CNN model (Dataset / Dataloader)"
   ]
  },
  {
   "cell_type": "code",
   "execution_count": 17,
   "id": "motivated-friendship",
   "metadata": {
    "execution": {
     "iopub.execute_input": "2021-06-16T14:17:17.766300Z",
     "iopub.status.busy": "2021-06-16T14:17:17.765149Z",
     "iopub.status.idle": "2021-06-16T14:17:17.777485Z",
     "shell.execute_reply": "2021-06-16T14:17:17.776805Z",
     "shell.execute_reply.started": "2021-06-16T13:54:38.09898Z"
    },
    "papermill": {
     "duration": 0.074568,
     "end_time": "2021-06-16T14:17:17.777638",
     "exception": false,
     "start_time": "2021-06-16T14:17:17.703070",
     "status": "completed"
    },
    "tags": []
   },
   "outputs": [],
   "source": [
    "class BasicDataset(torch.utils.data.Dataset):\n",
    "    def __init__(self,x_data, y_data, is_labeled=False):\n",
    "        self.x = self.get_float_type(x_data)\n",
    "        self.is_labeled = is_labeled\n",
    "        \n",
    "        if self.is_labeled:\n",
    "            self.y = self.get_long_type(y_data)\n",
    "        else:\n",
    "            self.y = None\n",
    "        \n",
    "        \n",
    "    def __len__(self):\n",
    "        return len(self.x)\n",
    "    \n",
    "    \n",
    "    def __getitem__(self, index):\n",
    "        global data\n",
    "        data = {}\n",
    "        \n",
    "        x_row = self.x[index]\n",
    "        data['data'] = x_row\n",
    "    \n",
    "        if self.is_labeled == True: \n",
    "            y_row = self.y[index]\n",
    "            data['target'] = y_row\n",
    "        return data\n",
    "    \n",
    "        \n",
    "    def get_float_type(self, data):\n",
    "        data = data.astype('float32')\n",
    "        data /= 255\n",
    "        data = data.reshape(-1, 1, 28, 28)\n",
    "        return data\n",
    "    \n",
    "    \n",
    "    def get_long_type(self, target):\n",
    "        target = target.astype(torch.LongTensor)\n",
    "        return target"
   ]
  },
  {
   "cell_type": "code",
   "execution_count": 18,
   "id": "peaceful-account",
   "metadata": {
    "execution": {
     "iopub.execute_input": "2021-06-16T14:17:17.888388Z",
     "iopub.status.busy": "2021-06-16T14:17:17.887174Z",
     "iopub.status.idle": "2021-06-16T14:17:17.981759Z",
     "shell.execute_reply": "2021-06-16T14:17:17.981147Z",
     "shell.execute_reply.started": "2021-06-16T13:54:38.114387Z"
    },
    "papermill": {
     "duration": 0.151571,
     "end_time": "2021-06-16T14:17:17.981955",
     "exception": false,
     "start_time": "2021-06-16T14:17:17.830384",
     "status": "completed"
    },
    "tags": []
   },
   "outputs": [],
   "source": [
    "train_dataset = BasicDataset(x_train, y_train, is_labeled=True)\n",
    "val_dataset = BasicDataset(x_val, y_val, is_labeled=True)"
   ]
  },
  {
   "cell_type": "code",
   "execution_count": 19,
   "id": "regulated-keeping",
   "metadata": {
    "execution": {
     "iopub.execute_input": "2021-06-16T14:17:18.103179Z",
     "iopub.status.busy": "2021-06-16T14:17:18.102409Z",
     "iopub.status.idle": "2021-06-16T14:17:18.108809Z",
     "shell.execute_reply": "2021-06-16T14:17:18.109472Z",
     "shell.execute_reply.started": "2021-06-16T13:54:38.198426Z"
    },
    "papermill": {
     "duration": 0.074635,
     "end_time": "2021-06-16T14:17:18.109660",
     "exception": false,
     "start_time": "2021-06-16T14:17:18.035025",
     "status": "completed"
    },
    "tags": []
   },
   "outputs": [
    {
     "name": "stdout",
     "output_type": "stream",
     "text": [
      "Data of train dataset : [[[0.         0.         0.         0.         0.         0.\n",
      "   0.         0.         0.         0.         0.         0.\n",
      "   0.         0.         0.         0.         0.         0.\n",
      "   0.         0.         0.         0.         0.         0.\n",
      "   0.         0.         0.         0.        ]\n",
      "  [0.         0.         0.         0.         0.         0.\n",
      "   0.         0.         0.         0.         0.         0.\n",
      "   0.         0.         0.         0.         0.         0.\n",
      "   0.         0.         0.         0.         0.         0.\n",
      "   0.         0.         0.         0.        ]\n",
      "  [0.         0.         0.         0.         0.         0.\n",
      "   0.         0.         0.         0.         0.         0.\n",
      "   0.         0.         0.         0.         0.         0.\n",
      "   0.05882353 0.8039216  1.         0.5254902  0.         0.\n",
      "   0.         0.         0.         0.        ]\n",
      "  [0.         0.         0.         0.         0.         0.\n",
      "   0.         0.         0.         0.         0.         0.\n",
      "   0.         0.         0.         0.         0.         0.0627451\n",
      "   0.79607844 0.99215686 0.99215686 0.67058825 0.         0.\n",
      "   0.         0.         0.         0.        ]\n",
      "  [0.         0.         0.         0.         0.         0.\n",
      "   0.         0.         0.         0.         0.         0.\n",
      "   0.         0.         0.         0.         0.         0.44313726\n",
      "   0.99215686 0.99215686 0.9529412  0.21960784 0.         0.\n",
      "   0.         0.         0.         0.        ]\n",
      "  [0.         0.         0.         0.         0.         0.\n",
      "   0.         0.         0.         0.         0.         0.\n",
      "   0.         0.         0.         0.         0.10588235 0.59607846\n",
      "   0.99215686 0.9607843  0.36862746 0.         0.         0.\n",
      "   0.         0.         0.         0.        ]\n",
      "  [0.         0.         0.         0.         0.         0.\n",
      "   0.         0.         0.         0.         0.         0.\n",
      "   0.         0.         0.         0.         0.7490196  0.99215686\n",
      "   0.99215686 0.7137255  0.         0.         0.         0.\n",
      "   0.         0.         0.         0.        ]\n",
      "  [0.         0.         0.         0.         0.         0.\n",
      "   0.         0.         0.         0.         0.         0.\n",
      "   0.         0.         0.09803922 0.5568628  0.9764706  0.99215686\n",
      "   0.75686276 0.04705882 0.         0.         0.         0.\n",
      "   0.         0.         0.         0.        ]\n",
      "  [0.         0.         0.         0.         0.         0.\n",
      "   0.         0.         0.         0.         0.         0.\n",
      "   0.         0.         0.24705882 0.99215686 0.9843137  0.7647059\n",
      "   0.03137255 0.         0.         0.         0.         0.\n",
      "   0.         0.         0.         0.        ]\n",
      "  [0.         0.         0.         0.         0.         0.\n",
      "   0.         0.         0.         0.         0.         0.\n",
      "   0.         0.13725491 0.8627451  0.99215686 0.3647059  0.\n",
      "   0.         0.         0.         0.         0.         0.\n",
      "   0.         0.         0.         0.        ]\n",
      "  [0.         0.         0.         0.         0.         0.\n",
      "   0.         0.         0.         0.         0.         0.\n",
      "   0.01568628 0.6862745  0.99215686 0.8039216  0.05882353 0.\n",
      "   0.         0.         0.         0.         0.         0.\n",
      "   0.         0.         0.         0.        ]\n",
      "  [0.         0.         0.         0.         0.         0.\n",
      "   0.         0.         0.         0.         0.         0.00784314\n",
      "   0.5176471  0.99215686 0.9372549  0.31764707 0.         0.\n",
      "   0.         0.         0.         0.         0.         0.\n",
      "   0.         0.         0.         0.        ]\n",
      "  [0.         0.         0.         0.         0.         0.\n",
      "   0.         0.         0.         0.         0.         0.16470589\n",
      "   0.99215686 0.99215686 0.61960787 0.         0.         0.\n",
      "   0.         0.         0.         0.         0.         0.\n",
      "   0.         0.         0.         0.        ]\n",
      "  [0.         0.         0.         0.         0.         0.\n",
      "   0.         0.         0.         0.         0.3529412  0.9137255\n",
      "   0.99215686 0.68235296 0.05098039 0.         0.         0.\n",
      "   0.         0.         0.         0.         0.         0.\n",
      "   0.         0.         0.         0.        ]\n",
      "  [0.         0.         0.         0.         0.         0.\n",
      "   0.         0.         0.         0.         0.41960785 0.99215686\n",
      "   0.9529412  0.20784314 0.         0.         0.         0.\n",
      "   0.         0.         0.         0.         0.         0.\n",
      "   0.         0.         0.         0.        ]\n",
      "  [0.         0.         0.         0.         0.         0.\n",
      "   0.         0.         0.         0.20392157 0.92941177 0.98039216\n",
      "   0.22352941 0.         0.         0.         0.         0.\n",
      "   0.         0.         0.         0.         0.         0.\n",
      "   0.         0.         0.         0.        ]\n",
      "  [0.         0.         0.         0.         0.         0.\n",
      "   0.         0.         0.03529412 0.83137256 0.99215686 0.69803923\n",
      "   0.         0.         0.         0.         0.         0.10980392\n",
      "   0.11764706 0.11764706 0.04313726 0.         0.         0.\n",
      "   0.         0.         0.         0.        ]\n",
      "  [0.         0.         0.         0.         0.         0.\n",
      "   0.         0.         0.36862746 0.99215686 0.9137255  0.19607843\n",
      "   0.         0.         0.         0.05882353 0.5764706  0.9647059\n",
      "   0.99215686 0.99215686 0.64705884 0.         0.         0.\n",
      "   0.         0.         0.         0.        ]\n",
      "  [0.         0.         0.         0.         0.         0.\n",
      "   0.         0.05490196 0.80784315 0.99215686 0.5764706  0.\n",
      "   0.         0.16470589 0.5803922  0.8039216  0.99215686 0.99215686\n",
      "   0.99215686 0.99215686 0.4745098  0.         0.         0.\n",
      "   0.         0.         0.         0.        ]\n",
      "  [0.         0.         0.         0.         0.         0.\n",
      "   0.         0.21176471 0.99215686 0.99215686 0.70980394 0.32941177\n",
      "   0.58431375 0.91764706 0.99215686 0.99215686 0.99215686 0.99215686\n",
      "   0.99215686 0.7490196  0.07450981 0.         0.         0.\n",
      "   0.         0.         0.         0.        ]\n",
      "  [0.         0.         0.         0.         0.         0.\n",
      "   0.         0.03137255 0.7764706  0.99215686 0.99215686 0.99215686\n",
      "   0.99215686 0.99215686 0.99215686 0.99215686 0.99215686 0.81960785\n",
      "   0.5764706  0.05882353 0.         0.         0.         0.\n",
      "   0.         0.         0.         0.        ]\n",
      "  [0.         0.         0.         0.         0.         0.\n",
      "   0.         0.         0.18039216 0.6901961  0.99215686 0.99215686\n",
      "   0.99215686 0.99215686 0.6666667  0.5294118  0.14117648 0.03921569\n",
      "   0.         0.         0.         0.         0.         0.\n",
      "   0.         0.         0.         0.        ]\n",
      "  [0.         0.         0.         0.         0.         0.\n",
      "   0.         0.         0.         0.         0.         0.\n",
      "   0.         0.         0.         0.         0.         0.\n",
      "   0.         0.         0.         0.         0.         0.\n",
      "   0.         0.         0.         0.        ]\n",
      "  [0.         0.         0.         0.         0.         0.\n",
      "   0.         0.         0.         0.         0.         0.\n",
      "   0.         0.         0.         0.         0.         0.\n",
      "   0.         0.         0.         0.         0.         0.\n",
      "   0.         0.         0.         0.        ]\n",
      "  [0.         0.         0.         0.         0.         0.\n",
      "   0.         0.         0.         0.         0.         0.\n",
      "   0.         0.         0.         0.         0.         0.\n",
      "   0.         0.         0.         0.         0.         0.\n",
      "   0.         0.         0.         0.        ]\n",
      "  [0.         0.         0.         0.         0.         0.\n",
      "   0.         0.         0.         0.         0.         0.\n",
      "   0.         0.         0.         0.         0.         0.\n",
      "   0.         0.         0.         0.         0.         0.\n",
      "   0.         0.         0.         0.        ]\n",
      "  [0.         0.         0.         0.         0.         0.\n",
      "   0.         0.         0.         0.         0.         0.\n",
      "   0.         0.         0.         0.         0.         0.\n",
      "   0.         0.         0.         0.         0.         0.\n",
      "   0.         0.         0.         0.        ]\n",
      "  [0.         0.         0.         0.         0.         0.\n",
      "   0.         0.         0.         0.         0.         0.\n",
      "   0.         0.         0.         0.         0.         0.\n",
      "   0.         0.         0.         0.         0.         0.\n",
      "   0.         0.         0.         0.        ]]]\n",
      "\n",
      "\n",
      "\n",
      "\n",
      "Target of train dataset : 6\n"
     ]
    }
   ],
   "source": [
    "print(\"Data of train dataset : {}\\n\\n\\n\\n\".format(train_dataset[0]['data']))\n",
    "print(\"Target of train dataset : {}\".format(train_dataset[0]['target']))"
   ]
  },
  {
   "cell_type": "code",
   "execution_count": 20,
   "id": "given-violin",
   "metadata": {
    "execution": {
     "iopub.execute_input": "2021-06-16T14:17:18.220621Z",
     "iopub.status.busy": "2021-06-16T14:17:18.219661Z",
     "iopub.status.idle": "2021-06-16T14:17:18.223550Z",
     "shell.execute_reply": "2021-06-16T14:17:18.222919Z",
     "shell.execute_reply.started": "2021-06-16T13:54:38.21936Z"
    },
    "papermill": {
     "duration": 0.060921,
     "end_time": "2021-06-16T14:17:18.223685",
     "exception": false,
     "start_time": "2021-06-16T14:17:18.162764",
     "status": "completed"
    },
    "tags": []
   },
   "outputs": [],
   "source": [
    "BATCH_SIZE = 100"
   ]
  },
  {
   "cell_type": "code",
   "execution_count": 21,
   "id": "homeless-combination",
   "metadata": {
    "execution": {
     "iopub.execute_input": "2021-06-16T14:17:18.355353Z",
     "iopub.status.busy": "2021-06-16T14:17:18.354207Z",
     "iopub.status.idle": "2021-06-16T14:17:18.358035Z",
     "shell.execute_reply": "2021-06-16T14:17:18.357329Z",
     "shell.execute_reply.started": "2021-06-16T13:54:38.226441Z"
    },
    "papermill": {
     "duration": 0.078611,
     "end_time": "2021-06-16T14:17:18.358223",
     "exception": false,
     "start_time": "2021-06-16T14:17:18.279612",
     "status": "completed"
    },
    "tags": []
   },
   "outputs": [],
   "source": [
    "train_loader = DataLoader(train_dataset, batch_size=BATCH_SIZE, shuffle = True)\n",
    "val_loader = DataLoader(val_dataset, batch_size=BATCH_SIZE, shuffle = False)"
   ]
  },
  {
   "cell_type": "code",
   "execution_count": 22,
   "id": "hundred-glenn",
   "metadata": {
    "execution": {
     "iopub.execute_input": "2021-06-16T14:17:18.473306Z",
     "iopub.status.busy": "2021-06-16T14:17:18.472356Z",
     "iopub.status.idle": "2021-06-16T14:17:18.475977Z",
     "shell.execute_reply": "2021-06-16T14:17:18.475298Z",
     "shell.execute_reply.started": "2021-06-16T13:54:38.236609Z"
    },
    "papermill": {
     "duration": 0.061212,
     "end_time": "2021-06-16T14:17:18.476142",
     "exception": false,
     "start_time": "2021-06-16T14:17:18.414930",
     "status": "completed"
    },
    "tags": []
   },
   "outputs": [],
   "source": [
    "dataloaders_dict = {\"train\": train_loader, \"val\": val_loader}"
   ]
  },
  {
   "cell_type": "markdown",
   "id": "dutch-argentina",
   "metadata": {
    "papermill": {
     "duration": 0.052085,
     "end_time": "2021-06-16T14:17:18.580681",
     "exception": false,
     "start_time": "2021-06-16T14:17:18.528596",
     "status": "completed"
    },
    "tags": []
   },
   "source": [
    "# 5.Modeling\n",
    "* CNN Modeling\n",
    "* Training\n",
    "* Evaluating"
   ]
  },
  {
   "cell_type": "markdown",
   "id": "steady-quilt",
   "metadata": {
    "papermill": {
     "duration": 0.053776,
     "end_time": "2021-06-16T14:17:18.687563",
     "exception": false,
     "start_time": "2021-06-16T14:17:18.633787",
     "status": "completed"
    },
    "tags": []
   },
   "source": [
    "### 5-1) CNN Modeling"
   ]
  },
  {
   "cell_type": "code",
   "execution_count": 23,
   "id": "gentle-mattress",
   "metadata": {
    "execution": {
     "iopub.execute_input": "2021-06-16T14:17:18.807793Z",
     "iopub.status.busy": "2021-06-16T14:17:18.806606Z",
     "iopub.status.idle": "2021-06-16T14:17:18.810558Z",
     "shell.execute_reply": "2021-06-16T14:17:18.809874Z",
     "shell.execute_reply.started": "2021-06-16T13:54:38.249516Z"
    },
    "papermill": {
     "duration": 0.069981,
     "end_time": "2021-06-16T14:17:18.810755",
     "exception": false,
     "start_time": "2021-06-16T14:17:18.740774",
     "status": "completed"
    },
    "tags": []
   },
   "outputs": [],
   "source": [
    "class BasicCNN(nn.Module):\n",
    "    def __init__(self, input_dim, hidden_dim_1, hidden_dim_2, output):\n",
    "        super(BasicCNN, self).__init__()\n",
    "        \n",
    "        self.convolution_layer = nn.Sequential(OrderedDict([\n",
    "            ('conv1', nn.Conv2d(input_dim, hidden_dim_1, 3, 1, 0)),\n",
    "            ('relu1', nn.ReLU()),\n",
    "            ('pool1', nn.MaxPool2d(2,2)),\n",
    "            ('conv2', nn.Conv2d(hidden_dim_1, hidden_dim_2, 3, 1, 0)),\n",
    "            ('relu2', nn.ReLU()),\n",
    "            ('pool2', nn.MaxPool2d(2,2))    \n",
    "        ]))\n",
    "        self.fc_layer = nn.Sequential(OrderedDict([\n",
    "            ('Dense1', nn.Linear(1600, output)),\n",
    "            ('softmax', nn.Softmax())\n",
    "        ]))\n",
    "    \n",
    "    def forward(self,x):\n",
    "        out = self.convolution_layer(x)\n",
    "        out = out.view(out.size(0),-1)\n",
    "        out = self.fc_layer(out)\n",
    "        return out"
   ]
  },
  {
   "cell_type": "code",
   "execution_count": 24,
   "id": "distributed-dallas",
   "metadata": {
    "execution": {
     "iopub.execute_input": "2021-06-16T14:17:18.921157Z",
     "iopub.status.busy": "2021-06-16T14:17:18.920077Z",
     "iopub.status.idle": "2021-06-16T14:17:18.924127Z",
     "shell.execute_reply": "2021-06-16T14:17:18.923346Z",
     "shell.execute_reply.started": "2021-06-16T13:54:38.263053Z"
    },
    "papermill": {
     "duration": 0.061373,
     "end_time": "2021-06-16T14:17:18.924370",
     "exception": false,
     "start_time": "2021-06-16T14:17:18.862997",
     "status": "completed"
    },
    "tags": []
   },
   "outputs": [],
   "source": [
    "INPUT_DIM = 1\n",
    "HIDDEN_DIM_1 = 32\n",
    "HIDDEN_DIM_2 = 64\n",
    "OUTPUT = 10"
   ]
  },
  {
   "cell_type": "code",
   "execution_count": 25,
   "id": "automatic-mirror",
   "metadata": {
    "execution": {
     "iopub.execute_input": "2021-06-16T14:17:19.038701Z",
     "iopub.status.busy": "2021-06-16T14:17:19.038010Z",
     "iopub.status.idle": "2021-06-16T14:17:19.076389Z",
     "shell.execute_reply": "2021-06-16T14:17:19.075841Z",
     "shell.execute_reply.started": "2021-06-16T13:54:45.97055Z"
    },
    "papermill": {
     "duration": 0.096578,
     "end_time": "2021-06-16T14:17:19.076528",
     "exception": false,
     "start_time": "2021-06-16T14:17:18.979950",
     "status": "completed"
    },
    "tags": []
   },
   "outputs": [],
   "source": [
    "model = BasicCNN(INPUT_DIM, HIDDEN_DIM_1, HIDDEN_DIM_2, OUTPUT)"
   ]
  },
  {
   "cell_type": "code",
   "execution_count": 26,
   "id": "express-lawsuit",
   "metadata": {
    "execution": {
     "iopub.execute_input": "2021-06-16T14:17:19.190333Z",
     "iopub.status.busy": "2021-06-16T14:17:19.189454Z",
     "iopub.status.idle": "2021-06-16T14:17:19.194842Z",
     "shell.execute_reply": "2021-06-16T14:17:19.194286Z",
     "shell.execute_reply.started": "2021-06-16T13:54:47.788432Z"
    },
    "papermill": {
     "duration": 0.063541,
     "end_time": "2021-06-16T14:17:19.194978",
     "exception": false,
     "start_time": "2021-06-16T14:17:19.131437",
     "status": "completed"
    },
    "tags": []
   },
   "outputs": [
    {
     "name": "stdout",
     "output_type": "stream",
     "text": [
      "BasicCNN(\n",
      "  (convolution_layer): Sequential(\n",
      "    (conv1): Conv2d(1, 32, kernel_size=(3, 3), stride=(1, 1))\n",
      "    (relu1): ReLU()\n",
      "    (pool1): MaxPool2d(kernel_size=2, stride=2, padding=0, dilation=1, ceil_mode=False)\n",
      "    (conv2): Conv2d(32, 64, kernel_size=(3, 3), stride=(1, 1))\n",
      "    (relu2): ReLU()\n",
      "    (pool2): MaxPool2d(kernel_size=2, stride=2, padding=0, dilation=1, ceil_mode=False)\n",
      "  )\n",
      "  (fc_layer): Sequential(\n",
      "    (Dense1): Linear(in_features=1600, out_features=10, bias=True)\n",
      "    (softmax): Softmax(dim=None)\n",
      "  )\n",
      ")\n"
     ]
    }
   ],
   "source": [
    "print(model)"
   ]
  },
  {
   "cell_type": "code",
   "execution_count": 27,
   "id": "speaking-ministry",
   "metadata": {
    "execution": {
     "iopub.execute_input": "2021-06-16T14:17:19.306557Z",
     "iopub.status.busy": "2021-06-16T14:17:19.305560Z",
     "iopub.status.idle": "2021-06-16T14:17:19.310691Z",
     "shell.execute_reply": "2021-06-16T14:17:19.310089Z",
     "shell.execute_reply.started": "2021-06-16T13:54:48.483354Z"
    },
    "papermill": {
     "duration": 0.063194,
     "end_time": "2021-06-16T14:17:19.310841",
     "exception": false,
     "start_time": "2021-06-16T14:17:19.247647",
     "status": "completed"
    },
    "tags": []
   },
   "outputs": [
    {
     "name": "stdout",
     "output_type": "stream",
     "text": [
      "총 배치의 수 : 357\n"
     ]
    }
   ],
   "source": [
    "print(\"총 배치의 수 : {}\".format(len(train_loader)))"
   ]
  },
  {
   "cell_type": "markdown",
   "id": "everyday-defensive",
   "metadata": {
    "papermill": {
     "duration": 0.055291,
     "end_time": "2021-06-16T14:17:19.419644",
     "exception": false,
     "start_time": "2021-06-16T14:17:19.364353",
     "status": "completed"
    },
    "tags": []
   },
   "source": [
    "### 5-2) Training"
   ]
  },
  {
   "cell_type": "code",
   "execution_count": 28,
   "id": "liable-southwest",
   "metadata": {
    "execution": {
     "iopub.execute_input": "2021-06-16T14:17:19.584580Z",
     "iopub.status.busy": "2021-06-16T14:17:19.583452Z",
     "iopub.status.idle": "2021-06-16T14:17:19.588761Z",
     "shell.execute_reply": "2021-06-16T14:17:19.588209Z",
     "shell.execute_reply.started": "2021-06-16T13:54:49.634431Z"
    },
    "papermill": {
     "duration": 0.114683,
     "end_time": "2021-06-16T14:17:19.588918",
     "exception": false,
     "start_time": "2021-06-16T14:17:19.474235",
     "status": "completed"
    },
    "tags": []
   },
   "outputs": [
    {
     "name": "stdout",
     "output_type": "stream",
     "text": [
      "True\n",
      "A device that proceeds with :  cuda:0\n"
     ]
    }
   ],
   "source": [
    "USE_CUDA = torch.cuda.is_available()\n",
    "print(USE_CUDA)\n",
    "device = torch.device('cuda:0' if USE_CUDA else 'cpu')\n",
    "print('A device that proceeds with : ',device)"
   ]
  },
  {
   "cell_type": "code",
   "execution_count": 29,
   "id": "noticed-vegetable",
   "metadata": {
    "execution": {
     "iopub.execute_input": "2021-06-16T14:17:19.704642Z",
     "iopub.status.busy": "2021-06-16T14:17:19.703644Z",
     "iopub.status.idle": "2021-06-16T14:17:19.707393Z",
     "shell.execute_reply": "2021-06-16T14:17:19.706814Z",
     "shell.execute_reply.started": "2021-06-16T13:54:50.10572Z"
    },
    "papermill": {
     "duration": 0.063205,
     "end_time": "2021-06-16T14:17:19.707543",
     "exception": false,
     "start_time": "2021-06-16T14:17:19.644338",
     "status": "completed"
    },
    "tags": []
   },
   "outputs": [],
   "source": [
    "loss_fn = nn.CrossEntropyLoss()\n",
    "optimizer = optim.Adam(model.parameters(), lr=0.01)"
   ]
  },
  {
   "cell_type": "code",
   "execution_count": 30,
   "id": "urban-cement",
   "metadata": {
    "execution": {
     "iopub.execute_input": "2021-06-16T14:17:19.830056Z",
     "iopub.status.busy": "2021-06-16T14:17:19.828072Z",
     "iopub.status.idle": "2021-06-16T14:17:19.831089Z",
     "shell.execute_reply": "2021-06-16T14:17:19.831775Z",
     "shell.execute_reply.started": "2021-06-16T13:54:50.807462Z"
    },
    "papermill": {
     "duration": 0.070187,
     "end_time": "2021-06-16T14:17:19.831919",
     "exception": false,
     "start_time": "2021-06-16T14:17:19.761732",
     "status": "completed"
    },
    "tags": []
   },
   "outputs": [],
   "source": [
    "def train_model(model, dataloaders_dict, loss_fn, optimizer, num_epochs, filename):\n",
    "    model.to(device)\n",
    "\n",
    "    history ={'train_loss' : [],\n",
    "             'train_acc' : [],\n",
    "              'val_loss' : [],\n",
    "              'val_acc' : []\n",
    "             }\n",
    "    \n",
    "    for epoch in range(num_epochs):\n",
    "        for i, phase in enumerate(['train','val']):\n",
    "            if phase=='train':\n",
    "                model.train()\n",
    "            else:\n",
    "                model.eval()\n",
    "                \n",
    "            correct = 0\n",
    "            epoch_loss = 0\n",
    "            epoch_acc = 0 \n",
    "\n",
    "            for data in dataloaders_dict[phase]:\n",
    "                x_data = data['data'].to(device)\n",
    "                y_data = data['target'].to(device)\n",
    "\n",
    "                optimizer.zero_grad()\n",
    "\n",
    "                predict = model(x_data)\n",
    "                target = y_data\n",
    "                loss = loss_fn(predict, target)\n",
    "\n",
    "                if phase == 'train':\n",
    "                    loss.backward()\n",
    "                    optimizer.step()\n",
    "\n",
    "                epoch_loss += loss.item() * len(x_data)\n",
    "                correct += (target==predict.argmax(axis=1)).sum()\n",
    "                    \n",
    "            epoch_loss = epoch_loss / len(dataloaders_dict[phase].dataset)\n",
    "            epoch_acc = 100 * (correct / len(dataloaders_dict[phase].dataset))\n",
    "            print(\"{} : [{} / {}] Loss : {:.4f}  | Accuracy : {:.2f}%\".format(phase.upper(), epoch+1, num_epochs, epoch_loss, epoch_acc))\n",
    "            \n",
    "            history['{}_loss'.format(phase)].append(epoch_loss)\n",
    "            history['{}_acc'.format(phase)].append(epoch_acc)\n",
    "            \n",
    "        torch.save(model.state_dict(), filename)\n",
    "        print(\" \")\n",
    "    return history"
   ]
  },
  {
   "cell_type": "code",
   "execution_count": 31,
   "id": "attempted-brazil",
   "metadata": {
    "execution": {
     "iopub.execute_input": "2021-06-16T14:17:19.945133Z",
     "iopub.status.busy": "2021-06-16T14:17:19.944030Z",
     "iopub.status.idle": "2021-06-16T14:17:19.947220Z",
     "shell.execute_reply": "2021-06-16T14:17:19.947890Z",
     "shell.execute_reply.started": "2021-06-16T13:54:52.760711Z"
    },
    "papermill": {
     "duration": 0.061912,
     "end_time": "2021-06-16T14:17:19.948046",
     "exception": false,
     "start_time": "2021-06-16T14:17:19.886134",
     "status": "completed"
    },
    "tags": []
   },
   "outputs": [],
   "source": [
    "NUM_EPOCHS = 50\n",
    "SAVE_MODEL_PATH = f'cnn.pth'"
   ]
  },
  {
   "cell_type": "code",
   "execution_count": 32,
   "id": "foster-nomination",
   "metadata": {
    "execution": {
     "iopub.execute_input": "2021-06-16T14:17:20.066731Z",
     "iopub.status.busy": "2021-06-16T14:17:20.066008Z",
     "iopub.status.idle": "2021-06-16T14:19:16.338588Z",
     "shell.execute_reply": "2021-06-16T14:19:16.339373Z",
     "shell.execute_reply.started": "2021-06-16T13:54:53.726152Z"
    },
    "papermill": {
     "duration": 116.336382,
     "end_time": "2021-06-16T14:19:16.339657",
     "exception": false,
     "start_time": "2021-06-16T14:17:20.003275",
     "status": "completed"
    },
    "tags": []
   },
   "outputs": [
    {
     "name": "stderr",
     "output_type": "stream",
     "text": [
      "/opt/conda/lib/python3.7/site-packages/torch/nn/modules/container.py:117: UserWarning: Implicit dimension choice for softmax has been deprecated. Change the call to include dim=X as an argument.\n",
      "  input = module(input)\n"
     ]
    },
    {
     "name": "stdout",
     "output_type": "stream",
     "text": [
      "TRAIN : [1 / 50] Loss : 1.7170  | Accuracy : 74.31%\n",
      "VAL : [1 / 50] Loss : 1.6796  | Accuracy : 78.10%\n",
      " \n",
      "TRAIN : [2 / 50] Loss : 1.6157  | Accuracy : 84.49%\n",
      "VAL : [2 / 50] Loss : 1.5840  | Accuracy : 87.68%\n",
      " \n",
      "TRAIN : [3 / 50] Loss : 1.5861  | Accuracy : 87.46%\n",
      "VAL : [3 / 50] Loss : 1.5894  | Accuracy : 87.14%\n",
      " \n",
      "TRAIN : [4 / 50] Loss : 1.5840  | Accuracy : 87.69%\n",
      "VAL : [4 / 50] Loss : 1.6036  | Accuracy : 85.73%\n",
      " \n",
      "TRAIN : [5 / 50] Loss : 1.5823  | Accuracy : 87.87%\n",
      "VAL : [5 / 50] Loss : 1.5809  | Accuracy : 87.98%\n",
      " \n",
      "TRAIN : [6 / 50] Loss : 1.5822  | Accuracy : 87.87%\n",
      "VAL : [6 / 50] Loss : 1.5781  | Accuracy : 88.29%\n",
      " \n",
      "TRAIN : [7 / 50] Loss : 1.5761  | Accuracy : 88.49%\n",
      "VAL : [7 / 50] Loss : 1.5785  | Accuracy : 88.24%\n",
      " \n",
      "TRAIN : [8 / 50] Loss : 1.5666  | Accuracy : 89.45%\n",
      "VAL : [8 / 50] Loss : 1.5103  | Accuracy : 95.08%\n",
      " \n",
      "TRAIN : [9 / 50] Loss : 1.5043  | Accuracy : 95.67%\n",
      "VAL : [9 / 50] Loss : 1.5063  | Accuracy : 95.46%\n",
      " \n",
      "TRAIN : [10 / 50] Loss : 1.4983  | Accuracy : 96.28%\n",
      "VAL : [10 / 50] Loss : 1.4905  | Accuracy : 97.06%\n",
      " \n",
      "TRAIN : [11 / 50] Loss : 1.4972  | Accuracy : 96.39%\n",
      "VAL : [11 / 50] Loss : 1.4911  | Accuracy : 97.00%\n",
      " \n",
      "TRAIN : [12 / 50] Loss : 1.4964  | Accuracy : 96.47%\n",
      "VAL : [12 / 50] Loss : 1.4973  | Accuracy : 96.38%\n",
      " \n",
      "TRAIN : [13 / 50] Loss : 1.5001  | Accuracy : 96.11%\n",
      "VAL : [13 / 50] Loss : 1.5048  | Accuracy : 95.63%\n",
      " \n",
      "TRAIN : [14 / 50] Loss : 1.4959  | Accuracy : 96.53%\n",
      "VAL : [14 / 50] Loss : 1.4981  | Accuracy : 96.30%\n",
      " \n",
      "TRAIN : [15 / 50] Loss : 1.4999  | Accuracy : 96.12%\n",
      "VAL : [15 / 50] Loss : 1.5146  | Accuracy : 94.65%\n",
      " \n",
      "TRAIN : [16 / 50] Loss : 1.4952  | Accuracy : 96.59%\n",
      "VAL : [16 / 50] Loss : 1.4991  | Accuracy : 96.21%\n",
      " \n",
      "TRAIN : [17 / 50] Loss : 1.4922  | Accuracy : 96.90%\n",
      "VAL : [17 / 50] Loss : 1.4948  | Accuracy : 96.63%\n",
      " \n",
      "TRAIN : [18 / 50] Loss : 1.4914  | Accuracy : 96.96%\n",
      "VAL : [18 / 50] Loss : 1.4950  | Accuracy : 96.62%\n",
      " \n",
      "TRAIN : [19 / 50] Loss : 1.4953  | Accuracy : 96.57%\n",
      "VAL : [19 / 50] Loss : 1.4963  | Accuracy : 96.48%\n",
      " \n",
      "TRAIN : [20 / 50] Loss : 1.4932  | Accuracy : 96.79%\n",
      "VAL : [20 / 50] Loss : 1.4916  | Accuracy : 96.95%\n",
      " \n",
      "TRAIN : [21 / 50] Loss : 1.4945  | Accuracy : 96.66%\n",
      "VAL : [21 / 50] Loss : 1.4999  | Accuracy : 96.13%\n",
      " \n",
      "TRAIN : [22 / 50] Loss : 1.4899  | Accuracy : 97.11%\n",
      "VAL : [22 / 50] Loss : 1.4989  | Accuracy : 96.19%\n",
      " \n",
      "TRAIN : [23 / 50] Loss : 1.4930  | Accuracy : 96.82%\n",
      "VAL : [23 / 50] Loss : 1.5019  | Accuracy : 95.94%\n",
      " \n",
      "TRAIN : [24 / 50] Loss : 1.4948  | Accuracy : 96.62%\n",
      "VAL : [24 / 50] Loss : 1.4971  | Accuracy : 96.40%\n",
      " \n",
      "TRAIN : [25 / 50] Loss : 1.4962  | Accuracy : 96.50%\n",
      "VAL : [25 / 50] Loss : 1.4900  | Accuracy : 97.11%\n",
      " \n",
      "TRAIN : [26 / 50] Loss : 1.4890  | Accuracy : 97.21%\n",
      "VAL : [26 / 50] Loss : 1.4903  | Accuracy : 97.08%\n",
      " \n",
      "TRAIN : [27 / 50] Loss : 1.4957  | Accuracy : 96.55%\n",
      "VAL : [27 / 50] Loss : 1.5100  | Accuracy : 95.10%\n",
      " \n",
      "TRAIN : [28 / 50] Loss : 1.4919  | Accuracy : 96.92%\n",
      "VAL : [28 / 50] Loss : 1.4938  | Accuracy : 96.75%\n",
      " \n",
      "TRAIN : [29 / 50] Loss : 1.4933  | Accuracy : 96.78%\n",
      "VAL : [29 / 50] Loss : 1.4932  | Accuracy : 96.79%\n",
      " \n",
      "TRAIN : [30 / 50] Loss : 1.4861  | Accuracy : 97.51%\n",
      "VAL : [30 / 50] Loss : 1.4902  | Accuracy : 97.08%\n",
      " \n",
      "TRAIN : [31 / 50] Loss : 1.4917  | Accuracy : 96.95%\n",
      "VAL : [31 / 50] Loss : 1.4960  | Accuracy : 96.52%\n",
      " \n",
      "TRAIN : [32 / 50] Loss : 1.4982  | Accuracy : 96.29%\n",
      "VAL : [32 / 50] Loss : 1.4893  | Accuracy : 97.19%\n",
      " \n",
      "TRAIN : [33 / 50] Loss : 1.4960  | Accuracy : 96.52%\n",
      "VAL : [33 / 50] Loss : 1.4987  | Accuracy : 96.25%\n",
      " \n",
      "TRAIN : [34 / 50] Loss : 1.4964  | Accuracy : 96.47%\n",
      "VAL : [34 / 50] Loss : 1.5051  | Accuracy : 95.60%\n",
      " \n",
      "TRAIN : [35 / 50] Loss : 1.4948  | Accuracy : 96.64%\n",
      "VAL : [35 / 50] Loss : 1.4945  | Accuracy : 96.67%\n",
      " \n",
      "TRAIN : [36 / 50] Loss : 1.4965  | Accuracy : 96.46%\n",
      "VAL : [36 / 50] Loss : 1.5060  | Accuracy : 95.52%\n",
      " \n",
      "TRAIN : [37 / 50] Loss : 1.4994  | Accuracy : 96.17%\n",
      "VAL : [37 / 50] Loss : 1.4925  | Accuracy : 96.86%\n",
      " \n",
      "TRAIN : [38 / 50] Loss : 1.4875  | Accuracy : 97.36%\n",
      "VAL : [38 / 50] Loss : 1.4905  | Accuracy : 97.06%\n",
      " \n",
      "TRAIN : [39 / 50] Loss : 1.4972  | Accuracy : 96.39%\n",
      "VAL : [39 / 50] Loss : 1.5051  | Accuracy : 95.62%\n",
      " \n",
      "TRAIN : [40 / 50] Loss : 1.4948  | Accuracy : 96.63%\n",
      "VAL : [40 / 50] Loss : 1.4986  | Accuracy : 96.27%\n",
      " \n",
      "TRAIN : [41 / 50] Loss : 1.4913  | Accuracy : 96.98%\n",
      "VAL : [41 / 50] Loss : 1.4974  | Accuracy : 96.37%\n",
      " \n",
      "TRAIN : [42 / 50] Loss : 1.4989  | Accuracy : 96.22%\n",
      "VAL : [42 / 50] Loss : 1.5010  | Accuracy : 96.02%\n",
      " \n",
      "TRAIN : [43 / 50] Loss : 1.4949  | Accuracy : 96.62%\n",
      "VAL : [43 / 50] Loss : 1.4989  | Accuracy : 96.24%\n",
      " \n",
      "TRAIN : [44 / 50] Loss : 1.4978  | Accuracy : 96.33%\n",
      "VAL : [44 / 50] Loss : 1.4918  | Accuracy : 96.94%\n",
      " \n",
      "TRAIN : [45 / 50] Loss : 1.5025  | Accuracy : 95.87%\n",
      "VAL : [45 / 50] Loss : 1.5062  | Accuracy : 95.51%\n",
      " \n",
      "TRAIN : [46 / 50] Loss : 1.4995  | Accuracy : 96.16%\n",
      "VAL : [46 / 50] Loss : 1.4949  | Accuracy : 96.62%\n",
      " \n",
      "TRAIN : [47 / 50] Loss : 1.4966  | Accuracy : 96.45%\n",
      "VAL : [47 / 50] Loss : 1.5140  | Accuracy : 94.71%\n",
      " \n",
      "TRAIN : [48 / 50] Loss : 1.4950  | Accuracy : 96.61%\n",
      "VAL : [48 / 50] Loss : 1.4926  | Accuracy : 96.86%\n",
      " \n",
      "TRAIN : [49 / 50] Loss : 1.4971  | Accuracy : 96.41%\n",
      "VAL : [49 / 50] Loss : 1.4959  | Accuracy : 96.52%\n",
      " \n",
      "TRAIN : [50 / 50] Loss : 1.4913  | Accuracy : 96.99%\n",
      "VAL : [50 / 50] Loss : 1.5240  | Accuracy : 93.71%\n",
      " \n"
     ]
    }
   ],
   "source": [
    "history = train_model(\n",
    "    model,\n",
    "    dataloaders_dict,\n",
    "    loss_fn, \n",
    "    optimizer,\n",
    "    NUM_EPOCHS,\n",
    "    SAVE_MODEL_PATH\n",
    "    )"
   ]
  },
  {
   "cell_type": "code",
   "execution_count": 33,
   "id": "aerial-blowing",
   "metadata": {
    "execution": {
     "iopub.execute_input": "2021-06-16T14:19:16.520028Z",
     "iopub.status.busy": "2021-06-16T14:19:16.496915Z",
     "iopub.status.idle": "2021-06-16T14:19:16.887978Z",
     "shell.execute_reply": "2021-06-16T14:19:16.888533Z",
     "shell.execute_reply.started": "2021-06-16T13:56:22.088746Z"
    },
    "papermill": {
     "duration": 0.474083,
     "end_time": "2021-06-16T14:19:16.888722",
     "exception": false,
     "start_time": "2021-06-16T14:19:16.414639",
     "status": "completed"
    },
    "tags": []
   },
   "outputs": [
    {
     "data": {
      "image/png": "[encoded data removed]",
      "text/plain": [
       "<Figure size 1296x576 with 2 Axes>"
      ]
     },
     "metadata": {
      "needs_background": "light"
     },
     "output_type": "display_data"
    }
   ],
   "source": [
    "fig, axes = plt.subplots(1,2, figsize=(18,8))\n",
    "axes[0].plot(history['train_loss'],label='train_loss')\n",
    "axes[0].plot(history['val_loss'], label='val_loss')\n",
    "axes[0].set_xticks(np.arange(0,NUM_EPOCHS,5))\n",
    "axes[0].legend()\n",
    "\n",
    "\n",
    "axes[1].plot(history['train_acc'], label='train_acc')\n",
    "axes[1].plot(history['val_acc'], label='val_acc')\n",
    "axes[1].set_xticks(np.arange(0,NUM_EPOCHS,5))\n",
    "axes[1].legend()\n",
    "\n",
    "plt.show()"
   ]
  },
  {
   "cell_type": "markdown",
   "id": "collect-jefferson",
   "metadata": {
    "papermill": {
     "duration": 0.074946,
     "end_time": "2021-06-16T14:19:17.039689",
     "exception": false,
     "start_time": "2021-06-16T14:19:16.964743",
     "status": "completed"
    },
    "tags": []
   },
   "source": [
    "### 5-3) Evaluating"
   ]
  },
  {
   "cell_type": "code",
   "execution_count": 34,
   "id": "expired-notebook",
   "metadata": {
    "execution": {
     "iopub.execute_input": "2021-06-16T14:19:17.197028Z",
     "iopub.status.busy": "2021-06-16T14:19:17.196156Z",
     "iopub.status.idle": "2021-06-16T14:19:17.200766Z",
     "shell.execute_reply": "2021-06-16T14:19:17.200080Z",
     "shell.execute_reply.started": "2021-06-16T14:02:31.482203Z"
    },
    "papermill": {
     "duration": 0.086803,
     "end_time": "2021-06-16T14:19:17.200899",
     "exception": false,
     "start_time": "2021-06-16T14:19:17.114096",
     "status": "completed"
    },
    "tags": []
   },
   "outputs": [],
   "source": [
    "def evalueate_model(model, test_loader):\n",
    "    predictions = []\n",
    "\n",
    "    #model = BasicCNN()\n",
    "    #model.to(device)\n",
    "    #model.load_state_dict(torch.load(f'cnn.pth'))\n",
    "    \n",
    "    model.eval()\n",
    "\n",
    "    for data in test_loader:\n",
    "        x_data = data['data'].to(device)\n",
    "        \n",
    "        with torch.no_grad():\n",
    "            predicts = model(x_data)\n",
    "            predicts = predicts.argmax(axis=1)\n",
    "            predicts = predicts.cpu().numpy()\n",
    "            \n",
    "            # Put the batch size data into the list one by one.\n",
    "            for pred in predicts:\n",
    "                predictions.append(pred)\n",
    "        \n",
    "    return(predictions)"
   ]
  },
  {
   "cell_type": "code",
   "execution_count": 35,
   "id": "uniform-member",
   "metadata": {
    "execution": {
     "iopub.execute_input": "2021-06-16T14:19:17.371964Z",
     "iopub.status.busy": "2021-06-16T14:19:17.370298Z",
     "iopub.status.idle": "2021-06-16T14:19:17.375702Z",
     "shell.execute_reply": "2021-06-16T14:19:17.376318Z",
     "shell.execute_reply.started": "2021-06-16T14:02:33.961568Z"
    },
    "papermill": {
     "duration": 0.100287,
     "end_time": "2021-06-16T14:19:17.376495",
     "exception": false,
     "start_time": "2021-06-16T14:19:17.276208",
     "status": "completed"
    },
    "tags": []
   },
   "outputs": [
    {
     "data": {
      "text/html": [
       "<div>\n",
       "<style scoped>\n",
       "    .dataframe tbody tr th:only-of-type {\n",
       "        vertical-align: middle;\n",
       "    }\n",
       "\n",
       "    .dataframe tbody tr th {\n",
       "        vertical-align: top;\n",
       "    }\n",
       "\n",
       "    .dataframe thead th {\n",
       "        text-align: right;\n",
       "    }\n",
       "</style>\n",
       "<table border=\"1\" class=\"dataframe\">\n",
       "  <thead>\n",
       "    <tr style=\"text-align: right;\">\n",
       "      <th></th>\n",
       "      <th>pixel0</th>\n",
       "      <th>pixel1</th>\n",
       "      <th>pixel2</th>\n",
       "      <th>pixel3</th>\n",
       "      <th>pixel4</th>\n",
       "      <th>pixel5</th>\n",
       "      <th>pixel6</th>\n",
       "      <th>pixel7</th>\n",
       "      <th>pixel8</th>\n",
       "      <th>pixel9</th>\n",
       "      <th>...</th>\n",
       "      <th>pixel774</th>\n",
       "      <th>pixel775</th>\n",
       "      <th>pixel776</th>\n",
       "      <th>pixel777</th>\n",
       "      <th>pixel778</th>\n",
       "      <th>pixel779</th>\n",
       "      <th>pixel780</th>\n",
       "      <th>pixel781</th>\n",
       "      <th>pixel782</th>\n",
       "      <th>pixel783</th>\n",
       "    </tr>\n",
       "  </thead>\n",
       "  <tbody>\n",
       "    <tr>\n",
       "      <th>0</th>\n",
       "      <td>0</td>\n",
       "      <td>0</td>\n",
       "      <td>0</td>\n",
       "      <td>0</td>\n",
       "      <td>0</td>\n",
       "      <td>0</td>\n",
       "      <td>0</td>\n",
       "      <td>0</td>\n",
       "      <td>0</td>\n",
       "      <td>0</td>\n",
       "      <td>...</td>\n",
       "      <td>0</td>\n",
       "      <td>0</td>\n",
       "      <td>0</td>\n",
       "      <td>0</td>\n",
       "      <td>0</td>\n",
       "      <td>0</td>\n",
       "      <td>0</td>\n",
       "      <td>0</td>\n",
       "      <td>0</td>\n",
       "      <td>0</td>\n",
       "    </tr>\n",
       "    <tr>\n",
       "      <th>1</th>\n",
       "      <td>0</td>\n",
       "      <td>0</td>\n",
       "      <td>0</td>\n",
       "      <td>0</td>\n",
       "      <td>0</td>\n",
       "      <td>0</td>\n",
       "      <td>0</td>\n",
       "      <td>0</td>\n",
       "      <td>0</td>\n",
       "      <td>0</td>\n",
       "      <td>...</td>\n",
       "      <td>0</td>\n",
       "      <td>0</td>\n",
       "      <td>0</td>\n",
       "      <td>0</td>\n",
       "      <td>0</td>\n",
       "      <td>0</td>\n",
       "      <td>0</td>\n",
       "      <td>0</td>\n",
       "      <td>0</td>\n",
       "      <td>0</td>\n",
       "    </tr>\n",
       "    <tr>\n",
       "      <th>2</th>\n",
       "      <td>0</td>\n",
       "      <td>0</td>\n",
       "      <td>0</td>\n",
       "      <td>0</td>\n",
       "      <td>0</td>\n",
       "      <td>0</td>\n",
       "      <td>0</td>\n",
       "      <td>0</td>\n",
       "      <td>0</td>\n",
       "      <td>0</td>\n",
       "      <td>...</td>\n",
       "      <td>0</td>\n",
       "      <td>0</td>\n",
       "      <td>0</td>\n",
       "      <td>0</td>\n",
       "      <td>0</td>\n",
       "      <td>0</td>\n",
       "      <td>0</td>\n",
       "      <td>0</td>\n",
       "      <td>0</td>\n",
       "      <td>0</td>\n",
       "    </tr>\n",
       "    <tr>\n",
       "      <th>3</th>\n",
       "      <td>0</td>\n",
       "      <td>0</td>\n",
       "      <td>0</td>\n",
       "      <td>0</td>\n",
       "      <td>0</td>\n",
       "      <td>0</td>\n",
       "      <td>0</td>\n",
       "      <td>0</td>\n",
       "      <td>0</td>\n",
       "      <td>0</td>\n",
       "      <td>...</td>\n",
       "      <td>0</td>\n",
       "      <td>0</td>\n",
       "      <td>0</td>\n",
       "      <td>0</td>\n",
       "      <td>0</td>\n",
       "      <td>0</td>\n",
       "      <td>0</td>\n",
       "      <td>0</td>\n",
       "      <td>0</td>\n",
       "      <td>0</td>\n",
       "    </tr>\n",
       "    <tr>\n",
       "      <th>4</th>\n",
       "      <td>0</td>\n",
       "      <td>0</td>\n",
       "      <td>0</td>\n",
       "      <td>0</td>\n",
       "      <td>0</td>\n",
       "      <td>0</td>\n",
       "      <td>0</td>\n",
       "      <td>0</td>\n",
       "      <td>0</td>\n",
       "      <td>0</td>\n",
       "      <td>...</td>\n",
       "      <td>0</td>\n",
       "      <td>0</td>\n",
       "      <td>0</td>\n",
       "      <td>0</td>\n",
       "      <td>0</td>\n",
       "      <td>0</td>\n",
       "      <td>0</td>\n",
       "      <td>0</td>\n",
       "      <td>0</td>\n",
       "      <td>0</td>\n",
       "    </tr>\n",
       "  </tbody>\n",
       "</table>\n",
       "<p>5 rows × 784 columns</p>\n",
       "</div>"
      ],
      "text/plain": [
       "   pixel0  pixel1  pixel2  pixel3  pixel4  pixel5  pixel6  pixel7  pixel8  \\\n",
       "0       0       0       0       0       0       0       0       0       0   \n",
       "1       0       0       0       0       0       0       0       0       0   \n",
       "2       0       0       0       0       0       0       0       0       0   \n",
       "3       0       0       0       0       0       0       0       0       0   \n",
       "4       0       0       0       0       0       0       0       0       0   \n",
       "\n",
       "   pixel9  ...  pixel774  pixel775  pixel776  pixel777  pixel778  pixel779  \\\n",
       "0       0  ...         0         0         0         0         0         0   \n",
       "1       0  ...         0         0         0         0         0         0   \n",
       "2       0  ...         0         0         0         0         0         0   \n",
       "3       0  ...         0         0         0         0         0         0   \n",
       "4       0  ...         0         0         0         0         0         0   \n",
       "\n",
       "   pixel780  pixel781  pixel782  pixel783  \n",
       "0         0         0         0         0  \n",
       "1         0         0         0         0  \n",
       "2         0         0         0         0  \n",
       "3         0         0         0         0  \n",
       "4         0         0         0         0  \n",
       "\n",
       "[5 rows x 784 columns]"
      ]
     },
     "execution_count": 35,
     "metadata": {},
     "output_type": "execute_result"
    }
   ],
   "source": [
    "test_df.head()"
   ]
  },
  {
   "cell_type": "code",
   "execution_count": 36,
   "id": "august-encyclopedia",
   "metadata": {
    "execution": {
     "iopub.execute_input": "2021-06-16T14:19:17.533979Z",
     "iopub.status.busy": "2021-06-16T14:19:17.532840Z",
     "iopub.status.idle": "2021-06-16T14:19:17.596470Z",
     "shell.execute_reply": "2021-06-16T14:19:17.595882Z",
     "shell.execute_reply.started": "2021-06-16T14:02:34.363273Z"
    },
    "papermill": {
     "duration": 0.144597,
     "end_time": "2021-06-16T14:19:17.596761",
     "exception": false,
     "start_time": "2021-06-16T14:19:17.452164",
     "status": "completed"
    },
    "tags": []
   },
   "outputs": [],
   "source": [
    "test_dataset = BasicDataset(test_df.values, y_data=None, is_labeled=False)\n",
    "test_loader = DataLoader(test_dataset, batch_size=32, shuffle = False)"
   ]
  },
  {
   "cell_type": "code",
   "execution_count": 37,
   "id": "whole-decimal",
   "metadata": {
    "execution": {
     "iopub.execute_input": "2021-06-16T14:19:17.767925Z",
     "iopub.status.busy": "2021-06-16T14:19:17.766810Z",
     "iopub.status.idle": "2021-06-16T14:19:19.198117Z",
     "shell.execute_reply": "2021-06-16T14:19:19.197578Z",
     "shell.execute_reply.started": "2021-06-16T14:02:35.732625Z"
    },
    "papermill": {
     "duration": 1.521505,
     "end_time": "2021-06-16T14:19:19.198350",
     "exception": false,
     "start_time": "2021-06-16T14:19:17.676845",
     "status": "completed"
    },
    "tags": []
   },
   "outputs": [
    {
     "name": "stderr",
     "output_type": "stream",
     "text": [
      "/opt/conda/lib/python3.7/site-packages/torch/nn/modules/container.py:117: UserWarning: Implicit dimension choice for softmax has been deprecated. Change the call to include dim=X as an argument.\n",
      "  input = module(input)\n"
     ]
    }
   ],
   "source": [
    "pred = evalueate_model(model, test_loader)"
   ]
  },
  {
   "cell_type": "markdown",
   "id": "choice-retail",
   "metadata": {
    "papermill": {
     "duration": 0.078858,
     "end_time": "2021-06-16T14:19:19.354784",
     "exception": false,
     "start_time": "2021-06-16T14:19:19.275926",
     "status": "completed"
    },
    "tags": []
   },
   "source": [
    "# 6. Submission\n",
    "* Submit the predictions."
   ]
  },
  {
   "cell_type": "code",
   "execution_count": 38,
   "id": "union-thought",
   "metadata": {
    "execution": {
     "iopub.execute_input": "2021-06-16T14:19:19.513873Z",
     "iopub.status.busy": "2021-06-16T14:19:19.513227Z",
     "iopub.status.idle": "2021-06-16T14:19:19.556486Z",
     "shell.execute_reply": "2021-06-16T14:19:19.555570Z",
     "shell.execute_reply.started": "2021-06-16T14:03:54.401099Z"
    },
    "papermill": {
     "duration": 0.126498,
     "end_time": "2021-06-16T14:19:19.556617",
     "exception": false,
     "start_time": "2021-06-16T14:19:19.430119",
     "status": "completed"
    },
    "tags": []
   },
   "outputs": [
    {
     "data": {
      "text/html": [
       "<div>\n",
       "<style scoped>\n",
       "    .dataframe tbody tr th:only-of-type {\n",
       "        vertical-align: middle;\n",
       "    }\n",
       "\n",
       "    .dataframe tbody tr th {\n",
       "        vertical-align: top;\n",
       "    }\n",
       "\n",
       "    .dataframe thead th {\n",
       "        text-align: right;\n",
       "    }\n",
       "</style>\n",
       "<table border=\"1\" class=\"dataframe\">\n",
       "  <thead>\n",
       "    <tr style=\"text-align: right;\">\n",
       "      <th></th>\n",
       "      <th>ImageId</th>\n",
       "      <th>Label</th>\n",
       "    </tr>\n",
       "  </thead>\n",
       "  <tbody>\n",
       "    <tr>\n",
       "      <th>0</th>\n",
       "      <td>1</td>\n",
       "      <td>2</td>\n",
       "    </tr>\n",
       "    <tr>\n",
       "      <th>1</th>\n",
       "      <td>2</td>\n",
       "      <td>0</td>\n",
       "    </tr>\n",
       "    <tr>\n",
       "      <th>2</th>\n",
       "      <td>3</td>\n",
       "      <td>9</td>\n",
       "    </tr>\n",
       "    <tr>\n",
       "      <th>3</th>\n",
       "      <td>4</td>\n",
       "      <td>9</td>\n",
       "    </tr>\n",
       "    <tr>\n",
       "      <th>4</th>\n",
       "      <td>5</td>\n",
       "      <td>3</td>\n",
       "    </tr>\n",
       "  </tbody>\n",
       "</table>\n",
       "</div>"
      ],
      "text/plain": [
       "   ImageId  Label\n",
       "0        1      2\n",
       "1        2      0\n",
       "2        3      9\n",
       "3        4      9\n",
       "4        5      3"
      ]
     },
     "execution_count": 38,
     "metadata": {},
     "output_type": "execute_result"
    }
   ],
   "source": [
    "submission = pd.read_csv('../input/digit-recognizer/sample_submission.csv')\n",
    "submission['Label'] = pred\n",
    "submission.head()"
   ]
  },
  {
   "cell_type": "code",
   "execution_count": 39,
   "id": "third-uncle",
   "metadata": {
    "execution": {
     "iopub.execute_input": "2021-06-16T14:19:19.761880Z",
     "iopub.status.busy": "2021-06-16T14:19:19.757846Z",
     "iopub.status.idle": "2021-06-16T14:19:20.056550Z",
     "shell.execute_reply": "2021-06-16T14:19:20.055938Z",
     "shell.execute_reply.started": "2021-06-16T14:06:49.627705Z"
    },
    "papermill": {
     "duration": 0.423633,
     "end_time": "2021-06-16T14:19:20.056718",
     "exception": false,
     "start_time": "2021-06-16T14:19:19.633085",
     "status": "completed"
    },
    "tags": []
   },
   "outputs": [
    {
     "data": {
      "image/png": "[encoded data removed]",
      "text/plain": [
       "<Figure size 1440x360 with 5 Axes>"
      ]
     },
     "metadata": {
      "needs_background": "light"
     },
     "output_type": "display_data"
    }
   ],
   "source": [
    "fig, axes = plt.subplots(1,5, figsize=(20,5))\n",
    "\n",
    "for i in range(5):\n",
    "    axes[i].imshow(test_df.iloc[i].values.reshape(28,28), 'gray')\n",
    "    axes[i].axis('off')\n",
    "    axes[i].set_title(\"Predict Lable :\" + str(pred[i]))\n",
    "plt.show()"
   ]
  },
  {
   "cell_type": "code",
   "execution_count": 40,
   "id": "universal-enlargement",
   "metadata": {
    "execution": {
     "iopub.execute_input": "2021-06-16T14:19:20.218231Z",
     "iopub.status.busy": "2021-06-16T14:19:20.216796Z",
     "iopub.status.idle": "2021-06-16T14:19:20.435319Z",
     "shell.execute_reply": "2021-06-16T14:19:20.434751Z"
    },
    "papermill": {
     "duration": 0.300945,
     "end_time": "2021-06-16T14:19:20.435458",
     "exception": false,
     "start_time": "2021-06-16T14:19:20.134513",
     "status": "completed"
    },
    "tags": []
   },
   "outputs": [],
   "source": [
    "submission.to_csv('submission.csv', index=False)"
   ]
  },
  {
   "cell_type": "markdown",
   "id": "sitting-identifier",
   "metadata": {
    "papermill": {
     "duration": 0.076267,
     "end_time": "2021-06-16T14:19:20.590236",
     "exception": false,
     "start_time": "2021-06-16T14:19:20.513969",
     "status": "completed"
    },
    "tags": []
   },
   "source": [
    "##### reference \n",
    "* https://www.kaggle.com/kanncaa1/pytorch-tutorial-for-deep-learning-lovers\n",
    "\n",
    "###  If this notebook is useful for your kaggling, \"UPVOTE\" for it 👀\n",
    "#### THX to Reading My Notebook🌈"
   ]
  }
 ],
 "metadata": {
  "kernelspec": {
   "display_name": "Python 3",
   "language": "python",
   "name": "python3"
  },
  "language_info": {
   "codemirror_mode": {
    "name": "ipython",
    "version": 3
   },
   "file_extension": ".py",
   "mimetype": "text/x-python",
   "name": "python",
   "nbconvert_exporter": "python",
   "pygments_lexer": "ipython3",
   "version": "3.7.10"
  },
  "papermill": {
   "default_parameters": {},
   "duration": 161.107035,
   "end_time": "2021-06-16T14:19:22.229834",
   "environment_variables": {},
   "exception": null,
   "input_path": "__notebook__.ipynb",
   "output_path": "__notebook__.ipynb",
   "parameters": {},
   "start_time": "2021-06-16T14:16:41.122799",
   "version": "2.3.3"
  }
 },
 "nbformat": 4,
 "nbformat_minor": 5
}

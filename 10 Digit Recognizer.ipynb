{
 "cells": [
  {
   "attachments": {
    "033ef31e-d3ff-4c86-9408-39d539b36845.jpg": {
     "image/jpeg": "[encoded data removed]"
    }
   },
   "cell_type": "markdown",
   "id": "southwest-environment",
   "metadata": {
    "papermill": {
     "duration": 0.060871,
     "end_time": "2021-06-21T13:09:52.645277",
     "exception": false,
     "start_time": "2021-06-21T13:09:52.584406",
     "status": "completed"
    },
    "tags": []
   },
   "source": [
    "![68222222101258.jpg](attachment:033ef31e-d3ff-4c86-9408-39d539b36845.jpg)\n",
    "# Digit Recognizer\n",
    "\n",
    "## Overview\n",
    "This competition uses the most basic mnist data in deep learning. We need to create a model to classify the numbers in the image. <br/>\n",
    "You can use other techniques instead of deep learning. However, this notebook will be written based on deep learning. <br/>\n",
    "In addition, we will use \"Pytorch\" among the frameworks that enable deep learning.\n",
    "\n",
    "#### My opinion :\n",
    "* 1) I think it is important to use various techniques and get used to deep learning through this competition."
   ]
  },
  {
   "cell_type": "markdown",
   "id": "chief-artist",
   "metadata": {
    "papermill": {
     "duration": 0.06324,
     "end_time": "2021-06-21T13:09:52.758775",
     "exception": false,
     "start_time": "2021-06-21T13:09:52.695535",
     "status": "completed"
    },
    "tags": []
   },
   "source": [
    "***\n",
    "## My Workflow\n",
    "\n",
    "#### 1. Import & Install libray\n",
    "* Import Basic libray\n",
    "* Import Enginnering libray\n",
    "\n",
    "#### 2. Check out my data\n",
    "* Check Shape / Info / Describe\n",
    "\n",
    "#### 3. Exploratory Data Analysis(EDA) with Visualization [Before Preprocessing]\n",
    "* Plot the null values\n",
    "* Plot the label Percent\n",
    "* Plot the image Data\n",
    "\n",
    "#### 4. Feature Enginnering\n",
    "* Split Train set / Validation set\n",
    "* Convert to data suitable for CNN model (Dataset / Dataloader)\n",
    "\n",
    "#### 5.Modeling\n",
    "* CNN Modeling\n",
    "* Training\n",
    "* Evaluating\n",
    "\n",
    "#### 6. Submission\n",
    "* Submit the predictions.\n",
    "<br/><br/>\n",
    "***"
   ]
  },
  {
   "cell_type": "markdown",
   "id": "grand-wichita",
   "metadata": {
    "papermill": {
     "duration": 0.0679,
     "end_time": "2021-06-21T13:09:52.914318",
     "exception": false,
     "start_time": "2021-06-21T13:09:52.846418",
     "status": "completed"
    },
    "tags": []
   },
   "source": [
    "# 1. Import & Install libray\n",
    "* Import Basic libray\n",
    "* Import Enginnering libray"
   ]
  },
  {
   "cell_type": "code",
   "execution_count": 1,
   "id": "seasonal-structure",
   "metadata": {
    "execution": {
     "iopub.execute_input": "2021-06-21T13:09:53.030652Z",
     "iopub.status.busy": "2021-06-21T13:09:53.029628Z",
     "iopub.status.idle": "2021-06-21T13:09:53.815446Z",
     "shell.execute_reply": "2021-06-21T13:09:53.814727Z",
     "shell.execute_reply.started": "2021-06-21T13:07:06.926188Z"
    },
    "papermill": {
     "duration": 0.850529,
     "end_time": "2021-06-21T13:09:53.815610",
     "exception": false,
     "start_time": "2021-06-21T13:09:52.965081",
     "status": "completed"
    },
    "tags": []
   },
   "outputs": [],
   "source": [
    "import pandas as pd\n",
    "import numpy as np\n",
    "from collections import OrderedDict\n",
    "\n",
    "from PIL import Image\n",
    "import seaborn as sns\n",
    "import matplotlib.pyplot as plt\n",
    "import missingno as msno\n",
    "\n",
    "plt.style.use('seaborn')\n",
    "%matplotlib inline"
   ]
  },
  {
   "cell_type": "code",
   "execution_count": 2,
   "id": "understanding-desktop",
   "metadata": {
    "execution": {
     "iopub.execute_input": "2021-06-21T13:09:53.921355Z",
     "iopub.status.busy": "2021-06-21T13:09:53.920590Z",
     "iopub.status.idle": "2021-06-21T13:09:55.694742Z",
     "shell.execute_reply": "2021-06-21T13:09:55.693372Z",
     "shell.execute_reply.started": "2021-06-21T13:07:06.941670Z"
    },
    "papermill": {
     "duration": 1.829442,
     "end_time": "2021-06-21T13:09:55.695066",
     "exception": false,
     "start_time": "2021-06-21T13:09:53.865624",
     "status": "completed"
    },
    "tags": []
   },
   "outputs": [],
   "source": [
    "import torch\n",
    "import torch.nn as nn\n",
    "import torch.optim as optim\n",
    "from torch.utils.data import DataLoader, Dataset, TensorDataset\n",
    "\n",
    "import sklearn\n",
    "from sklearn.model_selection import train_test_split"
   ]
  },
  {
   "cell_type": "code",
   "execution_count": 3,
   "id": "herbal-rebate",
   "metadata": {
    "execution": {
     "iopub.execute_input": "2021-06-21T13:09:55.928355Z",
     "iopub.status.busy": "2021-06-21T13:09:55.927413Z",
     "iopub.status.idle": "2021-06-21T13:10:03.214738Z",
     "shell.execute_reply": "2021-06-21T13:10:03.214157Z",
     "shell.execute_reply.started": "2021-06-21T13:07:06.957190Z"
    },
    "papermill": {
     "duration": 7.397818,
     "end_time": "2021-06-21T13:10:03.214929",
     "exception": false,
     "start_time": "2021-06-21T13:09:55.817111",
     "status": "completed"
    },
    "tags": []
   },
   "outputs": [
    {
     "data": {
      "text/html": [
       "<div>\n",
       "<style scoped>\n",
       "    .dataframe tbody tr th:only-of-type {\n",
       "        vertical-align: middle;\n",
       "    }\n",
       "\n",
       "    .dataframe tbody tr th {\n",
       "        vertical-align: top;\n",
       "    }\n",
       "\n",
       "    .dataframe thead th {\n",
       "        text-align: right;\n",
       "    }\n",
       "</style>\n",
       "<table border=\"1\" class=\"dataframe\">\n",
       "  <thead>\n",
       "    <tr style=\"text-align: right;\">\n",
       "      <th></th>\n",
       "      <th>label</th>\n",
       "      <th>pixel0</th>\n",
       "      <th>pixel1</th>\n",
       "      <th>pixel2</th>\n",
       "      <th>pixel3</th>\n",
       "      <th>pixel4</th>\n",
       "      <th>pixel5</th>\n",
       "      <th>pixel6</th>\n",
       "      <th>pixel7</th>\n",
       "      <th>pixel8</th>\n",
       "      <th>...</th>\n",
       "      <th>pixel774</th>\n",
       "      <th>pixel775</th>\n",
       "      <th>pixel776</th>\n",
       "      <th>pixel777</th>\n",
       "      <th>pixel778</th>\n",
       "      <th>pixel779</th>\n",
       "      <th>pixel780</th>\n",
       "      <th>pixel781</th>\n",
       "      <th>pixel782</th>\n",
       "      <th>pixel783</th>\n",
       "    </tr>\n",
       "  </thead>\n",
       "  <tbody>\n",
       "    <tr>\n",
       "      <th>0</th>\n",
       "      <td>1</td>\n",
       "      <td>0</td>\n",
       "      <td>0</td>\n",
       "      <td>0</td>\n",
       "      <td>0</td>\n",
       "      <td>0</td>\n",
       "      <td>0</td>\n",
       "      <td>0</td>\n",
       "      <td>0</td>\n",
       "      <td>0</td>\n",
       "      <td>...</td>\n",
       "      <td>0</td>\n",
       "      <td>0</td>\n",
       "      <td>0</td>\n",
       "      <td>0</td>\n",
       "      <td>0</td>\n",
       "      <td>0</td>\n",
       "      <td>0</td>\n",
       "      <td>0</td>\n",
       "      <td>0</td>\n",
       "      <td>0</td>\n",
       "    </tr>\n",
       "    <tr>\n",
       "      <th>1</th>\n",
       "      <td>0</td>\n",
       "      <td>0</td>\n",
       "      <td>0</td>\n",
       "      <td>0</td>\n",
       "      <td>0</td>\n",
       "      <td>0</td>\n",
       "      <td>0</td>\n",
       "      <td>0</td>\n",
       "      <td>0</td>\n",
       "      <td>0</td>\n",
       "      <td>...</td>\n",
       "      <td>0</td>\n",
       "      <td>0</td>\n",
       "      <td>0</td>\n",
       "      <td>0</td>\n",
       "      <td>0</td>\n",
       "      <td>0</td>\n",
       "      <td>0</td>\n",
       "      <td>0</td>\n",
       "      <td>0</td>\n",
       "      <td>0</td>\n",
       "    </tr>\n",
       "    <tr>\n",
       "      <th>2</th>\n",
       "      <td>1</td>\n",
       "      <td>0</td>\n",
       "      <td>0</td>\n",
       "      <td>0</td>\n",
       "      <td>0</td>\n",
       "      <td>0</td>\n",
       "      <td>0</td>\n",
       "      <td>0</td>\n",
       "      <td>0</td>\n",
       "      <td>0</td>\n",
       "      <td>...</td>\n",
       "      <td>0</td>\n",
       "      <td>0</td>\n",
       "      <td>0</td>\n",
       "      <td>0</td>\n",
       "      <td>0</td>\n",
       "      <td>0</td>\n",
       "      <td>0</td>\n",
       "      <td>0</td>\n",
       "      <td>0</td>\n",
       "      <td>0</td>\n",
       "    </tr>\n",
       "    <tr>\n",
       "      <th>3</th>\n",
       "      <td>4</td>\n",
       "      <td>0</td>\n",
       "      <td>0</td>\n",
       "      <td>0</td>\n",
       "      <td>0</td>\n",
       "      <td>0</td>\n",
       "      <td>0</td>\n",
       "      <td>0</td>\n",
       "      <td>0</td>\n",
       "      <td>0</td>\n",
       "      <td>...</td>\n",
       "      <td>0</td>\n",
       "      <td>0</td>\n",
       "      <td>0</td>\n",
       "      <td>0</td>\n",
       "      <td>0</td>\n",
       "      <td>0</td>\n",
       "      <td>0</td>\n",
       "      <td>0</td>\n",
       "      <td>0</td>\n",
       "      <td>0</td>\n",
       "    </tr>\n",
       "    <tr>\n",
       "      <th>4</th>\n",
       "      <td>0</td>\n",
       "      <td>0</td>\n",
       "      <td>0</td>\n",
       "      <td>0</td>\n",
       "      <td>0</td>\n",
       "      <td>0</td>\n",
       "      <td>0</td>\n",
       "      <td>0</td>\n",
       "      <td>0</td>\n",
       "      <td>0</td>\n",
       "      <td>...</td>\n",
       "      <td>0</td>\n",
       "      <td>0</td>\n",
       "      <td>0</td>\n",
       "      <td>0</td>\n",
       "      <td>0</td>\n",
       "      <td>0</td>\n",
       "      <td>0</td>\n",
       "      <td>0</td>\n",
       "      <td>0</td>\n",
       "      <td>0</td>\n",
       "    </tr>\n",
       "  </tbody>\n",
       "</table>\n",
       "<p>5 rows × 785 columns</p>\n",
       "</div>"
      ],
      "text/plain": [
       "   label  pixel0  pixel1  pixel2  pixel3  pixel4  pixel5  pixel6  pixel7  \\\n",
       "0      1       0       0       0       0       0       0       0       0   \n",
       "1      0       0       0       0       0       0       0       0       0   \n",
       "2      1       0       0       0       0       0       0       0       0   \n",
       "3      4       0       0       0       0       0       0       0       0   \n",
       "4      0       0       0       0       0       0       0       0       0   \n",
       "\n",
       "   pixel8  ...  pixel774  pixel775  pixel776  pixel777  pixel778  pixel779  \\\n",
       "0       0  ...         0         0         0         0         0         0   \n",
       "1       0  ...         0         0         0         0         0         0   \n",
       "2       0  ...         0         0         0         0         0         0   \n",
       "3       0  ...         0         0         0         0         0         0   \n",
       "4       0  ...         0         0         0         0         0         0   \n",
       "\n",
       "   pixel780  pixel781  pixel782  pixel783  \n",
       "0         0         0         0         0  \n",
       "1         0         0         0         0  \n",
       "2         0         0         0         0  \n",
       "3         0         0         0         0  \n",
       "4         0         0         0         0  \n",
       "\n",
       "[5 rows x 785 columns]"
      ]
     },
     "execution_count": 3,
     "metadata": {},
     "output_type": "execute_result"
    }
   ],
   "source": [
    "train_df = pd.read_csv('/kaggle/input/digit-recognizer/train.csv')\n",
    "test_df = pd.read_csv('/kaggle/input/digit-recognizer/test.csv')\n",
    "train_df.head()"
   ]
  },
  {
   "cell_type": "markdown",
   "id": "alpha-bench",
   "metadata": {
    "papermill": {
     "duration": 0.052685,
     "end_time": "2021-06-21T13:10:03.320189",
     "exception": false,
     "start_time": "2021-06-21T13:10:03.267504",
     "status": "completed"
    },
    "tags": []
   },
   "source": [
    "# 2. Check out my data\n",
    "* Check Shape / Info / Describe"
   ]
  },
  {
   "cell_type": "code",
   "execution_count": 4,
   "id": "proper-billion",
   "metadata": {
    "execution": {
     "iopub.execute_input": "2021-06-21T13:10:03.430208Z",
     "iopub.status.busy": "2021-06-21T13:10:03.429307Z",
     "iopub.status.idle": "2021-06-21T13:10:03.434963Z",
     "shell.execute_reply": "2021-06-21T13:10:03.435724Z",
     "shell.execute_reply.started": "2021-06-21T13:07:12.580248Z"
    },
    "papermill": {
     "duration": 0.06335,
     "end_time": "2021-06-21T13:10:03.435970",
     "exception": false,
     "start_time": "2021-06-21T13:10:03.372620",
     "status": "completed"
    },
    "tags": []
   },
   "outputs": [
    {
     "name": "stdout",
     "output_type": "stream",
     "text": [
      "train data shape : (42000, 785)\n",
      "test data shape : (28000, 784)\n"
     ]
    }
   ],
   "source": [
    "print(\"train data shape : {}\".format(train_df.shape))\n",
    "print(\"test data shape : {}\".format(test_df.shape))"
   ]
  },
  {
   "cell_type": "code",
   "execution_count": 5,
   "id": "cross-reset",
   "metadata": {
    "execution": {
     "iopub.execute_input": "2021-06-21T13:10:03.650967Z",
     "iopub.status.busy": "2021-06-21T13:10:03.550456Z",
     "iopub.status.idle": "2021-06-21T13:10:06.392577Z",
     "shell.execute_reply": "2021-06-21T13:10:06.393208Z",
     "shell.execute_reply.started": "2021-06-21T13:07:12.589211Z"
    },
    "papermill": {
     "duration": 2.903816,
     "end_time": "2021-06-21T13:10:06.393418",
     "exception": false,
     "start_time": "2021-06-21T13:10:03.489602",
     "status": "completed"
    },
    "tags": []
   },
   "outputs": [
    {
     "data": {
      "text/html": [
       "<div>\n",
       "<style scoped>\n",
       "    .dataframe tbody tr th:only-of-type {\n",
       "        vertical-align: middle;\n",
       "    }\n",
       "\n",
       "    .dataframe tbody tr th {\n",
       "        vertical-align: top;\n",
       "    }\n",
       "\n",
       "    .dataframe thead th {\n",
       "        text-align: right;\n",
       "    }\n",
       "</style>\n",
       "<table border=\"1\" class=\"dataframe\">\n",
       "  <thead>\n",
       "    <tr style=\"text-align: right;\">\n",
       "      <th></th>\n",
       "      <th>label</th>\n",
       "      <th>pixel0</th>\n",
       "      <th>pixel1</th>\n",
       "      <th>pixel2</th>\n",
       "      <th>pixel3</th>\n",
       "      <th>pixel4</th>\n",
       "      <th>pixel5</th>\n",
       "      <th>pixel6</th>\n",
       "      <th>pixel7</th>\n",
       "      <th>pixel8</th>\n",
       "      <th>...</th>\n",
       "      <th>pixel774</th>\n",
       "      <th>pixel775</th>\n",
       "      <th>pixel776</th>\n",
       "      <th>pixel777</th>\n",
       "      <th>pixel778</th>\n",
       "      <th>pixel779</th>\n",
       "      <th>pixel780</th>\n",
       "      <th>pixel781</th>\n",
       "      <th>pixel782</th>\n",
       "      <th>pixel783</th>\n",
       "    </tr>\n",
       "  </thead>\n",
       "  <tbody>\n",
       "    <tr>\n",
       "      <th>count</th>\n",
       "      <td>42000.000000</td>\n",
       "      <td>42000.0</td>\n",
       "      <td>42000.0</td>\n",
       "      <td>42000.0</td>\n",
       "      <td>42000.0</td>\n",
       "      <td>42000.0</td>\n",
       "      <td>42000.0</td>\n",
       "      <td>42000.0</td>\n",
       "      <td>42000.0</td>\n",
       "      <td>42000.0</td>\n",
       "      <td>...</td>\n",
       "      <td>42000.000000</td>\n",
       "      <td>42000.000000</td>\n",
       "      <td>42000.000000</td>\n",
       "      <td>42000.00000</td>\n",
       "      <td>42000.000000</td>\n",
       "      <td>42000.000000</td>\n",
       "      <td>42000.0</td>\n",
       "      <td>42000.0</td>\n",
       "      <td>42000.0</td>\n",
       "      <td>42000.0</td>\n",
       "    </tr>\n",
       "    <tr>\n",
       "      <th>mean</th>\n",
       "      <td>4.456643</td>\n",
       "      <td>0.0</td>\n",
       "      <td>0.0</td>\n",
       "      <td>0.0</td>\n",
       "      <td>0.0</td>\n",
       "      <td>0.0</td>\n",
       "      <td>0.0</td>\n",
       "      <td>0.0</td>\n",
       "      <td>0.0</td>\n",
       "      <td>0.0</td>\n",
       "      <td>...</td>\n",
       "      <td>0.219286</td>\n",
       "      <td>0.117095</td>\n",
       "      <td>0.059024</td>\n",
       "      <td>0.02019</td>\n",
       "      <td>0.017238</td>\n",
       "      <td>0.002857</td>\n",
       "      <td>0.0</td>\n",
       "      <td>0.0</td>\n",
       "      <td>0.0</td>\n",
       "      <td>0.0</td>\n",
       "    </tr>\n",
       "    <tr>\n",
       "      <th>std</th>\n",
       "      <td>2.887730</td>\n",
       "      <td>0.0</td>\n",
       "      <td>0.0</td>\n",
       "      <td>0.0</td>\n",
       "      <td>0.0</td>\n",
       "      <td>0.0</td>\n",
       "      <td>0.0</td>\n",
       "      <td>0.0</td>\n",
       "      <td>0.0</td>\n",
       "      <td>0.0</td>\n",
       "      <td>...</td>\n",
       "      <td>6.312890</td>\n",
       "      <td>4.633819</td>\n",
       "      <td>3.274488</td>\n",
       "      <td>1.75987</td>\n",
       "      <td>1.894498</td>\n",
       "      <td>0.414264</td>\n",
       "      <td>0.0</td>\n",
       "      <td>0.0</td>\n",
       "      <td>0.0</td>\n",
       "      <td>0.0</td>\n",
       "    </tr>\n",
       "    <tr>\n",
       "      <th>min</th>\n",
       "      <td>0.000000</td>\n",
       "      <td>0.0</td>\n",
       "      <td>0.0</td>\n",
       "      <td>0.0</td>\n",
       "      <td>0.0</td>\n",
       "      <td>0.0</td>\n",
       "      <td>0.0</td>\n",
       "      <td>0.0</td>\n",
       "      <td>0.0</td>\n",
       "      <td>0.0</td>\n",
       "      <td>...</td>\n",
       "      <td>0.000000</td>\n",
       "      <td>0.000000</td>\n",
       "      <td>0.000000</td>\n",
       "      <td>0.00000</td>\n",
       "      <td>0.000000</td>\n",
       "      <td>0.000000</td>\n",
       "      <td>0.0</td>\n",
       "      <td>0.0</td>\n",
       "      <td>0.0</td>\n",
       "      <td>0.0</td>\n",
       "    </tr>\n",
       "    <tr>\n",
       "      <th>25%</th>\n",
       "      <td>2.000000</td>\n",
       "      <td>0.0</td>\n",
       "      <td>0.0</td>\n",
       "      <td>0.0</td>\n",
       "      <td>0.0</td>\n",
       "      <td>0.0</td>\n",
       "      <td>0.0</td>\n",
       "      <td>0.0</td>\n",
       "      <td>0.0</td>\n",
       "      <td>0.0</td>\n",
       "      <td>...</td>\n",
       "      <td>0.000000</td>\n",
       "      <td>0.000000</td>\n",
       "      <td>0.000000</td>\n",
       "      <td>0.00000</td>\n",
       "      <td>0.000000</td>\n",
       "      <td>0.000000</td>\n",
       "      <td>0.0</td>\n",
       "      <td>0.0</td>\n",
       "      <td>0.0</td>\n",
       "      <td>0.0</td>\n",
       "    </tr>\n",
       "    <tr>\n",
       "      <th>50%</th>\n",
       "      <td>4.000000</td>\n",
       "      <td>0.0</td>\n",
       "      <td>0.0</td>\n",
       "      <td>0.0</td>\n",
       "      <td>0.0</td>\n",
       "      <td>0.0</td>\n",
       "      <td>0.0</td>\n",
       "      <td>0.0</td>\n",
       "      <td>0.0</td>\n",
       "      <td>0.0</td>\n",
       "      <td>...</td>\n",
       "      <td>0.000000</td>\n",
       "      <td>0.000000</td>\n",
       "      <td>0.000000</td>\n",
       "      <td>0.00000</td>\n",
       "      <td>0.000000</td>\n",
       "      <td>0.000000</td>\n",
       "      <td>0.0</td>\n",
       "      <td>0.0</td>\n",
       "      <td>0.0</td>\n",
       "      <td>0.0</td>\n",
       "    </tr>\n",
       "    <tr>\n",
       "      <th>75%</th>\n",
       "      <td>7.000000</td>\n",
       "      <td>0.0</td>\n",
       "      <td>0.0</td>\n",
       "      <td>0.0</td>\n",
       "      <td>0.0</td>\n",
       "      <td>0.0</td>\n",
       "      <td>0.0</td>\n",
       "      <td>0.0</td>\n",
       "      <td>0.0</td>\n",
       "      <td>0.0</td>\n",
       "      <td>...</td>\n",
       "      <td>0.000000</td>\n",
       "      <td>0.000000</td>\n",
       "      <td>0.000000</td>\n",
       "      <td>0.00000</td>\n",
       "      <td>0.000000</td>\n",
       "      <td>0.000000</td>\n",
       "      <td>0.0</td>\n",
       "      <td>0.0</td>\n",
       "      <td>0.0</td>\n",
       "      <td>0.0</td>\n",
       "    </tr>\n",
       "    <tr>\n",
       "      <th>max</th>\n",
       "      <td>9.000000</td>\n",
       "      <td>0.0</td>\n",
       "      <td>0.0</td>\n",
       "      <td>0.0</td>\n",
       "      <td>0.0</td>\n",
       "      <td>0.0</td>\n",
       "      <td>0.0</td>\n",
       "      <td>0.0</td>\n",
       "      <td>0.0</td>\n",
       "      <td>0.0</td>\n",
       "      <td>...</td>\n",
       "      <td>254.000000</td>\n",
       "      <td>254.000000</td>\n",
       "      <td>253.000000</td>\n",
       "      <td>253.00000</td>\n",
       "      <td>254.000000</td>\n",
       "      <td>62.000000</td>\n",
       "      <td>0.0</td>\n",
       "      <td>0.0</td>\n",
       "      <td>0.0</td>\n",
       "      <td>0.0</td>\n",
       "    </tr>\n",
       "  </tbody>\n",
       "</table>\n",
       "<p>8 rows × 785 columns</p>\n",
       "</div>"
      ],
      "text/plain": [
       "              label   pixel0   pixel1   pixel2   pixel3   pixel4   pixel5  \\\n",
       "count  42000.000000  42000.0  42000.0  42000.0  42000.0  42000.0  42000.0   \n",
       "mean       4.456643      0.0      0.0      0.0      0.0      0.0      0.0   \n",
       "std        2.887730      0.0      0.0      0.0      0.0      0.0      0.0   \n",
       "min        0.000000      0.0      0.0      0.0      0.0      0.0      0.0   \n",
       "25%        2.000000      0.0      0.0      0.0      0.0      0.0      0.0   \n",
       "50%        4.000000      0.0      0.0      0.0      0.0      0.0      0.0   \n",
       "75%        7.000000      0.0      0.0      0.0      0.0      0.0      0.0   \n",
       "max        9.000000      0.0      0.0      0.0      0.0      0.0      0.0   \n",
       "\n",
       "        pixel6   pixel7   pixel8  ...      pixel774      pixel775  \\\n",
       "count  42000.0  42000.0  42000.0  ...  42000.000000  42000.000000   \n",
       "mean       0.0      0.0      0.0  ...      0.219286      0.117095   \n",
       "std        0.0      0.0      0.0  ...      6.312890      4.633819   \n",
       "min        0.0      0.0      0.0  ...      0.000000      0.000000   \n",
       "25%        0.0      0.0      0.0  ...      0.000000      0.000000   \n",
       "50%        0.0      0.0      0.0  ...      0.000000      0.000000   \n",
       "75%        0.0      0.0      0.0  ...      0.000000      0.000000   \n",
       "max        0.0      0.0      0.0  ...    254.000000    254.000000   \n",
       "\n",
       "           pixel776     pixel777      pixel778      pixel779  pixel780  \\\n",
       "count  42000.000000  42000.00000  42000.000000  42000.000000   42000.0   \n",
       "mean       0.059024      0.02019      0.017238      0.002857       0.0   \n",
       "std        3.274488      1.75987      1.894498      0.414264       0.0   \n",
       "min        0.000000      0.00000      0.000000      0.000000       0.0   \n",
       "25%        0.000000      0.00000      0.000000      0.000000       0.0   \n",
       "50%        0.000000      0.00000      0.000000      0.000000       0.0   \n",
       "75%        0.000000      0.00000      0.000000      0.000000       0.0   \n",
       "max      253.000000    253.00000    254.000000     62.000000       0.0   \n",
       "\n",
       "       pixel781  pixel782  pixel783  \n",
       "count   42000.0   42000.0   42000.0  \n",
       "mean        0.0       0.0       0.0  \n",
       "std         0.0       0.0       0.0  \n",
       "min         0.0       0.0       0.0  \n",
       "25%         0.0       0.0       0.0  \n",
       "50%         0.0       0.0       0.0  \n",
       "75%         0.0       0.0       0.0  \n",
       "max         0.0       0.0       0.0  \n",
       "\n",
       "[8 rows x 785 columns]"
      ]
     },
     "execution_count": 5,
     "metadata": {},
     "output_type": "execute_result"
    }
   ],
   "source": [
    "train_df.describe()"
   ]
  },
  {
   "cell_type": "code",
   "execution_count": 6,
   "id": "herbal-simon",
   "metadata": {
    "execution": {
     "iopub.execute_input": "2021-06-21T13:10:06.507971Z",
     "iopub.status.busy": "2021-06-21T13:10:06.506534Z",
     "iopub.status.idle": "2021-06-21T13:10:07.404324Z",
     "shell.execute_reply": "2021-06-21T13:10:07.405229Z",
     "shell.execute_reply.started": "2021-06-21T13:07:15.204620Z"
    },
    "papermill": {
     "duration": 0.958177,
     "end_time": "2021-06-21T13:10:07.405546",
     "exception": false,
     "start_time": "2021-06-21T13:10:06.447369",
     "status": "completed"
    },
    "tags": []
   },
   "outputs": [
    {
     "name": "stdout",
     "output_type": "stream",
     "text": [
      "Check train data values : \n",
      "[  0   1   2   3   4   5   6   7   8   9  10  11  12  13  14  15  16  17\n",
      "  18  19  20  21  22  23  24  25  26  27  28  29  30  31  32  33  34  35\n",
      "  36  37  38  39  40  41  42  43  44  45  46  47  48  49  50  51  52  53\n",
      "  54  55  56  57  58  59  60  61  62  63  64  65  66  67  68  69  70  71\n",
      "  72  73  74  75  76  77  78  79  80  81  82  83  84  85  86  87  88  89\n",
      "  90  91  92  93  94  95  96  97  98  99 100 101 102 103 104 105 106 107\n",
      " 108 109 110 111 112 113 114 115 116 117 118 119 120 121 122 123 124 125\n",
      " 126 127 128 129 130 131 132 133 134 135 136 137 138 139 140 141 142 143\n",
      " 144 145 146 147 148 149 150 151 152 153 154 155 156 157 158 159 160 161\n",
      " 162 163 164 165 166 167 168 169 170 171 172 173 174 175 176 177 178 179\n",
      " 180 181 182 183 184 185 186 187 188 189 190 191 192 193 194 195 196 197\n",
      " 198 199 200 201 202 203 204 205 206 207 208 209 210 211 212 213 214 215\n",
      " 216 217 218 219 220 221 222 223 224 225 226 227 228 229 230 231 232 233\n",
      " 234 235 236 237 238 239 240 241 242 243 244 245 246 247 248 249 250 251\n",
      " 252 253 254 255]\n"
     ]
    }
   ],
   "source": [
    "print(\"Check train data values : \\n{}\".format(np.unique(train_df)))"
   ]
  },
  {
   "cell_type": "code",
   "execution_count": 7,
   "id": "opposed-department",
   "metadata": {
    "execution": {
     "iopub.execute_input": "2021-06-21T13:10:07.523595Z",
     "iopub.status.busy": "2021-06-21T13:10:07.522867Z",
     "iopub.status.idle": "2021-06-21T13:10:07.545517Z",
     "shell.execute_reply": "2021-06-21T13:10:07.545020Z",
     "shell.execute_reply.started": "2021-06-21T13:07:16.077020Z"
    },
    "papermill": {
     "duration": 0.084858,
     "end_time": "2021-06-21T13:10:07.545709",
     "exception": false,
     "start_time": "2021-06-21T13:10:07.460851",
     "status": "completed"
    },
    "tags": []
   },
   "outputs": [
    {
     "data": {
      "image/png": "[encoded data removed]",
      "text/html": [
       "<div style=\"vertical-align: middle;\"><strong>Greys</strong> </div><div class=\"cmap\"><img alt=\"Greys colormap\" title=\"Greys\" style=\"border: 1px solid #555;\" src=\"data:image/png;base64,iVBORw0KGgoAAAANSUhEUgAAAgAAAABACAYAAABsv8+/AAAAFHRFWHRUaXRsZQBHcmV5cyBjb2xvcm1hcORtd/YAAAAadEVYdERlc2NyaXB0aW9uAEdyZXlzIGNvbG9ybWFwGjLeEAAAADB0RVh0QXV0aG9yAE1hdHBsb3RsaWIgdjMuNC4xLCBodHRwczovL21hdHBsb3RsaWIub3JnmTvVjgAAADJ0RVh0U29mdHdhcmUATWF0cGxvdGxpYiB2My40LjEsIGh0dHBzOi8vbWF0cGxvdGxpYi5vcme3nUqpAAABaklEQVR4nO3WSwrCMABAwej9z9y6UReCKPYrb2YTmjRpoJt3med5HmOM+/C09/NR3333/Gl+6fre+9Za/3Zces7R+6dpWrT+r+esvW+v87Y+91/v8es9X+e3fu8s99jq/57t/cd4HQBAjgAAgCABAABBAgAAggQAAAQJAAAIEgAAECQAACBIAABAkAAAgCABAABBAgAAggQAAAQJAAAIEgAAECQAACBIAABAkAAAgCABAABBAgAAggQAAAQJAAAIEgAAECQAACBIAABAkAAAgCABAABBAgAAggQAAAQJAAAIEgAAECQAACBIAABAkAAAgCABAABBAgAAggQAAAQJAAAIEgAAECQAACBIAABAkAAAgCABAABBAgAAggQAAAQJAAAIEgAAECQAACBIAABAkAAAgCABAABBAgAAggQAAAQJAAAIEgAAECQAACBIAABAkAAAgCABAABBAgAAggQAAAQJAAAIEgAAEHQDHfmnnRvzoAgAAAAASUVORK5CYII=\"></div><div style=\"vertical-align: middle; max-width: 514px; display: flex; justify-content: space-between;\"><div style=\"float: left;\"><div title=\"#ffffffff\" style=\"display: inline-block; width: 1em; height: 1em; margin: 0; vertical-align: middle; border: 1px solid #555; background-color: #ffffffff;\"></div> under</div><div style=\"margin: 0 auto; display: inline-block;\">bad <div title=\"#00000000\" style=\"display: inline-block; width: 1em; height: 1em; margin: 0; vertical-align: middle; border: 1px solid #555; background-color: #00000000;\"></div></div><div style=\"float: right;\">over <div title=\"#000000ff\" style=\"display: inline-block; width: 1em; height: 1em; margin: 0; vertical-align: middle; border: 1px solid #555; background-color: #000000ff;\"></div></div>"
      ],
      "text/plain": [
       "<matplotlib.colors.LinearSegmentedColormap at 0x7f5a10520d10>"
      ]
     },
     "execution_count": 7,
     "metadata": {},
     "output_type": "execute_result"
    }
   ],
   "source": [
    "sns.color_palette(\"Greys\", as_cmap=True)"
   ]
  },
  {
   "cell_type": "code",
   "execution_count": 8,
   "id": "fossil-belief",
   "metadata": {
    "execution": {
     "iopub.execute_input": "2021-06-21T13:10:07.675001Z",
     "iopub.status.busy": "2021-06-21T13:10:07.674136Z",
     "iopub.status.idle": "2021-06-21T13:10:07.756389Z",
     "shell.execute_reply": "2021-06-21T13:10:07.757046Z",
     "shell.execute_reply.started": "2021-06-21T13:07:16.097388Z"
    },
    "papermill": {
     "duration": 0.157638,
     "end_time": "2021-06-21T13:10:07.757218",
     "exception": false,
     "start_time": "2021-06-21T13:10:07.599580",
     "status": "completed"
    },
    "tags": []
   },
   "outputs": [
    {
     "data": {
      "image/png": "[encoded data removed]",
      "text/plain": [
       "<Figure size 720x72 with 1 Axes>"
      ]
     },
     "metadata": {
      "needs_background": "light"
     },
     "output_type": "display_data"
    }
   ],
   "source": [
    "Greys_palette = sns.color_palette(\"Greys\",10)\n",
    "sns.palplot(Greys_palette)"
   ]
  },
  {
   "cell_type": "markdown",
   "id": "occupied-relation",
   "metadata": {
    "papermill": {
     "duration": 0.054091,
     "end_time": "2021-06-21T13:10:07.865093",
     "exception": false,
     "start_time": "2021-06-21T13:10:07.811002",
     "status": "completed"
    },
    "tags": []
   },
   "source": [
    "# 3. Exploratory Data Analysis(EDA) with Visualization [Before Preprocessing]\n",
    "* Plot the null values\n",
    "* Plot the label Percent\n",
    "* Plot the image Data"
   ]
  },
  {
   "cell_type": "markdown",
   "id": "starting-knight",
   "metadata": {
    "papermill": {
     "duration": 0.053923,
     "end_time": "2021-06-21T13:10:07.973456",
     "exception": false,
     "start_time": "2021-06-21T13:10:07.919533",
     "status": "completed"
    },
    "tags": []
   },
   "source": [
    "### 3-1) Plot the null values"
   ]
  },
  {
   "cell_type": "code",
   "execution_count": 9,
   "id": "oriental-uganda",
   "metadata": {
    "execution": {
     "iopub.execute_input": "2021-06-21T13:10:08.088042Z",
     "iopub.status.busy": "2021-06-21T13:10:08.086589Z",
     "iopub.status.idle": "2021-06-21T13:10:08.253405Z",
     "shell.execute_reply": "2021-06-21T13:10:08.254119Z",
     "shell.execute_reply.started": "2021-06-21T13:07:16.199052Z"
    },
    "papermill": {
     "duration": 0.227035,
     "end_time": "2021-06-21T13:10:08.254382",
     "exception": false,
     "start_time": "2021-06-21T13:10:08.027347",
     "status": "completed"
    },
    "tags": []
   },
   "outputs": [
    {
     "data": {
      "text/html": [
       "<style  type=\"text/css\" >\n",
       "#T_009f2d0e_d292_11eb_acef_0242ac130202row0_col0,#T_009f2d0e_d292_11eb_acef_0242ac130202row1_col0,#T_009f2d0e_d292_11eb_acef_0242ac130202row2_col0,#T_009f2d0e_d292_11eb_acef_0242ac130202row3_col0,#T_009f2d0e_d292_11eb_acef_0242ac130202row4_col0{\n",
       "            background-color:  #ffffff;\n",
       "            color:  #000000;\n",
       "        }</style><table id=\"T_009f2d0e_d292_11eb_acef_0242ac130202\" ><thead>    <tr>        <th class=\"blank level0\" ></th>        <th class=\"col_heading level0 col0\" >Null Count</th>    </tr></thead><tbody>\n",
       "                <tr>\n",
       "                        <th id=\"T_009f2d0e_d292_11eb_acef_0242ac130202level0_row0\" class=\"row_heading level0 row0\" >pixel783</th>\n",
       "                        <td id=\"T_009f2d0e_d292_11eb_acef_0242ac130202row0_col0\" class=\"data row0 col0\" >0</td>\n",
       "            </tr>\n",
       "            <tr>\n",
       "                        <th id=\"T_009f2d0e_d292_11eb_acef_0242ac130202level0_row1\" class=\"row_heading level0 row1\" >pixel267</th>\n",
       "                        <td id=\"T_009f2d0e_d292_11eb_acef_0242ac130202row1_col0\" class=\"data row1 col0\" >0</td>\n",
       "            </tr>\n",
       "            <tr>\n",
       "                        <th id=\"T_009f2d0e_d292_11eb_acef_0242ac130202level0_row2\" class=\"row_heading level0 row2\" >pixel265</th>\n",
       "                        <td id=\"T_009f2d0e_d292_11eb_acef_0242ac130202row2_col0\" class=\"data row2 col0\" >0</td>\n",
       "            </tr>\n",
       "            <tr>\n",
       "                        <th id=\"T_009f2d0e_d292_11eb_acef_0242ac130202level0_row3\" class=\"row_heading level0 row3\" >pixel264</th>\n",
       "                        <td id=\"T_009f2d0e_d292_11eb_acef_0242ac130202row3_col0\" class=\"data row3 col0\" >0</td>\n",
       "            </tr>\n",
       "            <tr>\n",
       "                        <th id=\"T_009f2d0e_d292_11eb_acef_0242ac130202level0_row4\" class=\"row_heading level0 row4\" >pixel263</th>\n",
       "                        <td id=\"T_009f2d0e_d292_11eb_acef_0242ac130202row4_col0\" class=\"data row4 col0\" >0</td>\n",
       "            </tr>\n",
       "    </tbody></table>"
      ],
      "text/plain": [
       "<pandas.io.formats.style.Styler at 0x7f5950b57410>"
      ]
     },
     "execution_count": 9,
     "metadata": {},
     "output_type": "execute_result"
    }
   ],
   "source": [
    "pd.DataFrame(train_df.isnull().sum().sort_values(ascending=False), columns=[\"Null Count\"]).head().style.background_gradient(cmap='Greys')"
   ]
  },
  {
   "cell_type": "code",
   "execution_count": 10,
   "id": "secure-chance",
   "metadata": {
    "execution": {
     "iopub.execute_input": "2021-06-21T13:10:08.377063Z",
     "iopub.status.busy": "2021-06-21T13:10:08.375927Z",
     "iopub.status.idle": "2021-06-21T13:10:16.899657Z",
     "shell.execute_reply": "2021-06-21T13:10:16.900864Z",
     "shell.execute_reply.started": "2021-06-21T13:07:16.266228Z"
    },
    "papermill": {
     "duration": 8.590339,
     "end_time": "2021-06-21T13:10:16.901134",
     "exception": false,
     "start_time": "2021-06-21T13:10:08.310795",
     "status": "completed"
    },
    "tags": []
   },
   "outputs": [
    {
     "data": {
      "text/plain": [
       "<AxesSubplot:>"
      ]
     },
     "execution_count": 10,
     "metadata": {},
     "output_type": "execute_result"
    },
    {
     "data": {
      "image/png": "[encoded data removed]",
      "text/plain": [
       "<Figure size 1440x360 with 2 Axes>"
      ]
     },
     "metadata": {
      "needs_background": "light"
     },
     "output_type": "display_data"
    }
   ],
   "source": [
    "msno.matrix(df=train_df.iloc[:,:],figsize=(20,5),color=Greys_palette[8])"
   ]
  },
  {
   "cell_type": "markdown",
   "id": "fossil-departure",
   "metadata": {
    "papermill": {
     "duration": 0.092478,
     "end_time": "2021-06-21T13:10:17.087254",
     "exception": false,
     "start_time": "2021-06-21T13:10:16.994776",
     "status": "completed"
    },
    "tags": []
   },
   "source": [
    "### 3-2) Plot the label Percent"
   ]
  },
  {
   "cell_type": "code",
   "execution_count": 11,
   "id": "terminal-working",
   "metadata": {
    "execution": {
     "iopub.execute_input": "2021-06-21T13:10:17.280454Z",
     "iopub.status.busy": "2021-06-21T13:10:17.279402Z",
     "iopub.status.idle": "2021-06-21T13:10:17.467470Z",
     "shell.execute_reply": "2021-06-21T13:10:17.466892Z",
     "shell.execute_reply.started": "2021-06-21T13:07:24.600390Z"
    },
    "papermill": {
     "duration": 0.281176,
     "end_time": "2021-06-21T13:10:17.467617",
     "exception": false,
     "start_time": "2021-06-21T13:10:17.186441",
     "status": "completed"
    },
    "tags": []
   },
   "outputs": [
    {
     "data": {
      "text/plain": [
       "Text(0.1, 0.92, 'distribution by Label in Mnist')"
      ]
     },
     "execution_count": 11,
     "metadata": {},
     "output_type": "execute_result"
    },
    {
     "data": {
      "image/png": "[encoded data removed]",
      "text/plain": [
       "<Figure size 720x504 with 1 Axes>"
      ]
     },
     "metadata": {
      "needs_background": "light"
     },
     "output_type": "display_data"
    }
   ],
   "source": [
    "fig, ax = plt.subplots(1,1, figsize=(10,7))\n",
    "sns.countplot(x='label', data=train_df, palette=Greys_palette[::-1], ax=ax)\n",
    "ax.patch.set_alpha(0)\n",
    "\n",
    "fig.text(0.1,0.92,\"distribution by Label in Mnist\", fontweight=\"bold\", fontfamily='serif', fontsize=17)"
   ]
  },
  {
   "cell_type": "markdown",
   "id": "focused-peace",
   "metadata": {
    "papermill": {
     "duration": 0.056864,
     "end_time": "2021-06-21T13:10:17.583380",
     "exception": false,
     "start_time": "2021-06-21T13:10:17.526516",
     "status": "completed"
    },
    "tags": []
   },
   "source": [
    "### 3-3) * Plot the image Data"
   ]
  },
  {
   "cell_type": "code",
   "execution_count": 12,
   "id": "lovely-birmingham",
   "metadata": {
    "execution": {
     "iopub.execute_input": "2021-06-21T13:10:17.707315Z",
     "iopub.status.busy": "2021-06-21T13:10:17.706279Z",
     "iopub.status.idle": "2021-06-21T13:10:17.710098Z",
     "shell.execute_reply": "2021-06-21T13:10:17.709466Z",
     "shell.execute_reply.started": "2021-06-21T13:07:24.812656Z"
    },
    "papermill": {
     "duration": 0.068874,
     "end_time": "2021-06-21T13:10:17.710235",
     "exception": false,
     "start_time": "2021-06-21T13:10:17.641361",
     "status": "completed"
    },
    "tags": []
   },
   "outputs": [],
   "source": [
    "x = train_df.iloc[:,1:].values\n",
    "y = train_df.iloc[:,0].values"
   ]
  },
  {
   "cell_type": "code",
   "execution_count": 13,
   "id": "restricted-suite",
   "metadata": {
    "execution": {
     "iopub.execute_input": "2021-06-21T13:10:17.832642Z",
     "iopub.status.busy": "2021-06-21T13:10:17.831800Z",
     "iopub.status.idle": "2021-06-21T13:10:17.837199Z",
     "shell.execute_reply": "2021-06-21T13:10:17.836654Z",
     "shell.execute_reply.started": "2021-06-21T13:07:24.821861Z"
    },
    "papermill": {
     "duration": 0.068951,
     "end_time": "2021-06-21T13:10:17.837343",
     "exception": false,
     "start_time": "2021-06-21T13:10:17.768392",
     "status": "completed"
    },
    "tags": []
   },
   "outputs": [
    {
     "name": "stdout",
     "output_type": "stream",
     "text": [
      "X shape : (42000, 784)\n",
      "Y shape : (42000,)\n"
     ]
    }
   ],
   "source": [
    "print(\"X shape : {}\".format(x.shape))\n",
    "print(\"Y shape : {}\".format(y.shape))"
   ]
  },
  {
   "cell_type": "code",
   "execution_count": 14,
   "id": "accepted-expansion",
   "metadata": {
    "execution": {
     "iopub.execute_input": "2021-06-21T13:10:18.007134Z",
     "iopub.status.busy": "2021-06-21T13:10:17.985655Z",
     "iopub.status.idle": "2021-06-21T13:10:19.481461Z",
     "shell.execute_reply": "2021-06-21T13:10:19.480901Z",
     "shell.execute_reply.started": "2021-06-21T13:07:24.835996Z"
    },
    "papermill": {
     "duration": 1.584563,
     "end_time": "2021-06-21T13:10:19.481627",
     "exception": false,
     "start_time": "2021-06-21T13:10:17.897064",
     "status": "completed"
    },
    "tags": []
   },
   "outputs": [
    {
     "data": {
      "image/png": "[encoded data removed]",
      "text/plain": [
       "<Figure size 1080x1080 with 25 Axes>"
      ]
     },
     "metadata": {
      "needs_background": "light"
     },
     "output_type": "display_data"
    }
   ],
   "source": [
    "fig , axes = plt.subplots(5, 5, figsize=(15,15))\n",
    "\n",
    "x_idx = 0\n",
    "y_idx = 0\n",
    "\n",
    "for i in range(5*5):\n",
    "    if x_idx == 5:\n",
    "        x_idx = 0\n",
    "        y_idx += 1\n",
    "        \n",
    "    axes[y_idx][x_idx].imshow(x[i].reshape(28,28), 'gray')\n",
    "    axes[y_idx][x_idx].axis(\"off\")\n",
    "    axes[y_idx][x_idx].set_title(\"Target : \" + str(y[i]))\n",
    "    x_idx += 1\n",
    "\n",
    "plt.show()"
   ]
  },
  {
   "cell_type": "markdown",
   "id": "reported-knock",
   "metadata": {
    "papermill": {
     "duration": 0.059071,
     "end_time": "2021-06-21T13:10:19.600403",
     "exception": false,
     "start_time": "2021-06-21T13:10:19.541332",
     "status": "completed"
    },
    "tags": []
   },
   "source": [
    "# 4. Feature Enginnering\n",
    "* Split Train set / Validation set\n",
    "* Convert to data suitable for CNN model (Dataset / Dataloader)"
   ]
  },
  {
   "cell_type": "markdown",
   "id": "endless-scholar",
   "metadata": {
    "papermill": {
     "duration": 0.05849,
     "end_time": "2021-06-21T13:10:19.718619",
     "exception": false,
     "start_time": "2021-06-21T13:10:19.660129",
     "status": "completed"
    },
    "tags": []
   },
   "source": [
    "### 4-1) Split Train set / Validation set"
   ]
  },
  {
   "cell_type": "code",
   "execution_count": 15,
   "id": "native-legislature",
   "metadata": {
    "execution": {
     "iopub.execute_input": "2021-06-21T13:10:19.842569Z",
     "iopub.status.busy": "2021-06-21T13:10:19.840182Z",
     "iopub.status.idle": "2021-06-21T13:10:20.275208Z",
     "shell.execute_reply": "2021-06-21T13:10:20.274534Z",
     "shell.execute_reply.started": "2021-06-21T13:07:26.189835Z"
    },
    "papermill": {
     "duration": 0.499072,
     "end_time": "2021-06-21T13:10:20.275372",
     "exception": false,
     "start_time": "2021-06-21T13:10:19.776300",
     "status": "completed"
    },
    "tags": []
   },
   "outputs": [],
   "source": [
    "x_train, x_val, y_train, y_val = train_test_split(x, y, test_size=0.15)"
   ]
  },
  {
   "cell_type": "code",
   "execution_count": 16,
   "id": "invisible-expense",
   "metadata": {
    "execution": {
     "iopub.execute_input": "2021-06-21T13:10:20.399695Z",
     "iopub.status.busy": "2021-06-21T13:10:20.398733Z",
     "iopub.status.idle": "2021-06-21T13:10:20.403602Z",
     "shell.execute_reply": "2021-06-21T13:10:20.404514Z",
     "shell.execute_reply.started": "2021-06-21T13:07:26.620280Z"
    },
    "papermill": {
     "duration": 0.07063,
     "end_time": "2021-06-21T13:10:20.404789",
     "exception": false,
     "start_time": "2021-06-21T13:10:20.334159",
     "status": "completed"
    },
    "tags": []
   },
   "outputs": [
    {
     "name": "stdout",
     "output_type": "stream",
     "text": [
      "x_train shape : (35700, 784)\n",
      "y_train shape : (35700,)\n",
      "x_val shape : (6300, 784)\n",
      "y_val shape : (6300,)\n"
     ]
    }
   ],
   "source": [
    "print(\"x_train shape : {}\".format(x_train.shape))\n",
    "print(\"y_train shape : {}\".format(y_train.shape))\n",
    "print(\"x_val shape : {}\".format(x_val.shape))\n",
    "print(\"y_val shape : {}\".format(y_val.shape))"
   ]
  },
  {
   "cell_type": "markdown",
   "id": "mechanical-associate",
   "metadata": {
    "papermill": {
     "duration": 0.059798,
     "end_time": "2021-06-21T13:10:20.526407",
     "exception": false,
     "start_time": "2021-06-21T13:10:20.466609",
     "status": "completed"
    },
    "tags": []
   },
   "source": [
    "### 4-2) Convert to data suitable for CNN model (Dataset / Dataloader)"
   ]
  },
  {
   "cell_type": "code",
   "execution_count": 17,
   "id": "necessary-aviation",
   "metadata": {
    "execution": {
     "iopub.execute_input": "2021-06-21T13:10:20.655759Z",
     "iopub.status.busy": "2021-06-21T13:10:20.654585Z",
     "iopub.status.idle": "2021-06-21T13:10:20.657563Z",
     "shell.execute_reply": "2021-06-21T13:10:20.658109Z",
     "shell.execute_reply.started": "2021-06-21T13:07:26.631039Z"
    },
    "papermill": {
     "duration": 0.072683,
     "end_time": "2021-06-21T13:10:20.658256",
     "exception": false,
     "start_time": "2021-06-21T13:10:20.585573",
     "status": "completed"
    },
    "tags": []
   },
   "outputs": [],
   "source": [
    "class BasicDataset(torch.utils.data.Dataset):\n",
    "    def __init__(self,x_data, y_data, is_labeled=False):\n",
    "        self.x = self.get_float_type(x_data)\n",
    "        self.is_labeled = is_labeled\n",
    "        \n",
    "        if self.is_labeled:\n",
    "            self.y = self.get_long_type(y_data)\n",
    "        else:\n",
    "            self.y = None\n",
    "        \n",
    "        \n",
    "    def __len__(self):\n",
    "        return len(self.x)\n",
    "    \n",
    "    \n",
    "    def __getitem__(self, index):\n",
    "        global data\n",
    "        data = {}\n",
    "        \n",
    "        x_row = self.x[index]\n",
    "        data['data'] = x_row\n",
    "    \n",
    "        if self.is_labeled == True: \n",
    "            y_row = self.y[index]\n",
    "            data['target'] = y_row\n",
    "        return data\n",
    "    \n",
    "        \n",
    "    def get_float_type(self, data):\n",
    "        data = data.astype('float32')\n",
    "        data /= 255\n",
    "        data = data.reshape(-1, 1, 28, 28)\n",
    "        return data\n",
    "    \n",
    "    \n",
    "    def get_long_type(self, target):\n",
    "        target = target.astype(torch.LongTensor)\n",
    "        return target"
   ]
  },
  {
   "cell_type": "code",
   "execution_count": 18,
   "id": "breathing-court",
   "metadata": {
    "execution": {
     "iopub.execute_input": "2021-06-21T13:10:20.781106Z",
     "iopub.status.busy": "2021-06-21T13:10:20.779784Z",
     "iopub.status.idle": "2021-06-21T13:10:20.870355Z",
     "shell.execute_reply": "2021-06-21T13:10:20.869800Z",
     "shell.execute_reply.started": "2021-06-21T13:07:26.647083Z"
    },
    "papermill": {
     "duration": 0.154327,
     "end_time": "2021-06-21T13:10:20.870506",
     "exception": false,
     "start_time": "2021-06-21T13:10:20.716179",
     "status": "completed"
    },
    "tags": []
   },
   "outputs": [],
   "source": [
    "train_dataset = BasicDataset(x_train, y_train, is_labeled=True)\n",
    "val_dataset = BasicDataset(x_val, y_val, is_labeled=True)"
   ]
  },
  {
   "cell_type": "code",
   "execution_count": 19,
   "id": "preliminary-ceiling",
   "metadata": {
    "execution": {
     "iopub.execute_input": "2021-06-21T13:10:21.004591Z",
     "iopub.status.busy": "2021-06-21T13:10:21.003652Z",
     "iopub.status.idle": "2021-06-21T13:10:21.009831Z",
     "shell.execute_reply": "2021-06-21T13:10:21.010600Z",
     "shell.execute_reply.started": "2021-06-21T13:07:26.738315Z"
    },
    "papermill": {
     "duration": 0.080986,
     "end_time": "2021-06-21T13:10:21.010840",
     "exception": false,
     "start_time": "2021-06-21T13:10:20.929854",
     "status": "completed"
    },
    "tags": []
   },
   "outputs": [
    {
     "name": "stdout",
     "output_type": "stream",
     "text": [
      "Data of train dataset : [[[0.         0.         0.         0.         0.         0.\n",
      "   0.         0.         0.         0.         0.         0.\n",
      "   0.         0.         0.         0.         0.         0.\n",
      "   0.         0.         0.         0.         0.         0.\n",
      "   0.         0.         0.         0.        ]\n",
      "  [0.         0.         0.         0.         0.         0.\n",
      "   0.         0.         0.         0.         0.         0.\n",
      "   0.         0.         0.         0.         0.         0.\n",
      "   0.         0.         0.         0.         0.         0.\n",
      "   0.         0.         0.         0.        ]\n",
      "  [0.         0.         0.         0.         0.         0.\n",
      "   0.         0.         0.         0.         0.         0.\n",
      "   0.         0.         0.         0.         0.         0.\n",
      "   0.         0.         0.         0.         0.         0.\n",
      "   0.         0.         0.         0.        ]\n",
      "  [0.         0.         0.         0.         0.         0.\n",
      "   0.         0.         0.         0.         0.         0.\n",
      "   0.         0.         0.         0.         0.         0.\n",
      "   0.         0.         0.         0.         0.         0.\n",
      "   0.         0.         0.         0.        ]\n",
      "  [0.         0.         0.         0.         0.         0.\n",
      "   0.         0.         0.         0.         0.         0.\n",
      "   0.         0.         0.         0.         0.         0.\n",
      "   0.         0.         0.         0.         0.         0.\n",
      "   0.         0.         0.         0.        ]\n",
      "  [0.         0.         0.         0.         0.         0.\n",
      "   0.         0.         0.         0.         0.2        0.44313726\n",
      "   0.44313726 0.44313726 0.7490196  1.         0.99215686 0.99215686\n",
      "   0.92941177 0.44313726 0.         0.39607844 0.09803922 0.\n",
      "   0.         0.         0.         0.        ]\n",
      "  [0.         0.         0.         0.         0.         0.\n",
      "   0.         0.         0.         0.1882353  0.93333334 0.9882353\n",
      "   0.9882353  0.9882353  0.9882353  0.99215686 0.9882353  0.9882353\n",
      "   0.9882353  0.9882353  0.8862745  0.9764706  0.90588236 0.29411766\n",
      "   0.         0.         0.         0.        ]\n",
      "  [0.         0.         0.         0.         0.         0.\n",
      "   0.         0.         0.5176471  0.8901961  0.99215686 0.9882353\n",
      "   0.9882353  0.9882353  0.9882353  0.99215686 0.9882353  0.9882353\n",
      "   0.9882353  0.9882353  0.99215686 0.9882353  0.9882353  0.32941177\n",
      "   0.         0.         0.         0.        ]\n",
      "  [0.         0.         0.         0.         0.         0.\n",
      "   0.         0.         0.6627451  0.9882353  0.99215686 0.9882353\n",
      "   0.9019608  0.8745098  0.8745098  0.88235295 0.8745098  0.9019608\n",
      "   0.9882353  0.9882353  0.99215686 0.9882353  0.9882353  0.3882353\n",
      "   0.         0.         0.         0.        ]\n",
      "  [0.         0.         0.         0.         0.         0.\n",
      "   0.         0.1254902  0.84313726 0.9882353  0.99215686 0.8\n",
      "   0.09803922 0.         0.         0.         0.         0.09803922\n",
      "   0.5019608  0.9882353  0.99215686 0.9882353  0.9882353  0.8745098\n",
      "   0.         0.         0.         0.        ]\n",
      "  [0.         0.         0.         0.         0.         0.\n",
      "   0.         0.         0.6666667  0.99215686 1.         0.3529412\n",
      "   0.         0.         0.         0.         0.         0.\n",
      "   0.11372549 0.99215686 1.         0.99215686 0.99215686 0.88235295\n",
      "   0.         0.         0.         0.        ]\n",
      "  [0.         0.         0.         0.         0.         0.\n",
      "   0.         0.         0.6627451  0.9882353  0.99215686 0.7647059\n",
      "   0.07450981 0.         0.         0.3372549  0.33333334 0.33333334\n",
      "   0.70980394 0.9882353  0.99215686 0.9882353  0.9137255  0.2784314\n",
      "   0.         0.         0.         0.        ]\n",
      "  [0.         0.         0.         0.         0.         0.\n",
      "   0.         0.         0.6627451  0.9882353  0.99215686 0.9882353\n",
      "   0.81960785 0.77254903 0.77254903 0.99215686 0.9882353  0.9882353\n",
      "   0.9882353  0.9882353  0.99215686 0.7294118  0.16862746 0.\n",
      "   0.         0.         0.         0.        ]\n",
      "  [0.         0.         0.         0.         0.         0.\n",
      "   0.         0.         0.28235295 0.9372549  0.99215686 0.9882353\n",
      "   0.9882353  0.9882353  0.9882353  0.99215686 0.9882353  0.9882353\n",
      "   0.9764706  0.9372549  0.63529414 0.21960784 0.         0.\n",
      "   0.         0.         0.         0.        ]\n",
      "  [0.         0.         0.         0.         0.         0.\n",
      "   0.         0.         0.         0.24705882 0.99215686 0.9882353\n",
      "   0.9882353  0.9882353  0.9882353  0.99215686 0.9882353  0.9882353\n",
      "   0.5686275  0.24705882 0.         0.         0.         0.\n",
      "   0.         0.         0.         0.        ]\n",
      "  [0.         0.         0.         0.         0.         0.\n",
      "   0.         0.         0.05098039 0.44313726 1.         0.99215686\n",
      "   0.99215686 0.99215686 0.99215686 1.         0.84313726 0.12156863\n",
      "   0.         0.         0.         0.         0.         0.\n",
      "   0.         0.         0.         0.        ]\n",
      "  [0.         0.         0.         0.         0.         0.\n",
      "   0.11372549 0.33333334 0.70980394 0.9882353  0.99215686 0.9882353\n",
      "   0.9882353  0.9882353  0.9882353  0.99215686 0.654902   0.\n",
      "   0.         0.         0.         0.         0.         0.\n",
      "   0.         0.         0.         0.        ]\n",
      "  [0.         0.         0.         0.         0.         0.\n",
      "   0.33333334 0.9882353  0.9882353  0.9882353  0.21960784 0.21568628\n",
      "   0.21568628 0.73333335 0.9882353  0.99215686 0.654902   0.\n",
      "   0.         0.         0.         0.         0.         0.\n",
      "   0.         0.         0.         0.        ]\n",
      "  [0.         0.         0.         0.         0.         0.\n",
      "   0.33333334 0.9882353  0.9882353  0.9254902  0.         0.\n",
      "   0.         0.6627451  0.9882353  0.99215686 0.69411767 0.02745098\n",
      "   0.         0.         0.         0.         0.         0.\n",
      "   0.         0.         0.         0.        ]\n",
      "  [0.         0.         0.         0.         0.         0.\n",
      "   0.6392157  0.9882353  0.9254902  0.19607843 0.         0.\n",
      "   0.         0.35686275 0.9882353  0.99215686 0.9882353  0.21568628\n",
      "   0.         0.         0.         0.         0.         0.\n",
      "   0.         0.         0.         0.        ]\n",
      "  [0.         0.         0.         0.         0.         0.\n",
      "   0.8862745  0.99215686 0.63529414 0.         0.         0.\n",
      "   0.         0.         0.5529412  1.         0.99215686 0.46666667\n",
      "   0.         0.         0.         0.         0.         0.\n",
      "   0.         0.         0.         0.        ]\n",
      "  [0.         0.         0.         0.         0.         0.\n",
      "   0.88235295 0.9882353  0.54509807 0.14901961 0.         0.\n",
      "   0.         0.22352941 0.69803923 0.99215686 0.9882353  0.7647059\n",
      "   0.         0.         0.         0.         0.         0.\n",
      "   0.         0.         0.         0.        ]\n",
      "  [0.         0.         0.         0.         0.         0.\n",
      "   0.75686276 0.9882353  0.9882353  0.8666667  0.7764706  0.5882353\n",
      "   0.6509804  0.91764706 0.9882353  0.99215686 0.9882353  0.6431373\n",
      "   0.         0.         0.         0.         0.         0.\n",
      "   0.         0.         0.         0.        ]\n",
      "  [0.         0.         0.         0.         0.         0.\n",
      "   0.29803923 0.9647059  0.9882353  0.9882353  0.99215686 0.9882353\n",
      "   0.9882353  0.9882353  0.9882353  0.99215686 0.7019608  0.07450981\n",
      "   0.         0.         0.         0.         0.         0.\n",
      "   0.         0.         0.         0.        ]\n",
      "  [0.         0.         0.         0.         0.         0.\n",
      "   0.         0.34509805 0.8039216  0.9882353  0.99215686 0.9882353\n",
      "   0.9882353  0.9882353  0.9882353  0.74509805 0.04705882 0.\n",
      "   0.         0.         0.         0.         0.         0.\n",
      "   0.         0.         0.         0.        ]\n",
      "  [0.         0.         0.         0.         0.         0.\n",
      "   0.         0.         0.         0.         0.         0.\n",
      "   0.         0.         0.         0.         0.         0.\n",
      "   0.         0.         0.         0.         0.         0.\n",
      "   0.         0.         0.         0.        ]\n",
      "  [0.         0.         0.         0.         0.         0.\n",
      "   0.         0.         0.         0.         0.         0.\n",
      "   0.         0.         0.         0.         0.         0.\n",
      "   0.         0.         0.         0.         0.         0.\n",
      "   0.         0.         0.         0.        ]\n",
      "  [0.         0.         0.         0.         0.         0.\n",
      "   0.         0.         0.         0.         0.         0.\n",
      "   0.         0.         0.         0.         0.         0.\n",
      "   0.         0.         0.         0.         0.         0.\n",
      "   0.         0.         0.         0.        ]]]\n",
      "\n",
      "\n",
      "\n",
      "\n",
      "Target of train dataset : 8\n"
     ]
    }
   ],
   "source": [
    "print(\"Data of train dataset : {}\\n\\n\\n\\n\".format(train_dataset[0]['data']))\n",
    "print(\"Target of train dataset : {}\".format(train_dataset[0]['target']))"
   ]
  },
  {
   "cell_type": "code",
   "execution_count": 20,
   "id": "necessary-fighter",
   "metadata": {
    "execution": {
     "iopub.execute_input": "2021-06-21T13:10:21.136269Z",
     "iopub.status.busy": "2021-06-21T13:10:21.135289Z",
     "iopub.status.idle": "2021-06-21T13:10:21.139172Z",
     "shell.execute_reply": "2021-06-21T13:10:21.138428Z",
     "shell.execute_reply.started": "2021-06-21T13:07:26.762096Z"
    },
    "papermill": {
     "duration": 0.066281,
     "end_time": "2021-06-21T13:10:21.139345",
     "exception": false,
     "start_time": "2021-06-21T13:10:21.073064",
     "status": "completed"
    },
    "tags": []
   },
   "outputs": [],
   "source": [
    "BATCH_SIZE = 256"
   ]
  },
  {
   "cell_type": "code",
   "execution_count": 21,
   "id": "ceramic-norwegian",
   "metadata": {
    "execution": {
     "iopub.execute_input": "2021-06-21T13:10:21.268994Z",
     "iopub.status.busy": "2021-06-21T13:10:21.268018Z",
     "iopub.status.idle": "2021-06-21T13:10:21.271206Z",
     "shell.execute_reply": "2021-06-21T13:10:21.271720Z",
     "shell.execute_reply.started": "2021-06-21T13:07:26.770864Z"
    },
    "papermill": {
     "duration": 0.069802,
     "end_time": "2021-06-21T13:10:21.271901",
     "exception": false,
     "start_time": "2021-06-21T13:10:21.202099",
     "status": "completed"
    },
    "tags": []
   },
   "outputs": [],
   "source": [
    "train_loader = DataLoader(train_dataset, batch_size=BATCH_SIZE, shuffle = True)\n",
    "val_loader = DataLoader(val_dataset, batch_size=BATCH_SIZE, shuffle = False)"
   ]
  },
  {
   "cell_type": "code",
   "execution_count": 22,
   "id": "athletic-charge",
   "metadata": {
    "execution": {
     "iopub.execute_input": "2021-06-21T13:10:21.397208Z",
     "iopub.status.busy": "2021-06-21T13:10:21.396153Z",
     "iopub.status.idle": "2021-06-21T13:10:21.399140Z",
     "shell.execute_reply": "2021-06-21T13:10:21.399652Z",
     "shell.execute_reply.started": "2021-06-21T13:07:26.781459Z"
    },
    "papermill": {
     "duration": 0.067814,
     "end_time": "2021-06-21T13:10:21.399812",
     "exception": false,
     "start_time": "2021-06-21T13:10:21.331998",
     "status": "completed"
    },
    "tags": []
   },
   "outputs": [],
   "source": [
    "dataloaders_dict = {\"train\": train_loader, \"val\": val_loader}"
   ]
  },
  {
   "cell_type": "markdown",
   "id": "above-contract",
   "metadata": {
    "papermill": {
     "duration": 0.061775,
     "end_time": "2021-06-21T13:10:21.521582",
     "exception": false,
     "start_time": "2021-06-21T13:10:21.459807",
     "status": "completed"
    },
    "tags": []
   },
   "source": [
    "# 5.Modeling\n",
    "* CNN Modeling\n",
    "* Training\n",
    "* Evaluating"
   ]
  },
  {
   "cell_type": "markdown",
   "id": "consolidated-element",
   "metadata": {
    "papermill": {
     "duration": 0.059328,
     "end_time": "2021-06-21T13:10:21.640603",
     "exception": false,
     "start_time": "2021-06-21T13:10:21.581275",
     "status": "completed"
    },
    "tags": []
   },
   "source": [
    "### 5-1) CNN Modeling"
   ]
  },
  {
   "cell_type": "code",
   "execution_count": 23,
   "id": "level-manchester",
   "metadata": {
    "execution": {
     "iopub.execute_input": "2021-06-21T13:10:21.767309Z",
     "iopub.status.busy": "2021-06-21T13:10:21.766167Z",
     "iopub.status.idle": "2021-06-21T13:10:21.769333Z",
     "shell.execute_reply": "2021-06-21T13:10:21.769909Z",
     "shell.execute_reply.started": "2021-06-21T13:07:26.801099Z"
    },
    "papermill": {
     "duration": 0.068972,
     "end_time": "2021-06-21T13:10:21.770077",
     "exception": false,
     "start_time": "2021-06-21T13:10:21.701105",
     "status": "completed"
    },
    "tags": []
   },
   "outputs": [],
   "source": [
    "INPUT_DIM = 1\n",
    "HIDDEN_DIM_1 = 32\n",
    "HIDDEN_DIM_2 = 64\n",
    "OUTPUT = 10"
   ]
  },
  {
   "cell_type": "code",
   "execution_count": 24,
   "id": "eleven-tuesday",
   "metadata": {
    "execution": {
     "iopub.execute_input": "2021-06-21T13:10:21.895893Z",
     "iopub.status.busy": "2021-06-21T13:10:21.894782Z",
     "iopub.status.idle": "2021-06-21T13:10:21.898504Z",
     "shell.execute_reply": "2021-06-21T13:10:21.897996Z",
     "shell.execute_reply.started": "2021-06-21T13:07:26.812270Z"
    },
    "papermill": {
     "duration": 0.070883,
     "end_time": "2021-06-21T13:10:21.898656",
     "exception": false,
     "start_time": "2021-06-21T13:10:21.827773",
     "status": "completed"
    },
    "tags": []
   },
   "outputs": [],
   "source": [
    "class BasicCNN(nn.Module):\n",
    "    def __init__(self, input_dim, hidden_dim_1, hidden_dim_2, output):\n",
    "        super(BasicCNN, self).__init__()\n",
    "        \n",
    "        self.convolution_layer = nn.Sequential(OrderedDict([\n",
    "            ('conv1', nn.Conv2d(input_dim, hidden_dim_1, 3, 1, 0)),\n",
    "            ('relu1', nn.ReLU()),\n",
    "            ('pool1', nn.MaxPool2d(2,2)),\n",
    "            ('conv2', nn.Conv2d(hidden_dim_1, hidden_dim_2, 3, 1, 0)),\n",
    "            ('relu2', nn.ReLU()),\n",
    "            ('pool2', nn.MaxPool2d(2,2))    \n",
    "        ]))\n",
    "        self.fc_layer = nn.Sequential(OrderedDict([\n",
    "            ('Dense1', nn.Linear(1600, output)),\n",
    "            ('softmax', nn.Softmax())\n",
    "        ]))\n",
    "    \n",
    "    def forward(self,x):\n",
    "        out = self.convolution_layer(x)\n",
    "        out = out.view(out.size(0),-1)\n",
    "        out = self.fc_layer(out)\n",
    "        return out"
   ]
  },
  {
   "cell_type": "code",
   "execution_count": 25,
   "id": "premier-method",
   "metadata": {
    "execution": {
     "iopub.execute_input": "2021-06-21T13:10:22.021973Z",
     "iopub.status.busy": "2021-06-21T13:10:22.021157Z",
     "iopub.status.idle": "2021-06-21T13:10:22.061439Z",
     "shell.execute_reply": "2021-06-21T13:10:22.061998Z",
     "shell.execute_reply.started": "2021-06-21T13:07:26.825280Z"
    },
    "papermill": {
     "duration": 0.104501,
     "end_time": "2021-06-21T13:10:22.062152",
     "exception": false,
     "start_time": "2021-06-21T13:10:21.957651",
     "status": "completed"
    },
    "tags": []
   },
   "outputs": [],
   "source": [
    "cnn_model = BasicCNN(INPUT_DIM, HIDDEN_DIM_1, HIDDEN_DIM_2, OUTPUT)"
   ]
  },
  {
   "cell_type": "code",
   "execution_count": 26,
   "id": "indoor-welcome",
   "metadata": {
    "execution": {
     "iopub.execute_input": "2021-06-21T13:10:22.184094Z",
     "iopub.status.busy": "2021-06-21T13:10:22.183250Z",
     "iopub.status.idle": "2021-06-21T13:10:22.188457Z",
     "shell.execute_reply": "2021-06-21T13:10:22.187912Z",
     "shell.execute_reply.started": "2021-06-21T13:07:26.840217Z"
    },
    "papermill": {
     "duration": 0.067222,
     "end_time": "2021-06-21T13:10:22.188619",
     "exception": false,
     "start_time": "2021-06-21T13:10:22.121397",
     "status": "completed"
    },
    "tags": []
   },
   "outputs": [
    {
     "name": "stdout",
     "output_type": "stream",
     "text": [
      "BasicCNN(\n",
      "  (convolution_layer): Sequential(\n",
      "    (conv1): Conv2d(1, 32, kernel_size=(3, 3), stride=(1, 1))\n",
      "    (relu1): ReLU()\n",
      "    (pool1): MaxPool2d(kernel_size=2, stride=2, padding=0, dilation=1, ceil_mode=False)\n",
      "    (conv2): Conv2d(32, 64, kernel_size=(3, 3), stride=(1, 1))\n",
      "    (relu2): ReLU()\n",
      "    (pool2): MaxPool2d(kernel_size=2, stride=2, padding=0, dilation=1, ceil_mode=False)\n",
      "  )\n",
      "  (fc_layer): Sequential(\n",
      "    (Dense1): Linear(in_features=1600, out_features=10, bias=True)\n",
      "    (softmax): Softmax(dim=None)\n",
      "  )\n",
      ")\n"
     ]
    }
   ],
   "source": [
    "print(cnn_model)"
   ]
  },
  {
   "cell_type": "code",
   "execution_count": 27,
   "id": "intellectual-habitat",
   "metadata": {
    "execution": {
     "iopub.execute_input": "2021-06-21T13:10:22.310287Z",
     "iopub.status.busy": "2021-06-21T13:10:22.309190Z",
     "iopub.status.idle": "2021-06-21T13:10:22.313912Z",
     "shell.execute_reply": "2021-06-21T13:10:22.313264Z",
     "shell.execute_reply.started": "2021-06-21T13:07:26.850139Z"
    },
    "papermill": {
     "duration": 0.06732,
     "end_time": "2021-06-21T13:10:22.314068",
     "exception": false,
     "start_time": "2021-06-21T13:10:22.246748",
     "status": "completed"
    },
    "tags": []
   },
   "outputs": [
    {
     "data": {
      "text/plain": [
       "(1, 28, 28)"
      ]
     },
     "execution_count": 27,
     "metadata": {},
     "output_type": "execute_result"
    }
   ],
   "source": [
    "train_dataset[0]['data'].shape"
   ]
  },
  {
   "cell_type": "code",
   "execution_count": 28,
   "id": "municipal-industry",
   "metadata": {
    "execution": {
     "iopub.execute_input": "2021-06-21T13:10:22.444822Z",
     "iopub.status.busy": "2021-06-21T13:10:22.443780Z",
     "iopub.status.idle": "2021-06-21T13:10:22.446845Z",
     "shell.execute_reply": "2021-06-21T13:10:22.446347Z",
     "shell.execute_reply.started": "2021-06-21T13:09:01.689641Z"
    },
    "papermill": {
     "duration": 0.075842,
     "end_time": "2021-06-21T13:10:22.447022",
     "exception": false,
     "start_time": "2021-06-21T13:10:22.371180",
     "status": "completed"
    },
    "tags": []
   },
   "outputs": [],
   "source": [
    "class ResidualBlock(nn.Module):\n",
    "    def __init__(self, data_dim, layer_name, is_last_layer=False):\n",
    "        super(ResidualBlock, self).__init__()\n",
    "        self.is_last_layer = is_last_layer\n",
    "        \n",
    "        self.resblock_1 = nn.Sequential(OrderedDict([\n",
    "            ('{}_conv1'.format(layer_name), nn.Conv2d(data_dim, data_dim, kernel_size=3, stride=1, padding=1, bias=False)),\n",
    "            ('{}_batchnorm1'.format(layer_name), nn.BatchNorm2d(data_dim)),\n",
    "            ('{}_relu1'.format(layer_name), nn.ReLU()),\n",
    "            \n",
    "            ('{}_conv2'.format(layer_name), nn.Conv2d(data_dim, data_dim, kernel_size=3, stride=1, padding=1, bias=False)),\n",
    "            ('{}_batchnorm2'.format(layer_name), nn.BatchNorm2d(data_dim)),\n",
    "            ('{}_relu2'.format(layer_name), nn.ReLU())\n",
    "        ]))\n",
    "        self.resblock_2 = nn.Sequential(OrderedDict([\n",
    "            ('{}_conv1'.format(layer_name), nn.Conv2d(data_dim, data_dim, kernel_size=3, stride=1, padding=1, bias=False)),\n",
    "            ('{}_batchnorm1'.format(layer_name), nn.BatchNorm2d(data_dim)),\n",
    "            ('{}_relu1'.format(layer_name), nn.ReLU()),\n",
    "            \n",
    "            ('{}_conv2'.format(layer_name), nn.Conv2d(data_dim, data_dim, kernel_size=3, stride=1, padding=0, bias=False)),\n",
    "            ('{}_batchnorm2'.format(layer_name), nn.BatchNorm2d(data_dim)),\n",
    "            ('{}_relu2'.format(layer_name), nn.ReLU())\n",
    "        ]))\n",
    "        \n",
    "        # Adjustment layer because height and width values are different\n",
    "        self.set_shortcut = nn.Conv2d(data_dim, data_dim, kernel_size=3, stride=1, padding=0, bias=False)\n",
    "        \n",
    "        \n",
    "    def forward(self, x):\n",
    "        shortcut = x\n",
    "        out = self.resblock_1(x)\n",
    "        out = out + shortcut\n",
    "        \n",
    "        shortcut = self.set_shortcut(out)\n",
    "        out = self.resblock_2(out)\n",
    "        out = out + shortcut\n",
    "\n",
    "        return out"
   ]
  },
  {
   "cell_type": "code",
   "execution_count": 29,
   "id": "improving-complexity",
   "metadata": {
    "execution": {
     "iopub.execute_input": "2021-06-21T13:10:22.599109Z",
     "iopub.status.busy": "2021-06-21T13:10:22.598093Z",
     "iopub.status.idle": "2021-06-21T13:10:22.601822Z",
     "shell.execute_reply": "2021-06-21T13:10:22.601307Z",
     "shell.execute_reply.started": "2021-06-21T13:09:02.224761Z"
    },
    "papermill": {
     "duration": 0.096635,
     "end_time": "2021-06-21T13:10:22.601975",
     "exception": false,
     "start_time": "2021-06-21T13:10:22.505340",
     "status": "completed"
    },
    "tags": []
   },
   "outputs": [],
   "source": [
    "class ResNet_mini(nn.Module):\n",
    "    def __init__(self, input_dim, output):\n",
    "        super(ResNet_mini, self).__init__()\n",
    "        self.FirstBlock = nn.Sequential(OrderedDict([\n",
    "            ('FirstBlock_conv1', nn.Conv2d(input_dim, 64, kernel_size=4, stride=2, padding=4, bias=False)),\n",
    "            ('FirstBlock_batchnorm1', nn.BatchNorm2d(64)),\n",
    "            ('FirstBlock_relu1', nn.ReLU()),\n",
    "            ('FirstBlock_maxpool2d1', nn.MaxPool2d(kernel_size=2, stride=2, padding=1)),\n",
    "        ]))\n",
    "        self.SecondBlock = ResidualBlock(64,'SecondBlock')\n",
    "        self.ChangeChannel_1 = nn.Conv2d(64, 128, kernel_size=1, stride=1, padding=0)\n",
    "        \n",
    "        self.ThridBlock = ResidualBlock(128,'ThridBlock')\n",
    "        self.ChangeChannel_2 = nn.Conv2d(128, 256, kernel_size=1, stride=1, padding=0)\n",
    "        \n",
    "        self.FourthBlock = ResidualBlock(256,'FourthBlock')  \n",
    "        \n",
    "        self.AveragePool2d = nn.AdaptiveAvgPool2d((1,1))\n",
    "        \n",
    "        self.FC = nn.Sequential(OrderedDict([\n",
    "            ('FC_linear', nn.Linear(256, output)),\n",
    "            ('FC_softmax', nn.Softmax(dim=1))\n",
    "        ]))\n",
    "    \n",
    "    def forward(self, x):\n",
    "        out = self.FirstBlock(x)\n",
    "\n",
    "        out = self.SecondBlock(out)\n",
    "        out = self.ChangeChannel_1(out)\n",
    "\n",
    "        out = self.ThridBlock(out)\n",
    "        out = self.ChangeChannel_2(out)\n",
    "\n",
    "        out = self.FourthBlock(out)\n",
    "\n",
    "        out = self.AveragePool2d(out)\n",
    "        out = out.view(out.size(0), -1)\n",
    "        out = self.FC(out)\n",
    "        \n",
    "        return out"
   ]
  },
  {
   "cell_type": "code",
   "execution_count": 30,
   "id": "continued-plaza",
   "metadata": {
    "execution": {
     "iopub.execute_input": "2021-06-21T13:10:22.724671Z",
     "iopub.status.busy": "2021-06-21T13:10:22.724016Z",
     "iopub.status.idle": "2021-06-21T13:10:22.775328Z",
     "shell.execute_reply": "2021-06-21T13:10:22.774812Z",
     "shell.execute_reply.started": "2021-06-21T13:09:02.858620Z"
    },
    "papermill": {
     "duration": 0.114209,
     "end_time": "2021-06-21T13:10:22.775519",
     "exception": false,
     "start_time": "2021-06-21T13:10:22.661310",
     "status": "completed"
    },
    "tags": []
   },
   "outputs": [],
   "source": [
    "resnet_model = ResNet_mini(INPUT_DIM, OUTPUT)"
   ]
  },
  {
   "cell_type": "code",
   "execution_count": 31,
   "id": "caring-apple",
   "metadata": {
    "execution": {
     "iopub.execute_input": "2021-06-21T13:10:22.898502Z",
     "iopub.status.busy": "2021-06-21T13:10:22.897565Z",
     "iopub.status.idle": "2021-06-21T13:10:22.902441Z",
     "shell.execute_reply": "2021-06-21T13:10:22.903104Z",
     "shell.execute_reply.started": "2021-06-21T13:09:03.251941Z"
    },
    "papermill": {
     "duration": 0.069528,
     "end_time": "2021-06-21T13:10:22.903265",
     "exception": false,
     "start_time": "2021-06-21T13:10:22.833737",
     "status": "completed"
    },
    "tags": []
   },
   "outputs": [
    {
     "name": "stdout",
     "output_type": "stream",
     "text": [
      "ResNet_mini(\n",
      "  (FirstBlock): Sequential(\n",
      "    (FirstBlock_conv1): Conv2d(1, 64, kernel_size=(4, 4), stride=(2, 2), padding=(4, 4), bias=False)\n",
      "    (FirstBlock_batchnorm1): BatchNorm2d(64, eps=1e-05, momentum=0.1, affine=True, track_running_stats=True)\n",
      "    (FirstBlock_relu1): ReLU()\n",
      "    (FirstBlock_maxpool2d1): MaxPool2d(kernel_size=2, stride=2, padding=1, dilation=1, ceil_mode=False)\n",
      "  )\n",
      "  (SecondBlock): ResidualBlock(\n",
      "    (resblock_1): Sequential(\n",
      "      (SecondBlock_conv1): Conv2d(64, 64, kernel_size=(3, 3), stride=(1, 1), padding=(1, 1), bias=False)\n",
      "      (SecondBlock_batchnorm1): BatchNorm2d(64, eps=1e-05, momentum=0.1, affine=True, track_running_stats=True)\n",
      "      (SecondBlock_relu1): ReLU()\n",
      "      (SecondBlock_conv2): Conv2d(64, 64, kernel_size=(3, 3), stride=(1, 1), padding=(1, 1), bias=False)\n",
      "      (SecondBlock_batchnorm2): BatchNorm2d(64, eps=1e-05, momentum=0.1, affine=True, track_running_stats=True)\n",
      "      (SecondBlock_relu2): ReLU()\n",
      "    )\n",
      "    (resblock_2): Sequential(\n",
      "      (SecondBlock_conv1): Conv2d(64, 64, kernel_size=(3, 3), stride=(1, 1), padding=(1, 1), bias=False)\n",
      "      (SecondBlock_batchnorm1): BatchNorm2d(64, eps=1e-05, momentum=0.1, affine=True, track_running_stats=True)\n",
      "      (SecondBlock_relu1): ReLU()\n",
      "      (SecondBlock_conv2): Conv2d(64, 64, kernel_size=(3, 3), stride=(1, 1), bias=False)\n",
      "      (SecondBlock_batchnorm2): BatchNorm2d(64, eps=1e-05, momentum=0.1, affine=True, track_running_stats=True)\n",
      "      (SecondBlock_relu2): ReLU()\n",
      "    )\n",
      "    (set_shortcut): Conv2d(64, 64, kernel_size=(3, 3), stride=(1, 1), bias=False)\n",
      "  )\n",
      "  (ChangeChannel_1): Conv2d(64, 128, kernel_size=(1, 1), stride=(1, 1))\n",
      "  (ThridBlock): ResidualBlock(\n",
      "    (resblock_1): Sequential(\n",
      "      (ThridBlock_conv1): Conv2d(128, 128, kernel_size=(3, 3), stride=(1, 1), padding=(1, 1), bias=False)\n",
      "      (ThridBlock_batchnorm1): BatchNorm2d(128, eps=1e-05, momentum=0.1, affine=True, track_running_stats=True)\n",
      "      (ThridBlock_relu1): ReLU()\n",
      "      (ThridBlock_conv2): Conv2d(128, 128, kernel_size=(3, 3), stride=(1, 1), padding=(1, 1), bias=False)\n",
      "      (ThridBlock_batchnorm2): BatchNorm2d(128, eps=1e-05, momentum=0.1, affine=True, track_running_stats=True)\n",
      "      (ThridBlock_relu2): ReLU()\n",
      "    )\n",
      "    (resblock_2): Sequential(\n",
      "      (ThridBlock_conv1): Conv2d(128, 128, kernel_size=(3, 3), stride=(1, 1), padding=(1, 1), bias=False)\n",
      "      (ThridBlock_batchnorm1): BatchNorm2d(128, eps=1e-05, momentum=0.1, affine=True, track_running_stats=True)\n",
      "      (ThridBlock_relu1): ReLU()\n",
      "      (ThridBlock_conv2): Conv2d(128, 128, kernel_size=(3, 3), stride=(1, 1), bias=False)\n",
      "      (ThridBlock_batchnorm2): BatchNorm2d(128, eps=1e-05, momentum=0.1, affine=True, track_running_stats=True)\n",
      "      (ThridBlock_relu2): ReLU()\n",
      "    )\n",
      "    (set_shortcut): Conv2d(128, 128, kernel_size=(3, 3), stride=(1, 1), bias=False)\n",
      "  )\n",
      "  (ChangeChannel_2): Conv2d(128, 256, kernel_size=(1, 1), stride=(1, 1))\n",
      "  (FourthBlock): ResidualBlock(\n",
      "    (resblock_1): Sequential(\n",
      "      (FourthBlock_conv1): Conv2d(256, 256, kernel_size=(3, 3), stride=(1, 1), padding=(1, 1), bias=False)\n",
      "      (FourthBlock_batchnorm1): BatchNorm2d(256, eps=1e-05, momentum=0.1, affine=True, track_running_stats=True)\n",
      "      (FourthBlock_relu1): ReLU()\n",
      "      (FourthBlock_conv2): Conv2d(256, 256, kernel_size=(3, 3), stride=(1, 1), padding=(1, 1), bias=False)\n",
      "      (FourthBlock_batchnorm2): BatchNorm2d(256, eps=1e-05, momentum=0.1, affine=True, track_running_stats=True)\n",
      "      (FourthBlock_relu2): ReLU()\n",
      "    )\n",
      "    (resblock_2): Sequential(\n",
      "      (FourthBlock_conv1): Conv2d(256, 256, kernel_size=(3, 3), stride=(1, 1), padding=(1, 1), bias=False)\n",
      "      (FourthBlock_batchnorm1): BatchNorm2d(256, eps=1e-05, momentum=0.1, affine=True, track_running_stats=True)\n",
      "      (FourthBlock_relu1): ReLU()\n",
      "      (FourthBlock_conv2): Conv2d(256, 256, kernel_size=(3, 3), stride=(1, 1), bias=False)\n",
      "      (FourthBlock_batchnorm2): BatchNorm2d(256, eps=1e-05, momentum=0.1, affine=True, track_running_stats=True)\n",
      "      (FourthBlock_relu2): ReLU()\n",
      "    )\n",
      "    (set_shortcut): Conv2d(256, 256, kernel_size=(3, 3), stride=(1, 1), bias=False)\n",
      "  )\n",
      "  (AveragePool2d): AdaptiveAvgPool2d(output_size=(1, 1))\n",
      "  (FC): Sequential(\n",
      "    (FC_linear): Linear(in_features=256, out_features=10, bias=True)\n",
      "    (FC_softmax): Softmax(dim=1)\n",
      "  )\n",
      ")\n"
     ]
    }
   ],
   "source": [
    "print(resnet_model)"
   ]
  },
  {
   "cell_type": "code",
   "execution_count": 32,
   "id": "engaged-grass",
   "metadata": {
    "execution": {
     "iopub.execute_input": "2021-06-21T13:10:23.025738Z",
     "iopub.status.busy": "2021-06-21T13:10:23.025053Z",
     "iopub.status.idle": "2021-06-21T13:10:23.028999Z",
     "shell.execute_reply": "2021-06-21T13:10:23.029995Z",
     "shell.execute_reply.started": "2021-06-21T13:07:26.955653Z"
    },
    "papermill": {
     "duration": 0.068956,
     "end_time": "2021-06-21T13:10:23.030211",
     "exception": false,
     "start_time": "2021-06-21T13:10:22.961255",
     "status": "completed"
    },
    "tags": []
   },
   "outputs": [
    {
     "name": "stdout",
     "output_type": "stream",
     "text": [
      "총 배치의 수 : 140\n"
     ]
    }
   ],
   "source": [
    "print(\"총 배치의 수 : {}\".format(len(train_loader)))"
   ]
  },
  {
   "cell_type": "markdown",
   "id": "front-scenario",
   "metadata": {
    "papermill": {
     "duration": 0.059608,
     "end_time": "2021-06-21T13:10:23.151163",
     "exception": false,
     "start_time": "2021-06-21T13:10:23.091555",
     "status": "completed"
    },
    "tags": []
   },
   "source": [
    "### 5-2) Training"
   ]
  },
  {
   "cell_type": "code",
   "execution_count": 33,
   "id": "current-newspaper",
   "metadata": {
    "execution": {
     "iopub.execute_input": "2021-06-21T13:10:23.282895Z",
     "iopub.status.busy": "2021-06-21T13:10:23.281771Z",
     "iopub.status.idle": "2021-06-21T13:10:23.285062Z",
     "shell.execute_reply": "2021-06-21T13:10:23.284516Z",
     "shell.execute_reply.started": "2021-06-21T13:07:26.965826Z"
    },
    "papermill": {
     "duration": 0.074915,
     "end_time": "2021-06-21T13:10:23.285205",
     "exception": false,
     "start_time": "2021-06-21T13:10:23.210290",
     "status": "completed"
    },
    "tags": []
   },
   "outputs": [],
   "source": [
    "def train_model(model, dataloaders_dict, loss_fn, optimizer, num_epochs, filename):\n",
    "    model.to(device)\n",
    "\n",
    "    history ={'train_loss' : [],\n",
    "             'train_acc' : [],\n",
    "              'val_loss' : [],\n",
    "              'val_acc' : []\n",
    "             }\n",
    "    \n",
    "    for epoch in range(num_epochs):\n",
    "        for i, phase in enumerate(['train','val']):\n",
    "            if phase=='train':\n",
    "                model.train()\n",
    "            else:\n",
    "                model.eval()\n",
    "                \n",
    "            correct = 0\n",
    "            epoch_loss = 0\n",
    "            epoch_acc = 0 \n",
    "\n",
    "            for data in dataloaders_dict[phase]:\n",
    "                x_data = data['data'].to(device)\n",
    "                y_data = data['target'].to(device)\n",
    "\n",
    "                optimizer.zero_grad()\n",
    "\n",
    "                predict = model(x_data)\n",
    "                target = y_data\n",
    "                loss = loss_fn(predict, target)\n",
    "\n",
    "                if phase == 'train':\n",
    "                    loss.backward()\n",
    "                    optimizer.step()\n",
    "\n",
    "                epoch_loss += loss.item() * len(x_data)\n",
    "                correct += (target==predict.argmax(axis=1)).sum()\n",
    "                    \n",
    "            epoch_loss = epoch_loss / len(dataloaders_dict[phase].dataset)\n",
    "            epoch_acc = 100 * (correct / len(dataloaders_dict[phase].dataset))\n",
    "            print(\"{} : [{} / {}] Loss : {:.4f}  | Accuracy : {:.2f}%\".format(phase.upper(), epoch+1, num_epochs, epoch_loss, epoch_acc))\n",
    "            \n",
    "            history['{}_loss'.format(phase)].append(epoch_loss)\n",
    "            history['{}_acc'.format(phase)].append(epoch_acc)\n",
    "            \n",
    "        torch.save(model.state_dict(), filename)\n",
    "        print(\" \")\n",
    "    return history"
   ]
  },
  {
   "cell_type": "code",
   "execution_count": 34,
   "id": "circular-visibility",
   "metadata": {
    "execution": {
     "iopub.execute_input": "2021-06-21T13:10:23.460995Z",
     "iopub.status.busy": "2021-06-21T13:10:23.460105Z",
     "iopub.status.idle": "2021-06-21T13:10:23.464122Z",
     "shell.execute_reply": "2021-06-21T13:10:23.464988Z",
     "shell.execute_reply.started": "2021-06-21T13:07:26.985955Z"
    },
    "papermill": {
     "duration": 0.120384,
     "end_time": "2021-06-21T13:10:23.465212",
     "exception": false,
     "start_time": "2021-06-21T13:10:23.344828",
     "status": "completed"
    },
    "tags": []
   },
   "outputs": [
    {
     "name": "stdout",
     "output_type": "stream",
     "text": [
      "True\n",
      "A device that proceeds with :  cuda:0\n"
     ]
    }
   ],
   "source": [
    "USE_CUDA = torch.cuda.is_available()\n",
    "print(USE_CUDA)\n",
    "device = torch.device('cuda:0' if USE_CUDA else 'cpu')\n",
    "print('A device that proceeds with : ',device)"
   ]
  },
  {
   "cell_type": "markdown",
   "id": "sustained-loading",
   "metadata": {
    "papermill": {
     "duration": 0.060379,
     "end_time": "2021-06-21T13:10:23.588640",
     "exception": false,
     "start_time": "2021-06-21T13:10:23.528261",
     "status": "completed"
    },
    "tags": []
   },
   "source": [
    "* CNN Model"
   ]
  },
  {
   "cell_type": "code",
   "execution_count": 35,
   "id": "burning-cannon",
   "metadata": {
    "execution": {
     "iopub.execute_input": "2021-06-21T13:10:23.715564Z",
     "iopub.status.busy": "2021-06-21T13:10:23.714488Z",
     "iopub.status.idle": "2021-06-21T13:10:23.717794Z",
     "shell.execute_reply": "2021-06-21T13:10:23.717284Z",
     "shell.execute_reply.started": "2021-06-21T13:07:26.999756Z"
    },
    "papermill": {
     "duration": 0.069498,
     "end_time": "2021-06-21T13:10:23.717952",
     "exception": false,
     "start_time": "2021-06-21T13:10:23.648454",
     "status": "completed"
    },
    "tags": []
   },
   "outputs": [],
   "source": [
    "loss_fn = nn.CrossEntropyLoss()\n",
    "optimizer = optim.Adam(cnn_model.parameters(), lr=0.01)"
   ]
  },
  {
   "cell_type": "code",
   "execution_count": 36,
   "id": "innocent-holly",
   "metadata": {
    "execution": {
     "iopub.execute_input": "2021-06-21T13:10:23.845081Z",
     "iopub.status.busy": "2021-06-21T13:10:23.844171Z",
     "iopub.status.idle": "2021-06-21T13:11:33.179067Z",
     "shell.execute_reply": "2021-06-21T13:11:33.179974Z"
    },
    "papermill": {
     "duration": 69.403157,
     "end_time": "2021-06-21T13:11:33.180250",
     "exception": false,
     "start_time": "2021-06-21T13:10:23.777093",
     "status": "completed"
    },
    "tags": []
   },
   "outputs": [
    {
     "name": "stderr",
     "output_type": "stream",
     "text": [
      "/opt/conda/lib/python3.7/site-packages/torch/nn/modules/container.py:117: UserWarning: Implicit dimension choice for softmax has been deprecated. Change the call to include dim=X as an argument.\n",
      "  input = module(input)\n"
     ]
    },
    {
     "name": "stdout",
     "output_type": "stream",
     "text": [
      "TRAIN : [1 / 50] Loss : 1.8243  | Accuracy : 63.67%\n",
      "VAL : [1 / 50] Loss : 1.7797  | Accuracy : 67.86%\n",
      " \n",
      "TRAIN : [2 / 50] Loss : 1.7517  | Accuracy : 70.66%\n",
      "VAL : [2 / 50] Loss : 1.6711  | Accuracy : 78.90%\n",
      " \n",
      "TRAIN : [3 / 50] Loss : 1.6742  | Accuracy : 78.47%\n",
      "VAL : [3 / 50] Loss : 1.6638  | Accuracy : 79.43%\n",
      " \n",
      "TRAIN : [4 / 50] Loss : 1.6690  | Accuracy : 79.00%\n",
      "VAL : [4 / 50] Loss : 1.6622  | Accuracy : 79.63%\n",
      " \n",
      "TRAIN : [5 / 50] Loss : 1.6122  | Accuracy : 84.73%\n",
      "VAL : [5 / 50] Loss : 1.5764  | Accuracy : 88.35%\n",
      " \n",
      "TRAIN : [6 / 50] Loss : 1.5710  | Accuracy : 88.92%\n",
      "VAL : [6 / 50] Loss : 1.5724  | Accuracy : 88.83%\n",
      " \n",
      "TRAIN : [7 / 50] Loss : 1.5701  | Accuracy : 89.01%\n",
      "VAL : [7 / 50] Loss : 1.5745  | Accuracy : 88.56%\n",
      " \n",
      "TRAIN : [8 / 50] Loss : 1.5686  | Accuracy : 89.18%\n",
      "VAL : [8 / 50] Loss : 1.5742  | Accuracy : 88.60%\n",
      " \n",
      "TRAIN : [9 / 50] Loss : 1.5692  | Accuracy : 89.12%\n",
      "VAL : [9 / 50] Loss : 1.5740  | Accuracy : 88.62%\n",
      " \n",
      "TRAIN : [10 / 50] Loss : 1.5689  | Accuracy : 89.15%\n",
      "VAL : [10 / 50] Loss : 1.5731  | Accuracy : 88.65%\n",
      " \n",
      "TRAIN : [11 / 50] Loss : 1.5689  | Accuracy : 89.17%\n",
      "VAL : [11 / 50] Loss : 1.5791  | Accuracy : 88.13%\n",
      " \n",
      "TRAIN : [12 / 50] Loss : 1.5674  | Accuracy : 89.34%\n",
      "VAL : [12 / 50] Loss : 1.5694  | Accuracy : 89.13%\n",
      " \n",
      "TRAIN : [13 / 50] Loss : 1.5670  | Accuracy : 89.36%\n",
      "VAL : [13 / 50] Loss : 1.5739  | Accuracy : 88.65%\n",
      " \n",
      "TRAIN : [14 / 50] Loss : 1.5692  | Accuracy : 89.16%\n",
      "VAL : [14 / 50] Loss : 1.5732  | Accuracy : 88.76%\n",
      " \n",
      "TRAIN : [15 / 50] Loss : 1.5683  | Accuracy : 89.22%\n",
      "VAL : [15 / 50] Loss : 1.5780  | Accuracy : 88.27%\n",
      " \n",
      "TRAIN : [16 / 50] Loss : 1.5689  | Accuracy : 89.16%\n",
      "VAL : [16 / 50] Loss : 1.5827  | Accuracy : 87.78%\n",
      " \n",
      "TRAIN : [17 / 50] Loss : 1.5680  | Accuracy : 89.27%\n",
      "VAL : [17 / 50] Loss : 1.5729  | Accuracy : 88.76%\n",
      " \n",
      "TRAIN : [18 / 50] Loss : 1.5691  | Accuracy : 89.17%\n",
      "VAL : [18 / 50] Loss : 1.5738  | Accuracy : 88.70%\n",
      " \n",
      "TRAIN : [19 / 50] Loss : 1.5688  | Accuracy : 89.20%\n",
      "VAL : [19 / 50] Loss : 1.5776  | Accuracy : 88.32%\n",
      " \n",
      "TRAIN : [20 / 50] Loss : 1.5691  | Accuracy : 89.17%\n",
      "VAL : [20 / 50] Loss : 1.5725  | Accuracy : 88.81%\n",
      " \n",
      "TRAIN : [21 / 50] Loss : 1.5683  | Accuracy : 89.24%\n",
      "VAL : [21 / 50] Loss : 1.5723  | Accuracy : 88.87%\n",
      " \n",
      "TRAIN : [22 / 50] Loss : 1.5698  | Accuracy : 89.11%\n",
      "VAL : [22 / 50] Loss : 1.5738  | Accuracy : 88.71%\n",
      " \n",
      "TRAIN : [23 / 50] Loss : 1.5703  | Accuracy : 89.06%\n",
      "VAL : [23 / 50] Loss : 1.5733  | Accuracy : 88.78%\n",
      " \n",
      "TRAIN : [24 / 50] Loss : 1.5687  | Accuracy : 89.22%\n",
      "VAL : [24 / 50] Loss : 1.5721  | Accuracy : 88.87%\n",
      " \n",
      "TRAIN : [25 / 50] Loss : 1.5668  | Accuracy : 89.41%\n",
      "VAL : [25 / 50] Loss : 1.5733  | Accuracy : 88.78%\n",
      " \n",
      "TRAIN : [26 / 50] Loss : 1.5666  | Accuracy : 89.43%\n",
      "VAL : [26 / 50] Loss : 1.5748  | Accuracy : 88.62%\n",
      " \n",
      "TRAIN : [27 / 50] Loss : 1.5676  | Accuracy : 89.33%\n",
      "VAL : [27 / 50] Loss : 1.5733  | Accuracy : 88.75%\n",
      " \n",
      "TRAIN : [28 / 50] Loss : 1.5675  | Accuracy : 89.34%\n",
      "VAL : [28 / 50] Loss : 1.5730  | Accuracy : 88.78%\n",
      " \n",
      "TRAIN : [29 / 50] Loss : 1.5706  | Accuracy : 89.03%\n",
      "VAL : [29 / 50] Loss : 1.5736  | Accuracy : 88.76%\n",
      " \n",
      "TRAIN : [30 / 50] Loss : 1.5731  | Accuracy : 88.79%\n",
      "VAL : [30 / 50] Loss : 1.5755  | Accuracy : 88.54%\n",
      " \n",
      "TRAIN : [31 / 50] Loss : 1.5717  | Accuracy : 88.94%\n",
      "VAL : [31 / 50] Loss : 1.5793  | Accuracy : 88.19%\n",
      " \n",
      "TRAIN : [32 / 50] Loss : 1.5701  | Accuracy : 89.10%\n",
      "VAL : [32 / 50] Loss : 1.5760  | Accuracy : 88.51%\n",
      " \n",
      "TRAIN : [33 / 50] Loss : 1.5717  | Accuracy : 88.93%\n",
      "VAL : [33 / 50] Loss : 1.5765  | Accuracy : 88.41%\n",
      " \n",
      "TRAIN : [34 / 50] Loss : 1.5711  | Accuracy : 88.99%\n",
      "VAL : [34 / 50] Loss : 1.5756  | Accuracy : 88.56%\n",
      " \n",
      "TRAIN : [35 / 50] Loss : 1.5694  | Accuracy : 89.15%\n",
      "VAL : [35 / 50] Loss : 1.5736  | Accuracy : 88.75%\n",
      " \n",
      "TRAIN : [36 / 50] Loss : 1.5715  | Accuracy : 88.97%\n",
      "VAL : [36 / 50] Loss : 1.5800  | Accuracy : 88.10%\n",
      " \n",
      "TRAIN : [37 / 50] Loss : 1.5725  | Accuracy : 88.86%\n",
      "VAL : [37 / 50] Loss : 1.5800  | Accuracy : 88.11%\n",
      " \n",
      "TRAIN : [38 / 50] Loss : 1.5734  | Accuracy : 88.78%\n",
      "VAL : [38 / 50] Loss : 1.5879  | Accuracy : 87.30%\n",
      " \n",
      "TRAIN : [39 / 50] Loss : 1.5713  | Accuracy : 88.97%\n",
      "VAL : [39 / 50] Loss : 1.5771  | Accuracy : 88.38%\n",
      " \n",
      "TRAIN : [40 / 50] Loss : 1.5711  | Accuracy : 89.00%\n",
      "VAL : [40 / 50] Loss : 1.5735  | Accuracy : 88.76%\n",
      " \n",
      "TRAIN : [41 / 50] Loss : 1.5694  | Accuracy : 89.17%\n",
      "VAL : [41 / 50] Loss : 1.5731  | Accuracy : 88.79%\n",
      " \n",
      "TRAIN : [42 / 50] Loss : 1.5706  | Accuracy : 89.03%\n",
      "VAL : [42 / 50] Loss : 1.5720  | Accuracy : 88.92%\n",
      " \n",
      "TRAIN : [43 / 50] Loss : 1.5706  | Accuracy : 89.04%\n",
      "VAL : [43 / 50] Loss : 1.5743  | Accuracy : 88.68%\n",
      " \n",
      "TRAIN : [44 / 50] Loss : 1.5716  | Accuracy : 88.94%\n",
      "VAL : [44 / 50] Loss : 1.5834  | Accuracy : 87.76%\n",
      " \n",
      "TRAIN : [45 / 50] Loss : 1.5728  | Accuracy : 88.83%\n",
      "VAL : [45 / 50] Loss : 1.5733  | Accuracy : 88.79%\n",
      " \n",
      "TRAIN : [46 / 50] Loss : 1.5709  | Accuracy : 89.01%\n",
      "VAL : [46 / 50] Loss : 1.5835  | Accuracy : 87.76%\n",
      " \n",
      "TRAIN : [47 / 50] Loss : 1.5701  | Accuracy : 89.10%\n",
      "VAL : [47 / 50] Loss : 1.5727  | Accuracy : 88.84%\n",
      " \n",
      "TRAIN : [48 / 50] Loss : 1.5733  | Accuracy : 88.78%\n",
      "VAL : [48 / 50] Loss : 1.5733  | Accuracy : 88.78%\n",
      " \n",
      "TRAIN : [49 / 50] Loss : 1.5717  | Accuracy : 88.94%\n",
      "VAL : [49 / 50] Loss : 1.5776  | Accuracy : 88.35%\n",
      " \n",
      "TRAIN : [50 / 50] Loss : 1.5678  | Accuracy : 89.32%\n",
      "VAL : [50 / 50] Loss : 1.5730  | Accuracy : 88.81%\n",
      " \n"
     ]
    }
   ],
   "source": [
    "NUM_EPOCHS = 50\n",
    "SAVE_MODEL_PATH = f'cnn.pth'\n",
    "\n",
    "history = train_model(\n",
    "    cnn_model,\n",
    "    dataloaders_dict,\n",
    "    loss_fn, \n",
    "    optimizer,\n",
    "    NUM_EPOCHS,\n",
    "    SAVE_MODEL_PATH\n",
    "    )"
   ]
  },
  {
   "cell_type": "code",
   "execution_count": 37,
   "id": "charged-spank",
   "metadata": {
    "execution": {
     "iopub.execute_input": "2021-06-21T13:11:33.367721Z",
     "iopub.status.busy": "2021-06-21T13:11:33.366542Z",
     "iopub.status.idle": "2021-06-21T13:11:33.882319Z",
     "shell.execute_reply": "2021-06-21T13:11:33.883627Z"
    },
    "papermill": {
     "duration": 0.623817,
     "end_time": "2021-06-21T13:11:33.883966",
     "exception": false,
     "start_time": "2021-06-21T13:11:33.260149",
     "status": "completed"
    },
    "tags": []
   },
   "outputs": [
    {
     "data": {
      "image/png": "[encoded data removed]",
      "text/plain": [
       "<Figure size 1296x576 with 2 Axes>"
      ]
     },
     "metadata": {
      "needs_background": "light"
     },
     "output_type": "display_data"
    }
   ],
   "source": [
    "fig, axes = plt.subplots(1,2, figsize=(18,8))\n",
    "axes[0].plot(history['train_loss'],label='train_loss')\n",
    "axes[0].plot(history['val_loss'], label='val_loss')\n",
    "axes[0].set_xticks(np.arange(0,NUM_EPOCHS,5))\n",
    "axes[0].legend()\n",
    "\n",
    "\n",
    "axes[1].plot(history['train_acc'], label='train_acc')\n",
    "axes[1].plot(history['val_acc'], label='val_acc')\n",
    "axes[1].set_xticks(np.arange(0,NUM_EPOCHS,5))\n",
    "axes[1].legend()\n",
    "\n",
    "plt.show()"
   ]
  },
  {
   "cell_type": "markdown",
   "id": "associate-cooper",
   "metadata": {
    "papermill": {
     "duration": 0.137247,
     "end_time": "2021-06-21T13:11:34.159673",
     "exception": false,
     "start_time": "2021-06-21T13:11:34.022426",
     "status": "completed"
    },
    "tags": []
   },
   "source": [
    "* ResNet 18 Model"
   ]
  },
  {
   "cell_type": "code",
   "execution_count": 38,
   "id": "existing-dress",
   "metadata": {
    "execution": {
     "iopub.execute_input": "2021-06-21T13:11:34.511259Z",
     "iopub.status.busy": "2021-06-21T13:11:34.508968Z",
     "iopub.status.idle": "2021-06-21T13:11:34.512003Z",
     "shell.execute_reply": "2021-06-21T13:11:34.512522Z",
     "shell.execute_reply.started": "2021-06-21T13:09:06.760930Z"
    },
    "papermill": {
     "duration": 0.257472,
     "end_time": "2021-06-21T13:11:34.512729",
     "exception": false,
     "start_time": "2021-06-21T13:11:34.255257",
     "status": "completed"
    },
    "tags": []
   },
   "outputs": [],
   "source": [
    "# Clear cache\n",
    "import gc\n",
    "gc.collect()\n",
    "\n",
    "torch.cuda.empty_cache()"
   ]
  },
  {
   "cell_type": "code",
   "execution_count": 39,
   "id": "private-monkey",
   "metadata": {
    "execution": {
     "iopub.execute_input": "2021-06-21T13:11:34.749213Z",
     "iopub.status.busy": "2021-06-21T13:11:34.748153Z",
     "iopub.status.idle": "2021-06-21T13:11:34.762784Z",
     "shell.execute_reply": "2021-06-21T13:11:34.763489Z",
     "shell.execute_reply.started": "2021-06-21T13:09:06.976171Z"
    },
    "papermill": {
     "duration": 0.171614,
     "end_time": "2021-06-21T13:11:34.763760",
     "exception": false,
     "start_time": "2021-06-21T13:11:34.592146",
     "status": "completed"
    },
    "tags": []
   },
   "outputs": [],
   "source": [
    "loss_fn = nn.CrossEntropyLoss()\n",
    "optimizer = optim.Adam(resnet_model.parameters(), lr=0.02)"
   ]
  },
  {
   "cell_type": "code",
   "execution_count": 40,
   "id": "boring-robin",
   "metadata": {
    "execution": {
     "iopub.execute_input": "2021-06-21T13:11:35.088021Z",
     "iopub.status.busy": "2021-06-21T13:11:35.087027Z",
     "iopub.status.idle": "2021-06-21T13:12:39.602575Z",
     "shell.execute_reply": "2021-06-21T13:12:39.601311Z",
     "shell.execute_reply.started": "2021-06-21T13:09:07.176382Z"
    },
    "papermill": {
     "duration": 64.692937,
     "end_time": "2021-06-21T13:12:39.604459",
     "exception": false,
     "start_time": "2021-06-21T13:11:34.911522",
     "status": "completed"
    },
    "tags": []
   },
   "outputs": [
    {
     "name": "stdout",
     "output_type": "stream",
     "text": [
      "TRAIN : [1 / 10] Loss : 2.3501  | Accuracy : 11.06%\n",
      "VAL : [1 / 10] Loss : 2.3442  | Accuracy : 11.70%\n",
      " \n",
      "TRAIN : [2 / 10] Loss : 2.3506  | Accuracy : 11.06%\n",
      "VAL : [2 / 10] Loss : 2.3442  | Accuracy : 11.70%\n",
      " \n",
      "TRAIN : [3 / 10] Loss : 2.3506  | Accuracy : 11.06%\n",
      "VAL : [3 / 10] Loss : 2.3442  | Accuracy : 11.70%\n",
      " \n",
      "TRAIN : [4 / 10] Loss : 2.3506  | Accuracy : 11.06%\n",
      "VAL : [4 / 10] Loss : 2.3442  | Accuracy : 11.70%\n",
      " \n",
      "TRAIN : [5 / 10] Loss : 2.3506  | Accuracy : 11.06%\n",
      "VAL : [5 / 10] Loss : 2.3442  | Accuracy : 11.70%\n",
      " \n",
      "TRAIN : [6 / 10] Loss : 2.3506  | Accuracy : 11.06%\n",
      "VAL : [6 / 10] Loss : 2.3442  | Accuracy : 11.70%\n",
      " \n",
      "TRAIN : [7 / 10] Loss : 2.3506  | Accuracy : 11.06%\n",
      "VAL : [7 / 10] Loss : 2.3442  | Accuracy : 11.70%\n",
      " \n",
      "TRAIN : [8 / 10] Loss : 2.3506  | Accuracy : 11.06%\n",
      "VAL : [8 / 10] Loss : 2.3442  | Accuracy : 11.70%\n",
      " \n",
      "TRAIN : [9 / 10] Loss : 2.3506  | Accuracy : 11.06%\n",
      "VAL : [9 / 10] Loss : 2.3442  | Accuracy : 11.70%\n",
      " \n",
      "TRAIN : [10 / 10] Loss : 2.3506  | Accuracy : 11.06%\n",
      "VAL : [10 / 10] Loss : 2.3442  | Accuracy : 11.70%\n",
      " \n"
     ]
    }
   ],
   "source": [
    "NUM_EPOCHS = 10\n",
    "SAVE_MODEL_PATH = f'resnet.pth'\n",
    "\n",
    "history = train_model(\n",
    "    resnet_model,\n",
    "    dataloaders_dict,\n",
    "    loss_fn, \n",
    "    optimizer,\n",
    "    NUM_EPOCHS,\n",
    "    SAVE_MODEL_PATH\n",
    "    )"
   ]
  },
  {
   "cell_type": "code",
   "execution_count": 41,
   "id": "polish-decimal",
   "metadata": {
    "execution": {
     "iopub.execute_input": "2021-06-21T13:12:39.954202Z",
     "iopub.status.busy": "2021-06-21T13:12:39.948027Z",
     "iopub.status.idle": "2021-06-21T13:12:40.353724Z",
     "shell.execute_reply": "2021-06-21T13:12:40.353180Z"
    },
    "papermill": {
     "duration": 0.574895,
     "end_time": "2021-06-21T13:12:40.354012",
     "exception": false,
     "start_time": "2021-06-21T13:12:39.779117",
     "status": "completed"
    },
    "tags": []
   },
   "outputs": [
    {
     "data": {
      "image/png": "[encoded data removed]",
      "text/plain": [
       "<Figure size 1296x576 with 2 Axes>"
      ]
     },
     "metadata": {
      "needs_background": "light"
     },
     "output_type": "display_data"
    }
   ],
   "source": [
    "fig, axes = plt.subplots(1,2, figsize=(18,8))\n",
    "axes[0].plot(history['train_loss'],label='train_loss')\n",
    "axes[0].plot(history['val_loss'], label='val_loss')\n",
    "axes[0].set_xticks(np.arange(0,NUM_EPOCHS,5))\n",
    "axes[0].legend()\n",
    "\n",
    "\n",
    "axes[1].plot(history['train_acc'], label='train_acc')\n",
    "axes[1].plot(history['val_acc'], label='val_acc')\n",
    "axes[1].set_xticks(np.arange(0,NUM_EPOCHS,5))\n",
    "axes[1].legend()\n",
    "\n",
    "plt.show()"
   ]
  },
  {
   "cell_type": "markdown",
   "id": "supported-foundation",
   "metadata": {
    "papermill": {
     "duration": 0.161064,
     "end_time": "2021-06-21T13:12:40.644913",
     "exception": false,
     "start_time": "2021-06-21T13:12:40.483849",
     "status": "completed"
    },
    "tags": []
   },
   "source": [
    "* It was bad working, If you can give me any advice, please leave a comment:)"
   ]
  },
  {
   "cell_type": "markdown",
   "id": "rural-contemporary",
   "metadata": {
    "papermill": {
     "duration": 0.163885,
     "end_time": "2021-06-21T13:12:40.974674",
     "exception": false,
     "start_time": "2021-06-21T13:12:40.810789",
     "status": "completed"
    },
    "tags": []
   },
   "source": [
    "### 5-3) Evaluating"
   ]
  },
  {
   "cell_type": "code",
   "execution_count": 42,
   "id": "grateful-corner",
   "metadata": {
    "execution": {
     "iopub.execute_input": "2021-06-21T13:12:41.286434Z",
     "iopub.status.busy": "2021-06-21T13:12:41.285443Z",
     "iopub.status.idle": "2021-06-21T13:12:41.291688Z",
     "shell.execute_reply": "2021-06-21T13:12:41.290907Z"
    },
    "papermill": {
     "duration": 0.163311,
     "end_time": "2021-06-21T13:12:41.291865",
     "exception": false,
     "start_time": "2021-06-21T13:12:41.128554",
     "status": "completed"
    },
    "tags": []
   },
   "outputs": [],
   "source": [
    "def evalueate_model(model, test_loader):\n",
    "    predictions = []\n",
    "\n",
    "    #model = BasicCNN()\n",
    "    #model.to(device)\n",
    "    #model.load_state_dict(torch.load(f'cnn.pth'))\n",
    "    \n",
    "    model.eval()\n",
    "\n",
    "    for data in test_loader:\n",
    "        x_data = data['data'].to(device)\n",
    "        \n",
    "        with torch.no_grad():\n",
    "            predicts = model(x_data)\n",
    "            predicts = predicts.argmax(axis=1)\n",
    "            predicts = predicts.cpu().numpy()\n",
    "            \n",
    "            # Put the batch size data into the list one by one.\n",
    "            for pred in predicts:\n",
    "                predictions.append(pred)\n",
    "        \n",
    "    return(predictions)"
   ]
  },
  {
   "cell_type": "code",
   "execution_count": 43,
   "id": "significant-basin",
   "metadata": {
    "execution": {
     "iopub.execute_input": "2021-06-21T13:12:41.595818Z",
     "iopub.status.busy": "2021-06-21T13:12:41.594851Z",
     "iopub.status.idle": "2021-06-21T13:12:41.625350Z",
     "shell.execute_reply": "2021-06-21T13:12:41.624509Z"
    },
    "papermill": {
     "duration": 0.187573,
     "end_time": "2021-06-21T13:12:41.625552",
     "exception": false,
     "start_time": "2021-06-21T13:12:41.437979",
     "status": "completed"
    },
    "tags": []
   },
   "outputs": [
    {
     "data": {
      "text/html": [
       "<div>\n",
       "<style scoped>\n",
       "    .dataframe tbody tr th:only-of-type {\n",
       "        vertical-align: middle;\n",
       "    }\n",
       "\n",
       "    .dataframe tbody tr th {\n",
       "        vertical-align: top;\n",
       "    }\n",
       "\n",
       "    .dataframe thead th {\n",
       "        text-align: right;\n",
       "    }\n",
       "</style>\n",
       "<table border=\"1\" class=\"dataframe\">\n",
       "  <thead>\n",
       "    <tr style=\"text-align: right;\">\n",
       "      <th></th>\n",
       "      <th>pixel0</th>\n",
       "      <th>pixel1</th>\n",
       "      <th>pixel2</th>\n",
       "      <th>pixel3</th>\n",
       "      <th>pixel4</th>\n",
       "      <th>pixel5</th>\n",
       "      <th>pixel6</th>\n",
       "      <th>pixel7</th>\n",
       "      <th>pixel8</th>\n",
       "      <th>pixel9</th>\n",
       "      <th>...</th>\n",
       "      <th>pixel774</th>\n",
       "      <th>pixel775</th>\n",
       "      <th>pixel776</th>\n",
       "      <th>pixel777</th>\n",
       "      <th>pixel778</th>\n",
       "      <th>pixel779</th>\n",
       "      <th>pixel780</th>\n",
       "      <th>pixel781</th>\n",
       "      <th>pixel782</th>\n",
       "      <th>pixel783</th>\n",
       "    </tr>\n",
       "  </thead>\n",
       "  <tbody>\n",
       "    <tr>\n",
       "      <th>0</th>\n",
       "      <td>0</td>\n",
       "      <td>0</td>\n",
       "      <td>0</td>\n",
       "      <td>0</td>\n",
       "      <td>0</td>\n",
       "      <td>0</td>\n",
       "      <td>0</td>\n",
       "      <td>0</td>\n",
       "      <td>0</td>\n",
       "      <td>0</td>\n",
       "      <td>...</td>\n",
       "      <td>0</td>\n",
       "      <td>0</td>\n",
       "      <td>0</td>\n",
       "      <td>0</td>\n",
       "      <td>0</td>\n",
       "      <td>0</td>\n",
       "      <td>0</td>\n",
       "      <td>0</td>\n",
       "      <td>0</td>\n",
       "      <td>0</td>\n",
       "    </tr>\n",
       "    <tr>\n",
       "      <th>1</th>\n",
       "      <td>0</td>\n",
       "      <td>0</td>\n",
       "      <td>0</td>\n",
       "      <td>0</td>\n",
       "      <td>0</td>\n",
       "      <td>0</td>\n",
       "      <td>0</td>\n",
       "      <td>0</td>\n",
       "      <td>0</td>\n",
       "      <td>0</td>\n",
       "      <td>...</td>\n",
       "      <td>0</td>\n",
       "      <td>0</td>\n",
       "      <td>0</td>\n",
       "      <td>0</td>\n",
       "      <td>0</td>\n",
       "      <td>0</td>\n",
       "      <td>0</td>\n",
       "      <td>0</td>\n",
       "      <td>0</td>\n",
       "      <td>0</td>\n",
       "    </tr>\n",
       "    <tr>\n",
       "      <th>2</th>\n",
       "      <td>0</td>\n",
       "      <td>0</td>\n",
       "      <td>0</td>\n",
       "      <td>0</td>\n",
       "      <td>0</td>\n",
       "      <td>0</td>\n",
       "      <td>0</td>\n",
       "      <td>0</td>\n",
       "      <td>0</td>\n",
       "      <td>0</td>\n",
       "      <td>...</td>\n",
       "      <td>0</td>\n",
       "      <td>0</td>\n",
       "      <td>0</td>\n",
       "      <td>0</td>\n",
       "      <td>0</td>\n",
       "      <td>0</td>\n",
       "      <td>0</td>\n",
       "      <td>0</td>\n",
       "      <td>0</td>\n",
       "      <td>0</td>\n",
       "    </tr>\n",
       "    <tr>\n",
       "      <th>3</th>\n",
       "      <td>0</td>\n",
       "      <td>0</td>\n",
       "      <td>0</td>\n",
       "      <td>0</td>\n",
       "      <td>0</td>\n",
       "      <td>0</td>\n",
       "      <td>0</td>\n",
       "      <td>0</td>\n",
       "      <td>0</td>\n",
       "      <td>0</td>\n",
       "      <td>...</td>\n",
       "      <td>0</td>\n",
       "      <td>0</td>\n",
       "      <td>0</td>\n",
       "      <td>0</td>\n",
       "      <td>0</td>\n",
       "      <td>0</td>\n",
       "      <td>0</td>\n",
       "      <td>0</td>\n",
       "      <td>0</td>\n",
       "      <td>0</td>\n",
       "    </tr>\n",
       "    <tr>\n",
       "      <th>4</th>\n",
       "      <td>0</td>\n",
       "      <td>0</td>\n",
       "      <td>0</td>\n",
       "      <td>0</td>\n",
       "      <td>0</td>\n",
       "      <td>0</td>\n",
       "      <td>0</td>\n",
       "      <td>0</td>\n",
       "      <td>0</td>\n",
       "      <td>0</td>\n",
       "      <td>...</td>\n",
       "      <td>0</td>\n",
       "      <td>0</td>\n",
       "      <td>0</td>\n",
       "      <td>0</td>\n",
       "      <td>0</td>\n",
       "      <td>0</td>\n",
       "      <td>0</td>\n",
       "      <td>0</td>\n",
       "      <td>0</td>\n",
       "      <td>0</td>\n",
       "    </tr>\n",
       "  </tbody>\n",
       "</table>\n",
       "<p>5 rows × 784 columns</p>\n",
       "</div>"
      ],
      "text/plain": [
       "   pixel0  pixel1  pixel2  pixel3  pixel4  pixel5  pixel6  pixel7  pixel8  \\\n",
       "0       0       0       0       0       0       0       0       0       0   \n",
       "1       0       0       0       0       0       0       0       0       0   \n",
       "2       0       0       0       0       0       0       0       0       0   \n",
       "3       0       0       0       0       0       0       0       0       0   \n",
       "4       0       0       0       0       0       0       0       0       0   \n",
       "\n",
       "   pixel9  ...  pixel774  pixel775  pixel776  pixel777  pixel778  pixel779  \\\n",
       "0       0  ...         0         0         0         0         0         0   \n",
       "1       0  ...         0         0         0         0         0         0   \n",
       "2       0  ...         0         0         0         0         0         0   \n",
       "3       0  ...         0         0         0         0         0         0   \n",
       "4       0  ...         0         0         0         0         0         0   \n",
       "\n",
       "   pixel780  pixel781  pixel782  pixel783  \n",
       "0         0         0         0         0  \n",
       "1         0         0         0         0  \n",
       "2         0         0         0         0  \n",
       "3         0         0         0         0  \n",
       "4         0         0         0         0  \n",
       "\n",
       "[5 rows x 784 columns]"
      ]
     },
     "execution_count": 43,
     "metadata": {},
     "output_type": "execute_result"
    }
   ],
   "source": [
    "test_df.head()"
   ]
  },
  {
   "cell_type": "code",
   "execution_count": 44,
   "id": "spanish-things",
   "metadata": {
    "execution": {
     "iopub.execute_input": "2021-06-21T13:12:41.871029Z",
     "iopub.status.busy": "2021-06-21T13:12:41.869612Z",
     "iopub.status.idle": "2021-06-21T13:12:41.939190Z",
     "shell.execute_reply": "2021-06-21T13:12:41.939757Z"
    },
    "papermill": {
     "duration": 0.167014,
     "end_time": "2021-06-21T13:12:41.939989",
     "exception": false,
     "start_time": "2021-06-21T13:12:41.772975",
     "status": "completed"
    },
    "tags": []
   },
   "outputs": [],
   "source": [
    "test_dataset = BasicDataset(test_df.values, y_data=None, is_labeled=False)\n",
    "test_loader = DataLoader(test_dataset, batch_size=32, shuffle = False)"
   ]
  },
  {
   "cell_type": "code",
   "execution_count": 45,
   "id": "powerful-process",
   "metadata": {
    "execution": {
     "iopub.execute_input": "2021-06-21T13:12:42.126689Z",
     "iopub.status.busy": "2021-06-21T13:12:42.125985Z",
     "iopub.status.idle": "2021-06-21T13:12:43.596421Z",
     "shell.execute_reply": "2021-06-21T13:12:43.595860Z"
    },
    "papermill": {
     "duration": 1.564617,
     "end_time": "2021-06-21T13:12:43.596603",
     "exception": false,
     "start_time": "2021-06-21T13:12:42.031986",
     "status": "completed"
    },
    "tags": []
   },
   "outputs": [
    {
     "name": "stderr",
     "output_type": "stream",
     "text": [
      "/opt/conda/lib/python3.7/site-packages/torch/nn/modules/container.py:117: UserWarning: Implicit dimension choice for softmax has been deprecated. Change the call to include dim=X as an argument.\n",
      "  input = module(input)\n"
     ]
    }
   ],
   "source": [
    "pred = evalueate_model(cnn_model, test_loader)"
   ]
  },
  {
   "cell_type": "markdown",
   "id": "placed-indonesia",
   "metadata": {
    "papermill": {
     "duration": 0.090087,
     "end_time": "2021-06-21T13:12:43.776572",
     "exception": false,
     "start_time": "2021-06-21T13:12:43.686485",
     "status": "completed"
    },
    "tags": []
   },
   "source": [
    "# 6. Submission\n",
    "* Submit the predictions."
   ]
  },
  {
   "cell_type": "code",
   "execution_count": 46,
   "id": "turkish-guarantee",
   "metadata": {
    "execution": {
     "iopub.execute_input": "2021-06-21T13:12:43.964424Z",
     "iopub.status.busy": "2021-06-21T13:12:43.963713Z",
     "iopub.status.idle": "2021-06-21T13:12:44.000274Z",
     "shell.execute_reply": "2021-06-21T13:12:43.999715Z"
    },
    "papermill": {
     "duration": 0.134371,
     "end_time": "2021-06-21T13:12:44.000415",
     "exception": false,
     "start_time": "2021-06-21T13:12:43.866044",
     "status": "completed"
    },
    "tags": []
   },
   "outputs": [
    {
     "data": {
      "text/html": [
       "<div>\n",
       "<style scoped>\n",
       "    .dataframe tbody tr th:only-of-type {\n",
       "        vertical-align: middle;\n",
       "    }\n",
       "\n",
       "    .dataframe tbody tr th {\n",
       "        vertical-align: top;\n",
       "    }\n",
       "\n",
       "    .dataframe thead th {\n",
       "        text-align: right;\n",
       "    }\n",
       "</style>\n",
       "<table border=\"1\" class=\"dataframe\">\n",
       "  <thead>\n",
       "    <tr style=\"text-align: right;\">\n",
       "      <th></th>\n",
       "      <th>ImageId</th>\n",
       "      <th>Label</th>\n",
       "    </tr>\n",
       "  </thead>\n",
       "  <tbody>\n",
       "    <tr>\n",
       "      <th>0</th>\n",
       "      <td>1</td>\n",
       "      <td>2</td>\n",
       "    </tr>\n",
       "    <tr>\n",
       "      <th>1</th>\n",
       "      <td>2</td>\n",
       "      <td>0</td>\n",
       "    </tr>\n",
       "    <tr>\n",
       "      <th>2</th>\n",
       "      <td>3</td>\n",
       "      <td>9</td>\n",
       "    </tr>\n",
       "    <tr>\n",
       "      <th>3</th>\n",
       "      <td>4</td>\n",
       "      <td>9</td>\n",
       "    </tr>\n",
       "    <tr>\n",
       "      <th>4</th>\n",
       "      <td>5</td>\n",
       "      <td>3</td>\n",
       "    </tr>\n",
       "  </tbody>\n",
       "</table>\n",
       "</div>"
      ],
      "text/plain": [
       "   ImageId  Label\n",
       "0        1      2\n",
       "1        2      0\n",
       "2        3      9\n",
       "3        4      9\n",
       "4        5      3"
      ]
     },
     "execution_count": 46,
     "metadata": {},
     "output_type": "execute_result"
    }
   ],
   "source": [
    "submission = pd.read_csv('../input/digit-recognizer/sample_submission.csv')\n",
    "submission['Label'] = pred\n",
    "submission.head()"
   ]
  },
  {
   "cell_type": "code",
   "execution_count": 47,
   "id": "editorial-understanding",
   "metadata": {
    "execution": {
     "iopub.execute_input": "2021-06-21T13:12:44.204130Z",
     "iopub.status.busy": "2021-06-21T13:12:44.203100Z",
     "iopub.status.idle": "2021-06-21T13:12:44.509554Z",
     "shell.execute_reply": "2021-06-21T13:12:44.510286Z"
    },
    "papermill": {
     "duration": 0.421454,
     "end_time": "2021-06-21T13:12:44.510473",
     "exception": false,
     "start_time": "2021-06-21T13:12:44.089019",
     "status": "completed"
    },
    "tags": []
   },
   "outputs": [
    {
     "data": {
      "image/png": "[encoded data removed]",
      "text/plain": [
       "<Figure size 1440x360 with 5 Axes>"
      ]
     },
     "metadata": {
      "needs_background": "light"
     },
     "output_type": "display_data"
    }
   ],
   "source": [
    "fig, axes = plt.subplots(1,5, figsize=(20,5))\n",
    "\n",
    "for i in range(5):\n",
    "    axes[i].imshow(test_df.iloc[i].values.reshape(28,28), 'gray')\n",
    "    axes[i].axis('off')\n",
    "    axes[i].set_title(\"Predict Lable :\" + str(pred[i]))\n",
    "plt.show()"
   ]
  },
  {
   "cell_type": "code",
   "execution_count": 48,
   "id": "resistant-intersection",
   "metadata": {
    "execution": {
     "iopub.execute_input": "2021-06-21T13:12:44.712056Z",
     "iopub.status.busy": "2021-06-21T13:12:44.710821Z",
     "iopub.status.idle": "2021-06-21T13:12:44.925030Z",
     "shell.execute_reply": "2021-06-21T13:12:44.925658Z"
    },
    "papermill": {
     "duration": 0.320224,
     "end_time": "2021-06-21T13:12:44.925837",
     "exception": false,
     "start_time": "2021-06-21T13:12:44.605613",
     "status": "completed"
    },
    "tags": []
   },
   "outputs": [],
   "source": [
    "submission.to_csv('submission.csv', index=False)"
   ]
  },
  {
   "cell_type": "markdown",
   "id": "thousand-acrobat",
   "metadata": {
    "papermill": {
     "duration": 0.09174,
     "end_time": "2021-06-21T13:12:45.109421",
     "exception": false,
     "start_time": "2021-06-21T13:12:45.017681",
     "status": "completed"
    },
    "tags": []
   },
   "source": [
    "##### reference \n",
    "* https://www.kaggle.com/kanncaa1/pytorch-tutorial-for-deep-learning-lovers\n",
    "\n",
    "###  If this notebook is useful for your kaggling, \"UPVOTE\" for it 👀\n",
    "#### THX to Reading My Notebook🌈"
   ]
  }
 ],
 "metadata": {
  "kernelspec": {
   "display_name": "Python 3",
   "language": "python",
   "name": "python3"
  },
  "language_info": {
   "codemirror_mode": {
    "name": "ipython",
    "version": 3
   },
   "file_extension": ".py",
   "mimetype": "text/x-python",
   "name": "python",
   "nbconvert_exporter": "python",
   "pygments_lexer": "ipython3",
   "version": "3.7.10"
  },
  "papermill": {
   "default_parameters": {},
   "duration": 183.006274,
   "end_time": "2021-06-21T13:12:47.600972",
   "environment_variables": {},
   "exception": null,
   "input_path": "__notebook__.ipynb",
   "output_path": "__notebook__.ipynb",
   "parameters": {},
   "start_time": "2021-06-21T13:09:44.594698",
   "version": "2.3.3"
  }
 },
 "nbformat": 4,
 "nbformat_minor": 5
}

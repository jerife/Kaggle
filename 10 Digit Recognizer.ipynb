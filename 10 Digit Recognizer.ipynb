{
 "cells": [
  {
   "cell_type": "code",
   "execution_count": 1,
   "id": "monthly-remedy",
   "metadata": {
    "_cell_guid": "b1076dfc-b9ad-4769-8c92-a6c4dae69d19",
    "_uuid": "8f2839f25d086af736a60e9eeb907d3b93b6e0e5",
    "execution": {
     "iopub.execute_input": "2021-06-16T06:16:06.695250Z",
     "iopub.status.busy": "2021-06-16T06:16:06.692569Z",
     "iopub.status.idle": "2021-06-16T06:16:06.699542Z",
     "shell.execute_reply": "2021-06-16T06:16:06.700159Z",
     "shell.execute_reply.started": "2021-06-16T06:07:09.834098Z"
    },
    "papermill": {
     "duration": 0.0476,
     "end_time": "2021-06-16T06:16:06.700535",
     "exception": false,
     "start_time": "2021-06-16T06:16:06.652935",
     "status": "completed"
    },
    "tags": []
   },
   "outputs": [
    {
     "name": "stdout",
     "output_type": "stream",
     "text": [
      "/kaggle/input/digit-recognizer/sample_submission.csv\n",
      "/kaggle/input/digit-recognizer/train.csv\n",
      "/kaggle/input/digit-recognizer/test.csv\n"
     ]
    }
   ],
   "source": [
    "# This Python 3 environment comes with many helpful analytics libraries installed\n",
    "# It is defined by the kaggle/python Docker image: https://github.com/kaggle/docker-python\n",
    "# For example, here's several helpful packages to load\n",
    "\n",
    "import numpy as np # linear algebra\n",
    "import pandas as pd # data processing, CSV file I/O (e.g. pd.read_csv)\n",
    "\n",
    "# Input data files are available in the read-only \"../input/\" directory\n",
    "# For example, running this (by clicking run or pressing Shift+Enter) will list all files under the input directory\n",
    "\n",
    "import os\n",
    "for dirname, _, filenames in os.walk('/kaggle/input'):\n",
    "    for filename in filenames:\n",
    "        print(os.path.join(dirname, filename))\n",
    "\n",
    "# You can write up to 20GB to the current directory (/kaggle/working/) that gets preserved as output when you create a version using \"Save & Run All\" \n",
    "# You can also write temporary files to /kaggle/temp/, but they won't be saved outside of the current session"
   ]
  },
  {
   "cell_type": "code",
   "execution_count": 2,
   "id": "painful-modeling",
   "metadata": {
    "execution": {
     "iopub.execute_input": "2021-06-16T06:16:06.753305Z",
     "iopub.status.busy": "2021-06-16T06:16:06.752578Z",
     "iopub.status.idle": "2021-06-16T06:16:06.757416Z",
     "shell.execute_reply": "2021-06-16T06:16:06.756907Z",
     "shell.execute_reply.started": "2021-06-16T06:07:10.057950Z"
    },
    "papermill": {
     "duration": 0.032597,
     "end_time": "2021-06-16T06:16:06.757564",
     "exception": false,
     "start_time": "2021-06-16T06:16:06.724967",
     "status": "completed"
    },
    "tags": []
   },
   "outputs": [],
   "source": [
    "import pandas as pd\n",
    "import numpy as np\n",
    "from collections import OrderedDict\n",
    "\n",
    "\n",
    "import matplotlib.pyplot as plt\n",
    "from PIL import Image"
   ]
  },
  {
   "cell_type": "code",
   "execution_count": 3,
   "id": "disciplinary-polish",
   "metadata": {
    "execution": {
     "iopub.execute_input": "2021-06-16T06:16:06.809512Z",
     "iopub.status.busy": "2021-06-16T06:16:06.808542Z",
     "iopub.status.idle": "2021-06-16T06:16:09.288183Z",
     "shell.execute_reply": "2021-06-16T06:16:09.287669Z",
     "shell.execute_reply.started": "2021-06-16T06:07:10.927083Z"
    },
    "papermill": {
     "duration": 2.507082,
     "end_time": "2021-06-16T06:16:09.288401",
     "exception": false,
     "start_time": "2021-06-16T06:16:06.781319",
     "status": "completed"
    },
    "tags": []
   },
   "outputs": [],
   "source": [
    "import torch\n",
    "import torch.nn as nn\n",
    "import torch.optim as optim\n",
    "from torch.utils.data import DataLoader, Dataset, TensorDataset\n",
    "\n",
    "import sklearn\n",
    "from sklearn.model_selection import train_test_split"
   ]
  },
  {
   "cell_type": "code",
   "execution_count": 4,
   "id": "helpful-mistake",
   "metadata": {
    "execution": {
     "iopub.execute_input": "2021-06-16T06:16:09.342085Z",
     "iopub.status.busy": "2021-06-16T06:16:09.341348Z",
     "iopub.status.idle": "2021-06-16T06:16:15.957228Z",
     "shell.execute_reply": "2021-06-16T06:16:15.957956Z",
     "shell.execute_reply.started": "2021-06-16T06:07:11.653664Z"
    },
    "papermill": {
     "duration": 6.645973,
     "end_time": "2021-06-16T06:16:15.958213",
     "exception": false,
     "start_time": "2021-06-16T06:16:09.312240",
     "status": "completed"
    },
    "tags": []
   },
   "outputs": [
    {
     "data": {
      "text/html": [
       "<div>\n",
       "<style scoped>\n",
       "    .dataframe tbody tr th:only-of-type {\n",
       "        vertical-align: middle;\n",
       "    }\n",
       "\n",
       "    .dataframe tbody tr th {\n",
       "        vertical-align: top;\n",
       "    }\n",
       "\n",
       "    .dataframe thead th {\n",
       "        text-align: right;\n",
       "    }\n",
       "</style>\n",
       "<table border=\"1\" class=\"dataframe\">\n",
       "  <thead>\n",
       "    <tr style=\"text-align: right;\">\n",
       "      <th></th>\n",
       "      <th>label</th>\n",
       "      <th>pixel0</th>\n",
       "      <th>pixel1</th>\n",
       "      <th>pixel2</th>\n",
       "      <th>pixel3</th>\n",
       "      <th>pixel4</th>\n",
       "      <th>pixel5</th>\n",
       "      <th>pixel6</th>\n",
       "      <th>pixel7</th>\n",
       "      <th>pixel8</th>\n",
       "      <th>...</th>\n",
       "      <th>pixel774</th>\n",
       "      <th>pixel775</th>\n",
       "      <th>pixel776</th>\n",
       "      <th>pixel777</th>\n",
       "      <th>pixel778</th>\n",
       "      <th>pixel779</th>\n",
       "      <th>pixel780</th>\n",
       "      <th>pixel781</th>\n",
       "      <th>pixel782</th>\n",
       "      <th>pixel783</th>\n",
       "    </tr>\n",
       "  </thead>\n",
       "  <tbody>\n",
       "    <tr>\n",
       "      <th>0</th>\n",
       "      <td>1</td>\n",
       "      <td>0</td>\n",
       "      <td>0</td>\n",
       "      <td>0</td>\n",
       "      <td>0</td>\n",
       "      <td>0</td>\n",
       "      <td>0</td>\n",
       "      <td>0</td>\n",
       "      <td>0</td>\n",
       "      <td>0</td>\n",
       "      <td>...</td>\n",
       "      <td>0</td>\n",
       "      <td>0</td>\n",
       "      <td>0</td>\n",
       "      <td>0</td>\n",
       "      <td>0</td>\n",
       "      <td>0</td>\n",
       "      <td>0</td>\n",
       "      <td>0</td>\n",
       "      <td>0</td>\n",
       "      <td>0</td>\n",
       "    </tr>\n",
       "    <tr>\n",
       "      <th>1</th>\n",
       "      <td>0</td>\n",
       "      <td>0</td>\n",
       "      <td>0</td>\n",
       "      <td>0</td>\n",
       "      <td>0</td>\n",
       "      <td>0</td>\n",
       "      <td>0</td>\n",
       "      <td>0</td>\n",
       "      <td>0</td>\n",
       "      <td>0</td>\n",
       "      <td>...</td>\n",
       "      <td>0</td>\n",
       "      <td>0</td>\n",
       "      <td>0</td>\n",
       "      <td>0</td>\n",
       "      <td>0</td>\n",
       "      <td>0</td>\n",
       "      <td>0</td>\n",
       "      <td>0</td>\n",
       "      <td>0</td>\n",
       "      <td>0</td>\n",
       "    </tr>\n",
       "    <tr>\n",
       "      <th>2</th>\n",
       "      <td>1</td>\n",
       "      <td>0</td>\n",
       "      <td>0</td>\n",
       "      <td>0</td>\n",
       "      <td>0</td>\n",
       "      <td>0</td>\n",
       "      <td>0</td>\n",
       "      <td>0</td>\n",
       "      <td>0</td>\n",
       "      <td>0</td>\n",
       "      <td>...</td>\n",
       "      <td>0</td>\n",
       "      <td>0</td>\n",
       "      <td>0</td>\n",
       "      <td>0</td>\n",
       "      <td>0</td>\n",
       "      <td>0</td>\n",
       "      <td>0</td>\n",
       "      <td>0</td>\n",
       "      <td>0</td>\n",
       "      <td>0</td>\n",
       "    </tr>\n",
       "    <tr>\n",
       "      <th>3</th>\n",
       "      <td>4</td>\n",
       "      <td>0</td>\n",
       "      <td>0</td>\n",
       "      <td>0</td>\n",
       "      <td>0</td>\n",
       "      <td>0</td>\n",
       "      <td>0</td>\n",
       "      <td>0</td>\n",
       "      <td>0</td>\n",
       "      <td>0</td>\n",
       "      <td>...</td>\n",
       "      <td>0</td>\n",
       "      <td>0</td>\n",
       "      <td>0</td>\n",
       "      <td>0</td>\n",
       "      <td>0</td>\n",
       "      <td>0</td>\n",
       "      <td>0</td>\n",
       "      <td>0</td>\n",
       "      <td>0</td>\n",
       "      <td>0</td>\n",
       "    </tr>\n",
       "    <tr>\n",
       "      <th>4</th>\n",
       "      <td>0</td>\n",
       "      <td>0</td>\n",
       "      <td>0</td>\n",
       "      <td>0</td>\n",
       "      <td>0</td>\n",
       "      <td>0</td>\n",
       "      <td>0</td>\n",
       "      <td>0</td>\n",
       "      <td>0</td>\n",
       "      <td>0</td>\n",
       "      <td>...</td>\n",
       "      <td>0</td>\n",
       "      <td>0</td>\n",
       "      <td>0</td>\n",
       "      <td>0</td>\n",
       "      <td>0</td>\n",
       "      <td>0</td>\n",
       "      <td>0</td>\n",
       "      <td>0</td>\n",
       "      <td>0</td>\n",
       "      <td>0</td>\n",
       "    </tr>\n",
       "  </tbody>\n",
       "</table>\n",
       "<p>5 rows × 785 columns</p>\n",
       "</div>"
      ],
      "text/plain": [
       "   label  pixel0  pixel1  pixel2  pixel3  pixel4  pixel5  pixel6  pixel7  \\\n",
       "0      1       0       0       0       0       0       0       0       0   \n",
       "1      0       0       0       0       0       0       0       0       0   \n",
       "2      1       0       0       0       0       0       0       0       0   \n",
       "3      4       0       0       0       0       0       0       0       0   \n",
       "4      0       0       0       0       0       0       0       0       0   \n",
       "\n",
       "   pixel8  ...  pixel774  pixel775  pixel776  pixel777  pixel778  pixel779  \\\n",
       "0       0  ...         0         0         0         0         0         0   \n",
       "1       0  ...         0         0         0         0         0         0   \n",
       "2       0  ...         0         0         0         0         0         0   \n",
       "3       0  ...         0         0         0         0         0         0   \n",
       "4       0  ...         0         0         0         0         0         0   \n",
       "\n",
       "   pixel780  pixel781  pixel782  pixel783  \n",
       "0         0         0         0         0  \n",
       "1         0         0         0         0  \n",
       "2         0         0         0         0  \n",
       "3         0         0         0         0  \n",
       "4         0         0         0         0  \n",
       "\n",
       "[5 rows x 785 columns]"
      ]
     },
     "execution_count": 4,
     "metadata": {},
     "output_type": "execute_result"
    }
   ],
   "source": [
    "train_df = pd.read_csv('/kaggle/input/digit-recognizer/train.csv')\n",
    "test_df = pd.read_csv('/kaggle/input/digit-recognizer/test.csv')\n",
    "train_df.head()"
   ]
  },
  {
   "cell_type": "code",
   "execution_count": 5,
   "id": "involved-arena",
   "metadata": {
    "execution": {
     "iopub.execute_input": "2021-06-16T06:16:16.021608Z",
     "iopub.status.busy": "2021-06-16T06:16:16.019391Z",
     "iopub.status.idle": "2021-06-16T06:16:16.022403Z",
     "shell.execute_reply": "2021-06-16T06:16:16.022921Z",
     "shell.execute_reply.started": "2021-06-16T06:07:15.434470Z"
    },
    "papermill": {
     "duration": 0.03456,
     "end_time": "2021-06-16T06:16:16.023095",
     "exception": false,
     "start_time": "2021-06-16T06:16:15.988535",
     "status": "completed"
    },
    "tags": []
   },
   "outputs": [],
   "source": [
    "x = train_df.iloc[:,1:].values\n",
    "y = train_df['label'].values"
   ]
  },
  {
   "cell_type": "code",
   "execution_count": 6,
   "id": "preceding-presentation",
   "metadata": {
    "execution": {
     "iopub.execute_input": "2021-06-16T06:16:16.078167Z",
     "iopub.status.busy": "2021-06-16T06:16:16.075737Z",
     "iopub.status.idle": "2021-06-16T06:16:16.081435Z",
     "shell.execute_reply": "2021-06-16T06:16:16.080564Z",
     "shell.execute_reply.started": "2021-06-16T06:07:48.535911Z"
    },
    "papermill": {
     "duration": 0.035103,
     "end_time": "2021-06-16T06:16:16.081640",
     "exception": false,
     "start_time": "2021-06-16T06:16:16.046537",
     "status": "completed"
    },
    "tags": []
   },
   "outputs": [
    {
     "name": "stdout",
     "output_type": "stream",
     "text": [
      "X shape : (42000, 784)\n",
      "Y shape : (42000,)\n"
     ]
    }
   ],
   "source": [
    "print(\"X shape : {}\".format(x.shape))\n",
    "print(\"Y shape : {}\".format(y.shape))"
   ]
  },
  {
   "cell_type": "markdown",
   "id": "prepared-sullivan",
   "metadata": {
    "papermill": {
     "duration": 0.023303,
     "end_time": "2021-06-16T06:16:16.130596",
     "exception": false,
     "start_time": "2021-06-16T06:16:16.107293",
     "status": "completed"
    },
    "tags": []
   },
   "source": [
    "* Split Train set / Validation set"
   ]
  },
  {
   "cell_type": "code",
   "execution_count": 7,
   "id": "communist-robertson",
   "metadata": {
    "execution": {
     "iopub.execute_input": "2021-06-16T06:16:16.184857Z",
     "iopub.status.busy": "2021-06-16T06:16:16.183291Z",
     "iopub.status.idle": "2021-06-16T06:16:16.602119Z",
     "shell.execute_reply": "2021-06-16T06:16:16.601567Z",
     "shell.execute_reply.started": "2021-06-16T06:07:48.967455Z"
    },
    "papermill": {
     "duration": 0.447883,
     "end_time": "2021-06-16T06:16:16.602273",
     "exception": false,
     "start_time": "2021-06-16T06:16:16.154390",
     "status": "completed"
    },
    "tags": []
   },
   "outputs": [],
   "source": [
    "x_train, x_val, y_train, y_val = train_test_split(x, y, test_size=0.15)"
   ]
  },
  {
   "cell_type": "code",
   "execution_count": 8,
   "id": "greenhouse-judgment",
   "metadata": {
    "execution": {
     "iopub.execute_input": "2021-06-16T06:16:16.656987Z",
     "iopub.status.busy": "2021-06-16T06:16:16.655852Z",
     "iopub.status.idle": "2021-06-16T06:16:16.661170Z",
     "shell.execute_reply": "2021-06-16T06:16:16.661929Z",
     "shell.execute_reply.started": "2021-06-16T06:07:49.347109Z"
    },
    "papermill": {
     "duration": 0.035903,
     "end_time": "2021-06-16T06:16:16.662163",
     "exception": false,
     "start_time": "2021-06-16T06:16:16.626260",
     "status": "completed"
    },
    "tags": []
   },
   "outputs": [
    {
     "name": "stdout",
     "output_type": "stream",
     "text": [
      "x_train shape : (35700, 784)\n",
      "y_train shape : (35700,)\n",
      "x_val shape : (6300, 784)\n",
      "y_val shape : (6300,)\n"
     ]
    }
   ],
   "source": [
    "print(\"x_train shape : {}\".format(x_train.shape))\n",
    "print(\"y_train shape : {}\".format(y_train.shape))\n",
    "print(\"x_val shape : {}\".format(x_val.shape))\n",
    "print(\"y_val shape : {}\".format(y_val.shape))"
   ]
  },
  {
   "cell_type": "code",
   "execution_count": 9,
   "id": "specific-producer",
   "metadata": {
    "execution": {
     "iopub.execute_input": "2021-06-16T06:16:16.736997Z",
     "iopub.status.busy": "2021-06-16T06:16:16.736224Z",
     "iopub.status.idle": "2021-06-16T06:16:18.809124Z",
     "shell.execute_reply": "2021-06-16T06:16:18.809666Z",
     "shell.execute_reply.started": "2021-06-16T06:07:49.707403Z"
    },
    "papermill": {
     "duration": 2.121301,
     "end_time": "2021-06-16T06:16:18.809919",
     "exception": false,
     "start_time": "2021-06-16T06:16:16.688618",
     "status": "completed"
    },
    "tags": []
   },
   "outputs": [
    {
     "data": {
      "image/png": "[encoded data removed]",
      "text/plain": [
       "<Figure size 1440x1440 with 36 Axes>"
      ]
     },
     "metadata": {
      "needs_background": "light"
     },
     "output_type": "display_data"
    }
   ],
   "source": [
    "fig , axes = plt.subplots(6, 6, figsize=(20,20))\n",
    "\n",
    "x_idx = 0\n",
    "y_idx = 0\n",
    "\n",
    "for i in range(6*6):\n",
    "    if x_idx == 6:\n",
    "        x_idx = 0\n",
    "        y_idx += 1\n",
    "        \n",
    "    axes[y_idx][x_idx].imshow(x_train[i].reshape(28,28), 'gray')\n",
    "    axes[y_idx][x_idx].axis(\"off\")\n",
    "    axes[y_idx][x_idx].set_title(\"Target : \" + str(y_train[i]))\n",
    "    x_idx += 1\n",
    "\n",
    "plt.show()"
   ]
  },
  {
   "cell_type": "markdown",
   "id": "early-saskatchewan",
   "metadata": {
    "papermill": {
     "duration": 0.026479,
     "end_time": "2021-06-16T06:16:18.864070",
     "exception": false,
     "start_time": "2021-06-16T06:16:18.837591",
     "status": "completed"
    },
    "tags": []
   },
   "source": [
    "1) as type to float 32 / int 64\n",
    "2) is label\n",
    "3) "
   ]
  },
  {
   "cell_type": "code",
   "execution_count": 10,
   "id": "engaged-beads",
   "metadata": {
    "execution": {
     "iopub.execute_input": "2021-06-16T06:16:18.924340Z",
     "iopub.status.busy": "2021-06-16T06:16:18.923478Z",
     "iopub.status.idle": "2021-06-16T06:16:18.927174Z",
     "shell.execute_reply": "2021-06-16T06:16:18.926586Z",
     "shell.execute_reply.started": "2021-06-16T06:07:51.337522Z"
    },
    "papermill": {
     "duration": 0.037089,
     "end_time": "2021-06-16T06:16:18.927310",
     "exception": false,
     "start_time": "2021-06-16T06:16:18.890221",
     "status": "completed"
    },
    "tags": []
   },
   "outputs": [],
   "source": [
    "class BasicDataset(torch.utils.data.Dataset):\n",
    "    def __init__(self,x_data, y_data=None):\n",
    "        self.x = self.get_float_type(x_data)\n",
    "        self.y = self.get_long_type(y_data)\n",
    "        \n",
    "        \n",
    "    def __len__(self):\n",
    "        return len(self.x)\n",
    "    \n",
    "    \n",
    "    def __getitem__(self, index):\n",
    "        global data\n",
    "        data = {}\n",
    "        \n",
    "        x_row = self.x[index]\n",
    "        data['data'] = x_row\n",
    "    \n",
    "        if self.y[index] != None: \n",
    "            y_row = self.y[index]\n",
    "            data['target'] = y_row\n",
    "            \n",
    "        return data\n",
    "    \n",
    "        \n",
    "    def get_float_type(self, data):\n",
    "        data = data.astype('float32')\n",
    "        data /= 255\n",
    "        data = data.reshape(-1, 1, 28, 28)\n",
    "        return data\n",
    "    \n",
    "    def get_long_type(self, target):\n",
    "        target = target.astype(torch.LongTensor)\n",
    "        return target"
   ]
  },
  {
   "cell_type": "code",
   "execution_count": 11,
   "id": "external-jacob",
   "metadata": {
    "execution": {
     "iopub.execute_input": "2021-06-16T06:16:19.020425Z",
     "iopub.status.busy": "2021-06-16T06:16:19.015143Z",
     "iopub.status.idle": "2021-06-16T06:16:19.140357Z",
     "shell.execute_reply": "2021-06-16T06:16:19.141168Z",
     "shell.execute_reply.started": "2021-06-16T06:07:51.411101Z"
    },
    "papermill": {
     "duration": 0.184592,
     "end_time": "2021-06-16T06:16:19.141382",
     "exception": false,
     "start_time": "2021-06-16T06:16:18.956790",
     "status": "completed"
    },
    "tags": []
   },
   "outputs": [],
   "source": [
    "train_dataset = BasicDataset(x_train, y_train)\n",
    "val_dataset = BasicDataset(x_val, y_val)"
   ]
  },
  {
   "cell_type": "code",
   "execution_count": 12,
   "id": "portuguese-prophet",
   "metadata": {
    "execution": {
     "iopub.execute_input": "2021-06-16T06:16:19.257159Z",
     "iopub.status.busy": "2021-06-16T06:16:19.251869Z",
     "iopub.status.idle": "2021-06-16T06:16:19.272346Z",
     "shell.execute_reply": "2021-06-16T06:16:19.273199Z",
     "shell.execute_reply.started": "2021-06-16T06:07:51.922223Z"
    },
    "papermill": {
     "duration": 0.083749,
     "end_time": "2021-06-16T06:16:19.273508",
     "exception": false,
     "start_time": "2021-06-16T06:16:19.189759",
     "status": "completed"
    },
    "tags": []
   },
   "outputs": [
    {
     "name": "stdout",
     "output_type": "stream",
     "text": [
      "Data of train dataset : [[[0.         0.         0.         0.         0.         0.\n",
      "   0.         0.         0.         0.         0.         0.\n",
      "   0.         0.         0.         0.         0.         0.\n",
      "   0.         0.         0.         0.         0.         0.\n",
      "   0.         0.         0.         0.        ]\n",
      "  [0.         0.         0.         0.         0.         0.\n",
      "   0.         0.         0.         0.         0.         0.\n",
      "   0.         0.         0.         0.         0.         0.\n",
      "   0.         0.         0.         0.         0.         0.\n",
      "   0.         0.         0.         0.        ]\n",
      "  [0.         0.         0.         0.         0.         0.\n",
      "   0.         0.         0.         0.         0.         0.\n",
      "   0.         0.         0.         0.         0.         0.\n",
      "   0.         0.         0.         0.         0.         0.\n",
      "   0.         0.         0.         0.        ]\n",
      "  [0.         0.         0.         0.         0.         0.\n",
      "   0.         0.         0.         0.         0.         0.\n",
      "   0.         0.         0.         0.         0.         0.\n",
      "   0.         0.         0.         0.         0.         0.\n",
      "   0.         0.         0.         0.        ]\n",
      "  [0.         0.         0.         0.         0.         0.\n",
      "   0.         0.         0.         0.         0.         0.\n",
      "   0.         0.         0.         0.         0.         0.\n",
      "   0.         0.         0.         0.         0.         0.\n",
      "   0.         0.         0.         0.        ]\n",
      "  [0.         0.         0.         0.         0.         0.11372549\n",
      "   0.33333334 0.3372549  0.33333334 0.3372549  0.33333334 0.3372549\n",
      "   0.33333334 0.3372549  0.33333334 0.3372549  0.33333334 0.\n",
      "   0.         0.         0.         0.         0.         0.\n",
      "   0.         0.         0.         0.        ]\n",
      "  [0.         0.         0.         0.         0.         0.77254903\n",
      "   0.9843137  0.99215686 0.9843137  0.99215686 0.9843137  0.99215686\n",
      "   0.9843137  0.99215686 0.9843137  0.99215686 0.9843137  0.6627451\n",
      "   0.65882355 0.         0.         0.         0.         0.\n",
      "   0.         0.         0.         0.        ]\n",
      "  [0.         0.         0.         0.         0.         1.\n",
      "   0.99215686 0.99607843 0.99215686 0.99607843 0.99215686 0.99607843\n",
      "   0.99215686 0.99607843 0.99215686 0.99607843 0.99215686 0.99607843\n",
      "   0.99215686 0.99607843 0.99215686 0.22352941 0.         0.\n",
      "   0.         0.         0.         0.        ]\n",
      "  [0.         0.         0.         0.         0.         0.99215686\n",
      "   0.9843137  0.99215686 0.9843137  0.99215686 0.9843137  0.99215686\n",
      "   0.9843137  0.99215686 0.9843137  0.99215686 0.9843137  0.99215686\n",
      "   0.9843137  0.99215686 0.9843137  0.88235295 0.21960784 0.\n",
      "   0.         0.         0.         0.        ]\n",
      "  [0.         0.         0.         0.         0.         1.\n",
      "   0.99215686 0.99607843 0.99215686 0.99607843 0.99215686 0.8862745\n",
      "   0.65882355 0.         0.         0.6627451  0.21960784 0.7764706\n",
      "   0.99215686 0.99607843 0.99215686 0.99607843 0.99215686 0.22352941\n",
      "   0.         0.         0.         0.        ]\n",
      "  [0.         0.         0.         0.         0.         0.99215686\n",
      "   0.9843137  0.99215686 0.9843137  0.99215686 0.9843137  0.21960784\n",
      "   0.         0.         0.         0.         0.         0.10980392\n",
      "   0.76862746 0.99215686 0.9843137  0.99215686 0.9843137  0.88235295\n",
      "   0.21960784 0.         0.         0.        ]\n",
      "  [0.         0.         0.         0.         0.         1.\n",
      "   0.99215686 0.99607843 0.99215686 0.99607843 0.99215686 0.\n",
      "   0.         0.         0.         0.         0.         0.\n",
      "   0.44705883 0.99607843 0.99215686 0.99607843 0.99215686 0.99607843\n",
      "   0.99215686 0.         0.         0.        ]\n",
      "  [0.         0.         0.         0.         0.         0.99215686\n",
      "   0.9843137  0.99215686 0.9843137  0.99215686 0.9843137  0.\n",
      "   0.         0.         0.         0.         0.         0.\n",
      "   0.         0.99215686 0.9843137  0.99215686 0.9843137  0.99215686\n",
      "   0.9843137  0.         0.         0.        ]\n",
      "  [0.         0.         0.         0.         0.         0.99607843\n",
      "   0.99215686 0.99607843 0.99215686 0.99607843 0.99215686 0.\n",
      "   0.         0.         0.         0.         0.         0.\n",
      "   0.6627451  0.99607843 0.99215686 0.99607843 0.99215686 0.99607843\n",
      "   0.99215686 0.         0.         0.        ]\n",
      "  [0.         0.         0.         0.         0.         0.99215686\n",
      "   0.9843137  0.99215686 0.9843137  0.99215686 0.9843137  0.\n",
      "   0.         0.         0.         0.         0.         0.\n",
      "   0.65882355 0.99215686 0.9843137  0.99215686 0.9843137  0.99215686\n",
      "   0.9843137  0.         0.         0.        ]\n",
      "  [0.         0.         0.         0.         0.         0.99607843\n",
      "   0.99215686 0.99607843 0.99215686 0.99607843 0.99215686 0.\n",
      "   0.         0.         0.         0.         0.         0.11372549\n",
      "   0.77254903 0.99607843 0.99215686 0.99607843 0.99215686 0.99607843\n",
      "   0.99215686 0.         0.         0.        ]\n",
      "  [0.         0.         0.         0.         0.         0.99215686\n",
      "   0.9843137  0.99215686 0.9843137  0.99215686 0.9843137  0.\n",
      "   0.         0.         0.         0.         0.         0.33333334\n",
      "   0.9843137  0.99215686 0.9843137  0.99215686 0.9843137  0.99215686\n",
      "   0.9843137  0.         0.         0.        ]\n",
      "  [0.         0.         0.         0.         0.         0.6627451\n",
      "   0.88235295 0.99607843 0.99215686 0.99607843 0.99215686 0.7764706\n",
      "   0.10980392 0.         0.         0.         0.22352941 0.99607843\n",
      "   0.99215686 0.99607843 0.99215686 0.99607843 0.99215686 0.99607843\n",
      "   0.32941177 0.         0.         0.        ]\n",
      "  [0.         0.         0.         0.         0.         0.\n",
      "   0.21960784 0.99215686 0.9843137  0.99215686 0.9843137  0.99215686\n",
      "   0.3254902  0.         0.         0.6627451  0.8784314  0.99215686\n",
      "   0.9843137  0.99215686 0.9843137  0.99215686 0.9843137  0.76862746\n",
      "   0.10980392 0.         0.         0.        ]\n",
      "  [0.         0.         0.         0.         0.         0.\n",
      "   0.         0.99607843 0.99215686 0.99607843 0.99215686 0.99607843\n",
      "   0.99215686 0.99607843 0.99215686 0.99607843 0.99215686 0.99607843\n",
      "   0.99215686 0.99607843 0.99215686 0.99607843 0.99215686 0.\n",
      "   0.         0.         0.         0.        ]\n",
      "  [0.         0.         0.         0.         0.         0.\n",
      "   0.         0.54509807 0.9843137  0.99215686 0.9843137  0.99215686\n",
      "   0.9843137  0.99215686 0.9843137  0.99215686 0.9843137  0.99215686\n",
      "   0.9843137  0.99215686 0.9843137  0.99215686 0.9843137  0.\n",
      "   0.         0.         0.         0.        ]\n",
      "  [0.         0.         0.         0.         0.         0.\n",
      "   0.         0.         0.44705883 0.99607843 0.99215686 0.99607843\n",
      "   0.99215686 0.99607843 0.99215686 0.99607843 0.99215686 0.99607843\n",
      "   0.99215686 0.99607843 0.99215686 0.6627451  0.21960784 0.\n",
      "   0.         0.         0.         0.        ]\n",
      "  [0.         0.         0.         0.         0.         0.\n",
      "   0.         0.         0.         0.32941177 0.76862746 0.99215686\n",
      "   0.9843137  0.99215686 0.9843137  0.99215686 0.9843137  0.99215686\n",
      "   0.9843137  0.32941177 0.3254902  0.         0.         0.\n",
      "   0.         0.         0.         0.        ]\n",
      "  [0.         0.         0.         0.         0.         0.\n",
      "   0.         0.         0.         0.         0.         0.\n",
      "   0.         0.         0.44705883 0.6627451  0.65882355 0.\n",
      "   0.         0.         0.         0.         0.         0.\n",
      "   0.         0.         0.         0.        ]\n",
      "  [0.         0.         0.         0.         0.         0.\n",
      "   0.         0.         0.         0.         0.         0.\n",
      "   0.         0.         0.         0.         0.         0.\n",
      "   0.         0.         0.         0.         0.         0.\n",
      "   0.         0.         0.         0.        ]\n",
      "  [0.         0.         0.         0.         0.         0.\n",
      "   0.         0.         0.         0.         0.         0.\n",
      "   0.         0.         0.         0.         0.         0.\n",
      "   0.         0.         0.         0.         0.         0.\n",
      "   0.         0.         0.         0.        ]\n",
      "  [0.         0.         0.         0.         0.         0.\n",
      "   0.         0.         0.         0.         0.         0.\n",
      "   0.         0.         0.         0.         0.         0.\n",
      "   0.         0.         0.         0.         0.         0.\n",
      "   0.         0.         0.         0.        ]\n",
      "  [0.         0.         0.         0.         0.         0.\n",
      "   0.         0.         0.         0.         0.         0.\n",
      "   0.         0.         0.         0.         0.         0.\n",
      "   0.         0.         0.         0.         0.         0.\n",
      "   0.         0.         0.         0.        ]]]\n",
      "Target of train dataset : 0\n"
     ]
    }
   ],
   "source": [
    "print(\"Data of train dataset : {}\".format(train_dataset[0]['data']))\n",
    "print(\"Target of train dataset : {}\".format(train_dataset[0]['target']))"
   ]
  },
  {
   "cell_type": "code",
   "execution_count": 13,
   "id": "decreased-requirement",
   "metadata": {
    "execution": {
     "iopub.execute_input": "2021-06-16T06:16:19.390140Z",
     "iopub.status.busy": "2021-06-16T06:16:19.387283Z",
     "iopub.status.idle": "2021-06-16T06:16:19.391219Z",
     "shell.execute_reply": "2021-06-16T06:16:19.392033Z",
     "shell.execute_reply.started": "2021-06-16T06:07:52.930100Z"
    },
    "papermill": {
     "duration": 0.062632,
     "end_time": "2021-06-16T06:16:19.392253",
     "exception": false,
     "start_time": "2021-06-16T06:16:19.329621",
     "status": "completed"
    },
    "tags": []
   },
   "outputs": [],
   "source": [
    "BATCH_SIZE = 100"
   ]
  },
  {
   "cell_type": "code",
   "execution_count": 14,
   "id": "experimental-keyboard",
   "metadata": {
    "execution": {
     "iopub.execute_input": "2021-06-16T06:16:19.492351Z",
     "iopub.status.busy": "2021-06-16T06:16:19.489898Z",
     "iopub.status.idle": "2021-06-16T06:16:19.493353Z",
     "shell.execute_reply": "2021-06-16T06:16:19.494113Z",
     "shell.execute_reply.started": "2021-06-16T06:07:53.979249Z"
    },
    "papermill": {
     "duration": 0.05621,
     "end_time": "2021-06-16T06:16:19.494317",
     "exception": false,
     "start_time": "2021-06-16T06:16:19.438107",
     "status": "completed"
    },
    "tags": []
   },
   "outputs": [],
   "source": [
    "train_loader = DataLoader(train_dataset, batch_size=BATCH_SIZE, shuffle = True)\n",
    "val_loader = DataLoader(val_dataset, batch_size=BATCH_SIZE, shuffle = False)"
   ]
  },
  {
   "cell_type": "code",
   "execution_count": 15,
   "id": "dangerous-electricity",
   "metadata": {
    "execution": {
     "iopub.execute_input": "2021-06-16T06:16:19.595110Z",
     "iopub.status.busy": "2021-06-16T06:16:19.594047Z",
     "iopub.status.idle": "2021-06-16T06:16:19.596850Z",
     "shell.execute_reply": "2021-06-16T06:16:19.595972Z",
     "shell.execute_reply.started": "2021-06-16T06:07:55.380318Z"
    },
    "papermill": {
     "duration": 0.057587,
     "end_time": "2021-06-16T06:16:19.597057",
     "exception": false,
     "start_time": "2021-06-16T06:16:19.539470",
     "status": "completed"
    },
    "tags": []
   },
   "outputs": [],
   "source": [
    "dataloaders_dict = {\"train\": train_loader, \"val\": val_loader}"
   ]
  },
  {
   "cell_type": "code",
   "execution_count": 16,
   "id": "missing-shelter",
   "metadata": {
    "execution": {
     "iopub.execute_input": "2021-06-16T06:16:19.672127Z",
     "iopub.status.busy": "2021-06-16T06:16:19.671376Z",
     "iopub.status.idle": "2021-06-16T06:16:19.675429Z",
     "shell.execute_reply": "2021-06-16T06:16:19.674840Z",
     "shell.execute_reply.started": "2021-06-16T06:07:56.271800Z"
    },
    "papermill": {
     "duration": 0.039766,
     "end_time": "2021-06-16T06:16:19.675579",
     "exception": false,
     "start_time": "2021-06-16T06:16:19.635813",
     "status": "completed"
    },
    "tags": []
   },
   "outputs": [],
   "source": [
    "class BasicCNN(nn.Module):\n",
    "    def __init__(self, input_dim, hidden_dim_1, hidden_dim_2, output):\n",
    "        super(BasicCNN, self).__init__()\n",
    "        \n",
    "        self.convolution_layer = nn.Sequential(\n",
    "            nn.Conv2d(input_dim, hidden_dim_1, 3, 1, 0),\n",
    "            nn.ReLU(),\n",
    "            nn.MaxPool2d(2,2),\n",
    "            nn.Conv2d(hidden_dim_1, hidden_dim_2, 3, 1, 0),\n",
    "            nn.ReLU(),\n",
    "            nn.MaxPool2d(2,2)    \n",
    "        )\n",
    "        self.fc_layer = nn.Sequential(\n",
    "            nn.Linear(1600, output),\n",
    "            nn.Softmax()\n",
    "        )\n",
    "    \n",
    "    def forward(self,x):\n",
    "        out = self.convolution_layer(x)\n",
    "        out = out.view(out.size(0),-1)\n",
    "        out = self.fc_layer(out)\n",
    "        return out"
   ]
  },
  {
   "cell_type": "code",
   "execution_count": 17,
   "id": "familiar-germany",
   "metadata": {
    "execution": {
     "iopub.execute_input": "2021-06-16T06:16:19.736090Z",
     "iopub.status.busy": "2021-06-16T06:16:19.735052Z",
     "iopub.status.idle": "2021-06-16T06:16:19.738725Z",
     "shell.execute_reply": "2021-06-16T06:16:19.738118Z",
     "shell.execute_reply.started": "2021-06-16T06:11:15.626835Z"
    },
    "papermill": {
     "duration": 0.035746,
     "end_time": "2021-06-16T06:16:19.738852",
     "exception": false,
     "start_time": "2021-06-16T06:16:19.703106",
     "status": "completed"
    },
    "tags": []
   },
   "outputs": [],
   "source": [
    "INPUT_DIM = 1\n",
    "HIDDEN_DIM_1 = 32\n",
    "HIDDEN_DIM_2 = 64\n",
    "OUTPUT = 10"
   ]
  },
  {
   "cell_type": "code",
   "execution_count": 18,
   "id": "widespread-cornell",
   "metadata": {
    "execution": {
     "iopub.execute_input": "2021-06-16T06:16:19.799477Z",
     "iopub.status.busy": "2021-06-16T06:16:19.798731Z",
     "iopub.status.idle": "2021-06-16T06:16:19.837598Z",
     "shell.execute_reply": "2021-06-16T06:16:19.838105Z",
     "shell.execute_reply.started": "2021-06-16T06:11:15.776180Z"
    },
    "papermill": {
     "duration": 0.071853,
     "end_time": "2021-06-16T06:16:19.838289",
     "exception": false,
     "start_time": "2021-06-16T06:16:19.766436",
     "status": "completed"
    },
    "tags": []
   },
   "outputs": [],
   "source": [
    "model = BasicCNN(INPUT_DIM, HIDDEN_DIM_1, HIDDEN_DIM_2, OUTPUT)"
   ]
  },
  {
   "cell_type": "code",
   "execution_count": 19,
   "id": "negative-climate",
   "metadata": {
    "execution": {
     "iopub.execute_input": "2021-06-16T06:16:19.897238Z",
     "iopub.status.busy": "2021-06-16T06:16:19.896390Z",
     "iopub.status.idle": "2021-06-16T06:16:19.902070Z",
     "shell.execute_reply": "2021-06-16T06:16:19.902930Z",
     "shell.execute_reply.started": "2021-06-16T06:11:15.985784Z"
    },
    "papermill": {
     "duration": 0.037834,
     "end_time": "2021-06-16T06:16:19.903255",
     "exception": false,
     "start_time": "2021-06-16T06:16:19.865421",
     "status": "completed"
    },
    "tags": []
   },
   "outputs": [
    {
     "name": "stdout",
     "output_type": "stream",
     "text": [
      "총 배치의 수 : 357\n"
     ]
    }
   ],
   "source": [
    "print(\"총 배치의 수 : {}\".format(len(train_loader)))"
   ]
  },
  {
   "cell_type": "code",
   "execution_count": 20,
   "id": "affecting-conversation",
   "metadata": {
    "execution": {
     "iopub.execute_input": "2021-06-16T06:16:20.020498Z",
     "iopub.status.busy": "2021-06-16T06:16:20.019517Z",
     "iopub.status.idle": "2021-06-16T06:16:20.025828Z",
     "shell.execute_reply": "2021-06-16T06:16:20.024820Z",
     "shell.execute_reply.started": "2021-06-16T06:11:16.170420Z"
    },
    "papermill": {
     "duration": 0.094971,
     "end_time": "2021-06-16T06:16:20.026041",
     "exception": false,
     "start_time": "2021-06-16T06:16:19.931070",
     "status": "completed"
    },
    "tags": []
   },
   "outputs": [
    {
     "name": "stdout",
     "output_type": "stream",
     "text": [
      "True\n",
      "A device that proceeds with :  cuda:0\n"
     ]
    }
   ],
   "source": [
    "USE_CUDA = torch.cuda.is_available()\n",
    "print(USE_CUDA)\n",
    "device = torch.device('cuda:0' if USE_CUDA else 'cpu')\n",
    "print('A device that proceeds with : ',device)"
   ]
  },
  {
   "cell_type": "code",
   "execution_count": 21,
   "id": "distinguished-module",
   "metadata": {
    "execution": {
     "iopub.execute_input": "2021-06-16T06:16:20.087996Z",
     "iopub.status.busy": "2021-06-16T06:16:20.087170Z",
     "iopub.status.idle": "2021-06-16T06:16:20.091520Z",
     "shell.execute_reply": "2021-06-16T06:16:20.092017Z",
     "shell.execute_reply.started": "2021-06-16T06:11:16.346715Z"
    },
    "papermill": {
     "duration": 0.037742,
     "end_time": "2021-06-16T06:16:20.092173",
     "exception": false,
     "start_time": "2021-06-16T06:16:20.054431",
     "status": "completed"
    },
    "tags": []
   },
   "outputs": [],
   "source": [
    "loss_fn = nn.CrossEntropyLoss()\n",
    "optimizer = optim.Adam(model.parameters(), lr=0.01)"
   ]
  },
  {
   "cell_type": "code",
   "execution_count": 22,
   "id": "super-concrete",
   "metadata": {
    "execution": {
     "iopub.execute_input": "2021-06-16T06:16:20.157440Z",
     "iopub.status.busy": "2021-06-16T06:16:20.156775Z",
     "iopub.status.idle": "2021-06-16T06:16:20.160147Z",
     "shell.execute_reply": "2021-06-16T06:16:20.160651Z",
     "shell.execute_reply.started": "2021-06-16T06:11:16.554423Z"
    },
    "papermill": {
     "duration": 0.041559,
     "end_time": "2021-06-16T06:16:20.160810",
     "exception": false,
     "start_time": "2021-06-16T06:16:20.119251",
     "status": "completed"
    },
    "tags": []
   },
   "outputs": [],
   "source": [
    "def train_model(model, dataloaders_dict, loss_fn, optimizer, num_epochs, filename):\n",
    "    model.to(device)\n",
    "\n",
    "    history ={'train_loss' : [],\n",
    "             'train_acc' : [],\n",
    "              'val_loss' : [],\n",
    "              'val_acc' : []\n",
    "             }\n",
    "    \n",
    "    for epoch in range(num_epochs):\n",
    "        for i, phase in enumerate(['train','val']):\n",
    "            if phase=='train':\n",
    "                model.train()\n",
    "            else:\n",
    "                model.eval()\n",
    "                \n",
    "            correct = 0\n",
    "            epoch_loss = 0\n",
    "            epoch_acc = 0 \n",
    "\n",
    "            for data in dataloaders_dict[phase]:\n",
    "                x_data = data['data'].to(device)\n",
    "                y_data = data['target'].to(device)\n",
    "\n",
    "                optimizer.zero_grad()\n",
    "\n",
    "                # 연산 추적\n",
    "                predict = model(x_data)\n",
    "                target = y_data\n",
    "                loss = loss_fn(predict, target)\n",
    "\n",
    "                if phase == 'train':\n",
    "                    loss.backward()\n",
    "                    optimizer.step()\n",
    "\n",
    "                epoch_loss += loss.item() * len(x_data)\n",
    "                correct += (target==predict.argmax(axis=1)).sum()\n",
    "                    \n",
    "            epoch_loss = epoch_loss / len(dataloaders_dict[phase].dataset)\n",
    "            epoch_acc = 100 * (correct / len(dataloaders_dict[phase].dataset))\n",
    "            print(\"{} : [{} / {}] Loss : {:.4f}  | Accuracy : {:.2f}%\".format(phase.upper(), epoch+1, num_epochs, epoch_loss, epoch_acc))\n",
    "            \n",
    "            history['{}_loss'.format(phase)].append(epoch_loss)\n",
    "            history['{}_acc'.format(phase)].append(epoch_acc)\n",
    "        print(\" \")\n",
    "    return history"
   ]
  },
  {
   "cell_type": "code",
   "execution_count": 23,
   "id": "packed-cheat",
   "metadata": {
    "execution": {
     "iopub.execute_input": "2021-06-16T06:16:20.219068Z",
     "iopub.status.busy": "2021-06-16T06:16:20.218049Z",
     "iopub.status.idle": "2021-06-16T06:16:20.221162Z",
     "shell.execute_reply": "2021-06-16T06:16:20.221623Z",
     "shell.execute_reply.started": "2021-06-16T06:11:16.774966Z"
    },
    "papermill": {
     "duration": 0.034347,
     "end_time": "2021-06-16T06:16:20.221776",
     "exception": false,
     "start_time": "2021-06-16T06:16:20.187429",
     "status": "completed"
    },
    "tags": []
   },
   "outputs": [],
   "source": [
    "NUM_EPOCHS = 50\n",
    "SAVE_MODEL_PATH = f'cnn.pth'"
   ]
  },
  {
   "cell_type": "code",
   "execution_count": 24,
   "id": "instrumental-campaign",
   "metadata": {
    "execution": {
     "iopub.execute_input": "2021-06-16T06:16:20.284563Z",
     "iopub.status.busy": "2021-06-16T06:16:20.283842Z",
     "iopub.status.idle": "2021-06-16T06:18:17.295134Z",
     "shell.execute_reply": "2021-06-16T06:18:17.296354Z",
     "shell.execute_reply.started": "2021-06-16T06:11:17.097809Z"
    },
    "papermill": {
     "duration": 117.048498,
     "end_time": "2021-06-16T06:18:17.296690",
     "exception": false,
     "start_time": "2021-06-16T06:16:20.248192",
     "status": "completed"
    },
    "tags": []
   },
   "outputs": [
    {
     "name": "stderr",
     "output_type": "stream",
     "text": [
      "/opt/conda/lib/python3.7/site-packages/torch/nn/modules/container.py:117: UserWarning: Implicit dimension choice for softmax has been deprecated. Change the call to include dim=X as an argument.\n",
      "  input = module(input)\n"
     ]
    },
    {
     "name": "stdout",
     "output_type": "stream",
     "text": [
      "TRAIN : [1 / 50] Loss : 1.8994  | Accuracy : 55.76%\n",
      "VAL : [1 / 50] Loss : 1.7702  | Accuracy : 68.90%\n",
      " \n",
      "TRAIN : [2 / 50] Loss : 1.7437  | Accuracy : 71.55%\n",
      "VAL : [2 / 50] Loss : 1.6808  | Accuracy : 77.95%\n",
      " \n",
      "TRAIN : [3 / 50] Loss : 1.6755  | Accuracy : 78.48%\n",
      "VAL : [3 / 50] Loss : 1.6764  | Accuracy : 78.35%\n",
      " \n",
      "TRAIN : [4 / 50] Loss : 1.6756  | Accuracy : 78.51%\n",
      "VAL : [4 / 50] Loss : 1.6755  | Accuracy : 78.49%\n",
      " \n",
      "TRAIN : [5 / 50] Loss : 1.6750  | Accuracy : 78.57%\n",
      "VAL : [5 / 50] Loss : 1.6809  | Accuracy : 78.02%\n",
      " \n",
      "TRAIN : [6 / 50] Loss : 1.6759  | Accuracy : 78.49%\n",
      "VAL : [6 / 50] Loss : 1.6758  | Accuracy : 78.52%\n",
      " \n",
      "TRAIN : [7 / 50] Loss : 1.6749  | Accuracy : 78.59%\n",
      "VAL : [7 / 50] Loss : 1.6813  | Accuracy : 77.97%\n",
      " \n",
      "TRAIN : [8 / 50] Loss : 1.6745  | Accuracy : 78.65%\n",
      "VAL : [8 / 50] Loss : 1.6752  | Accuracy : 78.59%\n",
      " \n",
      "TRAIN : [9 / 50] Loss : 1.6764  | Accuracy : 78.45%\n",
      "VAL : [9 / 50] Loss : 1.6731  | Accuracy : 78.79%\n",
      " \n",
      "TRAIN : [10 / 50] Loss : 1.6767  | Accuracy : 78.43%\n",
      "VAL : [10 / 50] Loss : 1.6806  | Accuracy : 78.05%\n",
      " \n",
      "TRAIN : [11 / 50] Loss : 1.6547  | Accuracy : 80.63%\n",
      "VAL : [11 / 50] Loss : 1.5836  | Accuracy : 87.76%\n",
      " \n",
      "TRAIN : [12 / 50] Loss : 1.5875  | Accuracy : 87.35%\n",
      "VAL : [12 / 50] Loss : 1.5791  | Accuracy : 88.19%\n",
      " \n",
      "TRAIN : [13 / 50] Loss : 1.5821  | Accuracy : 87.90%\n",
      "VAL : [13 / 50] Loss : 1.5774  | Accuracy : 88.37%\n",
      " \n",
      "TRAIN : [14 / 50] Loss : 1.5787  | Accuracy : 88.24%\n",
      "VAL : [14 / 50] Loss : 1.5805  | Accuracy : 88.05%\n",
      " \n",
      "TRAIN : [15 / 50] Loss : 1.5755  | Accuracy : 88.57%\n",
      "VAL : [15 / 50] Loss : 1.5755  | Accuracy : 88.54%\n",
      " \n",
      "TRAIN : [16 / 50] Loss : 1.5800  | Accuracy : 88.11%\n",
      "VAL : [16 / 50] Loss : 1.5771  | Accuracy : 88.40%\n",
      " \n",
      "TRAIN : [17 / 50] Loss : 1.5826  | Accuracy : 87.85%\n",
      "VAL : [17 / 50] Loss : 1.5798  | Accuracy : 88.13%\n",
      " \n",
      "TRAIN : [18 / 50] Loss : 1.5816  | Accuracy : 87.95%\n",
      "VAL : [18 / 50] Loss : 1.5788  | Accuracy : 88.24%\n",
      " \n",
      "TRAIN : [19 / 50] Loss : 1.5826  | Accuracy : 87.84%\n",
      "VAL : [19 / 50] Loss : 1.5738  | Accuracy : 88.73%\n",
      " \n",
      "TRAIN : [20 / 50] Loss : 1.5772  | Accuracy : 88.39%\n",
      "VAL : [20 / 50] Loss : 1.5760  | Accuracy : 88.51%\n",
      " \n",
      "TRAIN : [21 / 50] Loss : 1.5838  | Accuracy : 87.73%\n",
      "VAL : [21 / 50] Loss : 1.5759  | Accuracy : 88.51%\n",
      " \n",
      "TRAIN : [22 / 50] Loss : 1.5791  | Accuracy : 88.20%\n",
      "VAL : [22 / 50] Loss : 1.5749  | Accuracy : 88.63%\n",
      " \n",
      "TRAIN : [23 / 50] Loss : 1.5793  | Accuracy : 88.19%\n",
      "VAL : [23 / 50] Loss : 1.5718  | Accuracy : 88.94%\n",
      " \n",
      "TRAIN : [24 / 50] Loss : 1.5776  | Accuracy : 88.35%\n",
      "VAL : [24 / 50] Loss : 1.5740  | Accuracy : 88.71%\n",
      " \n",
      "TRAIN : [25 / 50] Loss : 1.5798  | Accuracy : 88.12%\n",
      "VAL : [25 / 50] Loss : 1.5727  | Accuracy : 88.84%\n",
      " \n",
      "TRAIN : [26 / 50] Loss : 1.5769  | Accuracy : 88.42%\n",
      "VAL : [26 / 50] Loss : 1.5725  | Accuracy : 88.86%\n",
      " \n",
      "TRAIN : [27 / 50] Loss : 1.5813  | Accuracy : 87.99%\n",
      "VAL : [27 / 50] Loss : 1.5706  | Accuracy : 89.05%\n",
      " \n",
      "TRAIN : [28 / 50] Loss : 1.5801  | Accuracy : 88.10%\n",
      "VAL : [28 / 50] Loss : 1.5719  | Accuracy : 88.92%\n",
      " \n",
      "TRAIN : [29 / 50] Loss : 1.5760  | Accuracy : 88.51%\n",
      "VAL : [29 / 50] Loss : 1.5714  | Accuracy : 88.97%\n",
      " \n",
      "TRAIN : [30 / 50] Loss : 1.5763  | Accuracy : 88.47%\n",
      "VAL : [30 / 50] Loss : 1.5749  | Accuracy : 88.62%\n",
      " \n",
      "TRAIN : [31 / 50] Loss : 1.5851  | Accuracy : 87.60%\n",
      "VAL : [31 / 50] Loss : 1.5799  | Accuracy : 88.11%\n",
      " \n",
      "TRAIN : [32 / 50] Loss : 1.5845  | Accuracy : 87.67%\n",
      "VAL : [32 / 50] Loss : 1.5754  | Accuracy : 88.57%\n",
      " \n",
      "TRAIN : [33 / 50] Loss : 1.5778  | Accuracy : 88.33%\n",
      "VAL : [33 / 50] Loss : 1.5718  | Accuracy : 88.94%\n",
      " \n",
      "TRAIN : [34 / 50] Loss : 1.5824  | Accuracy : 87.87%\n",
      "VAL : [34 / 50] Loss : 1.5766  | Accuracy : 88.44%\n",
      " \n",
      "TRAIN : [35 / 50] Loss : 1.5774  | Accuracy : 88.38%\n",
      "VAL : [35 / 50] Loss : 1.5711  | Accuracy : 89.00%\n",
      " \n",
      "TRAIN : [36 / 50] Loss : 1.5803  | Accuracy : 88.09%\n",
      "VAL : [36 / 50] Loss : 1.5814  | Accuracy : 87.97%\n",
      " \n",
      "TRAIN : [37 / 50] Loss : 1.5793  | Accuracy : 88.18%\n",
      "VAL : [37 / 50] Loss : 1.5747  | Accuracy : 88.63%\n",
      " \n",
      "TRAIN : [38 / 50] Loss : 1.5826  | Accuracy : 87.84%\n",
      "VAL : [38 / 50] Loss : 1.5793  | Accuracy : 88.17%\n",
      " \n",
      "TRAIN : [39 / 50] Loss : 1.5817  | Accuracy : 87.95%\n",
      "VAL : [39 / 50] Loss : 1.5788  | Accuracy : 88.22%\n",
      " \n",
      "TRAIN : [40 / 50] Loss : 1.5753  | Accuracy : 88.58%\n",
      "VAL : [40 / 50] Loss : 1.5716  | Accuracy : 88.94%\n",
      " \n",
      "TRAIN : [41 / 50] Loss : 1.5797  | Accuracy : 88.15%\n",
      "VAL : [41 / 50] Loss : 1.5684  | Accuracy : 89.29%\n",
      " \n",
      "TRAIN : [42 / 50] Loss : 1.5741  | Accuracy : 88.71%\n",
      "VAL : [42 / 50] Loss : 1.5735  | Accuracy : 88.76%\n",
      " \n",
      "TRAIN : [43 / 50] Loss : 1.5821  | Accuracy : 87.90%\n",
      "VAL : [43 / 50] Loss : 1.5800  | Accuracy : 88.11%\n",
      " \n",
      "TRAIN : [44 / 50] Loss : 1.5858  | Accuracy : 87.54%\n",
      "VAL : [44 / 50] Loss : 1.5767  | Accuracy : 88.44%\n",
      " \n",
      "TRAIN : [45 / 50] Loss : 1.5799  | Accuracy : 88.12%\n",
      "VAL : [45 / 50] Loss : 1.5832  | Accuracy : 87.78%\n",
      " \n",
      "TRAIN : [46 / 50] Loss : 1.5916  | Accuracy : 86.95%\n",
      "VAL : [46 / 50] Loss : 1.5885  | Accuracy : 87.25%\n",
      " \n",
      "TRAIN : [47 / 50] Loss : 1.5909  | Accuracy : 87.03%\n",
      "VAL : [47 / 50] Loss : 1.5754  | Accuracy : 88.57%\n",
      " \n",
      "TRAIN : [48 / 50] Loss : 1.5860  | Accuracy : 87.51%\n",
      "VAL : [48 / 50] Loss : 1.6060  | Accuracy : 85.51%\n",
      " \n",
      "TRAIN : [49 / 50] Loss : 1.5883  | Accuracy : 87.28%\n",
      "VAL : [49 / 50] Loss : 1.5761  | Accuracy : 88.51%\n",
      " \n",
      "TRAIN : [50 / 50] Loss : 1.5755  | Accuracy : 88.57%\n",
      "VAL : [50 / 50] Loss : 1.5753  | Accuracy : 88.59%\n",
      " \n"
     ]
    }
   ],
   "source": [
    "history = train_model(\n",
    "    model,\n",
    "    dataloaders_dict,\n",
    "    loss_fn, \n",
    "    optimizer,\n",
    "    NUM_EPOCHS,\n",
    "    SAVE_MODEL_PATH\n",
    "    )"
   ]
  },
  {
   "cell_type": "code",
   "execution_count": 25,
   "id": "noble-formation",
   "metadata": {
    "execution": {
     "iopub.execute_input": "2021-06-16T06:18:17.424568Z",
     "iopub.status.busy": "2021-06-16T06:18:17.423357Z",
     "iopub.status.idle": "2021-06-16T06:18:17.809983Z",
     "shell.execute_reply": "2021-06-16T06:18:17.810549Z",
     "shell.execute_reply.started": "2021-06-16T06:14:31.848875Z"
    },
    "papermill": {
     "duration": 0.465589,
     "end_time": "2021-06-16T06:18:17.810733",
     "exception": false,
     "start_time": "2021-06-16T06:18:17.345144",
     "status": "completed"
    },
    "tags": []
   },
   "outputs": [
    {
     "data": {
      "image/png": "[encoded data removed]",
      "text/plain": [
       "<Figure size 1296x576 with 2 Axes>"
      ]
     },
     "metadata": {
      "needs_background": "light"
     },
     "output_type": "display_data"
    }
   ],
   "source": [
    "fig, axes = plt.subplots(1,2, figsize=(18,8))\n",
    "axes[0].plot(history['train_loss'],label='train_loss')\n",
    "axes[0].plot(history['val_loss'], label='val_loss')\n",
    "axes[0].set_xticks(np.arange(0,NUM_EPOCHS,5))\n",
    "axes[0].legend()\n",
    "\n",
    "\n",
    "axes[1].plot(history['train_acc'], label='train_acc')\n",
    "axes[1].plot(history['val_acc'], label='val_acc')\n",
    "axes[1].set_xticks(np.arange(0,NUM_EPOCHS,5))\n",
    "axes[1].legend()\n",
    "\n",
    "plt.show()"
   ]
  }
 ],
 "metadata": {
  "kernelspec": {
   "display_name": "Python 3",
   "language": "python",
   "name": "python3"
  },
  "language_info": {
   "codemirror_mode": {
    "name": "ipython",
    "version": 3
   },
   "file_extension": ".py",
   "mimetype": "text/x-python",
   "name": "python",
   "nbconvert_exporter": "python",
   "pygments_lexer": "ipython3",
   "version": "3.7.10"
  },
  "papermill": {
   "default_parameters": {},
   "duration": 140.922331,
   "end_time": "2021-06-16T06:18:19.398604",
   "environment_variables": {},
   "exception": null,
   "input_path": "__notebook__.ipynb",
   "output_path": "__notebook__.ipynb",
   "parameters": {},
   "start_time": "2021-06-16T06:15:58.476273",
   "version": "2.3.3"
  }
 },
 "nbformat": 4,
 "nbformat_minor": 5
}

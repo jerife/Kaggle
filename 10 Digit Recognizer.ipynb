{
 "cells": [
  {
   "attachments": {
    "033ef31e-d3ff-4c86-9408-39d539b36845.jpg": {
     "image/jpeg": "[encoded data removed]"
    }
   },
   "cell_type": "markdown",
   "id": "illegal-february",
   "metadata": {
    "papermill": {
     "duration": 0.044706,
     "end_time": "2021-06-26T05:54:30.349951",
     "exception": false,
     "start_time": "2021-06-26T05:54:30.305245",
     "status": "completed"
    },
    "tags": []
   },
   "source": [
    "![68222222101258.jpg](attachment:033ef31e-d3ff-4c86-9408-39d539b36845.jpg)\n",
    "# Digit Recognizer\n",
    "\n",
    "## Overview\n",
    "This competition uses the most basic mnist data in deep learning. We need to create a model to classify the numbers in the image. <br/>\n",
    "You can use other techniques instead of deep learning. However, this notebook will be written based on deep learning. <br/>\n",
    "In addition, we will use \"Pytorch\" among the frameworks that enable deep learning.\n",
    "\n",
    "#### My opinion :\n",
    "* 1) I think it is important to use various techniques and get used to deep learning through this competition.\n",
    "* 2) This book will model **Basic CNN / ResNet / DenseNet** :)"
   ]
  },
  {
   "cell_type": "markdown",
   "id": "unusual-general",
   "metadata": {
    "papermill": {
     "duration": 0.042501,
     "end_time": "2021-06-26T05:54:30.435378",
     "exception": false,
     "start_time": "2021-06-26T05:54:30.392877",
     "status": "completed"
    },
    "tags": []
   },
   "source": [
    "***\n",
    "## My Workflow\n",
    "\n",
    "#### 1. Import & Install libray\n",
    "* Import Basic libray\n",
    "* Import Enginnering libray\n",
    "\n",
    "#### 2. Check out my data\n",
    "* Check Shape / Info / Describe\n",
    "\n",
    "#### 3. Exploratory Data Analysis(EDA) with Visualization [Before Preprocessing]\n",
    "* Plot the null values\n",
    "* Plot the label Percent\n",
    "* Plot the image Data\n",
    "\n",
    "#### 4. Feature Enginnering\n",
    "* Split Train set / Validation set\n",
    "* Convert to data suitable for CNN model (Dataset / Dataloader)\n",
    "\n",
    "#### 5.Modeling\n",
    "* CNN Modeling\n",
    "* ResNet Modeling\n",
    "* DenseNet Modeling\n",
    "* Training\n",
    "* Evaluating\n",
    "\n",
    "#### 6. Submission\n",
    "* Submit the predictions.\n",
    "<br/><br/>\n",
    "***"
   ]
  },
  {
   "cell_type": "markdown",
   "id": "immune-extra",
   "metadata": {
    "papermill": {
     "duration": 0.042553,
     "end_time": "2021-06-26T05:54:30.520606",
     "exception": false,
     "start_time": "2021-06-26T05:54:30.478053",
     "status": "completed"
    },
    "tags": []
   },
   "source": [
    "# 1. Import & Install libray\n",
    "* Import Basic libray\n",
    "* Import Enginnering libray"
   ]
  },
  {
   "cell_type": "code",
   "execution_count": 1,
   "id": "attended-channel",
   "metadata": {
    "execution": {
     "iopub.execute_input": "2021-06-26T05:54:30.619133Z",
     "iopub.status.busy": "2021-06-26T05:54:30.618628Z",
     "iopub.status.idle": "2021-06-26T05:54:31.306402Z",
     "shell.execute_reply": "2021-06-26T05:54:31.305816Z",
     "shell.execute_reply.started": "2021-06-26T05:11:20.089307Z"
    },
    "papermill": {
     "duration": 0.742661,
     "end_time": "2021-06-26T05:54:31.306546",
     "exception": false,
     "start_time": "2021-06-26T05:54:30.563885",
     "status": "completed"
    },
    "tags": []
   },
   "outputs": [],
   "source": [
    "import pandas as pd\n",
    "import numpy as np\n",
    "from collections import OrderedDict\n",
    "\n",
    "from PIL import Image\n",
    "import seaborn as sns\n",
    "import matplotlib.pyplot as plt\n",
    "import missingno as msno\n",
    "\n",
    "plt.style.use('seaborn')\n",
    "%matplotlib inline"
   ]
  },
  {
   "cell_type": "code",
   "execution_count": 2,
   "id": "economic-category",
   "metadata": {
    "execution": {
     "iopub.execute_input": "2021-06-26T05:54:31.397117Z",
     "iopub.status.busy": "2021-06-26T05:54:31.396609Z",
     "iopub.status.idle": "2021-06-26T05:54:32.815307Z",
     "shell.execute_reply": "2021-06-26T05:54:32.814501Z",
     "shell.execute_reply.started": "2021-06-26T05:11:20.813239Z"
    },
    "papermill": {
     "duration": 1.465799,
     "end_time": "2021-06-26T05:54:32.815497",
     "exception": false,
     "start_time": "2021-06-26T05:54:31.349698",
     "status": "completed"
    },
    "tags": []
   },
   "outputs": [],
   "source": [
    "import torch\n",
    "import torch.nn as nn\n",
    "import torch.optim as optim\n",
    "from torch.utils.data import DataLoader, Dataset, TensorDataset\n",
    "\n",
    "import sklearn\n",
    "from sklearn.model_selection import train_test_split"
   ]
  },
  {
   "cell_type": "code",
   "execution_count": 3,
   "id": "higher-charge",
   "metadata": {
    "execution": {
     "iopub.execute_input": "2021-06-26T05:54:32.921600Z",
     "iopub.status.busy": "2021-06-26T05:54:32.921087Z",
     "iopub.status.idle": "2021-06-26T05:54:38.092876Z",
     "shell.execute_reply": "2021-06-26T05:54:38.092387Z",
     "shell.execute_reply.started": "2021-06-26T05:11:22.374082Z"
    },
    "papermill": {
     "duration": 5.220074,
     "end_time": "2021-06-26T05:54:38.093006",
     "exception": false,
     "start_time": "2021-06-26T05:54:32.872932",
     "status": "completed"
    },
    "tags": []
   },
   "outputs": [
    {
     "data": {
      "text/html": [
       "<div>\n",
       "<style scoped>\n",
       "    .dataframe tbody tr th:only-of-type {\n",
       "        vertical-align: middle;\n",
       "    }\n",
       "\n",
       "    .dataframe tbody tr th {\n",
       "        vertical-align: top;\n",
       "    }\n",
       "\n",
       "    .dataframe thead th {\n",
       "        text-align: right;\n",
       "    }\n",
       "</style>\n",
       "<table border=\"1\" class=\"dataframe\">\n",
       "  <thead>\n",
       "    <tr style=\"text-align: right;\">\n",
       "      <th></th>\n",
       "      <th>label</th>\n",
       "      <th>pixel0</th>\n",
       "      <th>pixel1</th>\n",
       "      <th>pixel2</th>\n",
       "      <th>pixel3</th>\n",
       "      <th>pixel4</th>\n",
       "      <th>pixel5</th>\n",
       "      <th>pixel6</th>\n",
       "      <th>pixel7</th>\n",
       "      <th>pixel8</th>\n",
       "      <th>...</th>\n",
       "      <th>pixel774</th>\n",
       "      <th>pixel775</th>\n",
       "      <th>pixel776</th>\n",
       "      <th>pixel777</th>\n",
       "      <th>pixel778</th>\n",
       "      <th>pixel779</th>\n",
       "      <th>pixel780</th>\n",
       "      <th>pixel781</th>\n",
       "      <th>pixel782</th>\n",
       "      <th>pixel783</th>\n",
       "    </tr>\n",
       "  </thead>\n",
       "  <tbody>\n",
       "    <tr>\n",
       "      <th>0</th>\n",
       "      <td>1</td>\n",
       "      <td>0</td>\n",
       "      <td>0</td>\n",
       "      <td>0</td>\n",
       "      <td>0</td>\n",
       "      <td>0</td>\n",
       "      <td>0</td>\n",
       "      <td>0</td>\n",
       "      <td>0</td>\n",
       "      <td>0</td>\n",
       "      <td>...</td>\n",
       "      <td>0</td>\n",
       "      <td>0</td>\n",
       "      <td>0</td>\n",
       "      <td>0</td>\n",
       "      <td>0</td>\n",
       "      <td>0</td>\n",
       "      <td>0</td>\n",
       "      <td>0</td>\n",
       "      <td>0</td>\n",
       "      <td>0</td>\n",
       "    </tr>\n",
       "    <tr>\n",
       "      <th>1</th>\n",
       "      <td>0</td>\n",
       "      <td>0</td>\n",
       "      <td>0</td>\n",
       "      <td>0</td>\n",
       "      <td>0</td>\n",
       "      <td>0</td>\n",
       "      <td>0</td>\n",
       "      <td>0</td>\n",
       "      <td>0</td>\n",
       "      <td>0</td>\n",
       "      <td>...</td>\n",
       "      <td>0</td>\n",
       "      <td>0</td>\n",
       "      <td>0</td>\n",
       "      <td>0</td>\n",
       "      <td>0</td>\n",
       "      <td>0</td>\n",
       "      <td>0</td>\n",
       "      <td>0</td>\n",
       "      <td>0</td>\n",
       "      <td>0</td>\n",
       "    </tr>\n",
       "    <tr>\n",
       "      <th>2</th>\n",
       "      <td>1</td>\n",
       "      <td>0</td>\n",
       "      <td>0</td>\n",
       "      <td>0</td>\n",
       "      <td>0</td>\n",
       "      <td>0</td>\n",
       "      <td>0</td>\n",
       "      <td>0</td>\n",
       "      <td>0</td>\n",
       "      <td>0</td>\n",
       "      <td>...</td>\n",
       "      <td>0</td>\n",
       "      <td>0</td>\n",
       "      <td>0</td>\n",
       "      <td>0</td>\n",
       "      <td>0</td>\n",
       "      <td>0</td>\n",
       "      <td>0</td>\n",
       "      <td>0</td>\n",
       "      <td>0</td>\n",
       "      <td>0</td>\n",
       "    </tr>\n",
       "    <tr>\n",
       "      <th>3</th>\n",
       "      <td>4</td>\n",
       "      <td>0</td>\n",
       "      <td>0</td>\n",
       "      <td>0</td>\n",
       "      <td>0</td>\n",
       "      <td>0</td>\n",
       "      <td>0</td>\n",
       "      <td>0</td>\n",
       "      <td>0</td>\n",
       "      <td>0</td>\n",
       "      <td>...</td>\n",
       "      <td>0</td>\n",
       "      <td>0</td>\n",
       "      <td>0</td>\n",
       "      <td>0</td>\n",
       "      <td>0</td>\n",
       "      <td>0</td>\n",
       "      <td>0</td>\n",
       "      <td>0</td>\n",
       "      <td>0</td>\n",
       "      <td>0</td>\n",
       "    </tr>\n",
       "    <tr>\n",
       "      <th>4</th>\n",
       "      <td>0</td>\n",
       "      <td>0</td>\n",
       "      <td>0</td>\n",
       "      <td>0</td>\n",
       "      <td>0</td>\n",
       "      <td>0</td>\n",
       "      <td>0</td>\n",
       "      <td>0</td>\n",
       "      <td>0</td>\n",
       "      <td>0</td>\n",
       "      <td>...</td>\n",
       "      <td>0</td>\n",
       "      <td>0</td>\n",
       "      <td>0</td>\n",
       "      <td>0</td>\n",
       "      <td>0</td>\n",
       "      <td>0</td>\n",
       "      <td>0</td>\n",
       "      <td>0</td>\n",
       "      <td>0</td>\n",
       "      <td>0</td>\n",
       "    </tr>\n",
       "  </tbody>\n",
       "</table>\n",
       "<p>5 rows × 785 columns</p>\n",
       "</div>"
      ],
      "text/plain": [
       "   label  pixel0  pixel1  pixel2  pixel3  pixel4  pixel5  pixel6  pixel7  \\\n",
       "0      1       0       0       0       0       0       0       0       0   \n",
       "1      0       0       0       0       0       0       0       0       0   \n",
       "2      1       0       0       0       0       0       0       0       0   \n",
       "3      4       0       0       0       0       0       0       0       0   \n",
       "4      0       0       0       0       0       0       0       0       0   \n",
       "\n",
       "   pixel8  ...  pixel774  pixel775  pixel776  pixel777  pixel778  pixel779  \\\n",
       "0       0  ...         0         0         0         0         0         0   \n",
       "1       0  ...         0         0         0         0         0         0   \n",
       "2       0  ...         0         0         0         0         0         0   \n",
       "3       0  ...         0         0         0         0         0         0   \n",
       "4       0  ...         0         0         0         0         0         0   \n",
       "\n",
       "   pixel780  pixel781  pixel782  pixel783  \n",
       "0         0         0         0         0  \n",
       "1         0         0         0         0  \n",
       "2         0         0         0         0  \n",
       "3         0         0         0         0  \n",
       "4         0         0         0         0  \n",
       "\n",
       "[5 rows x 785 columns]"
      ]
     },
     "execution_count": 3,
     "metadata": {},
     "output_type": "execute_result"
    }
   ],
   "source": [
    "train_df = pd.read_csv('/kaggle/input/digit-recognizer/train.csv')\n",
    "test_df = pd.read_csv('/kaggle/input/digit-recognizer/test.csv')\n",
    "train_df.head()"
   ]
  },
  {
   "cell_type": "markdown",
   "id": "heavy-heath",
   "metadata": {
    "papermill": {
     "duration": 0.043582,
     "end_time": "2021-06-26T05:54:38.180822",
     "exception": false,
     "start_time": "2021-06-26T05:54:38.137240",
     "status": "completed"
    },
    "tags": []
   },
   "source": [
    "# 2. Check out my data\n",
    "* Check Shape / Info / Describe"
   ]
  },
  {
   "cell_type": "code",
   "execution_count": 4,
   "id": "gorgeous-scout",
   "metadata": {
    "execution": {
     "iopub.execute_input": "2021-06-26T05:54:38.271287Z",
     "iopub.status.busy": "2021-06-26T05:54:38.270695Z",
     "iopub.status.idle": "2021-06-26T05:54:38.275921Z",
     "shell.execute_reply": "2021-06-26T05:54:38.275480Z",
     "shell.execute_reply.started": "2021-06-26T05:11:27.633759Z"
    },
    "papermill": {
     "duration": 0.052116,
     "end_time": "2021-06-26T05:54:38.276031",
     "exception": false,
     "start_time": "2021-06-26T05:54:38.223915",
     "status": "completed"
    },
    "tags": []
   },
   "outputs": [
    {
     "name": "stdout",
     "output_type": "stream",
     "text": [
      "train data shape : (42000, 785)\n",
      "test data shape : (28000, 784)\n"
     ]
    }
   ],
   "source": [
    "print(\"train data shape : {}\".format(train_df.shape))\n",
    "print(\"test data shape : {}\".format(test_df.shape))"
   ]
  },
  {
   "cell_type": "code",
   "execution_count": 5,
   "id": "connected-bearing",
   "metadata": {
    "execution": {
     "iopub.execute_input": "2021-06-26T05:54:38.445496Z",
     "iopub.status.busy": "2021-06-26T05:54:38.367737Z",
     "iopub.status.idle": "2021-06-26T05:54:40.368054Z",
     "shell.execute_reply": "2021-06-26T05:54:40.367637Z",
     "shell.execute_reply.started": "2021-06-26T05:11:27.641256Z"
    },
    "papermill": {
     "duration": 2.04805,
     "end_time": "2021-06-26T05:54:40.368168",
     "exception": false,
     "start_time": "2021-06-26T05:54:38.320118",
     "status": "completed"
    },
    "tags": []
   },
   "outputs": [
    {
     "data": {
      "text/html": [
       "<div>\n",
       "<style scoped>\n",
       "    .dataframe tbody tr th:only-of-type {\n",
       "        vertical-align: middle;\n",
       "    }\n",
       "\n",
       "    .dataframe tbody tr th {\n",
       "        vertical-align: top;\n",
       "    }\n",
       "\n",
       "    .dataframe thead th {\n",
       "        text-align: right;\n",
       "    }\n",
       "</style>\n",
       "<table border=\"1\" class=\"dataframe\">\n",
       "  <thead>\n",
       "    <tr style=\"text-align: right;\">\n",
       "      <th></th>\n",
       "      <th>label</th>\n",
       "      <th>pixel0</th>\n",
       "      <th>pixel1</th>\n",
       "      <th>pixel2</th>\n",
       "      <th>pixel3</th>\n",
       "      <th>pixel4</th>\n",
       "      <th>pixel5</th>\n",
       "      <th>pixel6</th>\n",
       "      <th>pixel7</th>\n",
       "      <th>pixel8</th>\n",
       "      <th>...</th>\n",
       "      <th>pixel774</th>\n",
       "      <th>pixel775</th>\n",
       "      <th>pixel776</th>\n",
       "      <th>pixel777</th>\n",
       "      <th>pixel778</th>\n",
       "      <th>pixel779</th>\n",
       "      <th>pixel780</th>\n",
       "      <th>pixel781</th>\n",
       "      <th>pixel782</th>\n",
       "      <th>pixel783</th>\n",
       "    </tr>\n",
       "  </thead>\n",
       "  <tbody>\n",
       "    <tr>\n",
       "      <th>count</th>\n",
       "      <td>42000.000000</td>\n",
       "      <td>42000.0</td>\n",
       "      <td>42000.0</td>\n",
       "      <td>42000.0</td>\n",
       "      <td>42000.0</td>\n",
       "      <td>42000.0</td>\n",
       "      <td>42000.0</td>\n",
       "      <td>42000.0</td>\n",
       "      <td>42000.0</td>\n",
       "      <td>42000.0</td>\n",
       "      <td>...</td>\n",
       "      <td>42000.000000</td>\n",
       "      <td>42000.000000</td>\n",
       "      <td>42000.000000</td>\n",
       "      <td>42000.00000</td>\n",
       "      <td>42000.000000</td>\n",
       "      <td>42000.000000</td>\n",
       "      <td>42000.0</td>\n",
       "      <td>42000.0</td>\n",
       "      <td>42000.0</td>\n",
       "      <td>42000.0</td>\n",
       "    </tr>\n",
       "    <tr>\n",
       "      <th>mean</th>\n",
       "      <td>4.456643</td>\n",
       "      <td>0.0</td>\n",
       "      <td>0.0</td>\n",
       "      <td>0.0</td>\n",
       "      <td>0.0</td>\n",
       "      <td>0.0</td>\n",
       "      <td>0.0</td>\n",
       "      <td>0.0</td>\n",
       "      <td>0.0</td>\n",
       "      <td>0.0</td>\n",
       "      <td>...</td>\n",
       "      <td>0.219286</td>\n",
       "      <td>0.117095</td>\n",
       "      <td>0.059024</td>\n",
       "      <td>0.02019</td>\n",
       "      <td>0.017238</td>\n",
       "      <td>0.002857</td>\n",
       "      <td>0.0</td>\n",
       "      <td>0.0</td>\n",
       "      <td>0.0</td>\n",
       "      <td>0.0</td>\n",
       "    </tr>\n",
       "    <tr>\n",
       "      <th>std</th>\n",
       "      <td>2.887730</td>\n",
       "      <td>0.0</td>\n",
       "      <td>0.0</td>\n",
       "      <td>0.0</td>\n",
       "      <td>0.0</td>\n",
       "      <td>0.0</td>\n",
       "      <td>0.0</td>\n",
       "      <td>0.0</td>\n",
       "      <td>0.0</td>\n",
       "      <td>0.0</td>\n",
       "      <td>...</td>\n",
       "      <td>6.312890</td>\n",
       "      <td>4.633819</td>\n",
       "      <td>3.274488</td>\n",
       "      <td>1.75987</td>\n",
       "      <td>1.894498</td>\n",
       "      <td>0.414264</td>\n",
       "      <td>0.0</td>\n",
       "      <td>0.0</td>\n",
       "      <td>0.0</td>\n",
       "      <td>0.0</td>\n",
       "    </tr>\n",
       "    <tr>\n",
       "      <th>min</th>\n",
       "      <td>0.000000</td>\n",
       "      <td>0.0</td>\n",
       "      <td>0.0</td>\n",
       "      <td>0.0</td>\n",
       "      <td>0.0</td>\n",
       "      <td>0.0</td>\n",
       "      <td>0.0</td>\n",
       "      <td>0.0</td>\n",
       "      <td>0.0</td>\n",
       "      <td>0.0</td>\n",
       "      <td>...</td>\n",
       "      <td>0.000000</td>\n",
       "      <td>0.000000</td>\n",
       "      <td>0.000000</td>\n",
       "      <td>0.00000</td>\n",
       "      <td>0.000000</td>\n",
       "      <td>0.000000</td>\n",
       "      <td>0.0</td>\n",
       "      <td>0.0</td>\n",
       "      <td>0.0</td>\n",
       "      <td>0.0</td>\n",
       "    </tr>\n",
       "    <tr>\n",
       "      <th>25%</th>\n",
       "      <td>2.000000</td>\n",
       "      <td>0.0</td>\n",
       "      <td>0.0</td>\n",
       "      <td>0.0</td>\n",
       "      <td>0.0</td>\n",
       "      <td>0.0</td>\n",
       "      <td>0.0</td>\n",
       "      <td>0.0</td>\n",
       "      <td>0.0</td>\n",
       "      <td>0.0</td>\n",
       "      <td>...</td>\n",
       "      <td>0.000000</td>\n",
       "      <td>0.000000</td>\n",
       "      <td>0.000000</td>\n",
       "      <td>0.00000</td>\n",
       "      <td>0.000000</td>\n",
       "      <td>0.000000</td>\n",
       "      <td>0.0</td>\n",
       "      <td>0.0</td>\n",
       "      <td>0.0</td>\n",
       "      <td>0.0</td>\n",
       "    </tr>\n",
       "    <tr>\n",
       "      <th>50%</th>\n",
       "      <td>4.000000</td>\n",
       "      <td>0.0</td>\n",
       "      <td>0.0</td>\n",
       "      <td>0.0</td>\n",
       "      <td>0.0</td>\n",
       "      <td>0.0</td>\n",
       "      <td>0.0</td>\n",
       "      <td>0.0</td>\n",
       "      <td>0.0</td>\n",
       "      <td>0.0</td>\n",
       "      <td>...</td>\n",
       "      <td>0.000000</td>\n",
       "      <td>0.000000</td>\n",
       "      <td>0.000000</td>\n",
       "      <td>0.00000</td>\n",
       "      <td>0.000000</td>\n",
       "      <td>0.000000</td>\n",
       "      <td>0.0</td>\n",
       "      <td>0.0</td>\n",
       "      <td>0.0</td>\n",
       "      <td>0.0</td>\n",
       "    </tr>\n",
       "    <tr>\n",
       "      <th>75%</th>\n",
       "      <td>7.000000</td>\n",
       "      <td>0.0</td>\n",
       "      <td>0.0</td>\n",
       "      <td>0.0</td>\n",
       "      <td>0.0</td>\n",
       "      <td>0.0</td>\n",
       "      <td>0.0</td>\n",
       "      <td>0.0</td>\n",
       "      <td>0.0</td>\n",
       "      <td>0.0</td>\n",
       "      <td>...</td>\n",
       "      <td>0.000000</td>\n",
       "      <td>0.000000</td>\n",
       "      <td>0.000000</td>\n",
       "      <td>0.00000</td>\n",
       "      <td>0.000000</td>\n",
       "      <td>0.000000</td>\n",
       "      <td>0.0</td>\n",
       "      <td>0.0</td>\n",
       "      <td>0.0</td>\n",
       "      <td>0.0</td>\n",
       "    </tr>\n",
       "    <tr>\n",
       "      <th>max</th>\n",
       "      <td>9.000000</td>\n",
       "      <td>0.0</td>\n",
       "      <td>0.0</td>\n",
       "      <td>0.0</td>\n",
       "      <td>0.0</td>\n",
       "      <td>0.0</td>\n",
       "      <td>0.0</td>\n",
       "      <td>0.0</td>\n",
       "      <td>0.0</td>\n",
       "      <td>0.0</td>\n",
       "      <td>...</td>\n",
       "      <td>254.000000</td>\n",
       "      <td>254.000000</td>\n",
       "      <td>253.000000</td>\n",
       "      <td>253.00000</td>\n",
       "      <td>254.000000</td>\n",
       "      <td>62.000000</td>\n",
       "      <td>0.0</td>\n",
       "      <td>0.0</td>\n",
       "      <td>0.0</td>\n",
       "      <td>0.0</td>\n",
       "    </tr>\n",
       "  </tbody>\n",
       "</table>\n",
       "<p>8 rows × 785 columns</p>\n",
       "</div>"
      ],
      "text/plain": [
       "              label   pixel0   pixel1   pixel2   pixel3   pixel4   pixel5  \\\n",
       "count  42000.000000  42000.0  42000.0  42000.0  42000.0  42000.0  42000.0   \n",
       "mean       4.456643      0.0      0.0      0.0      0.0      0.0      0.0   \n",
       "std        2.887730      0.0      0.0      0.0      0.0      0.0      0.0   \n",
       "min        0.000000      0.0      0.0      0.0      0.0      0.0      0.0   \n",
       "25%        2.000000      0.0      0.0      0.0      0.0      0.0      0.0   \n",
       "50%        4.000000      0.0      0.0      0.0      0.0      0.0      0.0   \n",
       "75%        7.000000      0.0      0.0      0.0      0.0      0.0      0.0   \n",
       "max        9.000000      0.0      0.0      0.0      0.0      0.0      0.0   \n",
       "\n",
       "        pixel6   pixel7   pixel8  ...      pixel774      pixel775  \\\n",
       "count  42000.0  42000.0  42000.0  ...  42000.000000  42000.000000   \n",
       "mean       0.0      0.0      0.0  ...      0.219286      0.117095   \n",
       "std        0.0      0.0      0.0  ...      6.312890      4.633819   \n",
       "min        0.0      0.0      0.0  ...      0.000000      0.000000   \n",
       "25%        0.0      0.0      0.0  ...      0.000000      0.000000   \n",
       "50%        0.0      0.0      0.0  ...      0.000000      0.000000   \n",
       "75%        0.0      0.0      0.0  ...      0.000000      0.000000   \n",
       "max        0.0      0.0      0.0  ...    254.000000    254.000000   \n",
       "\n",
       "           pixel776     pixel777      pixel778      pixel779  pixel780  \\\n",
       "count  42000.000000  42000.00000  42000.000000  42000.000000   42000.0   \n",
       "mean       0.059024      0.02019      0.017238      0.002857       0.0   \n",
       "std        3.274488      1.75987      1.894498      0.414264       0.0   \n",
       "min        0.000000      0.00000      0.000000      0.000000       0.0   \n",
       "25%        0.000000      0.00000      0.000000      0.000000       0.0   \n",
       "50%        0.000000      0.00000      0.000000      0.000000       0.0   \n",
       "75%        0.000000      0.00000      0.000000      0.000000       0.0   \n",
       "max      253.000000    253.00000    254.000000     62.000000       0.0   \n",
       "\n",
       "       pixel781  pixel782  pixel783  \n",
       "count   42000.0   42000.0   42000.0  \n",
       "mean        0.0       0.0       0.0  \n",
       "std         0.0       0.0       0.0  \n",
       "min         0.0       0.0       0.0  \n",
       "25%         0.0       0.0       0.0  \n",
       "50%         0.0       0.0       0.0  \n",
       "75%         0.0       0.0       0.0  \n",
       "max         0.0       0.0       0.0  \n",
       "\n",
       "[8 rows x 785 columns]"
      ]
     },
     "execution_count": 5,
     "metadata": {},
     "output_type": "execute_result"
    }
   ],
   "source": [
    "train_df.describe()"
   ]
  },
  {
   "cell_type": "code",
   "execution_count": 6,
   "id": "dirty-director",
   "metadata": {
    "execution": {
     "iopub.execute_input": "2021-06-26T05:54:40.463700Z",
     "iopub.status.busy": "2021-06-26T05:54:40.462713Z",
     "iopub.status.idle": "2021-06-26T05:54:41.234982Z",
     "shell.execute_reply": "2021-06-26T05:54:41.235360Z",
     "shell.execute_reply.started": "2021-06-26T05:11:29.915938Z"
    },
    "papermill": {
     "duration": 0.820955,
     "end_time": "2021-06-26T05:54:41.235504",
     "exception": false,
     "start_time": "2021-06-26T05:54:40.414549",
     "status": "completed"
    },
    "tags": []
   },
   "outputs": [
    {
     "name": "stdout",
     "output_type": "stream",
     "text": [
      "Check train data values : \n",
      "[  0   1   2   3   4   5   6   7   8   9  10  11  12  13  14  15  16  17\n",
      "  18  19  20  21  22  23  24  25  26  27  28  29  30  31  32  33  34  35\n",
      "  36  37  38  39  40  41  42  43  44  45  46  47  48  49  50  51  52  53\n",
      "  54  55  56  57  58  59  60  61  62  63  64  65  66  67  68  69  70  71\n",
      "  72  73  74  75  76  77  78  79  80  81  82  83  84  85  86  87  88  89\n",
      "  90  91  92  93  94  95  96  97  98  99 100 101 102 103 104 105 106 107\n",
      " 108 109 110 111 112 113 114 115 116 117 118 119 120 121 122 123 124 125\n",
      " 126 127 128 129 130 131 132 133 134 135 136 137 138 139 140 141 142 143\n",
      " 144 145 146 147 148 149 150 151 152 153 154 155 156 157 158 159 160 161\n",
      " 162 163 164 165 166 167 168 169 170 171 172 173 174 175 176 177 178 179\n",
      " 180 181 182 183 184 185 186 187 188 189 190 191 192 193 194 195 196 197\n",
      " 198 199 200 201 202 203 204 205 206 207 208 209 210 211 212 213 214 215\n",
      " 216 217 218 219 220 221 222 223 224 225 226 227 228 229 230 231 232 233\n",
      " 234 235 236 237 238 239 240 241 242 243 244 245 246 247 248 249 250 251\n",
      " 252 253 254 255]\n"
     ]
    }
   ],
   "source": [
    "print(\"Check train data values : \\n{}\".format(np.unique(train_df)))"
   ]
  },
  {
   "cell_type": "code",
   "execution_count": 7,
   "id": "ahead-jonathan",
   "metadata": {
    "execution": {
     "iopub.execute_input": "2021-06-26T05:54:41.332294Z",
     "iopub.status.busy": "2021-06-26T05:54:41.331416Z",
     "iopub.status.idle": "2021-06-26T05:54:41.350330Z",
     "shell.execute_reply": "2021-06-26T05:54:41.349835Z",
     "shell.execute_reply.started": "2021-06-26T05:11:30.951614Z"
    },
    "papermill": {
     "duration": 0.070039,
     "end_time": "2021-06-26T05:54:41.350431",
     "exception": false,
     "start_time": "2021-06-26T05:54:41.280392",
     "status": "completed"
    },
    "tags": []
   },
   "outputs": [
    {
     "data": {
      "image/png": "[encoded data removed]",
      "text/html": [
       "<div style=\"vertical-align: middle;\"><strong>Greys</strong> </div><div class=\"cmap\"><img alt=\"Greys colormap\" title=\"Greys\" style=\"border: 1px solid #555;\" src=\"data:image/png;base64,iVBORw0KGgoAAAANSUhEUgAAAgAAAABACAYAAABsv8+/AAAAFHRFWHRUaXRsZQBHcmV5cyBjb2xvcm1hcORtd/YAAAAadEVYdERlc2NyaXB0aW9uAEdyZXlzIGNvbG9ybWFwGjLeEAAAADB0RVh0QXV0aG9yAE1hdHBsb3RsaWIgdjMuNC4xLCBodHRwczovL21hdHBsb3RsaWIub3JnmTvVjgAAADJ0RVh0U29mdHdhcmUATWF0cGxvdGxpYiB2My40LjEsIGh0dHBzOi8vbWF0cGxvdGxpYi5vcme3nUqpAAABaklEQVR4nO3WSwrCMABAwej9z9y6UReCKPYrb2YTmjRpoJt3med5HmOM+/C09/NR3333/Gl+6fre+9Za/3Zces7R+6dpWrT+r+esvW+v87Y+91/v8es9X+e3fu8s99jq/57t/cd4HQBAjgAAgCABAABBAgAAggQAAAQJAAAIEgAAECQAACBIAABAkAAAgCABAABBAgAAggQAAAQJAAAIEgAAECQAACBIAABAkAAAgCABAABBAgAAggQAAAQJAAAIEgAAECQAACBIAABAkAAAgCABAABBAgAAggQAAAQJAAAIEgAAECQAACBIAABAkAAAgCABAABBAgAAggQAAAQJAAAIEgAAECQAACBIAABAkAAAgCABAABBAgAAggQAAAQJAAAIEgAAECQAACBIAABAkAAAgCABAABBAgAAggQAAAQJAAAIEgAAECQAACBIAABAkAAAgCABAABBAgAAggQAAAQJAAAIEgAAEHQDHfmnnRvzoAgAAAAASUVORK5CYII=\"></div><div style=\"vertical-align: middle; max-width: 514px; display: flex; justify-content: space-between;\"><div style=\"float: left;\"><div title=\"#ffffffff\" style=\"display: inline-block; width: 1em; height: 1em; margin: 0; vertical-align: middle; border: 1px solid #555; background-color: #ffffffff;\"></div> under</div><div style=\"margin: 0 auto; display: inline-block;\">bad <div title=\"#00000000\" style=\"display: inline-block; width: 1em; height: 1em; margin: 0; vertical-align: middle; border: 1px solid #555; background-color: #00000000;\"></div></div><div style=\"float: right;\">over <div title=\"#000000ff\" style=\"display: inline-block; width: 1em; height: 1em; margin: 0; vertical-align: middle; border: 1px solid #555; background-color: #000000ff;\"></div></div>"
      ],
      "text/plain": [
       "<matplotlib.colors.LinearSegmentedColormap at 0x7fcda669fed0>"
      ]
     },
     "execution_count": 7,
     "metadata": {},
     "output_type": "execute_result"
    }
   ],
   "source": [
    "sns.color_palette(\"Greys\", as_cmap=True)"
   ]
  },
  {
   "cell_type": "code",
   "execution_count": 8,
   "id": "emerging-investigator",
   "metadata": {
    "execution": {
     "iopub.execute_input": "2021-06-26T05:54:41.449935Z",
     "iopub.status.busy": "2021-06-26T05:54:41.448921Z",
     "iopub.status.idle": "2021-06-26T05:54:41.511763Z",
     "shell.execute_reply": "2021-06-26T05:54:41.511366Z",
     "shell.execute_reply.started": "2021-06-26T05:11:30.977500Z"
    },
    "papermill": {
     "duration": 0.11658,
     "end_time": "2021-06-26T05:54:41.511884",
     "exception": false,
     "start_time": "2021-06-26T05:54:41.395304",
     "status": "completed"
    },
    "tags": []
   },
   "outputs": [
    {
     "data": {
      "image/png": "[encoded data removed]",
      "text/plain": [
       "<Figure size 720x72 with 1 Axes>"
      ]
     },
     "metadata": {
      "needs_background": "light"
     },
     "output_type": "display_data"
    }
   ],
   "source": [
    "Greys_palette = sns.color_palette(\"Greys\",10)\n",
    "sns.palplot(Greys_palette)"
   ]
  },
  {
   "cell_type": "markdown",
   "id": "southwest-vaccine",
   "metadata": {
    "papermill": {
     "duration": 0.045167,
     "end_time": "2021-06-26T05:54:41.603341",
     "exception": false,
     "start_time": "2021-06-26T05:54:41.558174",
     "status": "completed"
    },
    "tags": []
   },
   "source": [
    "# 3. Exploratory Data Analysis(EDA) with Visualization [Before Preprocessing]\n",
    "* Plot the null values\n",
    "* Plot the label Percent\n",
    "* Plot the image Data"
   ]
  },
  {
   "cell_type": "markdown",
   "id": "valid-skill",
   "metadata": {
    "papermill": {
     "duration": 0.045008,
     "end_time": "2021-06-26T05:54:41.694077",
     "exception": false,
     "start_time": "2021-06-26T05:54:41.649069",
     "status": "completed"
    },
    "tags": []
   },
   "source": [
    "### 3-1) Plot the null values"
   ]
  },
  {
   "cell_type": "code",
   "execution_count": 9,
   "id": "optical-stick",
   "metadata": {
    "execution": {
     "iopub.execute_input": "2021-06-26T05:54:41.790463Z",
     "iopub.status.busy": "2021-06-26T05:54:41.789112Z",
     "iopub.status.idle": "2021-06-26T05:54:41.926848Z",
     "shell.execute_reply": "2021-06-26T05:54:41.927223Z",
     "shell.execute_reply.started": "2021-06-26T05:11:31.061430Z"
    },
    "papermill": {
     "duration": 0.187966,
     "end_time": "2021-06-26T05:54:41.927368",
     "exception": false,
     "start_time": "2021-06-26T05:54:41.739402",
     "status": "completed"
    },
    "tags": []
   },
   "outputs": [
    {
     "data": {
      "text/html": [
       "<style  type=\"text/css\" >\n",
       "#T_002f4e8a_d643_11eb_9636_0242ac130202row0_col0,#T_002f4e8a_d643_11eb_9636_0242ac130202row1_col0,#T_002f4e8a_d643_11eb_9636_0242ac130202row2_col0,#T_002f4e8a_d643_11eb_9636_0242ac130202row3_col0,#T_002f4e8a_d643_11eb_9636_0242ac130202row4_col0{\n",
       "            background-color:  #ffffff;\n",
       "            color:  #000000;\n",
       "        }</style><table id=\"T_002f4e8a_d643_11eb_9636_0242ac130202\" ><thead>    <tr>        <th class=\"blank level0\" ></th>        <th class=\"col_heading level0 col0\" >Null Count</th>    </tr></thead><tbody>\n",
       "                <tr>\n",
       "                        <th id=\"T_002f4e8a_d643_11eb_9636_0242ac130202level0_row0\" class=\"row_heading level0 row0\" >pixel783</th>\n",
       "                        <td id=\"T_002f4e8a_d643_11eb_9636_0242ac130202row0_col0\" class=\"data row0 col0\" >0</td>\n",
       "            </tr>\n",
       "            <tr>\n",
       "                        <th id=\"T_002f4e8a_d643_11eb_9636_0242ac130202level0_row1\" class=\"row_heading level0 row1\" >pixel267</th>\n",
       "                        <td id=\"T_002f4e8a_d643_11eb_9636_0242ac130202row1_col0\" class=\"data row1 col0\" >0</td>\n",
       "            </tr>\n",
       "            <tr>\n",
       "                        <th id=\"T_002f4e8a_d643_11eb_9636_0242ac130202level0_row2\" class=\"row_heading level0 row2\" >pixel265</th>\n",
       "                        <td id=\"T_002f4e8a_d643_11eb_9636_0242ac130202row2_col0\" class=\"data row2 col0\" >0</td>\n",
       "            </tr>\n",
       "            <tr>\n",
       "                        <th id=\"T_002f4e8a_d643_11eb_9636_0242ac130202level0_row3\" class=\"row_heading level0 row3\" >pixel264</th>\n",
       "                        <td id=\"T_002f4e8a_d643_11eb_9636_0242ac130202row3_col0\" class=\"data row3 col0\" >0</td>\n",
       "            </tr>\n",
       "            <tr>\n",
       "                        <th id=\"T_002f4e8a_d643_11eb_9636_0242ac130202level0_row4\" class=\"row_heading level0 row4\" >pixel263</th>\n",
       "                        <td id=\"T_002f4e8a_d643_11eb_9636_0242ac130202row4_col0\" class=\"data row4 col0\" >0</td>\n",
       "            </tr>\n",
       "    </tbody></table>"
      ],
      "text/plain": [
       "<pandas.io.formats.style.Styler at 0x7fcce73e0a90>"
      ]
     },
     "execution_count": 9,
     "metadata": {},
     "output_type": "execute_result"
    }
   ],
   "source": [
    "pd.DataFrame(train_df.isnull().sum().sort_values(ascending=False), columns=[\"Null Count\"]).head().style.background_gradient(cmap='Greys')"
   ]
  },
  {
   "cell_type": "code",
   "execution_count": 10,
   "id": "opposite-azerbaijan",
   "metadata": {
    "execution": {
     "iopub.execute_input": "2021-06-26T05:54:42.023772Z",
     "iopub.status.busy": "2021-06-26T05:54:42.022953Z",
     "iopub.status.idle": "2021-06-26T05:54:48.873113Z",
     "shell.execute_reply": "2021-06-26T05:54:48.872354Z",
     "shell.execute_reply.started": "2021-06-26T05:11:31.217967Z"
    },
    "papermill": {
     "duration": 6.900032,
     "end_time": "2021-06-26T05:54:48.873249",
     "exception": false,
     "start_time": "2021-06-26T05:54:41.973217",
     "status": "completed"
    },
    "tags": []
   },
   "outputs": [
    {
     "data": {
      "text/plain": [
       "<AxesSubplot:>"
      ]
     },
     "execution_count": 10,
     "metadata": {},
     "output_type": "execute_result"
    },
    {
     "data": {
      "image/png": "[encoded data removed]",
      "text/plain": [
       "<Figure size 1440x360 with 2 Axes>"
      ]
     },
     "metadata": {
      "needs_background": "light"
     },
     "output_type": "display_data"
    }
   ],
   "source": [
    "msno.matrix(df=train_df.iloc[:,:],figsize=(20,5),color=Greys_palette[8])"
   ]
  },
  {
   "cell_type": "markdown",
   "id": "gothic-capitol",
   "metadata": {
    "papermill": {
     "duration": 0.046353,
     "end_time": "2021-06-26T05:54:48.966741",
     "exception": false,
     "start_time": "2021-06-26T05:54:48.920388",
     "status": "completed"
    },
    "tags": []
   },
   "source": [
    "### 3-2) Plot the label Percent"
   ]
  },
  {
   "cell_type": "code",
   "execution_count": 11,
   "id": "analyzed-organizer",
   "metadata": {
    "execution": {
     "iopub.execute_input": "2021-06-26T05:54:49.070189Z",
     "iopub.status.busy": "2021-06-26T05:54:49.069396Z",
     "iopub.status.idle": "2021-06-26T05:54:49.216795Z",
     "shell.execute_reply": "2021-06-26T05:54:49.216384Z",
     "shell.execute_reply.started": "2021-06-26T05:11:38.538751Z"
    },
    "papermill": {
     "duration": 0.203596,
     "end_time": "2021-06-26T05:54:49.216911",
     "exception": false,
     "start_time": "2021-06-26T05:54:49.013315",
     "status": "completed"
    },
    "tags": []
   },
   "outputs": [
    {
     "data": {
      "text/plain": [
       "Text(0.1, 0.92, 'distribution by Label in Mnist dataset')"
      ]
     },
     "execution_count": 11,
     "metadata": {},
     "output_type": "execute_result"
    },
    {
     "data": {
      "image/png": "[encoded data removed]",
      "text/plain": [
       "<Figure size 720x504 with 1 Axes>"
      ]
     },
     "metadata": {
      "needs_background": "light"
     },
     "output_type": "display_data"
    }
   ],
   "source": [
    "fig, ax = plt.subplots(1,1, figsize=(10,7))\n",
    "sns.countplot(x='label', data=train_df, palette=Greys_palette[::-1], ax=ax)\n",
    "ax.patch.set_alpha(0)\n",
    "\n",
    "fig.text(0.1,0.92,\"distribution by Label in Mnist dataset\", fontweight=\"bold\", fontfamily='serif', fontsize=17)"
   ]
  },
  {
   "cell_type": "markdown",
   "id": "pleasant-process",
   "metadata": {
    "papermill": {
     "duration": 0.047497,
     "end_time": "2021-06-26T05:54:49.311717",
     "exception": false,
     "start_time": "2021-06-26T05:54:49.264220",
     "status": "completed"
    },
    "tags": []
   },
   "source": [
    "### 3-3) * Plot the image Data"
   ]
  },
  {
   "cell_type": "code",
   "execution_count": 12,
   "id": "determined-bridges",
   "metadata": {
    "execution": {
     "iopub.execute_input": "2021-06-26T05:54:49.410312Z",
     "iopub.status.busy": "2021-06-26T05:54:49.409592Z",
     "iopub.status.idle": "2021-06-26T05:54:49.412292Z",
     "shell.execute_reply": "2021-06-26T05:54:49.411886Z",
     "shell.execute_reply.started": "2021-06-26T05:11:38.720375Z"
    },
    "papermill": {
     "duration": 0.053107,
     "end_time": "2021-06-26T05:54:49.412386",
     "exception": false,
     "start_time": "2021-06-26T05:54:49.359279",
     "status": "completed"
    },
    "tags": []
   },
   "outputs": [],
   "source": [
    "x = train_df.iloc[:,1:].values\n",
    "y = train_df.iloc[:,0].values"
   ]
  },
  {
   "cell_type": "code",
   "execution_count": 13,
   "id": "gothic-building",
   "metadata": {
    "execution": {
     "iopub.execute_input": "2021-06-26T05:54:49.510280Z",
     "iopub.status.busy": "2021-06-26T05:54:49.509672Z",
     "iopub.status.idle": "2021-06-26T05:54:49.513158Z",
     "shell.execute_reply": "2021-06-26T05:54:49.513676Z",
     "shell.execute_reply.started": "2021-06-26T05:11:38.727540Z"
    },
    "papermill": {
     "duration": 0.054512,
     "end_time": "2021-06-26T05:54:49.513846",
     "exception": false,
     "start_time": "2021-06-26T05:54:49.459334",
     "status": "completed"
    },
    "tags": []
   },
   "outputs": [
    {
     "name": "stdout",
     "output_type": "stream",
     "text": [
      "X shape : (42000, 784)\n",
      "Y shape : (42000,)\n"
     ]
    }
   ],
   "source": [
    "print(\"X shape : {}\".format(x.shape))\n",
    "print(\"Y shape : {}\".format(y.shape))"
   ]
  },
  {
   "cell_type": "code",
   "execution_count": 14,
   "id": "invisible-skirt",
   "metadata": {
    "execution": {
     "iopub.execute_input": "2021-06-26T05:54:49.628036Z",
     "iopub.status.busy": "2021-06-26T05:54:49.627256Z",
     "iopub.status.idle": "2021-06-26T05:54:50.693692Z",
     "shell.execute_reply": "2021-06-26T05:54:50.694082Z",
     "shell.execute_reply.started": "2021-06-26T05:11:38.738287Z"
    },
    "papermill": {
     "duration": 1.132447,
     "end_time": "2021-06-26T05:54:50.694236",
     "exception": false,
     "start_time": "2021-06-26T05:54:49.561789",
     "status": "completed"
    },
    "tags": []
   },
   "outputs": [
    {
     "data": {
      "image/png": "[encoded data removed]",
      "text/plain": [
       "<Figure size 1080x1080 with 25 Axes>"
      ]
     },
     "metadata": {
      "needs_background": "light"
     },
     "output_type": "display_data"
    }
   ],
   "source": [
    "fig , axes = plt.subplots(5, 5, figsize=(15,15))\n",
    "\n",
    "x_idx = 0\n",
    "y_idx = 0\n",
    "\n",
    "for i in range(5*5):\n",
    "    if x_idx == 5:\n",
    "        x_idx = 0\n",
    "        y_idx += 1\n",
    "        \n",
    "    axes[y_idx][x_idx].imshow(x[i].reshape(28,28), 'gray')\n",
    "    axes[y_idx][x_idx].axis(\"off\")\n",
    "    axes[y_idx][x_idx].set_title(\"Target : \" + str(y[i]))\n",
    "    x_idx += 1\n",
    "\n",
    "plt.show()"
   ]
  },
  {
   "cell_type": "markdown",
   "id": "interstate-robertson",
   "metadata": {
    "papermill": {
     "duration": 0.048516,
     "end_time": "2021-06-26T05:54:50.791809",
     "exception": false,
     "start_time": "2021-06-26T05:54:50.743293",
     "status": "completed"
    },
    "tags": []
   },
   "source": [
    "# 4. Feature Enginnering\n",
    "* Split Train set / Validation set\n",
    "* Convert to data suitable for CNN model (Dataset / Dataloader)"
   ]
  },
  {
   "cell_type": "markdown",
   "id": "intermediate-fraud",
   "metadata": {
    "papermill": {
     "duration": 0.048151,
     "end_time": "2021-06-26T05:54:50.888371",
     "exception": false,
     "start_time": "2021-06-26T05:54:50.840220",
     "status": "completed"
    },
    "tags": []
   },
   "source": [
    "### 4-1) Split Train set / Validation set"
   ]
  },
  {
   "cell_type": "code",
   "execution_count": 15,
   "id": "manual-partner",
   "metadata": {
    "execution": {
     "iopub.execute_input": "2021-06-26T05:54:50.992031Z",
     "iopub.status.busy": "2021-06-26T05:54:50.990988Z",
     "iopub.status.idle": "2021-06-26T05:54:51.359961Z",
     "shell.execute_reply": "2021-06-26T05:54:51.359501Z",
     "shell.execute_reply.started": "2021-06-26T05:11:39.932294Z"
    },
    "papermill": {
     "duration": 0.422656,
     "end_time": "2021-06-26T05:54:51.360091",
     "exception": false,
     "start_time": "2021-06-26T05:54:50.937435",
     "status": "completed"
    },
    "tags": []
   },
   "outputs": [],
   "source": [
    "x_train, x_val, y_train, y_val = train_test_split(x, y, test_size=0.15)"
   ]
  },
  {
   "cell_type": "code",
   "execution_count": 16,
   "id": "streaming-parish",
   "metadata": {
    "execution": {
     "iopub.execute_input": "2021-06-26T05:54:51.462552Z",
     "iopub.status.busy": "2021-06-26T05:54:51.461911Z",
     "iopub.status.idle": "2021-06-26T05:54:51.465412Z",
     "shell.execute_reply": "2021-06-26T05:54:51.465982Z",
     "shell.execute_reply.started": "2021-06-26T05:11:40.312282Z"
    },
    "papermill": {
     "duration": 0.057154,
     "end_time": "2021-06-26T05:54:51.466144",
     "exception": false,
     "start_time": "2021-06-26T05:54:51.408990",
     "status": "completed"
    },
    "tags": []
   },
   "outputs": [
    {
     "name": "stdout",
     "output_type": "stream",
     "text": [
      "x_train shape : (35700, 784)\n",
      "y_train shape : (35700,)\n",
      "x_val shape : (6300, 784)\n",
      "y_val shape : (6300,)\n"
     ]
    }
   ],
   "source": [
    "print(\"x_train shape : {}\".format(x_train.shape))\n",
    "print(\"y_train shape : {}\".format(y_train.shape))\n",
    "print(\"x_val shape : {}\".format(x_val.shape))\n",
    "print(\"y_val shape : {}\".format(y_val.shape))"
   ]
  },
  {
   "cell_type": "markdown",
   "id": "narrow-difference",
   "metadata": {
    "papermill": {
     "duration": 0.048737,
     "end_time": "2021-06-26T05:54:51.564530",
     "exception": false,
     "start_time": "2021-06-26T05:54:51.515793",
     "status": "completed"
    },
    "tags": []
   },
   "source": [
    "### 4-2) Convert to data suitable for CNN model (Dataset / Dataloader)"
   ]
  },
  {
   "cell_type": "code",
   "execution_count": 17,
   "id": "retired-isolation",
   "metadata": {
    "execution": {
     "iopub.execute_input": "2021-06-26T05:54:51.670046Z",
     "iopub.status.busy": "2021-06-26T05:54:51.669379Z",
     "iopub.status.idle": "2021-06-26T05:54:51.672085Z",
     "shell.execute_reply": "2021-06-26T05:54:51.671677Z",
     "shell.execute_reply.started": "2021-06-26T05:11:40.320772Z"
    },
    "papermill": {
     "duration": 0.058906,
     "end_time": "2021-06-26T05:54:51.672187",
     "exception": false,
     "start_time": "2021-06-26T05:54:51.613281",
     "status": "completed"
    },
    "tags": []
   },
   "outputs": [],
   "source": [
    "class BasicDataset(torch.utils.data.Dataset):\n",
    "    def __init__(self,x_data, y_data, is_labeled=False):\n",
    "        self.x = self.get_float_type(x_data)\n",
    "        self.is_labeled = is_labeled\n",
    "        \n",
    "        if self.is_labeled:\n",
    "            self.y = self.get_long_type(y_data)\n",
    "        else:\n",
    "            self.y = None\n",
    "        \n",
    "        \n",
    "    def __len__(self):\n",
    "        return len(self.x)\n",
    "    \n",
    "    \n",
    "    def __getitem__(self, index):\n",
    "        global data\n",
    "        data = {}\n",
    "        \n",
    "        x_row = self.x[index]\n",
    "        data['data'] = x_row\n",
    "    \n",
    "        if self.is_labeled == True: \n",
    "            y_row = self.y[index]\n",
    "            data['target'] = y_row\n",
    "        return data\n",
    "    \n",
    "        \n",
    "    def get_float_type(self, data):\n",
    "        data = data.astype('float32')\n",
    "        data /= 255\n",
    "        data = data.reshape(-1, 1, 28, 28)\n",
    "        return data\n",
    "    \n",
    "    \n",
    "    def get_long_type(self, target):\n",
    "        target = target.astype(torch.LongTensor)\n",
    "        return target"
   ]
  },
  {
   "cell_type": "code",
   "execution_count": 18,
   "id": "regional-wheel",
   "metadata": {
    "execution": {
     "iopub.execute_input": "2021-06-26T05:54:51.774045Z",
     "iopub.status.busy": "2021-06-26T05:54:51.773152Z",
     "iopub.status.idle": "2021-06-26T05:54:51.846076Z",
     "shell.execute_reply": "2021-06-26T05:54:51.846481Z",
     "shell.execute_reply.started": "2021-06-26T05:11:40.333608Z"
    },
    "papermill": {
     "duration": 0.125452,
     "end_time": "2021-06-26T05:54:51.846643",
     "exception": false,
     "start_time": "2021-06-26T05:54:51.721191",
     "status": "completed"
    },
    "tags": []
   },
   "outputs": [],
   "source": [
    "train_dataset = BasicDataset(x_train, y_train, is_labeled=True)\n",
    "val_dataset = BasicDataset(x_val, y_val, is_labeled=True)"
   ]
  },
  {
   "cell_type": "code",
   "execution_count": 19,
   "id": "prepared-brooklyn",
   "metadata": {
    "execution": {
     "iopub.execute_input": "2021-06-26T05:54:51.959381Z",
     "iopub.status.busy": "2021-06-26T05:54:51.958762Z",
     "iopub.status.idle": "2021-06-26T05:54:51.963332Z",
     "shell.execute_reply": "2021-06-26T05:54:51.963948Z",
     "shell.execute_reply.started": "2021-06-26T05:11:40.414882Z"
    },
    "papermill": {
     "duration": 0.06621,
     "end_time": "2021-06-26T05:54:51.964134",
     "exception": false,
     "start_time": "2021-06-26T05:54:51.897924",
     "status": "completed"
    },
    "tags": []
   },
   "outputs": [
    {
     "name": "stdout",
     "output_type": "stream",
     "text": [
      "Data of train dataset : [[[0.         0.         0.         0.         0.         0.\n",
      "   0.         0.         0.         0.         0.         0.\n",
      "   0.         0.         0.         0.         0.         0.\n",
      "   0.         0.         0.         0.         0.         0.\n",
      "   0.         0.         0.         0.        ]\n",
      "  [0.         0.         0.         0.         0.         0.\n",
      "   0.         0.         0.         0.         0.         0.\n",
      "   0.         0.         0.         0.         0.         0.\n",
      "   0.         0.         0.         0.         0.         0.\n",
      "   0.         0.         0.         0.        ]\n",
      "  [0.         0.         0.         0.         0.         0.\n",
      "   0.         0.         0.         0.         0.         0.\n",
      "   0.         0.         0.         0.         0.         0.\n",
      "   0.         0.         0.         0.         0.         0.\n",
      "   0.         0.         0.         0.        ]\n",
      "  [0.         0.         0.         0.         0.         0.\n",
      "   0.         0.         0.         0.         0.         0.\n",
      "   0.         0.         0.         0.         0.         0.\n",
      "   0.         0.         0.         0.         0.         0.\n",
      "   0.         0.         0.         0.        ]\n",
      "  [0.         0.         0.         0.         0.         0.\n",
      "   0.         0.         0.         0.         0.         0.\n",
      "   0.         0.         0.         0.         0.         0.\n",
      "   0.         0.         0.         0.         0.         0.\n",
      "   0.         0.         0.         0.        ]\n",
      "  [0.         0.         0.         0.         0.         0.\n",
      "   0.         0.         0.         0.         0.         0.\n",
      "   0.         0.         0.         0.         0.21568628 0.92941177\n",
      "   0.27058825 0.         0.         0.         0.         0.\n",
      "   0.         0.         0.         0.        ]\n",
      "  [0.         0.         0.         0.         0.         0.\n",
      "   0.         0.         0.         0.         0.         0.\n",
      "   0.         0.         0.         0.         0.80784315 0.99215686\n",
      "   0.40392157 0.         0.         0.         0.         0.\n",
      "   0.         0.         0.         0.        ]\n",
      "  [0.         0.         0.         0.         0.         0.\n",
      "   0.         0.         0.         0.         0.         0.03529412\n",
      "   0.         0.         0.         0.         0.8392157  0.99215686\n",
      "   0.27058825 0.         0.         0.         0.         0.\n",
      "   0.         0.         0.         0.        ]\n",
      "  [0.         0.         0.         0.         0.         0.\n",
      "   0.         0.         0.         0.         0.13333334 0.8235294\n",
      "   0.654902   0.06666667 0.         0.         0.9019608  0.99215686\n",
      "   0.27058825 0.         0.         0.         0.         0.\n",
      "   0.         0.         0.         0.        ]\n",
      "  [0.         0.         0.         0.         0.         0.\n",
      "   0.         0.         0.         0.         0.46666667 1.\n",
      "   0.8784314  0.06666667 0.         0.         0.90588236 0.99607843\n",
      "   0.27058825 0.         0.         0.         0.         0.\n",
      "   0.         0.         0.         0.        ]\n",
      "  [0.         0.         0.         0.         0.         0.\n",
      "   0.         0.         0.         0.11764706 0.87058824 0.99607843\n",
      "   0.74509805 0.         0.         0.         0.9019608  0.99215686\n",
      "   0.27058825 0.         0.         0.         0.         0.\n",
      "   0.         0.         0.         0.        ]\n",
      "  [0.         0.         0.         0.         0.         0.\n",
      "   0.         0.         0.         0.4862745  0.99215686 0.96862745\n",
      "   0.2784314  0.         0.         0.         0.9019608  0.99215686\n",
      "   0.27058825 0.         0.         0.         0.         0.\n",
      "   0.         0.         0.         0.        ]\n",
      "  [0.         0.         0.         0.         0.         0.\n",
      "   0.         0.         0.26666668 0.9411765  0.99215686 0.72156864\n",
      "   0.         0.         0.         0.2        0.96862745 0.99215686\n",
      "   0.27058825 0.         0.         0.         0.         0.\n",
      "   0.         0.         0.         0.        ]\n",
      "  [0.         0.         0.         0.         0.         0.\n",
      "   0.         0.         0.6431373  0.99607843 0.99607843 0.13333334\n",
      "   0.         0.         0.         0.27450982 0.99607843 0.99607843\n",
      "   0.27058825 0.         0.         0.         0.         0.\n",
      "   0.         0.         0.         0.        ]\n",
      "  [0.         0.         0.         0.         0.         0.\n",
      "   0.         0.21568628 0.9529412  0.99215686 0.65882355 0.\n",
      "   0.         0.         0.         0.27450982 0.99215686 0.99215686\n",
      "   0.27058825 0.         0.         0.         0.         0.\n",
      "   0.         0.         0.         0.        ]\n",
      "  [0.         0.         0.         0.         0.         0.\n",
      "   0.         0.6313726  0.99215686 0.99215686 0.9254902  0.8156863\n",
      "   0.4862745  0.45490196 0.45490196 0.73333335 0.99215686 0.99215686\n",
      "   0.27058825 0.         0.         0.         0.         0.\n",
      "   0.         0.         0.         0.        ]\n",
      "  [0.         0.         0.         0.         0.         0.\n",
      "   0.         0.6313726  0.99215686 0.99215686 0.99215686 0.99607843\n",
      "   0.99215686 0.99215686 0.99215686 0.99607843 0.99215686 0.99215686\n",
      "   0.5294118  0.         0.         0.         0.         0.\n",
      "   0.         0.         0.         0.        ]\n",
      "  [0.         0.         0.         0.         0.         0.\n",
      "   0.         0.         0.33333334 0.3647059  0.3647059  0.3647059\n",
      "   0.3647059  0.3647059  0.3647059  0.53333336 0.99607843 0.9372549\n",
      "   0.09803922 0.         0.         0.         0.         0.\n",
      "   0.         0.         0.         0.        ]\n",
      "  [0.         0.         0.         0.         0.         0.\n",
      "   0.         0.         0.         0.         0.         0.\n",
      "   0.         0.         0.         0.47058824 0.99215686 0.9019608\n",
      "   0.         0.         0.         0.         0.         0.\n",
      "   0.         0.         0.         0.        ]\n",
      "  [0.         0.         0.         0.         0.         0.\n",
      "   0.         0.         0.         0.         0.         0.\n",
      "   0.         0.         0.         0.6313726  0.99215686 0.9019608\n",
      "   0.         0.         0.         0.         0.         0.\n",
      "   0.         0.         0.         0.        ]\n",
      "  [0.         0.         0.         0.         0.         0.\n",
      "   0.         0.         0.         0.         0.         0.\n",
      "   0.         0.         0.         0.6313726  0.99215686 0.9019608\n",
      "   0.         0.         0.         0.         0.         0.\n",
      "   0.         0.         0.         0.        ]\n",
      "  [0.         0.         0.         0.         0.         0.\n",
      "   0.         0.         0.         0.         0.         0.\n",
      "   0.         0.         0.         0.73333335 0.99607843 0.5411765\n",
      "   0.         0.         0.         0.         0.         0.\n",
      "   0.         0.         0.         0.        ]\n",
      "  [0.         0.         0.         0.         0.         0.\n",
      "   0.         0.         0.         0.         0.         0.\n",
      "   0.         0.         0.         0.99607843 0.99215686 0.5372549\n",
      "   0.         0.         0.         0.         0.         0.\n",
      "   0.         0.         0.         0.        ]\n",
      "  [0.         0.         0.         0.         0.         0.\n",
      "   0.         0.         0.         0.         0.         0.\n",
      "   0.         0.         0.         0.99607843 0.99215686 0.5058824\n",
      "   0.         0.         0.         0.         0.         0.\n",
      "   0.         0.         0.         0.        ]\n",
      "  [0.         0.         0.         0.         0.         0.\n",
      "   0.         0.         0.         0.         0.         0.\n",
      "   0.         0.         0.         0.8627451  0.99215686 0.18039216\n",
      "   0.         0.         0.         0.         0.         0.\n",
      "   0.         0.         0.         0.        ]\n",
      "  [0.         0.         0.         0.         0.         0.\n",
      "   0.         0.         0.         0.         0.         0.\n",
      "   0.         0.         0.         0.         0.         0.\n",
      "   0.         0.         0.         0.         0.         0.\n",
      "   0.         0.         0.         0.        ]\n",
      "  [0.         0.         0.         0.         0.         0.\n",
      "   0.         0.         0.         0.         0.         0.\n",
      "   0.         0.         0.         0.         0.         0.\n",
      "   0.         0.         0.         0.         0.         0.\n",
      "   0.         0.         0.         0.        ]\n",
      "  [0.         0.         0.         0.         0.         0.\n",
      "   0.         0.         0.         0.         0.         0.\n",
      "   0.         0.         0.         0.         0.         0.\n",
      "   0.         0.         0.         0.         0.         0.\n",
      "   0.         0.         0.         0.        ]]]\n",
      "\n",
      "\n",
      "\n",
      "\n",
      "Target of train dataset : 4\n"
     ]
    }
   ],
   "source": [
    "print(\"Data of train dataset : {}\\n\\n\\n\\n\".format(train_dataset[0]['data']))\n",
    "print(\"Target of train dataset : {}\".format(train_dataset[0]['target']))"
   ]
  },
  {
   "cell_type": "code",
   "execution_count": 20,
   "id": "found-retail",
   "metadata": {
    "execution": {
     "iopub.execute_input": "2021-06-26T05:54:52.068428Z",
     "iopub.status.busy": "2021-06-26T05:54:52.067709Z",
     "iopub.status.idle": "2021-06-26T05:54:52.070342Z",
     "shell.execute_reply": "2021-06-26T05:54:52.069853Z",
     "shell.execute_reply.started": "2021-06-26T05:11:40.434126Z"
    },
    "papermill": {
     "duration": 0.055617,
     "end_time": "2021-06-26T05:54:52.070442",
     "exception": false,
     "start_time": "2021-06-26T05:54:52.014825",
     "status": "completed"
    },
    "tags": []
   },
   "outputs": [],
   "source": [
    "BATCH_SIZE = 256"
   ]
  },
  {
   "cell_type": "code",
   "execution_count": 21,
   "id": "consecutive-capacity",
   "metadata": {
    "execution": {
     "iopub.execute_input": "2021-06-26T05:54:52.173813Z",
     "iopub.status.busy": "2021-06-26T05:54:52.173100Z",
     "iopub.status.idle": "2021-06-26T05:54:52.175759Z",
     "shell.execute_reply": "2021-06-26T05:54:52.175298Z",
     "shell.execute_reply.started": "2021-06-26T05:11:40.440354Z"
    },
    "papermill": {
     "duration": 0.055943,
     "end_time": "2021-06-26T05:54:52.175873",
     "exception": false,
     "start_time": "2021-06-26T05:54:52.119930",
     "status": "completed"
    },
    "tags": []
   },
   "outputs": [],
   "source": [
    "train_loader = DataLoader(train_dataset, batch_size=BATCH_SIZE, shuffle = True)\n",
    "val_loader = DataLoader(val_dataset, batch_size=BATCH_SIZE, shuffle = False)"
   ]
  },
  {
   "cell_type": "code",
   "execution_count": 22,
   "id": "popular-bookmark",
   "metadata": {
    "execution": {
     "iopub.execute_input": "2021-06-26T05:54:52.277940Z",
     "iopub.status.busy": "2021-06-26T05:54:52.277313Z",
     "iopub.status.idle": "2021-06-26T05:54:52.279981Z",
     "shell.execute_reply": "2021-06-26T05:54:52.279585Z",
     "shell.execute_reply.started": "2021-06-26T05:11:40.450970Z"
    },
    "papermill": {
     "duration": 0.054886,
     "end_time": "2021-06-26T05:54:52.280081",
     "exception": false,
     "start_time": "2021-06-26T05:54:52.225195",
     "status": "completed"
    },
    "tags": []
   },
   "outputs": [],
   "source": [
    "dataloaders_dict = {\"train\": train_loader, \"val\": val_loader}"
   ]
  },
  {
   "cell_type": "markdown",
   "id": "animated-feedback",
   "metadata": {
    "papermill": {
     "duration": 0.049534,
     "end_time": "2021-06-26T05:54:52.379637",
     "exception": false,
     "start_time": "2021-06-26T05:54:52.330103",
     "status": "completed"
    },
    "tags": []
   },
   "source": [
    "# 5.Modeling\n",
    "* CNN Modeling\n",
    "* ResNet Modeling\n",
    "* DenseNet Modeling\n",
    "* Training\n",
    "* Evaluating"
   ]
  },
  {
   "cell_type": "markdown",
   "id": "electronic-boost",
   "metadata": {
    "papermill": {
     "duration": 0.048938,
     "end_time": "2021-06-26T05:54:52.477648",
     "exception": false,
     "start_time": "2021-06-26T05:54:52.428710",
     "status": "completed"
    },
    "tags": []
   },
   "source": [
    "### 5-1) CNN Modeling"
   ]
  },
  {
   "cell_type": "code",
   "execution_count": 23,
   "id": "effective-class",
   "metadata": {
    "execution": {
     "iopub.execute_input": "2021-06-26T05:54:52.588331Z",
     "iopub.status.busy": "2021-06-26T05:54:52.587607Z",
     "iopub.status.idle": "2021-06-26T05:54:52.590362Z",
     "shell.execute_reply": "2021-06-26T05:54:52.589942Z",
     "shell.execute_reply.started": "2021-06-26T05:11:40.463641Z"
    },
    "papermill": {
     "duration": 0.055351,
     "end_time": "2021-06-26T05:54:52.590459",
     "exception": false,
     "start_time": "2021-06-26T05:54:52.535108",
     "status": "completed"
    },
    "tags": []
   },
   "outputs": [],
   "source": [
    "INPUT_DIM = 1\n",
    "HIDDEN_DIM_1 = 32\n",
    "HIDDEN_DIM_2 = 64\n",
    "OUTPUT = 10"
   ]
  },
  {
   "cell_type": "code",
   "execution_count": 24,
   "id": "private-while",
   "metadata": {
    "execution": {
     "iopub.execute_input": "2021-06-26T05:54:52.696964Z",
     "iopub.status.busy": "2021-06-26T05:54:52.696257Z",
     "iopub.status.idle": "2021-06-26T05:54:52.698867Z",
     "shell.execute_reply": "2021-06-26T05:54:52.698464Z",
     "shell.execute_reply.started": "2021-06-26T05:11:40.472105Z"
    },
    "papermill": {
     "duration": 0.059292,
     "end_time": "2021-06-26T05:54:52.698970",
     "exception": false,
     "start_time": "2021-06-26T05:54:52.639678",
     "status": "completed"
    },
    "tags": []
   },
   "outputs": [],
   "source": [
    "class BasicCNN(nn.Module):\n",
    "    def __init__(self, input_dim, hidden_dim_1, hidden_dim_2, output):\n",
    "        super(BasicCNN, self).__init__()\n",
    "        \n",
    "        self.convolution_layer = nn.Sequential(OrderedDict([\n",
    "            ('conv1', nn.Conv2d(input_dim, hidden_dim_1, 3, 1, 0)),\n",
    "            ('relu1', nn.ReLU()),\n",
    "            ('pool1', nn.MaxPool2d(2,2)),\n",
    "            ('conv2', nn.Conv2d(hidden_dim_1, hidden_dim_2, 3, 1, 0)),\n",
    "            ('relu2', nn.ReLU()),\n",
    "            ('pool2', nn.MaxPool2d(2,2))    \n",
    "        ]))\n",
    "        self.fc_layer = nn.Sequential(OrderedDict([\n",
    "            ('Dense1', nn.Linear(1600, output)),\n",
    "            ('softmax', nn.Softmax())\n",
    "        ]))\n",
    "    \n",
    "    def forward(self,x):\n",
    "        out = self.convolution_layer(x)\n",
    "        out = out.view(out.size(0),-1)\n",
    "        out = self.fc_layer(out)\n",
    "        return out"
   ]
  },
  {
   "cell_type": "code",
   "execution_count": 25,
   "id": "mounted-length",
   "metadata": {
    "execution": {
     "iopub.execute_input": "2021-06-26T05:54:52.801899Z",
     "iopub.status.busy": "2021-06-26T05:54:52.801410Z",
     "iopub.status.idle": "2021-06-26T05:54:52.837708Z",
     "shell.execute_reply": "2021-06-26T05:54:52.838111Z",
     "shell.execute_reply.started": "2021-06-26T05:11:40.483282Z"
    },
    "papermill": {
     "duration": 0.089937,
     "end_time": "2021-06-26T05:54:52.838234",
     "exception": false,
     "start_time": "2021-06-26T05:54:52.748297",
     "status": "completed"
    },
    "tags": []
   },
   "outputs": [
    {
     "name": "stdout",
     "output_type": "stream",
     "text": [
      "BasicCNN(\n",
      "  (convolution_layer): Sequential(\n",
      "    (conv1): Conv2d(1, 32, kernel_size=(3, 3), stride=(1, 1))\n",
      "    (relu1): ReLU()\n",
      "    (pool1): MaxPool2d(kernel_size=2, stride=2, padding=0, dilation=1, ceil_mode=False)\n",
      "    (conv2): Conv2d(32, 64, kernel_size=(3, 3), stride=(1, 1))\n",
      "    (relu2): ReLU()\n",
      "    (pool2): MaxPool2d(kernel_size=2, stride=2, padding=0, dilation=1, ceil_mode=False)\n",
      "  )\n",
      "  (fc_layer): Sequential(\n",
      "    (Dense1): Linear(in_features=1600, out_features=10, bias=True)\n",
      "    (softmax): Softmax(dim=None)\n",
      "  )\n",
      ")\n"
     ]
    }
   ],
   "source": [
    "cnn_model = BasicCNN(INPUT_DIM, HIDDEN_DIM_1, HIDDEN_DIM_2, OUTPUT)\n",
    "print(cnn_model)"
   ]
  },
  {
   "cell_type": "markdown",
   "id": "civil-passage",
   "metadata": {
    "papermill": {
     "duration": 0.049518,
     "end_time": "2021-06-26T05:54:52.937153",
     "exception": false,
     "start_time": "2021-06-26T05:54:52.887635",
     "status": "completed"
    },
    "tags": []
   },
   "source": [
    "### 5-2) ResNet Modeling"
   ]
  },
  {
   "cell_type": "code",
   "execution_count": 26,
   "id": "million-tonight",
   "metadata": {
    "execution": {
     "iopub.execute_input": "2021-06-26T05:54:53.047050Z",
     "iopub.status.busy": "2021-06-26T05:54:53.046332Z",
     "iopub.status.idle": "2021-06-26T05:54:53.048836Z",
     "shell.execute_reply": "2021-06-26T05:54:53.048442Z",
     "shell.execute_reply.started": "2021-06-26T05:11:40.548683Z"
    },
    "papermill": {
     "duration": 0.062281,
     "end_time": "2021-06-26T05:54:53.048937",
     "exception": false,
     "start_time": "2021-06-26T05:54:52.986656",
     "status": "completed"
    },
    "tags": []
   },
   "outputs": [],
   "source": [
    "class ResidualBlock(nn.Module):\n",
    "    def __init__(self, data_dim, layer_name, is_last_layer=False):\n",
    "        super(ResidualBlock, self).__init__()\n",
    "        self.is_last_layer = is_last_layer\n",
    "        \n",
    "        self.resblock_1 = nn.Sequential(OrderedDict([\n",
    "            ('{}_conv1'.format(layer_name), nn.Conv2d(data_dim, data_dim, kernel_size=3, stride=1, padding=1, bias=False)),\n",
    "            ('{}_batchnorm1'.format(layer_name), nn.BatchNorm2d(data_dim)),\n",
    "            ('{}_relu1'.format(layer_name), nn.ReLU()),\n",
    "            \n",
    "            ('{}_conv2'.format(layer_name), nn.Conv2d(data_dim, data_dim, kernel_size=3, stride=1, padding=1, bias=False)),\n",
    "            ('{}_batchnorm2'.format(layer_name), nn.BatchNorm2d(data_dim)),\n",
    "            ('{}_relu2'.format(layer_name), nn.ReLU())\n",
    "        ]))\n",
    "        self.resblock_2 = nn.Sequential(OrderedDict([\n",
    "            ('{}_conv1'.format(layer_name), nn.Conv2d(data_dim, data_dim, kernel_size=3, stride=1, padding=1, bias=False)),\n",
    "            ('{}_batchnorm1'.format(layer_name), nn.BatchNorm2d(data_dim)),\n",
    "            ('{}_relu1'.format(layer_name), nn.ReLU()),\n",
    "            \n",
    "            ('{}_conv2'.format(layer_name), nn.Conv2d(data_dim, data_dim, kernel_size=3, stride=1, padding=0, bias=False)),\n",
    "            ('{}_batchnorm2'.format(layer_name), nn.BatchNorm2d(data_dim)),\n",
    "            ('{}_relu2'.format(layer_name), nn.ReLU())\n",
    "        ]))\n",
    "        \n",
    "        # Adjustment layer because height and width values are different\n",
    "        self.set_shortcut = nn.Conv2d(data_dim, data_dim, kernel_size=3, stride=1, padding=0, bias=False)\n",
    "        \n",
    "        \n",
    "    def forward(self, x):\n",
    "        shortcut = x\n",
    "        out = self.resblock_1(x)\n",
    "        out = out + shortcut\n",
    "        \n",
    "        shortcut = self.set_shortcut(out)\n",
    "        out = self.resblock_2(out)\n",
    "        out = out + shortcut\n",
    "\n",
    "        return out"
   ]
  },
  {
   "cell_type": "code",
   "execution_count": 27,
   "id": "explicit-animal",
   "metadata": {
    "execution": {
     "iopub.execute_input": "2021-06-26T05:54:53.158182Z",
     "iopub.status.busy": "2021-06-26T05:54:53.155883Z",
     "iopub.status.idle": "2021-06-26T05:54:53.160640Z",
     "shell.execute_reply": "2021-06-26T05:54:53.160159Z",
     "shell.execute_reply.started": "2021-06-26T05:11:40.563339Z"
    },
    "papermill": {
     "duration": 0.062063,
     "end_time": "2021-06-26T05:54:53.160747",
     "exception": false,
     "start_time": "2021-06-26T05:54:53.098684",
     "status": "completed"
    },
    "tags": []
   },
   "outputs": [],
   "source": [
    "class ResNet_mini(nn.Module):\n",
    "    def __init__(self, input_dim, output):\n",
    "        super(ResNet_mini, self).__init__()\n",
    "        self.FirstBlock = nn.Sequential(OrderedDict([\n",
    "            ('FirstBlock_conv1', nn.Conv2d(input_dim, 64, kernel_size=4, stride=2, padding=4, bias=False)),\n",
    "            ('FirstBlock_batchnorm1', nn.BatchNorm2d(64)),\n",
    "            ('FirstBlock_relu1', nn.ReLU()),\n",
    "            ('FirstBlock_maxpool2d1', nn.MaxPool2d(kernel_size=2, stride=2, padding=1)),\n",
    "        ]))\n",
    "        self.SecondBlock = ResidualBlock(64,'SecondBlock')\n",
    "        self.ChangeChannel_1 = nn.Conv2d(64, 128, kernel_size=1, stride=1, padding=0)\n",
    "        \n",
    "        self.ThridBlock = ResidualBlock(128,'ThridBlock')\n",
    "        self.ChangeChannel_2 = nn.Conv2d(128, 256, kernel_size=1, stride=1, padding=0)\n",
    "        \n",
    "        self.FourthBlock = ResidualBlock(256,'FourthBlock')  \n",
    "        \n",
    "        self.AveragePool2d = nn.AdaptiveAvgPool2d((1,1))\n",
    "        \n",
    "        self.FC = nn.Sequential(OrderedDict([\n",
    "            ('FC_linear', nn.Linear(256, output)),\n",
    "            ('FC_softmax', nn.Softmax(dim=1))\n",
    "        ]))\n",
    "    \n",
    "    def forward(self, x):\n",
    "        out = self.FirstBlock(x)\n",
    "\n",
    "        out = self.SecondBlock(out)\n",
    "        out = self.ChangeChannel_1(out)\n",
    "\n",
    "        out = self.ThridBlock(out)\n",
    "        out = self.ChangeChannel_2(out)\n",
    "\n",
    "        out = self.FourthBlock(out)\n",
    "\n",
    "        out = self.AveragePool2d(out)\n",
    "        out = out.view(out.size(0), -1)\n",
    "        out = self.FC(out)\n",
    "        \n",
    "        return out"
   ]
  },
  {
   "cell_type": "code",
   "execution_count": 28,
   "id": "prompt-state",
   "metadata": {
    "execution": {
     "iopub.execute_input": "2021-06-26T05:54:53.263447Z",
     "iopub.status.busy": "2021-06-26T05:54:53.262964Z",
     "iopub.status.idle": "2021-06-26T05:54:53.307534Z",
     "shell.execute_reply": "2021-06-26T05:54:53.308129Z",
     "shell.execute_reply.started": "2021-06-26T05:11:40.579447Z"
    },
    "papermill": {
     "duration": 0.097965,
     "end_time": "2021-06-26T05:54:53.308286",
     "exception": false,
     "start_time": "2021-06-26T05:54:53.210321",
     "status": "completed"
    },
    "tags": []
   },
   "outputs": [
    {
     "name": "stdout",
     "output_type": "stream",
     "text": [
      "ResNet_mini(\n",
      "  (FirstBlock): Sequential(\n",
      "    (FirstBlock_conv1): Conv2d(1, 64, kernel_size=(4, 4), stride=(2, 2), padding=(4, 4), bias=False)\n",
      "    (FirstBlock_batchnorm1): BatchNorm2d(64, eps=1e-05, momentum=0.1, affine=True, track_running_stats=True)\n",
      "    (FirstBlock_relu1): ReLU()\n",
      "    (FirstBlock_maxpool2d1): MaxPool2d(kernel_size=2, stride=2, padding=1, dilation=1, ceil_mode=False)\n",
      "  )\n",
      "  (SecondBlock): ResidualBlock(\n",
      "    (resblock_1): Sequential(\n",
      "      (SecondBlock_conv1): Conv2d(64, 64, kernel_size=(3, 3), stride=(1, 1), padding=(1, 1), bias=False)\n",
      "      (SecondBlock_batchnorm1): BatchNorm2d(64, eps=1e-05, momentum=0.1, affine=True, track_running_stats=True)\n",
      "      (SecondBlock_relu1): ReLU()\n",
      "      (SecondBlock_conv2): Conv2d(64, 64, kernel_size=(3, 3), stride=(1, 1), padding=(1, 1), bias=False)\n",
      "      (SecondBlock_batchnorm2): BatchNorm2d(64, eps=1e-05, momentum=0.1, affine=True, track_running_stats=True)\n",
      "      (SecondBlock_relu2): ReLU()\n",
      "    )\n",
      "    (resblock_2): Sequential(\n",
      "      (SecondBlock_conv1): Conv2d(64, 64, kernel_size=(3, 3), stride=(1, 1), padding=(1, 1), bias=False)\n",
      "      (SecondBlock_batchnorm1): BatchNorm2d(64, eps=1e-05, momentum=0.1, affine=True, track_running_stats=True)\n",
      "      (SecondBlock_relu1): ReLU()\n",
      "      (SecondBlock_conv2): Conv2d(64, 64, kernel_size=(3, 3), stride=(1, 1), bias=False)\n",
      "      (SecondBlock_batchnorm2): BatchNorm2d(64, eps=1e-05, momentum=0.1, affine=True, track_running_stats=True)\n",
      "      (SecondBlock_relu2): ReLU()\n",
      "    )\n",
      "    (set_shortcut): Conv2d(64, 64, kernel_size=(3, 3), stride=(1, 1), bias=False)\n",
      "  )\n",
      "  (ChangeChannel_1): Conv2d(64, 128, kernel_size=(1, 1), stride=(1, 1))\n",
      "  (ThridBlock): ResidualBlock(\n",
      "    (resblock_1): Sequential(\n",
      "      (ThridBlock_conv1): Conv2d(128, 128, kernel_size=(3, 3), stride=(1, 1), padding=(1, 1), bias=False)\n",
      "      (ThridBlock_batchnorm1): BatchNorm2d(128, eps=1e-05, momentum=0.1, affine=True, track_running_stats=True)\n",
      "      (ThridBlock_relu1): ReLU()\n",
      "      (ThridBlock_conv2): Conv2d(128, 128, kernel_size=(3, 3), stride=(1, 1), padding=(1, 1), bias=False)\n",
      "      (ThridBlock_batchnorm2): BatchNorm2d(128, eps=1e-05, momentum=0.1, affine=True, track_running_stats=True)\n",
      "      (ThridBlock_relu2): ReLU()\n",
      "    )\n",
      "    (resblock_2): Sequential(\n",
      "      (ThridBlock_conv1): Conv2d(128, 128, kernel_size=(3, 3), stride=(1, 1), padding=(1, 1), bias=False)\n",
      "      (ThridBlock_batchnorm1): BatchNorm2d(128, eps=1e-05, momentum=0.1, affine=True, track_running_stats=True)\n",
      "      (ThridBlock_relu1): ReLU()\n",
      "      (ThridBlock_conv2): Conv2d(128, 128, kernel_size=(3, 3), stride=(1, 1), bias=False)\n",
      "      (ThridBlock_batchnorm2): BatchNorm2d(128, eps=1e-05, momentum=0.1, affine=True, track_running_stats=True)\n",
      "      (ThridBlock_relu2): ReLU()\n",
      "    )\n",
      "    (set_shortcut): Conv2d(128, 128, kernel_size=(3, 3), stride=(1, 1), bias=False)\n",
      "  )\n",
      "  (ChangeChannel_2): Conv2d(128, 256, kernel_size=(1, 1), stride=(1, 1))\n",
      "  (FourthBlock): ResidualBlock(\n",
      "    (resblock_1): Sequential(\n",
      "      (FourthBlock_conv1): Conv2d(256, 256, kernel_size=(3, 3), stride=(1, 1), padding=(1, 1), bias=False)\n",
      "      (FourthBlock_batchnorm1): BatchNorm2d(256, eps=1e-05, momentum=0.1, affine=True, track_running_stats=True)\n",
      "      (FourthBlock_relu1): ReLU()\n",
      "      (FourthBlock_conv2): Conv2d(256, 256, kernel_size=(3, 3), stride=(1, 1), padding=(1, 1), bias=False)\n",
      "      (FourthBlock_batchnorm2): BatchNorm2d(256, eps=1e-05, momentum=0.1, affine=True, track_running_stats=True)\n",
      "      (FourthBlock_relu2): ReLU()\n",
      "    )\n",
      "    (resblock_2): Sequential(\n",
      "      (FourthBlock_conv1): Conv2d(256, 256, kernel_size=(3, 3), stride=(1, 1), padding=(1, 1), bias=False)\n",
      "      (FourthBlock_batchnorm1): BatchNorm2d(256, eps=1e-05, momentum=0.1, affine=True, track_running_stats=True)\n",
      "      (FourthBlock_relu1): ReLU()\n",
      "      (FourthBlock_conv2): Conv2d(256, 256, kernel_size=(3, 3), stride=(1, 1), bias=False)\n",
      "      (FourthBlock_batchnorm2): BatchNorm2d(256, eps=1e-05, momentum=0.1, affine=True, track_running_stats=True)\n",
      "      (FourthBlock_relu2): ReLU()\n",
      "    )\n",
      "    (set_shortcut): Conv2d(256, 256, kernel_size=(3, 3), stride=(1, 1), bias=False)\n",
      "  )\n",
      "  (AveragePool2d): AdaptiveAvgPool2d(output_size=(1, 1))\n",
      "  (FC): Sequential(\n",
      "    (FC_linear): Linear(in_features=256, out_features=10, bias=True)\n",
      "    (FC_softmax): Softmax(dim=1)\n",
      "  )\n",
      ")\n"
     ]
    }
   ],
   "source": [
    "resnet_model = ResNet_mini(INPUT_DIM, OUTPUT)\n",
    "print(resnet_model)"
   ]
  },
  {
   "cell_type": "markdown",
   "id": "ceramic-junction",
   "metadata": {
    "papermill": {
     "duration": 0.050034,
     "end_time": "2021-06-26T05:54:53.409643",
     "exception": false,
     "start_time": "2021-06-26T05:54:53.359609",
     "status": "completed"
    },
    "tags": []
   },
   "source": [
    "### 5-3) DenseNet Modeling"
   ]
  },
  {
   "cell_type": "code",
   "execution_count": 29,
   "id": "aerial-chamber",
   "metadata": {
    "execution": {
     "iopub.execute_input": "2021-06-26T05:54:53.517563Z",
     "iopub.status.busy": "2021-06-26T05:54:53.516853Z",
     "iopub.status.idle": "2021-06-26T05:54:53.519334Z",
     "shell.execute_reply": "2021-06-26T05:54:53.518951Z",
     "shell.execute_reply.started": "2021-06-26T05:48:03.177821Z"
    },
    "papermill": {
     "duration": 0.059668,
     "end_time": "2021-06-26T05:54:53.519433",
     "exception": false,
     "start_time": "2021-06-26T05:54:53.459765",
     "status": "completed"
    },
    "tags": []
   },
   "outputs": [],
   "source": [
    "class DenseBlock(nn.Module):\n",
    "    def __init__(self,input_dim, layer_name):\n",
    "        super(DenseBlock, self).__init__()\n",
    "        \n",
    "        hidden_dim = input_dim * 2\n",
    "        \n",
    "        self.denseblock1 = nn.Sequential(OrderedDict([\n",
    "            ('{}_batchnorm1'.format(layer_name), nn.BatchNorm2d(input_dim)),\n",
    "            ('{}_relu1'.format(layer_name), nn.ReLU()),\n",
    "            ('{}_conv1'.format(layer_name), nn.Conv2d(input_dim, hidden_dim, kernel_size=3, stride=1, padding=1, bias=False)),\n",
    "        ]))\n",
    "        \n",
    "        self.denseblock2 = nn.Sequential(OrderedDict([\n",
    "            ('{}_batchnorm2'.format(layer_name), nn.BatchNorm2d(hidden_dim)),\n",
    "            ('{}_relu2'.format(layer_name), nn.ReLU()),\n",
    "            ('{}_conv2'.format(layer_name), nn.Conv2d(hidden_dim, 32, kernel_size=3, stride=1, padding=1, bias=False)),\n",
    "        ]))\n",
    "        \n",
    "    def forward(self, x):\n",
    "        shortcut = x\n",
    "        out = self.denseblock1(x)\n",
    "        out = self.denseblock2(out)\n",
    "        out = torch.cat([out, shortcut], 1)\n",
    "        return out"
   ]
  },
  {
   "cell_type": "code",
   "execution_count": 30,
   "id": "cleared-hypothetical",
   "metadata": {
    "execution": {
     "iopub.execute_input": "2021-06-26T05:54:53.628339Z",
     "iopub.status.busy": "2021-06-26T05:54:53.627572Z",
     "iopub.status.idle": "2021-06-26T05:54:53.630167Z",
     "shell.execute_reply": "2021-06-26T05:54:53.629763Z",
     "shell.execute_reply.started": "2021-06-26T05:48:03.332508Z"
    },
    "papermill": {
     "duration": 0.061163,
     "end_time": "2021-06-26T05:54:53.630265",
     "exception": false,
     "start_time": "2021-06-26T05:54:53.569102",
     "status": "completed"
    },
    "tags": []
   },
   "outputs": [],
   "source": [
    "class DenseNet_mini(nn.Module):\n",
    "    def __init__(self, input_dim, output):\n",
    "        super(DenseNet_mini, self).__init__()\n",
    "        self.FirstBlock = nn.Sequential(OrderedDict([\n",
    "            ('FirstBlock_conv1', nn.Conv2d(input_dim, 32, kernel_size=4, stride=2, padding=4, bias=False)),\n",
    "            ('FirstBlock_batchnorm1', nn.BatchNorm2d(32)),\n",
    "            ('FirstBlock_relu1', nn.ReLU()),\n",
    "            ('FirstBlock_maxpool2d1', nn.MaxPool2d(kernel_size=2, stride=2, padding=1)),\n",
    "        ]))\n",
    "        self.SecondBlock = DenseBlock(32,'SecondBlock')\n",
    "        self.ThridBlock = DenseBlock(32+32,'ThridBlock')\n",
    "        self.FourthBlock = DenseBlock(64+32,'FourthBlock')\n",
    "        self.FifthBlock = DenseBlock(96+32,'FifthBlock')\n",
    "        \n",
    "        self.AveragePool2d = nn.AdaptiveAvgPool2d((1,1))\n",
    "        \n",
    "        self.FC = nn.Sequential(OrderedDict([\n",
    "            ('FC_linear', nn.Linear(128, output)),\n",
    "            ('FC_softmax', nn.Softmax(dim=1))\n",
    "        ]))\n",
    "    \n",
    "    def forward(self, x):\n",
    "        out = self.FirstBlock(x)\n",
    "        out = self.SecondBlock(out)\n",
    "        out = self.ThridBlock(out)\n",
    "        out = self.FourthBlock(out)\n",
    "\n",
    "        out = self.AveragePool2d(out)\n",
    "        out = out.view(out.size(0), -1)\n",
    "        out = self.FC(out)\n",
    "        \n",
    "        return out"
   ]
  },
  {
   "cell_type": "code",
   "execution_count": 31,
   "id": "unknown-external",
   "metadata": {
    "execution": {
     "iopub.execute_input": "2021-06-26T05:54:53.734276Z",
     "iopub.status.busy": "2021-06-26T05:54:53.733483Z",
     "iopub.status.idle": "2021-06-26T05:54:53.746376Z",
     "shell.execute_reply": "2021-06-26T05:54:53.746825Z",
     "shell.execute_reply.started": "2021-06-26T05:48:03.508748Z"
    },
    "papermill": {
     "duration": 0.066643,
     "end_time": "2021-06-26T05:54:53.746946",
     "exception": false,
     "start_time": "2021-06-26T05:54:53.680303",
     "status": "completed"
    },
    "tags": []
   },
   "outputs": [
    {
     "name": "stdout",
     "output_type": "stream",
     "text": [
      "DenseNet_mini(\n",
      "  (FirstBlock): Sequential(\n",
      "    (FirstBlock_conv1): Conv2d(1, 32, kernel_size=(4, 4), stride=(2, 2), padding=(4, 4), bias=False)\n",
      "    (FirstBlock_batchnorm1): BatchNorm2d(32, eps=1e-05, momentum=0.1, affine=True, track_running_stats=True)\n",
      "    (FirstBlock_relu1): ReLU()\n",
      "    (FirstBlock_maxpool2d1): MaxPool2d(kernel_size=2, stride=2, padding=1, dilation=1, ceil_mode=False)\n",
      "  )\n",
      "  (SecondBlock): DenseBlock(\n",
      "    (denseblock1): Sequential(\n",
      "      (SecondBlock_batchnorm1): BatchNorm2d(32, eps=1e-05, momentum=0.1, affine=True, track_running_stats=True)\n",
      "      (SecondBlock_relu1): ReLU()\n",
      "      (SecondBlock_conv1): Conv2d(32, 64, kernel_size=(3, 3), stride=(1, 1), padding=(1, 1), bias=False)\n",
      "    )\n",
      "    (denseblock2): Sequential(\n",
      "      (SecondBlock_batchnorm2): BatchNorm2d(64, eps=1e-05, momentum=0.1, affine=True, track_running_stats=True)\n",
      "      (SecondBlock_relu2): ReLU()\n",
      "      (SecondBlock_conv2): Conv2d(64, 32, kernel_size=(3, 3), stride=(1, 1), padding=(1, 1), bias=False)\n",
      "    )\n",
      "  )\n",
      "  (ThridBlock): DenseBlock(\n",
      "    (denseblock1): Sequential(\n",
      "      (ThridBlock_batchnorm1): BatchNorm2d(64, eps=1e-05, momentum=0.1, affine=True, track_running_stats=True)\n",
      "      (ThridBlock_relu1): ReLU()\n",
      "      (ThridBlock_conv1): Conv2d(64, 128, kernel_size=(3, 3), stride=(1, 1), padding=(1, 1), bias=False)\n",
      "    )\n",
      "    (denseblock2): Sequential(\n",
      "      (ThridBlock_batchnorm2): BatchNorm2d(128, eps=1e-05, momentum=0.1, affine=True, track_running_stats=True)\n",
      "      (ThridBlock_relu2): ReLU()\n",
      "      (ThridBlock_conv2): Conv2d(128, 32, kernel_size=(3, 3), stride=(1, 1), padding=(1, 1), bias=False)\n",
      "    )\n",
      "  )\n",
      "  (FourthBlock): DenseBlock(\n",
      "    (denseblock1): Sequential(\n",
      "      (FourthBlock_batchnorm1): BatchNorm2d(96, eps=1e-05, momentum=0.1, affine=True, track_running_stats=True)\n",
      "      (FourthBlock_relu1): ReLU()\n",
      "      (FourthBlock_conv1): Conv2d(96, 192, kernel_size=(3, 3), stride=(1, 1), padding=(1, 1), bias=False)\n",
      "    )\n",
      "    (denseblock2): Sequential(\n",
      "      (FourthBlock_batchnorm2): BatchNorm2d(192, eps=1e-05, momentum=0.1, affine=True, track_running_stats=True)\n",
      "      (FourthBlock_relu2): ReLU()\n",
      "      (FourthBlock_conv2): Conv2d(192, 32, kernel_size=(3, 3), stride=(1, 1), padding=(1, 1), bias=False)\n",
      "    )\n",
      "  )\n",
      "  (FifthBlock): DenseBlock(\n",
      "    (denseblock1): Sequential(\n",
      "      (FifthBlock_batchnorm1): BatchNorm2d(128, eps=1e-05, momentum=0.1, affine=True, track_running_stats=True)\n",
      "      (FifthBlock_relu1): ReLU()\n",
      "      (FifthBlock_conv1): Conv2d(128, 256, kernel_size=(3, 3), stride=(1, 1), padding=(1, 1), bias=False)\n",
      "    )\n",
      "    (denseblock2): Sequential(\n",
      "      (FifthBlock_batchnorm2): BatchNorm2d(256, eps=1e-05, momentum=0.1, affine=True, track_running_stats=True)\n",
      "      (FifthBlock_relu2): ReLU()\n",
      "      (FifthBlock_conv2): Conv2d(256, 32, kernel_size=(3, 3), stride=(1, 1), padding=(1, 1), bias=False)\n",
      "    )\n",
      "  )\n",
      "  (AveragePool2d): AdaptiveAvgPool2d(output_size=(1, 1))\n",
      "  (FC): Sequential(\n",
      "    (FC_linear): Linear(in_features=128, out_features=10, bias=True)\n",
      "    (FC_softmax): Softmax(dim=1)\n",
      "  )\n",
      ")\n"
     ]
    }
   ],
   "source": [
    "densenet_model = DenseNet_mini(INPUT_DIM, OUTPUT)\n",
    "print(densenet_model)"
   ]
  },
  {
   "cell_type": "markdown",
   "id": "cloudy-liverpool",
   "metadata": {
    "papermill": {
     "duration": 0.05035,
     "end_time": "2021-06-26T05:54:53.847611",
     "exception": false,
     "start_time": "2021-06-26T05:54:53.797261",
     "status": "completed"
    },
    "tags": []
   },
   "source": [
    "### 5-4) Training"
   ]
  },
  {
   "cell_type": "code",
   "execution_count": 32,
   "id": "palestinian-scholar",
   "metadata": {
    "execution": {
     "iopub.execute_input": "2021-06-26T05:54:53.959352Z",
     "iopub.status.busy": "2021-06-26T05:54:53.958679Z",
     "iopub.status.idle": "2021-06-26T05:54:53.962205Z",
     "shell.execute_reply": "2021-06-26T05:54:53.961796Z",
     "shell.execute_reply.started": "2021-06-26T05:11:40.647313Z"
    },
    "papermill": {
     "duration": 0.06448,
     "end_time": "2021-06-26T05:54:53.962305",
     "exception": false,
     "start_time": "2021-06-26T05:54:53.897825",
     "status": "completed"
    },
    "tags": []
   },
   "outputs": [],
   "source": [
    "def train_model(model, dataloaders_dict, loss_fn, optimizer, num_epochs, filename):\n",
    "    model.to(device)\n",
    "\n",
    "    history ={'train_loss' : [],\n",
    "             'train_acc' : [],\n",
    "              'val_loss' : [],\n",
    "              'val_acc' : []\n",
    "             }\n",
    "    \n",
    "    for epoch in range(num_epochs):\n",
    "        for i, phase in enumerate(['train','val']):\n",
    "            if phase=='train':\n",
    "                model.train()\n",
    "            else:\n",
    "                model.eval()\n",
    "                \n",
    "            correct = 0\n",
    "            epoch_loss = 0\n",
    "            epoch_acc = 0 \n",
    "\n",
    "            for data in dataloaders_dict[phase]:\n",
    "                x_data = data['data'].to(device)\n",
    "                y_data = data['target'].to(device)\n",
    "\n",
    "                optimizer.zero_grad()\n",
    "\n",
    "                predict = model(x_data)\n",
    "                target = y_data\n",
    "                loss = loss_fn(predict, target)\n",
    "\n",
    "                if phase == 'train':\n",
    "                    loss.backward()\n",
    "                    optimizer.step()\n",
    "\n",
    "                epoch_loss += loss.item() * len(x_data)\n",
    "                correct += (target==predict.argmax(axis=1)).sum()\n",
    "                    \n",
    "            epoch_loss = epoch_loss / len(dataloaders_dict[phase].dataset)\n",
    "            epoch_acc = 100 * (correct / len(dataloaders_dict[phase].dataset))\n",
    "            print(\"{} : [{} / {}] Loss : {:.4f}  | Accuracy : {:.2f}%\".format(phase.upper(), epoch+1, num_epochs, epoch_loss, epoch_acc))\n",
    "            \n",
    "            history['{}_loss'.format(phase)].append(epoch_loss)\n",
    "            history['{}_acc'.format(phase)].append(epoch_acc)\n",
    "            \n",
    "        torch.save(model.state_dict(), filename)\n",
    "        print(\" \")\n",
    "    return history"
   ]
  },
  {
   "cell_type": "code",
   "execution_count": 33,
   "id": "noted-assembly",
   "metadata": {
    "execution": {
     "iopub.execute_input": "2021-06-26T05:54:54.117522Z",
     "iopub.status.busy": "2021-06-26T05:54:54.116727Z",
     "iopub.status.idle": "2021-06-26T05:54:54.121076Z",
     "shell.execute_reply": "2021-06-26T05:54:54.120490Z",
     "shell.execute_reply.started": "2021-06-26T05:11:40.661965Z"
    },
    "papermill": {
     "duration": 0.107722,
     "end_time": "2021-06-26T05:54:54.121207",
     "exception": false,
     "start_time": "2021-06-26T05:54:54.013485",
     "status": "completed"
    },
    "tags": []
   },
   "outputs": [
    {
     "name": "stdout",
     "output_type": "stream",
     "text": [
      "True\n",
      "A device that proceeds with :  cuda:0\n"
     ]
    }
   ],
   "source": [
    "USE_CUDA = torch.cuda.is_available()\n",
    "print(USE_CUDA)\n",
    "device = torch.device('cuda:0' if USE_CUDA else 'cpu')\n",
    "print('A device that proceeds with : ',device)"
   ]
  },
  {
   "cell_type": "markdown",
   "id": "portuguese-forty",
   "metadata": {
    "papermill": {
     "duration": 0.050553,
     "end_time": "2021-06-26T05:54:54.223004",
     "exception": false,
     "start_time": "2021-06-26T05:54:54.172451",
     "status": "completed"
    },
    "tags": []
   },
   "source": [
    "* CNN Model"
   ]
  },
  {
   "cell_type": "code",
   "execution_count": 34,
   "id": "adult-worker",
   "metadata": {
    "execution": {
     "iopub.execute_input": "2021-06-26T05:54:54.329193Z",
     "iopub.status.busy": "2021-06-26T05:54:54.328410Z",
     "iopub.status.idle": "2021-06-26T05:54:54.331166Z",
     "shell.execute_reply": "2021-06-26T05:54:54.330721Z",
     "shell.execute_reply.started": "2021-06-26T05:11:40.740129Z"
    },
    "papermill": {
     "duration": 0.057441,
     "end_time": "2021-06-26T05:54:54.331265",
     "exception": false,
     "start_time": "2021-06-26T05:54:54.273824",
     "status": "completed"
    },
    "tags": []
   },
   "outputs": [],
   "source": [
    "loss_fn = nn.CrossEntropyLoss()\n",
    "optimizer = optim.Adam(cnn_model.parameters(), lr=0.01)"
   ]
  },
  {
   "cell_type": "code",
   "execution_count": 35,
   "id": "brief-wages",
   "metadata": {
    "execution": {
     "iopub.execute_input": "2021-06-26T05:54:54.442322Z",
     "iopub.status.busy": "2021-06-26T05:54:54.441839Z",
     "iopub.status.idle": "2021-06-26T05:55:32.403712Z",
     "shell.execute_reply": "2021-06-26T05:55:32.403122Z",
     "shell.execute_reply.started": "2021-06-26T05:11:40.751688Z"
    },
    "papermill": {
     "duration": 38.021048,
     "end_time": "2021-06-26T05:55:32.403886",
     "exception": false,
     "start_time": "2021-06-26T05:54:54.382838",
     "status": "completed"
    },
    "tags": []
   },
   "outputs": [
    {
     "name": "stderr",
     "output_type": "stream",
     "text": [
      "/opt/conda/lib/python3.7/site-packages/torch/nn/modules/container.py:117: UserWarning: Implicit dimension choice for softmax has been deprecated. Change the call to include dim=X as an argument.\n",
      "  input = module(input)\n"
     ]
    },
    {
     "name": "stdout",
     "output_type": "stream",
     "text": [
      "TRAIN : [1 / 30] Loss : 1.7795  | Accuracy : 67.94%\n",
      "VAL : [1 / 30] Loss : 1.6091  | Accuracy : 85.21%\n",
      " \n",
      "TRAIN : [2 / 30] Loss : 1.5851  | Accuracy : 87.55%\n",
      "VAL : [2 / 30] Loss : 1.5880  | Accuracy : 87.29%\n",
      " \n",
      "TRAIN : [3 / 30] Loss : 1.5745  | Accuracy : 88.64%\n",
      "VAL : [3 / 30] Loss : 1.5891  | Accuracy : 87.16%\n",
      " \n",
      "TRAIN : [4 / 30] Loss : 1.5716  | Accuracy : 88.92%\n",
      "VAL : [4 / 30] Loss : 1.5820  | Accuracy : 87.87%\n",
      " \n",
      "TRAIN : [5 / 30] Loss : 1.5705  | Accuracy : 89.02%\n",
      "VAL : [5 / 30] Loss : 1.5805  | Accuracy : 87.95%\n",
      " \n",
      "TRAIN : [6 / 30] Loss : 1.5692  | Accuracy : 89.15%\n",
      "VAL : [6 / 30] Loss : 1.5871  | Accuracy : 87.33%\n",
      " \n",
      "TRAIN : [7 / 30] Loss : 1.5694  | Accuracy : 89.13%\n",
      "VAL : [7 / 30] Loss : 1.5857  | Accuracy : 87.44%\n",
      " \n",
      "TRAIN : [8 / 30] Loss : 1.5684  | Accuracy : 89.24%\n",
      "VAL : [8 / 30] Loss : 1.5901  | Accuracy : 87.06%\n",
      " \n",
      "TRAIN : [9 / 30] Loss : 1.5695  | Accuracy : 89.11%\n",
      "VAL : [9 / 30] Loss : 1.5867  | Accuracy : 87.38%\n",
      " \n",
      "TRAIN : [10 / 30] Loss : 1.5686  | Accuracy : 89.22%\n",
      "VAL : [10 / 30] Loss : 1.5836  | Accuracy : 87.75%\n",
      " \n",
      "TRAIN : [11 / 30] Loss : 1.5691  | Accuracy : 89.17%\n",
      "VAL : [11 / 30] Loss : 1.5861  | Accuracy : 87.46%\n",
      " \n",
      "TRAIN : [12 / 30] Loss : 1.5693  | Accuracy : 89.15%\n",
      "VAL : [12 / 30] Loss : 1.5879  | Accuracy : 87.24%\n",
      " \n",
      "TRAIN : [13 / 30] Loss : 1.5688  | Accuracy : 89.18%\n",
      "VAL : [13 / 30] Loss : 1.5881  | Accuracy : 87.24%\n",
      " \n",
      "TRAIN : [14 / 30] Loss : 1.5707  | Accuracy : 89.01%\n",
      "VAL : [14 / 30] Loss : 1.5947  | Accuracy : 86.57%\n",
      " \n",
      "TRAIN : [15 / 30] Loss : 1.5692  | Accuracy : 89.17%\n",
      "VAL : [15 / 30] Loss : 1.5918  | Accuracy : 86.89%\n",
      " \n",
      "TRAIN : [16 / 30] Loss : 1.5699  | Accuracy : 89.08%\n",
      "VAL : [16 / 30] Loss : 1.5832  | Accuracy : 87.76%\n",
      " \n",
      "TRAIN : [17 / 30] Loss : 1.5690  | Accuracy : 89.20%\n",
      "VAL : [17 / 30] Loss : 1.5825  | Accuracy : 87.83%\n",
      " \n",
      "TRAIN : [18 / 30] Loss : 1.5697  | Accuracy : 89.13%\n",
      "VAL : [18 / 30] Loss : 1.5866  | Accuracy : 87.44%\n",
      " \n",
      "TRAIN : [19 / 30] Loss : 1.5698  | Accuracy : 89.11%\n",
      "VAL : [19 / 30] Loss : 1.5880  | Accuracy : 87.32%\n",
      " \n",
      "TRAIN : [20 / 30] Loss : 1.4991  | Accuracy : 96.18%\n",
      "VAL : [20 / 30] Loss : 1.4835  | Accuracy : 97.76%\n",
      " \n",
      "TRAIN : [21 / 30] Loss : 1.4799  | Accuracy : 98.13%\n",
      "VAL : [21 / 30] Loss : 1.4808  | Accuracy : 98.03%\n",
      " \n",
      "TRAIN : [22 / 30] Loss : 1.4797  | Accuracy : 98.15%\n",
      "VAL : [22 / 30] Loss : 1.4825  | Accuracy : 97.89%\n",
      " \n",
      "TRAIN : [23 / 30] Loss : 1.4763  | Accuracy : 98.47%\n",
      "VAL : [23 / 30] Loss : 1.4799  | Accuracy : 98.11%\n",
      " \n",
      "TRAIN : [24 / 30] Loss : 1.4772  | Accuracy : 98.39%\n",
      "VAL : [24 / 30] Loss : 1.4814  | Accuracy : 97.95%\n",
      " \n",
      "TRAIN : [25 / 30] Loss : 1.4755  | Accuracy : 98.55%\n",
      "VAL : [25 / 30] Loss : 1.4921  | Accuracy : 96.89%\n",
      " \n",
      "TRAIN : [26 / 30] Loss : 1.4765  | Accuracy : 98.46%\n",
      "VAL : [26 / 30] Loss : 1.4832  | Accuracy : 97.79%\n",
      " \n",
      "TRAIN : [27 / 30] Loss : 1.4755  | Accuracy : 98.56%\n",
      "VAL : [27 / 30] Loss : 1.4809  | Accuracy : 98.02%\n",
      " \n",
      "TRAIN : [28 / 30] Loss : 1.4741  | Accuracy : 98.70%\n",
      "VAL : [28 / 30] Loss : 1.4799  | Accuracy : 98.11%\n",
      " \n",
      "TRAIN : [29 / 30] Loss : 1.4771  | Accuracy : 98.40%\n",
      "VAL : [29 / 30] Loss : 1.4770  | Accuracy : 98.41%\n",
      " \n",
      "TRAIN : [30 / 30] Loss : 1.4757  | Accuracy : 98.54%\n",
      "VAL : [30 / 30] Loss : 1.4827  | Accuracy : 97.83%\n",
      " \n"
     ]
    }
   ],
   "source": [
    "NUM_EPOCHS = 30\n",
    "SAVE_MODEL_PATH = f'cnn.pth'\n",
    "\n",
    "history = train_model(\n",
    "    cnn_model,\n",
    "    dataloaders_dict,\n",
    "    loss_fn, \n",
    "    optimizer,\n",
    "    NUM_EPOCHS,\n",
    "    SAVE_MODEL_PATH\n",
    "    )"
   ]
  },
  {
   "cell_type": "code",
   "execution_count": 36,
   "id": "external-delta",
   "metadata": {
    "execution": {
     "iopub.execute_input": "2021-06-26T05:55:32.590803Z",
     "iopub.status.busy": "2021-06-26T05:55:32.589551Z",
     "iopub.status.idle": "2021-06-26T05:55:32.788736Z",
     "shell.execute_reply": "2021-06-26T05:55:32.788335Z",
     "shell.execute_reply.started": "2021-06-26T05:12:41.617274Z"
    },
    "papermill": {
     "duration": 0.325741,
     "end_time": "2021-06-26T05:55:32.788864",
     "exception": false,
     "start_time": "2021-06-26T05:55:32.463123",
     "status": "completed"
    },
    "tags": []
   },
   "outputs": [
    {
     "data": {
      "image/png": "[encoded data removed]",
      "text/plain": [
       "<Figure size 1296x576 with 2 Axes>"
      ]
     },
     "metadata": {
      "needs_background": "light"
     },
     "output_type": "display_data"
    }
   ],
   "source": [
    "fig, axes = plt.subplots(1,2, figsize=(18,8))\n",
    "axes[0].plot(history['train_loss'],label='train_loss')\n",
    "axes[0].plot(history['val_loss'], label='val_loss')\n",
    "axes[0].set_xticks(np.arange(0,NUM_EPOCHS,5))\n",
    "axes[0].legend()\n",
    "\n",
    "\n",
    "axes[1].plot(history['train_acc'], label='train_acc')\n",
    "axes[1].plot(history['val_acc'], label='val_acc')\n",
    "axes[1].set_xticks(np.arange(0,NUM_EPOCHS,5))\n",
    "axes[1].legend()\n",
    "\n",
    "plt.show()"
   ]
  },
  {
   "cell_type": "markdown",
   "id": "accepted-proposition",
   "metadata": {
    "papermill": {
     "duration": 0.059261,
     "end_time": "2021-06-26T05:55:32.908214",
     "exception": false,
     "start_time": "2021-06-26T05:55:32.848953",
     "status": "completed"
    },
    "tags": []
   },
   "source": [
    "* Mini ResNet Model"
   ]
  },
  {
   "cell_type": "code",
   "execution_count": 37,
   "id": "fallen-applicant",
   "metadata": {
    "execution": {
     "iopub.execute_input": "2021-06-26T05:55:33.176986Z",
     "iopub.status.busy": "2021-06-26T05:55:33.175445Z",
     "iopub.status.idle": "2021-06-26T05:55:33.177651Z",
     "shell.execute_reply": "2021-06-26T05:55:33.178076Z",
     "shell.execute_reply.started": "2021-06-26T05:12:41.948235Z"
    },
    "papermill": {
     "duration": 0.210635,
     "end_time": "2021-06-26T05:55:33.178219",
     "exception": false,
     "start_time": "2021-06-26T05:55:32.967584",
     "status": "completed"
    },
    "tags": []
   },
   "outputs": [],
   "source": [
    "# Clear cache\n",
    "import gc\n",
    "gc.collect()\n",
    "\n",
    "torch.cuda.empty_cache()"
   ]
  },
  {
   "cell_type": "code",
   "execution_count": 38,
   "id": "quiet-vegetarian",
   "metadata": {
    "execution": {
     "iopub.execute_input": "2021-06-26T05:55:33.303382Z",
     "iopub.status.busy": "2021-06-26T05:55:33.302872Z",
     "iopub.status.idle": "2021-06-26T05:55:33.337769Z",
     "shell.execute_reply": "2021-06-26T05:55:33.338331Z",
     "shell.execute_reply.started": "2021-06-26T05:12:42.103552Z"
    },
    "papermill": {
     "duration": 0.098957,
     "end_time": "2021-06-26T05:55:33.338472",
     "exception": false,
     "start_time": "2021-06-26T05:55:33.239515",
     "status": "completed"
    },
    "tags": []
   },
   "outputs": [],
   "source": [
    "resnet_model = ResNet_mini(INPUT_DIM, OUTPUT)\n",
    "loss_fn = nn.CrossEntropyLoss()\n",
    "optimizer = optim.Adam(resnet_model.parameters(), lr=0.0001)"
   ]
  },
  {
   "cell_type": "code",
   "execution_count": 39,
   "id": "roman-rouge",
   "metadata": {
    "execution": {
     "iopub.execute_input": "2021-06-26T05:55:33.461002Z",
     "iopub.status.busy": "2021-06-26T05:55:33.460492Z",
     "iopub.status.idle": "2021-06-26T05:57:02.823013Z",
     "shell.execute_reply": "2021-06-26T05:57:02.823544Z",
     "shell.execute_reply.started": "2021-06-26T05:12:42.152711Z"
    },
    "papermill": {
     "duration": 89.425692,
     "end_time": "2021-06-26T05:57:02.823748",
     "exception": false,
     "start_time": "2021-06-26T05:55:33.398056",
     "status": "completed"
    },
    "tags": []
   },
   "outputs": [
    {
     "name": "stdout",
     "output_type": "stream",
     "text": [
      "TRAIN : [1 / 15] Loss : 1.5797  | Accuracy : 89.67%\n",
      "VAL : [1 / 15] Loss : 1.5132  | Accuracy : 95.32%\n",
      " \n",
      "TRAIN : [2 / 15] Loss : 1.4816  | Accuracy : 98.20%\n",
      "VAL : [2 / 15] Loss : 1.4978  | Accuracy : 96.62%\n",
      " \n",
      "TRAIN : [3 / 15] Loss : 1.4746  | Accuracy : 98.83%\n",
      "VAL : [3 / 15] Loss : 1.4950  | Accuracy : 96.76%\n",
      " \n",
      "TRAIN : [4 / 15] Loss : 1.4726  | Accuracy : 98.97%\n",
      "VAL : [4 / 15] Loss : 1.5059  | Accuracy : 95.75%\n",
      " \n",
      "TRAIN : [5 / 15] Loss : 1.4705  | Accuracy : 99.17%\n",
      "VAL : [5 / 15] Loss : 1.4880  | Accuracy : 97.43%\n",
      " \n",
      "TRAIN : [6 / 15] Loss : 1.4692  | Accuracy : 99.26%\n",
      "VAL : [6 / 15] Loss : 1.4793  | Accuracy : 98.21%\n",
      " \n",
      "TRAIN : [7 / 15] Loss : 1.4682  | Accuracy : 99.35%\n",
      "VAL : [7 / 15] Loss : 1.4856  | Accuracy : 97.68%\n",
      " \n",
      "TRAIN : [8 / 15] Loss : 1.4674  | Accuracy : 99.44%\n",
      "VAL : [8 / 15] Loss : 1.4772  | Accuracy : 98.46%\n",
      " \n",
      "TRAIN : [9 / 15] Loss : 1.4666  | Accuracy : 99.52%\n",
      "VAL : [9 / 15] Loss : 1.4929  | Accuracy : 96.94%\n",
      " \n",
      "TRAIN : [10 / 15] Loss : 1.4656  | Accuracy : 99.60%\n",
      "VAL : [10 / 15] Loss : 1.4824  | Accuracy : 98.02%\n",
      " \n",
      "TRAIN : [11 / 15] Loss : 1.4665  | Accuracy : 99.50%\n",
      "VAL : [11 / 15] Loss : 1.4793  | Accuracy : 98.16%\n",
      " \n",
      "TRAIN : [12 / 15] Loss : 1.4662  | Accuracy : 99.52%\n",
      "VAL : [12 / 15] Loss : 1.4889  | Accuracy : 97.22%\n",
      " \n",
      "TRAIN : [13 / 15] Loss : 1.4673  | Accuracy : 99.45%\n",
      "VAL : [13 / 15] Loss : 1.4802  | Accuracy : 98.08%\n",
      " \n",
      "TRAIN : [14 / 15] Loss : 1.4651  | Accuracy : 99.63%\n",
      "VAL : [14 / 15] Loss : 1.4733  | Accuracy : 98.84%\n",
      " \n",
      "TRAIN : [15 / 15] Loss : 1.4649  | Accuracy : 99.64%\n",
      "VAL : [15 / 15] Loss : 1.4775  | Accuracy : 98.44%\n",
      " \n"
     ]
    }
   ],
   "source": [
    "NUM_EPOCHS = 15\n",
    "SAVE_MODEL_PATH = f'resnet.pth'\n",
    "\n",
    "history = train_model(\n",
    "    resnet_model,\n",
    "    dataloaders_dict,\n",
    "    loss_fn, \n",
    "    optimizer,\n",
    "    NUM_EPOCHS,\n",
    "    SAVE_MODEL_PATH\n",
    "    )"
   ]
  },
  {
   "cell_type": "code",
   "execution_count": 40,
   "id": "cathedral-practitioner",
   "metadata": {
    "execution": {
     "iopub.execute_input": "2021-06-26T05:57:03.025515Z",
     "iopub.status.busy": "2021-06-26T05:57:03.024724Z",
     "iopub.status.idle": "2021-06-26T05:57:03.278418Z",
     "shell.execute_reply": "2021-06-26T05:57:03.278856Z",
     "shell.execute_reply.started": "2021-06-26T05:13:42.461313Z"
    },
    "papermill": {
     "duration": 0.386539,
     "end_time": "2021-06-26T05:57:03.279006",
     "exception": false,
     "start_time": "2021-06-26T05:57:02.892467",
     "status": "completed"
    },
    "tags": []
   },
   "outputs": [
    {
     "data": {
      "image/png": "[encoded data removed]",
      "text/plain": [
       "<Figure size 1296x576 with 2 Axes>"
      ]
     },
     "metadata": {
      "needs_background": "light"
     },
     "output_type": "display_data"
    }
   ],
   "source": [
    "fig, axes = plt.subplots(1,2, figsize=(18,8))\n",
    "axes[0].plot(history['train_loss'],label='train_loss')\n",
    "axes[0].plot(history['val_loss'], label='val_loss')\n",
    "axes[0].set_xticks(np.arange(0,NUM_EPOCHS))\n",
    "axes[0].legend()\n",
    "\n",
    "\n",
    "axes[1].plot(history['train_acc'], label='train_acc')\n",
    "axes[1].plot(history['val_acc'], label='val_acc')\n",
    "axes[1].set_xticks(np.arange(0,NUM_EPOCHS))\n",
    "axes[1].legend()\n",
    "\n",
    "plt.show()"
   ]
  },
  {
   "cell_type": "markdown",
   "id": "linear-circus",
   "metadata": {
    "papermill": {
     "duration": 0.06959,
     "end_time": "2021-06-26T05:57:03.418088",
     "exception": false,
     "start_time": "2021-06-26T05:57:03.348498",
     "status": "completed"
    },
    "tags": []
   },
   "source": [
    "* Mini DenseNet Model"
   ]
  },
  {
   "cell_type": "code",
   "execution_count": 41,
   "id": "independent-offer",
   "metadata": {
    "execution": {
     "iopub.execute_input": "2021-06-26T05:57:03.694318Z",
     "iopub.status.busy": "2021-06-26T05:57:03.693595Z",
     "iopub.status.idle": "2021-06-26T05:57:03.697146Z",
     "shell.execute_reply": "2021-06-26T05:57:03.696695Z"
    },
    "papermill": {
     "duration": 0.209913,
     "end_time": "2021-06-26T05:57:03.697261",
     "exception": false,
     "start_time": "2021-06-26T05:57:03.487348",
     "status": "completed"
    },
    "tags": []
   },
   "outputs": [],
   "source": [
    "# Clear cache\n",
    "import gc\n",
    "gc.collect()\n",
    "\n",
    "torch.cuda.empty_cache()"
   ]
  },
  {
   "cell_type": "code",
   "execution_count": 42,
   "id": "toxic-sound",
   "metadata": {
    "execution": {
     "iopub.execute_input": "2021-06-26T05:57:03.841119Z",
     "iopub.status.busy": "2021-06-26T05:57:03.840376Z",
     "iopub.status.idle": "2021-06-26T05:57:03.851829Z",
     "shell.execute_reply": "2021-06-26T05:57:03.851424Z"
    },
    "papermill": {
     "duration": 0.084349,
     "end_time": "2021-06-26T05:57:03.851937",
     "exception": false,
     "start_time": "2021-06-26T05:57:03.767588",
     "status": "completed"
    },
    "tags": []
   },
   "outputs": [],
   "source": [
    "densenet_model = DenseNet_mini(INPUT_DIM, OUTPUT)\n",
    "loss_fn = nn.CrossEntropyLoss()\n",
    "optimizer = optim.Adam(densenet_model.parameters(), lr=0.0001)"
   ]
  },
  {
   "cell_type": "code",
   "execution_count": 43,
   "id": "textile-massachusetts",
   "metadata": {
    "execution": {
     "iopub.execute_input": "2021-06-26T05:57:03.994891Z",
     "iopub.status.busy": "2021-06-26T05:57:03.994027Z",
     "iopub.status.idle": "2021-06-26T05:57:58.397943Z",
     "shell.execute_reply": "2021-06-26T05:57:58.397294Z"
    },
    "papermill": {
     "duration": 54.476646,
     "end_time": "2021-06-26T05:57:58.398109",
     "exception": false,
     "start_time": "2021-06-26T05:57:03.921463",
     "status": "completed"
    },
    "tags": []
   },
   "outputs": [
    {
     "name": "stdout",
     "output_type": "stream",
     "text": [
      "TRAIN : [1 / 20] Loss : 2.1098  | Accuracy : 35.01%\n",
      "VAL : [1 / 20] Loss : 1.9172  | Accuracy : 61.44%\n",
      " \n",
      "TRAIN : [2 / 20] Loss : 1.7157  | Accuracy : 80.52%\n",
      "VAL : [2 / 20] Loss : 1.5919  | Accuracy : 92.65%\n",
      " \n",
      "TRAIN : [3 / 20] Loss : 1.5349  | Accuracy : 95.51%\n",
      "VAL : [3 / 20] Loss : 1.5324  | Accuracy : 94.73%\n",
      " \n",
      "TRAIN : [4 / 20] Loss : 1.5038  | Accuracy : 96.96%\n",
      "VAL : [4 / 20] Loss : 1.5137  | Accuracy : 95.86%\n",
      " \n",
      "TRAIN : [5 / 20] Loss : 1.4928  | Accuracy : 97.64%\n",
      "VAL : [5 / 20] Loss : 1.5018  | Accuracy : 96.62%\n",
      " \n",
      "TRAIN : [6 / 20] Loss : 1.4863  | Accuracy : 98.08%\n",
      "VAL : [6 / 20] Loss : 1.4979  | Accuracy : 96.83%\n",
      " \n",
      "TRAIN : [7 / 20] Loss : 1.4828  | Accuracy : 98.34%\n",
      "VAL : [7 / 20] Loss : 1.4963  | Accuracy : 96.95%\n",
      " \n",
      "TRAIN : [8 / 20] Loss : 1.4788  | Accuracy : 98.63%\n",
      "VAL : [8 / 20] Loss : 1.5045  | Accuracy : 96.30%\n",
      " \n",
      "TRAIN : [9 / 20] Loss : 1.4767  | Accuracy : 98.80%\n",
      "VAL : [9 / 20] Loss : 1.4976  | Accuracy : 96.78%\n",
      " \n",
      "TRAIN : [10 / 20] Loss : 1.4742  | Accuracy : 99.01%\n",
      "VAL : [10 / 20] Loss : 1.4902  | Accuracy : 97.43%\n",
      " \n",
      "TRAIN : [11 / 20] Loss : 1.4731  | Accuracy : 99.07%\n",
      "VAL : [11 / 20] Loss : 1.5135  | Accuracy : 95.19%\n",
      " \n",
      "TRAIN : [12 / 20] Loss : 1.4718  | Accuracy : 99.15%\n",
      "VAL : [12 / 20] Loss : 1.4929  | Accuracy : 97.19%\n",
      " \n",
      "TRAIN : [13 / 20] Loss : 1.4704  | Accuracy : 99.26%\n",
      "VAL : [13 / 20] Loss : 1.4930  | Accuracy : 97.08%\n",
      " \n",
      "TRAIN : [14 / 20] Loss : 1.4690  | Accuracy : 99.39%\n",
      "VAL : [14 / 20] Loss : 1.4869  | Accuracy : 97.70%\n",
      " \n",
      "TRAIN : [15 / 20] Loss : 1.4693  | Accuracy : 99.37%\n",
      "VAL : [15 / 20] Loss : 1.4873  | Accuracy : 97.65%\n",
      " \n",
      "TRAIN : [16 / 20] Loss : 1.4684  | Accuracy : 99.42%\n",
      "VAL : [16 / 20] Loss : 1.4973  | Accuracy : 96.89%\n",
      " \n",
      "TRAIN : [17 / 20] Loss : 1.4676  | Accuracy : 99.48%\n",
      "VAL : [17 / 20] Loss : 1.4896  | Accuracy : 97.40%\n",
      " \n",
      "TRAIN : [18 / 20] Loss : 1.4673  | Accuracy : 99.52%\n",
      "VAL : [18 / 20] Loss : 1.4884  | Accuracy : 97.57%\n",
      " \n",
      "TRAIN : [19 / 20] Loss : 1.4672  | Accuracy : 99.54%\n",
      "VAL : [19 / 20] Loss : 1.4892  | Accuracy : 97.46%\n",
      " \n",
      "TRAIN : [20 / 20] Loss : 1.4668  | Accuracy : 99.56%\n",
      "VAL : [20 / 20] Loss : 1.4823  | Accuracy : 97.94%\n",
      " \n"
     ]
    }
   ],
   "source": [
    "NUM_EPOCHS = 20\n",
    "SAVE_MODEL_PATH = f'densenet.pth'\n",
    "\n",
    "history = train_model(\n",
    "    densenet_model,\n",
    "    dataloaders_dict,\n",
    "    loss_fn, \n",
    "    optimizer,\n",
    "    NUM_EPOCHS,\n",
    "    SAVE_MODEL_PATH\n",
    "    )"
   ]
  },
  {
   "cell_type": "code",
   "execution_count": 44,
   "id": "charitable-springfield",
   "metadata": {
    "execution": {
     "iopub.execute_input": "2021-06-26T05:57:58.573880Z",
     "iopub.status.busy": "2021-06-26T05:57:58.572765Z",
     "iopub.status.idle": "2021-06-26T05:57:58.796300Z",
     "shell.execute_reply": "2021-06-26T05:57:58.796695Z"
    },
    "papermill": {
     "duration": 0.320869,
     "end_time": "2021-06-26T05:57:58.796847",
     "exception": false,
     "start_time": "2021-06-26T05:57:58.475978",
     "status": "completed"
    },
    "tags": []
   },
   "outputs": [
    {
     "data": {
      "image/png": "[encoded data removed]",
      "text/plain": [
       "<Figure size 1296x576 with 2 Axes>"
      ]
     },
     "metadata": {
      "needs_background": "light"
     },
     "output_type": "display_data"
    }
   ],
   "source": [
    "fig, axes = plt.subplots(1,2, figsize=(18,8))\n",
    "axes[0].plot(history['train_loss'],label='train_loss')\n",
    "axes[0].plot(history['val_loss'], label='val_loss')\n",
    "axes[0].set_xticks(np.arange(0,NUM_EPOCHS,5))\n",
    "axes[0].legend()\n",
    "\n",
    "\n",
    "axes[1].plot(history['train_acc'], label='train_acc')\n",
    "axes[1].plot(history['val_acc'], label='val_acc')\n",
    "axes[1].set_xticks(np.arange(0,NUM_EPOCHS,5))\n",
    "axes[1].legend()\n",
    "\n",
    "plt.show()"
   ]
  },
  {
   "cell_type": "markdown",
   "id": "unknown-relaxation",
   "metadata": {
    "papermill": {
     "duration": 0.076903,
     "end_time": "2021-06-26T05:57:58.951385",
     "exception": false,
     "start_time": "2021-06-26T05:57:58.874482",
     "status": "completed"
    },
    "tags": []
   },
   "source": [
    "### 5-5) Evaluating"
   ]
  },
  {
   "cell_type": "code",
   "execution_count": 45,
   "id": "auburn-tuning",
   "metadata": {
    "execution": {
     "iopub.execute_input": "2021-06-26T05:57:59.112207Z",
     "iopub.status.busy": "2021-06-26T05:57:59.111480Z",
     "iopub.status.idle": "2021-06-26T05:57:59.113730Z",
     "shell.execute_reply": "2021-06-26T05:57:59.114181Z",
     "shell.execute_reply.started": "2021-06-26T05:13:42.716461Z"
    },
    "papermill": {
     "duration": 0.085572,
     "end_time": "2021-06-26T05:57:59.114309",
     "exception": false,
     "start_time": "2021-06-26T05:57:59.028737",
     "status": "completed"
    },
    "tags": []
   },
   "outputs": [],
   "source": [
    "def evalueate_model(model, test_loader):\n",
    "    predictions = []\n",
    "\n",
    "    #model = BasicCNN()\n",
    "    #model.to(device)\n",
    "    #model.load_state_dict(torch.load(f'cnn.pth'))\n",
    "    \n",
    "    model.eval()\n",
    "\n",
    "    for data in test_loader:\n",
    "        x_data = data['data'].to(device)\n",
    "        \n",
    "        with torch.no_grad():\n",
    "            predicts = model(x_data)\n",
    "            predicts = predicts.argmax(axis=1)\n",
    "            predicts = predicts.cpu().numpy()\n",
    "            \n",
    "            # Put the batch size data into the list one by one.\n",
    "            for pred in predicts:\n",
    "                predictions.append(pred)\n",
    "        \n",
    "    return(predictions)"
   ]
  },
  {
   "cell_type": "code",
   "execution_count": 46,
   "id": "polished-tribute",
   "metadata": {
    "execution": {
     "iopub.execute_input": "2021-06-26T05:57:59.284299Z",
     "iopub.status.busy": "2021-06-26T05:57:59.283524Z",
     "iopub.status.idle": "2021-06-26T05:57:59.286896Z",
     "shell.execute_reply": "2021-06-26T05:57:59.287293Z",
     "shell.execute_reply.started": "2021-06-26T05:13:42.724719Z"
    },
    "papermill": {
     "duration": 0.095661,
     "end_time": "2021-06-26T05:57:59.287417",
     "exception": false,
     "start_time": "2021-06-26T05:57:59.191756",
     "status": "completed"
    },
    "tags": []
   },
   "outputs": [
    {
     "data": {
      "text/html": [
       "<div>\n",
       "<style scoped>\n",
       "    .dataframe tbody tr th:only-of-type {\n",
       "        vertical-align: middle;\n",
       "    }\n",
       "\n",
       "    .dataframe tbody tr th {\n",
       "        vertical-align: top;\n",
       "    }\n",
       "\n",
       "    .dataframe thead th {\n",
       "        text-align: right;\n",
       "    }\n",
       "</style>\n",
       "<table border=\"1\" class=\"dataframe\">\n",
       "  <thead>\n",
       "    <tr style=\"text-align: right;\">\n",
       "      <th></th>\n",
       "      <th>pixel0</th>\n",
       "      <th>pixel1</th>\n",
       "      <th>pixel2</th>\n",
       "      <th>pixel3</th>\n",
       "      <th>pixel4</th>\n",
       "      <th>pixel5</th>\n",
       "      <th>pixel6</th>\n",
       "      <th>pixel7</th>\n",
       "      <th>pixel8</th>\n",
       "      <th>pixel9</th>\n",
       "      <th>...</th>\n",
       "      <th>pixel774</th>\n",
       "      <th>pixel775</th>\n",
       "      <th>pixel776</th>\n",
       "      <th>pixel777</th>\n",
       "      <th>pixel778</th>\n",
       "      <th>pixel779</th>\n",
       "      <th>pixel780</th>\n",
       "      <th>pixel781</th>\n",
       "      <th>pixel782</th>\n",
       "      <th>pixel783</th>\n",
       "    </tr>\n",
       "  </thead>\n",
       "  <tbody>\n",
       "    <tr>\n",
       "      <th>0</th>\n",
       "      <td>0</td>\n",
       "      <td>0</td>\n",
       "      <td>0</td>\n",
       "      <td>0</td>\n",
       "      <td>0</td>\n",
       "      <td>0</td>\n",
       "      <td>0</td>\n",
       "      <td>0</td>\n",
       "      <td>0</td>\n",
       "      <td>0</td>\n",
       "      <td>...</td>\n",
       "      <td>0</td>\n",
       "      <td>0</td>\n",
       "      <td>0</td>\n",
       "      <td>0</td>\n",
       "      <td>0</td>\n",
       "      <td>0</td>\n",
       "      <td>0</td>\n",
       "      <td>0</td>\n",
       "      <td>0</td>\n",
       "      <td>0</td>\n",
       "    </tr>\n",
       "    <tr>\n",
       "      <th>1</th>\n",
       "      <td>0</td>\n",
       "      <td>0</td>\n",
       "      <td>0</td>\n",
       "      <td>0</td>\n",
       "      <td>0</td>\n",
       "      <td>0</td>\n",
       "      <td>0</td>\n",
       "      <td>0</td>\n",
       "      <td>0</td>\n",
       "      <td>0</td>\n",
       "      <td>...</td>\n",
       "      <td>0</td>\n",
       "      <td>0</td>\n",
       "      <td>0</td>\n",
       "      <td>0</td>\n",
       "      <td>0</td>\n",
       "      <td>0</td>\n",
       "      <td>0</td>\n",
       "      <td>0</td>\n",
       "      <td>0</td>\n",
       "      <td>0</td>\n",
       "    </tr>\n",
       "    <tr>\n",
       "      <th>2</th>\n",
       "      <td>0</td>\n",
       "      <td>0</td>\n",
       "      <td>0</td>\n",
       "      <td>0</td>\n",
       "      <td>0</td>\n",
       "      <td>0</td>\n",
       "      <td>0</td>\n",
       "      <td>0</td>\n",
       "      <td>0</td>\n",
       "      <td>0</td>\n",
       "      <td>...</td>\n",
       "      <td>0</td>\n",
       "      <td>0</td>\n",
       "      <td>0</td>\n",
       "      <td>0</td>\n",
       "      <td>0</td>\n",
       "      <td>0</td>\n",
       "      <td>0</td>\n",
       "      <td>0</td>\n",
       "      <td>0</td>\n",
       "      <td>0</td>\n",
       "    </tr>\n",
       "    <tr>\n",
       "      <th>3</th>\n",
       "      <td>0</td>\n",
       "      <td>0</td>\n",
       "      <td>0</td>\n",
       "      <td>0</td>\n",
       "      <td>0</td>\n",
       "      <td>0</td>\n",
       "      <td>0</td>\n",
       "      <td>0</td>\n",
       "      <td>0</td>\n",
       "      <td>0</td>\n",
       "      <td>...</td>\n",
       "      <td>0</td>\n",
       "      <td>0</td>\n",
       "      <td>0</td>\n",
       "      <td>0</td>\n",
       "      <td>0</td>\n",
       "      <td>0</td>\n",
       "      <td>0</td>\n",
       "      <td>0</td>\n",
       "      <td>0</td>\n",
       "      <td>0</td>\n",
       "    </tr>\n",
       "    <tr>\n",
       "      <th>4</th>\n",
       "      <td>0</td>\n",
       "      <td>0</td>\n",
       "      <td>0</td>\n",
       "      <td>0</td>\n",
       "      <td>0</td>\n",
       "      <td>0</td>\n",
       "      <td>0</td>\n",
       "      <td>0</td>\n",
       "      <td>0</td>\n",
       "      <td>0</td>\n",
       "      <td>...</td>\n",
       "      <td>0</td>\n",
       "      <td>0</td>\n",
       "      <td>0</td>\n",
       "      <td>0</td>\n",
       "      <td>0</td>\n",
       "      <td>0</td>\n",
       "      <td>0</td>\n",
       "      <td>0</td>\n",
       "      <td>0</td>\n",
       "      <td>0</td>\n",
       "    </tr>\n",
       "  </tbody>\n",
       "</table>\n",
       "<p>5 rows × 784 columns</p>\n",
       "</div>"
      ],
      "text/plain": [
       "   pixel0  pixel1  pixel2  pixel3  pixel4  pixel5  pixel6  pixel7  pixel8  \\\n",
       "0       0       0       0       0       0       0       0       0       0   \n",
       "1       0       0       0       0       0       0       0       0       0   \n",
       "2       0       0       0       0       0       0       0       0       0   \n",
       "3       0       0       0       0       0       0       0       0       0   \n",
       "4       0       0       0       0       0       0       0       0       0   \n",
       "\n",
       "   pixel9  ...  pixel774  pixel775  pixel776  pixel777  pixel778  pixel779  \\\n",
       "0       0  ...         0         0         0         0         0         0   \n",
       "1       0  ...         0         0         0         0         0         0   \n",
       "2       0  ...         0         0         0         0         0         0   \n",
       "3       0  ...         0         0         0         0         0         0   \n",
       "4       0  ...         0         0         0         0         0         0   \n",
       "\n",
       "   pixel780  pixel781  pixel782  pixel783  \n",
       "0         0         0         0         0  \n",
       "1         0         0         0         0  \n",
       "2         0         0         0         0  \n",
       "3         0         0         0         0  \n",
       "4         0         0         0         0  \n",
       "\n",
       "[5 rows x 784 columns]"
      ]
     },
     "execution_count": 46,
     "metadata": {},
     "output_type": "execute_result"
    }
   ],
   "source": [
    "test_df.head()"
   ]
  },
  {
   "cell_type": "code",
   "execution_count": 47,
   "id": "affected-taylor",
   "metadata": {
    "execution": {
     "iopub.execute_input": "2021-06-26T05:57:59.446181Z",
     "iopub.status.busy": "2021-06-26T05:57:59.445334Z",
     "iopub.status.idle": "2021-06-26T05:57:59.493384Z",
     "shell.execute_reply": "2021-06-26T05:57:59.492921Z",
     "shell.execute_reply.started": "2021-06-26T05:13:42.746335Z"
    },
    "papermill": {
     "duration": 0.128807,
     "end_time": "2021-06-26T05:57:59.493511",
     "exception": false,
     "start_time": "2021-06-26T05:57:59.364704",
     "status": "completed"
    },
    "tags": []
   },
   "outputs": [],
   "source": [
    "test_dataset = BasicDataset(test_df.values, y_data=None, is_labeled=False)\n",
    "test_loader = DataLoader(test_dataset, batch_size=32, shuffle = False)"
   ]
  },
  {
   "cell_type": "code",
   "execution_count": 48,
   "id": "parallel-squad",
   "metadata": {
    "execution": {
     "iopub.execute_input": "2021-06-26T05:57:59.653758Z",
     "iopub.status.busy": "2021-06-26T05:57:59.653253Z",
     "iopub.status.idle": "2021-06-26T05:58:08.928421Z",
     "shell.execute_reply": "2021-06-26T05:58:08.927948Z",
     "shell.execute_reply.started": "2021-06-26T05:13:42.801968Z"
    },
    "papermill": {
     "duration": 9.356275,
     "end_time": "2021-06-26T05:58:08.928538",
     "exception": false,
     "start_time": "2021-06-26T05:57:59.572263",
     "status": "completed"
    },
    "tags": []
   },
   "outputs": [
    {
     "name": "stderr",
     "output_type": "stream",
     "text": [
      "/opt/conda/lib/python3.7/site-packages/torch/nn/modules/container.py:117: UserWarning: Implicit dimension choice for softmax has been deprecated. Change the call to include dim=X as an argument.\n",
      "  input = module(input)\n"
     ]
    }
   ],
   "source": [
    "cnn_pred = evalueate_model(cnn_model, test_loader)\n",
    "resnet_pred = evalueate_model(resnet_model, test_loader)\n",
    "densenet_pred = evalueate_model(densenet_model, test_loader)"
   ]
  },
  {
   "cell_type": "markdown",
   "id": "black-complement",
   "metadata": {
    "papermill": {
     "duration": 0.077975,
     "end_time": "2021-06-26T05:58:09.085587",
     "exception": false,
     "start_time": "2021-06-26T05:58:09.007612",
     "status": "completed"
    },
    "tags": []
   },
   "source": [
    "# 6. Submission\n",
    "* Submit the predictions."
   ]
  },
  {
   "cell_type": "code",
   "execution_count": 49,
   "id": "alpha-found",
   "metadata": {
    "execution": {
     "iopub.execute_input": "2021-06-26T05:58:09.251340Z",
     "iopub.status.busy": "2021-06-26T05:58:09.250728Z",
     "iopub.status.idle": "2021-06-26T05:58:09.320384Z",
     "shell.execute_reply": "2021-06-26T05:58:09.319980Z",
     "shell.execute_reply.started": "2021-06-26T05:13:49.717980Z"
    },
    "papermill": {
     "duration": 0.155816,
     "end_time": "2021-06-26T05:58:09.320496",
     "exception": false,
     "start_time": "2021-06-26T05:58:09.164680",
     "status": "completed"
    },
    "tags": []
   },
   "outputs": [
    {
     "data": {
      "text/html": [
       "<div>\n",
       "<style scoped>\n",
       "    .dataframe tbody tr th:only-of-type {\n",
       "        vertical-align: middle;\n",
       "    }\n",
       "\n",
       "    .dataframe tbody tr th {\n",
       "        vertical-align: top;\n",
       "    }\n",
       "\n",
       "    .dataframe thead th {\n",
       "        text-align: right;\n",
       "    }\n",
       "</style>\n",
       "<table border=\"1\" class=\"dataframe\">\n",
       "  <thead>\n",
       "    <tr style=\"text-align: right;\">\n",
       "      <th></th>\n",
       "      <th>ImageId</th>\n",
       "      <th>Label</th>\n",
       "    </tr>\n",
       "  </thead>\n",
       "  <tbody>\n",
       "    <tr>\n",
       "      <th>0</th>\n",
       "      <td>1</td>\n",
       "      <td>2</td>\n",
       "    </tr>\n",
       "    <tr>\n",
       "      <th>1</th>\n",
       "      <td>2</td>\n",
       "      <td>0</td>\n",
       "    </tr>\n",
       "    <tr>\n",
       "      <th>2</th>\n",
       "      <td>3</td>\n",
       "      <td>9</td>\n",
       "    </tr>\n",
       "    <tr>\n",
       "      <th>3</th>\n",
       "      <td>4</td>\n",
       "      <td>9</td>\n",
       "    </tr>\n",
       "    <tr>\n",
       "      <th>4</th>\n",
       "      <td>5</td>\n",
       "      <td>3</td>\n",
       "    </tr>\n",
       "  </tbody>\n",
       "</table>\n",
       "</div>"
      ],
      "text/plain": [
       "   ImageId  Label\n",
       "0        1      2\n",
       "1        2      0\n",
       "2        3      9\n",
       "3        4      9\n",
       "4        5      3"
      ]
     },
     "execution_count": 49,
     "metadata": {},
     "output_type": "execute_result"
    }
   ],
   "source": [
    "cnn_submission = pd.read_csv('../input/digit-recognizer/sample_submission.csv')\n",
    "cnn_submission['Label'] = cnn_pred\n",
    "\n",
    "resnet_submission = pd.read_csv('../input/digit-recognizer/sample_submission.csv')\n",
    "resnet_submission['Label'] = resnet_pred\n",
    "\n",
    "\n",
    "densenet_submission = pd.read_csv('../input/digit-recognizer/sample_submission.csv')\n",
    "densenet_submission['Label'] = densenet_pred\n",
    "cnn_submission.head()"
   ]
  },
  {
   "cell_type": "code",
   "execution_count": 50,
   "id": "material-costume",
   "metadata": {
    "execution": {
     "iopub.execute_input": "2021-06-26T05:58:09.494174Z",
     "iopub.status.busy": "2021-06-26T05:58:09.493373Z",
     "iopub.status.idle": "2021-06-26T05:58:09.720529Z",
     "shell.execute_reply": "2021-06-26T05:58:09.720121Z",
     "shell.execute_reply.started": "2021-06-26T05:13:49.784667Z"
    },
    "papermill": {
     "duration": 0.319722,
     "end_time": "2021-06-26T05:58:09.720650",
     "exception": false,
     "start_time": "2021-06-26T05:58:09.400928",
     "status": "completed"
    },
    "tags": []
   },
   "outputs": [
    {
     "data": {
      "image/png": "[encoded data removed]",
      "text/plain": [
       "<Figure size 1440x360 with 5 Axes>"
      ]
     },
     "metadata": {
      "needs_background": "light"
     },
     "output_type": "display_data"
    }
   ],
   "source": [
    "fig, axes = plt.subplots(1,5, figsize=(20,5))\n",
    "\n",
    "for i in range(5):\n",
    "    axes[i].imshow(test_df.iloc[i].values.reshape(28,28), 'gray')\n",
    "    axes[i].axis('off')\n",
    "    axes[i].set_title(\"CNN Predict Label :\" + str(cnn_pred[i]))\n",
    "plt.show()"
   ]
  },
  {
   "cell_type": "code",
   "execution_count": 51,
   "id": "acceptable-moore",
   "metadata": {
    "execution": {
     "iopub.execute_input": "2021-06-26T05:58:09.899527Z",
     "iopub.status.busy": "2021-06-26T05:58:09.898724Z",
     "iopub.status.idle": "2021-06-26T05:58:10.121261Z",
     "shell.execute_reply": "2021-06-26T05:58:10.120814Z",
     "shell.execute_reply.started": "2021-06-26T05:13:50.051857Z"
    },
    "papermill": {
     "duration": 0.320977,
     "end_time": "2021-06-26T05:58:10.121371",
     "exception": false,
     "start_time": "2021-06-26T05:58:09.800394",
     "status": "completed"
    },
    "tags": []
   },
   "outputs": [
    {
     "data": {
      "image/png": "[encoded data removed]",
      "text/plain": [
       "<Figure size 1440x360 with 5 Axes>"
      ]
     },
     "metadata": {
      "needs_background": "light"
     },
     "output_type": "display_data"
    }
   ],
   "source": [
    "fig, axes = plt.subplots(1,5, figsize=(20,5))\n",
    "\n",
    "for i in range(5):\n",
    "    axes[i].imshow(test_df.iloc[i].values.reshape(28,28), 'gray')\n",
    "    axes[i].axis('off')\n",
    "    axes[i].set_title(\"RESNET Predict Label :\" + str(resnet_pred[i]))\n",
    "plt.show()"
   ]
  },
  {
   "cell_type": "code",
   "execution_count": 52,
   "id": "tribal-cambodia",
   "metadata": {
    "execution": {
     "iopub.execute_input": "2021-06-26T05:58:10.294265Z",
     "iopub.status.busy": "2021-06-26T05:58:10.293465Z",
     "iopub.status.idle": "2021-06-26T05:58:10.524016Z",
     "shell.execute_reply": "2021-06-26T05:58:10.523495Z"
    },
    "papermill": {
     "duration": 0.321563,
     "end_time": "2021-06-26T05:58:10.524131",
     "exception": false,
     "start_time": "2021-06-26T05:58:10.202568",
     "status": "completed"
    },
    "tags": []
   },
   "outputs": [
    {
     "data": {
      "image/png": "[encoded data removed]",
      "text/plain": [
       "<Figure size 1440x360 with 5 Axes>"
      ]
     },
     "metadata": {
      "needs_background": "light"
     },
     "output_type": "display_data"
    }
   ],
   "source": [
    "fig, axes = plt.subplots(1,5, figsize=(20,5))\n",
    "\n",
    "for i in range(5):\n",
    "    axes[i].imshow(test_df.iloc[i].values.reshape(28,28), 'gray')\n",
    "    axes[i].axis('off')\n",
    "    axes[i].set_title(\"DENSENET Predict Label :\" + str(densenet_pred[i]))\n",
    "plt.show()"
   ]
  },
  {
   "cell_type": "code",
   "execution_count": 53,
   "id": "representative-target",
   "metadata": {
    "execution": {
     "iopub.execute_input": "2021-06-26T05:58:10.689302Z",
     "iopub.status.busy": "2021-06-26T05:58:10.688812Z",
     "iopub.status.idle": "2021-06-26T05:58:10.939181Z",
     "shell.execute_reply": "2021-06-26T05:58:10.938710Z",
     "shell.execute_reply.started": "2021-06-26T05:13:50.323208Z"
    },
    "papermill": {
     "duration": 0.334024,
     "end_time": "2021-06-26T05:58:10.939303",
     "exception": false,
     "start_time": "2021-06-26T05:58:10.605279",
     "status": "completed"
    },
    "tags": []
   },
   "outputs": [],
   "source": [
    "cnn_submission.to_csv('cnn_submission.csv', index=False)\n",
    "resnet_submission.to_csv('resnet_submission.csv', index=False)\n",
    "densenet_submission.to_csv('densenet_submission.csv', index=False)"
   ]
  },
  {
   "cell_type": "markdown",
   "id": "widespread-daniel",
   "metadata": {
    "papermill": {
     "duration": 0.0802,
     "end_time": "2021-06-26T05:58:11.100352",
     "exception": false,
     "start_time": "2021-06-26T05:58:11.020152",
     "status": "completed"
    },
    "tags": []
   },
   "source": [
    "##### reference \n",
    "* https://www.kaggle.com/kanncaa1/pytorch-tutorial-for-deep-learning-lovers\n",
    "\n",
    "###  If this notebook is useful for your kaggling, \"UPVOTE\" for it 👀\n",
    "#### THX to Reading My Notebook🌈"
   ]
  }
 ],
 "metadata": {
  "kernelspec": {
   "display_name": "Python 3",
   "language": "python",
   "name": "python3"
  },
  "language_info": {
   "codemirror_mode": {
    "name": "ipython",
    "version": 3
   },
   "file_extension": ".py",
   "mimetype": "text/x-python",
   "name": "python",
   "nbconvert_exporter": "python",
   "pygments_lexer": "ipython3",
   "version": "3.7.10"
  },
  "papermill": {
   "default_parameters": {},
   "duration": 229.916765,
   "end_time": "2021-06-26T05:58:13.377461",
   "environment_variables": {},
   "exception": null,
   "input_path": "__notebook__.ipynb",
   "output_path": "__notebook__.ipynb",
   "parameters": {},
   "start_time": "2021-06-26T05:54:23.460696",
   "version": "2.3.3"
  }
 },
 "nbformat": 4,
 "nbformat_minor": 5
}

{
 "cells": [
  {
   "attachments": {
    "033ef31e-d3ff-4c86-9408-39d539b36845.jpg": {
     "image/jpeg": "[encoded data removed]"
    }
   },
   "cell_type": "markdown",
   "id": "proof-blast",
   "metadata": {
    "papermill": {
     "duration": 0.040901,
     "end_time": "2021-06-17T15:15:52.586890",
     "exception": false,
     "start_time": "2021-06-17T15:15:52.545989",
     "status": "completed"
    },
    "tags": []
   },
   "source": [
    "![68222222101258.jpg](attachment:033ef31e-d3ff-4c86-9408-39d539b36845.jpg)\n",
    "# Digit Recognizer\n",
    "\n",
    "## Overview\n",
    "This competition uses the most basic mnist data in deep learning. We need to create a model to classify the numbers in the image. <br/>\n",
    "You can use other techniques instead of deep learning. However, this notebook will be written based on deep learning. <br/>\n",
    "In addition, we will use \"Pytorch\" among the frameworks that enable deep learning.\n",
    "\n",
    "#### My opinion :\n",
    "* 1) I think it is important to use various techniques and get used to deep learning through this competition."
   ]
  },
  {
   "cell_type": "markdown",
   "id": "municipal-yesterday",
   "metadata": {
    "papermill": {
     "duration": 0.039113,
     "end_time": "2021-06-17T15:15:52.665002",
     "exception": false,
     "start_time": "2021-06-17T15:15:52.625889",
     "status": "completed"
    },
    "tags": []
   },
   "source": [
    "***\n",
    "## My Workflow\n",
    "\n",
    "#### 1. Import & Install libray\n",
    "* Import Basic libray\n",
    "* Import Enginnering libray\n",
    "\n",
    "#### 2. Check out my data\n",
    "* Check Shape / Info / Describe\n",
    "\n",
    "#### 3. Exploratory Data Analysis(EDA) with Visualization [Before Preprocessing]\n",
    "* Plot the null values\n",
    "* Plot the label Percent\n",
    "* Plot the image Data\n",
    "\n",
    "#### 4. Feature Enginnering\n",
    "* Split Train set / Validation set\n",
    "* Convert to data suitable for CNN model (Dataset / Dataloader)\n",
    "\n",
    "#### 5.Modeling\n",
    "* CNN Modeling\n",
    "* Training\n",
    "* Evaluating\n",
    "\n",
    "#### 6. Submission\n",
    "* Submit the predictions.\n",
    "<br/><br/>\n",
    "***"
   ]
  },
  {
   "cell_type": "markdown",
   "id": "responsible-stations",
   "metadata": {
    "papermill": {
     "duration": 0.038532,
     "end_time": "2021-06-17T15:15:52.742387",
     "exception": false,
     "start_time": "2021-06-17T15:15:52.703855",
     "status": "completed"
    },
    "tags": []
   },
   "source": [
    "# 1. Import & Install libray\n",
    "* Import Basic libray\n",
    "* Import Enginnering libray"
   ]
  },
  {
   "cell_type": "code",
   "execution_count": 1,
   "id": "continued-boring",
   "metadata": {
    "execution": {
     "iopub.execute_input": "2021-06-17T15:15:52.835743Z",
     "iopub.status.busy": "2021-06-17T15:15:52.835089Z",
     "iopub.status.idle": "2021-06-17T15:15:53.625052Z",
     "shell.execute_reply": "2021-06-17T15:15:53.624115Z",
     "shell.execute_reply.started": "2021-06-17T14:50:01.910583Z"
    },
    "papermill": {
     "duration": 0.843201,
     "end_time": "2021-06-17T15:15:53.625253",
     "exception": false,
     "start_time": "2021-06-17T15:15:52.782052",
     "status": "completed"
    },
    "tags": []
   },
   "outputs": [],
   "source": [
    "import pandas as pd\n",
    "import numpy as np\n",
    "from collections import OrderedDict\n",
    "\n",
    "from PIL import Image\n",
    "import seaborn as sns\n",
    "import matplotlib.pyplot as plt\n",
    "import missingno as msno\n",
    "\n",
    "plt.style.use('seaborn')\n",
    "%matplotlib inline"
   ]
  },
  {
   "cell_type": "code",
   "execution_count": 2,
   "id": "latter-coordinator",
   "metadata": {
    "execution": {
     "iopub.execute_input": "2021-06-17T15:15:53.722072Z",
     "iopub.status.busy": "2021-06-17T15:15:53.721270Z",
     "iopub.status.idle": "2021-06-17T15:15:55.259756Z",
     "shell.execute_reply": "2021-06-17T15:15:55.260818Z",
     "shell.execute_reply.started": "2021-06-17T14:50:02.644680Z"
    },
    "papermill": {
     "duration": 1.590152,
     "end_time": "2021-06-17T15:15:55.261189",
     "exception": false,
     "start_time": "2021-06-17T15:15:53.671037",
     "status": "completed"
    },
    "tags": []
   },
   "outputs": [],
   "source": [
    "import torch\n",
    "import torch.nn as nn\n",
    "import torch.optim as optim\n",
    "from torch.utils.data import DataLoader, Dataset, TensorDataset\n",
    "\n",
    "import sklearn\n",
    "from sklearn.model_selection import train_test_split"
   ]
  },
  {
   "cell_type": "code",
   "execution_count": 3,
   "id": "characteristic-domestic",
   "metadata": {
    "execution": {
     "iopub.execute_input": "2021-06-17T15:15:55.543874Z",
     "iopub.status.busy": "2021-06-17T15:15:55.542886Z",
     "iopub.status.idle": "2021-06-17T15:16:00.711654Z",
     "shell.execute_reply": "2021-06-17T15:16:00.710816Z",
     "shell.execute_reply.started": "2021-06-17T14:50:04.220752Z"
    },
    "papermill": {
     "duration": 5.362292,
     "end_time": "2021-06-17T15:16:00.711791",
     "exception": false,
     "start_time": "2021-06-17T15:15:55.349499",
     "status": "completed"
    },
    "tags": []
   },
   "outputs": [
    {
     "data": {
      "text/html": [
       "<div>\n",
       "<style scoped>\n",
       "    .dataframe tbody tr th:only-of-type {\n",
       "        vertical-align: middle;\n",
       "    }\n",
       "\n",
       "    .dataframe tbody tr th {\n",
       "        vertical-align: top;\n",
       "    }\n",
       "\n",
       "    .dataframe thead th {\n",
       "        text-align: right;\n",
       "    }\n",
       "</style>\n",
       "<table border=\"1\" class=\"dataframe\">\n",
       "  <thead>\n",
       "    <tr style=\"text-align: right;\">\n",
       "      <th></th>\n",
       "      <th>label</th>\n",
       "      <th>pixel0</th>\n",
       "      <th>pixel1</th>\n",
       "      <th>pixel2</th>\n",
       "      <th>pixel3</th>\n",
       "      <th>pixel4</th>\n",
       "      <th>pixel5</th>\n",
       "      <th>pixel6</th>\n",
       "      <th>pixel7</th>\n",
       "      <th>pixel8</th>\n",
       "      <th>...</th>\n",
       "      <th>pixel774</th>\n",
       "      <th>pixel775</th>\n",
       "      <th>pixel776</th>\n",
       "      <th>pixel777</th>\n",
       "      <th>pixel778</th>\n",
       "      <th>pixel779</th>\n",
       "      <th>pixel780</th>\n",
       "      <th>pixel781</th>\n",
       "      <th>pixel782</th>\n",
       "      <th>pixel783</th>\n",
       "    </tr>\n",
       "  </thead>\n",
       "  <tbody>\n",
       "    <tr>\n",
       "      <th>0</th>\n",
       "      <td>1</td>\n",
       "      <td>0</td>\n",
       "      <td>0</td>\n",
       "      <td>0</td>\n",
       "      <td>0</td>\n",
       "      <td>0</td>\n",
       "      <td>0</td>\n",
       "      <td>0</td>\n",
       "      <td>0</td>\n",
       "      <td>0</td>\n",
       "      <td>...</td>\n",
       "      <td>0</td>\n",
       "      <td>0</td>\n",
       "      <td>0</td>\n",
       "      <td>0</td>\n",
       "      <td>0</td>\n",
       "      <td>0</td>\n",
       "      <td>0</td>\n",
       "      <td>0</td>\n",
       "      <td>0</td>\n",
       "      <td>0</td>\n",
       "    </tr>\n",
       "    <tr>\n",
       "      <th>1</th>\n",
       "      <td>0</td>\n",
       "      <td>0</td>\n",
       "      <td>0</td>\n",
       "      <td>0</td>\n",
       "      <td>0</td>\n",
       "      <td>0</td>\n",
       "      <td>0</td>\n",
       "      <td>0</td>\n",
       "      <td>0</td>\n",
       "      <td>0</td>\n",
       "      <td>...</td>\n",
       "      <td>0</td>\n",
       "      <td>0</td>\n",
       "      <td>0</td>\n",
       "      <td>0</td>\n",
       "      <td>0</td>\n",
       "      <td>0</td>\n",
       "      <td>0</td>\n",
       "      <td>0</td>\n",
       "      <td>0</td>\n",
       "      <td>0</td>\n",
       "    </tr>\n",
       "    <tr>\n",
       "      <th>2</th>\n",
       "      <td>1</td>\n",
       "      <td>0</td>\n",
       "      <td>0</td>\n",
       "      <td>0</td>\n",
       "      <td>0</td>\n",
       "      <td>0</td>\n",
       "      <td>0</td>\n",
       "      <td>0</td>\n",
       "      <td>0</td>\n",
       "      <td>0</td>\n",
       "      <td>...</td>\n",
       "      <td>0</td>\n",
       "      <td>0</td>\n",
       "      <td>0</td>\n",
       "      <td>0</td>\n",
       "      <td>0</td>\n",
       "      <td>0</td>\n",
       "      <td>0</td>\n",
       "      <td>0</td>\n",
       "      <td>0</td>\n",
       "      <td>0</td>\n",
       "    </tr>\n",
       "    <tr>\n",
       "      <th>3</th>\n",
       "      <td>4</td>\n",
       "      <td>0</td>\n",
       "      <td>0</td>\n",
       "      <td>0</td>\n",
       "      <td>0</td>\n",
       "      <td>0</td>\n",
       "      <td>0</td>\n",
       "      <td>0</td>\n",
       "      <td>0</td>\n",
       "      <td>0</td>\n",
       "      <td>...</td>\n",
       "      <td>0</td>\n",
       "      <td>0</td>\n",
       "      <td>0</td>\n",
       "      <td>0</td>\n",
       "      <td>0</td>\n",
       "      <td>0</td>\n",
       "      <td>0</td>\n",
       "      <td>0</td>\n",
       "      <td>0</td>\n",
       "      <td>0</td>\n",
       "    </tr>\n",
       "    <tr>\n",
       "      <th>4</th>\n",
       "      <td>0</td>\n",
       "      <td>0</td>\n",
       "      <td>0</td>\n",
       "      <td>0</td>\n",
       "      <td>0</td>\n",
       "      <td>0</td>\n",
       "      <td>0</td>\n",
       "      <td>0</td>\n",
       "      <td>0</td>\n",
       "      <td>0</td>\n",
       "      <td>...</td>\n",
       "      <td>0</td>\n",
       "      <td>0</td>\n",
       "      <td>0</td>\n",
       "      <td>0</td>\n",
       "      <td>0</td>\n",
       "      <td>0</td>\n",
       "      <td>0</td>\n",
       "      <td>0</td>\n",
       "      <td>0</td>\n",
       "      <td>0</td>\n",
       "    </tr>\n",
       "  </tbody>\n",
       "</table>\n",
       "<p>5 rows × 785 columns</p>\n",
       "</div>"
      ],
      "text/plain": [
       "   label  pixel0  pixel1  pixel2  pixel3  pixel4  pixel5  pixel6  pixel7  \\\n",
       "0      1       0       0       0       0       0       0       0       0   \n",
       "1      0       0       0       0       0       0       0       0       0   \n",
       "2      1       0       0       0       0       0       0       0       0   \n",
       "3      4       0       0       0       0       0       0       0       0   \n",
       "4      0       0       0       0       0       0       0       0       0   \n",
       "\n",
       "   pixel8  ...  pixel774  pixel775  pixel776  pixel777  pixel778  pixel779  \\\n",
       "0       0  ...         0         0         0         0         0         0   \n",
       "1       0  ...         0         0         0         0         0         0   \n",
       "2       0  ...         0         0         0         0         0         0   \n",
       "3       0  ...         0         0         0         0         0         0   \n",
       "4       0  ...         0         0         0         0         0         0   \n",
       "\n",
       "   pixel780  pixel781  pixel782  pixel783  \n",
       "0         0         0         0         0  \n",
       "1         0         0         0         0  \n",
       "2         0         0         0         0  \n",
       "3         0         0         0         0  \n",
       "4         0         0         0         0  \n",
       "\n",
       "[5 rows x 785 columns]"
      ]
     },
     "execution_count": 3,
     "metadata": {},
     "output_type": "execute_result"
    }
   ],
   "source": [
    "train_df = pd.read_csv('/kaggle/input/digit-recognizer/train.csv')\n",
    "test_df = pd.read_csv('/kaggle/input/digit-recognizer/test.csv')\n",
    "train_df.head()"
   ]
  },
  {
   "cell_type": "markdown",
   "id": "recorded-score",
   "metadata": {
    "papermill": {
     "duration": 0.039773,
     "end_time": "2021-06-17T15:16:00.791520",
     "exception": false,
     "start_time": "2021-06-17T15:16:00.751747",
     "status": "completed"
    },
    "tags": []
   },
   "source": [
    "# 2. Check out my data\n",
    "* Check Shape / Info / Describe"
   ]
  },
  {
   "cell_type": "code",
   "execution_count": 4,
   "id": "superior-doctor",
   "metadata": {
    "execution": {
     "iopub.execute_input": "2021-06-17T15:16:00.876457Z",
     "iopub.status.busy": "2021-06-17T15:16:00.874810Z",
     "iopub.status.idle": "2021-06-17T15:16:00.878723Z",
     "shell.execute_reply": "2021-06-17T15:16:00.878263Z",
     "shell.execute_reply.started": "2021-06-17T14:50:08.818458Z"
    },
    "papermill": {
     "duration": 0.048074,
     "end_time": "2021-06-17T15:16:00.878844",
     "exception": false,
     "start_time": "2021-06-17T15:16:00.830770",
     "status": "completed"
    },
    "tags": []
   },
   "outputs": [
    {
     "name": "stdout",
     "output_type": "stream",
     "text": [
      "train data shape : (42000, 785)\n",
      "test data shape : (28000, 784)\n"
     ]
    }
   ],
   "source": [
    "print(\"train data shape : {}\".format(train_df.shape))\n",
    "print(\"test data shape : {}\".format(test_df.shape))"
   ]
  },
  {
   "cell_type": "code",
   "execution_count": 5,
   "id": "spectacular-arbitration",
   "metadata": {
    "execution": {
     "iopub.execute_input": "2021-06-17T15:16:00.961063Z",
     "iopub.status.busy": "2021-06-17T15:16:00.960545Z",
     "iopub.status.idle": "2021-06-17T15:16:02.942261Z",
     "shell.execute_reply": "2021-06-17T15:16:02.941811Z",
     "shell.execute_reply.started": "2021-06-17T14:50:08.828609Z"
    },
    "papermill": {
     "duration": 2.024277,
     "end_time": "2021-06-17T15:16:02.942409",
     "exception": false,
     "start_time": "2021-06-17T15:16:00.918132",
     "status": "completed"
    },
    "tags": []
   },
   "outputs": [
    {
     "data": {
      "text/html": [
       "<div>\n",
       "<style scoped>\n",
       "    .dataframe tbody tr th:only-of-type {\n",
       "        vertical-align: middle;\n",
       "    }\n",
       "\n",
       "    .dataframe tbody tr th {\n",
       "        vertical-align: top;\n",
       "    }\n",
       "\n",
       "    .dataframe thead th {\n",
       "        text-align: right;\n",
       "    }\n",
       "</style>\n",
       "<table border=\"1\" class=\"dataframe\">\n",
       "  <thead>\n",
       "    <tr style=\"text-align: right;\">\n",
       "      <th></th>\n",
       "      <th>label</th>\n",
       "      <th>pixel0</th>\n",
       "      <th>pixel1</th>\n",
       "      <th>pixel2</th>\n",
       "      <th>pixel3</th>\n",
       "      <th>pixel4</th>\n",
       "      <th>pixel5</th>\n",
       "      <th>pixel6</th>\n",
       "      <th>pixel7</th>\n",
       "      <th>pixel8</th>\n",
       "      <th>...</th>\n",
       "      <th>pixel774</th>\n",
       "      <th>pixel775</th>\n",
       "      <th>pixel776</th>\n",
       "      <th>pixel777</th>\n",
       "      <th>pixel778</th>\n",
       "      <th>pixel779</th>\n",
       "      <th>pixel780</th>\n",
       "      <th>pixel781</th>\n",
       "      <th>pixel782</th>\n",
       "      <th>pixel783</th>\n",
       "    </tr>\n",
       "  </thead>\n",
       "  <tbody>\n",
       "    <tr>\n",
       "      <th>count</th>\n",
       "      <td>42000.000000</td>\n",
       "      <td>42000.0</td>\n",
       "      <td>42000.0</td>\n",
       "      <td>42000.0</td>\n",
       "      <td>42000.0</td>\n",
       "      <td>42000.0</td>\n",
       "      <td>42000.0</td>\n",
       "      <td>42000.0</td>\n",
       "      <td>42000.0</td>\n",
       "      <td>42000.0</td>\n",
       "      <td>...</td>\n",
       "      <td>42000.000000</td>\n",
       "      <td>42000.000000</td>\n",
       "      <td>42000.000000</td>\n",
       "      <td>42000.00000</td>\n",
       "      <td>42000.000000</td>\n",
       "      <td>42000.000000</td>\n",
       "      <td>42000.0</td>\n",
       "      <td>42000.0</td>\n",
       "      <td>42000.0</td>\n",
       "      <td>42000.0</td>\n",
       "    </tr>\n",
       "    <tr>\n",
       "      <th>mean</th>\n",
       "      <td>4.456643</td>\n",
       "      <td>0.0</td>\n",
       "      <td>0.0</td>\n",
       "      <td>0.0</td>\n",
       "      <td>0.0</td>\n",
       "      <td>0.0</td>\n",
       "      <td>0.0</td>\n",
       "      <td>0.0</td>\n",
       "      <td>0.0</td>\n",
       "      <td>0.0</td>\n",
       "      <td>...</td>\n",
       "      <td>0.219286</td>\n",
       "      <td>0.117095</td>\n",
       "      <td>0.059024</td>\n",
       "      <td>0.02019</td>\n",
       "      <td>0.017238</td>\n",
       "      <td>0.002857</td>\n",
       "      <td>0.0</td>\n",
       "      <td>0.0</td>\n",
       "      <td>0.0</td>\n",
       "      <td>0.0</td>\n",
       "    </tr>\n",
       "    <tr>\n",
       "      <th>std</th>\n",
       "      <td>2.887730</td>\n",
       "      <td>0.0</td>\n",
       "      <td>0.0</td>\n",
       "      <td>0.0</td>\n",
       "      <td>0.0</td>\n",
       "      <td>0.0</td>\n",
       "      <td>0.0</td>\n",
       "      <td>0.0</td>\n",
       "      <td>0.0</td>\n",
       "      <td>0.0</td>\n",
       "      <td>...</td>\n",
       "      <td>6.312890</td>\n",
       "      <td>4.633819</td>\n",
       "      <td>3.274488</td>\n",
       "      <td>1.75987</td>\n",
       "      <td>1.894498</td>\n",
       "      <td>0.414264</td>\n",
       "      <td>0.0</td>\n",
       "      <td>0.0</td>\n",
       "      <td>0.0</td>\n",
       "      <td>0.0</td>\n",
       "    </tr>\n",
       "    <tr>\n",
       "      <th>min</th>\n",
       "      <td>0.000000</td>\n",
       "      <td>0.0</td>\n",
       "      <td>0.0</td>\n",
       "      <td>0.0</td>\n",
       "      <td>0.0</td>\n",
       "      <td>0.0</td>\n",
       "      <td>0.0</td>\n",
       "      <td>0.0</td>\n",
       "      <td>0.0</td>\n",
       "      <td>0.0</td>\n",
       "      <td>...</td>\n",
       "      <td>0.000000</td>\n",
       "      <td>0.000000</td>\n",
       "      <td>0.000000</td>\n",
       "      <td>0.00000</td>\n",
       "      <td>0.000000</td>\n",
       "      <td>0.000000</td>\n",
       "      <td>0.0</td>\n",
       "      <td>0.0</td>\n",
       "      <td>0.0</td>\n",
       "      <td>0.0</td>\n",
       "    </tr>\n",
       "    <tr>\n",
       "      <th>25%</th>\n",
       "      <td>2.000000</td>\n",
       "      <td>0.0</td>\n",
       "      <td>0.0</td>\n",
       "      <td>0.0</td>\n",
       "      <td>0.0</td>\n",
       "      <td>0.0</td>\n",
       "      <td>0.0</td>\n",
       "      <td>0.0</td>\n",
       "      <td>0.0</td>\n",
       "      <td>0.0</td>\n",
       "      <td>...</td>\n",
       "      <td>0.000000</td>\n",
       "      <td>0.000000</td>\n",
       "      <td>0.000000</td>\n",
       "      <td>0.00000</td>\n",
       "      <td>0.000000</td>\n",
       "      <td>0.000000</td>\n",
       "      <td>0.0</td>\n",
       "      <td>0.0</td>\n",
       "      <td>0.0</td>\n",
       "      <td>0.0</td>\n",
       "    </tr>\n",
       "    <tr>\n",
       "      <th>50%</th>\n",
       "      <td>4.000000</td>\n",
       "      <td>0.0</td>\n",
       "      <td>0.0</td>\n",
       "      <td>0.0</td>\n",
       "      <td>0.0</td>\n",
       "      <td>0.0</td>\n",
       "      <td>0.0</td>\n",
       "      <td>0.0</td>\n",
       "      <td>0.0</td>\n",
       "      <td>0.0</td>\n",
       "      <td>...</td>\n",
       "      <td>0.000000</td>\n",
       "      <td>0.000000</td>\n",
       "      <td>0.000000</td>\n",
       "      <td>0.00000</td>\n",
       "      <td>0.000000</td>\n",
       "      <td>0.000000</td>\n",
       "      <td>0.0</td>\n",
       "      <td>0.0</td>\n",
       "      <td>0.0</td>\n",
       "      <td>0.0</td>\n",
       "    </tr>\n",
       "    <tr>\n",
       "      <th>75%</th>\n",
       "      <td>7.000000</td>\n",
       "      <td>0.0</td>\n",
       "      <td>0.0</td>\n",
       "      <td>0.0</td>\n",
       "      <td>0.0</td>\n",
       "      <td>0.0</td>\n",
       "      <td>0.0</td>\n",
       "      <td>0.0</td>\n",
       "      <td>0.0</td>\n",
       "      <td>0.0</td>\n",
       "      <td>...</td>\n",
       "      <td>0.000000</td>\n",
       "      <td>0.000000</td>\n",
       "      <td>0.000000</td>\n",
       "      <td>0.00000</td>\n",
       "      <td>0.000000</td>\n",
       "      <td>0.000000</td>\n",
       "      <td>0.0</td>\n",
       "      <td>0.0</td>\n",
       "      <td>0.0</td>\n",
       "      <td>0.0</td>\n",
       "    </tr>\n",
       "    <tr>\n",
       "      <th>max</th>\n",
       "      <td>9.000000</td>\n",
       "      <td>0.0</td>\n",
       "      <td>0.0</td>\n",
       "      <td>0.0</td>\n",
       "      <td>0.0</td>\n",
       "      <td>0.0</td>\n",
       "      <td>0.0</td>\n",
       "      <td>0.0</td>\n",
       "      <td>0.0</td>\n",
       "      <td>0.0</td>\n",
       "      <td>...</td>\n",
       "      <td>254.000000</td>\n",
       "      <td>254.000000</td>\n",
       "      <td>253.000000</td>\n",
       "      <td>253.00000</td>\n",
       "      <td>254.000000</td>\n",
       "      <td>62.000000</td>\n",
       "      <td>0.0</td>\n",
       "      <td>0.0</td>\n",
       "      <td>0.0</td>\n",
       "      <td>0.0</td>\n",
       "    </tr>\n",
       "  </tbody>\n",
       "</table>\n",
       "<p>8 rows × 785 columns</p>\n",
       "</div>"
      ],
      "text/plain": [
       "              label   pixel0   pixel1   pixel2   pixel3   pixel4   pixel5  \\\n",
       "count  42000.000000  42000.0  42000.0  42000.0  42000.0  42000.0  42000.0   \n",
       "mean       4.456643      0.0      0.0      0.0      0.0      0.0      0.0   \n",
       "std        2.887730      0.0      0.0      0.0      0.0      0.0      0.0   \n",
       "min        0.000000      0.0      0.0      0.0      0.0      0.0      0.0   \n",
       "25%        2.000000      0.0      0.0      0.0      0.0      0.0      0.0   \n",
       "50%        4.000000      0.0      0.0      0.0      0.0      0.0      0.0   \n",
       "75%        7.000000      0.0      0.0      0.0      0.0      0.0      0.0   \n",
       "max        9.000000      0.0      0.0      0.0      0.0      0.0      0.0   \n",
       "\n",
       "        pixel6   pixel7   pixel8  ...      pixel774      pixel775  \\\n",
       "count  42000.0  42000.0  42000.0  ...  42000.000000  42000.000000   \n",
       "mean       0.0      0.0      0.0  ...      0.219286      0.117095   \n",
       "std        0.0      0.0      0.0  ...      6.312890      4.633819   \n",
       "min        0.0      0.0      0.0  ...      0.000000      0.000000   \n",
       "25%        0.0      0.0      0.0  ...      0.000000      0.000000   \n",
       "50%        0.0      0.0      0.0  ...      0.000000      0.000000   \n",
       "75%        0.0      0.0      0.0  ...      0.000000      0.000000   \n",
       "max        0.0      0.0      0.0  ...    254.000000    254.000000   \n",
       "\n",
       "           pixel776     pixel777      pixel778      pixel779  pixel780  \\\n",
       "count  42000.000000  42000.00000  42000.000000  42000.000000   42000.0   \n",
       "mean       0.059024      0.02019      0.017238      0.002857       0.0   \n",
       "std        3.274488      1.75987      1.894498      0.414264       0.0   \n",
       "min        0.000000      0.00000      0.000000      0.000000       0.0   \n",
       "25%        0.000000      0.00000      0.000000      0.000000       0.0   \n",
       "50%        0.000000      0.00000      0.000000      0.000000       0.0   \n",
       "75%        0.000000      0.00000      0.000000      0.000000       0.0   \n",
       "max      253.000000    253.00000    254.000000     62.000000       0.0   \n",
       "\n",
       "       pixel781  pixel782  pixel783  \n",
       "count   42000.0   42000.0   42000.0  \n",
       "mean        0.0       0.0       0.0  \n",
       "std         0.0       0.0       0.0  \n",
       "min         0.0       0.0       0.0  \n",
       "25%         0.0       0.0       0.0  \n",
       "50%         0.0       0.0       0.0  \n",
       "75%         0.0       0.0       0.0  \n",
       "max         0.0       0.0       0.0  \n",
       "\n",
       "[8 rows x 785 columns]"
      ]
     },
     "execution_count": 5,
     "metadata": {},
     "output_type": "execute_result"
    }
   ],
   "source": [
    "train_df.describe()"
   ]
  },
  {
   "cell_type": "code",
   "execution_count": 6,
   "id": "practical-harbor",
   "metadata": {
    "execution": {
     "iopub.execute_input": "2021-06-17T15:16:03.026588Z",
     "iopub.status.busy": "2021-06-17T15:16:03.025591Z",
     "iopub.status.idle": "2021-06-17T15:16:03.808739Z",
     "shell.execute_reply": "2021-06-17T15:16:03.809272Z",
     "shell.execute_reply.started": "2021-06-17T14:50:10.948382Z"
    },
    "papermill": {
     "duration": 0.827143,
     "end_time": "2021-06-17T15:16:03.809452",
     "exception": false,
     "start_time": "2021-06-17T15:16:02.982309",
     "status": "completed"
    },
    "tags": []
   },
   "outputs": [
    {
     "name": "stdout",
     "output_type": "stream",
     "text": [
      "Check train data values : \n",
      "[  0   1   2   3   4   5   6   7   8   9  10  11  12  13  14  15  16  17\n",
      "  18  19  20  21  22  23  24  25  26  27  28  29  30  31  32  33  34  35\n",
      "  36  37  38  39  40  41  42  43  44  45  46  47  48  49  50  51  52  53\n",
      "  54  55  56  57  58  59  60  61  62  63  64  65  66  67  68  69  70  71\n",
      "  72  73  74  75  76  77  78  79  80  81  82  83  84  85  86  87  88  89\n",
      "  90  91  92  93  94  95  96  97  98  99 100 101 102 103 104 105 106 107\n",
      " 108 109 110 111 112 113 114 115 116 117 118 119 120 121 122 123 124 125\n",
      " 126 127 128 129 130 131 132 133 134 135 136 137 138 139 140 141 142 143\n",
      " 144 145 146 147 148 149 150 151 152 153 154 155 156 157 158 159 160 161\n",
      " 162 163 164 165 166 167 168 169 170 171 172 173 174 175 176 177 178 179\n",
      " 180 181 182 183 184 185 186 187 188 189 190 191 192 193 194 195 196 197\n",
      " 198 199 200 201 202 203 204 205 206 207 208 209 210 211 212 213 214 215\n",
      " 216 217 218 219 220 221 222 223 224 225 226 227 228 229 230 231 232 233\n",
      " 234 235 236 237 238 239 240 241 242 243 244 245 246 247 248 249 250 251\n",
      " 252 253 254 255]\n"
     ]
    }
   ],
   "source": [
    "print(\"Check train data values : \\n{}\".format(np.unique(train_df)))"
   ]
  },
  {
   "cell_type": "code",
   "execution_count": 7,
   "id": "applicable-thumbnail",
   "metadata": {
    "execution": {
     "iopub.execute_input": "2021-06-17T15:16:03.896871Z",
     "iopub.status.busy": "2021-06-17T15:16:03.896321Z",
     "iopub.status.idle": "2021-06-17T15:16:03.914403Z",
     "shell.execute_reply": "2021-06-17T15:16:03.914838Z",
     "shell.execute_reply.started": "2021-06-17T14:50:11.746887Z"
    },
    "papermill": {
     "duration": 0.065157,
     "end_time": "2021-06-17T15:16:03.914978",
     "exception": false,
     "start_time": "2021-06-17T15:16:03.849821",
     "status": "completed"
    },
    "tags": []
   },
   "outputs": [
    {
     "data": {
      "image/png": "[encoded data removed]",
      "text/html": [
       "<div style=\"vertical-align: middle;\"><strong>Greys</strong> </div><div class=\"cmap\"><img alt=\"Greys colormap\" title=\"Greys\" style=\"border: 1px solid #555;\" src=\"data:image/png;base64,iVBORw0KGgoAAAANSUhEUgAAAgAAAABACAYAAABsv8+/AAAAFHRFWHRUaXRsZQBHcmV5cyBjb2xvcm1hcORtd/YAAAAadEVYdERlc2NyaXB0aW9uAEdyZXlzIGNvbG9ybWFwGjLeEAAAADB0RVh0QXV0aG9yAE1hdHBsb3RsaWIgdjMuNC4xLCBodHRwczovL21hdHBsb3RsaWIub3JnmTvVjgAAADJ0RVh0U29mdHdhcmUATWF0cGxvdGxpYiB2My40LjEsIGh0dHBzOi8vbWF0cGxvdGxpYi5vcme3nUqpAAABaklEQVR4nO3WSwrCMABAwej9z9y6UReCKPYrb2YTmjRpoJt3med5HmOM+/C09/NR3333/Gl+6fre+9Za/3Zces7R+6dpWrT+r+esvW+v87Y+91/v8es9X+e3fu8s99jq/57t/cd4HQBAjgAAgCABAABBAgAAggQAAAQJAAAIEgAAECQAACBIAABAkAAAgCABAABBAgAAggQAAAQJAAAIEgAAECQAACBIAABAkAAAgCABAABBAgAAggQAAAQJAAAIEgAAECQAACBIAABAkAAAgCABAABBAgAAggQAAAQJAAAIEgAAECQAACBIAABAkAAAgCABAABBAgAAggQAAAQJAAAIEgAAECQAACBIAABAkAAAgCABAABBAgAAggQAAAQJAAAIEgAAECQAACBIAABAkAAAgCABAABBAgAAggQAAAQJAAAIEgAAECQAACBIAABAkAAAgCABAABBAgAAggQAAAQJAAAIEgAAEHQDHfmnnRvzoAgAAAAASUVORK5CYII=\"></div><div style=\"vertical-align: middle; max-width: 514px; display: flex; justify-content: space-between;\"><div style=\"float: left;\"><div title=\"#ffffffff\" style=\"display: inline-block; width: 1em; height: 1em; margin: 0; vertical-align: middle; border: 1px solid #555; background-color: #ffffffff;\"></div> under</div><div style=\"margin: 0 auto; display: inline-block;\">bad <div title=\"#00000000\" style=\"display: inline-block; width: 1em; height: 1em; margin: 0; vertical-align: middle; border: 1px solid #555; background-color: #00000000;\"></div></div><div style=\"float: right;\">over <div title=\"#000000ff\" style=\"display: inline-block; width: 1em; height: 1em; margin: 0; vertical-align: middle; border: 1px solid #555; background-color: #000000ff;\"></div></div>"
      ],
      "text/plain": [
       "<matplotlib.colors.LinearSegmentedColormap at 0x7f0f92e36c50>"
      ]
     },
     "execution_count": 7,
     "metadata": {},
     "output_type": "execute_result"
    }
   ],
   "source": [
    "sns.color_palette(\"Greys\", as_cmap=True)"
   ]
  },
  {
   "cell_type": "code",
   "execution_count": 8,
   "id": "gross-anniversary",
   "metadata": {
    "execution": {
     "iopub.execute_input": "2021-06-17T15:16:04.013197Z",
     "iopub.status.busy": "2021-06-17T15:16:04.012707Z",
     "iopub.status.idle": "2021-06-17T15:16:04.068587Z",
     "shell.execute_reply": "2021-06-17T15:16:04.068171Z",
     "shell.execute_reply.started": "2021-06-17T14:50:11.771968Z"
    },
    "papermill": {
     "duration": 0.112745,
     "end_time": "2021-06-17T15:16:04.068700",
     "exception": false,
     "start_time": "2021-06-17T15:16:03.955955",
     "status": "completed"
    },
    "tags": []
   },
   "outputs": [
    {
     "data": {
      "image/png": "[encoded data removed]",
      "text/plain": [
       "<Figure size 720x72 with 1 Axes>"
      ]
     },
     "metadata": {
      "needs_background": "light"
     },
     "output_type": "display_data"
    }
   ],
   "source": [
    "Greys_palette = sns.color_palette(\"Greys\",10)\n",
    "sns.palplot(Greys_palette)"
   ]
  },
  {
   "cell_type": "markdown",
   "id": "rental-garlic",
   "metadata": {
    "papermill": {
     "duration": 0.040984,
     "end_time": "2021-06-17T15:16:04.150472",
     "exception": false,
     "start_time": "2021-06-17T15:16:04.109488",
     "status": "completed"
    },
    "tags": []
   },
   "source": [
    "# 3. Exploratory Data Analysis(EDA) with Visualization [Before Preprocessing]\n",
    "* Plot the null values\n",
    "* Plot the label Percent\n",
    "* Plot the image Data"
   ]
  },
  {
   "cell_type": "markdown",
   "id": "swedish-bristol",
   "metadata": {
    "papermill": {
     "duration": 0.040531,
     "end_time": "2021-06-17T15:16:04.231686",
     "exception": false,
     "start_time": "2021-06-17T15:16:04.191155",
     "status": "completed"
    },
    "tags": []
   },
   "source": [
    "### 3-1) Plot the null values"
   ]
  },
  {
   "cell_type": "code",
   "execution_count": 9,
   "id": "responsible-separation",
   "metadata": {
    "execution": {
     "iopub.execute_input": "2021-06-17T15:16:04.319336Z",
     "iopub.status.busy": "2021-06-17T15:16:04.317963Z",
     "iopub.status.idle": "2021-06-17T15:16:04.451956Z",
     "shell.execute_reply": "2021-06-17T15:16:04.451528Z",
     "shell.execute_reply.started": "2021-06-17T14:50:11.856737Z"
    },
    "papermill": {
     "duration": 0.179692,
     "end_time": "2021-06-17T15:16:04.452079",
     "exception": false,
     "start_time": "2021-06-17T15:16:04.272387",
     "status": "completed"
    },
    "tags": []
   },
   "outputs": [
    {
     "data": {
      "text/html": [
       "<style  type=\"text/css\" >\n",
       "#T_eed0e308_cf7e_11eb_becb_0242ac130202row0_col0,#T_eed0e308_cf7e_11eb_becb_0242ac130202row1_col0,#T_eed0e308_cf7e_11eb_becb_0242ac130202row2_col0,#T_eed0e308_cf7e_11eb_becb_0242ac130202row3_col0,#T_eed0e308_cf7e_11eb_becb_0242ac130202row4_col0{\n",
       "            background-color:  #ffffff;\n",
       "            color:  #000000;\n",
       "        }</style><table id=\"T_eed0e308_cf7e_11eb_becb_0242ac130202\" ><thead>    <tr>        <th class=\"blank level0\" ></th>        <th class=\"col_heading level0 col0\" >Null Count</th>    </tr></thead><tbody>\n",
       "                <tr>\n",
       "                        <th id=\"T_eed0e308_cf7e_11eb_becb_0242ac130202level0_row0\" class=\"row_heading level0 row0\" >pixel783</th>\n",
       "                        <td id=\"T_eed0e308_cf7e_11eb_becb_0242ac130202row0_col0\" class=\"data row0 col0\" >0</td>\n",
       "            </tr>\n",
       "            <tr>\n",
       "                        <th id=\"T_eed0e308_cf7e_11eb_becb_0242ac130202level0_row1\" class=\"row_heading level0 row1\" >pixel267</th>\n",
       "                        <td id=\"T_eed0e308_cf7e_11eb_becb_0242ac130202row1_col0\" class=\"data row1 col0\" >0</td>\n",
       "            </tr>\n",
       "            <tr>\n",
       "                        <th id=\"T_eed0e308_cf7e_11eb_becb_0242ac130202level0_row2\" class=\"row_heading level0 row2\" >pixel265</th>\n",
       "                        <td id=\"T_eed0e308_cf7e_11eb_becb_0242ac130202row2_col0\" class=\"data row2 col0\" >0</td>\n",
       "            </tr>\n",
       "            <tr>\n",
       "                        <th id=\"T_eed0e308_cf7e_11eb_becb_0242ac130202level0_row3\" class=\"row_heading level0 row3\" >pixel264</th>\n",
       "                        <td id=\"T_eed0e308_cf7e_11eb_becb_0242ac130202row3_col0\" class=\"data row3 col0\" >0</td>\n",
       "            </tr>\n",
       "            <tr>\n",
       "                        <th id=\"T_eed0e308_cf7e_11eb_becb_0242ac130202level0_row4\" class=\"row_heading level0 row4\" >pixel263</th>\n",
       "                        <td id=\"T_eed0e308_cf7e_11eb_becb_0242ac130202row4_col0\" class=\"data row4 col0\" >0</td>\n",
       "            </tr>\n",
       "    </tbody></table>"
      ],
      "text/plain": [
       "<pandas.io.formats.style.Styler at 0x7f0ed2bf47d0>"
      ]
     },
     "execution_count": 9,
     "metadata": {},
     "output_type": "execute_result"
    }
   ],
   "source": [
    "pd.DataFrame(train_df.isnull().sum().sort_values(ascending=False), columns=[\"Null Count\"]).head().style.background_gradient(cmap='Greys')"
   ]
  },
  {
   "cell_type": "code",
   "execution_count": 10,
   "id": "regional-sustainability",
   "metadata": {
    "execution": {
     "iopub.execute_input": "2021-06-17T15:16:04.540708Z",
     "iopub.status.busy": "2021-06-17T15:16:04.539795Z",
     "iopub.status.idle": "2021-06-17T15:16:11.402868Z",
     "shell.execute_reply": "2021-06-17T15:16:11.402440Z",
     "shell.execute_reply.started": "2021-06-17T14:50:12.007432Z"
    },
    "papermill": {
     "duration": 6.909726,
     "end_time": "2021-06-17T15:16:11.402993",
     "exception": false,
     "start_time": "2021-06-17T15:16:04.493267",
     "status": "completed"
    },
    "tags": []
   },
   "outputs": [
    {
     "data": {
      "text/plain": [
       "<AxesSubplot:>"
      ]
     },
     "execution_count": 10,
     "metadata": {},
     "output_type": "execute_result"
    },
    {
     "data": {
      "image/png": "[encoded data removed]",
      "text/plain": [
       "<Figure size 1440x360 with 2 Axes>"
      ]
     },
     "metadata": {
      "needs_background": "light"
     },
     "output_type": "display_data"
    }
   ],
   "source": [
    "msno.matrix(df=train_df.iloc[:,:],figsize=(20,5),color=Greys_palette[8])"
   ]
  },
  {
   "cell_type": "markdown",
   "id": "subsequent-closer",
   "metadata": {
    "papermill": {
     "duration": 0.042954,
     "end_time": "2021-06-17T15:16:11.488645",
     "exception": false,
     "start_time": "2021-06-17T15:16:11.445691",
     "status": "completed"
    },
    "tags": []
   },
   "source": [
    "### 3-2) Plot the label Percent"
   ]
  },
  {
   "cell_type": "code",
   "execution_count": 11,
   "id": "medical-market",
   "metadata": {
    "execution": {
     "iopub.execute_input": "2021-06-17T15:16:11.596259Z",
     "iopub.status.busy": "2021-06-17T15:16:11.595424Z",
     "iopub.status.idle": "2021-06-17T15:16:11.735668Z",
     "shell.execute_reply": "2021-06-17T15:16:11.736084Z",
     "shell.execute_reply.started": "2021-06-17T14:50:19.214051Z"
    },
    "papermill": {
     "duration": 0.204242,
     "end_time": "2021-06-17T15:16:11.736225",
     "exception": false,
     "start_time": "2021-06-17T15:16:11.531983",
     "status": "completed"
    },
    "tags": []
   },
   "outputs": [
    {
     "data": {
      "text/plain": [
       "Text(0.1, 0.92, 'distribution by Label in Mnist')"
      ]
     },
     "execution_count": 11,
     "metadata": {},
     "output_type": "execute_result"
    },
    {
     "data": {
      "image/png": "[encoded data removed]",
      "text/plain": [
       "<Figure size 720x504 with 1 Axes>"
      ]
     },
     "metadata": {
      "needs_background": "light"
     },
     "output_type": "display_data"
    }
   ],
   "source": [
    "fig, ax = plt.subplots(1,1, figsize=(10,7))\n",
    "sns.countplot(x='label', data=train_df, palette=Greys_palette[::-1], ax=ax)\n",
    "ax.patch.set_alpha(0)\n",
    "\n",
    "fig.text(0.1,0.92,\"distribution by Label in Mnist\", fontweight=\"bold\", fontfamily='serif', fontsize=17)"
   ]
  },
  {
   "cell_type": "markdown",
   "id": "placed-correction",
   "metadata": {
    "papermill": {
     "duration": 0.043017,
     "end_time": "2021-06-17T15:16:11.822994",
     "exception": false,
     "start_time": "2021-06-17T15:16:11.779977",
     "status": "completed"
    },
    "tags": []
   },
   "source": [
    "### 3-3) * Plot the image Data"
   ]
  },
  {
   "cell_type": "code",
   "execution_count": 12,
   "id": "tribal-cabinet",
   "metadata": {
    "execution": {
     "iopub.execute_input": "2021-06-17T15:16:11.914465Z",
     "iopub.status.busy": "2021-06-17T15:16:11.913659Z",
     "iopub.status.idle": "2021-06-17T15:16:11.916149Z",
     "shell.execute_reply": "2021-06-17T15:16:11.915750Z",
     "shell.execute_reply.started": "2021-06-17T14:50:19.387844Z"
    },
    "papermill": {
     "duration": 0.049524,
     "end_time": "2021-06-17T15:16:11.916254",
     "exception": false,
     "start_time": "2021-06-17T15:16:11.866730",
     "status": "completed"
    },
    "tags": []
   },
   "outputs": [],
   "source": [
    "x = train_df.iloc[:,1:].values\n",
    "y = train_df.iloc[:,0].values"
   ]
  },
  {
   "cell_type": "code",
   "execution_count": 13,
   "id": "blond-dancing",
   "metadata": {
    "execution": {
     "iopub.execute_input": "2021-06-17T15:16:12.007611Z",
     "iopub.status.busy": "2021-06-17T15:16:12.006986Z",
     "iopub.status.idle": "2021-06-17T15:16:12.010070Z",
     "shell.execute_reply": "2021-06-17T15:16:12.010504Z",
     "shell.execute_reply.started": "2021-06-17T14:50:19.394485Z"
    },
    "papermill": {
     "duration": 0.050914,
     "end_time": "2021-06-17T15:16:12.010639",
     "exception": false,
     "start_time": "2021-06-17T15:16:11.959725",
     "status": "completed"
    },
    "tags": []
   },
   "outputs": [
    {
     "name": "stdout",
     "output_type": "stream",
     "text": [
      "X shape : (42000, 784)\n",
      "Y shape : (42000,)\n"
     ]
    }
   ],
   "source": [
    "print(\"X shape : {}\".format(x.shape))\n",
    "print(\"Y shape : {}\".format(y.shape))"
   ]
  },
  {
   "cell_type": "code",
   "execution_count": 14,
   "id": "abroad-thriller",
   "metadata": {
    "execution": {
     "iopub.execute_input": "2021-06-17T15:16:12.121646Z",
     "iopub.status.busy": "2021-06-17T15:16:12.120804Z",
     "iopub.status.idle": "2021-06-17T15:16:13.217854Z",
     "shell.execute_reply": "2021-06-17T15:16:13.217333Z",
     "shell.execute_reply.started": "2021-06-17T14:50:19.410035Z"
    },
    "papermill": {
     "duration": 1.163836,
     "end_time": "2021-06-17T15:16:13.217983",
     "exception": false,
     "start_time": "2021-06-17T15:16:12.054147",
     "status": "completed"
    },
    "tags": []
   },
   "outputs": [
    {
     "data": {
      "image/png": "[encoded data removed]",
      "text/plain": [
       "<Figure size 1080x1080 with 25 Axes>"
      ]
     },
     "metadata": {
      "needs_background": "light"
     },
     "output_type": "display_data"
    }
   ],
   "source": [
    "fig , axes = plt.subplots(5, 5, figsize=(15,15))\n",
    "\n",
    "x_idx = 0\n",
    "y_idx = 0\n",
    "\n",
    "for i in range(5*5):\n",
    "    if x_idx == 5:\n",
    "        x_idx = 0\n",
    "        y_idx += 1\n",
    "        \n",
    "    axes[y_idx][x_idx].imshow(x[i].reshape(28,28), 'gray')\n",
    "    axes[y_idx][x_idx].axis(\"off\")\n",
    "    axes[y_idx][x_idx].set_title(\"Target : \" + str(y[i]))\n",
    "    x_idx += 1\n",
    "\n",
    "plt.show()"
   ]
  },
  {
   "cell_type": "markdown",
   "id": "trained-burke",
   "metadata": {
    "papermill": {
     "duration": 0.044412,
     "end_time": "2021-06-17T15:16:13.307606",
     "exception": false,
     "start_time": "2021-06-17T15:16:13.263194",
     "status": "completed"
    },
    "tags": []
   },
   "source": [
    "# 4. Feature Enginnering\n",
    "* Split Train set / Validation set\n",
    "* Convert to data suitable for CNN model (Dataset / Dataloader)"
   ]
  },
  {
   "cell_type": "markdown",
   "id": "third-council",
   "metadata": {
    "papermill": {
     "duration": 0.046231,
     "end_time": "2021-06-17T15:16:13.398650",
     "exception": false,
     "start_time": "2021-06-17T15:16:13.352419",
     "status": "completed"
    },
    "tags": []
   },
   "source": [
    "### 4-1) Split Train set / Validation set"
   ]
  },
  {
   "cell_type": "code",
   "execution_count": 15,
   "id": "bibliographic-minutes",
   "metadata": {
    "execution": {
     "iopub.execute_input": "2021-06-17T15:16:13.495349Z",
     "iopub.status.busy": "2021-06-17T15:16:13.494225Z",
     "iopub.status.idle": "2021-06-17T15:16:13.867994Z",
     "shell.execute_reply": "2021-06-17T15:16:13.867528Z",
     "shell.execute_reply.started": "2021-06-17T14:50:20.587774Z"
    },
    "papermill": {
     "duration": 0.424222,
     "end_time": "2021-06-17T15:16:13.868125",
     "exception": false,
     "start_time": "2021-06-17T15:16:13.443903",
     "status": "completed"
    },
    "tags": []
   },
   "outputs": [],
   "source": [
    "x_train, x_val, y_train, y_val = train_test_split(x, y, test_size=0.15)"
   ]
  },
  {
   "cell_type": "code",
   "execution_count": 16,
   "id": "everyday-spider",
   "metadata": {
    "execution": {
     "iopub.execute_input": "2021-06-17T15:16:13.964146Z",
     "iopub.status.busy": "2021-06-17T15:16:13.963503Z",
     "iopub.status.idle": "2021-06-17T15:16:13.966454Z",
     "shell.execute_reply": "2021-06-17T15:16:13.966856Z",
     "shell.execute_reply.started": "2021-06-17T14:50:20.964935Z"
    },
    "papermill": {
     "duration": 0.05339,
     "end_time": "2021-06-17T15:16:13.966978",
     "exception": false,
     "start_time": "2021-06-17T15:16:13.913588",
     "status": "completed"
    },
    "tags": []
   },
   "outputs": [
    {
     "name": "stdout",
     "output_type": "stream",
     "text": [
      "x_train shape : (35700, 784)\n",
      "y_train shape : (35700,)\n",
      "x_val shape : (6300, 784)\n",
      "y_val shape : (6300,)\n"
     ]
    }
   ],
   "source": [
    "print(\"x_train shape : {}\".format(x_train.shape))\n",
    "print(\"y_train shape : {}\".format(y_train.shape))\n",
    "print(\"x_val shape : {}\".format(x_val.shape))\n",
    "print(\"y_val shape : {}\".format(y_val.shape))"
   ]
  },
  {
   "cell_type": "markdown",
   "id": "affiliated-sierra",
   "metadata": {
    "papermill": {
     "duration": 0.044674,
     "end_time": "2021-06-17T15:16:14.056545",
     "exception": false,
     "start_time": "2021-06-17T15:16:14.011871",
     "status": "completed"
    },
    "tags": []
   },
   "source": [
    "### 4-2) Convert to data suitable for CNN model (Dataset / Dataloader)"
   ]
  },
  {
   "cell_type": "code",
   "execution_count": 17,
   "id": "impossible-ratio",
   "metadata": {
    "execution": {
     "iopub.execute_input": "2021-06-17T15:16:14.155515Z",
     "iopub.status.busy": "2021-06-17T15:16:14.154706Z",
     "iopub.status.idle": "2021-06-17T15:16:14.157366Z",
     "shell.execute_reply": "2021-06-17T15:16:14.156917Z",
     "shell.execute_reply.started": "2021-06-17T14:50:20.973427Z"
    },
    "papermill": {
     "duration": 0.055321,
     "end_time": "2021-06-17T15:16:14.157493",
     "exception": false,
     "start_time": "2021-06-17T15:16:14.102172",
     "status": "completed"
    },
    "tags": []
   },
   "outputs": [],
   "source": [
    "class BasicDataset(torch.utils.data.Dataset):\n",
    "    def __init__(self,x_data, y_data, is_labeled=False):\n",
    "        self.x = self.get_float_type(x_data)\n",
    "        self.is_labeled = is_labeled\n",
    "        \n",
    "        if self.is_labeled:\n",
    "            self.y = self.get_long_type(y_data)\n",
    "        else:\n",
    "            self.y = None\n",
    "        \n",
    "        \n",
    "    def __len__(self):\n",
    "        return len(self.x)\n",
    "    \n",
    "    \n",
    "    def __getitem__(self, index):\n",
    "        global data\n",
    "        data = {}\n",
    "        \n",
    "        x_row = self.x[index]\n",
    "        data['data'] = x_row\n",
    "    \n",
    "        if self.is_labeled == True: \n",
    "            y_row = self.y[index]\n",
    "            data['target'] = y_row\n",
    "        return data\n",
    "    \n",
    "        \n",
    "    def get_float_type(self, data):\n",
    "        data = data.astype('float32')\n",
    "        data /= 255\n",
    "        data = data.reshape(-1, 1, 28, 28)\n",
    "        return data\n",
    "    \n",
    "    \n",
    "    def get_long_type(self, target):\n",
    "        target = target.astype(torch.LongTensor)\n",
    "        return target"
   ]
  },
  {
   "cell_type": "code",
   "execution_count": 18,
   "id": "tamil-breakfast",
   "metadata": {
    "execution": {
     "iopub.execute_input": "2021-06-17T15:16:14.252258Z",
     "iopub.status.busy": "2021-06-17T15:16:14.251341Z",
     "iopub.status.idle": "2021-06-17T15:16:14.325348Z",
     "shell.execute_reply": "2021-06-17T15:16:14.324874Z",
     "shell.execute_reply.started": "2021-06-17T14:50:20.987092Z"
    },
    "papermill": {
     "duration": 0.12292,
     "end_time": "2021-06-17T15:16:14.325489",
     "exception": false,
     "start_time": "2021-06-17T15:16:14.202569",
     "status": "completed"
    },
    "tags": []
   },
   "outputs": [],
   "source": [
    "train_dataset = BasicDataset(x_train, y_train, is_labeled=True)\n",
    "val_dataset = BasicDataset(x_val, y_val, is_labeled=True)"
   ]
  },
  {
   "cell_type": "code",
   "execution_count": 19,
   "id": "refined-template",
   "metadata": {
    "execution": {
     "iopub.execute_input": "2021-06-17T15:16:14.428335Z",
     "iopub.status.busy": "2021-06-17T15:16:14.425010Z",
     "iopub.status.idle": "2021-06-17T15:16:14.432669Z",
     "shell.execute_reply": "2021-06-17T15:16:14.433076Z",
     "shell.execute_reply.started": "2021-06-17T14:50:21.073664Z"
    },
    "papermill": {
     "duration": 0.062199,
     "end_time": "2021-06-17T15:16:14.433201",
     "exception": false,
     "start_time": "2021-06-17T15:16:14.371002",
     "status": "completed"
    },
    "tags": []
   },
   "outputs": [
    {
     "name": "stdout",
     "output_type": "stream",
     "text": [
      "Data of train dataset : [[[0.         0.         0.         0.         0.         0.\n",
      "   0.         0.         0.         0.         0.         0.\n",
      "   0.         0.         0.         0.         0.         0.\n",
      "   0.         0.         0.         0.         0.         0.\n",
      "   0.         0.         0.         0.        ]\n",
      "  [0.         0.         0.         0.         0.         0.\n",
      "   0.         0.         0.         0.         0.         0.\n",
      "   0.         0.         0.         0.         0.         0.\n",
      "   0.         0.         0.         0.         0.         0.\n",
      "   0.         0.         0.         0.        ]\n",
      "  [0.         0.         0.         0.         0.         0.\n",
      "   0.         0.         0.         0.         0.         0.\n",
      "   0.         0.         0.         0.         0.         0.\n",
      "   0.         0.         0.         0.         0.         0.\n",
      "   0.         0.         0.         0.        ]\n",
      "  [0.         0.         0.         0.         0.         0.\n",
      "   0.         0.         0.         0.         0.         0.\n",
      "   0.         0.         0.         0.         0.         0.\n",
      "   0.         0.         0.         0.         0.         0.\n",
      "   0.         0.         0.         0.        ]\n",
      "  [0.         0.         0.         0.         0.         0.\n",
      "   0.         0.         0.         0.         0.         0.\n",
      "   0.         0.         0.         0.         0.         0.\n",
      "   0.         0.         0.         0.         0.         0.\n",
      "   0.         0.         0.         0.        ]\n",
      "  [0.         0.         0.         0.         0.         0.\n",
      "   0.         0.         0.         0.         0.         0.\n",
      "   0.         0.         0.         0.23529412 0.7490196  1.\n",
      "   0.99215686 0.64705884 0.5529412  0.29803923 0.         0.\n",
      "   0.         0.         0.         0.        ]\n",
      "  [0.         0.         0.         0.         0.         0.\n",
      "   0.         0.         0.         0.         0.         0.\n",
      "   0.         0.         0.14901961 0.81960785 0.9882353  0.99215686\n",
      "   0.9882353  0.9882353  0.9882353  0.95686275 0.21960784 0.\n",
      "   0.         0.         0.         0.        ]\n",
      "  [0.         0.         0.         0.         0.         0.\n",
      "   0.         0.         0.         0.         0.         0.\n",
      "   0.         0.09019608 0.91764706 0.9882353  0.9882353  0.99215686\n",
      "   0.9882353  0.9882353  0.9882353  0.99215686 0.84313726 0.17254902\n",
      "   0.         0.         0.         0.        ]\n",
      "  [0.         0.         0.         0.         0.         0.\n",
      "   0.         0.         0.         0.         0.         0.\n",
      "   0.2        0.8980392  0.9882353  0.9882353  0.9882353  0.99215686\n",
      "   0.9882353  0.9882353  0.9882353  0.99215686 0.9882353  0.21960784\n",
      "   0.         0.         0.         0.        ]\n",
      "  [0.         0.         0.         0.         0.         0.\n",
      "   0.         0.         0.         0.         0.         0.23529412\n",
      "   0.94509804 0.99607843 0.99215686 0.99215686 0.99215686 0.6392157\n",
      "   0.         0.         0.44705883 0.99607843 0.99215686 0.27058825\n",
      "   0.         0.         0.         0.        ]\n",
      "  [0.         0.         0.         0.         0.         0.\n",
      "   0.         0.         0.         0.         0.14901961 0.91764706\n",
      "   0.9882353  0.99215686 0.9882353  0.9882353  0.69411767 0.14901961\n",
      "   0.         0.         0.44313726 0.99215686 0.9882353  0.65882355\n",
      "   0.         0.         0.         0.        ]\n",
      "  [0.         0.         0.         0.         0.         0.\n",
      "   0.         0.         0.         0.03921569 0.6745098  0.9882353\n",
      "   0.9882353  0.99215686 0.76862746 0.50980395 0.12156863 0.\n",
      "   0.         0.         0.44313726 0.99215686 0.9882353  0.65882355\n",
      "   0.         0.         0.         0.        ]\n",
      "  [0.         0.         0.         0.         0.         0.\n",
      "   0.         0.         0.         0.30980393 0.9882353  0.9882353\n",
      "   0.9882353  0.69803923 0.03529412 0.         0.         0.\n",
      "   0.         0.         0.44313726 0.99215686 0.9882353  0.4627451\n",
      "   0.         0.         0.         0.        ]\n",
      "  [0.         0.         0.         0.         0.         0.\n",
      "   0.         0.         0.24705882 0.99607843 0.99215686 0.99215686\n",
      "   0.69803923 0.         0.         0.         0.         0.\n",
      "   0.         0.         0.6901961  0.99607843 0.99215686 0.21960784\n",
      "   0.         0.         0.         0.        ]\n",
      "  [0.         0.         0.         0.         0.         0.\n",
      "   0.         0.         0.5411765  0.99215686 0.9882353  0.9137255\n",
      "   0.08627451 0.         0.         0.         0.         0.\n",
      "   0.         0.5176471  0.9529412  0.99215686 0.9411765  0.16862746\n",
      "   0.         0.         0.         0.        ]\n",
      "  [0.         0.         0.         0.         0.         0.\n",
      "   0.         0.40784314 0.9647059  0.99215686 0.9882353  0.3137255\n",
      "   0.         0.         0.         0.         0.         0.\n",
      "   0.22352941 0.84313726 0.9882353  0.95686275 0.31764707 0.\n",
      "   0.         0.         0.         0.        ]\n",
      "  [0.         0.         0.         0.         0.         0.\n",
      "   0.10196079 0.87058824 0.9882353  0.99215686 0.7921569  0.02352941\n",
      "   0.         0.         0.         0.         0.         0.10196079\n",
      "   0.9529412  0.9882353  0.9882353  0.6862745  0.         0.\n",
      "   0.         0.         0.         0.        ]\n",
      "  [0.         0.         0.         0.         0.         0.01568628\n",
      "   0.5019608  0.99215686 0.99215686 0.9372549  0.14901961 0.\n",
      "   0.         0.         0.         0.03921569 0.30980393 0.99607843\n",
      "   0.99215686 0.99215686 0.74509805 0.         0.         0.\n",
      "   0.         0.         0.         0.        ]\n",
      "  [0.         0.         0.         0.         0.         0.11372549\n",
      "   0.9882353  0.9882353  0.9882353  0.88235295 0.         0.\n",
      "   0.         0.         0.         0.43137255 0.9882353  0.99215686\n",
      "   0.9882353  0.9137255  0.23137255 0.         0.         0.\n",
      "   0.         0.         0.         0.        ]\n",
      "  [0.         0.         0.         0.         0.         0.11372549\n",
      "   0.9882353  0.9882353  0.9882353  0.39215687 0.         0.\n",
      "   0.         0.03921569 0.43137255 0.9411765  0.9882353  0.99215686\n",
      "   0.76862746 0.24313726 0.         0.         0.         0.\n",
      "   0.         0.         0.         0.        ]\n",
      "  [0.         0.         0.         0.         0.         0.11372549\n",
      "   0.9882353  0.9882353  0.9882353  0.         0.         0.\n",
      "   0.2        0.7019608  0.9882353  0.9882353  0.9882353  0.69803923\n",
      "   0.03529412 0.         0.         0.         0.         0.\n",
      "   0.         0.         0.         0.        ]\n",
      "  [0.         0.         0.         0.         0.         0.11372549\n",
      "   0.99215686 0.99215686 0.99215686 0.30980393 0.40784314 0.69803923\n",
      "   0.99215686 0.99607843 0.99215686 0.95686275 0.49019608 0.\n",
      "   0.         0.         0.         0.         0.         0.\n",
      "   0.         0.         0.         0.        ]\n",
      "  [0.         0.         0.         0.         0.         0.11372549\n",
      "   0.9882353  0.9882353  0.9882353  0.99215686 0.9882353  0.9882353\n",
      "   0.9882353  0.99215686 0.8392157  0.31764707 0.         0.\n",
      "   0.         0.         0.         0.         0.         0.\n",
      "   0.         0.         0.         0.        ]\n",
      "  [0.         0.         0.         0.         0.         0.07450981\n",
      "   0.8784314  0.9882353  0.9882353  0.99215686 0.9882353  0.9882353\n",
      "   0.9882353  0.6117647  0.07450981 0.         0.         0.\n",
      "   0.         0.         0.         0.         0.         0.\n",
      "   0.         0.         0.         0.        ]\n",
      "  [0.         0.         0.         0.         0.         0.\n",
      "   0.17254902 0.89411765 0.9882353  0.99215686 0.8901961  0.40392157\n",
      "   0.10980392 0.         0.         0.         0.         0.\n",
      "   0.         0.         0.         0.         0.         0.\n",
      "   0.         0.         0.         0.        ]\n",
      "  [0.         0.         0.         0.         0.         0.\n",
      "   0.         0.         0.         0.         0.         0.\n",
      "   0.         0.         0.         0.         0.         0.\n",
      "   0.         0.         0.         0.         0.         0.\n",
      "   0.         0.         0.         0.        ]\n",
      "  [0.         0.         0.         0.         0.         0.\n",
      "   0.         0.         0.         0.         0.         0.\n",
      "   0.         0.         0.         0.         0.         0.\n",
      "   0.         0.         0.         0.         0.         0.\n",
      "   0.         0.         0.         0.        ]\n",
      "  [0.         0.         0.         0.         0.         0.\n",
      "   0.         0.         0.         0.         0.         0.\n",
      "   0.         0.         0.         0.         0.         0.\n",
      "   0.         0.         0.         0.         0.         0.\n",
      "   0.         0.         0.         0.        ]]]\n",
      "\n",
      "\n",
      "\n",
      "\n",
      "Target of train dataset : 0\n"
     ]
    }
   ],
   "source": [
    "print(\"Data of train dataset : {}\\n\\n\\n\\n\".format(train_dataset[0]['data']))\n",
    "print(\"Target of train dataset : {}\".format(train_dataset[0]['target']))"
   ]
  },
  {
   "cell_type": "code",
   "execution_count": 20,
   "id": "documented-stylus",
   "metadata": {
    "execution": {
     "iopub.execute_input": "2021-06-17T15:16:14.527313Z",
     "iopub.status.busy": "2021-06-17T15:16:14.526666Z",
     "iopub.status.idle": "2021-06-17T15:16:14.529012Z",
     "shell.execute_reply": "2021-06-17T15:16:14.529461Z",
     "shell.execute_reply.started": "2021-06-17T14:50:21.090355Z"
    },
    "papermill": {
     "duration": 0.050803,
     "end_time": "2021-06-17T15:16:14.529631",
     "exception": false,
     "start_time": "2021-06-17T15:16:14.478828",
     "status": "completed"
    },
    "tags": []
   },
   "outputs": [],
   "source": [
    "BATCH_SIZE = 256"
   ]
  },
  {
   "cell_type": "code",
   "execution_count": 21,
   "id": "laughing-equation",
   "metadata": {
    "execution": {
     "iopub.execute_input": "2021-06-17T15:16:14.626845Z",
     "iopub.status.busy": "2021-06-17T15:16:14.626090Z",
     "iopub.status.idle": "2021-06-17T15:16:14.628819Z",
     "shell.execute_reply": "2021-06-17T15:16:14.628327Z",
     "shell.execute_reply.started": "2021-06-17T14:50:21.101509Z"
    },
    "papermill": {
     "duration": 0.051533,
     "end_time": "2021-06-17T15:16:14.628919",
     "exception": false,
     "start_time": "2021-06-17T15:16:14.577386",
     "status": "completed"
    },
    "tags": []
   },
   "outputs": [],
   "source": [
    "train_loader = DataLoader(train_dataset, batch_size=BATCH_SIZE, shuffle = True)\n",
    "val_loader = DataLoader(val_dataset, batch_size=BATCH_SIZE, shuffle = False)"
   ]
  },
  {
   "cell_type": "code",
   "execution_count": 22,
   "id": "afraid-punishment",
   "metadata": {
    "execution": {
     "iopub.execute_input": "2021-06-17T15:16:14.723976Z",
     "iopub.status.busy": "2021-06-17T15:16:14.723222Z",
     "iopub.status.idle": "2021-06-17T15:16:14.725852Z",
     "shell.execute_reply": "2021-06-17T15:16:14.725458Z",
     "shell.execute_reply.started": "2021-06-17T14:50:21.114283Z"
    },
    "papermill": {
     "duration": 0.051303,
     "end_time": "2021-06-17T15:16:14.725959",
     "exception": false,
     "start_time": "2021-06-17T15:16:14.674656",
     "status": "completed"
    },
    "tags": []
   },
   "outputs": [],
   "source": [
    "dataloaders_dict = {\"train\": train_loader, \"val\": val_loader}"
   ]
  },
  {
   "cell_type": "markdown",
   "id": "reliable-cooperation",
   "metadata": {
    "papermill": {
     "duration": 0.047296,
     "end_time": "2021-06-17T15:16:14.819407",
     "exception": false,
     "start_time": "2021-06-17T15:16:14.772111",
     "status": "completed"
    },
    "tags": []
   },
   "source": [
    "# 5.Modeling\n",
    "* CNN Modeling\n",
    "* Training\n",
    "* Evaluating"
   ]
  },
  {
   "cell_type": "markdown",
   "id": "fallen-dialogue",
   "metadata": {
    "papermill": {
     "duration": 0.045838,
     "end_time": "2021-06-17T15:16:14.911192",
     "exception": false,
     "start_time": "2021-06-17T15:16:14.865354",
     "status": "completed"
    },
    "tags": []
   },
   "source": [
    "### 5-1) CNN Modeling"
   ]
  },
  {
   "cell_type": "code",
   "execution_count": 23,
   "id": "western-liquid",
   "metadata": {
    "execution": {
     "iopub.execute_input": "2021-06-17T15:16:15.006734Z",
     "iopub.status.busy": "2021-06-17T15:16:15.005902Z",
     "iopub.status.idle": "2021-06-17T15:16:15.008174Z",
     "shell.execute_reply": "2021-06-17T15:16:15.008645Z",
     "shell.execute_reply.started": "2021-06-17T14:50:21.127349Z"
    },
    "papermill": {
     "duration": 0.052104,
     "end_time": "2021-06-17T15:16:15.008775",
     "exception": false,
     "start_time": "2021-06-17T15:16:14.956671",
     "status": "completed"
    },
    "tags": []
   },
   "outputs": [],
   "source": [
    "INPUT_DIM = 1\n",
    "HIDDEN_DIM_1 = 32\n",
    "HIDDEN_DIM_2 = 64\n",
    "OUTPUT = 10"
   ]
  },
  {
   "cell_type": "code",
   "execution_count": 24,
   "id": "seeing-europe",
   "metadata": {
    "execution": {
     "iopub.execute_input": "2021-06-17T15:16:15.107527Z",
     "iopub.status.busy": "2021-06-17T15:16:15.106775Z",
     "iopub.status.idle": "2021-06-17T15:16:15.109492Z",
     "shell.execute_reply": "2021-06-17T15:16:15.109046Z",
     "shell.execute_reply.started": "2021-06-17T14:50:21.142604Z"
    },
    "papermill": {
     "duration": 0.055475,
     "end_time": "2021-06-17T15:16:15.109605",
     "exception": false,
     "start_time": "2021-06-17T15:16:15.054130",
     "status": "completed"
    },
    "tags": []
   },
   "outputs": [],
   "source": [
    "class BasicCNN(nn.Module):\n",
    "    def __init__(self, input_dim, hidden_dim_1, hidden_dim_2, output):\n",
    "        super(BasicCNN, self).__init__()\n",
    "        \n",
    "        self.convolution_layer = nn.Sequential(OrderedDict([\n",
    "            ('conv1', nn.Conv2d(input_dim, hidden_dim_1, 3, 1, 0)),\n",
    "            ('relu1', nn.ReLU()),\n",
    "            ('pool1', nn.MaxPool2d(2,2)),\n",
    "            ('conv2', nn.Conv2d(hidden_dim_1, hidden_dim_2, 3, 1, 0)),\n",
    "            ('relu2', nn.ReLU()),\n",
    "            ('pool2', nn.MaxPool2d(2,2))    \n",
    "        ]))\n",
    "        self.fc_layer = nn.Sequential(OrderedDict([\n",
    "            ('Dense1', nn.Linear(1600, output)),\n",
    "            ('softmax', nn.Softmax())\n",
    "        ]))\n",
    "    \n",
    "    def forward(self,x):\n",
    "        out = self.convolution_layer(x)\n",
    "        out = out.view(out.size(0),-1)\n",
    "        out = self.fc_layer(out)\n",
    "        return out"
   ]
  },
  {
   "cell_type": "code",
   "execution_count": 25,
   "id": "analyzed-navigation",
   "metadata": {
    "execution": {
     "iopub.execute_input": "2021-06-17T15:16:15.204600Z",
     "iopub.status.busy": "2021-06-17T15:16:15.204065Z",
     "iopub.status.idle": "2021-06-17T15:16:15.233386Z",
     "shell.execute_reply": "2021-06-17T15:16:15.232907Z",
     "shell.execute_reply.started": "2021-06-17T14:50:21.155277Z"
    },
    "papermill": {
     "duration": 0.078824,
     "end_time": "2021-06-17T15:16:15.233558",
     "exception": false,
     "start_time": "2021-06-17T15:16:15.154734",
     "status": "completed"
    },
    "tags": []
   },
   "outputs": [],
   "source": [
    "cnn_model = BasicCNN(INPUT_DIM, HIDDEN_DIM_1, HIDDEN_DIM_2, OUTPUT)"
   ]
  },
  {
   "cell_type": "code",
   "execution_count": 26,
   "id": "frank-eligibility",
   "metadata": {
    "execution": {
     "iopub.execute_input": "2021-06-17T15:16:15.328719Z",
     "iopub.status.busy": "2021-06-17T15:16:15.328017Z",
     "iopub.status.idle": "2021-06-17T15:16:15.331106Z",
     "shell.execute_reply": "2021-06-17T15:16:15.331518Z",
     "shell.execute_reply.started": "2021-06-17T14:50:21.196996Z"
    },
    "papermill": {
     "duration": 0.052701,
     "end_time": "2021-06-17T15:16:15.331665",
     "exception": false,
     "start_time": "2021-06-17T15:16:15.278964",
     "status": "completed"
    },
    "tags": []
   },
   "outputs": [
    {
     "name": "stdout",
     "output_type": "stream",
     "text": [
      "BasicCNN(\n",
      "  (convolution_layer): Sequential(\n",
      "    (conv1): Conv2d(1, 32, kernel_size=(3, 3), stride=(1, 1))\n",
      "    (relu1): ReLU()\n",
      "    (pool1): MaxPool2d(kernel_size=2, stride=2, padding=0, dilation=1, ceil_mode=False)\n",
      "    (conv2): Conv2d(32, 64, kernel_size=(3, 3), stride=(1, 1))\n",
      "    (relu2): ReLU()\n",
      "    (pool2): MaxPool2d(kernel_size=2, stride=2, padding=0, dilation=1, ceil_mode=False)\n",
      "  )\n",
      "  (fc_layer): Sequential(\n",
      "    (Dense1): Linear(in_features=1600, out_features=10, bias=True)\n",
      "    (softmax): Softmax(dim=None)\n",
      "  )\n",
      ")\n"
     ]
    }
   ],
   "source": [
    "print(cnn_model)"
   ]
  },
  {
   "cell_type": "code",
   "execution_count": 27,
   "id": "liked-indonesia",
   "metadata": {
    "execution": {
     "iopub.execute_input": "2021-06-17T15:16:15.429750Z",
     "iopub.status.busy": "2021-06-17T15:16:15.429051Z",
     "iopub.status.idle": "2021-06-17T15:16:15.432494Z",
     "shell.execute_reply": "2021-06-17T15:16:15.432077Z",
     "shell.execute_reply.started": "2021-06-17T14:50:21.208018Z"
    },
    "papermill": {
     "duration": 0.054539,
     "end_time": "2021-06-17T15:16:15.432610",
     "exception": false,
     "start_time": "2021-06-17T15:16:15.378071",
     "status": "completed"
    },
    "tags": []
   },
   "outputs": [
    {
     "data": {
      "text/plain": [
       "(1, 28, 28)"
      ]
     },
     "execution_count": 27,
     "metadata": {},
     "output_type": "execute_result"
    }
   ],
   "source": [
    "train_dataset[0]['data'].shape"
   ]
  },
  {
   "cell_type": "code",
   "execution_count": 28,
   "id": "physical-musical",
   "metadata": {
    "execution": {
     "iopub.execute_input": "2021-06-17T15:16:15.537852Z",
     "iopub.status.busy": "2021-06-17T15:16:15.536979Z",
     "iopub.status.idle": "2021-06-17T15:16:15.540021Z",
     "shell.execute_reply": "2021-06-17T15:16:15.539540Z",
     "shell.execute_reply.started": "2021-06-17T15:12:46.673529Z"
    },
    "papermill": {
     "duration": 0.061138,
     "end_time": "2021-06-17T15:16:15.540128",
     "exception": false,
     "start_time": "2021-06-17T15:16:15.478990",
     "status": "completed"
    },
    "tags": []
   },
   "outputs": [],
   "source": [
    "class ResidualBlock(nn.Module):\n",
    "    def __init__(self, data_dim, next_data_dim, stride, layer_name, is_last_layer=False):\n",
    "        super(ResidualBlock, self).__init__()\n",
    "        self.is_last_layer = is_last_layer\n",
    "        \n",
    "        self.resblock_1 = nn.Sequential(OrderedDict([\n",
    "            ('{}_conv1'.format(layer_name), nn.Conv2d(data_dim, data_dim, kernel_size=3, stride=stride, padding=1, bias=False)),\n",
    "            ('{}_batchnorm1'.format(layer_name), nn.BatchNorm2d(data_dim)),\n",
    "            ('{}_relu1'.format(layer_name), nn.ReLU()),\n",
    "            \n",
    "            ('{}_conv2'.format(layer_name), nn.Conv2d(data_dim, data_dim, kernel_size=3, stride=1, padding=1, bias=False)),\n",
    "            ('{}_batchnorm2'.format(layer_name), nn.BatchNorm2d(data_dim)),\n",
    "            ('{}_relu2'.format(layer_name), nn.ReLU())\n",
    "        ]))\n",
    "        self.resblock_2 = nn.Sequential(OrderedDict([\n",
    "            ('{}_conv1'.format(layer_name), nn.Conv2d(data_dim, data_dim, kernel_size=3, stride=stride, padding=1, bias=False)),\n",
    "            ('{}_batchnorm1'.format(layer_name), nn.BatchNorm2d(data_dim)),\n",
    "            ('{}_relu1'.format(layer_name), nn.ReLU()),\n",
    "            \n",
    "            ('{}_conv2'.format(layer_name), nn.Conv2d(data_dim, data_dim, kernel_size=3, stride=2, padding=1, bias=False)),\n",
    "            ('{}_batchnorm2'.format(layer_name), nn.BatchNorm2d(data_dim)),\n",
    "            ('{}_relu2'.format(layer_name), nn.ReLU())\n",
    "        ]))\n",
    "        \n",
    "        self.set_shortcut = nn.Conv2d(data_dim, data_dim, kernel_size=3, stride=2, padding=1, bias=False)\n",
    "        self.set_next_shortcut = nn.Conv2d(data_dim, next_data_dim, kernel_size=3, stride=2, padding=1, bias=False)\n",
    "        \n",
    "    def forward(self, x, is_last_layer=False):\n",
    "        shortcut = x\n",
    "        out = self.resblock_1(x)\n",
    "        out = out + shortcut\n",
    "        \n",
    "        shortcut = self.set_shortcut(out)\n",
    "        out = self.resblock_2(out)\n",
    "        out = out + shortcut\n",
    "        \n",
    "        out = self.set_next_shortcut(out)\n",
    "\n",
    "        return out"
   ]
  },
  {
   "cell_type": "code",
   "execution_count": 29,
   "id": "cardiac-advocate",
   "metadata": {
    "execution": {
     "iopub.execute_input": "2021-06-17T15:16:15.641068Z",
     "iopub.status.busy": "2021-06-17T15:16:15.639918Z",
     "iopub.status.idle": "2021-06-17T15:16:15.643795Z",
     "shell.execute_reply": "2021-06-17T15:16:15.643287Z",
     "shell.execute_reply.started": "2021-06-17T15:12:59.182265Z"
    },
    "papermill": {
     "duration": 0.057581,
     "end_time": "2021-06-17T15:16:15.643915",
     "exception": false,
     "start_time": "2021-06-17T15:16:15.586334",
     "status": "completed"
    },
    "tags": []
   },
   "outputs": [],
   "source": [
    "class ResNet18(nn.Module):\n",
    "    def __init__(self, input_dim, output):\n",
    "        super(ResNet18, self).__init__()\n",
    "        self.FirstBlock = nn.Sequential(OrderedDict([\n",
    "            ('FirstBlock_conv1', nn.Conv2d(input_dim, 64, kernel_size=3, stride=1, padding=1, bias=False)),\n",
    "            ('FirstBlock_batchnorm1', nn.BatchNorm2d(64)),\n",
    "            ('FirstBlock_relu1', nn.ReLU()),\n",
    "            ('FirstBlock_maxpool2d1', nn.MaxPool2d(kernel_size=2, stride=2, padding=1)),\n",
    "        ]))\n",
    "        self.SecondBlock = ResidualBlock(64, 128, 1,'SecondBlock', is_last_layer=False)\n",
    "        self.ThridBlock = ResidualBlock(128, 256, 1,'ThridBlock', is_last_layer=True)\n",
    "        \n",
    "        self.AveragePool2d = nn.AdaptiveAvgPool2d((1,1))\n",
    "        \n",
    "        self.FC = nn.Sequential(OrderedDict([\n",
    "            ('FC_linear', nn.Linear(256, output)),\n",
    "            ('FC_softmax', nn.Softmax(dim=1))\n",
    "        ]))\n",
    "    \n",
    "    def forward(self, x):\n",
    "        out = self.FirstBlock(x)\n",
    "        out = self.SecondBlock(out)\n",
    "        out = self.ThridBlock(out)\n",
    "        out = self.AveragePool2d(out)\n",
    "        out = out.view(out.size(0), -1)\n",
    "        out = self.FC(out)\n",
    "        \n",
    "        return out"
   ]
  },
  {
   "cell_type": "code",
   "execution_count": 30,
   "id": "canadian-violin",
   "metadata": {
    "execution": {
     "iopub.execute_input": "2021-06-17T15:16:15.752750Z",
     "iopub.status.busy": "2021-06-17T15:16:15.752141Z",
     "iopub.status.idle": "2021-06-17T15:16:15.777684Z",
     "shell.execute_reply": "2021-06-17T15:16:15.778069Z",
     "shell.execute_reply.started": "2021-06-17T15:12:59.690558Z"
    },
    "papermill": {
     "duration": 0.085359,
     "end_time": "2021-06-17T15:16:15.778207",
     "exception": false,
     "start_time": "2021-06-17T15:16:15.692848",
     "status": "completed"
    },
    "tags": []
   },
   "outputs": [],
   "source": [
    "resnet_model = ResNet18(INPUT_DIM, OUTPUT)"
   ]
  },
  {
   "cell_type": "code",
   "execution_count": 31,
   "id": "cardiac-moore",
   "metadata": {
    "execution": {
     "iopub.execute_input": "2021-06-17T15:16:15.874120Z",
     "iopub.status.busy": "2021-06-17T15:16:15.873455Z",
     "iopub.status.idle": "2021-06-17T15:16:15.877133Z",
     "shell.execute_reply": "2021-06-17T15:16:15.877590Z",
     "shell.execute_reply.started": "2021-06-17T15:12:48.333153Z"
    },
    "papermill": {
     "duration": 0.054101,
     "end_time": "2021-06-17T15:16:15.877741",
     "exception": false,
     "start_time": "2021-06-17T15:16:15.823640",
     "status": "completed"
    },
    "tags": []
   },
   "outputs": [
    {
     "name": "stdout",
     "output_type": "stream",
     "text": [
      "ResNet18(\n",
      "  (FirstBlock): Sequential(\n",
      "    (FirstBlock_conv1): Conv2d(1, 64, kernel_size=(3, 3), stride=(1, 1), padding=(1, 1), bias=False)\n",
      "    (FirstBlock_batchnorm1): BatchNorm2d(64, eps=1e-05, momentum=0.1, affine=True, track_running_stats=True)\n",
      "    (FirstBlock_relu1): ReLU()\n",
      "    (FirstBlock_maxpool2d1): MaxPool2d(kernel_size=2, stride=2, padding=1, dilation=1, ceil_mode=False)\n",
      "  )\n",
      "  (SecondBlock): ResidualBlock(\n",
      "    (resblock_1): Sequential(\n",
      "      (SecondBlock_conv1): Conv2d(64, 64, kernel_size=(3, 3), stride=(1, 1), padding=(1, 1), bias=False)\n",
      "      (SecondBlock_batchnorm1): BatchNorm2d(64, eps=1e-05, momentum=0.1, affine=True, track_running_stats=True)\n",
      "      (SecondBlock_relu1): ReLU()\n",
      "      (SecondBlock_conv2): Conv2d(64, 64, kernel_size=(3, 3), stride=(1, 1), padding=(1, 1), bias=False)\n",
      "      (SecondBlock_batchnorm2): BatchNorm2d(64, eps=1e-05, momentum=0.1, affine=True, track_running_stats=True)\n",
      "      (SecondBlock_relu2): ReLU()\n",
      "    )\n",
      "    (resblock_2): Sequential(\n",
      "      (SecondBlock_conv1): Conv2d(64, 64, kernel_size=(3, 3), stride=(1, 1), padding=(1, 1), bias=False)\n",
      "      (SecondBlock_batchnorm1): BatchNorm2d(64, eps=1e-05, momentum=0.1, affine=True, track_running_stats=True)\n",
      "      (SecondBlock_relu1): ReLU()\n",
      "      (SecondBlock_conv2): Conv2d(64, 64, kernel_size=(3, 3), stride=(2, 2), padding=(1, 1), bias=False)\n",
      "      (SecondBlock_batchnorm2): BatchNorm2d(64, eps=1e-05, momentum=0.1, affine=True, track_running_stats=True)\n",
      "      (SecondBlock_relu2): ReLU()\n",
      "    )\n",
      "    (set_shortcut): Conv2d(64, 64, kernel_size=(3, 3), stride=(2, 2), padding=(1, 1), bias=False)\n",
      "    (set_next_shortcut): Conv2d(64, 128, kernel_size=(3, 3), stride=(2, 2), padding=(1, 1), bias=False)\n",
      "  )\n",
      "  (ThridBlock): ResidualBlock(\n",
      "    (resblock_1): Sequential(\n",
      "      (ThridBlock_conv1): Conv2d(128, 128, kernel_size=(3, 3), stride=(1, 1), padding=(1, 1), bias=False)\n",
      "      (ThridBlock_batchnorm1): BatchNorm2d(128, eps=1e-05, momentum=0.1, affine=True, track_running_stats=True)\n",
      "      (ThridBlock_relu1): ReLU()\n",
      "      (ThridBlock_conv2): Conv2d(128, 128, kernel_size=(3, 3), stride=(1, 1), padding=(1, 1), bias=False)\n",
      "      (ThridBlock_batchnorm2): BatchNorm2d(128, eps=1e-05, momentum=0.1, affine=True, track_running_stats=True)\n",
      "      (ThridBlock_relu2): ReLU()\n",
      "    )\n",
      "    (resblock_2): Sequential(\n",
      "      (ThridBlock_conv1): Conv2d(128, 128, kernel_size=(3, 3), stride=(1, 1), padding=(1, 1), bias=False)\n",
      "      (ThridBlock_batchnorm1): BatchNorm2d(128, eps=1e-05, momentum=0.1, affine=True, track_running_stats=True)\n",
      "      (ThridBlock_relu1): ReLU()\n",
      "      (ThridBlock_conv2): Conv2d(128, 128, kernel_size=(3, 3), stride=(2, 2), padding=(1, 1), bias=False)\n",
      "      (ThridBlock_batchnorm2): BatchNorm2d(128, eps=1e-05, momentum=0.1, affine=True, track_running_stats=True)\n",
      "      (ThridBlock_relu2): ReLU()\n",
      "    )\n",
      "    (set_shortcut): Conv2d(128, 128, kernel_size=(3, 3), stride=(2, 2), padding=(1, 1), bias=False)\n",
      "    (set_next_shortcut): Conv2d(128, 256, kernel_size=(3, 3), stride=(2, 2), padding=(1, 1), bias=False)\n",
      "  )\n",
      "  (AveragePool2d): AdaptiveAvgPool2d(output_size=(1, 1))\n",
      "  (FC): Sequential(\n",
      "    (FC_linear): Linear(in_features=256, out_features=10, bias=True)\n",
      "    (FC_softmax): Softmax(dim=1)\n",
      "  )\n",
      ")\n"
     ]
    }
   ],
   "source": [
    "print(resnet_model)"
   ]
  },
  {
   "cell_type": "code",
   "execution_count": 32,
   "id": "unlimited-gasoline",
   "metadata": {
    "execution": {
     "iopub.execute_input": "2021-06-17T15:16:15.974896Z",
     "iopub.status.busy": "2021-06-17T15:16:15.974209Z",
     "iopub.status.idle": "2021-06-17T15:16:15.977088Z",
     "shell.execute_reply": "2021-06-17T15:16:15.977519Z",
     "shell.execute_reply.started": "2021-06-17T15:05:41.371545Z"
    },
    "papermill": {
     "duration": 0.053493,
     "end_time": "2021-06-17T15:16:15.977648",
     "exception": false,
     "start_time": "2021-06-17T15:16:15.924155",
     "status": "completed"
    },
    "tags": []
   },
   "outputs": [
    {
     "name": "stdout",
     "output_type": "stream",
     "text": [
      "총 배치의 수 : 140\n"
     ]
    }
   ],
   "source": [
    "print(\"총 배치의 수 : {}\".format(len(train_loader)))"
   ]
  },
  {
   "cell_type": "markdown",
   "id": "overhead-glucose",
   "metadata": {
    "papermill": {
     "duration": 0.04599,
     "end_time": "2021-06-17T15:16:16.069544",
     "exception": false,
     "start_time": "2021-06-17T15:16:16.023554",
     "status": "completed"
    },
    "tags": []
   },
   "source": [
    "### 5-2) Training"
   ]
  },
  {
   "cell_type": "code",
   "execution_count": 33,
   "id": "fabulous-scheduling",
   "metadata": {
    "execution": {
     "iopub.execute_input": "2021-06-17T15:16:16.173660Z",
     "iopub.status.busy": "2021-06-17T15:16:16.172939Z",
     "iopub.status.idle": "2021-06-17T15:16:16.175724Z",
     "shell.execute_reply": "2021-06-17T15:16:16.175278Z",
     "shell.execute_reply.started": "2021-06-17T15:05:42.257685Z"
    },
    "papermill": {
     "duration": 0.060434,
     "end_time": "2021-06-17T15:16:16.175833",
     "exception": false,
     "start_time": "2021-06-17T15:16:16.115399",
     "status": "completed"
    },
    "tags": []
   },
   "outputs": [],
   "source": [
    "def train_model(model, dataloaders_dict, loss_fn, optimizer, num_epochs, filename):\n",
    "    model.to(device)\n",
    "\n",
    "    history ={'train_loss' : [],\n",
    "             'train_acc' : [],\n",
    "              'val_loss' : [],\n",
    "              'val_acc' : []\n",
    "             }\n",
    "    \n",
    "    for epoch in range(num_epochs):\n",
    "        for i, phase in enumerate(['train','val']):\n",
    "            if phase=='train':\n",
    "                model.train()\n",
    "            else:\n",
    "                model.eval()\n",
    "                \n",
    "            correct = 0\n",
    "            epoch_loss = 0\n",
    "            epoch_acc = 0 \n",
    "\n",
    "            for data in dataloaders_dict[phase]:\n",
    "                x_data = data['data'].to(device)\n",
    "                y_data = data['target'].to(device)\n",
    "\n",
    "                optimizer.zero_grad()\n",
    "\n",
    "                predict = model(x_data)\n",
    "                target = y_data\n",
    "                loss = loss_fn(predict, target)\n",
    "\n",
    "                if phase == 'train':\n",
    "                    loss.backward()\n",
    "                    optimizer.step()\n",
    "\n",
    "                epoch_loss += loss.item() * len(x_data)\n",
    "                correct += (target==predict.argmax(axis=1)).sum()\n",
    "                    \n",
    "            epoch_loss = epoch_loss / len(dataloaders_dict[phase].dataset)\n",
    "            epoch_acc = 100 * (correct / len(dataloaders_dict[phase].dataset))\n",
    "            print(\"{} : [{} / {}] Loss : {:.4f}  | Accuracy : {:.2f}%\".format(phase.upper(), epoch+1, num_epochs, epoch_loss, epoch_acc))\n",
    "            \n",
    "            history['{}_loss'.format(phase)].append(epoch_loss)\n",
    "            history['{}_acc'.format(phase)].append(epoch_acc)\n",
    "            \n",
    "        torch.save(model.state_dict(), filename)\n",
    "        print(\" \")\n",
    "    return history"
   ]
  },
  {
   "cell_type": "code",
   "execution_count": 34,
   "id": "balanced-productivity",
   "metadata": {
    "execution": {
     "iopub.execute_input": "2021-06-17T15:16:16.314619Z",
     "iopub.status.busy": "2021-06-17T15:16:16.313481Z",
     "iopub.status.idle": "2021-06-17T15:16:16.318059Z",
     "shell.execute_reply": "2021-06-17T15:16:16.318610Z",
     "shell.execute_reply.started": "2021-06-17T15:05:43.387531Z"
    },
    "papermill": {
     "duration": 0.096932,
     "end_time": "2021-06-17T15:16:16.318792",
     "exception": false,
     "start_time": "2021-06-17T15:16:16.221860",
     "status": "completed"
    },
    "tags": []
   },
   "outputs": [
    {
     "name": "stdout",
     "output_type": "stream",
     "text": [
      "True\n",
      "A device that proceeds with :  cuda:0\n"
     ]
    }
   ],
   "source": [
    "USE_CUDA = torch.cuda.is_available()\n",
    "print(USE_CUDA)\n",
    "device = torch.device('cuda:0' if USE_CUDA else 'cpu')\n",
    "print('A device that proceeds with : ',device)"
   ]
  },
  {
   "cell_type": "markdown",
   "id": "stuck-blair",
   "metadata": {
    "papermill": {
     "duration": 0.046123,
     "end_time": "2021-06-17T15:16:16.412504",
     "exception": false,
     "start_time": "2021-06-17T15:16:16.366381",
     "status": "completed"
    },
    "tags": []
   },
   "source": [
    "* CNN Model"
   ]
  },
  {
   "cell_type": "code",
   "execution_count": 35,
   "id": "relative-eleven",
   "metadata": {
    "execution": {
     "iopub.execute_input": "2021-06-17T15:16:16.515078Z",
     "iopub.status.busy": "2021-06-17T15:16:16.514183Z",
     "iopub.status.idle": "2021-06-17T15:16:16.516907Z",
     "shell.execute_reply": "2021-06-17T15:16:16.516506Z",
     "shell.execute_reply.started": "2021-06-17T15:09:13.475391Z"
    },
    "papermill": {
     "duration": 0.057004,
     "end_time": "2021-06-17T15:16:16.517019",
     "exception": false,
     "start_time": "2021-06-17T15:16:16.460015",
     "status": "completed"
    },
    "tags": []
   },
   "outputs": [],
   "source": [
    "loss_fn = nn.CrossEntropyLoss()\n",
    "optimizer = optim.Adam(cnn_model.parameters(), lr=0.01)"
   ]
  },
  {
   "cell_type": "code",
   "execution_count": 36,
   "id": "logical-warner",
   "metadata": {
    "execution": {
     "iopub.execute_input": "2021-06-17T15:16:16.618348Z",
     "iopub.status.busy": "2021-06-17T15:16:16.617549Z",
     "iopub.status.idle": "2021-06-17T15:17:17.301757Z",
     "shell.execute_reply": "2021-06-17T15:17:17.302318Z",
     "shell.execute_reply.started": "2021-06-17T15:09:13.665469Z"
    },
    "papermill": {
     "duration": 60.739183,
     "end_time": "2021-06-17T15:17:17.302533",
     "exception": false,
     "start_time": "2021-06-17T15:16:16.563350",
     "status": "completed"
    },
    "tags": []
   },
   "outputs": [
    {
     "name": "stderr",
     "output_type": "stream",
     "text": [
      "/opt/conda/lib/python3.7/site-packages/torch/nn/modules/container.py:117: UserWarning: Implicit dimension choice for softmax has been deprecated. Change the call to include dim=X as an argument.\n",
      "  input = module(input)\n"
     ]
    },
    {
     "name": "stdout",
     "output_type": "stream",
     "text": [
      "TRAIN : [1 / 50] Loss : 1.6460  | Accuracy : 81.73%\n",
      "VAL : [1 / 50] Loss : 1.5010  | Accuracy : 96.16%\n",
      " \n",
      "TRAIN : [2 / 50] Loss : 1.4948  | Accuracy : 96.75%\n",
      "VAL : [2 / 50] Loss : 1.4873  | Accuracy : 97.43%\n",
      " \n",
      "TRAIN : [3 / 50] Loss : 1.4847  | Accuracy : 97.69%\n",
      "VAL : [3 / 50] Loss : 1.4894  | Accuracy : 97.24%\n",
      " \n",
      "TRAIN : [4 / 50] Loss : 1.4828  | Accuracy : 97.85%\n",
      "VAL : [4 / 50] Loss : 1.4820  | Accuracy : 97.97%\n",
      " \n",
      "TRAIN : [5 / 50] Loss : 1.4812  | Accuracy : 98.00%\n",
      "VAL : [5 / 50] Loss : 1.4831  | Accuracy : 97.79%\n",
      " \n",
      "TRAIN : [6 / 50] Loss : 1.4793  | Accuracy : 98.18%\n",
      "VAL : [6 / 50] Loss : 1.4871  | Accuracy : 97.41%\n",
      " \n",
      "TRAIN : [7 / 50] Loss : 1.4791  | Accuracy : 98.18%\n",
      "VAL : [7 / 50] Loss : 1.4968  | Accuracy : 96.40%\n",
      " \n",
      "TRAIN : [8 / 50] Loss : 1.4797  | Accuracy : 98.13%\n",
      "VAL : [8 / 50] Loss : 1.4814  | Accuracy : 97.98%\n",
      " \n",
      "TRAIN : [9 / 50] Loss : 1.4776  | Accuracy : 98.36%\n",
      "VAL : [9 / 50] Loss : 1.4786  | Accuracy : 98.25%\n",
      " \n",
      "TRAIN : [10 / 50] Loss : 1.4759  | Accuracy : 98.53%\n",
      "VAL : [10 / 50] Loss : 1.4842  | Accuracy : 97.71%\n",
      " \n",
      "TRAIN : [11 / 50] Loss : 1.4752  | Accuracy : 98.59%\n",
      "VAL : [11 / 50] Loss : 1.4821  | Accuracy : 97.87%\n",
      " \n",
      "TRAIN : [12 / 50] Loss : 1.4758  | Accuracy : 98.54%\n",
      "VAL : [12 / 50] Loss : 1.4801  | Accuracy : 98.11%\n",
      " \n",
      "TRAIN : [13 / 50] Loss : 1.4754  | Accuracy : 98.58%\n",
      "VAL : [13 / 50] Loss : 1.4808  | Accuracy : 98.06%\n",
      " \n",
      "TRAIN : [14 / 50] Loss : 1.4774  | Accuracy : 98.38%\n",
      "VAL : [14 / 50] Loss : 1.4865  | Accuracy : 97.46%\n",
      " \n",
      "TRAIN : [15 / 50] Loss : 1.4780  | Accuracy : 98.31%\n",
      "VAL : [15 / 50] Loss : 1.4821  | Accuracy : 97.87%\n",
      " \n",
      "TRAIN : [16 / 50] Loss : 1.4745  | Accuracy : 98.67%\n",
      "VAL : [16 / 50] Loss : 1.4830  | Accuracy : 97.84%\n",
      " \n",
      "TRAIN : [17 / 50] Loss : 1.4793  | Accuracy : 98.18%\n",
      "VAL : [17 / 50] Loss : 1.4895  | Accuracy : 97.16%\n",
      " \n",
      "TRAIN : [18 / 50] Loss : 1.4767  | Accuracy : 98.45%\n",
      "VAL : [18 / 50] Loss : 1.4807  | Accuracy : 98.03%\n",
      " \n",
      "TRAIN : [19 / 50] Loss : 1.4753  | Accuracy : 98.59%\n",
      "VAL : [19 / 50] Loss : 1.4804  | Accuracy : 98.02%\n",
      " \n",
      "TRAIN : [20 / 50] Loss : 1.4771  | Accuracy : 98.42%\n",
      "VAL : [20 / 50] Loss : 1.4861  | Accuracy : 97.46%\n",
      " \n",
      "TRAIN : [21 / 50] Loss : 1.4814  | Accuracy : 97.97%\n",
      "VAL : [21 / 50] Loss : 1.4824  | Accuracy : 97.84%\n",
      " \n",
      "TRAIN : [22 / 50] Loss : 1.4777  | Accuracy : 98.34%\n",
      "VAL : [22 / 50] Loss : 1.4830  | Accuracy : 97.83%\n",
      " \n",
      "TRAIN : [23 / 50] Loss : 1.4798  | Accuracy : 98.13%\n",
      "VAL : [23 / 50] Loss : 1.4829  | Accuracy : 97.81%\n",
      " \n",
      "TRAIN : [24 / 50] Loss : 1.4774  | Accuracy : 98.38%\n",
      "VAL : [24 / 50] Loss : 1.4834  | Accuracy : 97.78%\n",
      " \n",
      "TRAIN : [25 / 50] Loss : 1.4776  | Accuracy : 98.36%\n",
      "VAL : [25 / 50] Loss : 1.4819  | Accuracy : 97.90%\n",
      " \n",
      "TRAIN : [26 / 50] Loss : 1.4779  | Accuracy : 98.33%\n",
      "VAL : [26 / 50] Loss : 1.4835  | Accuracy : 97.76%\n",
      " \n",
      "TRAIN : [27 / 50] Loss : 1.4806  | Accuracy : 98.05%\n",
      "VAL : [27 / 50] Loss : 1.4841  | Accuracy : 97.67%\n",
      " \n",
      "TRAIN : [28 / 50] Loss : 1.4809  | Accuracy : 98.02%\n",
      "VAL : [28 / 50] Loss : 1.4811  | Accuracy : 98.00%\n",
      " \n",
      "TRAIN : [29 / 50] Loss : 1.4761  | Accuracy : 98.50%\n",
      "VAL : [29 / 50] Loss : 1.4850  | Accuracy : 97.60%\n",
      " \n",
      "TRAIN : [30 / 50] Loss : 1.4812  | Accuracy : 98.00%\n",
      "VAL : [30 / 50] Loss : 1.4858  | Accuracy : 97.52%\n",
      " \n",
      "TRAIN : [31 / 50] Loss : 1.4774  | Accuracy : 98.38%\n",
      "VAL : [31 / 50] Loss : 1.4842  | Accuracy : 97.68%\n",
      " \n",
      "TRAIN : [32 / 50] Loss : 1.4772  | Accuracy : 98.39%\n",
      "VAL : [32 / 50] Loss : 1.4859  | Accuracy : 97.52%\n",
      " \n",
      "TRAIN : [33 / 50] Loss : 1.4783  | Accuracy : 98.29%\n",
      "VAL : [33 / 50] Loss : 1.4832  | Accuracy : 97.79%\n",
      " \n",
      "TRAIN : [34 / 50] Loss : 1.4819  | Accuracy : 97.93%\n",
      "VAL : [34 / 50] Loss : 1.4808  | Accuracy : 98.03%\n",
      " \n",
      "TRAIN : [35 / 50] Loss : 1.4747  | Accuracy : 98.64%\n",
      "VAL : [35 / 50] Loss : 1.4795  | Accuracy : 98.14%\n",
      " \n",
      "TRAIN : [36 / 50] Loss : 1.4767  | Accuracy : 98.43%\n",
      "VAL : [36 / 50] Loss : 1.4817  | Accuracy : 97.94%\n",
      " \n",
      "TRAIN : [37 / 50] Loss : 1.4781  | Accuracy : 98.29%\n",
      "VAL : [37 / 50] Loss : 1.4841  | Accuracy : 97.68%\n",
      " \n",
      "TRAIN : [38 / 50] Loss : 1.4778  | Accuracy : 98.33%\n",
      "VAL : [38 / 50] Loss : 1.4798  | Accuracy : 98.14%\n",
      " \n",
      "TRAIN : [39 / 50] Loss : 1.4762  | Accuracy : 98.49%\n",
      "VAL : [39 / 50] Loss : 1.4817  | Accuracy : 97.95%\n",
      " \n",
      "TRAIN : [40 / 50] Loss : 1.4766  | Accuracy : 98.45%\n",
      "VAL : [40 / 50] Loss : 1.4841  | Accuracy : 97.70%\n",
      " \n",
      "TRAIN : [41 / 50] Loss : 1.4800  | Accuracy : 98.11%\n",
      "VAL : [41 / 50] Loss : 1.4795  | Accuracy : 98.16%\n",
      " \n",
      "TRAIN : [42 / 50] Loss : 1.4793  | Accuracy : 98.17%\n",
      "VAL : [42 / 50] Loss : 1.4877  | Accuracy : 97.35%\n",
      " \n",
      "TRAIN : [43 / 50] Loss : 1.4775  | Accuracy : 98.37%\n",
      "VAL : [43 / 50] Loss : 1.4817  | Accuracy : 97.95%\n",
      " \n",
      "TRAIN : [44 / 50] Loss : 1.4765  | Accuracy : 98.46%\n",
      "VAL : [44 / 50] Loss : 1.4812  | Accuracy : 97.98%\n",
      " \n",
      "TRAIN : [45 / 50] Loss : 1.4744  | Accuracy : 98.68%\n",
      "VAL : [45 / 50] Loss : 1.4839  | Accuracy : 97.71%\n",
      " \n",
      "TRAIN : [46 / 50] Loss : 1.4763  | Accuracy : 98.48%\n",
      "VAL : [46 / 50] Loss : 1.4807  | Accuracy : 98.03%\n",
      " \n",
      "TRAIN : [47 / 50] Loss : 1.4776  | Accuracy : 98.36%\n",
      "VAL : [47 / 50] Loss : 1.4839  | Accuracy : 97.73%\n",
      " \n",
      "TRAIN : [48 / 50] Loss : 1.4851  | Accuracy : 97.61%\n",
      "VAL : [48 / 50] Loss : 1.4901  | Accuracy : 97.11%\n",
      " \n",
      "TRAIN : [49 / 50] Loss : 1.4831  | Accuracy : 97.81%\n",
      "VAL : [49 / 50] Loss : 1.4838  | Accuracy : 97.73%\n",
      " \n",
      "TRAIN : [50 / 50] Loss : 1.4804  | Accuracy : 98.08%\n",
      "VAL : [50 / 50] Loss : 1.4826  | Accuracy : 97.86%\n",
      " \n"
     ]
    }
   ],
   "source": [
    "NUM_EPOCHS = 50\n",
    "SAVE_MODEL_PATH = f'cnn.pth'\n",
    "\n",
    "history = train_model(\n",
    "    cnn_model,\n",
    "    dataloaders_dict,\n",
    "    loss_fn, \n",
    "    optimizer,\n",
    "    NUM_EPOCHS,\n",
    "    SAVE_MODEL_PATH\n",
    "    )"
   ]
  },
  {
   "cell_type": "code",
   "execution_count": 37,
   "id": "dominican-creek",
   "metadata": {
    "execution": {
     "iopub.execute_input": "2021-06-17T15:17:17.460505Z",
     "iopub.status.busy": "2021-06-17T15:17:17.459499Z",
     "iopub.status.idle": "2021-06-17T15:17:17.725977Z",
     "shell.execute_reply": "2021-06-17T15:17:17.725554Z"
    },
    "papermill": {
     "duration": 0.362758,
     "end_time": "2021-06-17T15:17:17.726101",
     "exception": false,
     "start_time": "2021-06-17T15:17:17.363343",
     "status": "completed"
    },
    "tags": []
   },
   "outputs": [
    {
     "data": {
      "image/png": "[encoded data removed]",
      "text/plain": [
       "<Figure size 1296x576 with 2 Axes>"
      ]
     },
     "metadata": {
      "needs_background": "light"
     },
     "output_type": "display_data"
    }
   ],
   "source": [
    "fig, axes = plt.subplots(1,2, figsize=(18,8))\n",
    "axes[0].plot(history['train_loss'],label='train_loss')\n",
    "axes[0].plot(history['val_loss'], label='val_loss')\n",
    "axes[0].set_xticks(np.arange(0,NUM_EPOCHS,5))\n",
    "axes[0].legend()\n",
    "\n",
    "\n",
    "axes[1].plot(history['train_acc'], label='train_acc')\n",
    "axes[1].plot(history['val_acc'], label='val_acc')\n",
    "axes[1].set_xticks(np.arange(0,NUM_EPOCHS,5))\n",
    "axes[1].legend()\n",
    "\n",
    "plt.show()"
   ]
  },
  {
   "cell_type": "markdown",
   "id": "solid-dating",
   "metadata": {
    "papermill": {
     "duration": 0.060824,
     "end_time": "2021-06-17T15:17:17.848680",
     "exception": false,
     "start_time": "2021-06-17T15:17:17.787856",
     "status": "completed"
    },
    "tags": []
   },
   "source": [
    "* ResNet 18 Model"
   ]
  },
  {
   "cell_type": "code",
   "execution_count": 38,
   "id": "departmental-proposition",
   "metadata": {
    "execution": {
     "iopub.execute_input": "2021-06-17T15:17:18.129641Z",
     "iopub.status.busy": "2021-06-17T15:17:18.127958Z",
     "iopub.status.idle": "2021-06-17T15:17:18.130306Z",
     "shell.execute_reply": "2021-06-17T15:17:18.130707Z"
    },
    "papermill": {
     "duration": 0.220955,
     "end_time": "2021-06-17T15:17:18.130860",
     "exception": false,
     "start_time": "2021-06-17T15:17:17.909905",
     "status": "completed"
    },
    "tags": []
   },
   "outputs": [],
   "source": [
    "# Clear cache\n",
    "import gc\n",
    "gc.collect()\n",
    "\n",
    "torch.cuda.empty_cache()"
   ]
  },
  {
   "cell_type": "code",
   "execution_count": 39,
   "id": "alpha-genesis",
   "metadata": {
    "execution": {
     "iopub.execute_input": "2021-06-17T15:17:18.260149Z",
     "iopub.status.busy": "2021-06-17T15:17:18.259548Z",
     "iopub.status.idle": "2021-06-17T15:17:18.262651Z",
     "shell.execute_reply": "2021-06-17T15:17:18.262217Z",
     "shell.execute_reply.started": "2021-06-17T15:13:07.107678Z"
    },
    "papermill": {
     "duration": 0.069634,
     "end_time": "2021-06-17T15:17:18.262772",
     "exception": false,
     "start_time": "2021-06-17T15:17:18.193138",
     "status": "completed"
    },
    "tags": []
   },
   "outputs": [],
   "source": [
    "loss_fn = nn.CrossEntropyLoss()\n",
    "optimizer = optim.Adam(resnet_model.parameters(), lr=0.01)"
   ]
  },
  {
   "cell_type": "code",
   "execution_count": 40,
   "id": "steady-nursing",
   "metadata": {
    "execution": {
     "iopub.execute_input": "2021-06-17T15:17:18.390709Z",
     "iopub.status.busy": "2021-06-17T15:17:18.390020Z",
     "iopub.status.idle": "2021-06-17T15:17:32.905992Z",
     "shell.execute_reply": "2021-06-17T15:17:32.904989Z",
     "shell.execute_reply.started": "2021-06-17T15:13:07.593603Z"
    },
    "papermill": {
     "duration": 14.58101,
     "end_time": "2021-06-17T15:17:32.906127",
     "exception": false,
     "start_time": "2021-06-17T15:17:18.325117",
     "status": "completed"
    },
    "tags": []
   },
   "outputs": [
    {
     "name": "stdout",
     "output_type": "stream",
     "text": [
      "TRAIN : [1 / 3] Loss : 2.3688  | Accuracy : 9.16%\n",
      "VAL : [1 / 3] Loss : 2.3659  | Accuracy : 9.52%\n",
      " \n",
      "TRAIN : [2 / 3] Loss : 2.3717  | Accuracy : 8.95%\n",
      "VAL : [2 / 3] Loss : 2.3659  | Accuracy : 9.52%\n",
      " \n",
      "TRAIN : [3 / 3] Loss : 2.3717  | Accuracy : 8.95%\n",
      "VAL : [3 / 3] Loss : 2.3659  | Accuracy : 9.52%\n",
      " \n"
     ]
    }
   ],
   "source": [
    "NUM_EPOCHS = 3\n",
    "SAVE_MODEL_PATH = f'resnet.pth'\n",
    "\n",
    "history = train_model(\n",
    "    resnet_model,\n",
    "    dataloaders_dict,\n",
    "    loss_fn, \n",
    "    optimizer,\n",
    "    NUM_EPOCHS,\n",
    "    SAVE_MODEL_PATH\n",
    "    )"
   ]
  },
  {
   "cell_type": "code",
   "execution_count": 41,
   "id": "spoken-kidney",
   "metadata": {
    "execution": {
     "iopub.execute_input": "2021-06-17T15:17:33.049382Z",
     "iopub.status.busy": "2021-06-17T15:17:33.048498Z",
     "iopub.status.idle": "2021-06-17T15:17:33.265812Z",
     "shell.execute_reply": "2021-06-17T15:17:33.266223Z"
    },
    "papermill": {
     "duration": 0.29519,
     "end_time": "2021-06-17T15:17:33.266380",
     "exception": false,
     "start_time": "2021-06-17T15:17:32.971190",
     "status": "completed"
    },
    "tags": []
   },
   "outputs": [
    {
     "data": {
      "image/png": "[encoded data removed]",
      "text/plain": [
       "<Figure size 1296x576 with 2 Axes>"
      ]
     },
     "metadata": {
      "needs_background": "light"
     },
     "output_type": "display_data"
    }
   ],
   "source": [
    "fig, axes = plt.subplots(1,2, figsize=(18,8))\n",
    "axes[0].plot(history['train_loss'],label='train_loss')\n",
    "axes[0].plot(history['val_loss'], label='val_loss')\n",
    "axes[0].set_xticks(np.arange(0,NUM_EPOCHS,5))\n",
    "axes[0].legend()\n",
    "\n",
    "\n",
    "axes[1].plot(history['train_acc'], label='train_acc')\n",
    "axes[1].plot(history['val_acc'], label='val_acc')\n",
    "axes[1].set_xticks(np.arange(0,NUM_EPOCHS,5))\n",
    "axes[1].legend()\n",
    "\n",
    "plt.show()"
   ]
  },
  {
   "cell_type": "markdown",
   "id": "narrow-workplace",
   "metadata": {
    "papermill": {
     "duration": 0.06493,
     "end_time": "2021-06-17T15:17:33.395760",
     "exception": false,
     "start_time": "2021-06-17T15:17:33.330830",
     "status": "completed"
    },
    "tags": []
   },
   "source": [
    "### 5-3) Evaluating"
   ]
  },
  {
   "cell_type": "code",
   "execution_count": 42,
   "id": "premier-plymouth",
   "metadata": {
    "execution": {
     "iopub.execute_input": "2021-06-17T15:17:33.532709Z",
     "iopub.status.busy": "2021-06-17T15:17:33.532072Z",
     "iopub.status.idle": "2021-06-17T15:17:33.535935Z",
     "shell.execute_reply": "2021-06-17T15:17:33.535515Z"
    },
    "papermill": {
     "duration": 0.075136,
     "end_time": "2021-06-17T15:17:33.536053",
     "exception": false,
     "start_time": "2021-06-17T15:17:33.460917",
     "status": "completed"
    },
    "tags": []
   },
   "outputs": [],
   "source": [
    "def evalueate_model(model, test_loader):\n",
    "    predictions = []\n",
    "\n",
    "    #model = BasicCNN()\n",
    "    #model.to(device)\n",
    "    #model.load_state_dict(torch.load(f'cnn.pth'))\n",
    "    \n",
    "    model.eval()\n",
    "\n",
    "    for data in test_loader:\n",
    "        x_data = data['data'].to(device)\n",
    "        \n",
    "        with torch.no_grad():\n",
    "            predicts = model(x_data)\n",
    "            predicts = predicts.argmax(axis=1)\n",
    "            predicts = predicts.cpu().numpy()\n",
    "            \n",
    "            # Put the batch size data into the list one by one.\n",
    "            for pred in predicts:\n",
    "                predictions.append(pred)\n",
    "        \n",
    "    return(predictions)"
   ]
  },
  {
   "cell_type": "code",
   "execution_count": 43,
   "id": "beneficial-schedule",
   "metadata": {
    "execution": {
     "iopub.execute_input": "2021-06-17T15:17:33.686171Z",
     "iopub.status.busy": "2021-06-17T15:17:33.685563Z",
     "iopub.status.idle": "2021-06-17T15:17:33.688959Z",
     "shell.execute_reply": "2021-06-17T15:17:33.689364Z"
    },
    "papermill": {
     "duration": 0.086383,
     "end_time": "2021-06-17T15:17:33.689511",
     "exception": false,
     "start_time": "2021-06-17T15:17:33.603128",
     "status": "completed"
    },
    "tags": []
   },
   "outputs": [
    {
     "data": {
      "text/html": [
       "<div>\n",
       "<style scoped>\n",
       "    .dataframe tbody tr th:only-of-type {\n",
       "        vertical-align: middle;\n",
       "    }\n",
       "\n",
       "    .dataframe tbody tr th {\n",
       "        vertical-align: top;\n",
       "    }\n",
       "\n",
       "    .dataframe thead th {\n",
       "        text-align: right;\n",
       "    }\n",
       "</style>\n",
       "<table border=\"1\" class=\"dataframe\">\n",
       "  <thead>\n",
       "    <tr style=\"text-align: right;\">\n",
       "      <th></th>\n",
       "      <th>pixel0</th>\n",
       "      <th>pixel1</th>\n",
       "      <th>pixel2</th>\n",
       "      <th>pixel3</th>\n",
       "      <th>pixel4</th>\n",
       "      <th>pixel5</th>\n",
       "      <th>pixel6</th>\n",
       "      <th>pixel7</th>\n",
       "      <th>pixel8</th>\n",
       "      <th>pixel9</th>\n",
       "      <th>...</th>\n",
       "      <th>pixel774</th>\n",
       "      <th>pixel775</th>\n",
       "      <th>pixel776</th>\n",
       "      <th>pixel777</th>\n",
       "      <th>pixel778</th>\n",
       "      <th>pixel779</th>\n",
       "      <th>pixel780</th>\n",
       "      <th>pixel781</th>\n",
       "      <th>pixel782</th>\n",
       "      <th>pixel783</th>\n",
       "    </tr>\n",
       "  </thead>\n",
       "  <tbody>\n",
       "    <tr>\n",
       "      <th>0</th>\n",
       "      <td>0</td>\n",
       "      <td>0</td>\n",
       "      <td>0</td>\n",
       "      <td>0</td>\n",
       "      <td>0</td>\n",
       "      <td>0</td>\n",
       "      <td>0</td>\n",
       "      <td>0</td>\n",
       "      <td>0</td>\n",
       "      <td>0</td>\n",
       "      <td>...</td>\n",
       "      <td>0</td>\n",
       "      <td>0</td>\n",
       "      <td>0</td>\n",
       "      <td>0</td>\n",
       "      <td>0</td>\n",
       "      <td>0</td>\n",
       "      <td>0</td>\n",
       "      <td>0</td>\n",
       "      <td>0</td>\n",
       "      <td>0</td>\n",
       "    </tr>\n",
       "    <tr>\n",
       "      <th>1</th>\n",
       "      <td>0</td>\n",
       "      <td>0</td>\n",
       "      <td>0</td>\n",
       "      <td>0</td>\n",
       "      <td>0</td>\n",
       "      <td>0</td>\n",
       "      <td>0</td>\n",
       "      <td>0</td>\n",
       "      <td>0</td>\n",
       "      <td>0</td>\n",
       "      <td>...</td>\n",
       "      <td>0</td>\n",
       "      <td>0</td>\n",
       "      <td>0</td>\n",
       "      <td>0</td>\n",
       "      <td>0</td>\n",
       "      <td>0</td>\n",
       "      <td>0</td>\n",
       "      <td>0</td>\n",
       "      <td>0</td>\n",
       "      <td>0</td>\n",
       "    </tr>\n",
       "    <tr>\n",
       "      <th>2</th>\n",
       "      <td>0</td>\n",
       "      <td>0</td>\n",
       "      <td>0</td>\n",
       "      <td>0</td>\n",
       "      <td>0</td>\n",
       "      <td>0</td>\n",
       "      <td>0</td>\n",
       "      <td>0</td>\n",
       "      <td>0</td>\n",
       "      <td>0</td>\n",
       "      <td>...</td>\n",
       "      <td>0</td>\n",
       "      <td>0</td>\n",
       "      <td>0</td>\n",
       "      <td>0</td>\n",
       "      <td>0</td>\n",
       "      <td>0</td>\n",
       "      <td>0</td>\n",
       "      <td>0</td>\n",
       "      <td>0</td>\n",
       "      <td>0</td>\n",
       "    </tr>\n",
       "    <tr>\n",
       "      <th>3</th>\n",
       "      <td>0</td>\n",
       "      <td>0</td>\n",
       "      <td>0</td>\n",
       "      <td>0</td>\n",
       "      <td>0</td>\n",
       "      <td>0</td>\n",
       "      <td>0</td>\n",
       "      <td>0</td>\n",
       "      <td>0</td>\n",
       "      <td>0</td>\n",
       "      <td>...</td>\n",
       "      <td>0</td>\n",
       "      <td>0</td>\n",
       "      <td>0</td>\n",
       "      <td>0</td>\n",
       "      <td>0</td>\n",
       "      <td>0</td>\n",
       "      <td>0</td>\n",
       "      <td>0</td>\n",
       "      <td>0</td>\n",
       "      <td>0</td>\n",
       "    </tr>\n",
       "    <tr>\n",
       "      <th>4</th>\n",
       "      <td>0</td>\n",
       "      <td>0</td>\n",
       "      <td>0</td>\n",
       "      <td>0</td>\n",
       "      <td>0</td>\n",
       "      <td>0</td>\n",
       "      <td>0</td>\n",
       "      <td>0</td>\n",
       "      <td>0</td>\n",
       "      <td>0</td>\n",
       "      <td>...</td>\n",
       "      <td>0</td>\n",
       "      <td>0</td>\n",
       "      <td>0</td>\n",
       "      <td>0</td>\n",
       "      <td>0</td>\n",
       "      <td>0</td>\n",
       "      <td>0</td>\n",
       "      <td>0</td>\n",
       "      <td>0</td>\n",
       "      <td>0</td>\n",
       "    </tr>\n",
       "  </tbody>\n",
       "</table>\n",
       "<p>5 rows × 784 columns</p>\n",
       "</div>"
      ],
      "text/plain": [
       "   pixel0  pixel1  pixel2  pixel3  pixel4  pixel5  pixel6  pixel7  pixel8  \\\n",
       "0       0       0       0       0       0       0       0       0       0   \n",
       "1       0       0       0       0       0       0       0       0       0   \n",
       "2       0       0       0       0       0       0       0       0       0   \n",
       "3       0       0       0       0       0       0       0       0       0   \n",
       "4       0       0       0       0       0       0       0       0       0   \n",
       "\n",
       "   pixel9  ...  pixel774  pixel775  pixel776  pixel777  pixel778  pixel779  \\\n",
       "0       0  ...         0         0         0         0         0         0   \n",
       "1       0  ...         0         0         0         0         0         0   \n",
       "2       0  ...         0         0         0         0         0         0   \n",
       "3       0  ...         0         0         0         0         0         0   \n",
       "4       0  ...         0         0         0         0         0         0   \n",
       "\n",
       "   pixel780  pixel781  pixel782  pixel783  \n",
       "0         0         0         0         0  \n",
       "1         0         0         0         0  \n",
       "2         0         0         0         0  \n",
       "3         0         0         0         0  \n",
       "4         0         0         0         0  \n",
       "\n",
       "[5 rows x 784 columns]"
      ]
     },
     "execution_count": 43,
     "metadata": {},
     "output_type": "execute_result"
    }
   ],
   "source": [
    "test_df.head()"
   ]
  },
  {
   "cell_type": "code",
   "execution_count": 44,
   "id": "acknowledged-essex",
   "metadata": {
    "execution": {
     "iopub.execute_input": "2021-06-17T15:17:33.827733Z",
     "iopub.status.busy": "2021-06-17T15:17:33.826784Z",
     "iopub.status.idle": "2021-06-17T15:17:33.875527Z",
     "shell.execute_reply": "2021-06-17T15:17:33.875054Z"
    },
    "papermill": {
     "duration": 0.119157,
     "end_time": "2021-06-17T15:17:33.875661",
     "exception": false,
     "start_time": "2021-06-17T15:17:33.756504",
     "status": "completed"
    },
    "tags": []
   },
   "outputs": [],
   "source": [
    "test_dataset = BasicDataset(test_df.values, y_data=None, is_labeled=False)\n",
    "test_loader = DataLoader(test_dataset, batch_size=32, shuffle = False)"
   ]
  },
  {
   "cell_type": "code",
   "execution_count": 45,
   "id": "everyday-emerald",
   "metadata": {
    "execution": {
     "iopub.execute_input": "2021-06-17T15:17:34.013359Z",
     "iopub.status.busy": "2021-06-17T15:17:34.012840Z",
     "iopub.status.idle": "2021-06-17T15:17:35.215618Z",
     "shell.execute_reply": "2021-06-17T15:17:35.215154Z"
    },
    "papermill": {
     "duration": 1.272741,
     "end_time": "2021-06-17T15:17:35.215748",
     "exception": false,
     "start_time": "2021-06-17T15:17:33.943007",
     "status": "completed"
    },
    "tags": []
   },
   "outputs": [
    {
     "name": "stderr",
     "output_type": "stream",
     "text": [
      "/opt/conda/lib/python3.7/site-packages/torch/nn/modules/container.py:117: UserWarning: Implicit dimension choice for softmax has been deprecated. Change the call to include dim=X as an argument.\n",
      "  input = module(input)\n"
     ]
    }
   ],
   "source": [
    "pred = evalueate_model(cnn_model, test_loader)"
   ]
  },
  {
   "cell_type": "markdown",
   "id": "sustained-fault",
   "metadata": {
    "papermill": {
     "duration": 0.065721,
     "end_time": "2021-06-17T15:17:35.348562",
     "exception": false,
     "start_time": "2021-06-17T15:17:35.282841",
     "status": "completed"
    },
    "tags": []
   },
   "source": [
    "# 6. Submission\n",
    "* Submit the predictions."
   ]
  },
  {
   "cell_type": "code",
   "execution_count": 46,
   "id": "therapeutic-processor",
   "metadata": {
    "execution": {
     "iopub.execute_input": "2021-06-17T15:17:35.488226Z",
     "iopub.status.busy": "2021-06-17T15:17:35.487705Z",
     "iopub.status.idle": "2021-06-17T15:17:35.521605Z",
     "shell.execute_reply": "2021-06-17T15:17:35.522001Z"
    },
    "papermill": {
     "duration": 0.107418,
     "end_time": "2021-06-17T15:17:35.522140",
     "exception": false,
     "start_time": "2021-06-17T15:17:35.414722",
     "status": "completed"
    },
    "tags": []
   },
   "outputs": [
    {
     "data": {
      "text/html": [
       "<div>\n",
       "<style scoped>\n",
       "    .dataframe tbody tr th:only-of-type {\n",
       "        vertical-align: middle;\n",
       "    }\n",
       "\n",
       "    .dataframe tbody tr th {\n",
       "        vertical-align: top;\n",
       "    }\n",
       "\n",
       "    .dataframe thead th {\n",
       "        text-align: right;\n",
       "    }\n",
       "</style>\n",
       "<table border=\"1\" class=\"dataframe\">\n",
       "  <thead>\n",
       "    <tr style=\"text-align: right;\">\n",
       "      <th></th>\n",
       "      <th>ImageId</th>\n",
       "      <th>Label</th>\n",
       "    </tr>\n",
       "  </thead>\n",
       "  <tbody>\n",
       "    <tr>\n",
       "      <th>0</th>\n",
       "      <td>1</td>\n",
       "      <td>2</td>\n",
       "    </tr>\n",
       "    <tr>\n",
       "      <th>1</th>\n",
       "      <td>2</td>\n",
       "      <td>0</td>\n",
       "    </tr>\n",
       "    <tr>\n",
       "      <th>2</th>\n",
       "      <td>3</td>\n",
       "      <td>9</td>\n",
       "    </tr>\n",
       "    <tr>\n",
       "      <th>3</th>\n",
       "      <td>4</td>\n",
       "      <td>9</td>\n",
       "    </tr>\n",
       "    <tr>\n",
       "      <th>4</th>\n",
       "      <td>5</td>\n",
       "      <td>3</td>\n",
       "    </tr>\n",
       "  </tbody>\n",
       "</table>\n",
       "</div>"
      ],
      "text/plain": [
       "   ImageId  Label\n",
       "0        1      2\n",
       "1        2      0\n",
       "2        3      9\n",
       "3        4      9\n",
       "4        5      3"
      ]
     },
     "execution_count": 46,
     "metadata": {},
     "output_type": "execute_result"
    }
   ],
   "source": [
    "submission = pd.read_csv('../input/digit-recognizer/sample_submission.csv')\n",
    "submission['Label'] = pred\n",
    "submission.head()"
   ]
  },
  {
   "cell_type": "code",
   "execution_count": 47,
   "id": "living-garage",
   "metadata": {
    "execution": {
     "iopub.execute_input": "2021-06-17T15:17:35.673678Z",
     "iopub.status.busy": "2021-06-17T15:17:35.671219Z",
     "iopub.status.idle": "2021-06-17T15:17:35.907464Z",
     "shell.execute_reply": "2021-06-17T15:17:35.907863Z"
    },
    "papermill": {
     "duration": 0.318981,
     "end_time": "2021-06-17T15:17:35.908004",
     "exception": false,
     "start_time": "2021-06-17T15:17:35.589023",
     "status": "completed"
    },
    "tags": []
   },
   "outputs": [
    {
     "data": {
      "image/png": "[encoded data removed]",
      "text/plain": [
       "<Figure size 1440x360 with 5 Axes>"
      ]
     },
     "metadata": {
      "needs_background": "light"
     },
     "output_type": "display_data"
    }
   ],
   "source": [
    "fig, axes = plt.subplots(1,5, figsize=(20,5))\n",
    "\n",
    "for i in range(5):\n",
    "    axes[i].imshow(test_df.iloc[i].values.reshape(28,28), 'gray')\n",
    "    axes[i].axis('off')\n",
    "    axes[i].set_title(\"Predict Lable :\" + str(pred[i]))\n",
    "plt.show()"
   ]
  },
  {
   "cell_type": "code",
   "execution_count": 48,
   "id": "ruled-complement",
   "metadata": {
    "execution": {
     "iopub.execute_input": "2021-06-17T15:17:36.051504Z",
     "iopub.status.busy": "2021-06-17T15:17:36.050970Z",
     "iopub.status.idle": "2021-06-17T15:17:36.214937Z",
     "shell.execute_reply": "2021-06-17T15:17:36.214015Z"
    },
    "papermill": {
     "duration": 0.236965,
     "end_time": "2021-06-17T15:17:36.215090",
     "exception": false,
     "start_time": "2021-06-17T15:17:35.978125",
     "status": "completed"
    },
    "tags": []
   },
   "outputs": [],
   "source": [
    "submission.to_csv('submission.csv', index=False)"
   ]
  },
  {
   "cell_type": "markdown",
   "id": "nutritional-treatment",
   "metadata": {
    "papermill": {
     "duration": 0.067511,
     "end_time": "2021-06-17T15:17:36.352108",
     "exception": false,
     "start_time": "2021-06-17T15:17:36.284597",
     "status": "completed"
    },
    "tags": []
   },
   "source": [
    "##### reference \n",
    "* https://www.kaggle.com/kanncaa1/pytorch-tutorial-for-deep-learning-lovers\n",
    "\n",
    "###  If this notebook is useful for your kaggling, \"UPVOTE\" for it 👀\n",
    "#### THX to Reading My Notebook🌈"
   ]
  }
 ],
 "metadata": {
  "kernelspec": {
   "display_name": "Python 3",
   "language": "python",
   "name": "python3"
  },
  "language_info": {
   "codemirror_mode": {
    "name": "ipython",
    "version": 3
   },
   "file_extension": ".py",
   "mimetype": "text/x-python",
   "name": "python",
   "nbconvert_exporter": "python",
   "pygments_lexer": "ipython3",
   "version": "3.7.10"
  },
  "papermill": {
   "default_parameters": {},
   "duration": 112.79881,
   "end_time": "2021-06-17T15:17:38.705014",
   "environment_variables": {},
   "exception": null,
   "input_path": "__notebook__.ipynb",
   "output_path": "__notebook__.ipynb",
   "parameters": {},
   "start_time": "2021-06-17T15:15:45.906204",
   "version": "2.3.3"
  }
 },
 "nbformat": 4,
 "nbformat_minor": 5
}
